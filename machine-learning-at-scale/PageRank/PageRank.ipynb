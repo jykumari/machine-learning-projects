{
 "cells": [
  {
   "cell_type": "markdown",
   "metadata": {
    "application/vnd.databricks.v1+cell": {
     "inputWidgets": {},
     "nuid": "0effe584-e230-4946-9fce-0bdf57057870",
     "showTitle": false,
     "title": ""
    }
   },
   "source": [
    "# Page Rank\n",
    "__`Implementing Page rank`__\n",
    "\n",
    "Goal is to implement distributed PageRank using some data from Wikipedia.\n",
    "\n",
    "Important concepts covered:  \n",
    "* ... __compare/contrast__ adjacency matrices and lists as representations of graphs for parallel computation.\n",
    "* ... __explain__ the goal of the PageRank algorithm using the concept of an infinite Random Walk.\n",
    "* ... __define__ a Markov chain including the conditions underwhich it will converge.\n",
    "* ... __identify__ what modifications must be made to the web graph inorder to leverage Markov Chains.\n",
    "* ... __implement__ distributed PageRank in Spark.\n",
    "\n"
   ]
  },
  {
   "cell_type": "markdown",
   "metadata": {
    "application/vnd.databricks.v1+cell": {
     "inputWidgets": {},
     "nuid": "99aff6fd-b33f-4eea-b749-a2e30693264e",
     "showTitle": false,
     "title": ""
    }
   },
   "source": [
    "# Notebook Set-Up\n",
    "Run the following cells to confirm setup."
   ]
  },
  {
   "cell_type": "code",
   "execution_count": 0,
   "metadata": {
    "application/vnd.databricks.v1+cell": {
     "inputWidgets": {},
     "nuid": "c7b1a2bf-d888-4ea4-8e26-bef39212cd9b",
     "showTitle": false,
     "title": ""
    }
   },
   "outputs": [
    {
     "data": {
      "text/html": [
       "<style scoped>\n",
       "  .ansiout {\n",
       "    display: block;\n",
       "    unicode-bidi: embed;\n",
       "    white-space: pre-wrap;\n",
       "    word-wrap: break-word;\n",
       "    word-break: break-all;\n",
       "    font-family: \"Source Code Pro\", \"Menlo\", monospace;;\n",
       "    font-size: 13px;\n",
       "    color: #555;\n",
       "    margin-left: 4px;\n",
       "    line-height: 19px;\n",
       "  }\n",
       "</style>\n",
       "<div class=\"ansiout\"></div>"
      ]
     },
     "metadata": {
      "application/vnd.databricks.v1+output": {
       "addedWidgets": {},
       "arguments": {},
       "data": "<div class=\"ansiout\"></div>",
       "datasetInfos": [],
       "metadata": {},
       "removedWidgets": [],
       "type": "html"
      }
     },
     "output_type": "display_data"
    }
   ],
   "source": [
    "# imports\n",
    "import re\n",
    "import ast\n",
    "import time\n",
    "import numpy as np\n",
    "import pandas as pd\n",
    "import seaborn as sns\n",
    "import networkx as nx\n",
    "import matplotlib.pyplot as plt"
   ]
  },
  {
   "cell_type": "code",
   "execution_count": 0,
   "metadata": {
    "application/vnd.databricks.v1+cell": {
     "inputWidgets": {},
     "nuid": "cffab456-6504-446a-a593-3880401b2b72",
     "showTitle": false,
     "title": ""
    }
   },
   "outputs": [
    {
     "data": {
      "text/html": [
       "<style scoped>\n",
       "  .ansiout {\n",
       "    display: block;\n",
       "    unicode-bidi: embed;\n",
       "    white-space: pre-wrap;\n",
       "    word-wrap: break-word;\n",
       "    word-break: break-all;\n",
       "    font-family: \"Source Code Pro\", \"Menlo\", monospace;;\n",
       "    font-size: 13px;\n",
       "    color: #555;\n",
       "    margin-left: 4px;\n",
       "    line-height: 19px;\n",
       "  }\n",
       "</style>\n",
       "<div class=\"ansiout\">Out[2]: 4751198766</div>"
      ]
     },
     "metadata": {
      "application/vnd.databricks.v1+output": {
       "addedWidgets": {},
       "arguments": {},
       "data": "<div class=\"ansiout\">Out[2]: 4751198766</div>",
       "datasetInfos": [],
       "metadata": {},
       "removedWidgets": [],
       "type": "html"
      }
     },
     "output_type": "display_data"
    }
   ],
   "source": [
    "# RUN THIS CELL AS IS. \n",
    "tot = 0\n",
    "DATA_PATH = 'dbfs:/mnt/mids-w261/HW5/'\n",
    "for item in dbutils.fs.ls(DATA_PATH):\n",
    "  tot = tot+item.size\n",
    "tot\n",
    "# ~4.7GB"
   ]
  },
  {
   "cell_type": "code",
   "execution_count": 0,
   "metadata": {
    "application/vnd.databricks.v1+cell": {
     "inputWidgets": {},
     "nuid": "752a5aae-3896-497e-868a-c2a3df6151e1",
     "showTitle": false,
     "title": ""
    }
   },
   "outputs": [
    {
     "data": {
      "text/html": [
       "<style scoped>\n",
       "  .table-result-container {\n",
       "    max-height: 300px;\n",
       "    overflow: auto;\n",
       "  }\n",
       "  table, th, td {\n",
       "    border: 1px solid black;\n",
       "    border-collapse: collapse;\n",
       "  }\n",
       "  th, td {\n",
       "    padding: 5px;\n",
       "  }\n",
       "  th {\n",
       "    text-align: left;\n",
       "  }\n",
       "</style><div class='table-result-container'><table class='table-result'><thead style='background-color: white'><tr><th>path</th><th>name</th><th>size</th></tr></thead><tbody><tr><td>dbfs:/mnt/mids-w261/HW5/all-pages-indexed-in.txt</td><td>all-pages-indexed-in.txt</td><td>2143300687</td></tr><tr><td>dbfs:/mnt/mids-w261/HW5/all-pages-indexed-out.txt</td><td>all-pages-indexed-out.txt</td><td>2090459616</td></tr><tr><td>dbfs:/mnt/mids-w261/HW5/indices.txt</td><td>indices.txt</td><td>517438296</td></tr><tr><td>dbfs:/mnt/mids-w261/HW5/test_graph.txt</td><td>test_graph.txt</td><td>167</td></tr></tbody></table></div>"
      ]
     },
     "metadata": {
      "application/vnd.databricks.v1+output": {
       "addedWidgets": {},
       "aggData": [],
       "aggError": "",
       "aggOverflow": false,
       "aggSchema": [],
       "aggSeriesLimitReached": false,
       "aggType": "",
       "arguments": {},
       "columnCustomDisplayInfos": {},
       "data": [
        [
         "dbfs:/mnt/mids-w261/HW5/all-pages-indexed-in.txt",
         "all-pages-indexed-in.txt",
         2143300687
        ],
        [
         "dbfs:/mnt/mids-w261/HW5/all-pages-indexed-out.txt",
         "all-pages-indexed-out.txt",
         2090459616
        ],
        [
         "dbfs:/mnt/mids-w261/HW5/indices.txt",
         "indices.txt",
         517438296
        ],
        [
         "dbfs:/mnt/mids-w261/HW5/test_graph.txt",
         "test_graph.txt",
         167
        ]
       ],
       "datasetInfos": [],
       "dbfsResultPath": null,
       "isJsonSchema": true,
       "metadata": {},
       "overflow": false,
       "plotOptions": {
        "customPlotOptions": {},
        "displayType": "table",
        "pivotAggregation": null,
        "pivotColumns": [],
        "xColumns": [],
        "yColumns": []
       },
       "removedWidgets": [],
       "schema": [
        {
         "metadata": "{}",
         "name": "path",
         "type": "\"string\""
        },
        {
         "metadata": "{}",
         "name": "name",
         "type": "\"string\""
        },
        {
         "metadata": "{}",
         "name": "size",
         "type": "\"long\""
        }
       ],
       "type": "table"
      }
     },
     "output_type": "display_data"
    }
   ],
   "source": [
    "# RUN THIS CELL AS IS. You should see all-pages-indexed-in.txt, all-pages-indexed-out.txt and indices.txt in the results. If you do not see these, please let an Instructor or TA know.\n",
    "display(dbutils.fs.ls(DATA_PATH))"
   ]
  },
  {
   "cell_type": "code",
   "execution_count": 0,
   "metadata": {
    "application/vnd.databricks.v1+cell": {
     "inputWidgets": {},
     "nuid": "5ce05cf4-4c22-4a4d-87fa-dba08c17e221",
     "showTitle": false,
     "title": ""
    }
   },
   "outputs": [
    {
     "data": {
      "text/html": [
       "<style scoped>\n",
       "  .ansiout {\n",
       "    display: block;\n",
       "    unicode-bidi: embed;\n",
       "    white-space: pre-wrap;\n",
       "    word-wrap: break-word;\n",
       "    word-break: break-all;\n",
       "    font-family: \"Source Code Pro\", \"Menlo\", monospace;;\n",
       "    font-size: 13px;\n",
       "    color: #555;\n",
       "    margin-left: 4px;\n",
       "    line-height: 19px;\n",
       "  }\n",
       "</style>\n",
       "<div class=\"ansiout\">Out[4]: </div>"
      ]
     },
     "metadata": {
      "application/vnd.databricks.v1+output": {
       "addedWidgets": {},
       "arguments": {},
       "data": "<div class=\"ansiout\">Out[4]: </div>",
       "datasetInfos": [],
       "metadata": {},
       "removedWidgets": [],
       "type": "html"
      }
     },
     "output_type": "display_data"
    },
    {
     "data": {
      "text/html": [
       "\n",
       "            <div>\n",
       "                <p><b>SparkSession - hive</b></p>\n",
       "                \n",
       "        <div>\n",
       "            <p><b>SparkContext</b></p>\n",
       "\n",
       "            <p><a href=\"/?o=6759024569771990#setting/sparkui/1022-045056-gx3ax26y/driver-3211556570333959514\">Spark UI</a></p>\n",
       "\n",
       "            <dl>\n",
       "              <dt>Version</dt>\n",
       "                <dd><code>v3.1.2</code></dd>\n",
       "              <dt>Master</dt>\n",
       "                <dd><code>spark://10.0.128.43:7077</code></dd>\n",
       "              <dt>AppName</dt>\n",
       "                <dd><code>Databricks Shell</code></dd>\n",
       "            </dl>\n",
       "        </div>\n",
       "        \n",
       "            </div>\n",
       "        "
      ]
     },
     "metadata": {
      "application/vnd.databricks.v1+output": {
       "addedWidgets": {},
       "arguments": {},
       "data": "\n            <div>\n                <p><b>SparkSession - hive</b></p>\n                \n        <div>\n            <p><b>SparkContext</b></p>\n\n            <p><a href=\"/?o=6759024569771990#setting/sparkui/1022-045056-gx3ax26y/driver-3211556570333959514\">Spark UI</a></p>\n\n            <dl>\n              <dt>Version</dt>\n                <dd><code>v3.1.2</code></dd>\n              <dt>Master</dt>\n                <dd><code>spark://10.0.128.43:7077</code></dd>\n              <dt>AppName</dt>\n                <dd><code>Databricks Shell</code></dd>\n            </dl>\n        </div>\n        \n            </div>\n        ",
       "datasetInfos": [],
       "metadata": {},
       "removedWidgets": [],
       "textData": null,
       "type": "htmlSandbox"
      }
     },
     "output_type": "display_data"
    }
   ],
   "source": [
    "sc = spark.sparkContext\n",
    "spark"
   ]
  },
  {
   "cell_type": "markdown",
   "metadata": {
    "application/vnd.databricks.v1+cell": {
     "inputWidgets": {},
     "nuid": "e775bbc8-f83c-405f-859e-70dc52994def",
     "showTitle": false,
     "title": ""
    }
   },
   "source": [
    "# Question 1: Distributed Graph Processing\n",
    "\n",
    "\n",
    "### Q1 Tasks:\n",
    "\n",
    "* __a) short response:__ Give an example of a dataset that would be appropriate to represent as a graph. What are the nodes/edges in this dataset? Is the graph you describe 'directed' or 'undirected'? What would the average \"in-degree\" of a node mean in the context of your example? \n",
    "\n",
    "* __b) short response:__ Other than their size/scale, what makes graphs uniquely challenging to work with in the map-reduce paradigm? *(__HINT__: Do not respond in terms of any specific algorithm. Think in terms of the nature of the graph datastructure itself).*\n",
    "\n",
    "* __c) short response:__ Briefly describe Dijskra's algorithm (goal/approach). What specific design component makes this approach hard to parallelize?\n",
    "\n",
    "* __d) short response:__ How does parallel breadth-first-search get around the problem that you identified in part `c`? At what expense?"
   ]
  },
  {
   "cell_type": "markdown",
   "metadata": {
    "application/vnd.databricks.v1+cell": {
     "inputWidgets": {},
     "nuid": "5ddf575d-c9d8-4228-bd60-9300256ec27d",
     "showTitle": false,
     "title": ""
    }
   },
   "source": [
    "### Q1 Student Answers:\n",
    "> __a)__ An example of a dataset that would be appropriate to represent as a graph is social or professional networks. The nodes in this dataset would be the members (people) in the network. The edges represent the people's relationships or connections with other people. An `in-degree` of the node corresponds with the summation of all the edges that are incoming to it. The in-Degree is a property only for directed graphs. A graph representing a social network is 'undirected', since people's relationships or connections can be bi-directional. The degree of a node is the number of edges connected to it. The average 'in-degree' of a node in this graph will be the sum of the degree of all nodes divided by the total number of nodes.\n",
    "\n",
    "> __b)__ Graphs are uniquely challenging to work with in a map-reduce paradigm because graph in general needs to be traversed sequentially and traversal paths propagated for statelessness and distributed computing. Graphs can be represented as a collection of key-value pairs where the key represents a node and the value as the adjacent nodes as an iterable. To represent a graph traversal all previous propagations are needed to establish actual propagation path. Records of nodes with 'frontier' status needs to be emitted at each step to maintain statelessness. Otherwise, the data structures and global state of a graph has to be maintained in memory to process the data using a map-reduce framework which is not typically feasible.  \n",
    "\n",
    "> __c)__ Dijkstra's algorithm is a single-source shortest path search algorithm. This can be implemented on a single computer quite efficiently using stateful and mutable data structures like a priority queue or heap to maintain a global priority queue of nodes with priorities equal to their distance from the source node. After each iteration, processes the node with the shortest distance and updates the distance to all reachable nodes. In Python, this is done using functions from the heapq library applied to an initialized empty list. Due to the stateful and mutable nature of the global priority queue as a heap, Dijkstra's algorithm is not a candidate for parallel and distributed computing. \n",
    "\n",
    "\n",
    "> __d)__ Parallel breadth-first-search algorithm is an iterative process where each iteration represents a map-reduce job. It gets around the problem identified in part 'c' by using FIFO instead of a priority queue. A node in the 'frontier' using this approach is mapped independently for each degree of separation from the origin node. If there are n nodes in the frontier, the job can be divided into n independent tasks for an iteration and can be processed in parallel. However, parallel breadth-first-search requires multiple iterations to process all nodes."
   ]
  },
  {
   "cell_type": "markdown",
   "metadata": {
    "application/vnd.databricks.v1+cell": {
     "inputWidgets": {},
     "nuid": "8fb300e8-c47d-4887-9d62-5b05e809d477",
     "showTitle": false,
     "title": ""
    }
   },
   "source": [
    "# Question 2: Representing Graphs \n",
    "\n",
    "In class you saw examples of adjacency matrix and adjacency list representations of graphs. These data structures were probably familiar from HW3, though we hadn't before talked about them in the context of graphs. In this question we'll discuss some of the tradeoffs associated with these representations. __`NOTE:`__ We'll use the graph from Figure 5.1 in Lin & Dyer as a toy example. For convenience in the code below we'll label the nodes `A`, `B`, `C`, `D`, and `E` instead of $n_1$, $n_2$, etc but otherwise you should be able to follow along & check our answers against those in the text.\n",
    "\n",
    "\n",
    "<img src=\"https://github.com/kyleiwaniec/w261_assets/blob/master/images/HW5/Lin-Dyer-graph-Q1.png?raw=true\" width=50%>\n",
    "\n",
    "### Q2 Tasks:\n",
    "\n",
    "* __a) short response:__ Relatively speaking, is the graph you described in Figure 5.1 in Lin & Dyer \"sparse\" or \"dense\"?  Explain how sparsity/density impacts the adjacency matrix and adjacency list representations of a graph.\n",
    "\n",
    "* __b) short response:__ Run the provided code to create and plot our toy graph. Is this graph directed or undirected? Explain how the adjacency matrices for directed graphs will differ from those of undirected graphs.\n",
    "\n",
    "* __c) code:__ Fill in the missing code to complete the function `get_adj_matr()`.\n",
    "\n",
    "* __d) code:__ Fill in the missing code to complete the function `get_adj_list()`."
   ]
  },
  {
   "cell_type": "markdown",
   "metadata": {
    "application/vnd.databricks.v1+cell": {
     "inputWidgets": {},
     "nuid": "6fc2815b-9e04-4a6b-9957-87c0eb28a6ea",
     "showTitle": false,
     "title": ""
    }
   },
   "source": [
    "### Q2 Student Answers:\n",
    "> __a)__ The graph represented here is sparse as it has a lot of zeroes. Sparsity impacts the adjacency matrix in a way that it requires more space due to its sparse nature. As a result, most computational implementations of graph algorithms operate over adjacency lists, in which a node is associated with neighbors that can be reached via outgoing edges. However, there are certain graph operations that are easier on adjaceny matrix than on adjacency list. \n",
    "> Sparsity is represented in adjacency matrix but it is not represented in adjacency list.\n",
    "\n",
    "> __b)__ The toy graph is a directed graph. The adjacency matrices for directed graph will be more sparse than the undirected graph."
   ]
  },
  {
   "cell_type": "code",
   "execution_count": 0,
   "metadata": {
    "application/vnd.databricks.v1+cell": {
     "inputWidgets": {},
     "nuid": "a94415c2-c114-4dda-81a8-8af826b03a91",
     "showTitle": false,
     "title": ""
    }
   },
   "outputs": [
    {
     "data": {
      "text/html": [
       "<style scoped>\n",
       "  .ansiout {\n",
       "    display: block;\n",
       "    unicode-bidi: embed;\n",
       "    white-space: pre-wrap;\n",
       "    word-wrap: break-word;\n",
       "    word-break: break-all;\n",
       "    font-family: \"Source Code Pro\", \"Menlo\", monospace;;\n",
       "    font-size: 13px;\n",
       "    color: #555;\n",
       "    margin-left: 4px;\n",
       "    line-height: 19px;\n",
       "  }\n",
       "</style>\n",
       "<div class=\"ansiout\"></div>"
      ]
     },
     "metadata": {
      "application/vnd.databricks.v1+output": {
       "addedWidgets": {},
       "arguments": {},
       "data": "<div class=\"ansiout\"></div>",
       "datasetInfos": [],
       "metadata": {},
       "removedWidgets": [],
       "type": "html"
      }
     },
     "output_type": "display_data"
    }
   ],
   "source": [
    "# part a - a graph is just a list of nodes and edges (RUN THIS CELL AS IS)\n",
    "TOY_GRAPH = {'nodes':['A', 'B', 'C', 'D', 'E'],\n",
    "             'edges':[('A', 'B'), ('A', 'D'), ('B', 'C'), ('B', 'E'), ('C', 'D'), \n",
    "                      ('D', 'E'), ('E', 'A'),('E', 'B'), ('E', 'C')]}"
   ]
  },
  {
   "cell_type": "code",
   "execution_count": 0,
   "metadata": {
    "application/vnd.databricks.v1+cell": {
     "inputWidgets": {},
     "nuid": "e1f57952-e6d0-4db1-ae0c-c29afabc334f",
     "showTitle": false,
     "title": ""
    }
   },
   "outputs": [
    {
     "data": {
      "image/png": "[encoded data removed]"
     },
     "metadata": {
      "application/vnd.databricks.v1+output": {
       "addedWidgets": {},
       "arguments": {},
       "data": "data:image/png;base64,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",
       "datasetInfos": [],
       "metadata": {
        "imageDimensions": {
         "height": 302,
         "width": 446
        }
       },
       "removedWidgets": [],
       "type": "image"
      },
      "image/png": {
       "height": 302,
       "width": 446
      }
     },
     "output_type": "display_data"
    }
   ],
   "source": [
    "# part a - simple visualization of our toy graph using nx (RUN THIS CELL AS IS)\n",
    "G = nx.DiGraph()\n",
    "G.add_nodes_from(TOY_GRAPH['nodes'])\n",
    "G.add_edges_from(TOY_GRAPH['edges'])\n",
    "display(nx.draw(G, pos=nx.circular_layout(G), with_labels=True, alpha = 0.5))"
   ]
  },
  {
   "cell_type": "code",
   "execution_count": 0,
   "metadata": {
    "application/vnd.databricks.v1+cell": {
     "inputWidgets": {},
     "nuid": "71f8e273-1fef-4f41-8252-8b4b712e8489",
     "showTitle": false,
     "title": ""
    }
   },
   "outputs": [
    {
     "data": {
      "text/html": [
       "<style scoped>\n",
       "  .ansiout {\n",
       "    display: block;\n",
       "    unicode-bidi: embed;\n",
       "    white-space: pre-wrap;\n",
       "    word-wrap: break-word;\n",
       "    word-break: break-all;\n",
       "    font-family: \"Source Code Pro\", \"Menlo\", monospace;;\n",
       "    font-size: 13px;\n",
       "    color: #555;\n",
       "    margin-left: 4px;\n",
       "    line-height: 19px;\n",
       "  }\n",
       "</style>\n",
       "<div class=\"ansiout\"></div>"
      ]
     },
     "metadata": {
      "application/vnd.databricks.v1+output": {
       "addedWidgets": {},
       "arguments": {},
       "data": "<div class=\"ansiout\"></div>",
       "datasetInfos": [],
       "metadata": {},
       "removedWidgets": [],
       "type": "html"
      }
     },
     "output_type": "display_data"
    }
   ],
   "source": [
    "# part c - adjacency matrix function\n",
    "def get_adj_matr(graph):\n",
    "    \"\"\"\n",
    "    Function to create an adjacency matrix representation of a graph.\n",
    "    arg:\n",
    "        graph - (dict) of 'nodes' : [], 'edges' : []\n",
    "    returns:\n",
    "        pd.DataFrame with entry i,j representing an edge from node i to node j\n",
    "    \"\"\"\n",
    "    n = len(graph['nodes'])\n",
    "    adj_matr = pd.DataFrame(0, columns = graph['nodes'], index = graph['nodes'])\n",
    "    ############### YOUR CODE HERE ##################\n",
    "    for node in graph['nodes']:\n",
    "      for edge in graph['edges']:\n",
    "        if node == edge[0]: \n",
    "          adj_matr[edge[1]][edge[0]] = 1\n",
    "    ############### (END) YOUR CODE #################\n",
    "    return adj_matr"
   ]
  },
  {
   "cell_type": "code",
   "execution_count": 0,
   "metadata": {
    "application/vnd.databricks.v1+cell": {
     "inputWidgets": {},
     "nuid": "a1c6db84-d4df-4835-9a7f-185f7d3d1231",
     "showTitle": false,
     "title": ""
    }
   },
   "outputs": [
    {
     "data": {
      "text/html": [
       "<style scoped>\n",
       "  .ansiout {\n",
       "    display: block;\n",
       "    unicode-bidi: embed;\n",
       "    white-space: pre-wrap;\n",
       "    word-wrap: break-word;\n",
       "    word-break: break-all;\n",
       "    font-family: \"Source Code Pro\", \"Menlo\", monospace;;\n",
       "    font-size: 13px;\n",
       "    color: #555;\n",
       "    margin-left: 4px;\n",
       "    line-height: 19px;\n",
       "  }\n",
       "</style>\n",
       "<div class=\"ansiout\">   A  B  C  D  E\n",
       "A  0  1  0  1  0\n",
       "B  0  0  1  0  1\n",
       "C  0  0  0  1  0\n",
       "D  0  0  0  0  1\n",
       "E  1  1  1  0  0\n",
       "</div>"
      ]
     },
     "metadata": {
      "application/vnd.databricks.v1+output": {
       "addedWidgets": {},
       "arguments": {},
       "data": "<div class=\"ansiout\">   A  B  C  D  E\nA  0  1  0  1  0\nB  0  0  1  0  1\nC  0  0  0  1  0\nD  0  0  0  0  1\nE  1  1  1  0  0\n</div>",
       "datasetInfos": [],
       "metadata": {},
       "removedWidgets": [],
       "type": "html"
      }
     },
     "output_type": "display_data"
    }
   ],
   "source": [
    "# part c - take a look (RUN THIS CELL AS IS)\n",
    "TOY_ADJ_MATR = get_adj_matr(TOY_GRAPH)\n",
    "print(TOY_ADJ_MATR)"
   ]
  },
  {
   "cell_type": "code",
   "execution_count": 0,
   "metadata": {
    "application/vnd.databricks.v1+cell": {
     "inputWidgets": {},
     "nuid": "1164091e-45c2-49b3-9231-279881ab8a55",
     "showTitle": false,
     "title": ""
    }
   },
   "outputs": [
    {
     "data": {
      "text/html": [
       "<style scoped>\n",
       "  .ansiout {\n",
       "    display: block;\n",
       "    unicode-bidi: embed;\n",
       "    white-space: pre-wrap;\n",
       "    word-wrap: break-word;\n",
       "    word-break: break-all;\n",
       "    font-family: \"Source Code Pro\", \"Menlo\", monospace;;\n",
       "    font-size: 13px;\n",
       "    color: #555;\n",
       "    margin-left: 4px;\n",
       "    line-height: 19px;\n",
       "  }\n",
       "</style>\n",
       "<div class=\"ansiout\"></div>"
      ]
     },
     "metadata": {
      "application/vnd.databricks.v1+output": {
       "addedWidgets": {},
       "arguments": {},
       "data": "<div class=\"ansiout\"></div>",
       "datasetInfos": [],
       "metadata": {},
       "removedWidgets": [],
       "type": "html"
      }
     },
     "output_type": "display_data"
    }
   ],
   "source": [
    "# part d - adjacency list function\n",
    "def get_adj_list(graph):\n",
    "    \"\"\"\n",
    "    Function to create an adjacency list representation of a graph.\n",
    "    arg:\n",
    "        graph - (dict) of 'nodes' : [], 'edges' : []\n",
    "    returns:\n",
    "        dictionary of the form {node : [list of edges]}\n",
    "    \"\"\"\n",
    "    adj_list = {node: [] for node in graph['nodes']}\n",
    "    ############### YOUR CODE HERE ##################\n",
    "\n",
    "    for node in graph['nodes']:\n",
    "      if node not in graph:\n",
    "        adj_list[node] = []\n",
    "        \n",
    "      for edge in graph['edges']:\n",
    "        if edge[0] == node:\n",
    "           adj_list[node].append(edge[1])\n",
    "    \n",
    "    ############### (END) YOUR CODE #################\n",
    "    return adj_list"
   ]
  },
  {
   "cell_type": "code",
   "execution_count": 0,
   "metadata": {
    "application/vnd.databricks.v1+cell": {
     "inputWidgets": {},
     "nuid": "5562cd99-8ea7-4c8f-b85b-0823abc46bbf",
     "showTitle": false,
     "title": ""
    }
   },
   "outputs": [
    {
     "data": {
      "text/html": [
       "<style scoped>\n",
       "  .ansiout {\n",
       "    display: block;\n",
       "    unicode-bidi: embed;\n",
       "    white-space: pre-wrap;\n",
       "    word-wrap: break-word;\n",
       "    word-break: break-all;\n",
       "    font-family: \"Source Code Pro\", \"Menlo\", monospace;;\n",
       "    font-size: 13px;\n",
       "    color: #555;\n",
       "    margin-left: 4px;\n",
       "    line-height: 19px;\n",
       "  }\n",
       "</style>\n",
       "<div class=\"ansiout\">{&#39;A&#39;: [&#39;B&#39;, &#39;D&#39;], &#39;B&#39;: [&#39;C&#39;, &#39;E&#39;], &#39;C&#39;: [&#39;D&#39;], &#39;D&#39;: [&#39;E&#39;], &#39;E&#39;: [&#39;A&#39;, &#39;B&#39;, &#39;C&#39;]}\n",
       "</div>"
      ]
     },
     "metadata": {
      "application/vnd.databricks.v1+output": {
       "addedWidgets": {},
       "arguments": {},
       "data": "<div class=\"ansiout\">{&#39;A&#39;: [&#39;B&#39;, &#39;D&#39;], &#39;B&#39;: [&#39;C&#39;, &#39;E&#39;], &#39;C&#39;: [&#39;D&#39;], &#39;D&#39;: [&#39;E&#39;], &#39;E&#39;: [&#39;A&#39;, &#39;B&#39;, &#39;C&#39;]}\n</div>",
       "datasetInfos": [],
       "metadata": {},
       "removedWidgets": [],
       "type": "html"
      }
     },
     "output_type": "display_data"
    }
   ],
   "source": [
    "# part d - take a look (RUN THIS CELL AS IS)\n",
    "TOY_ADJ_LIST = get_adj_list(TOY_GRAPH)\n",
    "print(TOY_ADJ_LIST)"
   ]
  },
  {
   "cell_type": "markdown",
   "metadata": {
    "application/vnd.databricks.v1+cell": {
     "inputWidgets": {},
     "nuid": "2ce119d6-90ca-4141-9650-80e822f08219",
     "showTitle": false,
     "title": ""
    }
   },
   "source": [
    "# Question 3: Markov Chains and Random Walks\n",
    "\n",
    "As you know from your readings and in class discussions, the PageRank algorithm takes advantage of the machinery of Markov Chains to compute the relative importance of a webpage using the hyperlink structure of the web (we'll refer to this as the 'web-graph'). A Markov Chain is a discrete-time stochastic process. The stochastic matrix has a principal left eigen vector corresponding to its largest eigen value which is one. A Markov chain's probability distribution over its states may be viewed as a probability vector. This steady state probability for a state is the PageRank of the corresponding webpage. In this question we'll briefly discuss a few concepts that are key to understanding the math behind PageRank. \n",
    "\n",
    "### Q3 Tasks:\n",
    "\n",
    "* __a) short response:__ It is common to explain PageRank using the analogy of a web surfer who clicks on links at random ad infinitum. In the context of this hypothetical infinite random walk, what does the PageRank metric measure/represent?\n",
    "\n",
    "* __b) short response:__ What is the \"Markov Property\" and what does it mean in the context of PageRank?\n",
    "\n",
    "* __c) short response:__ A Markov chain consists of $n$ states plus an $n\\times n$ transition probability matrix. In the context of PageRank & a random walk over the WebGraph what are the $n$ states? what implications does this have about the size of the transition matrix?\n",
    "\n",
    "* __d) code + short response:__ What is a \"right stochastic matrix\"? Fill in the code below to compute the transition matrix for the toy graph from question 2. [__`HINT:`__ _It should be right stochastic. Using numpy this calculation can be done in one line of code._]\n",
    "\n",
    "* __e) code + short response:__ To compute the stable state distribution (i.e. PageRank) of a \"nice\" graph we can apply the power iteration method - repeatedly multiplying the transition matrix by itself, until the values no longer change. Apply this strategy to your transition matrix from `part d` to find the PageRank for each of the pages in your toy graph. Your code should print the results of each iteration. How many iterations does it take to converge? Which node is most 'central' (i.e. highest ranked)? Does this match your intuition? \n",
    "    * __`NOTE 1:`__ _this is a naive approach, we'll unpack what it means to be \"nice\" in the next question_.\n",
    "    * __`NOTE 2:`__ _no need to implement a stopping criteria, visual inspection should suffice_."
   ]
  },
  {
   "cell_type": "markdown",
   "metadata": {
    "application/vnd.databricks.v1+cell": {
     "inputWidgets": {},
     "nuid": "623cad88-8151-446e-9e72-ca4fae7964b8",
     "showTitle": false,
     "title": ""
    }
   },
   "source": [
    "### Q3 Student Answers:\n",
    "> __a)__ PageRank represents the relative importance of a web page in a hyperlinked network of webpages that comprise the world wide web. It measures the visit rate over an extended period of time (think \"infinite time\") and assigns a numerical weighting to each web page. \n",
    "\n",
    "> __b)__ Markov property refers to the memoryless characteristic of a stochastic process and states that the conditional probability distribution for the system at the next step depends only on the current state of the system, and not on the sequence of events that preceded it. <br> \n",
    "> Markov processes give us a principled approach to calculate the PageRank of each web page; PageRank is the steady state probability distribution of the Markov process underlying the random-surfer model of web navigation. \n",
    "\n",
    "> __c)__ In the context of PageRank & a random walk over the WebGraph, the $n$ states are the number of crawled web pages that are hyperlinked to form the WebGraph. These are the nodes that are traversed during a random walk while transitioning from one page to another. The transition matrix, a 'n x n' square matrix with n states, provides the probabilities of transition from one node or web page to another. Based on some studies done earlier this year, the world wide web has around 17.5 quadrillion different pages with Google indexing 35 trillion web pages. This will make the transition matrix extremely large. Most web pages are hyperlinked with a small number of pages, making the transition matrix a highly sparse matrix.      \n",
    "\n",
    "> __d)__ A stochastic matrix is used to describe the transitions in a Markov chain and represented by a square matrix. A 'right stochastic matrix' is a square matrix of non-negative real numbers, with each row summing to 1.\n",
    "\n",
    "> __e)__ The transition matrix converges after 4 iterations with the data as follows:\n",
    "> Step 4: [0.10526316 0.15789474 0.18421053 0.23684211 0.31578947]\n",
    "> \n",
    "> Node 'E' is the most 'central' and has the highest Rank. This matches our intuition as it has the highest number (2 in, 2 out) of edges connected to other nodes."
   ]
  },
  {
   "cell_type": "code",
   "execution_count": 0,
   "metadata": {
    "application/vnd.databricks.v1+cell": {
     "inputWidgets": {},
     "nuid": "80fde4aa-f1b3-4a1b-a1d9-fcc54a1191d6",
     "showTitle": false,
     "title": ""
    }
   },
   "outputs": [
    {
     "data": {
      "text/html": [
       "<style scoped>\n",
       "  .ansiout {\n",
       "    display: block;\n",
       "    unicode-bidi: embed;\n",
       "    white-space: pre-wrap;\n",
       "    word-wrap: break-word;\n",
       "    word-break: break-all;\n",
       "    font-family: \"Source Code Pro\", \"Menlo\", monospace;;\n",
       "    font-size: 13px;\n",
       "    color: #555;\n",
       "    margin-left: 4px;\n",
       "    line-height: 19px;\n",
       "  }\n",
       "</style>\n",
       "<div class=\"ansiout\">Out[11]: </div>"
      ]
     },
     "metadata": {
      "application/vnd.databricks.v1+output": {
       "addedWidgets": {},
       "arguments": {},
       "data": "<div class=\"ansiout\">Out[11]: </div>",
       "datasetInfos": [],
       "metadata": {},
       "removedWidgets": [],
       "type": "html"
      }
     },
     "output_type": "display_data"
    },
    {
     "data": {
      "text/html": [
       "<div>\n",
       "<style scoped>\n",
       "    .dataframe tbody tr th:only-of-type {\n",
       "        vertical-align: middle;\n",
       "    }\n",
       "\n",
       "    .dataframe tbody tr th {\n",
       "        vertical-align: top;\n",
       "    }\n",
       "\n",
       "    .dataframe thead th {\n",
       "        text-align: right;\n",
       "    }\n",
       "</style>\n",
       "<table border=\"1\" class=\"dataframe\">\n",
       "  <thead>\n",
       "    <tr style=\"text-align: right;\">\n",
       "      <th></th>\n",
       "      <th>A</th>\n",
       "      <th>B</th>\n",
       "      <th>C</th>\n",
       "      <th>D</th>\n",
       "      <th>E</th>\n",
       "    </tr>\n",
       "  </thead>\n",
       "  <tbody>\n",
       "    <tr>\n",
       "      <th>A</th>\n",
       "      <td>0</td>\n",
       "      <td>1</td>\n",
       "      <td>0</td>\n",
       "      <td>1</td>\n",
       "      <td>0</td>\n",
       "    </tr>\n",
       "    <tr>\n",
       "      <th>B</th>\n",
       "      <td>0</td>\n",
       "      <td>0</td>\n",
       "      <td>1</td>\n",
       "      <td>0</td>\n",
       "      <td>1</td>\n",
       "    </tr>\n",
       "    <tr>\n",
       "      <th>C</th>\n",
       "      <td>0</td>\n",
       "      <td>0</td>\n",
       "      <td>0</td>\n",
       "      <td>1</td>\n",
       "      <td>0</td>\n",
       "    </tr>\n",
       "    <tr>\n",
       "      <th>D</th>\n",
       "      <td>0</td>\n",
       "      <td>0</td>\n",
       "      <td>0</td>\n",
       "      <td>0</td>\n",
       "      <td>1</td>\n",
       "    </tr>\n",
       "    <tr>\n",
       "      <th>E</th>\n",
       "      <td>1</td>\n",
       "      <td>1</td>\n",
       "      <td>1</td>\n",
       "      <td>0</td>\n",
       "      <td>0</td>\n",
       "    </tr>\n",
       "  </tbody>\n",
       "</table>\n",
       "</div>"
      ]
     },
     "metadata": {
      "application/vnd.databricks.v1+output": {
       "addedWidgets": {},
       "arguments": {},
       "data": "<div>\n<style scoped>\n    .dataframe tbody tr th:only-of-type {\n        vertical-align: middle;\n    }\n\n    .dataframe tbody tr th {\n        vertical-align: top;\n    }\n\n    .dataframe thead th {\n        text-align: right;\n    }\n</style>\n<table border=\"1\" class=\"dataframe\">\n  <thead>\n    <tr style=\"text-align: right;\">\n      <th></th>\n      <th>A</th>\n      <th>B</th>\n      <th>C</th>\n      <th>D</th>\n      <th>E</th>\n    </tr>\n  </thead>\n  <tbody>\n    <tr>\n      <th>A</th>\n      <td>0</td>\n      <td>1</td>\n      <td>0</td>\n      <td>1</td>\n      <td>0</td>\n    </tr>\n    <tr>\n      <th>B</th>\n      <td>0</td>\n      <td>0</td>\n      <td>1</td>\n      <td>0</td>\n      <td>1</td>\n    </tr>\n    <tr>\n      <th>C</th>\n      <td>0</td>\n      <td>0</td>\n      <td>0</td>\n      <td>1</td>\n      <td>0</td>\n    </tr>\n    <tr>\n      <th>D</th>\n      <td>0</td>\n      <td>0</td>\n      <td>0</td>\n      <td>0</td>\n      <td>1</td>\n    </tr>\n    <tr>\n      <th>E</th>\n      <td>1</td>\n      <td>1</td>\n      <td>1</td>\n      <td>0</td>\n      <td>0</td>\n    </tr>\n  </tbody>\n</table>\n</div>",
       "datasetInfos": [],
       "metadata": {},
       "removedWidgets": [],
       "textData": null,
       "type": "htmlSandbox"
      }
     },
     "output_type": "display_data"
    }
   ],
   "source": [
    "# part d - recall what the adjacency matrix looked like (RUN THIS CELL AS IS)\n",
    "TOY_ADJ_MATR"
   ]
  },
  {
   "cell_type": "code",
   "execution_count": 0,
   "metadata": {
    "application/vnd.databricks.v1+cell": {
     "inputWidgets": {},
     "nuid": "f6d8ab39-e515-4d2e-98ae-9fea71832725",
     "showTitle": false,
     "title": ""
    }
   },
   "outputs": [
    {
     "data": {
      "text/html": [
       "<style scoped>\n",
       "  .ansiout {\n",
       "    display: block;\n",
       "    unicode-bidi: embed;\n",
       "    white-space: pre-wrap;\n",
       "    word-wrap: break-word;\n",
       "    word-break: break-all;\n",
       "    font-family: \"Source Code Pro\", \"Menlo\", monospace;;\n",
       "    font-size: 13px;\n",
       "    color: #555;\n",
       "    margin-left: 4px;\n",
       "    line-height: 19px;\n",
       "  }\n",
       "</style>\n",
       "<div class=\"ansiout\">          A         B         C    D    E\n",
       "A  0.000000  0.500000  0.000000  0.5  0.0\n",
       "B  0.000000  0.000000  0.500000  0.0  0.5\n",
       "C  0.000000  0.000000  0.000000  1.0  0.0\n",
       "D  0.000000  0.000000  0.000000  0.0  1.0\n",
       "E  0.333333  0.333333  0.333333  0.0  0.0\n",
       "</div>"
      ]
     },
     "metadata": {
      "application/vnd.databricks.v1+output": {
       "addedWidgets": {},
       "arguments": {},
       "data": "<div class=\"ansiout\">          A         B         C    D    E\nA  0.000000  0.500000  0.000000  0.5  0.0\nB  0.000000  0.000000  0.500000  0.0  0.5\nC  0.000000  0.000000  0.000000  1.0  0.0\nD  0.000000  0.000000  0.000000  0.0  1.0\nE  0.333333  0.333333  0.333333  0.0  0.0\n</div>",
       "datasetInfos": [],
       "metadata": {},
       "removedWidgets": [],
       "type": "html"
      }
     },
     "output_type": "display_data"
    }
   ],
   "source": [
    "# part d - use TOY_ADJ_MATR to create a right stochastic transition matrix for this graph\n",
    "################ YOUR CODE HERE #################\n",
    "#transition_matrix = None # replace with your code\n",
    "transition_matrix = TOY_ADJ_MATR/np.sum(TOY_ADJ_MATR, axis=1).values.reshape(-1,1)\n",
    "################ (END) YOUR CODE #################\n",
    "\n",
    "print(transition_matrix)"
   ]
  },
  {
   "cell_type": "code",
   "execution_count": 0,
   "metadata": {
    "application/vnd.databricks.v1+cell": {
     "inputWidgets": {},
     "nuid": "a73ea3d8-9aaf-4f15-9ca6-25d0a3922842",
     "showTitle": false,
     "title": ""
    }
   },
   "outputs": [
    {
     "data": {
      "text/html": [
       "<style scoped>\n",
       "  .ansiout {\n",
       "    display: block;\n",
       "    unicode-bidi: embed;\n",
       "    white-space: pre-wrap;\n",
       "    word-wrap: break-word;\n",
       "    word-break: break-all;\n",
       "    font-family: \"Source Code Pro\", \"Menlo\", monospace;;\n",
       "    font-size: 13px;\n",
       "    color: #555;\n",
       "    margin-left: 4px;\n",
       "    line-height: 19px;\n",
       "  }\n",
       "</style>\n",
       "<div class=\"ansiout\"></div>"
      ]
     },
     "metadata": {
      "application/vnd.databricks.v1+output": {
       "addedWidgets": {},
       "arguments": {},
       "data": "<div class=\"ansiout\"></div>",
       "datasetInfos": [],
       "metadata": {},
       "removedWidgets": [],
       "type": "html"
      }
     },
     "output_type": "display_data"
    }
   ],
   "source": [
    "# part e - compute the steady state using the transition matrix \n",
    "def power_iteration(xInit, tMatrix, nIter, verbose = True):\n",
    "    \"\"\"\n",
    "    Function to perform the specified number of power iteration steps to \n",
    "    compute the steady state probability distribution for the given\n",
    "    transition matrix.\n",
    "    \n",
    "    Args:\n",
    "        xInit     - (n x 1 array) representing inial state\n",
    "        tMatrix  - (n x n array) transition probabilities\n",
    "        nIter     - (int) number of iterations\n",
    "    Returns:\n",
    "        state_vector - (n x 1 array) representing probability \n",
    "                        distribution over states after nSteps.\n",
    "    \n",
    "    NOTE: if the 'verbose' flag is on, your function should print the step\n",
    "    number and the current matrix at each iteration.\n",
    "    \"\"\"\n",
    "    state_vector = None\n",
    "    ################ YOUR CODE HERE #################\n",
    "    state_vector = xInit\n",
    "    for ix in range(nIter):    \n",
    "        \n",
    "#         state_vector = state_vector@tMatrix\n",
    "        tMatrix = tMatrix.dot(tMatrix)\n",
    "        state_vector = state_vector.dot(tMatrix)\n",
    "    \n",
    "        if verbose:\n",
    "            print(f'Iteration {ix}: {state_vector}')\n",
    "    \n",
    "    ################ (END) YOUR CODE #################\n",
    "    return state_vector"
   ]
  },
  {
   "cell_type": "code",
   "execution_count": 0,
   "metadata": {
    "application/vnd.databricks.v1+cell": {
     "inputWidgets": {},
     "nuid": "777c40dd-04dd-4aa7-8f93-e2f9c2a4250b",
     "showTitle": false,
     "title": ""
    }
   },
   "outputs": [
    {
     "data": {
      "text/html": [
       "<style scoped>\n",
       "  .ansiout {\n",
       "    display: block;\n",
       "    unicode-bidi: embed;\n",
       "    white-space: pre-wrap;\n",
       "    word-wrap: break-word;\n",
       "    word-break: break-all;\n",
       "    font-family: \"Source Code Pro\", \"Menlo\", monospace;;\n",
       "    font-size: 13px;\n",
       "    color: #555;\n",
       "    margin-left: 4px;\n",
       "    line-height: 19px;\n",
       "  }\n",
       "</style>\n",
       "<div class=\"ansiout\">Iteration 0: [0.   0.   0.25 0.   0.75]\n",
       "Iteration 1: [0.14583333 0.20833333 0.20833333 0.25       0.1875    ]\n",
       "Iteration 2: [0.10746206 0.15780928 0.18477929 0.23268711 0.31726225]\n",
       "Iteration 3: [0.10525876 0.15789576 0.18420955 0.23685181 0.31578413]\n",
       "Iteration 4: [0.10526316 0.15789474 0.18421053 0.23684211 0.31578947]\n",
       "Iteration 5: [0.10526316 0.15789474 0.18421053 0.23684211 0.31578947]\n",
       "Iteration 6: [0.10526316 0.15789474 0.18421053 0.23684211 0.31578947]\n",
       "Iteration 7: [0.10526316 0.15789474 0.18421053 0.23684211 0.31578947]\n",
       "Iteration 8: [0.10526316 0.15789474 0.18421053 0.23684211 0.31578947]\n",
       "Iteration 9: [0.10526316 0.15789474 0.18421053 0.23684211 0.31578947]\n",
       "</div>"
      ]
     },
     "metadata": {
      "application/vnd.databricks.v1+output": {
       "addedWidgets": {},
       "arguments": {},
       "data": "<div class=\"ansiout\">Iteration 0: [0.   0.   0.25 0.   0.75]\nIteration 1: [0.14583333 0.20833333 0.20833333 0.25       0.1875    ]\nIteration 2: [0.10746206 0.15780928 0.18477929 0.23268711 0.31726225]\nIteration 3: [0.10525876 0.15789576 0.18420955 0.23685181 0.31578413]\nIteration 4: [0.10526316 0.15789474 0.18421053 0.23684211 0.31578947]\nIteration 5: [0.10526316 0.15789474 0.18421053 0.23684211 0.31578947]\nIteration 6: [0.10526316 0.15789474 0.18421053 0.23684211 0.31578947]\nIteration 7: [0.10526316 0.15789474 0.18421053 0.23684211 0.31578947]\nIteration 8: [0.10526316 0.15789474 0.18421053 0.23684211 0.31578947]\nIteration 9: [0.10526316 0.15789474 0.18421053 0.23684211 0.31578947]\n</div>",
       "datasetInfos": [],
       "metadata": {},
       "removedWidgets": [],
       "type": "html"
      }
     },
     "output_type": "display_data"
    }
   ],
   "source": [
    "# part e - run 10 steps of the power_iteration (RUN THIS CELL AS IS)\n",
    "xInit = np.array([1.0, 0, 0, 0, 0]) # note that this initial state will not affect the convergence states\n",
    "states = power_iteration(xInit, transition_matrix, 10, verbose = True)"
   ]
  },
  {
   "cell_type": "markdown",
   "metadata": {
    "application/vnd.databricks.v1+cell": {
     "inputWidgets": {},
     "nuid": "c54df499-3d1a-44c0-82c9-f191110ccca1",
     "showTitle": false,
     "title": ""
    }
   },
   "source": [
    "__`Expected Output for part e:`__  \n",
    ">Steady State Probabilities:\n",
    "```\n",
    "Node A: 0.10526316  \n",
    "Node B: 0.15789474  \n",
    "Node C: 0.18421053  \n",
    "Node D: 0.23684211  \n",
    "Node E: 0.31578947  \n",
    "```"
   ]
  },
  {
   "cell_type": "markdown",
   "metadata": {
    "application/vnd.databricks.v1+cell": {
     "inputWidgets": {},
     "nuid": "fd830dc8-5ae2-440e-a539-1b91ca91b349",
     "showTitle": false,
     "title": ""
    }
   },
   "source": [
    "# Question 4: Page Rank Theory\n",
    "\n",
    "Seems easy right? Unfortunately applying this power iteration method directly to the web-graph actually runs into a few problems. In this question we'll tease apart what we meant by a 'nice graph' in Question 3 and highlight key modifications we'll have to make to the web-graph when performing PageRank. To start, we'll look at what goes wrong when we try to repeat our strategy from question 3 on a 'not nice' graph.\n",
    "\n",
    "__`Additional References:`__ http://pi.math.cornell.edu/~mec/Winter2009/RalucaRemus/Lecture3/lecture3.html\n",
    "\n",
    "### Q4 Tasks:\n",
    "\n",
    "* __a) code + short response:__ Run the provided code to create and plot our 'not nice' graph. Fill in the missing code to compute its transition matrix & run the power iteration method from question 3. What is wrong with what you see? [__`HINT:`__ _there is a visible underlying reason that it isn't converging... try adding up the probabilities in the state vector after each iteration._]\n",
    "\n",
    "* __b) short response:__  Identify the dangling node in this 'not nice' graph and explain how this node causes the problem you described in 'a'. How could we modify the transition matrix after each iteration to prevent this problem?\n",
    "\n",
    "* __c) short response:__ What does it mean for a graph to be irreducible? Is the webgraph naturally irreducible? Explain your reasoning briefly.\n",
    "\n",
    "* __d) short response:__ What does it mean for a graph to be aperiodic? Is the webgraph naturally aperiodic? Explain your reasoning briefly.\n",
    "\n",
    "* __e) short response:__ What modification to the webgraph does PageRank make in order to guarantee aperiodicity and irreducibility? Interpret this modification in terms of our random surfer analogy."
   ]
  },
  {
   "cell_type": "markdown",
   "metadata": {
    "application/vnd.databricks.v1+cell": {
     "inputWidgets": {},
     "nuid": "ca551e99-dca0-4218-95c8-0cfb05052d14",
     "showTitle": false,
     "title": ""
    }
   },
   "source": [
    "### Q4 Student Answers:\n",
    "> __a)__ We find that the probabilities do not converge and each row do not add up to 1 implying that the transition matrix is no longer stochastic.   \n",
    "\n",
    "> __b)__ The Dangling node here is node 'E' because it has no outgoing links. Due to this, the graph doesn't converge. We can use Stochasticity to resolve dangling edges. With dangling nodes, the total PageRank mass will not be conserved, since no key-value pairs will be emitted when a dangling node is encountered in the mappers (missing mass).\n",
    "\n",
    "> __c)__ A graph is irreducible if there is a path from every node to every other node, in other words, it is possible to get to any state from any other state. In a Webgraph, web pages are represented as nodes and links as edges and is not naturally irreducible.\n",
    "\n",
    "> __d)__ A graph is aperiodic if the states are not partitioned into sets such that all state transitions occur cyclically from one set to another i.e., the greatest commom divisor (GCD), of all cycle lengths is 1. Webgraph is not naturally aperiodic.\n",
    "\n",
    "> __e)__ In order to guarantee aperiodicity and irreducibility, the webgraph should be primitive. A primitive matrix is a square nonnegative matrix some power of which is positive. PageRank uses the ability to teleport from a page to another to address aperiodicity and irreducibility. This adds a small probability to each node to teleport to any other node providing the ability to exit from a dangling node. Teleportation takes the probability mass of dangling nodes and distributes it to other nodes allowing the switch from dangling webpages to other pages without a hyperlink."
   ]
  },
  {
   "cell_type": "code",
   "execution_count": 0,
   "metadata": {
    "application/vnd.databricks.v1+cell": {
     "inputWidgets": {},
     "nuid": "081abf9a-afad-41d8-907d-3d9517ea64bb",
     "showTitle": false,
     "title": ""
    }
   },
   "outputs": [
    {
     "data": {
      "text/html": [
       "<style scoped>\n",
       "  .ansiout {\n",
       "    display: block;\n",
       "    unicode-bidi: embed;\n",
       "    white-space: pre-wrap;\n",
       "    word-wrap: break-word;\n",
       "    word-break: break-all;\n",
       "    font-family: \"Source Code Pro\", \"Menlo\", monospace;;\n",
       "    font-size: 13px;\n",
       "    color: #555;\n",
       "    margin-left: 4px;\n",
       "    line-height: 19px;\n",
       "  }\n",
       "</style>\n",
       "<div class=\"ansiout\"></div>"
      ]
     },
     "metadata": {
      "application/vnd.databricks.v1+output": {
       "addedWidgets": {},
       "arguments": {},
       "data": "<div class=\"ansiout\"></div>",
       "datasetInfos": [],
       "metadata": {},
       "removedWidgets": [],
       "type": "html"
      }
     },
     "output_type": "display_data"
    }
   ],
   "source": [
    "# part a - run this code to create a second toy graph (RUN THIS CELL AS IS)\n",
    "TOY2_GRAPH = {'nodes':['A', 'B', 'C', 'D', 'E'],\n",
    "              'edges':[('A', 'B'), ('A', 'C'), ('A', 'D'), ('B', 'D'), \n",
    "                       ('B', 'E'), ('C', 'A'), ('C', 'E'), ('D', 'B')]}"
   ]
  },
  {
   "cell_type": "code",
   "execution_count": 0,
   "metadata": {
    "application/vnd.databricks.v1+cell": {
     "inputWidgets": {},
     "nuid": "e269296e-bc39-49d6-9b9b-61207fe00ec9",
     "showTitle": false,
     "title": ""
    }
   },
   "outputs": [
    {
     "data": {
      "image/png": "[encoded data removed]"
     },
     "metadata": {
      "application/vnd.databricks.v1+output": {
       "addedWidgets": {},
       "arguments": {},
       "data": "data:image/png;base64,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",
       "datasetInfos": [],
       "metadata": {
        "imageDimensions": {
         "height": 302,
         "width": 446
        }
       },
       "removedWidgets": [],
       "type": "image"
      },
      "image/png": {
       "height": 302,
       "width": 446
      }
     },
     "output_type": "display_data"
    }
   ],
   "source": [
    "# part a - simple visualization of our test graph using nx (RUN THIS CELL AS IS)\n",
    "G = nx.DiGraph()\n",
    "G.add_nodes_from(TOY2_GRAPH['nodes'])\n",
    "G.add_edges_from(TOY2_GRAPH['edges'])\n",
    "display(nx.draw(G, pos=nx.circular_layout(G), with_labels=True, alpha = 0.5))"
   ]
  },
  {
   "cell_type": "code",
   "execution_count": 0,
   "metadata": {
    "application/vnd.databricks.v1+cell": {
     "inputWidgets": {},
     "nuid": "7c765136-bfff-4150-babb-2c7a4d5e6956",
     "showTitle": false,
     "title": ""
    }
   },
   "outputs": [
    {
     "data": {
      "text/html": [
       "<style scoped>\n",
       "  .ansiout {\n",
       "    display: block;\n",
       "    unicode-bidi: embed;\n",
       "    white-space: pre-wrap;\n",
       "    word-wrap: break-word;\n",
       "    word-break: break-all;\n",
       "    font-family: \"Source Code Pro\", \"Menlo\", monospace;;\n",
       "    font-size: 13px;\n",
       "    color: #555;\n",
       "    margin-left: 4px;\n",
       "    line-height: 19px;\n",
       "  }\n",
       "</style>\n",
       "<div class=\"ansiout\">     A         B         C         D    E\n",
       "A  0.0  0.333333  0.333333  0.333333  0.0\n",
       "B  0.0  0.000000  0.000000  0.500000  0.5\n",
       "C  0.5  0.000000  0.000000  0.000000  0.5\n",
       "D  0.0  1.000000  0.000000  0.000000  0.0\n",
       "E  NaN       NaN       NaN       NaN  NaN\n",
       "The final states are: [nan nan nan nan nan]\n",
       "</div>"
      ]
     },
     "metadata": {
      "application/vnd.databricks.v1+output": {
       "addedWidgets": {},
       "arguments": {},
       "data": "<div class=\"ansiout\">     A         B         C         D    E\nA  0.0  0.333333  0.333333  0.333333  0.0\nB  0.0  0.000000  0.000000  0.500000  0.5\nC  0.5  0.000000  0.000000  0.000000  0.5\nD  0.0  1.000000  0.000000  0.000000  0.0\nE  NaN       NaN       NaN       NaN  NaN\nThe final states are: [nan nan nan nan nan]\n</div>",
       "datasetInfos": [],
       "metadata": {},
       "removedWidgets": [],
       "type": "html"
      }
     },
     "output_type": "display_data"
    }
   ],
   "source": [
    "# part a - run 10 steps of the power iteration method here\n",
    "# HINT: feel free to use the functions get_adj_matr() and power_iteration() you wrote above\n",
    "################ YOUR CODE HERE #################\n",
    "\n",
    "# Get adjacency matrix using the functions get_adj_matr()\n",
    "TOY2_ADJ_MATR = get_adj_matr(TOY2_GRAPH)\n",
    "\n",
    "# Calculate the transition matrix\n",
    "tMatrix2 = TOY2_ADJ_MATR/np.sum(TOY2_ADJ_MATR.to_numpy(), axis=1, keepdims=True)\n",
    "print(tMatrix2)\n",
    "\n",
    "# Calculate the state using the function power_iteration()\n",
    "states = power_iteration(xInit, tMatrix2, 10, verbose = False)\n",
    "print(f'The final states are: {states}')\n",
    "\n",
    "################ (END) YOUR CODE #################"
   ]
  },
  {
   "cell_type": "markdown",
   "metadata": {
    "application/vnd.databricks.v1+cell": {
     "inputWidgets": {},
     "nuid": "dfd6f1ec-649b-47d5-996e-07b08267c2ef",
     "showTitle": false,
     "title": ""
    }
   },
   "source": [
    "# About the Data\n",
    "The main dataset for this data consists of a subset of a 500GB dataset released by AWS in 2009. The data includes the source and metadata for all of the Wikimedia wikis. You can read more here: \n",
    "> https://aws.amazon.com/blogs/aws/new-public-data-set-wikipedia-xml-data. \n",
    "\n",
    "As in previous homeworks we'll be using a 2GB subset of this data, which is available to you in this dropbox folder: \n",
    "> https://www.dropbox.com/sh/2c0k5adwz36lkcw/AAAAKsjQfF9uHfv-X9mCqr9wa?dl=0. \n",
    "\n",
    "Use the cells below to download the wikipedia data and a test file for use in developing your PageRank implementation(note that we'll use the 'indexed out' version of the graph) and to take a look at the files."
   ]
  },
  {
   "cell_type": "code",
   "execution_count": 0,
   "metadata": {
    "application/vnd.databricks.v1+cell": {
     "inputWidgets": {},
     "nuid": "e9ff1dec-7ece-4215-a211-ff6b26836472",
     "showTitle": false,
     "title": ""
    }
   },
   "outputs": [
    {
     "data": {
      "text/html": [
       "<style scoped>\n",
       "  .ansiout {\n",
       "    display: block;\n",
       "    unicode-bidi: embed;\n",
       "    white-space: pre-wrap;\n",
       "    word-wrap: break-word;\n",
       "    word-break: break-all;\n",
       "    font-family: \"Source Code Pro\", \"Menlo\", monospace;;\n",
       "    font-size: 13px;\n",
       "    color: #555;\n",
       "    margin-left: 4px;\n",
       "    line-height: 19px;\n",
       "  }\n",
       "</style>\n",
       "<div class=\"ansiout\">Out[18]: [FileInfo(path=&#39;dbfs:/mnt/mids-w261/HW5/all-pages-indexed-in.txt&#39;, name=&#39;all-pages-indexed-in.txt&#39;, size=2143300687),\n",
       " FileInfo(path=&#39;dbfs:/mnt/mids-w261/HW5/all-pages-indexed-out.txt&#39;, name=&#39;all-pages-indexed-out.txt&#39;, size=2090459616),\n",
       " FileInfo(path=&#39;dbfs:/mnt/mids-w261/HW5/indices.txt&#39;, name=&#39;indices.txt&#39;, size=517438296),\n",
       " FileInfo(path=&#39;dbfs:/mnt/mids-w261/HW5/test_graph.txt&#39;, name=&#39;test_graph.txt&#39;, size=167)]</div>"
      ]
     },
     "metadata": {
      "application/vnd.databricks.v1+output": {
       "addedWidgets": {},
       "arguments": {},
       "data": "<div class=\"ansiout\">Out[18]: [FileInfo(path=&#39;dbfs:/mnt/mids-w261/HW5/all-pages-indexed-in.txt&#39;, name=&#39;all-pages-indexed-in.txt&#39;, size=2143300687),\n FileInfo(path=&#39;dbfs:/mnt/mids-w261/HW5/all-pages-indexed-out.txt&#39;, name=&#39;all-pages-indexed-out.txt&#39;, size=2090459616),\n FileInfo(path=&#39;dbfs:/mnt/mids-w261/HW5/indices.txt&#39;, name=&#39;indices.txt&#39;, size=517438296),\n FileInfo(path=&#39;dbfs:/mnt/mids-w261/HW5/test_graph.txt&#39;, name=&#39;test_graph.txt&#39;, size=167)]</div>",
       "datasetInfos": [],
       "metadata": {},
       "removedWidgets": [],
       "type": "html"
      }
     },
     "output_type": "display_data"
    }
   ],
   "source": [
    "dbutils.fs.ls(DATA_PATH)"
   ]
  },
  {
   "cell_type": "code",
   "execution_count": 0,
   "metadata": {
    "application/vnd.databricks.v1+cell": {
     "inputWidgets": {},
     "nuid": "16a0762c-dece-40c8-bb1b-8f00c4517b2b",
     "showTitle": false,
     "title": ""
    }
   },
   "outputs": [
    {
     "data": {
      "text/html": [
       "<style scoped>\n",
       "  .ansiout {\n",
       "    display: block;\n",
       "    unicode-bidi: embed;\n",
       "    white-space: pre-wrap;\n",
       "    word-wrap: break-word;\n",
       "    word-break: break-all;\n",
       "    font-family: \"Source Code Pro\", \"Menlo\", monospace;;\n",
       "    font-size: 13px;\n",
       "    color: #555;\n",
       "    margin-left: 4px;\n",
       "    line-height: 19px;\n",
       "  }\n",
       "</style>\n",
       "<div class=\"ansiout\">2\t{&#39;3&#39;: 1}\n",
       "\n",
       "3\t{&#39;2&#39;: 2}\n",
       "\n",
       "4\t{&#39;1&#39;: 1, &#39;2&#39;: 1}\n",
       "\n",
       "5\t{&#39;4&#39;: 3, &#39;2&#39;: 1, &#39;6&#39;: 1}\n",
       "\n",
       "6\t{&#39;2&#39;: 1, &#39;5&#39;: 2}\n",
       "\n",
       "7\t{&#39;2&#39;: 1, &#39;5&#39;: 1}\n",
       "\n",
       "8\t{&#39;2&#39;: 1, &#39;5&#39;: 1}\n",
       "\n",
       "9\t{&#39;2&#39;: 1, &#39;5&#39;: 1}\n",
       "\n",
       "10\t{&#39;5&#39;: 1}\n",
       "\n",
       "11\t{&#39;5&#39;: 2}\n",
       "</div>"
      ]
     },
     "metadata": {
      "application/vnd.databricks.v1+output": {
       "addedWidgets": {},
       "arguments": {},
       "data": "<div class=\"ansiout\">2\t{&#39;3&#39;: 1}\n\n3\t{&#39;2&#39;: 2}\n\n4\t{&#39;1&#39;: 1, &#39;2&#39;: 1}\n\n5\t{&#39;4&#39;: 3, &#39;2&#39;: 1, &#39;6&#39;: 1}\n\n6\t{&#39;2&#39;: 1, &#39;5&#39;: 2}\n\n7\t{&#39;2&#39;: 1, &#39;5&#39;: 1}\n\n8\t{&#39;2&#39;: 1, &#39;5&#39;: 1}\n\n9\t{&#39;2&#39;: 1, &#39;5&#39;: 1}\n\n10\t{&#39;5&#39;: 1}\n\n11\t{&#39;5&#39;: 2}\n</div>",
       "datasetInfos": [],
       "metadata": {},
       "removedWidgets": [],
       "type": "html"
      }
     },
     "output_type": "display_data"
    }
   ],
   "source": [
    "# open test_graph.txt file to see format (RUN THIS CELL AS IS)\n",
    "with open('/dbfs/mnt/mids-w261/HW5/test_graph.txt', \"r\") as f_read:\n",
    "  for line in f_read:\n",
    "    print(line)"
   ]
  },
  {
   "cell_type": "code",
   "execution_count": 0,
   "metadata": {
    "application/vnd.databricks.v1+cell": {
     "inputWidgets": {},
     "nuid": "a140fcac-1d1f-42af-8cc0-1e747fd039d9",
     "showTitle": false,
     "title": ""
    }
   },
   "outputs": [
    {
     "data": {
      "text/html": [
       "<style scoped>\n",
       "  .ansiout {\n",
       "    display: block;\n",
       "    unicode-bidi: embed;\n",
       "    white-space: pre-wrap;\n",
       "    word-wrap: break-word;\n",
       "    word-break: break-all;\n",
       "    font-family: \"Source Code Pro\", \"Menlo\", monospace;;\n",
       "    font-size: 13px;\n",
       "    color: #555;\n",
       "    margin-left: 4px;\n",
       "    line-height: 19px;\n",
       "  }\n",
       "</style>\n",
       "<div class=\"ansiout\"></div>"
      ]
     },
     "metadata": {
      "application/vnd.databricks.v1+output": {
       "addedWidgets": {},
       "arguments": {},
       "data": "<div class=\"ansiout\"></div>",
       "datasetInfos": [],
       "metadata": {},
       "removedWidgets": [],
       "type": "html"
      }
     },
     "output_type": "display_data"
    }
   ],
   "source": [
    "# load the data into Spark RDDs for convenience of use later (RUN THIS CELL AS IS)\n",
    "DATA_PATH = 'dbfs:/mnt/mids-w261/HW5/'\n",
    "testRDD = sc.textFile(DATA_PATH +'test_graph.txt')\n",
    "indexRDD = sc.textFile(DATA_PATH + '/indices.txt')\n",
    "wikiRDD = sc.textFile(DATA_PATH + '/all-pages-indexed-out.txt')"
   ]
  },
  {
   "cell_type": "code",
   "execution_count": 0,
   "metadata": {
    "application/vnd.databricks.v1+cell": {
     "inputWidgets": {},
     "nuid": "efcfc196-6c2b-43b8-bab7-d6e094f190d7",
     "showTitle": false,
     "title": ""
    }
   },
   "outputs": [
    {
     "data": {
      "text/html": [
       "<style scoped>\n",
       "  .ansiout {\n",
       "    display: block;\n",
       "    unicode-bidi: embed;\n",
       "    white-space: pre-wrap;\n",
       "    word-wrap: break-word;\n",
       "    word-break: break-all;\n",
       "    font-family: \"Source Code Pro\", \"Menlo\", monospace;;\n",
       "    font-size: 13px;\n",
       "    color: #555;\n",
       "    margin-left: 4px;\n",
       "    line-height: 19px;\n",
       "  }\n",
       "</style>\n",
       "<div class=\"ansiout\">Out[21]: [&#34;2\\t{&#39;3&#39;: 1}&#34;,\n",
       " &#34;3\\t{&#39;2&#39;: 2}&#34;,\n",
       " &#34;4\\t{&#39;1&#39;: 1, &#39;2&#39;: 1}&#34;,\n",
       " &#34;5\\t{&#39;4&#39;: 3, &#39;2&#39;: 1, &#39;6&#39;: 1}&#34;,\n",
       " &#34;6\\t{&#39;2&#39;: 1, &#39;5&#39;: 2}&#34;,\n",
       " &#34;7\\t{&#39;2&#39;: 1, &#39;5&#39;: 1}&#34;,\n",
       " &#34;8\\t{&#39;2&#39;: 1, &#39;5&#39;: 1}&#34;,\n",
       " &#34;9\\t{&#39;2&#39;: 1, &#39;5&#39;: 1}&#34;,\n",
       " &#34;10\\t{&#39;5&#39;: 1}&#34;,\n",
       " &#34;11\\t{&#39;5&#39;: 2}&#34;]</div>"
      ]
     },
     "metadata": {
      "application/vnd.databricks.v1+output": {
       "addedWidgets": {},
       "arguments": {},
       "data": "<div class=\"ansiout\">Out[21]: [&#34;2\\t{&#39;3&#39;: 1}&#34;,\n &#34;3\\t{&#39;2&#39;: 2}&#34;,\n &#34;4\\t{&#39;1&#39;: 1, &#39;2&#39;: 1}&#34;,\n &#34;5\\t{&#39;4&#39;: 3, &#39;2&#39;: 1, &#39;6&#39;: 1}&#34;,\n &#34;6\\t{&#39;2&#39;: 1, &#39;5&#39;: 2}&#34;,\n &#34;7\\t{&#39;2&#39;: 1, &#39;5&#39;: 1}&#34;,\n &#34;8\\t{&#39;2&#39;: 1, &#39;5&#39;: 1}&#34;,\n &#34;9\\t{&#39;2&#39;: 1, &#39;5&#39;: 1}&#34;,\n &#34;10\\t{&#39;5&#39;: 1}&#34;,\n &#34;11\\t{&#39;5&#39;: 2}&#34;]</div>",
       "datasetInfos": [],
       "metadata": {},
       "removedWidgets": [],
       "type": "html"
      }
     },
     "output_type": "display_data"
    }
   ],
   "source": [
    "# display testRDD (RUN THIS CELL AS IS)\n",
    "testRDD.take(10)"
   ]
  },
  {
   "cell_type": "code",
   "execution_count": 0,
   "metadata": {
    "application/vnd.databricks.v1+cell": {
     "inputWidgets": {},
     "nuid": "88b3684d-6548-4015-8a12-069558814b82",
     "showTitle": false,
     "title": ""
    }
   },
   "outputs": [
    {
     "data": {
      "text/html": [
       "<style scoped>\n",
       "  .ansiout {\n",
       "    display: block;\n",
       "    unicode-bidi: embed;\n",
       "    white-space: pre-wrap;\n",
       "    word-wrap: break-word;\n",
       "    word-break: break-all;\n",
       "    font-family: \"Source Code Pro\", \"Menlo\", monospace;;\n",
       "    font-size: 13px;\n",
       "    color: #555;\n",
       "    margin-left: 4px;\n",
       "    line-height: 19px;\n",
       "  }\n",
       "</style>\n",
       "<div class=\"ansiout\">Out[22]: [&#39;! $var = &amp;quot;&amp;quot;\\t1\\t1\\t0&#39;,\n",
       " &#39;! (CONFIG.SYS directive)\\t2\\t1\\t1&#39;,\n",
       " &#39;! (album)\\t3\\t12\\t17&#39;,\n",
       " &#39;! (disambiguation)\\t4\\t1\\t20&#39;,\n",
       " &#39;! -attention-\\t5\\t1\\t0&#39;,\n",
       " &#39;! Time Zone\\t6\\t1\\t0&#39;,\n",
       " &#39;!! (chess)\\t7\\t0\\t1&#39;,\n",
       " &#39;!! (disambiguation)\\t8\\t3\\t0&#39;,\n",
       " &#39;!!! (Chk Chk Chk)\\t9\\t1\\t0&#39;,\n",
       " &#39;!!! (album)\\t10\\t5\\t15&#39;]</div>"
      ]
     },
     "metadata": {
      "application/vnd.databricks.v1+output": {
       "addedWidgets": {},
       "arguments": {},
       "data": "<div class=\"ansiout\">Out[22]: [&#39;! $var = &amp;quot;&amp;quot;\\t1\\t1\\t0&#39;,\n &#39;! (CONFIG.SYS directive)\\t2\\t1\\t1&#39;,\n &#39;! (album)\\t3\\t12\\t17&#39;,\n &#39;! (disambiguation)\\t4\\t1\\t20&#39;,\n &#39;! -attention-\\t5\\t1\\t0&#39;,\n &#39;! Time Zone\\t6\\t1\\t0&#39;,\n &#39;!! (chess)\\t7\\t0\\t1&#39;,\n &#39;!! (disambiguation)\\t8\\t3\\t0&#39;,\n &#39;!!! (Chk Chk Chk)\\t9\\t1\\t0&#39;,\n &#39;!!! (album)\\t10\\t5\\t15&#39;]</div>",
       "datasetInfos": [],
       "metadata": {},
       "removedWidgets": [],
       "type": "html"
      }
     },
     "output_type": "display_data"
    }
   ],
   "source": [
    "# display indexRDD (RUN THIS CELL AS IS)\n",
    "indexRDD.take(10)"
   ]
  },
  {
   "cell_type": "code",
   "execution_count": 0,
   "metadata": {
    "application/vnd.databricks.v1+cell": {
     "inputWidgets": {},
     "nuid": "be41205d-7722-497e-8256-cfd80f749265",
     "showTitle": false,
     "title": ""
    }
   },
   "outputs": [
    {
     "data": {
      "text/html": [
       "<style scoped>\n",
       "  .ansiout {\n",
       "    display: block;\n",
       "    unicode-bidi: embed;\n",
       "    white-space: pre-wrap;\n",
       "    word-wrap: break-word;\n",
       "    word-break: break-all;\n",
       "    font-family: \"Source Code Pro\", \"Menlo\", monospace;;\n",
       "    font-size: 13px;\n",
       "    color: #555;\n",
       "    margin-left: 4px;\n",
       "    line-height: 19px;\n",
       "  }\n",
       "</style>\n",
       "<div class=\"ansiout\">Out[23]: [&#34;73\\t{&#39;14417532&#39;: 1}&#34;,\n",
       " &#34;299\\t{&#39;4214575&#39;: 1}&#34;,\n",
       " &#34;2552\\t{&#39;15043376&#39;: 1, &#39;13430968&#39;: 1, &#39;13451035&#39;: 1, &#39;7263397&#39;: 1, &#39;13001625&#39;: 1, &#39;13443575&#39;: 1, &#39;13451269&#39;: 1, &#39;13432316&#39;: 1, &#39;11623371&#39;: 1, &#39;15028971&#39;: 1, &#39;13425865&#39;: 1, &#39;15042703&#39;: 1, &#39;5051368&#39;: 1, &#39;9854998&#39;: 2, &#39;13442976&#39;: 1, &#39;13315025&#39;: 1, &#39;2992307&#39;: 1, &#39;1054486&#39;: 1, &#39;1322325&#39;: 1, &#39;13450983&#39;: 1}&#34;,\n",
       " &#34;2570\\t{&#39;983991&#39;: 1}&#34;,\n",
       " &#34;2616\\t{&#39;9045350&#39;: 1}&#34;,\n",
       " &#34;2711\\t{&#39;752887&#39;: 1}&#34;,\n",
       " &#34;2818\\t{&#39;3534183&#39;: 1}&#34;,\n",
       " &#34;2847\\t{&#39;3797918&#39;: 1}&#34;,\n",
       " &#34;2892\\t{&#39;2893&#39;: 1}&#34;,\n",
       " &#34;2921\\t{&#39;5158607&#39;: 1, &#39;6007184&#39;: 1, &#39;14773825&#39;: 1, &#39;11777840&#39;: 2, &#39;9285165&#39;: 1, &#39;6420484&#39;: 1, &#39;14670682&#39;: 1, &#39;7316613&#39;: 1, &#39;7125893&#39;: 1, &#39;14965920&#39;: 1, &#39;14229952&#39;: 1, &#39;9447742&#39;: 2, &#39;1425342&#39;: 1, &#39;11390944&#39;: 2, &#39;5141&#39;: 1, &#39;14928135&#39;: 2, &#39;13636570&#39;: 3, &#39;14687433&#39;: 1, &#39;15105458&#39;: 1, &#39;11656072&#39;: 1, &#39;6420027&#39;: 1, &#39;10898196&#39;: 1, &#39;6416278&#39;: 1, &#39;11497740&#39;: 2}&#34;]</div>"
      ]
     },
     "metadata": {
      "application/vnd.databricks.v1+output": {
       "addedWidgets": {},
       "arguments": {},
       "data": "<div class=\"ansiout\">Out[23]: [&#34;73\\t{&#39;14417532&#39;: 1}&#34;,\n &#34;299\\t{&#39;4214575&#39;: 1}&#34;,\n &#34;2552\\t{&#39;15043376&#39;: 1, &#39;13430968&#39;: 1, &#39;13451035&#39;: 1, &#39;7263397&#39;: 1, &#39;13001625&#39;: 1, &#39;13443575&#39;: 1, &#39;13451269&#39;: 1, &#39;13432316&#39;: 1, &#39;11623371&#39;: 1, &#39;15028971&#39;: 1, &#39;13425865&#39;: 1, &#39;15042703&#39;: 1, &#39;5051368&#39;: 1, &#39;9854998&#39;: 2, &#39;13442976&#39;: 1, &#39;13315025&#39;: 1, &#39;2992307&#39;: 1, &#39;1054486&#39;: 1, &#39;1322325&#39;: 1, &#39;13450983&#39;: 1}&#34;,\n &#34;2570\\t{&#39;983991&#39;: 1}&#34;,\n &#34;2616\\t{&#39;9045350&#39;: 1}&#34;,\n &#34;2711\\t{&#39;752887&#39;: 1}&#34;,\n &#34;2818\\t{&#39;3534183&#39;: 1}&#34;,\n &#34;2847\\t{&#39;3797918&#39;: 1}&#34;,\n &#34;2892\\t{&#39;2893&#39;: 1}&#34;,\n &#34;2921\\t{&#39;5158607&#39;: 1, &#39;6007184&#39;: 1, &#39;14773825&#39;: 1, &#39;11777840&#39;: 2, &#39;9285165&#39;: 1, &#39;6420484&#39;: 1, &#39;14670682&#39;: 1, &#39;7316613&#39;: 1, &#39;7125893&#39;: 1, &#39;14965920&#39;: 1, &#39;14229952&#39;: 1, &#39;9447742&#39;: 2, &#39;1425342&#39;: 1, &#39;11390944&#39;: 2, &#39;5141&#39;: 1, &#39;14928135&#39;: 2, &#39;13636570&#39;: 3, &#39;14687433&#39;: 1, &#39;15105458&#39;: 1, &#39;11656072&#39;: 1, &#39;6420027&#39;: 1, &#39;10898196&#39;: 1, &#39;6416278&#39;: 1, &#39;11497740&#39;: 2}&#34;]</div>",
       "datasetInfos": [],
       "metadata": {},
       "removedWidgets": [],
       "type": "html"
      }
     },
     "output_type": "display_data"
    }
   ],
   "source": [
    "# display wikiRDD (RUN THIS CELL AS IS)\n",
    "wikiRDD.take(10)"
   ]
  },
  {
   "cell_type": "markdown",
   "metadata": {
    "application/vnd.databricks.v1+cell": {
     "inputWidgets": {},
     "nuid": "bfeaaa84-ecc8-4fab-8632-72c2c27b0eb7",
     "showTitle": false,
     "title": ""
    }
   },
   "source": [
    "# Question 5: EDA part 1 (number of nodes)\n",
    "\n",
    "As usual, before we dive in to the main analysis, we'll peform some exploratory data anlysis to understand our dataset. Please use the test graph that you downloaded to test all your code before running the full dataset.\n",
    "\n",
    "### Q5 Tasks:\n",
    "* __a) short response:__ In what format is the raw data? What does the first value represent? What does the second part of each line represent? [__`HINT:`__ _no need to go digging here, just visually inspect the outputs of the head commands that we ran after loading the data above._]\n",
    "\n",
    "* __b) code + short response:__ Run the provided bash command to count the number of records in the raw dataset. Explain why this is _not_ the same as the number of total nodes in the graph.\n",
    "\n",
    "* __c) code:__ In the space provided below write a Spark job to count the _total number_ of nodes in this graph. \n",
    "\n",
    "* __d) short response:__ How many dangling nodes are there in this wikipedia graph? [__`HINT:`__ _you should not need any code to answer this question._]"
   ]
  },
  {
   "cell_type": "markdown",
   "metadata": {
    "application/vnd.databricks.v1+cell": {
     "inputWidgets": {},
     "nuid": "d89273e5-dfac-40fc-951b-f4b8572674f2",
     "showTitle": false,
     "title": ""
    }
   },
   "source": [
    "### Q5 Student Answers:\n",
    "> __a)__ The format of the raw data is tab delimited text, for the 'testRDD' and the 'wikiRDD' where each line represents an adjacency list. The first part represent the source node ID and the second part correponds with a dictionary that contains the neighbor nodes and their edge weights. For example, in the 'testRDD' record: 2\\t{'3': 1}, 2 corresponds to the source node ID, 3 is the neighbor node, and the weight between the source node ID and neighbor node 3 is equal to 1.\n",
    "\n",
    "> __b)__ The raw dataset represents an adjacency list for the webgraph. A record has a key (node) and value (edges to other nodes). The number of records is not the same as the number of total nodes in the graph because of the presence of dangling nodes, assuming that there are no multiple entries (no duplicates).  \n",
    "\n",
    "> __d)__ The number of dangling nodes in the wikipedia graph is as shown below:\n",
    "> > - Dangling Nodes = Total nodes - Count the number of records = Number of dangling nodes\n",
    "> > - Dangling Nodes = 15,192,277 - 5,781,290 = 9,410,987"
   ]
  },
  {
   "cell_type": "code",
   "execution_count": 0,
   "metadata": {
    "application/vnd.databricks.v1+cell": {
     "inputWidgets": {},
     "nuid": "5c3e7420-0fe9-4b11-ba69-157002a57cc4",
     "showTitle": false,
     "title": ""
    }
   },
   "outputs": [
    {
     "data": {
      "text/html": [
       "<style scoped>\n",
       "  .ansiout {\n",
       "    display: block;\n",
       "    unicode-bidi: embed;\n",
       "    white-space: pre-wrap;\n",
       "    word-wrap: break-word;\n",
       "    word-break: break-all;\n",
       "    font-family: \"Source Code Pro\", \"Menlo\", monospace;;\n",
       "    font-size: 13px;\n",
       "    color: #555;\n",
       "    margin-left: 4px;\n",
       "    line-height: 19px;\n",
       "  }\n",
       "</style>\n",
       "<div class=\"ansiout\">5781290\n",
       "</div>"
      ]
     },
     "metadata": {
      "application/vnd.databricks.v1+output": {
       "addedWidgets": {},
       "arguments": {},
       "data": "<div class=\"ansiout\">5781290\n</div>",
       "datasetInfos": [],
       "metadata": {},
       "removedWidgets": [],
       "type": "html"
      }
     },
     "output_type": "display_data"
    }
   ],
   "source": [
    "# part b - count the number of records in the raw data (RUN THIS CELL AS IS)\n",
    "# 5781290\n",
    "print(wikiRDD.count())"
   ]
  },
  {
   "cell_type": "code",
   "execution_count": 0,
   "metadata": {
    "application/vnd.databricks.v1+cell": {
     "inputWidgets": {},
     "nuid": "5859da43-1642-48e1-a171-332f2aa8c567",
     "showTitle": false,
     "title": ""
    }
   },
   "outputs": [
    {
     "data": {
      "text/html": [
       "<style scoped>\n",
       "  .ansiout {\n",
       "    display: block;\n",
       "    unicode-bidi: embed;\n",
       "    white-space: pre-wrap;\n",
       "    word-wrap: break-word;\n",
       "    word-break: break-all;\n",
       "    font-family: \"Source Code Pro\", \"Menlo\", monospace;;\n",
       "    font-size: 13px;\n",
       "    color: #555;\n",
       "    margin-left: 4px;\n",
       "    line-height: 19px;\n",
       "  }\n",
       "</style>\n",
       "<div class=\"ansiout\"></div>"
      ]
     },
     "metadata": {
      "application/vnd.databricks.v1+output": {
       "addedWidgets": {},
       "arguments": {},
       "data": "<div class=\"ansiout\"></div>",
       "datasetInfos": [],
       "metadata": {},
       "removedWidgets": [],
       "type": "html"
      }
     },
     "output_type": "display_data"
    }
   ],
   "source": [
    "# part c - write your Spark job here (compute total number of nodes)\n",
    "def count_nodes(dataRDD):\n",
    "    \"\"\"\n",
    "    Spark job to count the total number of nodes.\n",
    "    Returns: integer count \n",
    "    \"\"\"    \n",
    "    ############## YOUR CODE HERE ###############\n",
    "  \n",
    "    def get_node(line):\n",
    "      node, edges = line.split('\\t')\n",
    "      \n",
    "      edges = ast.literal_eval(edges)\n",
    "      nodes = list(edges.keys()) + [node]\n",
    "      \n",
    "      for node in nodes:\n",
    "        yield node\n",
    "    \n",
    "    totalCount = dataRDD.flatMap(get_node) \\\n",
    "                    .map(lambda x: (x,1)).distinct() \\\n",
    "                    .count()\n",
    "    \n",
    "    ############## (END) YOUR CODE ###############   \n",
    "    return totalCount"
   ]
  },
  {
   "cell_type": "code",
   "execution_count": 0,
   "metadata": {
    "application/vnd.databricks.v1+cell": {
     "inputWidgets": {},
     "nuid": "78ce98ef-76fe-446b-8cbc-b7c7f65c65a9",
     "showTitle": false,
     "title": ""
    }
   },
   "outputs": [
    {
     "data": {
      "text/html": [
       "<style scoped>\n",
       "  .ansiout {\n",
       "    display: block;\n",
       "    unicode-bidi: embed;\n",
       "    white-space: pre-wrap;\n",
       "    word-wrap: break-word;\n",
       "    word-break: break-all;\n",
       "    font-family: \"Source Code Pro\", \"Menlo\", monospace;;\n",
       "    font-size: 13px;\n",
       "    color: #555;\n",
       "    margin-left: 4px;\n",
       "    line-height: 19px;\n",
       "  }\n",
       "</style>\n",
       "<div class=\"ansiout\">... completed job in 0.9041855335235596 seconds.\n",
       "Total Nodes: 11\n",
       "</div>"
      ]
     },
     "metadata": {
      "application/vnd.databricks.v1+output": {
       "addedWidgets": {},
       "arguments": {},
       "data": "<div class=\"ansiout\">... completed job in 0.9041855335235596 seconds.\nTotal Nodes: 11\n</div>",
       "datasetInfos": [],
       "metadata": {},
       "removedWidgets": [],
       "type": "html"
      }
     },
     "output_type": "display_data"
    }
   ],
   "source": [
    "# part c - run your counting job on the test file (RUN THIS CELL AS IS)\n",
    "start = time.time()\n",
    "tot = count_nodes(testRDD)\n",
    "print(f'... completed job in {time.time() - start} seconds.')\n",
    "print(f'Total Nodes: {tot}')"
   ]
  },
  {
   "cell_type": "code",
   "execution_count": 0,
   "metadata": {
    "application/vnd.databricks.v1+cell": {
     "inputWidgets": {},
     "nuid": "04ff64d1-bc68-49bf-92ae-58fa68f89219",
     "showTitle": false,
     "title": ""
    }
   },
   "outputs": [
    {
     "data": {
      "text/html": [
       "<style scoped>\n",
       "  .ansiout {\n",
       "    display: block;\n",
       "    unicode-bidi: embed;\n",
       "    white-space: pre-wrap;\n",
       "    word-wrap: break-word;\n",
       "    word-break: break-all;\n",
       "    font-family: \"Source Code Pro\", \"Menlo\", monospace;;\n",
       "    font-size: 13px;\n",
       "    color: #555;\n",
       "    margin-left: 4px;\n",
       "    line-height: 19px;\n",
       "  }\n",
       "</style>\n",
       "<div class=\"ansiout\">... completed job in 533.256840467453 seconds.\n",
       "Total Nodes: 15192277\n",
       "</div>"
      ]
     },
     "metadata": {
      "application/vnd.databricks.v1+output": {
       "addedWidgets": {},
       "arguments": {},
       "data": "<div class=\"ansiout\">... completed job in 533.256840467453 seconds.\nTotal Nodes: 15192277\n</div>",
       "datasetInfos": [],
       "metadata": {},
       "removedWidgets": [],
       "type": "html"
      }
     },
     "output_type": "display_data"
    }
   ],
   "source": [
    "# part c - run your counting job on the full file (RUN THIS CELL AS IS)\n",
    "start = time.time()\n",
    "tot = count_nodes(wikiRDD)\n",
    "print(f'... completed job in {time.time() - start} seconds.')\n",
    "print(f'Total Nodes: {tot}')"
   ]
  },
  {
   "cell_type": "markdown",
   "metadata": {
    "application/vnd.databricks.v1+cell": {
     "inputWidgets": {},
     "nuid": "1086ad2d-8dd1-447e-b41f-3d0f75dd5bd9",
     "showTitle": false,
     "title": ""
    }
   },
   "source": [
    "# Question 6 - EDA part 2 (out-degree distribution)\n",
    "\n",
    "As you've seen in previous homeworks the computational complexity of an implementation depends not only on the number of records in the original dataset but also on the number of records we create and shuffle in our intermediate representation of the data. The number of intermediate records required to update PageRank is related to the number of edges in the graph. In this question you'll compute the average number of hyperlinks on each page in this data and visualize a distribution for these counts (the out-degree of the nodes). \n",
    "\n",
    "### Q6 Tasks:\n",
    "* __a) code:__ In the space provided below write a Spark job to stream over the data and compute all of the following information:\n",
    " * count the out-degree of each non-dangling node and return the names of the top 10 pages with the most hyperlinks\n",
    " * find the average out-degree for all non-dangling nodes in the graph\n",
    " * take a 1000 point sample of these out-degree counts and plot a histogram of the result. \n",
    " \n",
    " \n",
    "* __b) short response:__ In the context of the PageRank algorithm, how is information about a node's out degree used?\n",
    "\n",
    "* __c) short response:__ What does it mean if a node's out-degree is 0? In PageRank how will we handle these nodes differently than others?\n",
    " \n",
    "__`NOTE:`__ Please observe scalability best practices in the design of your code & comment your work clearly. You will be graded on both the clarity and the design."
   ]
  },
  {
   "cell_type": "markdown",
   "metadata": {
    "application/vnd.databricks.v1+cell": {
     "inputWidgets": {},
     "nuid": "97f4190c-129b-4bd0-bfca-b146672087ef",
     "showTitle": false,
     "title": ""
    }
   },
   "source": [
    "### Q6 Student Answers:\n",
    "\n",
    "> __b)__ In the context of the PageRank algorithm, the node's out-degree information is used to calculate the transition matrix \\\\(Q = D ^{-1} A\\\\) where D is the out-degree matrix and A is the adjacent matrix. This is used to identify dangling nodes and their respective ranks. \n",
    "\n",
    "> __c)__ If a node's out-degree is 0, this means that the node is a dangling node and does not have an out-going edge/link. In PageRank, dangling nodes results in loss of mass which is also the weight of the dangling node. This loss is redistributed evenly across all the nodes in the graph by adding a small amount of probability to each node to represent teleportation from the dangling node to any other node."
   ]
  },
  {
   "cell_type": "code",
   "execution_count": 0,
   "metadata": {
    "application/vnd.databricks.v1+cell": {
     "inputWidgets": {},
     "nuid": "95b96ab4-0210-4bbb-9fcd-e59c4bd64b64",
     "showTitle": false,
     "title": ""
    }
   },
   "outputs": [
    {
     "data": {
      "text/html": [
       "<style scoped>\n",
       "  .ansiout {\n",
       "    display: block;\n",
       "    unicode-bidi: embed;\n",
       "    white-space: pre-wrap;\n",
       "    word-wrap: break-word;\n",
       "    word-break: break-all;\n",
       "    font-family: \"Source Code Pro\", \"Menlo\", monospace;;\n",
       "    font-size: 13px;\n",
       "    color: #555;\n",
       "    margin-left: 4px;\n",
       "    line-height: 19px;\n",
       "  }\n",
       "</style>\n",
       "<div class=\"ansiout\"></div>"
      ]
     },
     "metadata": {
      "application/vnd.databricks.v1+output": {
       "addedWidgets": {},
       "arguments": {},
       "data": "<div class=\"ansiout\"></div>",
       "datasetInfos": [],
       "metadata": {},
       "removedWidgets": [],
       "type": "html"
      }
     },
     "output_type": "display_data"
    }
   ],
   "source": [
    "# part a - write your Spark job here (compute average in-degree, etc)\n",
    "def count_degree(dataRDD, n):\n",
    "    \"\"\"\n",
    "    Function to analyze out-degree of nodes in a a graph.\n",
    "    Returns: \n",
    "        top  - (list of 10 tuples) nodes with most edges\n",
    "        avgDegree - (float) average out-degree for non-dangling nodes\n",
    "        sampledCounts - (list of integers) out-degree for n randomly sampled non-dangling nodes\n",
    "    \"\"\"\n",
    "    # helper func\n",
    "    def parse(line):\n",
    "        node, edges = line.split('\\t')\n",
    "        return (node, ast.literal_eval(edges))\n",
    "    \n",
    "    ############## YOUR CODE HERE ###############\n",
    "\n",
    "    outDegrees = dataRDD.map(parse) \\\n",
    "                    .map(lambda x: (x[0], len(list(x[1].values())))) \\\n",
    "                    .cache()\n",
    "    \n",
    "    # sort by outdegree length\n",
    "    top = outDegrees.takeOrdered(10, key=lambda x: -x[1])\n",
    "    \n",
    "    # Calculate average outdegree\n",
    "    avgDegree = outDegrees.map(lambda x: x[1]).mean()\n",
    "\n",
    "    # sample\n",
    "    samples = outDegrees.takeSample(False, n)\n",
    "    sampledCounts =  [x[1] for x in samples]\n",
    "    \n",
    "    ############## (END) YOUR CODE ###############\n",
    "    \n",
    "    return top, avgDegree, sampledCounts"
   ]
  },
  {
   "cell_type": "code",
   "execution_count": 0,
   "metadata": {
    "application/vnd.databricks.v1+cell": {
     "inputWidgets": {},
     "nuid": "274a6efd-f268-49cd-a8ca-adbe10dbb8e8",
     "showTitle": false,
     "title": ""
    }
   },
   "outputs": [
    {
     "data": {
      "text/html": [
       "<style scoped>\n",
       "  .ansiout {\n",
       "    display: block;\n",
       "    unicode-bidi: embed;\n",
       "    white-space: pre-wrap;\n",
       "    word-wrap: break-word;\n",
       "    word-break: break-all;\n",
       "    font-family: \"Source Code Pro\", \"Menlo\", monospace;;\n",
       "    font-size: 13px;\n",
       "    color: #555;\n",
       "    margin-left: 4px;\n",
       "    line-height: 19px;\n",
       "  }\n",
       "</style>\n",
       "<div class=\"ansiout\">... completed job in 0.4438648223876953 seconds\n",
       "Average out-degree:  1.7\n",
       "Top 10 nodes (by out-degree:)\n",
       " [(&#39;5&#39;, 3), (&#39;4&#39;, 2), (&#39;6&#39;, 2), (&#39;7&#39;, 2), (&#39;8&#39;, 2), (&#39;9&#39;, 2), (&#39;2&#39;, 1), (&#39;3&#39;, 1), (&#39;10&#39;, 1), (&#39;11&#39;, 1)]\n",
       "</div>"
      ]
     },
     "metadata": {
      "application/vnd.databricks.v1+output": {
       "addedWidgets": {},
       "arguments": {},
       "data": "<div class=\"ansiout\">... completed job in 0.4438648223876953 seconds\nAverage out-degree:  1.7\nTop 10 nodes (by out-degree:)\n [(&#39;5&#39;, 3), (&#39;4&#39;, 2), (&#39;6&#39;, 2), (&#39;7&#39;, 2), (&#39;8&#39;, 2), (&#39;9&#39;, 2), (&#39;2&#39;, 1), (&#39;3&#39;, 1), (&#39;10&#39;, 1), (&#39;11&#39;, 1)]\n</div>",
       "datasetInfos": [],
       "metadata": {},
       "removedWidgets": [],
       "type": "html"
      }
     },
     "output_type": "display_data"
    }
   ],
   "source": [
    "# part a - run your job on the test file (RUN THIS CELL AS IS)\n",
    "start = time.time()\n",
    "test_results = count_degree(testRDD,10)\n",
    "print(f\"... completed job in {time.time() - start} seconds\")\n",
    "print(\"Average out-degree: \", test_results[1])\n",
    "print(\"Top 10 nodes (by out-degree:)\\n\", test_results[0])"
   ]
  },
  {
   "cell_type": "code",
   "execution_count": 0,
   "metadata": {
    "application/vnd.databricks.v1+cell": {
     "inputWidgets": {},
     "nuid": "12c2bfd3-c0b1-46d2-a18a-8dc4d851a386",
     "showTitle": false,
     "title": ""
    }
   },
   "outputs": [
    {
     "data": {
      "image/png": "[encoded data removed]"
     },
     "metadata": {
      "application/vnd.databricks.v1+output": {
       "addedWidgets": {},
       "arguments": {},
       "data": "data:image/png;base64,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",
       "datasetInfos": [],
       "metadata": {
        "imageDimensions": {
         "height": 264,
         "width": 362
        }
       },
       "removedWidgets": [],
       "type": "image"
      },
      "image/png": {
       "height": 264,
       "width": 362
      }
     },
     "output_type": "display_data"
    }
   ],
   "source": [
    "# part a - plot results from test file (RUN THIS CELL AS IS)\n",
    "plt.hist(test_results[2], bins=10)\n",
    "plt.title(\"Distribution of Out-Degree\")\n",
    "display(plt.show())"
   ]
  },
  {
   "cell_type": "code",
   "execution_count": 0,
   "metadata": {
    "application/vnd.databricks.v1+cell": {
     "inputWidgets": {},
     "nuid": "8aa64c84-4a84-4061-bc8e-9b40fa5e5b79",
     "showTitle": false,
     "title": ""
    }
   },
   "outputs": [
    {
     "data": {
      "text/html": [
       "<style scoped>\n",
       "  .ansiout {\n",
       "    display: block;\n",
       "    unicode-bidi: embed;\n",
       "    white-space: pre-wrap;\n",
       "    word-wrap: break-word;\n",
       "    word-break: break-all;\n",
       "    font-family: \"Source Code Pro\", \"Menlo\", monospace;;\n",
       "    font-size: 13px;\n",
       "    color: #555;\n",
       "    margin-left: 4px;\n",
       "    line-height: 19px;\n",
       "  }\n",
       "</style>\n",
       "<div class=\"ansiout\">... completed job in 148.8501455783844 seconds\n",
       "Average out-degree:  24.58172086160741\n",
       "Top 10 nodes (by out-degree:)\n",
       " [(&#39;7883280&#39;, 7132), (&#39;7884831&#39;, 5877), (&#39;6075450&#39;, 5875), (&#39;6074992&#39;, 5855), (&#39;7828359&#39;, 5839), (&#39;7880980&#39;, 5692), (&#39;1008643&#39;, 5598), (&#39;7828391&#39;, 5597), (&#39;7873008&#39;, 5573), (&#39;7841582&#39;, 5530)]\n",
       "</div>"
      ]
     },
     "metadata": {
      "application/vnd.databricks.v1+output": {
       "addedWidgets": {},
       "arguments": {},
       "data": "<div class=\"ansiout\">... completed job in 148.8501455783844 seconds\nAverage out-degree:  24.58172086160741\nTop 10 nodes (by out-degree:)\n [(&#39;7883280&#39;, 7132), (&#39;7884831&#39;, 5877), (&#39;6075450&#39;, 5875), (&#39;6074992&#39;, 5855), (&#39;7828359&#39;, 5839), (&#39;7880980&#39;, 5692), (&#39;1008643&#39;, 5598), (&#39;7828391&#39;, 5597), (&#39;7873008&#39;, 5573), (&#39;7841582&#39;, 5530)]\n</div>",
       "datasetInfos": [],
       "metadata": {},
       "removedWidgets": [],
       "type": "html"
      }
     },
     "output_type": "display_data"
    }
   ],
   "source": [
    "# part a - run your job on the full file (RUN THIS CELL AS IS)\n",
    "start = time.time()\n",
    "full_results = count_degree(wikiRDD,1000)\n",
    "\n",
    "print(f\"... completed job in {time.time() - start} seconds\")\n",
    "print(\"Average out-degree: \", full_results[1])\n",
    "print(\"Top 10 nodes (by out-degree:)\\n\", full_results[0])"
   ]
  },
  {
   "cell_type": "code",
   "execution_count": 0,
   "metadata": {
    "application/vnd.databricks.v1+cell": {
     "inputWidgets": {},
     "nuid": "c9a00417-4484-4abf-a750-701cd726c024",
     "showTitle": false,
     "title": ""
    }
   },
   "outputs": [
    {
     "data": {
      "image/png": "[encoded data removed]"
     },
     "metadata": {
      "application/vnd.databricks.v1+output": {
       "addedWidgets": {},
       "arguments": {},
       "data": "data:image/png;base64,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",
       "datasetInfos": [],
       "metadata": {
        "imageDimensions": {
         "height": 264,
         "width": 375
        }
       },
       "removedWidgets": [],
       "type": "image"
      },
      "image/png": {
       "height": 264,
       "width": 375
      }
     },
     "output_type": "display_data"
    }
   ],
   "source": [
    "# part a - plot results from full file (RUN THIS CELL AS IS)\n",
    "plt.hist(full_results[2], bins=50)\n",
    "plt.title(\"Distribution of Out-Degree\")\n",
    "display(plt.show())"
   ]
  },
  {
   "cell_type": "markdown",
   "metadata": {
    "application/vnd.databricks.v1+cell": {
     "inputWidgets": {},
     "nuid": "6f3a83cb-5b19-4818-8eeb-86ed4d0c9a14",
     "showTitle": false,
     "title": ""
    }
   },
   "source": [
    "# Question 7 - PageRank part 1 (Initialize the Graph)\n",
    "\n",
    "One of the challenges of performing distributed graph computation is that you must pass the entire graph structure through each iteration of your algorithm. As usual, we seek to design our computation so that as much work as possible can be done using the contents of a single record. In the case of PageRank, we'll need each record to include a node, its list of neighbors and its (current) rank. In this question you'll initialize the graph by creating a record for each dangling node and by setting the initial rank to 1/N for all nodes. \n",
    "\n",
    "__`NOTE:`__ Your solution should _not_ hard code \\\\(N\\\\).\n",
    "\n",
    "### Q7 Tasks:\n",
    "* __a) short response:__ What is \\\\(N\\\\)? Use the analogy of the infinite random web-surfer to explain why we'll initialize each node's rank to \\\\(\\frac{1}{N}\\\\). (i.e. what is the probabilistic interpretation of this choice?)\n",
    "\n",
    "* __b) short response:__ Will it be more efficient to compute \\\\(N\\\\) before initializing records for each dangling node or after? Explain your reasoning.\n",
    "\n",
    "* __c) code:__ Fill in the missing code below to create a Spark job that:\n",
    "  * parses each input record\n",
    "  * creates a new record for any dangling nodes and sets it list of neighbors to be an empty set\n",
    "  * initializes a rank of 1/N for each node\n",
    "  * returns a pair RDD with records in the format specified by the docstring\n",
    "\n",
    "\n",
    "* __d) code:__ Run the provided code to confirm that your job in `part a` has a record for each node and that your should records match the format specified in the docstring and the count should match what you computed in question 5. [__`TIP:`__ _you might want to take a moment to write out what the expected output should be fore the test graph, this will help you know your code works as expected_]\n",
    " \n",
    "__`NOTE:`__ Please observe scalability best practices in the design of your code & comment your work clearly. You will be graded on both the clarity and the design."
   ]
  },
  {
   "cell_type": "markdown",
   "metadata": {
    "application/vnd.databricks.v1+cell": {
     "inputWidgets": {},
     "nuid": "f383a220-a74c-4cf4-b833-b1aa2319bba9",
     "showTitle": false,
     "title": ""
    }
   },
   "source": [
    "### Q7 Student Answers:\n",
    "\n",
    "> __a)__ N is the total number of nodes in the graph that are processed including dangling nodes. We initialize each node's rank (initial weight) to \\\\(\\frac{1}{N}\\\\) to represent uniform probability for each node, such that the sum of the weights for all nodes equals to 1. The total percentage of time spent by the random web-surfer at a page can be interpreted by the weight associated with it. Given N number of nodes, a random surfer has n ways to go to another node. i.e at any point of time in graph navigation, there is 1/N probability to go to another node. This is nothing more than the steady state probability distribution of the markov process underlying the random surfer model of web navigation.  \n",
    "\n",
    "> __b)__ Computing N before initializing the records for each dangling node is better and more efficient because all nodes are initialized to uniform probability at the same time and the initial ranks can be set, during initializing records for each dangling node. However, it may be easy to get the value of N after we know the number of dangling nodes."
   ]
  },
  {
   "cell_type": "code",
   "execution_count": 0,
   "metadata": {
    "application/vnd.databricks.v1+cell": {
     "inputWidgets": {},
     "nuid": "c5e2ed03-e6eb-455a-bf6d-2d464aa72d57",
     "showTitle": false,
     "title": ""
    }
   },
   "outputs": [
    {
     "data": {
      "text/html": [
       "<style scoped>\n",
       "  .ansiout {\n",
       "    display: block;\n",
       "    unicode-bidi: embed;\n",
       "    white-space: pre-wrap;\n",
       "    word-wrap: break-word;\n",
       "    word-break: break-all;\n",
       "    font-family: \"Source Code Pro\", \"Menlo\", monospace;;\n",
       "    font-size: 13px;\n",
       "    color: #555;\n",
       "    margin-left: 4px;\n",
       "    line-height: 19px;\n",
       "  }\n",
       "</style>\n",
       "<div class=\"ansiout\"></div>"
      ]
     },
     "metadata": {
      "application/vnd.databricks.v1+output": {
       "addedWidgets": {},
       "arguments": {},
       "data": "<div class=\"ansiout\"></div>",
       "datasetInfos": [],
       "metadata": {},
       "removedWidgets": [],
       "type": "html"
      }
     },
     "output_type": "display_data"
    }
   ],
   "source": [
    "# part c - job to initialize the graph (RUN THIS CELL AS IS)\n",
    "def initGraph(dataRDD):\n",
    "    \"\"\"\n",
    "    Spark job to read in the raw data and initialize an \n",
    "    adjacency list representation with a record for each\n",
    "    node (including dangling nodes).\n",
    "    \n",
    "    Returns: \n",
    "        graphRDD -  a pair RDD of (node_id , (score, edges))\n",
    "        \n",
    "    NOTE: The score should be a float, but you may want to be \n",
    "    strategic about how format the edges... there are a few \n",
    "    options that can work. Make sure that whatever you choose\n",
    "    is sufficient for Question 8 where you'll run PageRank.\n",
    "    \"\"\"\n",
    "    ############## YOUR CODE HERE ###############\n",
    "  \n",
    "    # write any helper functions here\n",
    "                    \n",
    "    # Emit node (key) and (weight, [edges])\n",
    "    def emitnode(line):\n",
    "      '''\n",
    "      Function that takes the RDD format (\"5\\t{'4': 3, '2': 1, '6': 1}\") \n",
    "      and generates output: ('5', (1/n, [('4',3), ('2',1), ('6',1)]))\n",
    "      '''\n",
    "\n",
    "      # Split line\n",
    "      node, edges_dict_str = line.split('\\t')\n",
    "      #convert edges string to dictionary  \n",
    "      edges_dict = ast.literal_eval(edges_dict_str)  \n",
    "      # Rank of 1/N for each node\n",
    "      initrank = 1/n.value\n",
    "      # Calculate weight\n",
    "      weight = float(1.0 * initrank)\n",
    "      \n",
    "      # Emit (node, (weight, [edges])) for every key, the empty list will take care of dangling nodes\n",
    "      for nd in edges_dict.keys():\n",
    "        if (edges_dict.get(nd) == 1):\n",
    "          yield (nd, (weight, []))\n",
    "        yield (node, (weight, list(edges_dict.items()))) \n",
    "        \n",
    "    # Merge node edges  \n",
    "    def merge(d1, d2):\n",
    "      '''\n",
    "      Function returns weight and merged edges.\n",
    "      '''\n",
    "      weight1, edge_list1 = d1 \n",
    "      weight2, edge_list2 = d2\n",
    "      return (weight1, list(set(edge_list1 + edge_list2)))\n",
    "      \n",
    "    # write your main Spark code here\n",
    "    \n",
    "    # Broadcast total number of nodes\n",
    "    n = sc.broadcast(count_nodes(dataRDD)) \n",
    "        \n",
    "    graphRDD = dataRDD.flatMap(lambda x: emitnode(x)) \\\n",
    "                      .reduceByKey(lambda x, y: merge(x, y))\n",
    "                      \n",
    "    ############## (END) YOUR CODE ##############\n",
    "    \n",
    "    return graphRDD"
   ]
  },
  {
   "cell_type": "code",
   "execution_count": 0,
   "metadata": {
    "application/vnd.databricks.v1+cell": {
     "inputWidgets": {},
     "nuid": "034cc4eb-93bd-4ad0-b424-b74dd2dd9629",
     "showTitle": false,
     "title": ""
    }
   },
   "outputs": [
    {
     "data": {
      "text/html": [
       "<style scoped>\n",
       "  .ansiout {\n",
       "    display: block;\n",
       "    unicode-bidi: embed;\n",
       "    white-space: pre-wrap;\n",
       "    word-wrap: break-word;\n",
       "    word-break: break-all;\n",
       "    font-family: \"Source Code Pro\", \"Menlo\", monospace;;\n",
       "    font-size: 13px;\n",
       "    color: #555;\n",
       "    margin-left: 4px;\n",
       "    line-height: 19px;\n",
       "  }\n",
       "</style>\n",
       "<div class=\"ansiout\">... test graph initialized in 0.46318960189819336 seconds.\n",
       "Out[34]: [(&#39;8&#39;, (0.09090909090909091, [(&#39;5&#39;, 1), (&#39;2&#39;, 1)])),\n",
       " (&#39;9&#39;, (0.09090909090909091, [(&#39;5&#39;, 1), (&#39;2&#39;, 1)])),\n",
       " (&#39;10&#39;, (0.09090909090909091, [(&#39;5&#39;, 1)])),\n",
       " (&#39;1&#39;, (0.09090909090909091, [])),\n",
       " (&#39;4&#39;, (0.09090909090909091, [(&#39;2&#39;, 1), (&#39;1&#39;, 1)])),\n",
       " (&#39;3&#39;, (0.09090909090909091, [(&#39;2&#39;, 2)])),\n",
       " (&#39;2&#39;, (0.09090909090909091, [(&#39;3&#39;, 1)])),\n",
       " (&#39;5&#39;, (0.09090909090909091, [(&#39;2&#39;, 1), (&#39;4&#39;, 3), (&#39;6&#39;, 1)])),\n",
       " (&#39;6&#39;, (0.09090909090909091, [(&#39;2&#39;, 1), (&#39;5&#39;, 2)])),\n",
       " (&#39;7&#39;, (0.09090909090909091, [(&#39;5&#39;, 1), (&#39;2&#39;, 1)])),\n",
       " (&#39;11&#39;, (0.09090909090909091, [(&#39;5&#39;, 2)]))]</div>"
      ]
     },
     "metadata": {
      "application/vnd.databricks.v1+output": {
       "addedWidgets": {},
       "arguments": {},
       "data": "<div class=\"ansiout\">... test graph initialized in 0.46318960189819336 seconds.\nOut[34]: [(&#39;8&#39;, (0.09090909090909091, [(&#39;5&#39;, 1), (&#39;2&#39;, 1)])),\n (&#39;9&#39;, (0.09090909090909091, [(&#39;5&#39;, 1), (&#39;2&#39;, 1)])),\n (&#39;10&#39;, (0.09090909090909091, [(&#39;5&#39;, 1)])),\n (&#39;1&#39;, (0.09090909090909091, [])),\n (&#39;4&#39;, (0.09090909090909091, [(&#39;2&#39;, 1), (&#39;1&#39;, 1)])),\n (&#39;3&#39;, (0.09090909090909091, [(&#39;2&#39;, 2)])),\n (&#39;2&#39;, (0.09090909090909091, [(&#39;3&#39;, 1)])),\n (&#39;5&#39;, (0.09090909090909091, [(&#39;2&#39;, 1), (&#39;4&#39;, 3), (&#39;6&#39;, 1)])),\n (&#39;6&#39;, (0.09090909090909091, [(&#39;2&#39;, 1), (&#39;5&#39;, 2)])),\n (&#39;7&#39;, (0.09090909090909091, [(&#39;5&#39;, 1), (&#39;2&#39;, 1)])),\n (&#39;11&#39;, (0.09090909090909091, [(&#39;5&#39;, 2)]))]</div>",
       "datasetInfos": [],
       "metadata": {},
       "removedWidgets": [],
       "type": "html"
      }
     },
     "output_type": "display_data"
    }
   ],
   "source": [
    "# part c - run your Spark job on the test graph (RUN THIS CELL AS IS)\n",
    "start = time.time()\n",
    "testGraph = initGraph(testRDD).collect()\n",
    "print(f'... test graph initialized in {time.time() - start} seconds.')\n",
    "testGraph"
   ]
  },
  {
   "cell_type": "code",
   "execution_count": 0,
   "metadata": {
    "application/vnd.databricks.v1+cell": {
     "inputWidgets": {},
     "nuid": "9c8452be-fb1f-4a84-923e-6b4305bbda03",
     "showTitle": false,
     "title": ""
    }
   },
   "outputs": [
    {
     "data": {
      "text/html": [
       "<style scoped>\n",
       "  .ansiout {\n",
       "    display: block;\n",
       "    unicode-bidi: embed;\n",
       "    white-space: pre-wrap;\n",
       "    word-wrap: break-word;\n",
       "    word-break: break-all;\n",
       "    font-family: \"Source Code Pro\", \"Menlo\", monospace;;\n",
       "    font-size: 13px;\n",
       "    color: #555;\n",
       "    margin-left: 4px;\n",
       "    line-height: 19px;\n",
       "  }\n",
       "</style>\n",
       "<div class=\"ansiout\">... full graph initialized in 550.081431388855 seconds\n",
       "</div>"
      ]
     },
     "metadata": {
      "application/vnd.databricks.v1+output": {
       "addedWidgets": {},
       "arguments": {},
       "data": "<div class=\"ansiout\">... full graph initialized in 550.081431388855 seconds\n</div>",
       "datasetInfos": [],
       "metadata": {},
       "removedWidgets": [],
       "type": "html"
      }
     },
     "output_type": "display_data"
    }
   ],
   "source": [
    "# part c - run your code on the main graph (RUN THIS CELL AS IS)\n",
    "start = time.time()\n",
    "wikiGraphRDD = initGraph(wikiRDD)\n",
    "print(f'... full graph initialized in {time.time() - start} seconds')"
   ]
  },
  {
   "cell_type": "code",
   "execution_count": 0,
   "metadata": {
    "application/vnd.databricks.v1+cell": {
     "inputWidgets": {},
     "nuid": "fe2c9a8d-1c5b-47a6-9b9b-f62e7889548a",
     "showTitle": false,
     "title": ""
    }
   },
   "outputs": [
    {
     "data": {
      "text/html": [
       "<style scoped>\n",
       "  .ansiout {\n",
       "    display: block;\n",
       "    unicode-bidi: embed;\n",
       "    white-space: pre-wrap;\n",
       "    word-wrap: break-word;\n",
       "    word-break: break-all;\n",
       "    font-family: \"Source Code Pro\", \"Menlo\", monospace;;\n",
       "    font-size: 13px;\n",
       "    color: #555;\n",
       "    margin-left: 4px;\n",
       "    line-height: 19px;\n",
       "  }\n",
       "</style>\n",
       "<div class=\"ansiout\">Total number of records: 14802997\n",
       "First record: [(&#39;15180114&#39;, (6.582291778908455e-08, []))]\n",
       "... initialization continued: 2016.3756444454193 seconds\n",
       "</div>"
      ]
     },
     "metadata": {
      "application/vnd.databricks.v1+output": {
       "addedWidgets": {},
       "arguments": {},
       "data": "<div class=\"ansiout\">Total number of records: 14802997\nFirst record: [(&#39;15180114&#39;, (6.582291778908455e-08, []))]\n... initialization continued: 2016.3756444454193 seconds\n</div>",
       "datasetInfos": [],
       "metadata": {},
       "removedWidgets": [],
       "type": "html"
      }
     },
     "output_type": "display_data"
    }
   ],
   "source": [
    "# part c - confirm record format and count (RUN THIS CELL AS IS)\n",
    "start = time.time()\n",
    "print(f'Total number of records: {wikiGraphRDD.count()}')\n",
    "print(f'First record: {wikiGraphRDD.take(1)}')\n",
    "print(f'... initialization continued: {time.time() - start} seconds')"
   ]
  },
  {
   "cell_type": "markdown",
   "metadata": {
    "application/vnd.databricks.v1+cell": {
     "inputWidgets": {},
     "nuid": "0dcf0700-6867-4354-8fe3-6d9e8d209ae9",
     "showTitle": false,
     "title": ""
    }
   },
   "source": [
    "# Question 8 - PageRank part 2 (Iterate until convergence)\n",
    "\n",
    "Finally we're ready to compute the page rank. In this last question you'll write a Spark job that iterates over the initialized graph updating each nodes score until it reaches a convergence threshold. The diagram below gives a visual overview of the process using a 5 node toy graph. Pay particular attention to what happens to the dangling mass at each iteration.\n",
    "\n",
    "<img src='https://github.com/kyleiwaniec/w261_assets/blob/master/images/HW5/PR-illustrated.png?raw=true' width=50%>\n",
    "\n",
    "\n",
    "\n",
    "__`A Note about Notation:`__ The formula above describes how to compute the updated page rank for a node in the graph. The $P$ on the left hand side of the equation is the new score, and the $P$ on the right hand side of the equation represents the accumulated mass that was re-distributed from all of that node's in-links. Finally, $|G|$ is the number of nodes in the graph (which we've elsewhere refered to as $N$).\n",
    "\n",
    "### Q8 Tasks:\n",
    "* __a) short response:__ In terms of the infinite random walk analogy, interpret the meaning of the first term in the PageRank calculation: $\\alpha * \\frac{1}{|G|}$\n",
    "\n",
    "* __b) short response:__ In the equation for the PageRank calculation above what does $m$ represent and why do we divide it by $|G|$?\n",
    "\n",
    "* __c) short response:__ Keeping track of the total probability mass after each update is a good way to confirm that your algorithm is on track. How much should the total mass be after each iteration?\n",
    "\n",
    "* __d) code:__ Fill in the missing code below to create a Spark job that take the initialized graph as its input then iterates over the graph and for each pass:\n",
    "  * reads in each record and redistributes the node's current score to each of its neighbors\n",
    "  * uses an accumulator to add up the dangling node mass and redistribute it among all the nodes. (_Don't forget to reset this accumulator after each iteration!_)\n",
    "  * uses an accumulator to keep track of the total mass being redistributed.( _This is just for your own check, its not part of the PageRank calculation. Don't forget to reset this accumulator after each iteration._)\n",
    "  * aggregates these partial scores for each node\n",
    "  * applies telportation and damping factors as described in the formula above.\n",
    "  * combine all of the above to compute the PageRank as described by the formula above.\n",
    "  * \n",
    "  \n",
    "   __WARNING:__ Some pages contain multiple hyperlinks to the same destination, please take this into account when redistributing the mass.\n",
    "\n",
    " \n",
    "__`NOTE:`__ Please observe scalability best practices in the design of your code & comment your work clearly. You will be graded on both the clarity and the design."
   ]
  },
  {
   "cell_type": "markdown",
   "metadata": {
    "application/vnd.databricks.v1+cell": {
     "inputWidgets": {},
     "nuid": "33c92d16-7a67-4492-bca2-1be9135fbacb",
     "showTitle": false,
     "title": ""
    }
   },
   "source": [
    "### Q8 Student Answers:\n",
    "\n",
    "> __a)__ In terms of the infinite random walk analogy, the first term represents the probability of teleportation or random jump (1 - \\\\\\(\\alpha\\\\)) \"damping factor\" divided by `|G|` the number of nodes. \n",
    "> $\\alpha is the teleportation factor, $\\alpha * \\frac{1}{|G|}$ means uniform distribution for teleportation across all nodes in the graph, meaning a random surfer can go from current node to any other node in randomly uniform way.\n",
    "\n",
    "> __b)__ In the equation for the PageRank calculation, \\\\(m\\\\) represents the total dangling node PageRank mass that is lost due to dangling nodes. \\\\(m\\\\) is divided by the total number of nodes because each node gets the same share of the dangling mass to preserve the PageRank calculations.\n",
    "\n",
    "> __c)__ The total mass should be one after each iteration across the graph. This is the sum of the PageRank probabilities of the web surfer being on a node which gets redistributed after each iteration. We can keep track of the total probability mass using the verbose mode to confirm that the algorithm is on track."
   ]
  },
  {
   "cell_type": "code",
   "execution_count": 0,
   "metadata": {
    "application/vnd.databricks.v1+cell": {
     "inputWidgets": {},
     "nuid": "895ef53c-27bc-4749-82b9-81a926782825",
     "showTitle": false,
     "title": ""
    }
   },
   "outputs": [
    {
     "data": {
      "text/html": [
       "<style scoped>\n",
       "  .ansiout {\n",
       "    display: block;\n",
       "    unicode-bidi: embed;\n",
       "    white-space: pre-wrap;\n",
       "    word-wrap: break-word;\n",
       "    word-break: break-all;\n",
       "    font-family: \"Source Code Pro\", \"Menlo\", monospace;;\n",
       "    font-size: 13px;\n",
       "    color: #555;\n",
       "    margin-left: 4px;\n",
       "    line-height: 19px;\n",
       "  }\n",
       "</style>\n",
       "<div class=\"ansiout\"></div>"
      ]
     },
     "metadata": {
      "application/vnd.databricks.v1+output": {
       "addedWidgets": {},
       "arguments": {},
       "data": "<div class=\"ansiout\"></div>",
       "datasetInfos": [],
       "metadata": {},
       "removedWidgets": [],
       "type": "html"
      }
     },
     "output_type": "display_data"
    }
   ],
   "source": [
    "# part d - provided FloatAccumulator class (RUN THIS CELL AS IS)\n",
    "\n",
    "from pyspark.accumulators import AccumulatorParam\n",
    "\n",
    "class FloatAccumulatorParam(AccumulatorParam):\n",
    "    \"\"\"\n",
    "    Custom accumulator for use in page rank to keep track of various masses.\n",
    "    \n",
    "    IMPORTANT: accumulators should only be called inside actions to avoid duplication.\n",
    "    We stringly recommend you use the 'foreach' action in your implementation below.\n",
    "    \"\"\"\n",
    "    def zero(self, value):\n",
    "        return value\n",
    "    def addInPlace(self, val1, val2):\n",
    "        return val1 + val2"
   ]
  },
  {
   "cell_type": "code",
   "execution_count": 0,
   "metadata": {
    "application/vnd.databricks.v1+cell": {
     "inputWidgets": {},
     "nuid": "8cb9b4ff-791b-4151-9eed-1ee9192eb9dc",
     "showTitle": false,
     "title": ""
    }
   },
   "outputs": [
    {
     "data": {
      "text/html": [
       "<style scoped>\n",
       "  .ansiout {\n",
       "    display: block;\n",
       "    unicode-bidi: embed;\n",
       "    white-space: pre-wrap;\n",
       "    word-wrap: break-word;\n",
       "    word-break: break-all;\n",
       "    font-family: \"Source Code Pro\", \"Menlo\", monospace;;\n",
       "    font-size: 13px;\n",
       "    color: #555;\n",
       "    margin-left: 4px;\n",
       "    line-height: 19px;\n",
       "  }\n",
       "</style>\n",
       "<div class=\"ansiout\"></div>"
      ]
     },
     "metadata": {
      "application/vnd.databricks.v1+output": {
       "addedWidgets": {},
       "arguments": {},
       "data": "<div class=\"ansiout\"></div>",
       "datasetInfos": [],
       "metadata": {},
       "removedWidgets": [],
       "type": "html"
      }
     },
     "output_type": "display_data"
    }
   ],
   "source": [
    "# part d - job to run PageRank (RUN THIS CELL AS IS)\n",
    "def runPageRank(graphInitRDD, alpha = 0.15, maxIter = 10, verbose = True):\n",
    "    \"\"\"\n",
    "    Spark job to implement page rank\n",
    "    Args: \n",
    "        graphInitRDD  - pair RDD of (node_id , (score, edges))\n",
    "        alpha         - (float) teleportation factor\n",
    "        maxIter       - (int) stopping criteria (number of iterations)\n",
    "        verbose       - (bool) option to print logging info after each iteration\n",
    "    Returns:\n",
    "        steadyStateRDD - pair RDD of (node_id, pageRank)\n",
    "    \"\"\"\n",
    "    # Teleportation:\n",
    "    a = sc.broadcast(alpha)\n",
    "    \n",
    "    # Damping factor:\n",
    "    d = sc.broadcast(1-a.value)\n",
    "    \n",
    "    # Initialize accumulators for dangling mass & total mass\n",
    "    mmAccum = sc.accumulator(0.0, FloatAccumulatorParam())\n",
    "    totAccum = sc.accumulator(0.0, FloatAccumulatorParam())\n",
    "    \n",
    "    ############## YOUR CODE HERE ###############\n",
    "        \n",
    "    # write your helper functions here, \n",
    "    # please document the purpose of each clearly \n",
    "    # for reference, the master solution has 5 helper functions.\n",
    "    \n",
    "    # Calculate probability of each node ('node', (prob,[]))\n",
    "    def node_prob(x):\n",
    "      return x[1][0]\n",
    "    \n",
    "    # Calculate total weight of all of the edges for non-dangling nodes \n",
    "    # ('node_id', (prob, [('5', 1), ('2', 1)])) = 1+1 = 2\n",
    "    def neighbor_node_total_weight(edges):\n",
    "      return sum(weight for  neighbor_node, weight in edges)\n",
    "    \n",
    "    # Calculate PageRank contribution\n",
    "    # input ('node_id', (prob, [('5', 1), ('2', 1)]), 2)\n",
    "    def pr_contribution(x):\n",
    "      node_id, node_payload, total_weight = x\n",
    "      node_prob, edges = node_payload\n",
    "         \n",
    "      # Yield neighbor_node and payload with updated probability\n",
    "      for neighbor_node, weight in edges:\n",
    "        yield (neighbor_node, (node_prob * weight/total_weight, []))\n",
    "      \n",
    "      # Yield node and payload    \n",
    "      yield (node_id, (0, edges))    \n",
    "    \n",
    "    # Merge node edges  \n",
    "    def merge_prob_edges(d1, d2):\n",
    "\n",
    "      weight1, edge_list1 = d1 \n",
    "      weight2, edge_list2 = d2\n",
    "      \n",
    "      return (weight1 + weight2, list(set(edge_list1 + edge_list2)))\n",
    "    \n",
    "    # Calculate total PageRank - use teleportation and dangling mass\n",
    "    def pagerank_tot(x):\n",
    "\n",
    "      nonteleport_value = (d.value * ((danglingMass.value/n.value) + x[0]))\n",
    "      teleport_value = (a.value/n.value)\n",
    "      pageRank_value = (nonteleport_value + teleport_value)\n",
    "\n",
    "      return (pageRank_value, x[1])\n",
    "      \n",
    "    ##################END-HELPER######################################\n",
    "    \n",
    "    # Broadcast total nodes count \n",
    "    n = sc.broadcast(graphInitRDD.count()) \n",
    "    \n",
    "    # Spark job to implement page rank\n",
    "    for i in range(maxIter):\n",
    "      # initialize accumulators for dangling mass & total mass\n",
    "      # for each iteration\n",
    "      mmAccum = sc.accumulator(0.0, FloatAccumulatorParam())\n",
    "      totAccum = sc.accumulator(0.0, FloatAccumulatorParam())\n",
    "     \n",
    "      # get dangling node mass for non-dangling nodes\n",
    "      # (filtering dangling nodes)\n",
    "      graphInitRDD.filter(lambda a: a[1][1] == []) \\\n",
    "                  .foreach(lambda a: mmAccum.add(node_prob(a)))\n",
    "     \n",
    "      # MapReduce job\n",
    "      graphInitRDD = graphInitRDD.map(lambda a: (a[0], a[1], neighbor_node_total_weight(a[1][1]))) \\\n",
    "                                 .flatMap(lambda a: pr_contribution(a)) \\\n",
    "                                 .reduceByKey(lambda a, b: merge_prob_edges(a, b)) \\\n",
    "                                 .cache()\n",
    "      \n",
    "      # Broadcast dangling_mass\n",
    "      danglingMass = sc.broadcast(mmAccum.value)\n",
    "      \n",
    "      # Calculate PageRank using teleportation and damping factors\n",
    "      graphInitRDD = graphInitRDD.mapValues(lambda dm: pagerank_tot(dm))\n",
    "      \n",
    "      # check if totAccum is equal to 1 \n",
    "      graphInitRDD.foreach(lambda x: totAccum.add(x[1][0]))\n",
    "      if verbose:\n",
    "        print(\"Iteration {}, Total probability {} \".format(i, totAccum.value))\n",
    "      assert totAccum.value > 0.99\n",
    "      \n",
    "    # Output: node_id, pageRank\n",
    "    steadyStateRDD = graphInitRDD.map(lambda a: (int(a[0]), a[1][0]))\n",
    "    \n",
    "    ############## (END) YOUR CODE ###############\n",
    "    \n",
    "    return steadyStateRDD"
   ]
  },
  {
   "cell_type": "code",
   "execution_count": 0,
   "metadata": {
    "application/vnd.databricks.v1+cell": {
     "inputWidgets": {},
     "nuid": "c2d3caf2-4f9a-496c-9cfb-17fee9eedf95",
     "showTitle": false,
     "title": ""
    }
   },
   "outputs": [
    {
     "data": {
      "text/html": [
       "<style scoped>\n",
       "  .ansiout {\n",
       "    display: block;\n",
       "    unicode-bidi: embed;\n",
       "    white-space: pre-wrap;\n",
       "    word-wrap: break-word;\n",
       "    word-break: break-all;\n",
       "    font-family: \"Source Code Pro\", \"Menlo\", monospace;;\n",
       "    font-size: 13px;\n",
       "    color: #555;\n",
       "    margin-left: 4px;\n",
       "    line-height: 19px;\n",
       "  }\n",
       "</style>\n",
       "<div class=\"ansiout\">...trained 20 iterations in 6.614922523498535 seconds.\n",
       "Top 20 ranked nodes:\n",
       "Out[39]: [(2, 0.3620640495978872),\n",
       " (3, 0.333992700474142),\n",
       " (5, 0.08506399429624555),\n",
       " (4, 0.06030963508473455),\n",
       " (1, 0.04255740809817991),\n",
       " (6, 0.03138662354831139),\n",
       " (8, 0.01692511778009981),\n",
       " (9, 0.01692511778009981),\n",
       " (10, 0.01692511778009981),\n",
       " (7, 0.01692511778009981),\n",
       " (11, 0.01692511778009981)]</div>"
      ]
     },
     "metadata": {
      "application/vnd.databricks.v1+output": {
       "addedWidgets": {},
       "arguments": {},
       "data": "<div class=\"ansiout\">...trained 20 iterations in 6.614922523498535 seconds.\nTop 20 ranked nodes:\nOut[39]: [(2, 0.3620640495978872),\n (3, 0.333992700474142),\n (5, 0.08506399429624555),\n (4, 0.06030963508473455),\n (1, 0.04255740809817991),\n (6, 0.03138662354831139),\n (8, 0.01692511778009981),\n (9, 0.01692511778009981),\n (10, 0.01692511778009981),\n (7, 0.01692511778009981),\n (11, 0.01692511778009981)]</div>",
       "datasetInfos": [],
       "metadata": {},
       "removedWidgets": [],
       "type": "html"
      }
     },
     "output_type": "display_data"
    }
   ],
   "source": [
    "# part d - run PageRank on the test graph (RUN THIS CELL AS IS)\n",
    "# NOTE: while developing your code you may want turn on the verbose option\n",
    "nIter = 20\n",
    "testGraphRDD = initGraph(testRDD)\n",
    "start = time.time()\n",
    "test_results = runPageRank(testGraphRDD, alpha = 0.15, maxIter = nIter, verbose = False)\n",
    "print(f'...trained {nIter} iterations in {time.time() - start} seconds.')\n",
    "print(f'Top 20 ranked nodes:')\n",
    "test_results.takeOrdered(20, key=lambda x: - x[1])"
   ]
  },
  {
   "cell_type": "markdown",
   "metadata": {
    "application/vnd.databricks.v1+cell": {
     "inputWidgets": {},
     "nuid": "045ea11a-feaf-4392-a23b-77ecaa0809dd",
     "showTitle": false,
     "title": ""
    }
   },
   "source": [
    "__`expected results for the test graph:`__\n",
    "```\n",
    "[(2, 0.3620640495978871),\n",
    " (3, 0.333992700474142),\n",
    " (5, 0.08506399429624555),\n",
    " (4, 0.06030963508473455),\n",
    " (1, 0.04255740809817991),\n",
    " (6, 0.03138662354831139),\n",
    " (8, 0.01692511778009981),\n",
    " (10, 0.01692511778009981),\n",
    " (7, 0.01692511778009981),\n",
    " (9, 0.01692511778009981),\n",
    " (11, 0.01692511778009981)]\n",
    "```"
   ]
  },
  {
   "cell_type": "code",
   "execution_count": 0,
   "metadata": {
    "application/vnd.databricks.v1+cell": {
     "inputWidgets": {},
     "nuid": "2365e763-eeb5-4d18-9f45-e6c6cdee04d7",
     "showTitle": false,
     "title": ""
    }
   },
   "outputs": [
    {
     "data": {
      "text/html": [
       "<style scoped>\n",
       "  .ansiout {\n",
       "    display: block;\n",
       "    unicode-bidi: embed;\n",
       "    white-space: pre-wrap;\n",
       "    word-wrap: break-word;\n",
       "    word-break: break-all;\n",
       "    font-family: \"Source Code Pro\", \"Menlo\", monospace;;\n",
       "    font-size: 13px;\n",
       "    color: #555;\n",
       "    margin-left: 4px;\n",
       "    line-height: 19px;\n",
       "  }\n",
       "</style>\n",
       "<div class=\"ansiout\">Iteration 0, Total probability 0.9954384524024147 \n",
       "Iteration 1, Total probability 1.0110963934214214 \n",
       "Iteration 2, Total probability 1.0237905808686674 \n",
       "Iteration 3, Total probability 1.034420454107491 \n",
       "Iteration 4, Total probability 1.0434447777190776 \n",
       "Iteration 5, Total probability 1.051151180598463 \n",
       "Iteration 6, Total probability 1.057750028784004 \n",
       "Iteration 7, Total probability 1.0634078581672268 \n",
       "Iteration 8, Total probability 1.0682620274312775 \n",
       "Iteration 9, Total probability 1.0724280978234106 \n",
       "...trained 10 iterations in 12246.606081962585 seconds.\n",
       "Top 20 ranked nodes:\n",
       "Out[40]: [(13455888, 0.0016483443077108615),\n",
       " (4695850, 0.0007167001515088286),\n",
       " (1184351, 0.0006419733734514514),\n",
       " (5051368, 0.0006390798485361758),\n",
       " (2437837, 0.0004935188612750985),\n",
       " (6076759, 0.0004863889778665052),\n",
       " (4196067, 0.0004724284655861838),\n",
       " (13425865, 0.0004701060344016454),\n",
       " (6172466, 0.0004514232056679379),\n",
       " (1384888, 0.0004309485200130813),\n",
       " (6113490, 0.0004249989538546294),\n",
       " (14112583, 0.000419924812582346),\n",
       " (7902219, 0.0003951911192977627),\n",
       " (10390714, 0.0003893730790750138),\n",
       " (12836211, 0.00038397957216651117),\n",
       " (6237129, 0.00037557448170087845),\n",
       " (6416278, 0.00037240712468538046),\n",
       " (13432150, 0.0003616622426939041),\n",
       " (1516699, 0.0003554029453439947),\n",
       " (7990491, 0.00032767299284518437)]</div>"
      ]
     },
     "metadata": {
      "application/vnd.databricks.v1+output": {
       "addedWidgets": {},
       "arguments": {},
       "data": "<div class=\"ansiout\">Iteration 0, Total probability 0.9954384524024147 \nIteration 1, Total probability 1.0110963934214214 \nIteration 2, Total probability 1.0237905808686674 \nIteration 3, Total probability 1.034420454107491 \nIteration 4, Total probability 1.0434447777190776 \nIteration 5, Total probability 1.051151180598463 \nIteration 6, Total probability 1.057750028784004 \nIteration 7, Total probability 1.0634078581672268 \nIteration 8, Total probability 1.0682620274312775 \nIteration 9, Total probability 1.0724280978234106 \n...trained 10 iterations in 12246.606081962585 seconds.\nTop 20 ranked nodes:\nOut[40]: [(13455888, 0.0016483443077108615),\n (4695850, 0.0007167001515088286),\n (1184351, 0.0006419733734514514),\n (5051368, 0.0006390798485361758),\n (2437837, 0.0004935188612750985),\n (6076759, 0.0004863889778665052),\n (4196067, 0.0004724284655861838),\n (13425865, 0.0004701060344016454),\n (6172466, 0.0004514232056679379),\n (1384888, 0.0004309485200130813),\n (6113490, 0.0004249989538546294),\n (14112583, 0.000419924812582346),\n (7902219, 0.0003951911192977627),\n (10390714, 0.0003893730790750138),\n (12836211, 0.00038397957216651117),\n (6237129, 0.00037557448170087845),\n (6416278, 0.00037240712468538046),\n (13432150, 0.0003616622426939041),\n (1516699, 0.0003554029453439947),\n (7990491, 0.00032767299284518437)]</div>",
       "datasetInfos": [],
       "metadata": {},
       "removedWidgets": [],
       "type": "html"
      }
     },
     "output_type": "display_data"
    }
   ],
   "source": [
    "# part d - run PageRank on the full graph (RUN THIS CELL AS IS)\n",
    "# NOTE: wikiGraphRDD should have been computed & cached above!\n",
    "nIter = 10\n",
    "start = time.time()\n",
    "full_results = runPageRank(wikiGraphRDD, alpha = 0.15, maxIter = nIter, verbose = True)\n",
    "print(f'...trained {nIter} iterations in {time.time() - start} seconds.')\n",
    "print(f'Top 20 ranked nodes:')\n",
    "full_results.takeOrdered(20, key=lambda x: - x[1])"
   ]
  },
  {
   "cell_type": "markdown",
   "metadata": {
    "application/vnd.databricks.v1+cell": {
     "inputWidgets": {},
     "nuid": "b23e641c-a37a-4985-b834-e0c9c7bc2e70",
     "showTitle": false,
     "title": ""
    }
   },
   "source": [
    "__`expected results (posted by Vinicio):`__\n",
    "```\n",
    "top_20 = [(13455888, 0.0015447247129832947),\n",
    " (4695850, 0.0006710240718906518),\n",
    " (5051368, 0.0005983856809747697),\n",
    " (1184351, 0.0005982073536467391),\n",
    " (2437837, 0.0004624928928940748),\n",
    " (6076759, 0.00045509400641448284),\n",
    " (4196067, 0.0004423778888372447),\n",
    " (13425865, 0.00044155351714348035),\n",
    " (6172466, 0.0004224002001845032),\n",
    " (1384888, 0.0004012895604073632),\n",
    " (6113490, 0.00039578924771805474),\n",
    " (14112583, 0.0003943847283754762),\n",
    " (7902219, 0.000370098784735699),\n",
    " (10390714, 0.0003650264964328283),\n",
    " (12836211, 0.0003619948863114985),\n",
    " (6237129, 0.0003519555847625285),\n",
    " (6416278, 0.00034866235645266493),\n",
    " (13432150, 0.00033936510637418247),\n",
    " (1516699, 0.00033297500286244265),\n",
    " (7990491, 0.00030760906265869104)]\n",
    "```"
   ]
  },
  {
   "cell_type": "code",
   "execution_count": 0,
   "metadata": {
    "application/vnd.databricks.v1+cell": {
     "inputWidgets": {},
     "nuid": "bb49e440-cb22-4b80-9be6-a75766b940b8",
     "showTitle": false,
     "title": ""
    }
   },
   "outputs": [
    {
     "data": {
      "text/html": [
       "<style scoped>\n",
       "  .ansiout {\n",
       "    display: block;\n",
       "    unicode-bidi: embed;\n",
       "    white-space: pre-wrap;\n",
       "    word-wrap: break-word;\n",
       "    word-break: break-all;\n",
       "    font-family: \"Source Code Pro\", \"Menlo\", monospace;;\n",
       "    font-size: 13px;\n",
       "    color: #555;\n",
       "    margin-left: 4px;\n",
       "    line-height: 19px;\n",
       "  }\n",
       "</style>\n",
       "<div class=\"ansiout\"></div>"
      ]
     },
     "metadata": {
      "application/vnd.databricks.v1+output": {
       "addedWidgets": {},
       "arguments": {},
       "data": "<div class=\"ansiout\"></div>",
       "datasetInfos": [],
       "metadata": {},
       "removedWidgets": [],
       "type": "html"
      }
     },
     "output_type": "display_data"
    }
   ],
   "source": [
    "top_20 = full_results.takeOrdered(20, key=lambda x: - x[1])"
   ]
  },
  {
   "cell_type": "code",
   "execution_count": 0,
   "metadata": {
    "application/vnd.databricks.v1+cell": {
     "inputWidgets": {},
     "nuid": "4c4e6e88-0b20-4427-bcae-df03496695b9",
     "showTitle": false,
     "title": ""
    }
   },
   "outputs": [
    {
     "data": {
      "text/html": [
       "<style scoped>\n",
       "  .ansiout {\n",
       "    display: block;\n",
       "    unicode-bidi: embed;\n",
       "    white-space: pre-wrap;\n",
       "    word-wrap: break-word;\n",
       "    word-break: break-all;\n",
       "    font-family: \"Source Code Pro\", \"Menlo\", monospace;;\n",
       "    font-size: 13px;\n",
       "    color: #555;\n",
       "    margin-left: 4px;\n",
       "    line-height: 19px;\n",
       "  }\n",
       "</style>\n",
       "<div class=\"ansiout\">Wrote 675 bytes.\n",
       "</div>"
      ]
     },
     "metadata": {
      "application/vnd.databricks.v1+output": {
       "addedWidgets": {},
       "arguments": {},
       "data": "<div class=\"ansiout\">Wrote 675 bytes.\n</div>",
       "datasetInfos": [],
       "metadata": {},
       "removedWidgets": [],
       "type": "html"
      }
     },
     "output_type": "display_data"
    },
    {
     "data": {
      "text/html": [
       "<style scoped>\n",
       "  .table-result-container {\n",
       "    max-height: 300px;\n",
       "    overflow: auto;\n",
       "  }\n",
       "  table, th, td {\n",
       "    border: 1px solid black;\n",
       "    border-collapse: collapse;\n",
       "  }\n",
       "  th, td {\n",
       "    padding: 5px;\n",
       "  }\n",
       "  th {\n",
       "    text-align: left;\n",
       "  }\n",
       "</style><div class='table-result-container'><table class='table-result'><thead style='background-color: white'><tr><th>path</th><th>name</th><th>size</th></tr></thead><tbody><tr><td>dbfs:/tmp/team11/top20_wiki.csv</td><td>top20_wiki.csv</td><td>676</td></tr><tr><td>dbfs:/tmp/team11/top20_wiki_110721.csv</td><td>top20_wiki_110721.csv</td><td>675</td></tr></tbody></table></div>"
      ]
     },
     "metadata": {
      "application/vnd.databricks.v1+output": {
       "addedWidgets": {},
       "aggData": [],
       "aggError": "",
       "aggOverflow": false,
       "aggSchema": [],
       "aggSeriesLimitReached": false,
       "aggType": "",
       "arguments": {},
       "columnCustomDisplayInfos": {},
       "data": [
        [
         "dbfs:/tmp/team11/top20_wiki.csv",
         "top20_wiki.csv",
         676
        ],
        [
         "dbfs:/tmp/team11/top20_wiki_110721.csv",
         "top20_wiki_110721.csv",
         675
        ]
       ],
       "datasetInfos": [],
       "dbfsResultPath": null,
       "isJsonSchema": true,
       "metadata": {},
       "overflow": false,
       "plotOptions": {
        "customPlotOptions": {},
        "displayType": "table",
        "pivotAggregation": null,
        "pivotColumns": [],
        "xColumns": [],
        "yColumns": []
       },
       "removedWidgets": [],
       "schema": [
        {
         "metadata": "{}",
         "name": "path",
         "type": "\"string\""
        },
        {
         "metadata": "{}",
         "name": "name",
         "type": "\"string\""
        },
        {
         "metadata": "{}",
         "name": "size",
         "type": "\"long\""
        }
       ],
       "type": "table"
      }
     },
     "output_type": "display_data"
    }
   ],
   "source": [
    "# Save the top_20 results to disc for use later. So you don't have to rerun everything if you restart the cluster.\n",
    "#dbutils.fs.put(hw5_path+\"top20_wiki.csv\", pd.DataFrame(top_20, columns = [\"Index\", \"PageRank\"]).to_csv()) \n",
    "dbutils.fs.put(\"/tmp/team11/\" + \"top20_wiki_110721.csv\", pd.DataFrame(top_20, columns = [\"Index\", \"PageRank\"]).to_csv()) \n",
    "\n",
    "display(dbutils.fs.ls(\"/tmp/team11/\"))"
   ]
  },
  {
   "cell_type": "code",
   "execution_count": 0,
   "metadata": {
    "application/vnd.databricks.v1+cell": {
     "inputWidgets": {},
     "nuid": "633bd45d-a9ab-49a3-8b36-cba73683a7ff",
     "showTitle": false,
     "title": ""
    }
   },
   "outputs": [
    {
     "data": {
      "text/html": [
       "<style scoped>\n",
       "  .ansiout {\n",
       "    display: block;\n",
       "    unicode-bidi: embed;\n",
       "    white-space: pre-wrap;\n",
       "    word-wrap: break-word;\n",
       "    word-break: break-all;\n",
       "    font-family: \"Source Code Pro\", \"Menlo\", monospace;;\n",
       "    font-size: 13px;\n",
       "    color: #555;\n",
       "    margin-left: 4px;\n",
       "    line-height: 19px;\n",
       "  }\n",
       "</style>\n",
       "<div class=\"ansiout\">Out[43]: [&#39;! $var = &amp;quot;&amp;quot;\\t1\\t1\\t0&#39;]</div>"
      ]
     },
     "metadata": {
      "application/vnd.databricks.v1+output": {
       "addedWidgets": {},
       "arguments": {},
       "data": "<div class=\"ansiout\">Out[43]: [&#39;! $var = &amp;quot;&amp;quot;\\t1\\t1\\t0&#39;]</div>",
       "datasetInfos": [],
       "metadata": {},
       "removedWidgets": [],
       "type": "html"
      }
     },
     "output_type": "display_data"
    }
   ],
   "source": [
    "# view record from indexRDD (RUN THIS CELL AS IS)\n",
    "# title\\t indx\\t inDeg\\t outDeg\n",
    "indexRDD.take(1)"
   ]
  },
  {
   "cell_type": "code",
   "execution_count": 0,
   "metadata": {
    "application/vnd.databricks.v1+cell": {
     "inputWidgets": {},
     "nuid": "45fd2ee9-6361-4132-9dd9-53ea3a45930d",
     "showTitle": false,
     "title": ""
    }
   },
   "outputs": [
    {
     "data": {
      "text/html": [
       "<style scoped>\n",
       "  .ansiout {\n",
       "    display: block;\n",
       "    unicode-bidi: embed;\n",
       "    white-space: pre-wrap;\n",
       "    word-wrap: break-word;\n",
       "    word-break: break-all;\n",
       "    font-family: \"Source Code Pro\", \"Menlo\", monospace;;\n",
       "    font-size: 13px;\n",
       "    color: #555;\n",
       "    margin-left: 4px;\n",
       "    line-height: 19px;\n",
       "  }\n",
       "</style>\n",
       "<div class=\"ansiout\"></div>"
      ]
     },
     "metadata": {
      "application/vnd.databricks.v1+output": {
       "addedWidgets": {},
       "arguments": {},
       "data": "<div class=\"ansiout\"></div>",
       "datasetInfos": [],
       "metadata": {},
       "removedWidgets": [],
       "type": "html"
      }
     },
     "output_type": "display_data"
    }
   ],
   "source": [
    "# map indexRDD to new format (index, name) (RUN THIS CELL AS IS)\n",
    "namesKV_RDD = indexRDD.map(lambda x: (int(x.split('\\t')[1]), x.split('\\t')[0]))"
   ]
  },
  {
   "cell_type": "code",
   "execution_count": 0,
   "metadata": {
    "application/vnd.databricks.v1+cell": {
     "inputWidgets": {},
     "nuid": "6039b9c1-fb99-4362-84fa-e60aeeb8e7c7",
     "showTitle": false,
     "title": ""
    }
   },
   "outputs": [
    {
     "data": {
      "text/html": [
       "<style scoped>\n",
       "  .ansiout {\n",
       "    display: block;\n",
       "    unicode-bidi: embed;\n",
       "    white-space: pre-wrap;\n",
       "    word-wrap: break-word;\n",
       "    word-break: break-all;\n",
       "    font-family: \"Source Code Pro\", \"Menlo\", monospace;;\n",
       "    font-size: 13px;\n",
       "    color: #555;\n",
       "    margin-left: 4px;\n",
       "    line-height: 19px;\n",
       "  }\n",
       "</style>\n",
       "<div class=\"ansiout\">Out[45]: [(1, &#39;! $var = &amp;quot;&amp;quot;&#39;), (2, &#39;! (CONFIG.SYS directive)&#39;)]</div>"
      ]
     },
     "metadata": {
      "application/vnd.databricks.v1+output": {
       "addedWidgets": {},
       "arguments": {},
       "data": "<div class=\"ansiout\">Out[45]: [(1, &#39;! $var = &amp;quot;&amp;quot;&#39;), (2, &#39;! (CONFIG.SYS directive)&#39;)]</div>",
       "datasetInfos": [],
       "metadata": {},
       "removedWidgets": [],
       "type": "html"
      }
     },
     "output_type": "display_data"
    }
   ],
   "source": [
    "# see new format (RUN THIS CELL AS IS)\n",
    "namesKV_RDD.take(2)"
   ]
  },
  {
   "cell_type": "code",
   "execution_count": 0,
   "metadata": {
    "application/vnd.databricks.v1+cell": {
     "inputWidgets": {},
     "nuid": "6bbe81d1-c036-4693-99a0-0dcceb22496f",
     "showTitle": false,
     "title": ""
    }
   },
   "outputs": [
    {
     "data": {
      "text/html": [
       "<style scoped>\n",
       "  .ansiout {\n",
       "    display: block;\n",
       "    unicode-bidi: embed;\n",
       "    white-space: pre-wrap;\n",
       "    word-wrap: break-word;\n",
       "    word-break: break-all;\n",
       "    font-family: \"Source Code Pro\", \"Menlo\", monospace;;\n",
       "    font-size: 13px;\n",
       "    color: #555;\n",
       "    margin-left: 4px;\n",
       "    line-height: 19px;\n",
       "  }\n",
       "</style>\n",
       "<div class=\"ansiout\">Out[46]: [&#39;! $var = &amp;quot;&amp;quot;\\t1\\t1\\t0&#39;,\n",
       " &#39;! (CONFIG.SYS directive)\\t2\\t1\\t1&#39;,\n",
       " &#39;! (album)\\t3\\t12\\t17&#39;,\n",
       " &#39;! (disambiguation)\\t4\\t1\\t20&#39;,\n",
       " &#39;! -attention-\\t5\\t1\\t0&#39;,\n",
       " &#39;! Time Zone\\t6\\t1\\t0&#39;,\n",
       " &#39;!! (chess)\\t7\\t0\\t1&#39;,\n",
       " &#39;!! (disambiguation)\\t8\\t3\\t0&#39;,\n",
       " &#39;!!! (Chk Chk Chk)\\t9\\t1\\t0&#39;,\n",
       " &#39;!!! (album)\\t10\\t5\\t15&#39;]</div>"
      ]
     },
     "metadata": {
      "application/vnd.databricks.v1+output": {
       "addedWidgets": {},
       "arguments": {},
       "data": "<div class=\"ansiout\">Out[46]: [&#39;! $var = &amp;quot;&amp;quot;\\t1\\t1\\t0&#39;,\n &#39;! (CONFIG.SYS directive)\\t2\\t1\\t1&#39;,\n &#39;! (album)\\t3\\t12\\t17&#39;,\n &#39;! (disambiguation)\\t4\\t1\\t20&#39;,\n &#39;! -attention-\\t5\\t1\\t0&#39;,\n &#39;! Time Zone\\t6\\t1\\t0&#39;,\n &#39;!! (chess)\\t7\\t0\\t1&#39;,\n &#39;!! (disambiguation)\\t8\\t3\\t0&#39;,\n &#39;!!! (Chk Chk Chk)\\t9\\t1\\t0&#39;,\n &#39;!!! (album)\\t10\\t5\\t15&#39;]</div>",
       "datasetInfos": [],
       "metadata": {},
       "removedWidgets": [],
       "type": "html"
      }
     },
     "output_type": "display_data"
    }
   ],
   "source": [
    "indexRDD.take(10)"
   ]
  },
  {
   "cell_type": "code",
   "execution_count": 0,
   "metadata": {
    "application/vnd.databricks.v1+cell": {
     "inputWidgets": {},
     "nuid": "d3416510-c051-42ac-a969-00deb85836f9",
     "showTitle": false,
     "title": ""
    }
   },
   "outputs": [
    {
     "data": {
      "text/html": [
       "<style scoped>\n",
       "  .ansiout {\n",
       "    display: block;\n",
       "    unicode-bidi: embed;\n",
       "    white-space: pre-wrap;\n",
       "    word-wrap: break-word;\n",
       "    word-break: break-all;\n",
       "    font-family: \"Source Code Pro\", \"Menlo\", monospace;;\n",
       "    font-size: 13px;\n",
       "    color: #555;\n",
       "    margin-left: 4px;\n",
       "    line-height: 19px;\n",
       "  }\n",
       "</style>\n",
       "<div class=\"ansiout\">Out[47]: [(1, &#39;! $var = &amp;quot;&amp;quot;&#39;),\n",
       " (2, &#39;! (CONFIG.SYS directive)&#39;),\n",
       " (3, &#39;! (album)&#39;),\n",
       " (4, &#39;! (disambiguation)&#39;),\n",
       " (5, &#39;! -attention-&#39;),\n",
       " (6, &#39;! Time Zone&#39;),\n",
       " (7, &#39;!! (chess)&#39;),\n",
       " (8, &#39;!! (disambiguation)&#39;),\n",
       " (9, &#39;!!! (Chk Chk Chk)&#39;),\n",
       " (10, &#39;!!! (album)&#39;)]</div>"
      ]
     },
     "metadata": {
      "application/vnd.databricks.v1+output": {
       "addedWidgets": {},
       "arguments": {},
       "data": "<div class=\"ansiout\">Out[47]: [(1, &#39;! $var = &amp;quot;&amp;quot;&#39;),\n (2, &#39;! (CONFIG.SYS directive)&#39;),\n (3, &#39;! (album)&#39;),\n (4, &#39;! (disambiguation)&#39;),\n (5, &#39;! -attention-&#39;),\n (6, &#39;! Time Zone&#39;),\n (7, &#39;!! (chess)&#39;),\n (8, &#39;!! (disambiguation)&#39;),\n (9, &#39;!!! (Chk Chk Chk)&#39;),\n (10, &#39;!!! (album)&#39;)]</div>",
       "datasetInfos": [],
       "metadata": {},
       "removedWidgets": [],
       "type": "html"
      }
     },
     "output_type": "display_data"
    }
   ],
   "source": [
    "namesKV_RDD.take(10)"
   ]
  },
  {
   "cell_type": "markdown",
   "metadata": {
    "application/vnd.databricks.v1+cell": {
     "inputWidgets": {},
     "nuid": "ba476248-64de-47dc-9d5f-6ad7ad4c5adf",
     "showTitle": false,
     "title": ""
    }
   },
   "source": [
    "# OPTIONAL\n",
    "### The rest of this notebook is optional and doesn't count toward your grade.\n",
    "The indexRDD we created earlier from the indices.txt file contains the titles of the pages and thier IDs.\n",
    "\n",
    "* __a) code:__ Join this dataset with your top 20 results.\n",
    "* __b) code:__ Print the results"
   ]
  },
  {
   "cell_type": "markdown",
   "metadata": {
    "application/vnd.databricks.v1+cell": {
     "inputWidgets": {},
     "nuid": "9ce0a2af-2b68-45f9-ad6a-439ad7d61a58",
     "showTitle": false,
     "title": ""
    }
   },
   "source": [
    "## Join with indexRDD and print pretty"
   ]
  },
  {
   "cell_type": "code",
   "execution_count": 0,
   "metadata": {
    "application/vnd.databricks.v1+cell": {
     "inputWidgets": {},
     "nuid": "c491a689-a3dd-423c-8404-0ecad752e2e9",
     "showTitle": false,
     "title": ""
    }
   },
   "outputs": [
    {
     "data": {
      "text/html": [
       "<style scoped>\n",
       "  .table-result-container {\n",
       "    max-height: 300px;\n",
       "    overflow: auto;\n",
       "  }\n",
       "  table, th, td {\n",
       "    border: 1px solid black;\n",
       "    border-collapse: collapse;\n",
       "  }\n",
       "  th, td {\n",
       "    padding: 5px;\n",
       "  }\n",
       "  th {\n",
       "    text-align: left;\n",
       "  }\n",
       "</style><div class='table-result-container'><table class='table-result'><thead style='background-color: white'><tr><th>_c0</th><th>Index</th><th>PageRank</th></tr></thead><tbody><tr><td>0</td><td>13455888</td><td>0.0016483443077108615</td></tr><tr><td>1</td><td>4695850</td><td>7.167001515088286E-4</td></tr><tr><td>2</td><td>1184351</td><td>6.419733734514514E-4</td></tr><tr><td>3</td><td>5051368</td><td>6.390798485361758E-4</td></tr><tr><td>4</td><td>2437837</td><td>4.935188612750985E-4</td></tr><tr><td>5</td><td>6076759</td><td>4.863889778665052E-4</td></tr><tr><td>6</td><td>4196067</td><td>4.724284655861838E-4</td></tr><tr><td>7</td><td>13425865</td><td>4.701060344016454E-4</td></tr><tr><td>8</td><td>6172466</td><td>4.514232056679379E-4</td></tr><tr><td>9</td><td>1384888</td><td>4.309485200130813E-4</td></tr><tr><td>10</td><td>6113490</td><td>4.249989538546294E-4</td></tr><tr><td>11</td><td>14112583</td><td>4.19924812582346E-4</td></tr><tr><td>12</td><td>7902219</td><td>3.951911192977627E-4</td></tr><tr><td>13</td><td>10390714</td><td>3.893730790750138E-4</td></tr><tr><td>14</td><td>12836211</td><td>3.8397957216651117E-4</td></tr><tr><td>15</td><td>6237129</td><td>3.7557448170087845E-4</td></tr><tr><td>16</td><td>6416278</td><td>3.7240712468538046E-4</td></tr><tr><td>17</td><td>13432150</td><td>3.616622426939041E-4</td></tr><tr><td>18</td><td>1516699</td><td>3.554029453439947E-4</td></tr><tr><td>19</td><td>7990491</td><td>3.2767299284518437E-4</td></tr></tbody></table></div>"
      ]
     },
     "metadata": {
      "application/vnd.databricks.v1+output": {
       "addedWidgets": {},
       "aggData": [],
       "aggError": "",
       "aggOverflow": false,
       "aggSchema": [],
       "aggSeriesLimitReached": false,
       "aggType": "",
       "arguments": {},
       "columnCustomDisplayInfos": {},
       "data": [
        [
         0,
         13455888,
         0.0016483443077108615
        ],
        [
         1,
         4695850,
         0.0007167001515088286
        ],
        [
         2,
         1184351,
         0.0006419733734514514
        ],
        [
         3,
         5051368,
         0.0006390798485361758
        ],
        [
         4,
         2437837,
         0.0004935188612750985
        ],
        [
         5,
         6076759,
         0.0004863889778665052
        ],
        [
         6,
         4196067,
         0.0004724284655861838
        ],
        [
         7,
         13425865,
         0.0004701060344016454
        ],
        [
         8,
         6172466,
         0.0004514232056679379
        ],
        [
         9,
         1384888,
         0.0004309485200130813
        ],
        [
         10,
         6113490,
         0.0004249989538546294
        ],
        [
         11,
         14112583,
         0.000419924812582346
        ],
        [
         12,
         7902219,
         0.0003951911192977627
        ],
        [
         13,
         10390714,
         0.0003893730790750138
        ],
        [
         14,
         12836211,
         0.00038397957216651117
        ],
        [
         15,
         6237129,
         0.00037557448170087845
        ],
        [
         16,
         6416278,
         0.00037240712468538046
        ],
        [
         17,
         13432150,
         0.0003616622426939041
        ],
        [
         18,
         1516699,
         0.0003554029453439947
        ],
        [
         19,
         7990491,
         0.00032767299284518437
        ]
       ],
       "datasetInfos": [],
       "dbfsResultPath": null,
       "isJsonSchema": true,
       "metadata": {},
       "overflow": false,
       "plotOptions": {
        "customPlotOptions": {},
        "displayType": "table",
        "pivotAggregation": null,
        "pivotColumns": null,
        "xColumns": null,
        "yColumns": null
       },
       "removedWidgets": [],
       "schema": [
        {
         "metadata": "{}",
         "name": "_c0",
         "type": "\"integer\""
        },
        {
         "metadata": "{}",
         "name": "Index",
         "type": "\"integer\""
        },
        {
         "metadata": "{}",
         "name": "PageRank",
         "type": "\"double\""
        }
       ],
       "type": "table"
      }
     },
     "output_type": "display_data"
    }
   ],
   "source": [
    "#DELETE testing - DC\n",
    "df1 = spark.read.csv(\"/tmp/team11/top20_wiki_110721.csv\", header=True, inferSchema= True)\n",
    "display(df1)"
   ]
  },
  {
   "cell_type": "code",
   "execution_count": 0,
   "metadata": {
    "application/vnd.databricks.v1+cell": {
     "inputWidgets": {},
     "nuid": "de97b6a6-c758-4f9d-b94b-5d0c970d58ee",
     "showTitle": false,
     "title": ""
    }
   },
   "outputs": [
    {
     "data": {
      "text/html": [
       "<style scoped>\n",
       "  .ansiout {\n",
       "    display: block;\n",
       "    unicode-bidi: embed;\n",
       "    white-space: pre-wrap;\n",
       "    word-wrap: break-word;\n",
       "    word-break: break-all;\n",
       "    font-family: \"Source Code Pro\", \"Menlo\", monospace;;\n",
       "    font-size: 13px;\n",
       "    color: #555;\n",
       "    margin-left: 4px;\n",
       "    line-height: 19px;\n",
       "  }\n",
       "</style>\n",
       "<div class=\"ansiout\"></div>"
      ]
     },
     "metadata": {
      "application/vnd.databricks.v1+output": {
       "addedWidgets": {},
       "arguments": {},
       "data": "<div class=\"ansiout\"></div>",
       "datasetInfos": [],
       "metadata": {},
       "removedWidgets": [],
       "type": "html"
      }
     },
     "output_type": "display_data"
    }
   ],
   "source": [
    "# part a\n",
    "joinedWithNames = None\n",
    "############## YOUR CODE HERE ###############\n",
    "from pyspark.sql import functions as F\n",
    "from pyspark.sql.types import StructType,StructField, StringType, LongType\n",
    "\n",
    "schema = StructType([StructField(\"_c0\",LongType(),True),StructField(\"Index\",LongType(),True),StructField(\"PageRank\",LongType(),True)])\n",
    "top_20_DF = spark.read.csv(\"/tmp/team11/top20_wiki_110721.csv\", header=True, schema=schema)\n",
    "\n",
    "schema2 = StructType([StructField(\"Index\",LongType(),True),StructField(\"Title\",StringType(),True)])\n",
    "namesKV_DF = spark.createDataFrame(namesKV_RDD, schema=schema2)\n",
    "\n",
    "# namesKV_DF = spark.createDataFrame(namesKV_RDD, schema=['Index', 'Title'])\n",
    "joinedWithNames = namesKV_DF.join(top_20_DF, namesKV_DF.Index==top_20_DF.Index).orderBy(F.desc(\"PageRank\")).collect()\n",
    "\n",
    "############## END YOUR CODE ###############"
   ]
  },
  {
   "cell_type": "code",
   "execution_count": 0,
   "metadata": {
    "application/vnd.databricks.v1+cell": {
     "inputWidgets": {},
     "nuid": "1d9bacb3-5317-4f84-9545-30d06f69582a",
     "showTitle": false,
     "title": ""
    }
   },
   "outputs": [
    {
     "data": {
      "text/html": [
       "<style scoped>\n",
       "  .ansiout {\n",
       "    display: block;\n",
       "    unicode-bidi: embed;\n",
       "    white-space: pre-wrap;\n",
       "    word-wrap: break-word;\n",
       "    word-break: break-all;\n",
       "    font-family: \"Source Code Pro\", \"Menlo\", monospace;;\n",
       "    font-size: 13px;\n",
       "    color: #555;\n",
       "    margin-left: 4px;\n",
       "    line-height: 19px;\n",
       "  }\n",
       "</style>\n",
       "<div class=\"ansiout\"></div>"
      ]
     },
     "metadata": {
      "application/vnd.databricks.v1+output": {
       "addedWidgets": {},
       "arguments": {},
       "data": "<div class=\"ansiout\"></div>",
       "datasetInfos": [],
       "metadata": {},
       "removedWidgets": [],
       "type": "html"
      }
     },
     "output_type": "display_data"
    }
   ],
   "source": [
    "# # part a try #2\n",
    "# joinedWithNames = None\n",
    "# ############## YOUR CODE HERE ###############\n",
    "# from pyspark.sql import functions as F\n",
    "# from pyspark.sql.types import StructType,StructField, StringType, LongType\n",
    "\n",
    "# # schema = StructType([StructField(\"_c0\",LongType(),True),StructField(\"Index\",LongType(),True),StructField(\"PageRank\",LongType(),True)])\n",
    "# top_20_DF = spark.read.csv(\"/tmp/team11/top20_wiki_110721.csv\", header=True)\n",
    "\n",
    "# # schema2 = StructType([StructField(\"Index\",LongType(),True),StructField(\"Title\",StringType(),True)])\n",
    "# namesKV_DF = spark.createDataFrame(namesKV_RDD)\n",
    "\n",
    "# # namesKV_DF = spark.createDataFrame(namesKV_RDD, schema=['Index', 'Title'])\n",
    "# # joinedWithNames = namesKV_DF.join(top_20_DF, namesKV_DF.Index==top_20_DF.Index).orderBy(F.desc(\"PageRank\")).collect()\n",
    "\n",
    "# ############## END YOUR CODE ###############"
   ]
  },
  {
   "cell_type": "code",
   "execution_count": 0,
   "metadata": {
    "application/vnd.databricks.v1+cell": {
     "inputWidgets": {},
     "nuid": "728c7731-658b-43ba-a1f5-a3bd4a5ba892",
     "showTitle": false,
     "title": ""
    }
   },
   "outputs": [
    {
     "data": {
      "text/html": [
       "<style scoped>\n",
       "  .ansiout {\n",
       "    display: block;\n",
       "    unicode-bidi: embed;\n",
       "    white-space: pre-wrap;\n",
       "    word-wrap: break-word;\n",
       "    word-break: break-all;\n",
       "    font-family: \"Source Code Pro\", \"Menlo\", monospace;;\n",
       "    font-size: 13px;\n",
       "    color: #555;\n",
       "    margin-left: 4px;\n",
       "    line-height: 19px;\n",
       "  }\n",
       "</style>\n",
       "<div class=\"ansiout\">root\n",
       "-- _c0: long (nullable = true)\n",
       "-- Index: long (nullable = true)\n",
       "-- PageRank: long (nullable = true)\n",
       "\n",
       "</div>"
      ]
     },
     "metadata": {
      "application/vnd.databricks.v1+output": {
       "addedWidgets": {},
       "arguments": {},
       "data": "<div class=\"ansiout\">root\n |-- _c0: long (nullable = true)\n |-- Index: long (nullable = true)\n |-- PageRank: long (nullable = true)\n\n</div>",
       "datasetInfos": [],
       "metadata": {},
       "removedWidgets": [],
       "type": "html"
      }
     },
     "output_type": "display_data"
    }
   ],
   "source": [
    "top_20_DF.printSchema()"
   ]
  },
  {
   "cell_type": "code",
   "execution_count": 0,
   "metadata": {
    "application/vnd.databricks.v1+cell": {
     "inputWidgets": {},
     "nuid": "c9a48b9e-096e-492e-9919-0b8535ca17c9",
     "showTitle": false,
     "title": ""
    }
   },
   "outputs": [
    {
     "data": {
      "text/html": [
       "<style scoped>\n",
       "  .ansiout {\n",
       "    display: block;\n",
       "    unicode-bidi: embed;\n",
       "    white-space: pre-wrap;\n",
       "    word-wrap: break-word;\n",
       "    word-break: break-all;\n",
       "    font-family: \"Source Code Pro\", \"Menlo\", monospace;;\n",
       "    font-size: 13px;\n",
       "    color: #555;\n",
       "    margin-left: 4px;\n",
       "    line-height: 19px;\n",
       "  }\n",
       "</style>\n",
       "<div class=\"ansiout\">root\n",
       "-- Index: long (nullable = true)\n",
       "-- Title: string (nullable = true)\n",
       "\n",
       "</div>"
      ]
     },
     "metadata": {
      "application/vnd.databricks.v1+output": {
       "addedWidgets": {},
       "arguments": {},
       "data": "<div class=\"ansiout\">root\n |-- Index: long (nullable = true)\n |-- Title: string (nullable = true)\n\n</div>",
       "datasetInfos": [],
       "metadata": {},
       "removedWidgets": [],
       "type": "html"
      }
     },
     "output_type": "display_data"
    }
   ],
   "source": [
    "namesKV_DF.printSchema()"
   ]
  },
  {
   "cell_type": "code",
   "execution_count": 0,
   "metadata": {
    "application/vnd.databricks.v1+cell": {
     "inputWidgets": {},
     "nuid": "f9d8714f-798d-4552-aa48-59e1ef713fb7",
     "showTitle": false,
     "title": ""
    }
   },
   "outputs": [
    {
     "data": {
      "text/html": [
       "<style scoped>\n",
       "  .ansiout {\n",
       "    display: block;\n",
       "    unicode-bidi: embed;\n",
       "    white-space: pre-wrap;\n",
       "    word-wrap: break-word;\n",
       "    word-break: break-all;\n",
       "    font-family: \"Source Code Pro\", \"Menlo\", monospace;;\n",
       "    font-size: 13px;\n",
       "    color: #555;\n",
       "    margin-left: 4px;\n",
       "    line-height: 19px;\n",
       "  }\n",
       "</style>\n",
       "<div class=\"ansiout\"></div>"
      ]
     },
     "metadata": {
      "application/vnd.databricks.v1+output": {
       "addedWidgets": {},
       "arguments": {},
       "data": "<div class=\"ansiout\"></div>",
       "datasetInfos": [],
       "metadata": {},
       "removedWidgets": [],
       "type": "html"
      }
     },
     "output_type": "display_data"
    },
    {
     "data": {
      "text/html": [
       "<style scoped>\n",
       "  .ansiout {\n",
       "    display: block;\n",
       "    unicode-bidi: embed;\n",
       "    white-space: pre-wrap;\n",
       "    word-wrap: break-word;\n",
       "    word-break: break-all;\n",
       "    font-family: \"Source Code Pro\", \"Menlo\", monospace;;\n",
       "    font-size: 13px;\n",
       "    color: #555;\n",
       "    margin-left: 4px;\n",
       "    line-height: 19px;\n",
       "  }\n",
       "</style>\n",
       "<div class=\"ansiout\"><span class=\"ansi-red-fg\">---------------------------------------------------------------------------</span>\n",
       "<span class=\"ansi-red-fg\">ValueError</span>                                Traceback (most recent call last)\n",
       "<span class=\"ansi-green-fg\">&lt;command-2661063350703420&gt;</span> in <span class=\"ansi-cyan-fg\">&lt;module&gt;</span>\n",
       "<span class=\"ansi-green-fg\">----&gt; 1</span><span class=\"ansi-red-fg\"> </span>display<span class=\"ansi-blue-fg\">(</span>joinedWithNames<span class=\"ansi-blue-fg\">)</span>\n",
       "\n",
       "<span class=\"ansi-green-fg\">/databricks/python_shell/scripts/PythonShellImpl.py</span> in <span class=\"ansi-cyan-fg\">display</span><span class=\"ansi-blue-fg\">(self, input, *args, **kwargs)</span>\n",
       "<span class=\"ansi-green-intense-fg ansi-bold\">    986</span>                 self<span class=\"ansi-blue-fg\">.</span>appendResults<span class=\"ansi-blue-fg\">(</span><span class=\"ansi-blue-fg\">&#34;table&#34;</span><span class=\"ansi-blue-fg\">,</span> input<span class=\"ansi-blue-fg\">.</span>_jdf<span class=\"ansi-blue-fg\">)</span>\n",
       "<span class=\"ansi-green-intense-fg ansi-bold\">    987</span>         <span class=\"ansi-green-fg\">elif</span> isinstance<span class=\"ansi-blue-fg\">(</span>input<span class=\"ansi-blue-fg\">,</span> list<span class=\"ansi-blue-fg\">)</span><span class=\"ansi-blue-fg\">:</span>\n",
       "<span class=\"ansi-green-fg\">--&gt; 988</span><span class=\"ansi-red-fg\">             </span>listDisplay <span class=\"ansi-blue-fg\">=</span> self<span class=\"ansi-blue-fg\">.</span>sparkSession<span class=\"ansi-blue-fg\">.</span>createDataFrame<span class=\"ansi-blue-fg\">(</span>input<span class=\"ansi-blue-fg\">)</span><span class=\"ansi-blue-fg\">.</span>_jdf\n",
       "<span class=\"ansi-green-intense-fg ansi-bold\">    989</span>             self<span class=\"ansi-blue-fg\">.</span>appendResults<span class=\"ansi-blue-fg\">(</span><span class=\"ansi-blue-fg\">&#34;table&#34;</span><span class=\"ansi-blue-fg\">,</span> listDisplay<span class=\"ansi-blue-fg\">)</span>\n",
       "<span class=\"ansi-green-intense-fg ansi-bold\">    990</span>         <span class=\"ansi-green-fg\">elif</span> type<span class=\"ansi-blue-fg\">(</span>input<span class=\"ansi-blue-fg\">)</span><span class=\"ansi-blue-fg\">.</span>__module__ <span class=\"ansi-blue-fg\">==</span> <span class=\"ansi-blue-fg\">&#39;matplotlib.figure&#39;</span> <span class=\"ansi-green-fg\">and</span> type<span class=\"ansi-blue-fg\">(</span>input<span class=\"ansi-blue-fg\">)</span><span class=\"ansi-blue-fg\">.</span>__name__ <span class=\"ansi-blue-fg\">==</span> <span class=\"ansi-blue-fg\">&#39;Figure&#39;</span><span class=\"ansi-blue-fg\">:</span>\n",
       "\n",
       "<span class=\"ansi-green-fg\">/databricks/spark/python/pyspark/sql/session.py</span> in <span class=\"ansi-cyan-fg\">createDataFrame</span><span class=\"ansi-blue-fg\">(self, data, schema, samplingRatio, verifySchema)</span>\n",
       "<span class=\"ansi-green-intense-fg ansi-bold\">    720</span>             return super(SparkSession, self).createDataFrame(\n",
       "<span class=\"ansi-green-intense-fg ansi-bold\">    721</span>                 data, schema, samplingRatio, verifySchema)\n",
       "<span class=\"ansi-green-fg\">--&gt; 722</span><span class=\"ansi-red-fg\">         </span><span class=\"ansi-green-fg\">return</span> self<span class=\"ansi-blue-fg\">.</span>_create_dataframe<span class=\"ansi-blue-fg\">(</span>data<span class=\"ansi-blue-fg\">,</span> schema<span class=\"ansi-blue-fg\">,</span> samplingRatio<span class=\"ansi-blue-fg\">,</span> verifySchema<span class=\"ansi-blue-fg\">)</span>\n",
       "<span class=\"ansi-green-intense-fg ansi-bold\">    723</span> \n",
       "<span class=\"ansi-green-intense-fg ansi-bold\">    724</span>     <span class=\"ansi-green-fg\">def</span> _create_dataframe<span class=\"ansi-blue-fg\">(</span>self<span class=\"ansi-blue-fg\">,</span> data<span class=\"ansi-blue-fg\">,</span> schema<span class=\"ansi-blue-fg\">,</span> samplingRatio<span class=\"ansi-blue-fg\">,</span> verifySchema<span class=\"ansi-blue-fg\">)</span><span class=\"ansi-blue-fg\">:</span>\n",
       "\n",
       "<span class=\"ansi-green-fg\">/databricks/spark/python/pyspark/sql/session.py</span> in <span class=\"ansi-cyan-fg\">_create_dataframe</span><span class=\"ansi-blue-fg\">(self, data, schema, samplingRatio, verifySchema)</span>\n",
       "<span class=\"ansi-green-intense-fg ansi-bold\">    752</span>                 rdd<span class=\"ansi-blue-fg\">,</span> schema <span class=\"ansi-blue-fg\">=</span> self<span class=\"ansi-blue-fg\">.</span>_createFromRDD<span class=\"ansi-blue-fg\">(</span>data<span class=\"ansi-blue-fg\">.</span>map<span class=\"ansi-blue-fg\">(</span>prepare<span class=\"ansi-blue-fg\">)</span><span class=\"ansi-blue-fg\">,</span> schema<span class=\"ansi-blue-fg\">,</span> samplingRatio<span class=\"ansi-blue-fg\">)</span>\n",
       "<span class=\"ansi-green-intense-fg ansi-bold\">    753</span>             <span class=\"ansi-green-fg\">else</span><span class=\"ansi-blue-fg\">:</span>\n",
       "<span class=\"ansi-green-fg\">--&gt; 754</span><span class=\"ansi-red-fg\">                 </span>rdd<span class=\"ansi-blue-fg\">,</span> schema <span class=\"ansi-blue-fg\">=</span> self<span class=\"ansi-blue-fg\">.</span>_createFromLocal<span class=\"ansi-blue-fg\">(</span>map<span class=\"ansi-blue-fg\">(</span>prepare<span class=\"ansi-blue-fg\">,</span> data<span class=\"ansi-blue-fg\">)</span><span class=\"ansi-blue-fg\">,</span> schema<span class=\"ansi-blue-fg\">)</span>\n",
       "<span class=\"ansi-green-intense-fg ansi-bold\">    755</span>             jrdd <span class=\"ansi-blue-fg\">=</span> self<span class=\"ansi-blue-fg\">.</span>_jvm<span class=\"ansi-blue-fg\">.</span>SerDeUtil<span class=\"ansi-blue-fg\">.</span>toJavaArray<span class=\"ansi-blue-fg\">(</span>rdd<span class=\"ansi-blue-fg\">.</span>_to_java_object_rdd<span class=\"ansi-blue-fg\">(</span><span class=\"ansi-blue-fg\">)</span><span class=\"ansi-blue-fg\">)</span>\n",
       "<span class=\"ansi-green-intense-fg ansi-bold\">    756</span>             jdf <span class=\"ansi-blue-fg\">=</span> self<span class=\"ansi-blue-fg\">.</span>_jsparkSession<span class=\"ansi-blue-fg\">.</span>applySchemaToPythonRDD<span class=\"ansi-blue-fg\">(</span>jrdd<span class=\"ansi-blue-fg\">.</span>rdd<span class=\"ansi-blue-fg\">(</span><span class=\"ansi-blue-fg\">)</span><span class=\"ansi-blue-fg\">,</span> schema<span class=\"ansi-blue-fg\">.</span>json<span class=\"ansi-blue-fg\">(</span><span class=\"ansi-blue-fg\">)</span><span class=\"ansi-blue-fg\">)</span>\n",
       "\n",
       "<span class=\"ansi-green-fg\">/databricks/spark/python/pyspark/sql/session.py</span> in <span class=\"ansi-cyan-fg\">_createFromLocal</span><span class=\"ansi-blue-fg\">(self, data, schema)</span>\n",
       "<span class=\"ansi-green-intense-fg ansi-bold\">    528</span>         write temp files<span class=\"ansi-blue-fg\">.</span>\n",
       "<span class=\"ansi-green-intense-fg ansi-bold\">    529</span>         &#34;&#34;&#34;\n",
       "<span class=\"ansi-green-fg\">--&gt; 530</span><span class=\"ansi-red-fg\">         </span>data<span class=\"ansi-blue-fg\">,</span> schema <span class=\"ansi-blue-fg\">=</span> self<span class=\"ansi-blue-fg\">.</span>_wrap_data_schema<span class=\"ansi-blue-fg\">(</span>data<span class=\"ansi-blue-fg\">,</span> schema<span class=\"ansi-blue-fg\">)</span>\n",
       "<span class=\"ansi-green-intense-fg ansi-bold\">    531</span>         <span class=\"ansi-green-fg\">return</span> self<span class=\"ansi-blue-fg\">.</span>_sc<span class=\"ansi-blue-fg\">.</span>parallelize<span class=\"ansi-blue-fg\">(</span>data<span class=\"ansi-blue-fg\">)</span><span class=\"ansi-blue-fg\">,</span> schema\n",
       "<span class=\"ansi-green-intense-fg ansi-bold\">    532</span> \n",
       "\n",
       "<span class=\"ansi-green-fg\">/databricks/spark/python/pyspark/sql/session.py</span> in <span class=\"ansi-cyan-fg\">_wrap_data_schema</span><span class=\"ansi-blue-fg\">(self, data, schema)</span>\n",
       "<span class=\"ansi-green-intense-fg ansi-bold\">    507</span> \n",
       "<span class=\"ansi-green-intense-fg ansi-bold\">    508</span>         <span class=\"ansi-green-fg\">if</span> schema <span class=\"ansi-green-fg\">is</span> <span class=\"ansi-green-fg\">None</span> <span class=\"ansi-green-fg\">or</span> isinstance<span class=\"ansi-blue-fg\">(</span>schema<span class=\"ansi-blue-fg\">,</span> <span class=\"ansi-blue-fg\">(</span>list<span class=\"ansi-blue-fg\">,</span> tuple<span class=\"ansi-blue-fg\">)</span><span class=\"ansi-blue-fg\">)</span><span class=\"ansi-blue-fg\">:</span>\n",
       "<span class=\"ansi-green-fg\">--&gt; 509</span><span class=\"ansi-red-fg\">             </span>struct <span class=\"ansi-blue-fg\">=</span> self<span class=\"ansi-blue-fg\">.</span>_inferSchemaFromList<span class=\"ansi-blue-fg\">(</span>data<span class=\"ansi-blue-fg\">,</span> names<span class=\"ansi-blue-fg\">=</span>schema<span class=\"ansi-blue-fg\">)</span>\n",
       "<span class=\"ansi-green-intense-fg ansi-bold\">    510</span>             converter <span class=\"ansi-blue-fg\">=</span> _create_converter<span class=\"ansi-blue-fg\">(</span>struct<span class=\"ansi-blue-fg\">)</span>\n",
       "<span class=\"ansi-green-intense-fg ansi-bold\">    511</span>             data <span class=\"ansi-blue-fg\">=</span> map<span class=\"ansi-blue-fg\">(</span>converter<span class=\"ansi-blue-fg\">,</span> data<span class=\"ansi-blue-fg\">)</span>\n",
       "\n",
       "<span class=\"ansi-green-fg\">/databricks/spark/python/pyspark/sql/session.py</span> in <span class=\"ansi-cyan-fg\">_inferSchemaFromList</span><span class=\"ansi-blue-fg\">(self, data, names)</span>\n",
       "<span class=\"ansi-green-intense-fg ansi-bold\">    440</span>         schema <span class=\"ansi-blue-fg\">=</span> reduce<span class=\"ansi-blue-fg\">(</span>_merge_type<span class=\"ansi-blue-fg\">,</span> <span class=\"ansi-blue-fg\">(</span>_infer_schema<span class=\"ansi-blue-fg\">(</span>row<span class=\"ansi-blue-fg\">,</span> names<span class=\"ansi-blue-fg\">)</span> <span class=\"ansi-green-fg\">for</span> row <span class=\"ansi-green-fg\">in</span> data<span class=\"ansi-blue-fg\">)</span><span class=\"ansi-blue-fg\">)</span>\n",
       "<span class=\"ansi-green-intense-fg ansi-bold\">    441</span>         <span class=\"ansi-green-fg\">if</span> _has_nulltype<span class=\"ansi-blue-fg\">(</span>schema<span class=\"ansi-blue-fg\">)</span><span class=\"ansi-blue-fg\">:</span>\n",
       "<span class=\"ansi-green-fg\">--&gt; 442</span><span class=\"ansi-red-fg\">             </span><span class=\"ansi-green-fg\">raise</span> ValueError<span class=\"ansi-blue-fg\">(</span><span class=\"ansi-blue-fg\">&#34;Some of types cannot be determined after inferring&#34;</span><span class=\"ansi-blue-fg\">)</span>\n",
       "<span class=\"ansi-green-intense-fg ansi-bold\">    443</span>         <span class=\"ansi-green-fg\">return</span> schema\n",
       "<span class=\"ansi-green-intense-fg ansi-bold\">    444</span> \n",
       "\n",
       "<span class=\"ansi-red-fg\">ValueError</span>: Some of types cannot be determined after inferring</div>"
      ]
     },
     "metadata": {
      "application/vnd.databricks.v1+output": {
       "arguments": {},
       "data": "<div class=\"ansiout\"><span class=\"ansi-red-fg\">---------------------------------------------------------------------------</span>\n<span class=\"ansi-red-fg\">ValueError</span>                                Traceback (most recent call last)\n<span class=\"ansi-green-fg\">&lt;command-2661063350703420&gt;</span> in <span class=\"ansi-cyan-fg\">&lt;module&gt;</span>\n<span class=\"ansi-green-fg\">----&gt; 1</span><span class=\"ansi-red-fg\"> </span>display<span class=\"ansi-blue-fg\">(</span>joinedWithNames<span class=\"ansi-blue-fg\">)</span>\n\n<span class=\"ansi-green-fg\">/databricks/python_shell/scripts/PythonShellImpl.py</span> in <span class=\"ansi-cyan-fg\">display</span><span class=\"ansi-blue-fg\">(self, input, *args, **kwargs)</span>\n<span class=\"ansi-green-intense-fg ansi-bold\">    986</span>                 self<span class=\"ansi-blue-fg\">.</span>appendResults<span class=\"ansi-blue-fg\">(</span><span class=\"ansi-blue-fg\">&#34;table&#34;</span><span class=\"ansi-blue-fg\">,</span> input<span class=\"ansi-blue-fg\">.</span>_jdf<span class=\"ansi-blue-fg\">)</span>\n<span class=\"ansi-green-intense-fg ansi-bold\">    987</span>         <span class=\"ansi-green-fg\">elif</span> isinstance<span class=\"ansi-blue-fg\">(</span>input<span class=\"ansi-blue-fg\">,</span> list<span class=\"ansi-blue-fg\">)</span><span class=\"ansi-blue-fg\">:</span>\n<span class=\"ansi-green-fg\">--&gt; 988</span><span class=\"ansi-red-fg\">             </span>listDisplay <span class=\"ansi-blue-fg\">=</span> self<span class=\"ansi-blue-fg\">.</span>sparkSession<span class=\"ansi-blue-fg\">.</span>createDataFrame<span class=\"ansi-blue-fg\">(</span>input<span class=\"ansi-blue-fg\">)</span><span class=\"ansi-blue-fg\">.</span>_jdf\n<span class=\"ansi-green-intense-fg ansi-bold\">    989</span>             self<span class=\"ansi-blue-fg\">.</span>appendResults<span class=\"ansi-blue-fg\">(</span><span class=\"ansi-blue-fg\">&#34;table&#34;</span><span class=\"ansi-blue-fg\">,</span> listDisplay<span class=\"ansi-blue-fg\">)</span>\n<span class=\"ansi-green-intense-fg ansi-bold\">    990</span>         <span class=\"ansi-green-fg\">elif</span> type<span class=\"ansi-blue-fg\">(</span>input<span class=\"ansi-blue-fg\">)</span><span class=\"ansi-blue-fg\">.</span>__module__ <span class=\"ansi-blue-fg\">==</span> <span class=\"ansi-blue-fg\">&#39;matplotlib.figure&#39;</span> <span class=\"ansi-green-fg\">and</span> type<span class=\"ansi-blue-fg\">(</span>input<span class=\"ansi-blue-fg\">)</span><span class=\"ansi-blue-fg\">.</span>__name__ <span class=\"ansi-blue-fg\">==</span> <span class=\"ansi-blue-fg\">&#39;Figure&#39;</span><span class=\"ansi-blue-fg\">:</span>\n\n<span class=\"ansi-green-fg\">/databricks/spark/python/pyspark/sql/session.py</span> in <span class=\"ansi-cyan-fg\">createDataFrame</span><span class=\"ansi-blue-fg\">(self, data, schema, samplingRatio, verifySchema)</span>\n<span class=\"ansi-green-intense-fg ansi-bold\">    720</span>             return super(SparkSession, self).createDataFrame(\n<span class=\"ansi-green-intense-fg ansi-bold\">    721</span>                 data, schema, samplingRatio, verifySchema)\n<span class=\"ansi-green-fg\">--&gt; 722</span><span class=\"ansi-red-fg\">         </span><span class=\"ansi-green-fg\">return</span> self<span class=\"ansi-blue-fg\">.</span>_create_dataframe<span class=\"ansi-blue-fg\">(</span>data<span class=\"ansi-blue-fg\">,</span> schema<span class=\"ansi-blue-fg\">,</span> samplingRatio<span class=\"ansi-blue-fg\">,</span> verifySchema<span class=\"ansi-blue-fg\">)</span>\n<span class=\"ansi-green-intense-fg ansi-bold\">    723</span> \n<span class=\"ansi-green-intense-fg ansi-bold\">    724</span>     <span class=\"ansi-green-fg\">def</span> _create_dataframe<span class=\"ansi-blue-fg\">(</span>self<span class=\"ansi-blue-fg\">,</span> data<span class=\"ansi-blue-fg\">,</span> schema<span class=\"ansi-blue-fg\">,</span> samplingRatio<span class=\"ansi-blue-fg\">,</span> verifySchema<span class=\"ansi-blue-fg\">)</span><span class=\"ansi-blue-fg\">:</span>\n\n<span class=\"ansi-green-fg\">/databricks/spark/python/pyspark/sql/session.py</span> in <span class=\"ansi-cyan-fg\">_create_dataframe</span><span class=\"ansi-blue-fg\">(self, data, schema, samplingRatio, verifySchema)</span>\n<span class=\"ansi-green-intense-fg ansi-bold\">    752</span>                 rdd<span class=\"ansi-blue-fg\">,</span> schema <span class=\"ansi-blue-fg\">=</span> self<span class=\"ansi-blue-fg\">.</span>_createFromRDD<span class=\"ansi-blue-fg\">(</span>data<span class=\"ansi-blue-fg\">.</span>map<span class=\"ansi-blue-fg\">(</span>prepare<span class=\"ansi-blue-fg\">)</span><span class=\"ansi-blue-fg\">,</span> schema<span class=\"ansi-blue-fg\">,</span> samplingRatio<span class=\"ansi-blue-fg\">)</span>\n<span class=\"ansi-green-intense-fg ansi-bold\">    753</span>             <span class=\"ansi-green-fg\">else</span><span class=\"ansi-blue-fg\">:</span>\n<span class=\"ansi-green-fg\">--&gt; 754</span><span class=\"ansi-red-fg\">                 </span>rdd<span class=\"ansi-blue-fg\">,</span> schema <span class=\"ansi-blue-fg\">=</span> self<span class=\"ansi-blue-fg\">.</span>_createFromLocal<span class=\"ansi-blue-fg\">(</span>map<span class=\"ansi-blue-fg\">(</span>prepare<span class=\"ansi-blue-fg\">,</span> data<span class=\"ansi-blue-fg\">)</span><span class=\"ansi-blue-fg\">,</span> schema<span class=\"ansi-blue-fg\">)</span>\n<span class=\"ansi-green-intense-fg ansi-bold\">    755</span>             jrdd <span class=\"ansi-blue-fg\">=</span> self<span class=\"ansi-blue-fg\">.</span>_jvm<span class=\"ansi-blue-fg\">.</span>SerDeUtil<span class=\"ansi-blue-fg\">.</span>toJavaArray<span class=\"ansi-blue-fg\">(</span>rdd<span class=\"ansi-blue-fg\">.</span>_to_java_object_rdd<span class=\"ansi-blue-fg\">(</span><span class=\"ansi-blue-fg\">)</span><span class=\"ansi-blue-fg\">)</span>\n<span class=\"ansi-green-intense-fg ansi-bold\">    756</span>             jdf <span class=\"ansi-blue-fg\">=</span> self<span class=\"ansi-blue-fg\">.</span>_jsparkSession<span class=\"ansi-blue-fg\">.</span>applySchemaToPythonRDD<span class=\"ansi-blue-fg\">(</span>jrdd<span class=\"ansi-blue-fg\">.</span>rdd<span class=\"ansi-blue-fg\">(</span><span class=\"ansi-blue-fg\">)</span><span class=\"ansi-blue-fg\">,</span> schema<span class=\"ansi-blue-fg\">.</span>json<span class=\"ansi-blue-fg\">(</span><span class=\"ansi-blue-fg\">)</span><span class=\"ansi-blue-fg\">)</span>\n\n<span class=\"ansi-green-fg\">/databricks/spark/python/pyspark/sql/session.py</span> in <span class=\"ansi-cyan-fg\">_createFromLocal</span><span class=\"ansi-blue-fg\">(self, data, schema)</span>\n<span class=\"ansi-green-intense-fg ansi-bold\">    528</span>         write temp files<span class=\"ansi-blue-fg\">.</span>\n<span class=\"ansi-green-intense-fg ansi-bold\">    529</span>         &#34;&#34;&#34;\n<span class=\"ansi-green-fg\">--&gt; 530</span><span class=\"ansi-red-fg\">         </span>data<span class=\"ansi-blue-fg\">,</span> schema <span class=\"ansi-blue-fg\">=</span> self<span class=\"ansi-blue-fg\">.</span>_wrap_data_schema<span class=\"ansi-blue-fg\">(</span>data<span class=\"ansi-blue-fg\">,</span> schema<span class=\"ansi-blue-fg\">)</span>\n<span class=\"ansi-green-intense-fg ansi-bold\">    531</span>         <span class=\"ansi-green-fg\">return</span> self<span class=\"ansi-blue-fg\">.</span>_sc<span class=\"ansi-blue-fg\">.</span>parallelize<span class=\"ansi-blue-fg\">(</span>data<span class=\"ansi-blue-fg\">)</span><span class=\"ansi-blue-fg\">,</span> schema\n<span class=\"ansi-green-intense-fg ansi-bold\">    532</span> \n\n<span class=\"ansi-green-fg\">/databricks/spark/python/pyspark/sql/session.py</span> in <span class=\"ansi-cyan-fg\">_wrap_data_schema</span><span class=\"ansi-blue-fg\">(self, data, schema)</span>\n<span class=\"ansi-green-intense-fg ansi-bold\">    507</span> \n<span class=\"ansi-green-intense-fg ansi-bold\">    508</span>         <span class=\"ansi-green-fg\">if</span> schema <span class=\"ansi-green-fg\">is</span> <span class=\"ansi-green-fg\">None</span> <span class=\"ansi-green-fg\">or</span> isinstance<span class=\"ansi-blue-fg\">(</span>schema<span class=\"ansi-blue-fg\">,</span> <span class=\"ansi-blue-fg\">(</span>list<span class=\"ansi-blue-fg\">,</span> tuple<span class=\"ansi-blue-fg\">)</span><span class=\"ansi-blue-fg\">)</span><span class=\"ansi-blue-fg\">:</span>\n<span class=\"ansi-green-fg\">--&gt; 509</span><span class=\"ansi-red-fg\">             </span>struct <span class=\"ansi-blue-fg\">=</span> self<span class=\"ansi-blue-fg\">.</span>_inferSchemaFromList<span class=\"ansi-blue-fg\">(</span>data<span class=\"ansi-blue-fg\">,</span> names<span class=\"ansi-blue-fg\">=</span>schema<span class=\"ansi-blue-fg\">)</span>\n<span class=\"ansi-green-intense-fg ansi-bold\">    510</span>             converter <span class=\"ansi-blue-fg\">=</span> _create_converter<span class=\"ansi-blue-fg\">(</span>struct<span class=\"ansi-blue-fg\">)</span>\n<span class=\"ansi-green-intense-fg ansi-bold\">    511</span>             data <span class=\"ansi-blue-fg\">=</span> map<span class=\"ansi-blue-fg\">(</span>converter<span class=\"ansi-blue-fg\">,</span> data<span class=\"ansi-blue-fg\">)</span>\n\n<span class=\"ansi-green-fg\">/databricks/spark/python/pyspark/sql/session.py</span> in <span class=\"ansi-cyan-fg\">_inferSchemaFromList</span><span class=\"ansi-blue-fg\">(self, data, names)</span>\n<span class=\"ansi-green-intense-fg ansi-bold\">    440</span>         schema <span class=\"ansi-blue-fg\">=</span> reduce<span class=\"ansi-blue-fg\">(</span>_merge_type<span class=\"ansi-blue-fg\">,</span> <span class=\"ansi-blue-fg\">(</span>_infer_schema<span class=\"ansi-blue-fg\">(</span>row<span class=\"ansi-blue-fg\">,</span> names<span class=\"ansi-blue-fg\">)</span> <span class=\"ansi-green-fg\">for</span> row <span class=\"ansi-green-fg\">in</span> data<span class=\"ansi-blue-fg\">)</span><span class=\"ansi-blue-fg\">)</span>\n<span class=\"ansi-green-intense-fg ansi-bold\">    441</span>         <span class=\"ansi-green-fg\">if</span> _has_nulltype<span class=\"ansi-blue-fg\">(</span>schema<span class=\"ansi-blue-fg\">)</span><span class=\"ansi-blue-fg\">:</span>\n<span class=\"ansi-green-fg\">--&gt; 442</span><span class=\"ansi-red-fg\">             </span><span class=\"ansi-green-fg\">raise</span> ValueError<span class=\"ansi-blue-fg\">(</span><span class=\"ansi-blue-fg\">&#34;Some of types cannot be determined after inferring&#34;</span><span class=\"ansi-blue-fg\">)</span>\n<span class=\"ansi-green-intense-fg ansi-bold\">    443</span>         <span class=\"ansi-green-fg\">return</span> schema\n<span class=\"ansi-green-intense-fg ansi-bold\">    444</span> \n\n<span class=\"ansi-red-fg\">ValueError</span>: Some of types cannot be determined after inferring</div>",
       "errorSummary": "<span class=\"ansi-red-fg\">ValueError</span>: Some of types cannot be determined after inferring",
       "errorTraceType": "html",
       "metadata": {},
       "type": "ipynbError"
      }
     },
     "output_type": "display_data"
    }
   ],
   "source": [
    "display(joinedWithNames)"
   ]
  },
  {
   "cell_type": "code",
   "execution_count": 0,
   "metadata": {
    "application/vnd.databricks.v1+cell": {
     "inputWidgets": {},
     "nuid": "45a9c1bc-4d3d-4774-9861-8cc539664eec",
     "showTitle": false,
     "title": ""
    }
   },
   "outputs": [
    {
     "data": {
      "text/html": [
       "<style scoped>\n",
       "  .ansiout {\n",
       "    display: block;\n",
       "    unicode-bidi: embed;\n",
       "    white-space: pre-wrap;\n",
       "    word-wrap: break-word;\n",
       "    word-break: break-all;\n",
       "    font-family: \"Source Code Pro\", \"Menlo\", monospace;;\n",
       "    font-size: 13px;\n",
       "    color: #555;\n",
       "    margin-left: 4px;\n",
       "    line-height: 19px;\n",
       "  }\n",
       "</style>"
      ]
     },
     "metadata": {
      "application/vnd.databricks.v1+output": {
       "arguments": {},
       "data": "",
       "errorSummary": "",
       "errorTraceType": null,
       "metadata": {},
       "type": "ipynbError"
      }
     },
     "output_type": "display_data"
    }
   ],
   "source": [
    "# part b\n",
    "# Feel free to modify this cell to suit your implementation, but please keep the formatting and sort order.\n",
    "print(\"{:10s}\\t| {:10s}\\t| {}\".format(\"PageRank\",\"Page id\",\"Title\"))\n",
    "print(\"=\"*100)\n",
    "for r in joinedWithNames:\n",
    "    print (\"{:6f}\\t| {:10d}\\t| {}\".format(r[1][1],r[0],r[1][0]))"
   ]
  },
  {
   "cell_type": "code",
   "execution_count": 0,
   "metadata": {
    "application/vnd.databricks.v1+cell": {
     "inputWidgets": {},
     "nuid": "0571f008-f15d-4aa9-b2d1-2e21b8aa9f38",
     "showTitle": false,
     "title": ""
    }
   },
   "outputs": [
    {
     "data": {
      "text/html": [
       "<style scoped>\n",
       "  .ansiout {\n",
       "    display: block;\n",
       "    unicode-bidi: embed;\n",
       "    white-space: pre-wrap;\n",
       "    word-wrap: break-word;\n",
       "    word-break: break-all;\n",
       "    font-family: \"Source Code Pro\", \"Menlo\", monospace;;\n",
       "    font-size: 13px;\n",
       "    color: #555;\n",
       "    margin-left: 4px;\n",
       "    line-height: 19px;\n",
       "  }\n",
       "</style>"
      ]
     },
     "metadata": {
      "application/vnd.databricks.v1+output": {
       "arguments": {},
       "data": "",
       "errorSummary": "",
       "errorTraceType": null,
       "metadata": {},
       "type": "ipynbError"
      }
     },
     "output_type": "display_data"
    }
   ],
   "source": []
  },
  {
   "cell_type": "markdown",
   "metadata": {
    "application/vnd.databricks.v1+cell": {
     "inputWidgets": {},
     "nuid": "60bd327a-a3aa-46ee-9398-65142b7ad8fc",
     "showTitle": false,
     "title": ""
    }
   },
   "source": [
    "## OPTIONAL - GraphFrames\n",
    "GraphFrames is a graph library which is built on top of the Spark DataFrames API.\n",
    "\n",
    "* __a) code:__ Using the same dataset, run the graphframes implementation of pagerank.\n",
    "* __b) code:__ Join the top 20 results with indices.txt and display in the same format as above.\n",
    "* __c) short answer:__ Compare your results with the results from graphframes.\n",
    "\n",
    "__NOTE:__ Feel free to create as many code cells as you need. Code should be clear and concise - do not include your scratch work. Comment your code if it's not self annotating."
   ]
  },
  {
   "cell_type": "code",
   "execution_count": 0,
   "metadata": {
    "application/vnd.databricks.v1+cell": {
     "inputWidgets": {},
     "nuid": "d8a4d59d-29fc-43ff-b858-c0cd970a0ece",
     "showTitle": false,
     "title": ""
    }
   },
   "outputs": [
    {
     "data": {
      "text/html": [
       "<style scoped>\n",
       "  .ansiout {\n",
       "    display: block;\n",
       "    unicode-bidi: embed;\n",
       "    white-space: pre-wrap;\n",
       "    word-wrap: break-word;\n",
       "    word-break: break-all;\n",
       "    font-family: \"Source Code Pro\", \"Menlo\", monospace;;\n",
       "    font-size: 13px;\n",
       "    color: #555;\n",
       "    margin-left: 4px;\n",
       "    line-height: 19px;\n",
       "  }\n",
       "</style>"
      ]
     },
     "metadata": {
      "application/vnd.databricks.v1+output": {
       "arguments": {},
       "data": "",
       "errorSummary": "",
       "errorTraceType": null,
       "metadata": {},
       "type": "ipynbError"
      }
     },
     "output_type": "display_data"
    }
   ],
   "source": [
    "# imports\n",
    "import re\n",
    "import ast\n",
    "import time\n",
    "import numpy as np\n",
    "import pandas as pd\n",
    "import seaborn as sns\n",
    "import networkx as nx\n",
    "import matplotlib.pyplot as plt\n",
    "from graphframes import *\n",
    "from pyspark.sql import functions as F"
   ]
  },
  {
   "cell_type": "code",
   "execution_count": 0,
   "metadata": {
    "application/vnd.databricks.v1+cell": {
     "inputWidgets": {},
     "nuid": "736f292b-1ee2-4000-a804-8e61dccf71a0",
     "showTitle": false,
     "title": ""
    }
   },
   "outputs": [
    {
     "data": {
      "text/html": [
       "<style scoped>\n",
       "  .ansiout {\n",
       "    display: block;\n",
       "    unicode-bidi: embed;\n",
       "    white-space: pre-wrap;\n",
       "    word-wrap: break-word;\n",
       "    word-break: break-all;\n",
       "    font-family: \"Source Code Pro\", \"Menlo\", monospace;;\n",
       "    font-size: 13px;\n",
       "    color: #555;\n",
       "    margin-left: 4px;\n",
       "    line-height: 19px;\n",
       "  }\n",
       "</style>"
      ]
     },
     "metadata": {
      "application/vnd.databricks.v1+output": {
       "arguments": {},
       "data": "",
       "errorSummary": "",
       "errorTraceType": null,
       "metadata": {},
       "type": "ipynbError"
      }
     },
     "output_type": "display_data"
    }
   ],
   "source": [
    "# load the data into Spark RDDs for convenience of use later (RUN THIS CELL AS IS)\n",
    "DATA_PATH = 'dbfs:/mnt/mids-w261/HW5/'\n",
    "testRDD = sc.textFile(DATA_PATH +'test_graph.txt')\n",
    "indexRDD = sc.textFile(DATA_PATH + '/indices.txt')\n",
    "wikiRDD = sc.textFile(DATA_PATH + '/all-pages-indexed-out.txt')"
   ]
  },
  {
   "cell_type": "markdown",
   "metadata": {
    "application/vnd.databricks.v1+cell": {
     "inputWidgets": {},
     "nuid": "aa9b8ba5-af17-461d-bb49-9cdb9b8beaaa",
     "showTitle": false,
     "title": ""
    }
   },
   "source": [
    "### You will need to generate vertices (v) and edges (e) to feed into the graph below. \n",
    "Use as many cells as you need for this task."
   ]
  },
  {
   "cell_type": "code",
   "execution_count": 0,
   "metadata": {
    "application/vnd.databricks.v1+cell": {
     "inputWidgets": {},
     "nuid": "39af114b-a65d-48f6-8264-b4e584ad2570",
     "showTitle": false,
     "title": ""
    }
   },
   "outputs": [
    {
     "data": {
      "text/html": [
       "<style scoped>\n",
       "  .ansiout {\n",
       "    display: block;\n",
       "    unicode-bidi: embed;\n",
       "    white-space: pre-wrap;\n",
       "    word-wrap: break-word;\n",
       "    word-break: break-all;\n",
       "    font-family: \"Source Code Pro\", \"Menlo\", monospace;;\n",
       "    font-size: 13px;\n",
       "    color: #555;\n",
       "    margin-left: 4px;\n",
       "    line-height: 19px;\n",
       "  }\n",
       "</style>"
      ]
     },
     "metadata": {
      "application/vnd.databricks.v1+output": {
       "arguments": {},
       "data": "",
       "errorSummary": "",
       "errorTraceType": null,
       "metadata": {},
       "type": "ipynbError"
      }
     },
     "output_type": "display_data"
    }
   ],
   "source": [
    "def initGraphEdges(dataRDD):\n",
    "    \"\"\"\n",
    "    Spark job to read in the raw data and initialize an \n",
    "    adjacency list representation with a record for each\n",
    "    node (including dangling nodes).\n",
    "    \n",
    "    Returns: \n",
    "        graphRDD -  a pair RDD of (node_id , (score, edges))\n",
    "        \n",
    "    NOTE: The score should be a float, but you may want to be \n",
    "    strategic about how format the edges... there are a few \n",
    "    options that can work. Make sure that whatever you choose\n",
    "    is sufficient for Question 8 where you'll run PageRank.\n",
    "    \"\"\"\n",
    "    ############## YOUR CODE HERE ###############\n",
    "  \n",
    "    # write any helper functions here\n",
    "                    \n",
    "    # Emit node (key) and (weight, [edges])\n",
    "    def emitnode(line):\n",
    "      '''\n",
    "      Function that takes the RDD format (\"5\\t{'4': 3, '2': 1, '6': 1}\") \n",
    "      and generates output: ('5', (1/n, [('4',3), ('2',1), ('6',1)]))\n",
    "      '''\n",
    "\n",
    "      # Split line\n",
    "      node, edges_dict_str = line.split('\\t')\n",
    "      #convert edges string to dictionary  \n",
    "      edges_dict = ast.literal_eval(edges_dict_str)  \n",
    "      # rank of 1/N for each node\n",
    "      initrank = 1/n.value\n",
    "      # calculate weight\n",
    "      weight = float(1.0 * initrank)\n",
    "      \n",
    "      # Emit (node, (weight, [edges])) for every key, the empty list will take care of dangling nodes\n",
    "      for nd in edges_dict.keys():\n",
    "        if (edges_dict.get(nd) == 1):\n",
    "          yield (nd, (weight, []))\n",
    "        yield (node, (weight, list(edges_dict.items()))) \n",
    "        \n",
    "    # Merge node edges  \n",
    "    def merge(d1, d2):\n",
    "      '''\n",
    "      Function returns weight and merged edges.\n",
    "      '''\n",
    "      weight1, edge_list1 = d1 \n",
    "      weight2, edge_list2 = d2\n",
    "      return (weight1, list(set(edge_list1 + edge_list2)))\n",
    "      \n",
    "    # write your main Spark code here\n",
    "    \n",
    "    # Broadcast total number of nodes\n",
    "    n = sc.broadcast(count_nodes(dataRDD)) \n",
    "        \n",
    "    graphRDD = dataRDD.flatMap(lambda x: emitnode(x)) \\\n",
    "                      .reduceByKey(lambda x, y: merge(x, y))\n",
    "                      \n",
    "    ############## (END) YOUR CODE ##############\n",
    "    # ('5', (1/n, [('4',3), ('2',1), ('6',1)]))\n",
    "    # ('5', [('4',3), ('2',1), ('6',1)])\n",
    "    # Output: node_id, destination\n",
    "    initGraphEdgesRDD = graphRDD.map(lambda a: (int(a[0]), a[1][1]))\n",
    "    \n",
    "    return initGraphEdgesRDD\n"
   ]
  },
  {
   "cell_type": "code",
   "execution_count": 0,
   "metadata": {
    "application/vnd.databricks.v1+cell": {
     "inputWidgets": {},
     "nuid": "0eb344a1-a0fb-4dba-99fb-9df153e4c53c",
     "showTitle": false,
     "title": ""
    }
   },
   "outputs": [
    {
     "data": {
      "text/html": [
       "<style scoped>\n",
       "  .ansiout {\n",
       "    display: block;\n",
       "    unicode-bidi: embed;\n",
       "    white-space: pre-wrap;\n",
       "    word-wrap: break-word;\n",
       "    word-break: break-all;\n",
       "    font-family: \"Source Code Pro\", \"Menlo\", monospace;;\n",
       "    font-size: 13px;\n",
       "    color: #555;\n",
       "    margin-left: 4px;\n",
       "    line-height: 19px;\n",
       "  }\n",
       "</style>"
      ]
     },
     "metadata": {
      "application/vnd.databricks.v1+output": {
       "arguments": {},
       "data": "",
       "errorSummary": "",
       "errorTraceType": null,
       "metadata": {},
       "type": "ipynbError"
      }
     },
     "output_type": "display_data"
    }
   ],
   "source": [
    "# part c - run your Spark job on the test graph (RUN THIS CELL AS IS)\n",
    "start = time.time()\n",
    "testGraphEdges = initGraphEdges(testRDD).collect()\n",
    "print(f'... test graph initialized in {time.time() - start} seconds.')\n",
    "testGraphEdges"
   ]
  },
  {
   "cell_type": "code",
   "execution_count": 0,
   "metadata": {
    "application/vnd.databricks.v1+cell": {
     "inputWidgets": {},
     "nuid": "fbe9593a-a961-4b2f-9c99-ba264a934be3",
     "showTitle": false,
     "title": ""
    }
   },
   "outputs": [
    {
     "data": {
      "text/html": [
       "<style scoped>\n",
       "  .ansiout {\n",
       "    display: block;\n",
       "    unicode-bidi: embed;\n",
       "    white-space: pre-wrap;\n",
       "    word-wrap: break-word;\n",
       "    word-break: break-all;\n",
       "    font-family: \"Source Code Pro\", \"Menlo\", monospace;;\n",
       "    font-size: 13px;\n",
       "    color: #555;\n",
       "    margin-left: 4px;\n",
       "    line-height: 19px;\n",
       "  }\n",
       "</style>"
      ]
     },
     "metadata": {
      "application/vnd.databricks.v1+output": {
       "arguments": {},
       "data": "",
       "errorSummary": "",
       "errorTraceType": null,
       "metadata": {},
       "type": "ipynbError"
      }
     },
     "output_type": "display_data"
    }
   ],
   "source": [
    "# line = ('5', [('4',3), ('2',1), ('6',1)])\n",
    "tuple_list = []\n",
    "edge_key = []\n",
    "def node_edges_list(line):\n",
    "    for l in line:\n",
    "    node, tuple_list = line\n",
    "    for a_tuple in tuple_list:\n",
    "      edge_key.append(a_tuple[0])\n",
    "    return [node, edge_key, 'follow']\n",
    "  \n",
    "test_list = node_edges_list(testGraphEdges)  "
   ]
  },
  {
   "cell_type": "code",
   "execution_count": 0,
   "metadata": {
    "application/vnd.databricks.v1+cell": {
     "inputWidgets": {},
     "nuid": "61f828fd-6faa-4e83-a0a3-1a6909fea4b0",
     "showTitle": false,
     "title": ""
    }
   },
   "outputs": [
    {
     "data": {
      "text/html": [
       "<style scoped>\n",
       "  .ansiout {\n",
       "    display: block;\n",
       "    unicode-bidi: embed;\n",
       "    white-space: pre-wrap;\n",
       "    word-wrap: break-word;\n",
       "    word-break: break-all;\n",
       "    font-family: \"Source Code Pro\", \"Menlo\", monospace;;\n",
       "    font-size: 13px;\n",
       "    color: #555;\n",
       "    margin-left: 4px;\n",
       "    line-height: 19px;\n",
       "  }\n",
       "</style>"
      ]
     },
     "metadata": {
      "application/vnd.databricks.v1+output": {
       "arguments": {},
       "data": "",
       "errorSummary": "",
       "errorTraceType": null,
       "metadata": {},
       "type": "ipynbError"
      }
     },
     "output_type": "display_data"
    }
   ],
   "source": [
    "#working\n",
    "# line = ['5', ['4', '2', '6']]\n",
    "# line = ['5', []]\n",
    "pair = []\n",
    "\n",
    "def pairs(line):\n",
    "    if len(line[1]) > 0:\n",
    "       \n",
    "        for l in line[1]:\n",
    "            pair_ind = (l[0],l)\n",
    "            pair.append(pair_ind)\n",
    "\n",
    "    return pair\n",
    "  \n",
    "edgesRDD = sc.parallelize(pairs(test_list))\n",
    "\n",
    "edges_DF = spark.createDataFrame(edgesRDD, schema=['src', 'dest', 'relationship'])"
   ]
  },
  {
   "cell_type": "code",
   "execution_count": 0,
   "metadata": {
    "application/vnd.databricks.v1+cell": {
     "inputWidgets": {},
     "nuid": "6497a933-4dfe-468d-8d8f-8691b7a4abe1",
     "showTitle": false,
     "title": ""
    }
   },
   "outputs": [
    {
     "data": {
      "text/html": [
       "<style scoped>\n",
       "  .ansiout {\n",
       "    display: block;\n",
       "    unicode-bidi: embed;\n",
       "    white-space: pre-wrap;\n",
       "    word-wrap: break-word;\n",
       "    word-break: break-all;\n",
       "    font-family: \"Source Code Pro\", \"Menlo\", monospace;;\n",
       "    font-size: 13px;\n",
       "    color: #555;\n",
       "    margin-left: 4px;\n",
       "    line-height: 19px;\n",
       "  }\n",
       "</style>"
      ]
     },
     "metadata": {
      "application/vnd.databricks.v1+output": {
       "arguments": {},
       "data": "",
       "errorSummary": "",
       "errorTraceType": null,
       "metadata": {},
       "type": "ipynbError"
      }
     },
     "output_type": "display_data"
    }
   ],
   "source": [
    "# Create a GraphFrame\n",
    "from graphframes import *\n",
    "g = GraphFrame(v, e)\n",
    "\n",
    "# See Demo10_workbook at the end\n",
    "# define vertices (v) [id, name, age??]\n",
    "joinedWithNames = v\n",
    "\n",
    "# define edges_df [source, destination, relationship??]\n"
   ]
  },
  {
   "cell_type": "code",
   "execution_count": 0,
   "metadata": {
    "application/vnd.databricks.v1+cell": {
     "inputWidgets": {},
     "nuid": "dc573ad6-7468-4f09-b108-f90601d8f0e8",
     "showTitle": false,
     "title": ""
    }
   },
   "outputs": [
    {
     "data": {
      "text/html": [
       "<style scoped>\n",
       "  .ansiout {\n",
       "    display: block;\n",
       "    unicode-bidi: embed;\n",
       "    white-space: pre-wrap;\n",
       "    word-wrap: break-word;\n",
       "    word-break: break-all;\n",
       "    font-family: \"Source Code Pro\", \"Menlo\", monospace;;\n",
       "    font-size: 13px;\n",
       "    color: #555;\n",
       "    margin-left: 4px;\n",
       "    line-height: 19px;\n",
       "  }\n",
       "</style>"
      ]
     },
     "metadata": {
      "application/vnd.databricks.v1+output": {
       "arguments": {},
       "data": "",
       "errorSummary": "",
       "errorTraceType": null,
       "metadata": {},
       "type": "ipynbError"
      }
     },
     "output_type": "display_data"
    }
   ],
   "source": [
    "# Run PageRank algorithm, and show results.\n",
    "results = g.pageRank(resetProbability=0.15, maxIter=10)"
   ]
  },
  {
   "cell_type": "code",
   "execution_count": 0,
   "metadata": {
    "application/vnd.databricks.v1+cell": {
     "inputWidgets": {},
     "nuid": "3167f766-4c07-4c03-afa4-39eddde69c23",
     "showTitle": false,
     "title": ""
    }
   },
   "outputs": [
    {
     "data": {
      "text/html": [
       "<style scoped>\n",
       "  .ansiout {\n",
       "    display: block;\n",
       "    unicode-bidi: embed;\n",
       "    white-space: pre-wrap;\n",
       "    word-wrap: break-word;\n",
       "    word-break: break-all;\n",
       "    font-family: \"Source Code Pro\", \"Menlo\", monospace;;\n",
       "    font-size: 13px;\n",
       "    color: #555;\n",
       "    margin-left: 4px;\n",
       "    line-height: 19px;\n",
       "  }\n",
       "</style>"
      ]
     },
     "metadata": {
      "application/vnd.databricks.v1+output": {
       "arguments": {},
       "data": "",
       "errorSummary": "",
       "errorTraceType": null,
       "metadata": {},
       "type": "ipynbError"
      }
     },
     "output_type": "display_data"
    }
   ],
   "source": [
    "start = time.time()\n",
    "top_20 = results.vertices.orderBy(F.desc(\"pagerank\")).limit(20)\n",
    "print(f'... completed job in {time.time() - start} seconds.')"
   ]
  },
  {
   "cell_type": "code",
   "execution_count": 0,
   "metadata": {
    "application/vnd.databricks.v1+cell": {
     "inputWidgets": {},
     "nuid": "31439e55-31ac-4f4b-902b-454b78e4e790",
     "showTitle": false,
     "title": ""
    }
   },
   "outputs": [
    {
     "data": {
      "text/html": [
       "<style scoped>\n",
       "  .ansiout {\n",
       "    display: block;\n",
       "    unicode-bidi: embed;\n",
       "    white-space: pre-wrap;\n",
       "    word-wrap: break-word;\n",
       "    word-break: break-all;\n",
       "    font-family: \"Source Code Pro\", \"Menlo\", monospace;;\n",
       "    font-size: 13px;\n",
       "    color: #555;\n",
       "    margin-left: 4px;\n",
       "    line-height: 19px;\n",
       "  }\n",
       "</style>"
      ]
     },
     "metadata": {
      "application/vnd.databricks.v1+output": {
       "arguments": {},
       "data": "",
       "errorSummary": "",
       "errorTraceType": null,
       "metadata": {},
       "type": "ipynbError"
      }
     },
     "output_type": "display_data"
    }
   ],
   "source": [
    "%%time\n",
    "top_20.show()"
   ]
  },
  {
   "cell_type": "markdown",
   "metadata": {
    "application/vnd.databricks.v1+cell": {
     "inputWidgets": {},
     "nuid": "b0d7e32f-b23b-49b9-b916-98ff642dd738",
     "showTitle": false,
     "title": ""
    }
   },
   "source": [
    "### Run the cells below to join the results of the graphframes pagerank algorithm with the names of the nodes."
   ]
  },
  {
   "cell_type": "code",
   "execution_count": 0,
   "metadata": {
    "application/vnd.databricks.v1+cell": {
     "inputWidgets": {},
     "nuid": "55f711ff-8e0a-4222-823d-7fc9ef4668c1",
     "showTitle": false,
     "title": ""
    }
   },
   "outputs": [
    {
     "data": {
      "text/html": [
       "<style scoped>\n",
       "  .ansiout {\n",
       "    display: block;\n",
       "    unicode-bidi: embed;\n",
       "    white-space: pre-wrap;\n",
       "    word-wrap: break-word;\n",
       "    word-break: break-all;\n",
       "    font-family: \"Source Code Pro\", \"Menlo\", monospace;;\n",
       "    font-size: 13px;\n",
       "    color: #555;\n",
       "    margin-left: 4px;\n",
       "    line-height: 19px;\n",
       "  }\n",
       "</style>"
      ]
     },
     "metadata": {
      "application/vnd.databricks.v1+output": {
       "arguments": {},
       "data": "",
       "errorSummary": "",
       "errorTraceType": null,
       "metadata": {},
       "type": "ipynbError"
      }
     },
     "output_type": "display_data"
    }
   ],
   "source": [
    "namesKV_RDD = indexRDD.map(lambda x: (int(x.split('\\t')[1]), x.split('\\t')[0]))"
   ]
  },
  {
   "cell_type": "code",
   "execution_count": 0,
   "metadata": {
    "application/vnd.databricks.v1+cell": {
     "inputWidgets": {},
     "nuid": "4c7a1316-3ca2-4497-b645-76aef07669a1",
     "showTitle": false,
     "title": ""
    }
   },
   "outputs": [
    {
     "data": {
      "text/html": [
       "<style scoped>\n",
       "  .ansiout {\n",
       "    display: block;\n",
       "    unicode-bidi: embed;\n",
       "    white-space: pre-wrap;\n",
       "    word-wrap: break-word;\n",
       "    word-break: break-all;\n",
       "    font-family: \"Source Code Pro\", \"Menlo\", monospace;;\n",
       "    font-size: 13px;\n",
       "    color: #555;\n",
       "    margin-left: 4px;\n",
       "    line-height: 19px;\n",
       "  }\n",
       "</style>"
      ]
     },
     "metadata": {
      "application/vnd.databricks.v1+output": {
       "arguments": {},
       "data": "",
       "errorSummary": "",
       "errorTraceType": null,
       "metadata": {},
       "type": "ipynbError"
      }
     },
     "output_type": "display_data"
    }
   ],
   "source": [
    "namesKV_DF = namesKV_RDD.toDF()"
   ]
  },
  {
   "cell_type": "code",
   "execution_count": 0,
   "metadata": {
    "application/vnd.databricks.v1+cell": {
     "inputWidgets": {},
     "nuid": "2ad31a82-8bea-4676-8ce7-cb3e0b0cfff1",
     "showTitle": false,
     "title": ""
    }
   },
   "outputs": [
    {
     "data": {
      "text/html": [
       "<style scoped>\n",
       "  .ansiout {\n",
       "    display: block;\n",
       "    unicode-bidi: embed;\n",
       "    white-space: pre-wrap;\n",
       "    word-wrap: break-word;\n",
       "    word-break: break-all;\n",
       "    font-family: \"Source Code Pro\", \"Menlo\", monospace;;\n",
       "    font-size: 13px;\n",
       "    color: #555;\n",
       "    margin-left: 4px;\n",
       "    line-height: 19px;\n",
       "  }\n",
       "</style>"
      ]
     },
     "metadata": {
      "application/vnd.databricks.v1+output": {
       "arguments": {},
       "data": "",
       "errorSummary": "",
       "errorTraceType": null,
       "metadata": {},
       "type": "ipynbError"
      }
     },
     "output_type": "display_data"
    }
   ],
   "source": [
    "namesKV_DF = namesKV_DF.withColumnRenamed('_1','id')\n",
    "namesKV_DF = namesKV_DF.withColumnRenamed('_2','title')\n",
    "namesKV_DF.take(1)"
   ]
  },
  {
   "cell_type": "code",
   "execution_count": 0,
   "metadata": {
    "application/vnd.databricks.v1+cell": {
     "inputWidgets": {},
     "nuid": "8dc6fb8e-1abc-4230-984e-f118d4fc2b83",
     "showTitle": false,
     "title": ""
    }
   },
   "outputs": [
    {
     "data": {
      "text/html": [
       "<style scoped>\n",
       "  .ansiout {\n",
       "    display: block;\n",
       "    unicode-bidi: embed;\n",
       "    white-space: pre-wrap;\n",
       "    word-wrap: break-word;\n",
       "    word-break: break-all;\n",
       "    font-family: \"Source Code Pro\", \"Menlo\", monospace;;\n",
       "    font-size: 13px;\n",
       "    color: #555;\n",
       "    margin-left: 4px;\n",
       "    line-height: 19px;\n",
       "  }\n",
       "</style>"
      ]
     },
     "metadata": {
      "application/vnd.databricks.v1+output": {
       "arguments": {},
       "data": "",
       "errorSummary": "",
       "errorTraceType": null,
       "metadata": {},
       "type": "ipynbError"
      }
     },
     "output_type": "display_data"
    }
   ],
   "source": [
    "resultsWithNames = namesKV_DF.join(top_20, namesKV_DF.id==top_20.id).orderBy(F.desc(\"pagerank\")).collect()"
   ]
  },
  {
   "cell_type": "code",
   "execution_count": 0,
   "metadata": {
    "application/vnd.databricks.v1+cell": {
     "inputWidgets": {},
     "nuid": "e98f5cf1-68cc-4681-bca3-94f9d50a165f",
     "showTitle": false,
     "title": ""
    }
   },
   "outputs": [
    {
     "data": {
      "text/html": [
       "<style scoped>\n",
       "  .ansiout {\n",
       "    display: block;\n",
       "    unicode-bidi: embed;\n",
       "    white-space: pre-wrap;\n",
       "    word-wrap: break-word;\n",
       "    word-break: break-all;\n",
       "    font-family: \"Source Code Pro\", \"Menlo\", monospace;;\n",
       "    font-size: 13px;\n",
       "    color: #555;\n",
       "    margin-left: 4px;\n",
       "    line-height: 19px;\n",
       "  }\n",
       "</style>"
      ]
     },
     "metadata": {
      "application/vnd.databricks.v1+output": {
       "arguments": {},
       "data": "",
       "errorSummary": "",
       "errorTraceType": null,
       "metadata": {},
       "type": "ipynbError"
      }
     },
     "output_type": "display_data"
    }
   ],
   "source": [
    "# TODO: use f' for string formatting\n",
    "print(\"{:10s}\\t| {:10s}\\t| {}\".format(\"PageRank\",\"Page id\",\"Title\"))\n",
    "print(\"=\"*100)\n",
    "for r in resultsWithNames:\n",
    "    print (\"{:6f}\\t| {:10s}\\t| {}\".format(r[3],r[2],r[1]))"
   ]
  },
  {
   "cell_type": "markdown",
   "metadata": {
    "application/vnd.databricks.v1+cell": {
     "inputWidgets": {},
     "nuid": "c076d9bf-8a38-439e-8c67-393bca70d7f1",
     "showTitle": false,
     "title": ""
    }
   },
   "source": [
    "### Congratulations, you have completed HW5! Please refer to the readme for submission instructions.\n",
    "\n",
    "If you would like to provide feedback regarding this homework, please use the survey at: https://docs.google.com/forms/d/e/1FAIpQLSce9feiQeSkdP43A0ZYui1tMGIBfLfzb0rmgToQeZD9bXXX8Q/viewform"
   ]
  },
  {
   "cell_type": "code",
   "execution_count": 0,
   "metadata": {
    "application/vnd.databricks.v1+cell": {
     "inputWidgets": {},
     "nuid": "74b33bbd-5958-44d6-a5db-45d5fb77364e",
     "showTitle": false,
     "title": ""
    }
   },
   "outputs": [
    {
     "data": {
      "text/html": [
       "<style scoped>\n",
       "  .ansiout {\n",
       "    display: block;\n",
       "    unicode-bidi: embed;\n",
       "    white-space: pre-wrap;\n",
       "    word-wrap: break-word;\n",
       "    word-break: break-all;\n",
       "    font-family: \"Source Code Pro\", \"Menlo\", monospace;;\n",
       "    font-size: 13px;\n",
       "    color: #555;\n",
       "    margin-left: 4px;\n",
       "    line-height: 19px;\n",
       "  }\n",
       "</style>"
      ]
     },
     "metadata": {
      "application/vnd.databricks.v1+output": {
       "arguments": {},
       "data": "",
       "errorSummary": "",
       "errorTraceType": null,
       "metadata": {},
       "type": "ipynbError"
      }
     },
     "output_type": "display_data"
    }
   ],
   "source": []
  }
 ],
 "metadata": {
  "application/vnd.databricks.v1+notebook": {
   "dashboards": [],
   "language": "python",
   "notebookMetadata": {
    "pythonIndentUnit": 2
   },
   "notebookName": "hw5_workbook_team_11",
   "notebookOrigID": 410528237313557,
   "widgets": {}
  },
  "kernelspec": {
   "display_name": "Python 3",
   "language": "python",
   "name": "python3"
  },
  "language_info": {
   "codemirror_mode": {
    "name": "ipython",
    "version": 3
   },
   "file_extension": ".py",
   "mimetype": "text/x-python",
   "name": "python",
   "nbconvert_exporter": "python",
   "pygments_lexer": "ipython3",
   "version": "3.8.3"
  }
 },
 "nbformat": 4,
 "nbformat_minor": 1
}
