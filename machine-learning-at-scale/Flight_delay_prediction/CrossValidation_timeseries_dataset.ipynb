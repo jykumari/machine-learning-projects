{
 "cells": [
  {
   "cell_type": "markdown",
   "metadata": {
    "application/vnd.databricks.v1+cell": {
     "inputWidgets": {},
     "nuid": "683d4c13-182d-4f4c-93de-0d6d7833a480",
     "showTitle": false,
     "title": ""
    }
   },
   "source": [
    "## Cross Validation for Time series\n",
    "\n",
    "This notebook includes Algorithm exploration for times series data using cross validation, \n",
    "- train-test data split\n",
    "- logic for handling Imbalanced dataset\n",
    "- Relevant feature transformations\n",
    "- Treatment of categorical variable\n",
    "\n",
    "This notebook also demonstrates algorithm exploration and the logic for setting up the pipeline for running the **Logistic regression model.**"
   ]
  },
  {
   "cell_type": "markdown",
   "metadata": {
    "application/vnd.databricks.v1+cell": {
     "inputWidgets": {},
     "nuid": "1a7aeb2f-4fb3-4f9b-bb04-a8b1b9514a13",
     "showTitle": false,
     "title": ""
    }
   },
   "source": [
    "### Section 1 - Setup Environment"
   ]
  },
  {
   "cell_type": "code",
   "execution_count": 0,
   "metadata": {
    "application/vnd.databricks.v1+cell": {
     "inputWidgets": {},
     "nuid": "860d1e18-8843-40ec-9b06-baca76a0b902",
     "showTitle": true,
     "title": "Import Libraries"
    }
   },
   "outputs": [
    {
     "data": {
      "text/html": [
       "<style scoped>\n",
       "  .ansiout {\n",
       "    display: block;\n",
       "    unicode-bidi: embed;\n",
       "    white-space: pre-wrap;\n",
       "    word-wrap: break-word;\n",
       "    word-break: break-all;\n",
       "    font-family: \"Source Code Pro\", \"Menlo\", monospace;;\n",
       "    font-size: 13px;\n",
       "    color: #555;\n",
       "    margin-left: 4px;\n",
       "    line-height: 19px;\n",
       "  }\n",
       "</style>\n",
       "<div class=\"ansiout\"></div>"
      ]
     },
     "metadata": {
      "application/vnd.databricks.v1+output": {
       "addedWidgets": {},
       "arguments": {},
       "data": "<div class=\"ansiout\"></div>",
       "datasetInfos": [],
       "metadata": {},
       "removedWidgets": [],
       "type": "html"
      }
     },
     "output_type": "display_data"
    }
   ],
   "source": [
    "from pyspark.sql.functions import col, concat, count, countDistinct, expr, lit, length, max as pyspark_max, min as pyspark_min, mean, substring, split, sum as pyspark_sum, when, to_utc_timestamp, to_timestamp, unix_timestamp, isnan\n",
    "import pandas as pd\n",
    "from html import escape\n",
    "from IPython.display import HTML, display as ipython_display\n",
    "import seaborn as sns\n",
    "import matplotlib.pyplot as plt\n",
    "from sklearn.metrics import confusion_matrix, ConfusionMatrixDisplay\n",
    "from pyspark.sql import SQLContext\n",
    "from pyspark.sql.types import IntegerType, StringType, BooleanType, DateType, DoubleType\n",
    "import matplotlib.pyplot as plt\n",
    "from pandas.tseries.holiday import USFederalHolidayCalendar\n",
    "from pyspark.sql.functions import substring\n",
    "from pyspark.sql import functions as F\n",
    "from pyspark.ml.classification import LogisticRegression\n",
    "from pyspark.ml.evaluation import BinaryClassificationEvaluator\n",
    "from pyspark.ml.evaluation import MulticlassClassificationEvaluator\n",
    "from pyspark.ml.tuning import ParamGridBuilder, CrossValidator\n",
    "from pyspark.sql.functions import col, max, substring\n",
    "from pyspark.mllib.tree import DecisionTree, DecisionTreeModel\n",
    "from pyspark.ml.classification import DecisionTreeClassifier\n",
    "from pyspark.ml.classification import RandomForestClassifier\n",
    "from pyspark.ml.classification import GBTClassifier\n",
    "from sparkdl.xgboost import XgboostClassifier\n",
    "from pyspark.mllib.util import MLUtils\n",
    "from pyspark.ml.feature import Imputer\n",
    "from pyspark.ml.classification import LinearSVC as svc\n",
    "from pyspark.ml.classification import LinearSVC\n",
    "from pyspark.ml import Pipeline\n",
    "import numpy as np\n",
    "import itertools\n",
    "import time\n",
    "from pyspark.ml.feature import VectorAssembler\n",
    "from sklearn.metrics import classification_report, confusion_matrix\n",
    "from pyspark.sql.functions import percent_rank\n",
    "from pyspark.sql import Window\n"
   ]
  },
  {
   "cell_type": "code",
   "execution_count": 0,
   "metadata": {
    "application/vnd.databricks.v1+cell": {
     "inputWidgets": {},
     "nuid": "c1eb45d1-01f5-4e23-9333-2ccc83e93020",
     "showTitle": true,
     "title": "Access to Azure Blob Storage"
    }
   },
   "outputs": [
    {
     "data": {
      "text/html": [
       "<style scoped>\n",
       "  .ansiout {\n",
       "    display: block;\n",
       "    unicode-bidi: embed;\n",
       "    white-space: pre-wrap;\n",
       "    word-wrap: break-word;\n",
       "    word-break: break-all;\n",
       "    font-family: \"Source Code Pro\", \"Menlo\", monospace;;\n",
       "    font-size: 13px;\n",
       "    color: #555;\n",
       "    margin-left: 4px;\n",
       "    line-height: 19px;\n",
       "  }\n",
       "</style>\n",
       "<div class=\"ansiout\"></div>"
      ]
     },
     "metadata": {
      "application/vnd.databricks.v1+output": {
       "addedWidgets": {},
       "arguments": {},
       "data": "<div class=\"ansiout\"></div>",
       "datasetInfos": [],
       "metadata": {},
       "removedWidgets": [],
       "type": "html"
      }
     },
     "output_type": "display_data"
    }
   ],
   "source": [
    "blob_container = \"w261-container\" # The name of your container created in https://portal.azure.com\n",
    "storage_account = \"w261storageaccount\" # The name of your Storage account created in https://portal.azure.com\n",
    "secret_scope = \"w261scope\" # The name of the scope created in your local computer using the Databricks CLI\n",
    "secret_key = \"w261key\" # The name of the secret key created in your local computer using the Databricks CLI \n",
    "blob_url = f\"wasbs://{blob_container}@{storage_account}.blob.core.windows.net\"\n",
    "mount_path = \"/mnt/mids-w261\"\n",
    "\n",
    "spark.conf.set(\n",
    "  f\"fs.azure.sas.{blob_container}.{storage_account}.blob.core.windows.net\",\n",
    "  dbutils.secrets.get(scope = secret_scope, key = secret_key)\n",
    ")"
   ]
  },
  {
   "cell_type": "markdown",
   "metadata": {
    "application/vnd.databricks.v1+cell": {
     "inputWidgets": {},
     "nuid": "07b0255e-e260-4bda-abf0-cde41d8173b5",
     "showTitle": false,
     "title": ""
    }
   },
   "source": [
    "### Section 2 - Load Data"
   ]
  },
  {
   "cell_type": "code",
   "execution_count": 0,
   "metadata": {
    "application/vnd.databricks.v1+cell": {
     "inputWidgets": {},
     "nuid": "356e0216-c233-4001-a7ab-e38946a80ee2",
     "showTitle": false,
     "title": ""
    }
   },
   "outputs": [
    {
     "data": {
      "text/html": [
       "<style scoped>\n",
       "  .table-result-container {\n",
       "    max-height: 300px;\n",
       "    overflow: auto;\n",
       "  }\n",
       "  table, th, td {\n",
       "    border: 1px solid black;\n",
       "    border-collapse: collapse;\n",
       "  }\n",
       "  th, td {\n",
       "    padding: 5px;\n",
       "  }\n",
       "  th {\n",
       "    text-align: left;\n",
       "  }\n",
       "</style><div class='table-result-container'><table class='table-result'><thead style='background-color: white'><tr><th>path</th><th>name</th><th>size</th></tr></thead><tbody><tr><td>dbfs:/mnt/mids-w261/datasets_final_project/airlines/</td><td>airlines/</td><td>0</td></tr><tr><td>dbfs:/mnt/mids-w261/datasets_final_project/airlines_data/</td><td>airlines_data/</td><td>0</td></tr><tr><td>dbfs:/mnt/mids-w261/datasets_final_project/parquet_airlines_data/</td><td>parquet_airlines_data/</td><td>0</td></tr><tr><td>dbfs:/mnt/mids-w261/datasets_final_project/parquet_airlines_data_3m/</td><td>parquet_airlines_data_3m/</td><td>0</td></tr><tr><td>dbfs:/mnt/mids-w261/datasets_final_project/parquet_airlines_data_6m/</td><td>parquet_airlines_data_6m/</td><td>0</td></tr><tr><td>dbfs:/mnt/mids-w261/datasets_final_project/stations_data/</td><td>stations_data/</td><td>0</td></tr><tr><td>dbfs:/mnt/mids-w261/datasets_final_project/weather_data/</td><td>weather_data/</td><td>0</td></tr><tr><td>dbfs:/mnt/mids-w261/datasets_final_project/weather_data_6_hr/</td><td>weather_data_6_hr/</td><td>0</td></tr><tr><td>dbfs:/mnt/mids-w261/datasets_final_project/weather_data_single/</td><td>weather_data_single/</td><td>0</td></tr></tbody></table></div>"
      ]
     },
     "metadata": {
      "application/vnd.databricks.v1+output": {
       "addedWidgets": {},
       "aggData": [],
       "aggError": "",
       "aggOverflow": false,
       "aggSchema": [],
       "aggSeriesLimitReached": false,
       "aggType": "",
       "arguments": {},
       "columnCustomDisplayInfos": {},
       "data": [
        [
         "dbfs:/mnt/mids-w261/datasets_final_project/airlines/",
         "airlines/",
         0
        ],
        [
         "dbfs:/mnt/mids-w261/datasets_final_project/airlines_data/",
         "airlines_data/",
         0
        ],
        [
         "dbfs:/mnt/mids-w261/datasets_final_project/parquet_airlines_data/",
         "parquet_airlines_data/",
         0
        ],
        [
         "dbfs:/mnt/mids-w261/datasets_final_project/parquet_airlines_data_3m/",
         "parquet_airlines_data_3m/",
         0
        ],
        [
         "dbfs:/mnt/mids-w261/datasets_final_project/parquet_airlines_data_6m/",
         "parquet_airlines_data_6m/",
         0
        ],
        [
         "dbfs:/mnt/mids-w261/datasets_final_project/stations_data/",
         "stations_data/",
         0
        ],
        [
         "dbfs:/mnt/mids-w261/datasets_final_project/weather_data/",
         "weather_data/",
         0
        ],
        [
         "dbfs:/mnt/mids-w261/datasets_final_project/weather_data_6_hr/",
         "weather_data_6_hr/",
         0
        ],
        [
         "dbfs:/mnt/mids-w261/datasets_final_project/weather_data_single/",
         "weather_data_single/",
         0
        ]
       ],
       "datasetInfos": [],
       "dbfsResultPath": null,
       "isJsonSchema": true,
       "metadata": {},
       "overflow": false,
       "plotOptions": {
        "customPlotOptions": {},
        "displayType": "table",
        "pivotAggregation": null,
        "pivotColumns": null,
        "xColumns": null,
        "yColumns": null
       },
       "removedWidgets": [],
       "schema": [
        {
         "metadata": "{}",
         "name": "path",
         "type": "\"string\""
        },
        {
         "metadata": "{}",
         "name": "name",
         "type": "\"string\""
        },
        {
         "metadata": "{}",
         "name": "size",
         "type": "\"long\""
        }
       ],
       "type": "table"
      }
     },
     "output_type": "display_data"
    }
   ],
   "source": [
    "# Inspect the Mount's Final Project folder \n",
    "display(dbutils.fs.ls(\"/mnt/mids-w261/datasets_final_project\"))"
   ]
  },
  {
   "cell_type": "code",
   "execution_count": 0,
   "metadata": {
    "application/vnd.databricks.v1+cell": {
     "inputWidgets": {},
     "nuid": "f0e141a5-4137-4831-9242-92adbc5e338d",
     "showTitle": false,
     "title": ""
    }
   },
   "outputs": [
    {
     "data": {
      "text/html": [
       "<style scoped>\n",
       "  .table-result-container {\n",
       "    max-height: 300px;\n",
       "    overflow: auto;\n",
       "  }\n",
       "  table, th, td {\n",
       "    border: 1px solid black;\n",
       "    border-collapse: collapse;\n",
       "  }\n",
       "  th, td {\n",
       "    padding: 5px;\n",
       "  }\n",
       "  th {\n",
       "    text-align: left;\n",
       "  }\n",
       "</style><div class='table-result-container'><table class='table-result'><thead style='background-color: white'><tr><th>year</th><th>quarter</th><th>month</th><th>day_of_week</th><th>holiday</th><th>weather_obs_prev</th><th>weather_obs_prev_2</th><th>carrier</th><th>origin</th><th>destination</th><th>departure_delay</th><th>departure_delay_15</th><th>departure_delay_boolean</th><th>arrival_delay_boolean</th><th>distance</th><th>distance_group</th><th>actual_timestamp</th><th>hourly_timestamp</th><th>prev_hourly_timestamp</th><th>utc_hourly_timestamp</th><th>utc_prev_hourly_timestamp</th><th>planned_time_between_flights</th><th>prev_dep_delayed_confirmed</th><th>weather_station</th><th>wnd_angle_prev</th><th>wnd_angle_qc_prev</th><th>wnd_type_prev</th><th>wnd_speed_prev</th><th>wnd_speed_qc_prev</th><th>wnd_cloud_angle_prev</th><th>cig_cloud_angle_qc_prev</th><th>cig_method_prev</th><th>cig_cavok_prev</th><th>vis_dist_prev</th><th>vis_dist_qc_prev</th><th>vis_var_prev</th><th>vis_var_qc_prev</th><th>tmp_c_prev</th><th>tmp_qc_prev</th><th>dew_c_prev</th><th>dew_qc_prev</th><th>slp_p_prev</th><th>slp_qc_prev</th><th>wnd_angle_prev_2</th><th>wnd_angle_qc_prev_2</th><th>wnd_type_prev_2</th><th>wnd_speed_prev_2</th><th>wnd_speed_qc_prev_2</th><th>wnd_cloud_angle_prev_2</th><th>cig_cloud_angle_qc_prev_2</th><th>cig_method_prev_2</th><th>cig_cavok_prev_2</th><th>vis_dist_prev_2</th><th>vis_dist_qc_prev_2</th><th>vis_var_prev_2</th><th>vis_var_qc_prev_2</th><th>tmp_c_prev_2</th><th>tmp_qc_prev_2</th><th>dew_c_prev_2</th><th>dew_qc_prev_2</th><th>slp_p_prev_2</th><th>slp_qc_prev_2</th><th>route_delay</th><th>origin_arrival_delay</th><th>origin_departure_delay</th><th>dest_departure_delay</th><th>dest_arrival_delay</th></tr></thead><tbody><tr><td>2019</td><td>1</td><td>2</td><td>7</td><td>0</td><td>0</td><td>0</td><td>G4</td><td>ALB</td><td>PGD</td><td>0.0</td><td>0.0</td><td>0.0</td><td>0.0</td><td>1185.0</td><td>5</td><td>2019-02-10T10:38:00.000+0000</td><td>2019-02-10T08:00:00.000+0000</td><td>2019-02-10T07:00:00.000+0000</td><td>2019-02-10T13:00:00.000+0000</td><td>2019-02-10T12:00:00.000+0000</td><td>45.0</td><td>0.0</td><td>72518014735</td><td>310</td><td>5</td><td>N</td><td>21</td><td>5</td><td>1219</td><td>5</td><td>M</td><td>N</td><td>16093</td><td>5</td><td>N</td><td>5</td><td>-44</td><td>5</td><td>-122</td><td>5</td><td>10384</td><td>5</td><td>300</td><td>5</td><td>N</td><td>31</td><td>5</td><td>1311</td><td>5</td><td>M</td><td>N</td><td>16093</td><td>5</td><td>N</td><td>5</td><td>-50</td><td>5</td><td>-122</td><td>5</td><td>10385</td><td>5</td><td>14.129032258064516</td><td>11.878245986779982</td><td>11.66586008813346</td><td>18.286828181565024</td><td>19.56242457996844</td></tr><tr><td>2019</td><td>1</td><td>3</td><td>7</td><td>0</td><td>0</td><td>0</td><td>G4</td><td>ALB</td><td>PGD</td><td>0.0</td><td>0.0</td><td>0.0</td><td>0.0</td><td>1185.0</td><td>5</td><td>2019-03-31T10:18:00.000+0000</td><td>2019-03-31T08:00:00.000+0000</td><td>2019-03-31T07:00:00.000+0000</td><td>2019-03-31T12:00:00.000+0000</td><td>2019-03-31T11:00:00.000+0000</td><td>45.0</td><td>0.0</td><td>72518014735</td><td>180</td><td>5</td><td>N</td><td>88</td><td>5</td><td>2134</td><td>5</td><td>M</td><td>N</td><td>16093</td><td>5</td><td>N</td><td>5</td><td>144</td><td>5</td><td>72</td><td>5</td><td>10017</td><td>5</td><td>170</td><td>5</td><td>N</td><td>103</td><td>5</td><td>2591</td><td>5</td><td>M</td><td>N</td><td>16093</td><td>5</td><td>N</td><td>5</td><td>150</td><td>5</td><td>72</td><td>5</td><td>10017</td><td>5</td><td>14.129032258064516</td><td>11.878245986779982</td><td>11.66586008813346</td><td>18.286828181565024</td><td>19.56242457996844</td></tr><tr><td>2019</td><td>2</td><td>6</td><td>7</td><td>0</td><td>0</td><td>0</td><td>G4</td><td>ALB</td><td>PGD</td><td>39.0</td><td>1.0</td><td>1.0</td><td>1.0</td><td>1185.0</td><td>5</td><td>2019-06-16T11:37:00.000+0000</td><td>2019-06-16T09:00:00.000+0000</td><td>2019-06-16T08:00:00.000+0000</td><td>2019-06-16T13:00:00.000+0000</td><td>2019-06-16T12:00:00.000+0000</td><td>45.0</td><td>0.0</td><td>72518014735</td><td>170</td><td>5</td><td>N</td><td>26</td><td>5</td><td>914</td><td>5</td><td>M</td><td>N</td><td>9656</td><td>5</td><td>N</td><td>5</td><td>189</td><td>5</td><td>167</td><td>5</td><td>10110</td><td>5</td><td>180</td><td>5</td><td>N</td><td>26</td><td>5</td><td>853</td><td>5</td><td>M</td><td>N</td><td>16093</td><td>5</td><td>N</td><td>5</td><td>194</td><td>5</td><td>167</td><td>5</td><td>10111</td><td>5</td><td>14.129032258064516</td><td>11.878245986779982</td><td>11.66586008813346</td><td>18.286828181565024</td><td>19.56242457996844</td></tr><tr><td>2019</td><td>2</td><td>6</td><td>4</td><td>0</td><td>0</td><td>0</td><td>G4</td><td>ALB</td><td>PGD</td><td>0.0</td><td>0.0</td><td>0.0</td><td>0.0</td><td>1185.0</td><td>5</td><td>2019-06-20T11:37:00.000+0000</td><td>2019-06-20T09:00:00.000+0000</td><td>2019-06-20T08:00:00.000+0000</td><td>2019-06-20T13:00:00.000+0000</td><td>2019-06-20T12:00:00.000+0000</td><td>45.0</td><td>0.0</td><td>72518014735</td><td>170</td><td>5</td><td>N</td><td>46</td><td>5</td><td>335</td><td>5</td><td>M</td><td>N</td><td>16093</td><td>5</td><td>N</td><td>5</td><td>217</td><td>5</td><td>183</td><td>5</td><td>10022</td><td>5</td><td>160</td><td>5</td><td>N</td><td>41</td><td>5</td><td>274</td><td>5</td><td>M</td><td>N</td><td>16093</td><td>5</td><td>N</td><td>5</td><td>217</td><td>5</td><td>183</td><td>5</td><td>10029</td><td>5</td><td>14.129032258064516</td><td>11.878245986779982</td><td>11.66586008813346</td><td>18.286828181565024</td><td>19.56242457996844</td></tr><tr><td>2019</td><td>1</td><td>1</td><td>2</td><td>1</td><td>0</td><td>0</td><td>G4</td><td>ALB</td><td>PGD</td><td>57.0</td><td>1.0</td><td>1.0</td><td>1.0</td><td>1185.0</td><td>5</td><td>2019-01-01T18:40:00.000+0000</td><td>2019-01-01T16:00:00.000+0000</td><td>2019-01-01T15:00:00.000+0000</td><td>2019-01-01T21:00:00.000+0000</td><td>2019-01-01T20:00:00.000+0000</td><td>45.0</td><td>1.0</td><td>72518014735</td><td>300</td><td>5</td><td>N</td><td>67</td><td>5</td><td>792</td><td>5</td><td>M</td><td>N</td><td>16093</td><td>5</td><td>N</td><td>5</td><td>33</td><td>5</td><td>-28</td><td>5</td><td>10172</td><td>5</td><td>300</td><td>5</td><td>N</td><td>51</td><td>5</td><td>792</td><td>5</td><td>M</td><td>N</td><td>16093</td><td>5</td><td>N</td><td>5</td><td>39</td><td>5</td><td>-28</td><td>5</td><td>10160</td><td>5</td><td>14.129032258064516</td><td>11.878245986779982</td><td>11.66586008813346</td><td>18.286828181565024</td><td>19.56242457996844</td></tr><tr><td>2019</td><td>3</td><td>8</td><td>7</td><td>0</td><td>0</td><td>0</td><td>G4</td><td>ALB</td><td>PGD</td><td>0.0</td><td>0.0</td><td>0.0</td><td>0.0</td><td>1185.0</td><td>5</td><td>2019-08-18T10:48:00.000+0000</td><td>2019-08-18T08:00:00.000+0000</td><td>2019-08-18T07:00:00.000+0000</td><td>2019-08-18T12:00:00.000+0000</td><td>2019-08-18T11:00:00.000+0000</td><td>45.0</td><td>0.0</td><td>72518014735</td><td>null</td><td>null</td><td>C</td><td>0</td><td>5</td><td>122</td><td>5</td><td>M</td><td>N</td><td>3219</td><td>5</td><td>N</td><td>5</td><td>206</td><td>5</td><td>189</td><td>5</td><td>10171</td><td>5</td><td>160</td><td>5</td><td>N</td><td>21</td><td>5</td><td>122</td><td>5</td><td>M</td><td>N</td><td>1609</td><td>5</td><td>N</td><td>5</td><td>200</td><td>5</td><td>183</td><td>5</td><td>10168</td><td>5</td><td>14.129032258064516</td><td>11.878245986779982</td><td>11.66586008813346</td><td>18.286828181565024</td><td>19.56242457996844</td></tr><tr><td>2019</td><td>2</td><td>5</td><td>4</td><td>0</td><td>0</td><td>0</td><td>G4</td><td>ALB</td><td>PGD</td><td>0.0</td><td>0.0</td><td>0.0</td><td>1.0</td><td>1185.0</td><td>5</td><td>2019-05-09T16:45:00.000+0000</td><td>2019-05-09T14:00:00.000+0000</td><td>2019-05-09T13:00:00.000+0000</td><td>2019-05-09T18:00:00.000+0000</td><td>2019-05-09T17:00:00.000+0000</td><td>45.0</td><td>0.0</td><td>72518014735</td><td>170</td><td>5</td><td>V</td><td>57</td><td>5</td><td>1676</td><td>5</td><td>M</td><td>N</td><td>16093</td><td>5</td><td>N</td><td>5</td><td>189</td><td>5</td><td>22</td><td>5</td><td>10229</td><td>5</td><td>170</td><td>5</td><td>N</td><td>51</td><td>5</td><td>2438</td><td>5</td><td>M</td><td>N</td><td>16093</td><td>5</td><td>N</td><td>5</td><td>178</td><td>5</td><td>11</td><td>5</td><td>10242</td><td>5</td><td>14.129032258064516</td><td>11.878245986779982</td><td>11.66586008813346</td><td>18.286828181565024</td><td>19.56242457996844</td></tr><tr><td>2019</td><td>1</td><td>1</td><td>4</td><td>0</td><td>0</td><td>0</td><td>G4</td><td>ALB</td><td>PGD</td><td>0.0</td><td>0.0</td><td>0.0</td><td>0.0</td><td>1185.0</td><td>5</td><td>2019-01-17T10:38:00.000+0000</td><td>2019-01-17T08:00:00.000+0000</td><td>2019-01-17T07:00:00.000+0000</td><td>2019-01-17T13:00:00.000+0000</td><td>2019-01-17T12:00:00.000+0000</td><td>45.0</td><td>0.0</td><td>72518014735</td><td>20</td><td>5</td><td>N</td><td>15</td><td>5</td><td>22000</td><td>5</td><td>9</td><td>N</td><td>16093</td><td>5</td><td>N</td><td>5</td><td>-106</td><td>5</td><td>-194</td><td>5</td><td>10316</td><td>5</td><td>null</td><td>null</td><td>C</td><td>0</td><td>5</td><td>22000</td><td>5</td><td>9</td><td>N</td><td>16093</td><td>5</td><td>N</td><td>5</td><td>-122</td><td>5</td><td>-200</td><td>5</td><td>10312</td><td>5</td><td>14.129032258064516</td><td>11.878245986779982</td><td>11.66586008813346</td><td>18.286828181565024</td><td>19.56242457996844</td></tr><tr><td>2019</td><td>4</td><td>11</td><td>7</td><td>0</td><td>0</td><td>0</td><td>G4</td><td>ALB</td><td>PGD</td><td>0.0</td><td>0.0</td><td>0.0</td><td>1.0</td><td>1185.0</td><td>5</td><td>2019-11-03T10:48:00.000+0000</td><td>2019-11-03T08:00:00.000+0000</td><td>2019-11-03T07:00:00.000+0000</td><td>2019-11-03T13:00:00.000+0000</td><td>2019-11-03T12:00:00.000+0000</td><td>45.0</td><td>0.0</td><td>72518014735</td><td>170</td><td>5</td><td>N</td><td>21</td><td>5</td><td>22000</td><td>5</td><td>9</td><td>N</td><td>16093</td><td>5</td><td>N</td><td>5</td><td>56</td><td>5</td><td>0</td><td>5</td><td>10185</td><td>5</td><td>220</td><td>5</td><td>N</td><td>21</td><td>5</td><td>1280</td><td>5</td><td>M</td><td>N</td><td>16093</td><td>5</td><td>N</td><td>5</td><td>17</td><td>5</td><td>-11</td><td>5</td><td>10181</td><td>5</td><td>14.129032258064516</td><td>11.878245986779982</td><td>11.66586008813346</td><td>18.286828181565024</td><td>19.56242457996844</td></tr><tr><td>2019</td><td>1</td><td>3</td><td>3</td><td>0</td><td>0</td><td>0</td><td>G4</td><td>ALB</td><td>PGD</td><td>0.0</td><td>0.0</td><td>0.0</td><td>0.0</td><td>1185.0</td><td>5</td><td>2019-03-06T10:08:00.000+0000</td><td>2019-03-06T08:00:00.000+0000</td><td>2019-03-06T07:00:00.000+0000</td><td>2019-03-06T13:00:00.000+0000</td><td>2019-03-06T12:00:00.000+0000</td><td>45.0</td><td>0.0</td><td>72518014735</td><td>290</td><td>5</td><td>N</td><td>36</td><td>5</td><td>22000</td><td>5</td><td>9</td><td>N</td><td>16093</td><td>5</td><td>N</td><td>5</td><td>-89</td><td>5</td><td>-150</td><td>5</td><td>10191</td><td>5</td><td>280</td><td>5</td><td>N</td><td>26</td><td>5</td><td>22000</td><td>5</td><td>9</td><td>N</td><td>16093</td><td>5</td><td>N</td><td>5</td><td>-106</td><td>5</td><td>-161</td><td>5</td><td>10187</td><td>5</td><td>14.129032258064516</td><td>11.878245986779982</td><td>11.66586008813346</td><td>18.286828181565024</td><td>19.56242457996844</td></tr></tbody></table></div>"
      ]
     },
     "metadata": {
      "application/vnd.databricks.v1+output": {
       "addedWidgets": {},
       "aggData": [],
       "aggError": "",
       "aggOverflow": false,
       "aggSchema": [],
       "aggSeriesLimitReached": false,
       "aggType": "",
       "arguments": {},
       "columnCustomDisplayInfos": {},
       "data": [
        [
         2019,
         1,
         2,
         7,
         "0",
         "0",
         "0",
         "G4",
         "ALB",
         "PGD",
         0,
         0,
         0,
         0,
         1185,
         5,
         "2019-02-10T10:38:00.000+0000",
         "2019-02-10T08:00:00.000+0000",
         "2019-02-10T07:00:00.000+0000",
         "2019-02-10T13:00:00.000+0000",
         "2019-02-10T12:00:00.000+0000",
         45,
         "0.0",
         "72518014735",
         310,
         5,
         "N",
         21,
         "5",
         1219,
         "5",
         "M",
         "N",
         16093,
         "5",
         "N",
         "5",
         -44,
         "5",
         -122,
         "5",
         10384,
         "5",
         300,
         5,
         "N",
         31,
         "5",
         1311,
         "5",
         "M",
         "N",
         16093,
         "5",
         "N",
         "5",
         -50,
         "5",
         -122,
         "5",
         10385,
         "5",
         14.129032258064516,
         11.878245986779982,
         11.66586008813346,
         18.286828181565024,
         19.56242457996844
        ],
        [
         2019,
         1,
         3,
         7,
         "0",
         "0",
         "0",
         "G4",
         "ALB",
         "PGD",
         0,
         0,
         0,
         0,
         1185,
         5,
         "2019-03-31T10:18:00.000+0000",
         "2019-03-31T08:00:00.000+0000",
         "2019-03-31T07:00:00.000+0000",
         "2019-03-31T12:00:00.000+0000",
         "2019-03-31T11:00:00.000+0000",
         45,
         "0.0",
         "72518014735",
         180,
         5,
         "N",
         88,
         "5",
         2134,
         "5",
         "M",
         "N",
         16093,
         "5",
         "N",
         "5",
         144,
         "5",
         72,
         "5",
         10017,
         "5",
         170,
         5,
         "N",
         103,
         "5",
         2591,
         "5",
         "M",
         "N",
         16093,
         "5",
         "N",
         "5",
         150,
         "5",
         72,
         "5",
         10017,
         "5",
         14.129032258064516,
         11.878245986779982,
         11.66586008813346,
         18.286828181565024,
         19.56242457996844
        ],
        [
         2019,
         2,
         6,
         7,
         "0",
         "0",
         "0",
         "G4",
         "ALB",
         "PGD",
         39,
         1,
         1,
         1,
         1185,
         5,
         "2019-06-16T11:37:00.000+0000",
         "2019-06-16T09:00:00.000+0000",
         "2019-06-16T08:00:00.000+0000",
         "2019-06-16T13:00:00.000+0000",
         "2019-06-16T12:00:00.000+0000",
         45,
         "0.0",
         "72518014735",
         170,
         5,
         "N",
         26,
         "5",
         914,
         "5",
         "M",
         "N",
         9656,
         "5",
         "N",
         "5",
         189,
         "5",
         167,
         "5",
         10110,
         "5",
         180,
         5,
         "N",
         26,
         "5",
         853,
         "5",
         "M",
         "N",
         16093,
         "5",
         "N",
         "5",
         194,
         "5",
         167,
         "5",
         10111,
         "5",
         14.129032258064516,
         11.878245986779982,
         11.66586008813346,
         18.286828181565024,
         19.56242457996844
        ],
        [
         2019,
         2,
         6,
         4,
         "0",
         "0",
         "0",
         "G4",
         "ALB",
         "PGD",
         0,
         0,
         0,
         0,
         1185,
         5,
         "2019-06-20T11:37:00.000+0000",
         "2019-06-20T09:00:00.000+0000",
         "2019-06-20T08:00:00.000+0000",
         "2019-06-20T13:00:00.000+0000",
         "2019-06-20T12:00:00.000+0000",
         45,
         "0.0",
         "72518014735",
         170,
         5,
         "N",
         46,
         "5",
         335,
         "5",
         "M",
         "N",
         16093,
         "5",
         "N",
         "5",
         217,
         "5",
         183,
         "5",
         10022,
         "5",
         160,
         5,
         "N",
         41,
         "5",
         274,
         "5",
         "M",
         "N",
         16093,
         "5",
         "N",
         "5",
         217,
         "5",
         183,
         "5",
         10029,
         "5",
         14.129032258064516,
         11.878245986779982,
         11.66586008813346,
         18.286828181565024,
         19.56242457996844
        ],
        [
         2019,
         1,
         1,
         2,
         "1",
         "0",
         "0",
         "G4",
         "ALB",
         "PGD",
         57,
         1,
         1,
         1,
         1185,
         5,
         "2019-01-01T18:40:00.000+0000",
         "2019-01-01T16:00:00.000+0000",
         "2019-01-01T15:00:00.000+0000",
         "2019-01-01T21:00:00.000+0000",
         "2019-01-01T20:00:00.000+0000",
         45,
         "1.0",
         "72518014735",
         300,
         5,
         "N",
         67,
         "5",
         792,
         "5",
         "M",
         "N",
         16093,
         "5",
         "N",
         "5",
         33,
         "5",
         -28,
         "5",
         10172,
         "5",
         300,
         5,
         "N",
         51,
         "5",
         792,
         "5",
         "M",
         "N",
         16093,
         "5",
         "N",
         "5",
         39,
         "5",
         -28,
         "5",
         10160,
         "5",
         14.129032258064516,
         11.878245986779982,
         11.66586008813346,
         18.286828181565024,
         19.56242457996844
        ],
        [
         2019,
         3,
         8,
         7,
         "0",
         "0",
         "0",
         "G4",
         "ALB",
         "PGD",
         0,
         0,
         0,
         0,
         1185,
         5,
         "2019-08-18T10:48:00.000+0000",
         "2019-08-18T08:00:00.000+0000",
         "2019-08-18T07:00:00.000+0000",
         "2019-08-18T12:00:00.000+0000",
         "2019-08-18T11:00:00.000+0000",
         45,
         "0.0",
         "72518014735",
         null,
         null,
         "C",
         0,
         "5",
         122,
         "5",
         "M",
         "N",
         3219,
         "5",
         "N",
         "5",
         206,
         "5",
         189,
         "5",
         10171,
         "5",
         160,
         5,
         "N",
         21,
         "5",
         122,
         "5",
         "M",
         "N",
         1609,
         "5",
         "N",
         "5",
         200,
         "5",
         183,
         "5",
         10168,
         "5",
         14.129032258064516,
         11.878245986779982,
         11.66586008813346,
         18.286828181565024,
         19.56242457996844
        ],
        [
         2019,
         2,
         5,
         4,
         "0",
         "0",
         "0",
         "G4",
         "ALB",
         "PGD",
         0,
         0,
         0,
         1,
         1185,
         5,
         "2019-05-09T16:45:00.000+0000",
         "2019-05-09T14:00:00.000+0000",
         "2019-05-09T13:00:00.000+0000",
         "2019-05-09T18:00:00.000+0000",
         "2019-05-09T17:00:00.000+0000",
         45,
         "0.0",
         "72518014735",
         170,
         5,
         "V",
         57,
         "5",
         1676,
         "5",
         "M",
         "N",
         16093,
         "5",
         "N",
         "5",
         189,
         "5",
         22,
         "5",
         10229,
         "5",
         170,
         5,
         "N",
         51,
         "5",
         2438,
         "5",
         "M",
         "N",
         16093,
         "5",
         "N",
         "5",
         178,
         "5",
         11,
         "5",
         10242,
         "5",
         14.129032258064516,
         11.878245986779982,
         11.66586008813346,
         18.286828181565024,
         19.56242457996844
        ],
        [
         2019,
         1,
         1,
         4,
         "0",
         "0",
         "0",
         "G4",
         "ALB",
         "PGD",
         0,
         0,
         0,
         0,
         1185,
         5,
         "2019-01-17T10:38:00.000+0000",
         "2019-01-17T08:00:00.000+0000",
         "2019-01-17T07:00:00.000+0000",
         "2019-01-17T13:00:00.000+0000",
         "2019-01-17T12:00:00.000+0000",
         45,
         "0.0",
         "72518014735",
         20,
         5,
         "N",
         15,
         "5",
         22000,
         "5",
         "9",
         "N",
         16093,
         "5",
         "N",
         "5",
         -106,
         "5",
         -194,
         "5",
         10316,
         "5",
         null,
         null,
         "C",
         0,
         "5",
         22000,
         "5",
         "9",
         "N",
         16093,
         "5",
         "N",
         "5",
         -122,
         "5",
         -200,
         "5",
         10312,
         "5",
         14.129032258064516,
         11.878245986779982,
         11.66586008813346,
         18.286828181565024,
         19.56242457996844
        ],
        [
         2019,
         4,
         11,
         7,
         "0",
         "0",
         "0",
         "G4",
         "ALB",
         "PGD",
         0,
         0,
         0,
         1,
         1185,
         5,
         "2019-11-03T10:48:00.000+0000",
         "2019-11-03T08:00:00.000+0000",
         "2019-11-03T07:00:00.000+0000",
         "2019-11-03T13:00:00.000+0000",
         "2019-11-03T12:00:00.000+0000",
         45,
         "0.0",
         "72518014735",
         170,
         5,
         "N",
         21,
         "5",
         22000,
         "5",
         "9",
         "N",
         16093,
         "5",
         "N",
         "5",
         56,
         "5",
         0,
         "5",
         10185,
         "5",
         220,
         5,
         "N",
         21,
         "5",
         1280,
         "5",
         "M",
         "N",
         16093,
         "5",
         "N",
         "5",
         17,
         "5",
         -11,
         "5",
         10181,
         "5",
         14.129032258064516,
         11.878245986779982,
         11.66586008813346,
         18.286828181565024,
         19.56242457996844
        ],
        [
         2019,
         1,
         3,
         3,
         "0",
         "0",
         "0",
         "G4",
         "ALB",
         "PGD",
         0,
         0,
         0,
         0,
         1185,
         5,
         "2019-03-06T10:08:00.000+0000",
         "2019-03-06T08:00:00.000+0000",
         "2019-03-06T07:00:00.000+0000",
         "2019-03-06T13:00:00.000+0000",
         "2019-03-06T12:00:00.000+0000",
         45,
         "0.0",
         "72518014735",
         290,
         5,
         "N",
         36,
         "5",
         22000,
         "5",
         "9",
         "N",
         16093,
         "5",
         "N",
         "5",
         -89,
         "5",
         -150,
         "5",
         10191,
         "5",
         280,
         5,
         "N",
         26,
         "5",
         22000,
         "5",
         "9",
         "N",
         16093,
         "5",
         "N",
         "5",
         -106,
         "5",
         -161,
         "5",
         10187,
         "5",
         14.129032258064516,
         11.878245986779982,
         11.66586008813346,
         18.286828181565024,
         19.56242457996844
        ]
       ],
       "datasetInfos": [],
       "dbfsResultPath": null,
       "isJsonSchema": true,
       "metadata": {},
       "overflow": false,
       "plotOptions": {
        "customPlotOptions": {},
        "displayType": "table",
        "pivotAggregation": null,
        "pivotColumns": null,
        "xColumns": null,
        "yColumns": null
       },
       "removedWidgets": [],
       "schema": [
        {
         "metadata": "{}",
         "name": "year",
         "type": "\"integer\""
        },
        {
         "metadata": "{}",
         "name": "quarter",
         "type": "\"integer\""
        },
        {
         "metadata": "{}",
         "name": "month",
         "type": "\"integer\""
        },
        {
         "metadata": "{}",
         "name": "day_of_week",
         "type": "\"integer\""
        },
        {
         "metadata": "{}",
         "name": "holiday",
         "type": "\"string\""
        },
        {
         "metadata": "{}",
         "name": "weather_obs_prev",
         "type": "\"string\""
        },
        {
         "metadata": "{}",
         "name": "weather_obs_prev_2",
         "type": "\"string\""
        },
        {
         "metadata": "{}",
         "name": "carrier",
         "type": "\"string\""
        },
        {
         "metadata": "{}",
         "name": "origin",
         "type": "\"string\""
        },
        {
         "metadata": "{}",
         "name": "destination",
         "type": "\"string\""
        },
        {
         "metadata": "{}",
         "name": "departure_delay",
         "type": "\"double\""
        },
        {
         "metadata": "{}",
         "name": "departure_delay_15",
         "type": "\"double\""
        },
        {
         "metadata": "{}",
         "name": "departure_delay_boolean",
         "type": "\"double\""
        },
        {
         "metadata": "{}",
         "name": "arrival_delay_boolean",
         "type": "\"double\""
        },
        {
         "metadata": "{}",
         "name": "distance",
         "type": "\"double\""
        },
        {
         "metadata": "{}",
         "name": "distance_group",
         "type": "\"integer\""
        },
        {
         "metadata": "{}",
         "name": "actual_timestamp",
         "type": "\"timestamp\""
        },
        {
         "metadata": "{}",
         "name": "hourly_timestamp",
         "type": "\"timestamp\""
        },
        {
         "metadata": "{}",
         "name": "prev_hourly_timestamp",
         "type": "\"timestamp\""
        },
        {
         "metadata": "{}",
         "name": "utc_hourly_timestamp",
         "type": "\"timestamp\""
        },
        {
         "metadata": "{}",
         "name": "utc_prev_hourly_timestamp",
         "type": "\"timestamp\""
        },
        {
         "metadata": "{}",
         "name": "planned_time_between_flights",
         "type": "\"double\""
        },
        {
         "metadata": "{}",
         "name": "prev_dep_delayed_confirmed",
         "type": "\"string\""
        },
        {
         "metadata": "{}",
         "name": "weather_station",
         "type": "\"string\""
        },
        {
         "metadata": "{}",
         "name": "wnd_angle_prev",
         "type": "\"integer\""
        },
        {
         "metadata": "{}",
         "name": "wnd_angle_qc_prev",
         "type": "\"integer\""
        },
        {
         "metadata": "{}",
         "name": "wnd_type_prev",
         "type": "\"string\""
        },
        {
         "metadata": "{}",
         "name": "wnd_speed_prev",
         "type": "\"integer\""
        },
        {
         "metadata": "{}",
         "name": "wnd_speed_qc_prev",
         "type": "\"string\""
        },
        {
         "metadata": "{}",
         "name": "wnd_cloud_angle_prev",
         "type": "\"integer\""
        },
        {
         "metadata": "{}",
         "name": "cig_cloud_angle_qc_prev",
         "type": "\"string\""
        },
        {
         "metadata": "{}",
         "name": "cig_method_prev",
         "type": "\"string\""
        },
        {
         "metadata": "{}",
         "name": "cig_cavok_prev",
         "type": "\"string\""
        },
        {
         "metadata": "{}",
         "name": "vis_dist_prev",
         "type": "\"integer\""
        },
        {
         "metadata": "{}",
         "name": "vis_dist_qc_prev",
         "type": "\"string\""
        },
        {
         "metadata": "{}",
         "name": "vis_var_prev",
         "type": "\"string\""
        },
        {
         "metadata": "{}",
         "name": "vis_var_qc_prev",
         "type": "\"string\""
        },
        {
         "metadata": "{}",
         "name": "tmp_c_prev",
         "type": "\"integer\""
        },
        {
         "metadata": "{}",
         "name": "tmp_qc_prev",
         "type": "\"string\""
        },
        {
         "metadata": "{}",
         "name": "dew_c_prev",
         "type": "\"integer\""
        },
        {
         "metadata": "{}",
         "name": "dew_qc_prev",
         "type": "\"string\""
        },
        {
         "metadata": "{}",
         "name": "slp_p_prev",
         "type": "\"integer\""
        },
        {
         "metadata": "{}",
         "name": "slp_qc_prev",
         "type": "\"string\""
        },
        {
         "metadata": "{}",
         "name": "wnd_angle_prev_2",
         "type": "\"integer\""
        },
        {
         "metadata": "{}",
         "name": "wnd_angle_qc_prev_2",
         "type": "\"integer\""
        },
        {
         "metadata": "{}",
         "name": "wnd_type_prev_2",
         "type": "\"string\""
        },
        {
         "metadata": "{}",
         "name": "wnd_speed_prev_2",
         "type": "\"integer\""
        },
        {
         "metadata": "{}",
         "name": "wnd_speed_qc_prev_2",
         "type": "\"string\""
        },
        {
         "metadata": "{}",
         "name": "wnd_cloud_angle_prev_2",
         "type": "\"integer\""
        },
        {
         "metadata": "{}",
         "name": "cig_cloud_angle_qc_prev_2",
         "type": "\"string\""
        },
        {
         "metadata": "{}",
         "name": "cig_method_prev_2",
         "type": "\"string\""
        },
        {
         "metadata": "{}",
         "name": "cig_cavok_prev_2",
         "type": "\"string\""
        },
        {
         "metadata": "{}",
         "name": "vis_dist_prev_2",
         "type": "\"integer\""
        },
        {
         "metadata": "{}",
         "name": "vis_dist_qc_prev_2",
         "type": "\"string\""
        },
        {
         "metadata": "{}",
         "name": "vis_var_prev_2",
         "type": "\"string\""
        },
        {
         "metadata": "{}",
         "name": "vis_var_qc_prev_2",
         "type": "\"string\""
        },
        {
         "metadata": "{}",
         "name": "tmp_c_prev_2",
         "type": "\"integer\""
        },
        {
         "metadata": "{}",
         "name": "tmp_qc_prev_2",
         "type": "\"string\""
        },
        {
         "metadata": "{}",
         "name": "dew_c_prev_2",
         "type": "\"integer\""
        },
        {
         "metadata": "{}",
         "name": "dew_qc_prev_2",
         "type": "\"string\""
        },
        {
         "metadata": "{}",
         "name": "slp_p_prev_2",
         "type": "\"integer\""
        },
        {
         "metadata": "{}",
         "name": "slp_qc_prev_2",
         "type": "\"string\""
        },
        {
         "metadata": "{}",
         "name": "route_delay",
         "type": "\"double\""
        },
        {
         "metadata": "{}",
         "name": "origin_arrival_delay",
         "type": "\"double\""
        },
        {
         "metadata": "{}",
         "name": "origin_departure_delay",
         "type": "\"double\""
        },
        {
         "metadata": "{}",
         "name": "dest_departure_delay",
         "type": "\"double\""
        },
        {
         "metadata": "{}",
         "name": "dest_arrival_delay",
         "type": "\"double\""
        }
       ],
       "type": "table"
      }
     },
     "output_type": "display_data"
    }
   ],
   "source": [
    "# Load full data\n",
    "full_data = True\n",
    "\n",
    "data_df = spark.read.parquet(f\"{blob_url}/full_join_route_v2/*\")\n",
    "\n",
    "display(data_df.limit(10))\n"
   ]
  },
  {
   "cell_type": "markdown",
   "metadata": {
    "application/vnd.databricks.v1+cell": {
     "inputWidgets": {},
     "nuid": "fc838099-193d-44bd-a435-4cf2932f01bc",
     "showTitle": false,
     "title": ""
    }
   },
   "source": [
    "### Section 3 - Define helper functions"
   ]
  },
  {
   "cell_type": "code",
   "execution_count": 0,
   "metadata": {
    "application/vnd.databricks.v1+cell": {
     "inputWidgets": {},
     "nuid": "c6008e60-9797-470e-9f65-5c9440c03cb4",
     "showTitle": false,
     "title": ""
    }
   },
   "outputs": [
    {
     "data": {
      "text/html": [
       "<style scoped>\n",
       "  .ansiout {\n",
       "    display: block;\n",
       "    unicode-bidi: embed;\n",
       "    white-space: pre-wrap;\n",
       "    word-wrap: break-word;\n",
       "    word-break: break-all;\n",
       "    font-family: \"Source Code Pro\", \"Menlo\", monospace;;\n",
       "    font-size: 13px;\n",
       "    color: #555;\n",
       "    margin-left: 4px;\n",
       "    line-height: 19px;\n",
       "  }\n",
       "</style>\n",
       "<div class=\"ansiout\"></div>"
      ]
     },
     "metadata": {
      "application/vnd.databricks.v1+output": {
       "addedWidgets": {},
       "arguments": {},
       "data": "<div class=\"ansiout\"></div>",
       "datasetInfos": [],
       "metadata": {},
       "removedWidgets": [],
       "type": "html"
      }
     },
     "output_type": "display_data"
    }
   ],
   "source": [
    "# Helper function 1:\n",
    "def missing_values(helper_df, sort=False):\n",
    "  \"\"\"\n",
    "  Helper function to count number of nulls and nans in each column\n",
    "  \"\"\"\n",
    "  df = helper_df.select([F.count(F.when(F.isnan(c) | F.isnull(c), c)).alias(c) for (c,c_type) in helper_df.dtypes if c_type not in ('timestamp')]).toPandas()\n",
    "  \n",
    "  if len(df) == 0:\n",
    "    print(\"There are no missing values\")\n",
    "    return None\n",
    "  \n",
    "  if sort:\n",
    "    return df.rename(index={0: 'count'}).T.sort_values(\"count\", ascending=False)\n",
    "  \n",
    "  return df\n"
   ]
  },
  {
   "cell_type": "code",
   "execution_count": 0,
   "metadata": {
    "application/vnd.databricks.v1+cell": {
     "inputWidgets": {},
     "nuid": "745bb5b0-8e6a-48b8-b7e4-6267932d63c2",
     "showTitle": false,
     "title": ""
    }
   },
   "outputs": [
    {
     "data": {
      "text/html": [
       "<style scoped>\n",
       "  .ansiout {\n",
       "    display: block;\n",
       "    unicode-bidi: embed;\n",
       "    white-space: pre-wrap;\n",
       "    word-wrap: break-word;\n",
       "    word-break: break-all;\n",
       "    font-family: \"Source Code Pro\", \"Menlo\", monospace;;\n",
       "    font-size: 13px;\n",
       "    color: #555;\n",
       "    margin-left: 4px;\n",
       "    line-height: 19px;\n",
       "  }\n",
       "</style>\n",
       "<div class=\"ansiout\"></div>"
      ]
     },
     "metadata": {
      "application/vnd.databricks.v1+output": {
       "addedWidgets": {},
       "arguments": {},
       "data": "<div class=\"ansiout\"></div>",
       "datasetInfos": [],
       "metadata": {},
       "removedWidgets": [],
       "type": "html"
      }
     },
     "output_type": "display_data"
    }
   ],
   "source": [
    "# Helper function 2\n",
    "\n",
    "def main():\n",
    "\n",
    "    global eval_metrics\n",
    "\n",
    "# f1 = 0.0\n",
    "# recall = 0.0\n",
    "# precision = 0.0\n",
    "# sensitivity = 0.0\n",
    "# specificity = 0.0\n",
    "# fp = 0.0\n",
    "# fn = 0.0\n",
    "\n",
    "# metrics = (f1, recall, precision, sensitivity, specificity, fp, fn)\n",
    "\n",
    "\n",
    "\n",
    "def print_results(predictions, model_name): \n",
    "  \"\"\"\n",
    "  Helper function to print evaluation metrics\n",
    "  \"\"\"\n",
    "  tp = predictions[(predictions.departure_delay_boolean == 1) & (predictions.prediction == 1)].count()\n",
    "  tn = predictions[(predictions.departure_delay_boolean == 0) & (predictions.prediction == 0)].count()\n",
    "  fp = predictions[(predictions.departure_delay_boolean == 0) & (predictions.prediction == 1)].count()\n",
    "  fn = predictions[(predictions.departure_delay_boolean == 1) & (predictions.prediction == 0)].count()\n",
    "  total = predictions.count()\n",
    "  \n",
    "  recall = float(tp)/(tp+fn)\n",
    "  precision = float(tp)/(tp+fp)\n",
    "  f1 = (2*recall*precision)/(precision+recall)\n",
    "  \n",
    "  data = {'Actual-delay': [tp, fn], 'Actual-on time': [fp, tn]}\n",
    "  confusion_matrix = pd.DataFrame.from_dict(data, orient='index', columns=['Predicted-delay', 'Predicted-on time'])\n",
    "  \n",
    "  #print(\"Test Area Under ROC: \", \"{:.2f}\".format(evaluator.evaluate(predictions, {evaluator.metricName: 'areaUnderROC'})))\n",
    "  #print(\"Test Area Under Precision-Recall Curve: \", \"{:.2f}\".format(evaluator.evaluate(predictions, {evaluator.metricName: 'areaUnderPR'})))\n",
    "\n",
    "  print(\"Sensitivity: {:.2%}\".format(tp/(tp + fn)))\n",
    "  print(\"Specificity: {:.2%}\".format(tn/(tn + fp)))\n",
    "  print(\"False positive rate: {:.2%}\".format(fp/(fp + tn)))\n",
    "  print(\"False negative rate: {:.2%}\".format(fn/(tp + fn)))\n",
    "  print(\"Recall: {:.2%}\".format(recall))\n",
    "  print(\"Precision: {:.2%}\".format(precision))\n",
    "  print(\"f1: {:.2%}\".format(f1))\n",
    "  \n",
    "  metrics = (round(f1, 2), round(recall, 2), round(precision, 2), round(tp/(tp + fn), 2), \\\n",
    "             round(tn/(tn + fp), 2), round(fp/(fp + tn), 2), round(fn/(tp + fn), 2))\n",
    "  \n",
    "  global eval_metrics\n",
    "  eval_metrics = {model_name: metrics}\n",
    "  \n",
    "  print(\"########### Confusion Matrix ###########\")\n",
    "  print(confusion_matrix)\n",
    "\n",
    "  #print(eval_metrics)"
   ]
  },
  {
   "cell_type": "code",
   "execution_count": 0,
   "metadata": {
    "application/vnd.databricks.v1+cell": {
     "inputWidgets": {},
     "nuid": "e20ee701-c0c3-46e3-b84e-9668e50db93e",
     "showTitle": false,
     "title": ""
    }
   },
   "outputs": [
    {
     "data": {
      "text/html": [
       "<style scoped>\n",
       "  .ansiout {\n",
       "    display: block;\n",
       "    unicode-bidi: embed;\n",
       "    white-space: pre-wrap;\n",
       "    word-wrap: break-word;\n",
       "    word-break: break-all;\n",
       "    font-family: \"Source Code Pro\", \"Menlo\", monospace;;\n",
       "    font-size: 13px;\n",
       "    color: #555;\n",
       "    margin-left: 4px;\n",
       "    line-height: 19px;\n",
       "  }\n",
       "</style>\n",
       "<div class=\"ansiout\"></div>"
      ]
     },
     "metadata": {
      "application/vnd.databricks.v1+output": {
       "addedWidgets": {},
       "arguments": {},
       "data": "<div class=\"ansiout\"></div>",
       "datasetInfos": [],
       "metadata": {},
       "removedWidgets": [],
       "type": "html"
      }
     },
     "output_type": "display_data"
    }
   ],
   "source": [
    "def get_results(predictions, model_name): \n",
    "  \"\"\"\n",
    "  Helper function to print evaluation metrics\n",
    "  \"\"\"\n",
    "  tp = predictions[(predictions.departure_delay_boolean == 1) & (predictions.prediction == 1)].count()\n",
    "  tn = predictions[(predictions.departure_delay_boolean == 0) & (predictions.prediction == 0)].count()\n",
    "  fp = predictions[(predictions.departure_delay_boolean == 0) & (predictions.prediction == 1)].count()\n",
    "  fn = predictions[(predictions.departure_delay_boolean == 1) & (predictions.prediction == 0)].count()\n",
    "  total = predictions.count()\n",
    "  \n",
    "  recall = float(tp)/(tp+fn)\n",
    "  precision = float(tp)/(tp+fp)\n",
    "  f1 = (2*recall*precision)/(precision+recall)\n",
    "  \n",
    "  return round(f1, 2), round(precision, 2), round(recall, 2)\n",
    "  "
   ]
  },
  {
   "cell_type": "markdown",
   "metadata": {
    "application/vnd.databricks.v1+cell": {
     "inputWidgets": {},
     "nuid": "6edf1f34-7364-49e0-a42c-07e67aa275f5",
     "showTitle": false,
     "title": ""
    }
   },
   "source": [
    "### Section 4 - Feature Engineering"
   ]
  },
  {
   "cell_type": "code",
   "execution_count": 0,
   "metadata": {
    "application/vnd.databricks.v1+cell": {
     "inputWidgets": {},
     "nuid": "635bd167-5067-4221-8f4e-2d81ec5d16e8",
     "showTitle": false,
     "title": ""
    }
   },
   "outputs": [
    {
     "data": {
      "text/html": [
       "<style scoped>\n",
       "  .table-result-container {\n",
       "    max-height: 300px;\n",
       "    overflow: auto;\n",
       "  }\n",
       "  table, th, td {\n",
       "    border: 1px solid black;\n",
       "    border-collapse: collapse;\n",
       "  }\n",
       "  th, td {\n",
       "    padding: 5px;\n",
       "  }\n",
       "  th {\n",
       "    text-align: left;\n",
       "  }\n",
       "</style><div class='table-result-container'><table class='table-result'><thead style='background-color: white'><tr><th>year</th><th>quarter</th><th>month</th><th>day_of_week</th><th>holiday</th><th>weather_obs_prev</th><th>weather_obs_prev_2</th><th>carrier</th><th>origin</th><th>destination</th><th>departure_delay</th><th>departure_delay_15</th><th>departure_delay_boolean</th><th>arrival_delay_boolean</th><th>distance</th><th>distance_group</th><th>actual_timestamp</th><th>hourly_timestamp</th><th>prev_hourly_timestamp</th><th>utc_hourly_timestamp</th><th>utc_prev_hourly_timestamp</th><th>planned_time_between_flights</th><th>prev_dep_delayed_confirmed</th><th>weather_station</th><th>wnd_angle_prev</th><th>wnd_angle_qc_prev</th><th>wnd_type_prev</th><th>wnd_speed_prev</th><th>wnd_speed_qc_prev</th><th>wnd_cloud_angle_prev</th><th>cig_cloud_angle_qc_prev</th><th>cig_method_prev</th><th>cig_cavok_prev</th><th>vis_dist_prev</th><th>vis_dist_qc_prev</th><th>vis_var_prev</th><th>vis_var_qc_prev</th><th>tmp_c_prev</th><th>tmp_qc_prev</th><th>dew_c_prev</th><th>dew_qc_prev</th><th>slp_p_prev</th><th>slp_qc_prev</th><th>wnd_angle_prev_2</th><th>wnd_angle_qc_prev_2</th><th>wnd_type_prev_2</th><th>wnd_speed_prev_2</th><th>wnd_speed_qc_prev_2</th><th>wnd_cloud_angle_prev_2</th><th>cig_cloud_angle_qc_prev_2</th><th>cig_method_prev_2</th><th>cig_cavok_prev_2</th><th>vis_dist_prev_2</th><th>vis_dist_qc_prev_2</th><th>vis_var_prev_2</th><th>vis_var_qc_prev_2</th><th>tmp_c_prev_2</th><th>tmp_qc_prev_2</th><th>dew_c_prev_2</th><th>dew_qc_prev_2</th><th>slp_p_prev_2</th><th>slp_qc_prev_2</th><th>route_delay</th><th>origin_arrival_delay</th><th>origin_departure_delay</th><th>dest_departure_delay</th><th>dest_arrival_delay</th><th>hour</th></tr></thead><tbody><tr><td>2019</td><td>1</td><td>2</td><td>7</td><td>0</td><td>0</td><td>0</td><td>G4</td><td>ALB</td><td>PGD</td><td>0.0</td><td>0.0</td><td>0.0</td><td>0.0</td><td>1185.0</td><td>5</td><td>2019-02-10T10:38:00.000+0000</td><td>2019-02-10T08:00:00.000+0000</td><td>2019-02-10T07:00:00.000+0000</td><td>2019-02-10T13:00:00.000+0000</td><td>2019-02-10T12:00:00.000+0000</td><td>45.0</td><td>0.0</td><td>72518014735</td><td>310</td><td>5</td><td>N</td><td>21</td><td>5</td><td>1219</td><td>5</td><td>M</td><td>N</td><td>16093</td><td>5</td><td>N</td><td>5</td><td>-44</td><td>5</td><td>-122</td><td>5</td><td>10384</td><td>5</td><td>300</td><td>5</td><td>N</td><td>31</td><td>5</td><td>1311</td><td>5</td><td>M</td><td>N</td><td>16093</td><td>5</td><td>N</td><td>5</td><td>-50</td><td>5</td><td>-122</td><td>5</td><td>10385</td><td>5</td><td>14.129032258064516</td><td>11.878245986779982</td><td>11.66586008813346</td><td>18.286828181565024</td><td>19.56242457996844</td><td>10</td></tr><tr><td>2019</td><td>1</td><td>3</td><td>7</td><td>0</td><td>0</td><td>0</td><td>G4</td><td>ALB</td><td>PGD</td><td>0.0</td><td>0.0</td><td>0.0</td><td>0.0</td><td>1185.0</td><td>5</td><td>2019-03-31T10:18:00.000+0000</td><td>2019-03-31T08:00:00.000+0000</td><td>2019-03-31T07:00:00.000+0000</td><td>2019-03-31T12:00:00.000+0000</td><td>2019-03-31T11:00:00.000+0000</td><td>45.0</td><td>0.0</td><td>72518014735</td><td>180</td><td>5</td><td>N</td><td>88</td><td>5</td><td>2134</td><td>5</td><td>M</td><td>N</td><td>16093</td><td>5</td><td>N</td><td>5</td><td>144</td><td>5</td><td>72</td><td>5</td><td>10017</td><td>5</td><td>170</td><td>5</td><td>N</td><td>103</td><td>5</td><td>2591</td><td>5</td><td>M</td><td>N</td><td>16093</td><td>5</td><td>N</td><td>5</td><td>150</td><td>5</td><td>72</td><td>5</td><td>10017</td><td>5</td><td>14.129032258064516</td><td>11.878245986779982</td><td>11.66586008813346</td><td>18.286828181565024</td><td>19.56242457996844</td><td>10</td></tr><tr><td>2019</td><td>2</td><td>6</td><td>7</td><td>0</td><td>0</td><td>0</td><td>G4</td><td>ALB</td><td>PGD</td><td>39.0</td><td>1.0</td><td>1.0</td><td>1.0</td><td>1185.0</td><td>5</td><td>2019-06-16T11:37:00.000+0000</td><td>2019-06-16T09:00:00.000+0000</td><td>2019-06-16T08:00:00.000+0000</td><td>2019-06-16T13:00:00.000+0000</td><td>2019-06-16T12:00:00.000+0000</td><td>45.0</td><td>0.0</td><td>72518014735</td><td>170</td><td>5</td><td>N</td><td>26</td><td>5</td><td>914</td><td>5</td><td>M</td><td>N</td><td>9656</td><td>5</td><td>N</td><td>5</td><td>189</td><td>5</td><td>167</td><td>5</td><td>10110</td><td>5</td><td>180</td><td>5</td><td>N</td><td>26</td><td>5</td><td>853</td><td>5</td><td>M</td><td>N</td><td>16093</td><td>5</td><td>N</td><td>5</td><td>194</td><td>5</td><td>167</td><td>5</td><td>10111</td><td>5</td><td>14.129032258064516</td><td>11.878245986779982</td><td>11.66586008813346</td><td>18.286828181565024</td><td>19.56242457996844</td><td>11</td></tr><tr><td>2019</td><td>2</td><td>6</td><td>4</td><td>0</td><td>0</td><td>0</td><td>G4</td><td>ALB</td><td>PGD</td><td>0.0</td><td>0.0</td><td>0.0</td><td>0.0</td><td>1185.0</td><td>5</td><td>2019-06-20T11:37:00.000+0000</td><td>2019-06-20T09:00:00.000+0000</td><td>2019-06-20T08:00:00.000+0000</td><td>2019-06-20T13:00:00.000+0000</td><td>2019-06-20T12:00:00.000+0000</td><td>45.0</td><td>0.0</td><td>72518014735</td><td>170</td><td>5</td><td>N</td><td>46</td><td>5</td><td>335</td><td>5</td><td>M</td><td>N</td><td>16093</td><td>5</td><td>N</td><td>5</td><td>217</td><td>5</td><td>183</td><td>5</td><td>10022</td><td>5</td><td>160</td><td>5</td><td>N</td><td>41</td><td>5</td><td>274</td><td>5</td><td>M</td><td>N</td><td>16093</td><td>5</td><td>N</td><td>5</td><td>217</td><td>5</td><td>183</td><td>5</td><td>10029</td><td>5</td><td>14.129032258064516</td><td>11.878245986779982</td><td>11.66586008813346</td><td>18.286828181565024</td><td>19.56242457996844</td><td>11</td></tr><tr><td>2019</td><td>1</td><td>1</td><td>2</td><td>1</td><td>0</td><td>0</td><td>G4</td><td>ALB</td><td>PGD</td><td>57.0</td><td>1.0</td><td>1.0</td><td>1.0</td><td>1185.0</td><td>5</td><td>2019-01-01T18:40:00.000+0000</td><td>2019-01-01T16:00:00.000+0000</td><td>2019-01-01T15:00:00.000+0000</td><td>2019-01-01T21:00:00.000+0000</td><td>2019-01-01T20:00:00.000+0000</td><td>45.0</td><td>1.0</td><td>72518014735</td><td>300</td><td>5</td><td>N</td><td>67</td><td>5</td><td>792</td><td>5</td><td>M</td><td>N</td><td>16093</td><td>5</td><td>N</td><td>5</td><td>33</td><td>5</td><td>-28</td><td>5</td><td>10172</td><td>5</td><td>300</td><td>5</td><td>N</td><td>51</td><td>5</td><td>792</td><td>5</td><td>M</td><td>N</td><td>16093</td><td>5</td><td>N</td><td>5</td><td>39</td><td>5</td><td>-28</td><td>5</td><td>10160</td><td>5</td><td>14.129032258064516</td><td>11.878245986779982</td><td>11.66586008813346</td><td>18.286828181565024</td><td>19.56242457996844</td><td>18</td></tr><tr><td>2019</td><td>3</td><td>8</td><td>7</td><td>0</td><td>0</td><td>0</td><td>G4</td><td>ALB</td><td>PGD</td><td>0.0</td><td>0.0</td><td>0.0</td><td>0.0</td><td>1185.0</td><td>5</td><td>2019-08-18T10:48:00.000+0000</td><td>2019-08-18T08:00:00.000+0000</td><td>2019-08-18T07:00:00.000+0000</td><td>2019-08-18T12:00:00.000+0000</td><td>2019-08-18T11:00:00.000+0000</td><td>45.0</td><td>0.0</td><td>72518014735</td><td>null</td><td>null</td><td>C</td><td>0</td><td>5</td><td>122</td><td>5</td><td>M</td><td>N</td><td>3219</td><td>5</td><td>N</td><td>5</td><td>206</td><td>5</td><td>189</td><td>5</td><td>10171</td><td>5</td><td>160</td><td>5</td><td>N</td><td>21</td><td>5</td><td>122</td><td>5</td><td>M</td><td>N</td><td>1609</td><td>5</td><td>N</td><td>5</td><td>200</td><td>5</td><td>183</td><td>5</td><td>10168</td><td>5</td><td>14.129032258064516</td><td>11.878245986779982</td><td>11.66586008813346</td><td>18.286828181565024</td><td>19.56242457996844</td><td>10</td></tr><tr><td>2019</td><td>2</td><td>5</td><td>4</td><td>0</td><td>0</td><td>0</td><td>G4</td><td>ALB</td><td>PGD</td><td>0.0</td><td>0.0</td><td>0.0</td><td>1.0</td><td>1185.0</td><td>5</td><td>2019-05-09T16:45:00.000+0000</td><td>2019-05-09T14:00:00.000+0000</td><td>2019-05-09T13:00:00.000+0000</td><td>2019-05-09T18:00:00.000+0000</td><td>2019-05-09T17:00:00.000+0000</td><td>45.0</td><td>0.0</td><td>72518014735</td><td>170</td><td>5</td><td>V</td><td>57</td><td>5</td><td>1676</td><td>5</td><td>M</td><td>N</td><td>16093</td><td>5</td><td>N</td><td>5</td><td>189</td><td>5</td><td>22</td><td>5</td><td>10229</td><td>5</td><td>170</td><td>5</td><td>N</td><td>51</td><td>5</td><td>2438</td><td>5</td><td>M</td><td>N</td><td>16093</td><td>5</td><td>N</td><td>5</td><td>178</td><td>5</td><td>11</td><td>5</td><td>10242</td><td>5</td><td>14.129032258064516</td><td>11.878245986779982</td><td>11.66586008813346</td><td>18.286828181565024</td><td>19.56242457996844</td><td>16</td></tr><tr><td>2019</td><td>1</td><td>1</td><td>4</td><td>0</td><td>0</td><td>0</td><td>G4</td><td>ALB</td><td>PGD</td><td>0.0</td><td>0.0</td><td>0.0</td><td>0.0</td><td>1185.0</td><td>5</td><td>2019-01-17T10:38:00.000+0000</td><td>2019-01-17T08:00:00.000+0000</td><td>2019-01-17T07:00:00.000+0000</td><td>2019-01-17T13:00:00.000+0000</td><td>2019-01-17T12:00:00.000+0000</td><td>45.0</td><td>0.0</td><td>72518014735</td><td>20</td><td>5</td><td>N</td><td>15</td><td>5</td><td>22000</td><td>5</td><td>9</td><td>N</td><td>16093</td><td>5</td><td>N</td><td>5</td><td>-106</td><td>5</td><td>-194</td><td>5</td><td>10316</td><td>5</td><td>null</td><td>null</td><td>C</td><td>0</td><td>5</td><td>22000</td><td>5</td><td>9</td><td>N</td><td>16093</td><td>5</td><td>N</td><td>5</td><td>-122</td><td>5</td><td>-200</td><td>5</td><td>10312</td><td>5</td><td>14.129032258064516</td><td>11.878245986779982</td><td>11.66586008813346</td><td>18.286828181565024</td><td>19.56242457996844</td><td>10</td></tr><tr><td>2019</td><td>4</td><td>11</td><td>7</td><td>0</td><td>0</td><td>0</td><td>G4</td><td>ALB</td><td>PGD</td><td>0.0</td><td>0.0</td><td>0.0</td><td>1.0</td><td>1185.0</td><td>5</td><td>2019-11-03T10:48:00.000+0000</td><td>2019-11-03T08:00:00.000+0000</td><td>2019-11-03T07:00:00.000+0000</td><td>2019-11-03T13:00:00.000+0000</td><td>2019-11-03T12:00:00.000+0000</td><td>45.0</td><td>0.0</td><td>72518014735</td><td>170</td><td>5</td><td>N</td><td>21</td><td>5</td><td>22000</td><td>5</td><td>9</td><td>N</td><td>16093</td><td>5</td><td>N</td><td>5</td><td>56</td><td>5</td><td>0</td><td>5</td><td>10185</td><td>5</td><td>220</td><td>5</td><td>N</td><td>21</td><td>5</td><td>1280</td><td>5</td><td>M</td><td>N</td><td>16093</td><td>5</td><td>N</td><td>5</td><td>17</td><td>5</td><td>-11</td><td>5</td><td>10181</td><td>5</td><td>14.129032258064516</td><td>11.878245986779982</td><td>11.66586008813346</td><td>18.286828181565024</td><td>19.56242457996844</td><td>10</td></tr><tr><td>2019</td><td>1</td><td>3</td><td>3</td><td>0</td><td>0</td><td>0</td><td>G4</td><td>ALB</td><td>PGD</td><td>0.0</td><td>0.0</td><td>0.0</td><td>0.0</td><td>1185.0</td><td>5</td><td>2019-03-06T10:08:00.000+0000</td><td>2019-03-06T08:00:00.000+0000</td><td>2019-03-06T07:00:00.000+0000</td><td>2019-03-06T13:00:00.000+0000</td><td>2019-03-06T12:00:00.000+0000</td><td>45.0</td><td>0.0</td><td>72518014735</td><td>290</td><td>5</td><td>N</td><td>36</td><td>5</td><td>22000</td><td>5</td><td>9</td><td>N</td><td>16093</td><td>5</td><td>N</td><td>5</td><td>-89</td><td>5</td><td>-150</td><td>5</td><td>10191</td><td>5</td><td>280</td><td>5</td><td>N</td><td>26</td><td>5</td><td>22000</td><td>5</td><td>9</td><td>N</td><td>16093</td><td>5</td><td>N</td><td>5</td><td>-106</td><td>5</td><td>-161</td><td>5</td><td>10187</td><td>5</td><td>14.129032258064516</td><td>11.878245986779982</td><td>11.66586008813346</td><td>18.286828181565024</td><td>19.56242457996844</td><td>10</td></tr></tbody></table></div>"
      ]
     },
     "metadata": {
      "application/vnd.databricks.v1+output": {
       "addedWidgets": {},
       "aggData": [],
       "aggError": "",
       "aggOverflow": false,
       "aggSchema": [],
       "aggSeriesLimitReached": false,
       "aggType": "",
       "arguments": {},
       "columnCustomDisplayInfos": {},
       "data": [
        [
         2019,
         1,
         2,
         7,
         "0",
         "0",
         "0",
         "G4",
         "ALB",
         "PGD",
         0,
         0,
         0,
         0,
         1185,
         5,
         "2019-02-10T10:38:00.000+0000",
         "2019-02-10T08:00:00.000+0000",
         "2019-02-10T07:00:00.000+0000",
         "2019-02-10T13:00:00.000+0000",
         "2019-02-10T12:00:00.000+0000",
         45,
         "0.0",
         "72518014735",
         310,
         5,
         "N",
         21,
         "5",
         1219,
         "5",
         "M",
         "N",
         16093,
         "5",
         "N",
         "5",
         -44,
         "5",
         -122,
         "5",
         10384,
         "5",
         300,
         5,
         "N",
         31,
         "5",
         1311,
         "5",
         "M",
         "N",
         16093,
         "5",
         "N",
         "5",
         -50,
         "5",
         -122,
         "5",
         10385,
         "5",
         14.129032258064516,
         11.878245986779982,
         11.66586008813346,
         18.286828181565024,
         19.56242457996844,
         10
        ],
        [
         2019,
         1,
         3,
         7,
         "0",
         "0",
         "0",
         "G4",
         "ALB",
         "PGD",
         0,
         0,
         0,
         0,
         1185,
         5,
         "2019-03-31T10:18:00.000+0000",
         "2019-03-31T08:00:00.000+0000",
         "2019-03-31T07:00:00.000+0000",
         "2019-03-31T12:00:00.000+0000",
         "2019-03-31T11:00:00.000+0000",
         45,
         "0.0",
         "72518014735",
         180,
         5,
         "N",
         88,
         "5",
         2134,
         "5",
         "M",
         "N",
         16093,
         "5",
         "N",
         "5",
         144,
         "5",
         72,
         "5",
         10017,
         "5",
         170,
         5,
         "N",
         103,
         "5",
         2591,
         "5",
         "M",
         "N",
         16093,
         "5",
         "N",
         "5",
         150,
         "5",
         72,
         "5",
         10017,
         "5",
         14.129032258064516,
         11.878245986779982,
         11.66586008813346,
         18.286828181565024,
         19.56242457996844,
         10
        ],
        [
         2019,
         2,
         6,
         7,
         "0",
         "0",
         "0",
         "G4",
         "ALB",
         "PGD",
         39,
         1,
         1,
         1,
         1185,
         5,
         "2019-06-16T11:37:00.000+0000",
         "2019-06-16T09:00:00.000+0000",
         "2019-06-16T08:00:00.000+0000",
         "2019-06-16T13:00:00.000+0000",
         "2019-06-16T12:00:00.000+0000",
         45,
         "0.0",
         "72518014735",
         170,
         5,
         "N",
         26,
         "5",
         914,
         "5",
         "M",
         "N",
         9656,
         "5",
         "N",
         "5",
         189,
         "5",
         167,
         "5",
         10110,
         "5",
         180,
         5,
         "N",
         26,
         "5",
         853,
         "5",
         "M",
         "N",
         16093,
         "5",
         "N",
         "5",
         194,
         "5",
         167,
         "5",
         10111,
         "5",
         14.129032258064516,
         11.878245986779982,
         11.66586008813346,
         18.286828181565024,
         19.56242457996844,
         11
        ],
        [
         2019,
         2,
         6,
         4,
         "0",
         "0",
         "0",
         "G4",
         "ALB",
         "PGD",
         0,
         0,
         0,
         0,
         1185,
         5,
         "2019-06-20T11:37:00.000+0000",
         "2019-06-20T09:00:00.000+0000",
         "2019-06-20T08:00:00.000+0000",
         "2019-06-20T13:00:00.000+0000",
         "2019-06-20T12:00:00.000+0000",
         45,
         "0.0",
         "72518014735",
         170,
         5,
         "N",
         46,
         "5",
         335,
         "5",
         "M",
         "N",
         16093,
         "5",
         "N",
         "5",
         217,
         "5",
         183,
         "5",
         10022,
         "5",
         160,
         5,
         "N",
         41,
         "5",
         274,
         "5",
         "M",
         "N",
         16093,
         "5",
         "N",
         "5",
         217,
         "5",
         183,
         "5",
         10029,
         "5",
         14.129032258064516,
         11.878245986779982,
         11.66586008813346,
         18.286828181565024,
         19.56242457996844,
         11
        ],
        [
         2019,
         1,
         1,
         2,
         "1",
         "0",
         "0",
         "G4",
         "ALB",
         "PGD",
         57,
         1,
         1,
         1,
         1185,
         5,
         "2019-01-01T18:40:00.000+0000",
         "2019-01-01T16:00:00.000+0000",
         "2019-01-01T15:00:00.000+0000",
         "2019-01-01T21:00:00.000+0000",
         "2019-01-01T20:00:00.000+0000",
         45,
         "1.0",
         "72518014735",
         300,
         5,
         "N",
         67,
         "5",
         792,
         "5",
         "M",
         "N",
         16093,
         "5",
         "N",
         "5",
         33,
         "5",
         -28,
         "5",
         10172,
         "5",
         300,
         5,
         "N",
         51,
         "5",
         792,
         "5",
         "M",
         "N",
         16093,
         "5",
         "N",
         "5",
         39,
         "5",
         -28,
         "5",
         10160,
         "5",
         14.129032258064516,
         11.878245986779982,
         11.66586008813346,
         18.286828181565024,
         19.56242457996844,
         18
        ],
        [
         2019,
         3,
         8,
         7,
         "0",
         "0",
         "0",
         "G4",
         "ALB",
         "PGD",
         0,
         0,
         0,
         0,
         1185,
         5,
         "2019-08-18T10:48:00.000+0000",
         "2019-08-18T08:00:00.000+0000",
         "2019-08-18T07:00:00.000+0000",
         "2019-08-18T12:00:00.000+0000",
         "2019-08-18T11:00:00.000+0000",
         45,
         "0.0",
         "72518014735",
         null,
         null,
         "C",
         0,
         "5",
         122,
         "5",
         "M",
         "N",
         3219,
         "5",
         "N",
         "5",
         206,
         "5",
         189,
         "5",
         10171,
         "5",
         160,
         5,
         "N",
         21,
         "5",
         122,
         "5",
         "M",
         "N",
         1609,
         "5",
         "N",
         "5",
         200,
         "5",
         183,
         "5",
         10168,
         "5",
         14.129032258064516,
         11.878245986779982,
         11.66586008813346,
         18.286828181565024,
         19.56242457996844,
         10
        ],
        [
         2019,
         2,
         5,
         4,
         "0",
         "0",
         "0",
         "G4",
         "ALB",
         "PGD",
         0,
         0,
         0,
         1,
         1185,
         5,
         "2019-05-09T16:45:00.000+0000",
         "2019-05-09T14:00:00.000+0000",
         "2019-05-09T13:00:00.000+0000",
         "2019-05-09T18:00:00.000+0000",
         "2019-05-09T17:00:00.000+0000",
         45,
         "0.0",
         "72518014735",
         170,
         5,
         "V",
         57,
         "5",
         1676,
         "5",
         "M",
         "N",
         16093,
         "5",
         "N",
         "5",
         189,
         "5",
         22,
         "5",
         10229,
         "5",
         170,
         5,
         "N",
         51,
         "5",
         2438,
         "5",
         "M",
         "N",
         16093,
         "5",
         "N",
         "5",
         178,
         "5",
         11,
         "5",
         10242,
         "5",
         14.129032258064516,
         11.878245986779982,
         11.66586008813346,
         18.286828181565024,
         19.56242457996844,
         16
        ],
        [
         2019,
         1,
         1,
         4,
         "0",
         "0",
         "0",
         "G4",
         "ALB",
         "PGD",
         0,
         0,
         0,
         0,
         1185,
         5,
         "2019-01-17T10:38:00.000+0000",
         "2019-01-17T08:00:00.000+0000",
         "2019-01-17T07:00:00.000+0000",
         "2019-01-17T13:00:00.000+0000",
         "2019-01-17T12:00:00.000+0000",
         45,
         "0.0",
         "72518014735",
         20,
         5,
         "N",
         15,
         "5",
         22000,
         "5",
         "9",
         "N",
         16093,
         "5",
         "N",
         "5",
         -106,
         "5",
         -194,
         "5",
         10316,
         "5",
         null,
         null,
         "C",
         0,
         "5",
         22000,
         "5",
         "9",
         "N",
         16093,
         "5",
         "N",
         "5",
         -122,
         "5",
         -200,
         "5",
         10312,
         "5",
         14.129032258064516,
         11.878245986779982,
         11.66586008813346,
         18.286828181565024,
         19.56242457996844,
         10
        ],
        [
         2019,
         4,
         11,
         7,
         "0",
         "0",
         "0",
         "G4",
         "ALB",
         "PGD",
         0,
         0,
         0,
         1,
         1185,
         5,
         "2019-11-03T10:48:00.000+0000",
         "2019-11-03T08:00:00.000+0000",
         "2019-11-03T07:00:00.000+0000",
         "2019-11-03T13:00:00.000+0000",
         "2019-11-03T12:00:00.000+0000",
         45,
         "0.0",
         "72518014735",
         170,
         5,
         "N",
         21,
         "5",
         22000,
         "5",
         "9",
         "N",
         16093,
         "5",
         "N",
         "5",
         56,
         "5",
         0,
         "5",
         10185,
         "5",
         220,
         5,
         "N",
         21,
         "5",
         1280,
         "5",
         "M",
         "N",
         16093,
         "5",
         "N",
         "5",
         17,
         "5",
         -11,
         "5",
         10181,
         "5",
         14.129032258064516,
         11.878245986779982,
         11.66586008813346,
         18.286828181565024,
         19.56242457996844,
         10
        ],
        [
         2019,
         1,
         3,
         3,
         "0",
         "0",
         "0",
         "G4",
         "ALB",
         "PGD",
         0,
         0,
         0,
         0,
         1185,
         5,
         "2019-03-06T10:08:00.000+0000",
         "2019-03-06T08:00:00.000+0000",
         "2019-03-06T07:00:00.000+0000",
         "2019-03-06T13:00:00.000+0000",
         "2019-03-06T12:00:00.000+0000",
         45,
         "0.0",
         "72518014735",
         290,
         5,
         "N",
         36,
         "5",
         22000,
         "5",
         "9",
         "N",
         16093,
         "5",
         "N",
         "5",
         -89,
         "5",
         -150,
         "5",
         10191,
         "5",
         280,
         5,
         "N",
         26,
         "5",
         22000,
         "5",
         "9",
         "N",
         16093,
         "5",
         "N",
         "5",
         -106,
         "5",
         -161,
         "5",
         10187,
         "5",
         14.129032258064516,
         11.878245986779982,
         11.66586008813346,
         18.286828181565024,
         19.56242457996844,
         10
        ]
       ],
       "datasetInfos": [],
       "dbfsResultPath": null,
       "isJsonSchema": true,
       "metadata": {},
       "overflow": false,
       "plotOptions": {
        "customPlotOptions": {},
        "displayType": "table",
        "pivotAggregation": null,
        "pivotColumns": null,
        "xColumns": null,
        "yColumns": null
       },
       "removedWidgets": [],
       "schema": [
        {
         "metadata": "{}",
         "name": "year",
         "type": "\"integer\""
        },
        {
         "metadata": "{}",
         "name": "quarter",
         "type": "\"integer\""
        },
        {
         "metadata": "{}",
         "name": "month",
         "type": "\"integer\""
        },
        {
         "metadata": "{}",
         "name": "day_of_week",
         "type": "\"integer\""
        },
        {
         "metadata": "{}",
         "name": "holiday",
         "type": "\"string\""
        },
        {
         "metadata": "{}",
         "name": "weather_obs_prev",
         "type": "\"string\""
        },
        {
         "metadata": "{}",
         "name": "weather_obs_prev_2",
         "type": "\"string\""
        },
        {
         "metadata": "{}",
         "name": "carrier",
         "type": "\"string\""
        },
        {
         "metadata": "{}",
         "name": "origin",
         "type": "\"string\""
        },
        {
         "metadata": "{}",
         "name": "destination",
         "type": "\"string\""
        },
        {
         "metadata": "{}",
         "name": "departure_delay",
         "type": "\"double\""
        },
        {
         "metadata": "{}",
         "name": "departure_delay_15",
         "type": "\"double\""
        },
        {
         "metadata": "{}",
         "name": "departure_delay_boolean",
         "type": "\"double\""
        },
        {
         "metadata": "{}",
         "name": "arrival_delay_boolean",
         "type": "\"double\""
        },
        {
         "metadata": "{}",
         "name": "distance",
         "type": "\"double\""
        },
        {
         "metadata": "{}",
         "name": "distance_group",
         "type": "\"integer\""
        },
        {
         "metadata": "{}",
         "name": "actual_timestamp",
         "type": "\"timestamp\""
        },
        {
         "metadata": "{}",
         "name": "hourly_timestamp",
         "type": "\"timestamp\""
        },
        {
         "metadata": "{}",
         "name": "prev_hourly_timestamp",
         "type": "\"timestamp\""
        },
        {
         "metadata": "{}",
         "name": "utc_hourly_timestamp",
         "type": "\"timestamp\""
        },
        {
         "metadata": "{}",
         "name": "utc_prev_hourly_timestamp",
         "type": "\"timestamp\""
        },
        {
         "metadata": "{}",
         "name": "planned_time_between_flights",
         "type": "\"double\""
        },
        {
         "metadata": "{}",
         "name": "prev_dep_delayed_confirmed",
         "type": "\"string\""
        },
        {
         "metadata": "{}",
         "name": "weather_station",
         "type": "\"string\""
        },
        {
         "metadata": "{}",
         "name": "wnd_angle_prev",
         "type": "\"integer\""
        },
        {
         "metadata": "{}",
         "name": "wnd_angle_qc_prev",
         "type": "\"integer\""
        },
        {
         "metadata": "{}",
         "name": "wnd_type_prev",
         "type": "\"string\""
        },
        {
         "metadata": "{}",
         "name": "wnd_speed_prev",
         "type": "\"integer\""
        },
        {
         "metadata": "{}",
         "name": "wnd_speed_qc_prev",
         "type": "\"string\""
        },
        {
         "metadata": "{}",
         "name": "wnd_cloud_angle_prev",
         "type": "\"integer\""
        },
        {
         "metadata": "{}",
         "name": "cig_cloud_angle_qc_prev",
         "type": "\"string\""
        },
        {
         "metadata": "{}",
         "name": "cig_method_prev",
         "type": "\"string\""
        },
        {
         "metadata": "{}",
         "name": "cig_cavok_prev",
         "type": "\"string\""
        },
        {
         "metadata": "{}",
         "name": "vis_dist_prev",
         "type": "\"integer\""
        },
        {
         "metadata": "{}",
         "name": "vis_dist_qc_prev",
         "type": "\"string\""
        },
        {
         "metadata": "{}",
         "name": "vis_var_prev",
         "type": "\"string\""
        },
        {
         "metadata": "{}",
         "name": "vis_var_qc_prev",
         "type": "\"string\""
        },
        {
         "metadata": "{}",
         "name": "tmp_c_prev",
         "type": "\"integer\""
        },
        {
         "metadata": "{}",
         "name": "tmp_qc_prev",
         "type": "\"string\""
        },
        {
         "metadata": "{}",
         "name": "dew_c_prev",
         "type": "\"integer\""
        },
        {
         "metadata": "{}",
         "name": "dew_qc_prev",
         "type": "\"string\""
        },
        {
         "metadata": "{}",
         "name": "slp_p_prev",
         "type": "\"integer\""
        },
        {
         "metadata": "{}",
         "name": "slp_qc_prev",
         "type": "\"string\""
        },
        {
         "metadata": "{}",
         "name": "wnd_angle_prev_2",
         "type": "\"integer\""
        },
        {
         "metadata": "{}",
         "name": "wnd_angle_qc_prev_2",
         "type": "\"integer\""
        },
        {
         "metadata": "{}",
         "name": "wnd_type_prev_2",
         "type": "\"string\""
        },
        {
         "metadata": "{}",
         "name": "wnd_speed_prev_2",
         "type": "\"integer\""
        },
        {
         "metadata": "{}",
         "name": "wnd_speed_qc_prev_2",
         "type": "\"string\""
        },
        {
         "metadata": "{}",
         "name": "wnd_cloud_angle_prev_2",
         "type": "\"integer\""
        },
        {
         "metadata": "{}",
         "name": "cig_cloud_angle_qc_prev_2",
         "type": "\"string\""
        },
        {
         "metadata": "{}",
         "name": "cig_method_prev_2",
         "type": "\"string\""
        },
        {
         "metadata": "{}",
         "name": "cig_cavok_prev_2",
         "type": "\"string\""
        },
        {
         "metadata": "{}",
         "name": "vis_dist_prev_2",
         "type": "\"integer\""
        },
        {
         "metadata": "{}",
         "name": "vis_dist_qc_prev_2",
         "type": "\"string\""
        },
        {
         "metadata": "{}",
         "name": "vis_var_prev_2",
         "type": "\"string\""
        },
        {
         "metadata": "{}",
         "name": "vis_var_qc_prev_2",
         "type": "\"string\""
        },
        {
         "metadata": "{}",
         "name": "tmp_c_prev_2",
         "type": "\"integer\""
        },
        {
         "metadata": "{}",
         "name": "tmp_qc_prev_2",
         "type": "\"string\""
        },
        {
         "metadata": "{}",
         "name": "dew_c_prev_2",
         "type": "\"integer\""
        },
        {
         "metadata": "{}",
         "name": "dew_qc_prev_2",
         "type": "\"string\""
        },
        {
         "metadata": "{}",
         "name": "slp_p_prev_2",
         "type": "\"integer\""
        },
        {
         "metadata": "{}",
         "name": "slp_qc_prev_2",
         "type": "\"string\""
        },
        {
         "metadata": "{}",
         "name": "route_delay",
         "type": "\"double\""
        },
        {
         "metadata": "{}",
         "name": "origin_arrival_delay",
         "type": "\"double\""
        },
        {
         "metadata": "{}",
         "name": "origin_departure_delay",
         "type": "\"double\""
        },
        {
         "metadata": "{}",
         "name": "dest_departure_delay",
         "type": "\"double\""
        },
        {
         "metadata": "{}",
         "name": "dest_arrival_delay",
         "type": "\"double\""
        },
        {
         "metadata": "{}",
         "name": "hour",
         "type": "\"integer\""
        }
       ],
       "type": "table"
      }
     },
     "output_type": "display_data"
    }
   ],
   "source": [
    "# Create a feature to include the hour of the day in local time\n",
    "from pyspark.sql.functions import hour\n",
    "\n",
    "data_df = data_df.withColumn('hour',hour(data_df.actual_timestamp))\n",
    "\n",
    "display(data_df.limit(10))\n"
   ]
  },
  {
   "cell_type": "markdown",
   "metadata": {
    "application/vnd.databricks.v1+cell": {
     "inputWidgets": {},
     "nuid": "2538adfc-66a1-48d8-85e3-74eec6c5e8da",
     "showTitle": false,
     "title": ""
    }
   },
   "source": [
    "**Feature Selection**"
   ]
  },
  {
   "cell_type": "code",
   "execution_count": 0,
   "metadata": {
    "application/vnd.databricks.v1+cell": {
     "inputWidgets": {},
     "nuid": "bf591475-c273-4ce5-985a-ddf0bb65291d",
     "showTitle": false,
     "title": ""
    }
   },
   "outputs": [
    {
     "data": {
      "text/html": [
       "<style scoped>\n",
       "  .table-result-container {\n",
       "    max-height: 300px;\n",
       "    overflow: auto;\n",
       "  }\n",
       "  table, th, td {\n",
       "    border: 1px solid black;\n",
       "    border-collapse: collapse;\n",
       "  }\n",
       "  th, td {\n",
       "    padding: 5px;\n",
       "  }\n",
       "  th {\n",
       "    text-align: left;\n",
       "  }\n",
       "</style><div class='table-result-container'><table class='table-result'><thead style='background-color: white'><tr><th>year</th><th>month</th><th>day_of_week</th><th>actual_timestamp</th><th>hour</th><th>carrier</th><th>holiday</th><th>weather_obs_prev</th><th>weather_obs_prev_2</th><th>origin</th><th>destination</th><th>departure_delay_boolean</th><th>planned_time_between_flights</th><th>prev_dep_delayed_confirmed</th><th>distance</th><th>wnd_angle_prev</th><th>wnd_type_prev</th><th>wnd_speed_prev_2</th><th>wnd_speed_prev</th><th>wnd_cloud_angle_prev</th><th>vis_dist_prev</th><th>vis_dist_prev_2</th><th>vis_var_prev</th><th>tmp_c_prev</th><th>dew_c_prev</th><th>route_delay</th><th>origin_arrival_delay</th><th>origin_departure_delay</th><th>dest_departure_delay</th><th>dest_arrival_delay</th></tr></thead><tbody><tr><td>2019</td><td>2</td><td>7</td><td>2019-02-10T10:38:00.000+0000</td><td>10</td><td>G4</td><td>0</td><td>0</td><td>0</td><td>ALB</td><td>PGD</td><td>0.0</td><td>45.0</td><td>0.0</td><td>1185.0</td><td>310</td><td>N</td><td>31</td><td>21</td><td>1219</td><td>16093</td><td>16093</td><td>N</td><td>-44</td><td>-122</td><td>14.129032258064516</td><td>11.878245986779982</td><td>11.66586008813346</td><td>18.286828181565024</td><td>19.56242457996844</td></tr><tr><td>2019</td><td>3</td><td>7</td><td>2019-03-31T10:18:00.000+0000</td><td>10</td><td>G4</td><td>0</td><td>0</td><td>0</td><td>ALB</td><td>PGD</td><td>0.0</td><td>45.0</td><td>0.0</td><td>1185.0</td><td>180</td><td>N</td><td>103</td><td>88</td><td>2134</td><td>16093</td><td>16093</td><td>N</td><td>144</td><td>72</td><td>14.129032258064516</td><td>11.878245986779982</td><td>11.66586008813346</td><td>18.286828181565024</td><td>19.56242457996844</td></tr><tr><td>2019</td><td>6</td><td>7</td><td>2019-06-16T11:37:00.000+0000</td><td>11</td><td>G4</td><td>0</td><td>0</td><td>0</td><td>ALB</td><td>PGD</td><td>1.0</td><td>45.0</td><td>0.0</td><td>1185.0</td><td>170</td><td>N</td><td>26</td><td>26</td><td>914</td><td>9656</td><td>16093</td><td>N</td><td>189</td><td>167</td><td>14.129032258064516</td><td>11.878245986779982</td><td>11.66586008813346</td><td>18.286828181565024</td><td>19.56242457996844</td></tr><tr><td>2019</td><td>6</td><td>4</td><td>2019-06-20T11:37:00.000+0000</td><td>11</td><td>G4</td><td>0</td><td>0</td><td>0</td><td>ALB</td><td>PGD</td><td>0.0</td><td>45.0</td><td>0.0</td><td>1185.0</td><td>170</td><td>N</td><td>41</td><td>46</td><td>335</td><td>16093</td><td>16093</td><td>N</td><td>217</td><td>183</td><td>14.129032258064516</td><td>11.878245986779982</td><td>11.66586008813346</td><td>18.286828181565024</td><td>19.56242457996844</td></tr><tr><td>2019</td><td>1</td><td>2</td><td>2019-01-01T18:40:00.000+0000</td><td>18</td><td>G4</td><td>1</td><td>0</td><td>0</td><td>ALB</td><td>PGD</td><td>1.0</td><td>45.0</td><td>1.0</td><td>1185.0</td><td>300</td><td>N</td><td>51</td><td>67</td><td>792</td><td>16093</td><td>16093</td><td>N</td><td>33</td><td>-28</td><td>14.129032258064516</td><td>11.878245986779982</td><td>11.66586008813346</td><td>18.286828181565024</td><td>19.56242457996844</td></tr><tr><td>2019</td><td>8</td><td>7</td><td>2019-08-18T10:48:00.000+0000</td><td>10</td><td>G4</td><td>0</td><td>0</td><td>0</td><td>ALB</td><td>PGD</td><td>0.0</td><td>45.0</td><td>0.0</td><td>1185.0</td><td>null</td><td>C</td><td>21</td><td>0</td><td>122</td><td>3219</td><td>1609</td><td>N</td><td>206</td><td>189</td><td>14.129032258064516</td><td>11.878245986779982</td><td>11.66586008813346</td><td>18.286828181565024</td><td>19.56242457996844</td></tr><tr><td>2019</td><td>5</td><td>4</td><td>2019-05-09T16:45:00.000+0000</td><td>16</td><td>G4</td><td>0</td><td>0</td><td>0</td><td>ALB</td><td>PGD</td><td>0.0</td><td>45.0</td><td>0.0</td><td>1185.0</td><td>170</td><td>V</td><td>51</td><td>57</td><td>1676</td><td>16093</td><td>16093</td><td>N</td><td>189</td><td>22</td><td>14.129032258064516</td><td>11.878245986779982</td><td>11.66586008813346</td><td>18.286828181565024</td><td>19.56242457996844</td></tr><tr><td>2019</td><td>1</td><td>4</td><td>2019-01-17T10:38:00.000+0000</td><td>10</td><td>G4</td><td>0</td><td>0</td><td>0</td><td>ALB</td><td>PGD</td><td>0.0</td><td>45.0</td><td>0.0</td><td>1185.0</td><td>20</td><td>N</td><td>0</td><td>15</td><td>22000</td><td>16093</td><td>16093</td><td>N</td><td>-106</td><td>-194</td><td>14.129032258064516</td><td>11.878245986779982</td><td>11.66586008813346</td><td>18.286828181565024</td><td>19.56242457996844</td></tr><tr><td>2019</td><td>11</td><td>7</td><td>2019-11-03T10:48:00.000+0000</td><td>10</td><td>G4</td><td>0</td><td>0</td><td>0</td><td>ALB</td><td>PGD</td><td>0.0</td><td>45.0</td><td>0.0</td><td>1185.0</td><td>170</td><td>N</td><td>21</td><td>21</td><td>22000</td><td>16093</td><td>16093</td><td>N</td><td>56</td><td>0</td><td>14.129032258064516</td><td>11.878245986779982</td><td>11.66586008813346</td><td>18.286828181565024</td><td>19.56242457996844</td></tr><tr><td>2019</td><td>3</td><td>3</td><td>2019-03-06T10:08:00.000+0000</td><td>10</td><td>G4</td><td>0</td><td>0</td><td>0</td><td>ALB</td><td>PGD</td><td>0.0</td><td>45.0</td><td>0.0</td><td>1185.0</td><td>290</td><td>N</td><td>26</td><td>36</td><td>22000</td><td>16093</td><td>16093</td><td>N</td><td>-89</td><td>-150</td><td>14.129032258064516</td><td>11.878245986779982</td><td>11.66586008813346</td><td>18.286828181565024</td><td>19.56242457996844</td></tr></tbody></table></div>"
      ]
     },
     "metadata": {
      "application/vnd.databricks.v1+output": {
       "addedWidgets": {},
       "aggData": [],
       "aggError": "",
       "aggOverflow": false,
       "aggSchema": [],
       "aggSeriesLimitReached": false,
       "aggType": "",
       "arguments": {},
       "columnCustomDisplayInfos": {},
       "data": [
        [
         "2019",
         "2",
         "7",
         "2019-02-10T10:38:00.000+0000",
         "10",
         "G4",
         "0",
         "0",
         "0",
         "ALB",
         "PGD",
         0,
         45,
         "0.0",
         1185,
         310,
         "N",
         31,
         21,
         1219,
         16093,
         16093,
         "N",
         -44,
         -122,
         14.129032258064516,
         11.878245986779982,
         11.66586008813346,
         18.286828181565024,
         19.56242457996844
        ],
        [
         "2019",
         "3",
         "7",
         "2019-03-31T10:18:00.000+0000",
         "10",
         "G4",
         "0",
         "0",
         "0",
         "ALB",
         "PGD",
         0,
         45,
         "0.0",
         1185,
         180,
         "N",
         103,
         88,
         2134,
         16093,
         16093,
         "N",
         144,
         72,
         14.129032258064516,
         11.878245986779982,
         11.66586008813346,
         18.286828181565024,
         19.56242457996844
        ],
        [
         "2019",
         "6",
         "7",
         "2019-06-16T11:37:00.000+0000",
         "11",
         "G4",
         "0",
         "0",
         "0",
         "ALB",
         "PGD",
         1,
         45,
         "0.0",
         1185,
         170,
         "N",
         26,
         26,
         914,
         9656,
         16093,
         "N",
         189,
         167,
         14.129032258064516,
         11.878245986779982,
         11.66586008813346,
         18.286828181565024,
         19.56242457996844
        ],
        [
         "2019",
         "6",
         "4",
         "2019-06-20T11:37:00.000+0000",
         "11",
         "G4",
         "0",
         "0",
         "0",
         "ALB",
         "PGD",
         0,
         45,
         "0.0",
         1185,
         170,
         "N",
         41,
         46,
         335,
         16093,
         16093,
         "N",
         217,
         183,
         14.129032258064516,
         11.878245986779982,
         11.66586008813346,
         18.286828181565024,
         19.56242457996844
        ],
        [
         "2019",
         "1",
         "2",
         "2019-01-01T18:40:00.000+0000",
         "18",
         "G4",
         "1",
         "0",
         "0",
         "ALB",
         "PGD",
         1,
         45,
         "1.0",
         1185,
         300,
         "N",
         51,
         67,
         792,
         16093,
         16093,
         "N",
         33,
         -28,
         14.129032258064516,
         11.878245986779982,
         11.66586008813346,
         18.286828181565024,
         19.56242457996844
        ],
        [
         "2019",
         "8",
         "7",
         "2019-08-18T10:48:00.000+0000",
         "10",
         "G4",
         "0",
         "0",
         "0",
         "ALB",
         "PGD",
         0,
         45,
         "0.0",
         1185,
         null,
         "C",
         21,
         0,
         122,
         3219,
         1609,
         "N",
         206,
         189,
         14.129032258064516,
         11.878245986779982,
         11.66586008813346,
         18.286828181565024,
         19.56242457996844
        ],
        [
         "2019",
         "5",
         "4",
         "2019-05-09T16:45:00.000+0000",
         "16",
         "G4",
         "0",
         "0",
         "0",
         "ALB",
         "PGD",
         0,
         45,
         "0.0",
         1185,
         170,
         "V",
         51,
         57,
         1676,
         16093,
         16093,
         "N",
         189,
         22,
         14.129032258064516,
         11.878245986779982,
         11.66586008813346,
         18.286828181565024,
         19.56242457996844
        ],
        [
         "2019",
         "1",
         "4",
         "2019-01-17T10:38:00.000+0000",
         "10",
         "G4",
         "0",
         "0",
         "0",
         "ALB",
         "PGD",
         0,
         45,
         "0.0",
         1185,
         20,
         "N",
         0,
         15,
         22000,
         16093,
         16093,
         "N",
         -106,
         -194,
         14.129032258064516,
         11.878245986779982,
         11.66586008813346,
         18.286828181565024,
         19.56242457996844
        ],
        [
         "2019",
         "11",
         "7",
         "2019-11-03T10:48:00.000+0000",
         "10",
         "G4",
         "0",
         "0",
         "0",
         "ALB",
         "PGD",
         0,
         45,
         "0.0",
         1185,
         170,
         "N",
         21,
         21,
         22000,
         16093,
         16093,
         "N",
         56,
         0,
         14.129032258064516,
         11.878245986779982,
         11.66586008813346,
         18.286828181565024,
         19.56242457996844
        ],
        [
         "2019",
         "3",
         "3",
         "2019-03-06T10:08:00.000+0000",
         "10",
         "G4",
         "0",
         "0",
         "0",
         "ALB",
         "PGD",
         0,
         45,
         "0.0",
         1185,
         290,
         "N",
         26,
         36,
         22000,
         16093,
         16093,
         "N",
         -89,
         -150,
         14.129032258064516,
         11.878245986779982,
         11.66586008813346,
         18.286828181565024,
         19.56242457996844
        ]
       ],
       "datasetInfos": [],
       "dbfsResultPath": null,
       "isJsonSchema": true,
       "metadata": {},
       "overflow": false,
       "plotOptions": {
        "customPlotOptions": {},
        "displayType": "table",
        "pivotAggregation": null,
        "pivotColumns": null,
        "xColumns": null,
        "yColumns": null
       },
       "removedWidgets": [],
       "schema": [
        {
         "metadata": "{}",
         "name": "year",
         "type": "\"string\""
        },
        {
         "metadata": "{}",
         "name": "month",
         "type": "\"string\""
        },
        {
         "metadata": "{}",
         "name": "day_of_week",
         "type": "\"string\""
        },
        {
         "metadata": "{}",
         "name": "actual_timestamp",
         "type": "\"timestamp\""
        },
        {
         "metadata": "{}",
         "name": "hour",
         "type": "\"string\""
        },
        {
         "metadata": "{}",
         "name": "carrier",
         "type": "\"string\""
        },
        {
         "metadata": "{}",
         "name": "holiday",
         "type": "\"string\""
        },
        {
         "metadata": "{}",
         "name": "weather_obs_prev",
         "type": "\"string\""
        },
        {
         "metadata": "{}",
         "name": "weather_obs_prev_2",
         "type": "\"string\""
        },
        {
         "metadata": "{}",
         "name": "origin",
         "type": "\"string\""
        },
        {
         "metadata": "{}",
         "name": "destination",
         "type": "\"string\""
        },
        {
         "metadata": "{}",
         "name": "departure_delay_boolean",
         "type": "\"double\""
        },
        {
         "metadata": "{}",
         "name": "planned_time_between_flights",
         "type": "\"double\""
        },
        {
         "metadata": "{}",
         "name": "prev_dep_delayed_confirmed",
         "type": "\"string\""
        },
        {
         "metadata": "{}",
         "name": "distance",
         "type": "\"double\""
        },
        {
         "metadata": "{}",
         "name": "wnd_angle_prev",
         "type": "\"integer\""
        },
        {
         "metadata": "{}",
         "name": "wnd_type_prev",
         "type": "\"string\""
        },
        {
         "metadata": "{}",
         "name": "wnd_speed_prev_2",
         "type": "\"integer\""
        },
        {
         "metadata": "{}",
         "name": "wnd_speed_prev",
         "type": "\"integer\""
        },
        {
         "metadata": "{}",
         "name": "wnd_cloud_angle_prev",
         "type": "\"integer\""
        },
        {
         "metadata": "{}",
         "name": "vis_dist_prev",
         "type": "\"integer\""
        },
        {
         "metadata": "{}",
         "name": "vis_dist_prev_2",
         "type": "\"integer\""
        },
        {
         "metadata": "{}",
         "name": "vis_var_prev",
         "type": "\"string\""
        },
        {
         "metadata": "{}",
         "name": "tmp_c_prev",
         "type": "\"integer\""
        },
        {
         "metadata": "{}",
         "name": "dew_c_prev",
         "type": "\"integer\""
        },
        {
         "metadata": "{}",
         "name": "route_delay",
         "type": "\"double\""
        },
        {
         "metadata": "{}",
         "name": "origin_arrival_delay",
         "type": "\"double\""
        },
        {
         "metadata": "{}",
         "name": "origin_departure_delay",
         "type": "\"double\""
        },
        {
         "metadata": "{}",
         "name": "dest_departure_delay",
         "type": "\"double\""
        },
        {
         "metadata": "{}",
         "name": "dest_arrival_delay",
         "type": "\"double\""
        }
       ],
       "type": "table"
      }
     },
     "output_type": "display_data"
    }
   ],
   "source": [
    "\n",
    "#Select ML Vars - Variables for building models\n",
    "split_data_df = data_df.selectExpr(\n",
    "                              \"cast (year as string) year\",\n",
    "                              \"cast (month as string) month\",\n",
    "                              \"cast (day_of_week as string) day_of_week\",\n",
    "                              \"actual_timestamp\",\n",
    "                              \"cast (hour as string) hour\",\n",
    "                              \"carrier\",\n",
    "                              \"holiday\",\n",
    "                              \"weather_obs_prev\",\n",
    "                              \"weather_obs_prev_2\",\n",
    "                              \"origin\",\n",
    "                              \"destination\",\n",
    "                              \"departure_delay_boolean\",\n",
    "                              \"planned_time_between_flights\",\n",
    "                              \"cast (prev_dep_delayed_confirmed as string) prev_dep_delayed_confirmed\",    \n",
    "                              \"distance\",\n",
    "                              \"cast (wnd_angle_prev as int) wnd_angle_prev\",                               \n",
    "                              \"wnd_type_prev\",\n",
    "                              \"wnd_speed_prev_2\",\n",
    "                              \"wnd_speed_prev\",\n",
    "                              \"wnd_cloud_angle_prev\",\n",
    "                              \"vis_dist_prev\",\n",
    "                              \"vis_dist_prev_2\",\n",
    "                              \"vis_var_prev\",\n",
    "                              \"tmp_c_prev\",\n",
    "                              \"dew_c_prev\",\n",
    "                              \"route_delay\",\n",
    "                              \"origin_arrival_delay\",\n",
    "                              \"origin_departure_delay\",\n",
    "                              \"dest_departure_delay\",\n",
    "                              \"dest_arrival_delay\",\n",
    "                             )\n",
    "\n",
    "display(split_data_df.limit(10))\n"
   ]
  },
  {
   "cell_type": "markdown",
   "metadata": {
    "application/vnd.databricks.v1+cell": {
     "inputWidgets": {},
     "nuid": "cb0fd879-9dac-4055-9f1e-9740985cd74c",
     "showTitle": false,
     "title": ""
    }
   },
   "source": [
    "#### 4.1. Split Data"
   ]
  },
  {
   "cell_type": "code",
   "execution_count": 0,
   "metadata": {
    "application/vnd.databricks.v1+cell": {
     "inputWidgets": {},
     "nuid": "7f066bd8-b3a9-43b6-a946-43be2261f9ef",
     "showTitle": false,
     "title": ""
    }
   },
   "outputs": [
    {
     "data": {
      "text/html": [
       "<style scoped>\n",
       "  .ansiout {\n",
       "    display: block;\n",
       "    unicode-bidi: embed;\n",
       "    white-space: pre-wrap;\n",
       "    word-wrap: break-word;\n",
       "    word-break: break-all;\n",
       "    font-family: \"Source Code Pro\", \"Menlo\", monospace;;\n",
       "    font-size: 13px;\n",
       "    color: #555;\n",
       "    margin-left: 4px;\n",
       "    line-height: 19px;\n",
       "  }\n",
       "</style>\n",
       "<div class=\"ansiout\"></div>"
      ]
     },
     "metadata": {
      "application/vnd.databricks.v1+output": {
       "addedWidgets": {},
       "arguments": {},
       "data": "<div class=\"ansiout\"></div>",
       "datasetInfos": [],
       "metadata": {},
       "removedWidgets": [],
       "type": "html"
      }
     },
     "output_type": "display_data"
    }
   ],
   "source": [
    "### Add a cumulative rank to dataframe and then split (80-20) for time series data.\n",
    "\n",
    "if(full_data):\n",
    "\n",
    "  split_data_df = split_data_df.withColumn(\"rank\", percent_rank().over(Window.partitionBy().orderBy(\"actual_timestamp\")))\n",
    "\n",
    "# display(split_data_df)\n"
   ]
  },
  {
   "cell_type": "code",
   "execution_count": 0,
   "metadata": {
    "application/vnd.databricks.v1+cell": {
     "inputWidgets": {},
     "nuid": "4b6c3026-2a80-4425-9bdb-58689971d9c9",
     "showTitle": false,
     "title": ""
    }
   },
   "outputs": [
    {
     "data": {
      "text/html": [
       "<style scoped>\n",
       "  .ansiout {\n",
       "    display: block;\n",
       "    unicode-bidi: embed;\n",
       "    white-space: pre-wrap;\n",
       "    word-wrap: break-word;\n",
       "    word-break: break-all;\n",
       "    font-family: \"Source Code Pro\", \"Menlo\", monospace;;\n",
       "    font-size: 13px;\n",
       "    color: #555;\n",
       "    margin-left: 4px;\n",
       "    line-height: 19px;\n",
       "  }\n",
       "</style>\n",
       "<div class=\"ansiout\"></div>"
      ]
     },
     "metadata": {
      "application/vnd.databricks.v1+output": {
       "addedWidgets": {},
       "arguments": {},
       "data": "<div class=\"ansiout\"></div>",
       "datasetInfos": [],
       "metadata": {},
       "removedWidgets": [],
       "type": "html"
      }
     },
     "output_type": "display_data"
    }
   ],
   "source": [
    "# timeseries split of train data for cross validation\n",
    "\n",
    "if(full_data):\n",
    "\n",
    " # train_df = split_data_df.where(\"rank <= .8\").drop(\"rank\",\"actual_timestamp\")\n",
    "  train_df1 = split_data_df.where(\"rank <= .2\").drop(\"rank\",\"actual_timestamp\")\n",
    "  train_df2 = split_data_df.where(\"rank <= .4\").drop(\"rank\",\"actual_timestamp\")\n",
    "  train_df3 = split_data_df.where(\"rank <= .6\").drop(\"rank\",\"actual_timestamp\")\n",
    "  train_df4 = split_data_df.where(\"rank <= .8\").drop(\"rank\",\"actual_timestamp\")\n",
    " #   display(train_df)\n",
    "\n",
    "#   print(f'The train dataset has {train_df.count()} rows')"
   ]
  },
  {
   "cell_type": "code",
   "execution_count": 0,
   "metadata": {
    "application/vnd.databricks.v1+cell": {
     "inputWidgets": {},
     "nuid": "2abc070d-6581-42db-a709-30d8dd73112e",
     "showTitle": false,
     "title": ""
    }
   },
   "outputs": [
    {
     "data": {
      "text/html": [
       "<style scoped>\n",
       "  .ansiout {\n",
       "    display: block;\n",
       "    unicode-bidi: embed;\n",
       "    white-space: pre-wrap;\n",
       "    word-wrap: break-word;\n",
       "    word-break: break-all;\n",
       "    font-family: \"Source Code Pro\", \"Menlo\", monospace;;\n",
       "    font-size: 13px;\n",
       "    color: #555;\n",
       "    margin-left: 4px;\n",
       "    line-height: 19px;\n",
       "  }\n",
       "</style>\n",
       "<div class=\"ansiout\"></div>"
      ]
     },
     "metadata": {
      "application/vnd.databricks.v1+output": {
       "addedWidgets": {},
       "arguments": {},
       "data": "<div class=\"ansiout\"></div>",
       "datasetInfos": [],
       "metadata": {},
       "removedWidgets": [],
       "type": "html"
      }
     },
     "output_type": "display_data"
    }
   ],
   "source": [
    "\n",
    "# timeseries split of train data for cross validation\n",
    "\n",
    "if(full_data):\n",
    "  #test_df = split_data_df.where(\"rank > .8\").drop(\"rank\", \"actual_timestamp\")\n",
    "  test_df1 = split_data_df.where(\"rank > .2\" and \"rank <= 0.4\").drop(\"rank\", \"actual_timestamp\")\n",
    "  test_df2 = split_data_df.where(\"rank > .4\" and \"rank <= 0.6\").drop(\"rank\", \"actual_timestamp\")\n",
    "  test_df3 = split_data_df.where(\"rank > .6\" and \"rank <= 0.8\").drop(\"rank\", \"actual_timestamp\")\n",
    "  test_df4 = split_data_df.where(\"rank > .8\").drop(\"rank\", \"actual_timestamp\")\n",
    "\n",
    "    "
   ]
  },
  {
   "cell_type": "code",
   "execution_count": 0,
   "metadata": {
    "application/vnd.databricks.v1+cell": {
     "inputWidgets": {},
     "nuid": "ddf4d6cc-9b90-47d7-918f-88bd3998b743",
     "showTitle": false,
     "title": ""
    }
   },
   "outputs": [
    {
     "data": {
      "text/html": [
       "<style scoped>\n",
       "  .ansiout {\n",
       "    display: block;\n",
       "    unicode-bidi: embed;\n",
       "    white-space: pre-wrap;\n",
       "    word-wrap: break-word;\n",
       "    word-break: break-all;\n",
       "    font-family: \"Source Code Pro\", \"Menlo\", monospace;;\n",
       "    font-size: 13px;\n",
       "    color: #555;\n",
       "    margin-left: 4px;\n",
       "    line-height: 19px;\n",
       "  }\n",
       "</style>\n",
       "<div class=\"ansiout\"></div>"
      ]
     },
     "metadata": {
      "application/vnd.databricks.v1+output": {
       "addedWidgets": {},
       "arguments": {},
       "data": "<div class=\"ansiout\"></div>",
       "datasetInfos": [],
       "metadata": {},
       "removedWidgets": [],
       "type": "html"
      }
     },
     "output_type": "display_data"
    }
   ],
   "source": [
    "# creating list for storing all training and test dataframes for separate windows of cross validation\n",
    "train_df_list = [train_df1, train_df2, train_df3, train_df4]\n",
    "test_df_list = [test_df1, test_df2, test_df3, test_df4]\n"
   ]
  },
  {
   "cell_type": "code",
   "execution_count": 0,
   "metadata": {
    "application/vnd.databricks.v1+cell": {
     "inputWidgets": {},
     "nuid": "0c9e3160-358f-4fa4-8d02-3929a1c025f1",
     "showTitle": false,
     "title": ""
    }
   },
   "outputs": [
    {
     "data": {
      "text/html": [
       "<style scoped>\n",
       "  .ansiout {\n",
       "    display: block;\n",
       "    unicode-bidi: embed;\n",
       "    white-space: pre-wrap;\n",
       "    word-wrap: break-word;\n",
       "    word-break: break-all;\n",
       "    font-family: \"Source Code Pro\", \"Menlo\", monospace;;\n",
       "    font-size: 13px;\n",
       "    color: #555;\n",
       "    margin-left: 4px;\n",
       "    line-height: 19px;\n",
       "  }\n",
       "</style>\n",
       "<div class=\"ansiout\">Out[49]: </div>"
      ]
     },
     "metadata": {
      "application/vnd.databricks.v1+output": {
       "addedWidgets": {},
       "arguments": {},
       "data": "<div class=\"ansiout\">Out[49]: </div>",
       "datasetInfos": [],
       "metadata": {},
       "removedWidgets": [],
       "type": "html"
      }
     },
     "output_type": "display_data"
    },
    {
     "data": {
      "text/html": [
       "<div>\n",
       "<style scoped>\n",
       "    .dataframe tbody tr th:only-of-type {\n",
       "        vertical-align: middle;\n",
       "    }\n",
       "\n",
       "    .dataframe tbody tr th {\n",
       "        vertical-align: top;\n",
       "    }\n",
       "\n",
       "    .dataframe thead th {\n",
       "        text-align: right;\n",
       "    }\n",
       "</style>\n",
       "<table border=\"1\" class=\"dataframe\">\n",
       "  <thead>\n",
       "    <tr style=\"text-align: right;\">\n",
       "      <th></th>\n",
       "      <th>features</th>\n",
       "      <th>number_of_nulls</th>\n",
       "    </tr>\n",
       "  </thead>\n",
       "  <tbody>\n",
       "    <tr>\n",
       "      <th>0</th>\n",
       "      <td>year</td>\n",
       "      <td>0</td>\n",
       "    </tr>\n",
       "    <tr>\n",
       "      <th>1</th>\n",
       "      <td>month</td>\n",
       "      <td>0</td>\n",
       "    </tr>\n",
       "    <tr>\n",
       "      <th>2</th>\n",
       "      <td>day_of_week</td>\n",
       "      <td>0</td>\n",
       "    </tr>\n",
       "    <tr>\n",
       "      <th>3</th>\n",
       "      <td>hour</td>\n",
       "      <td>0</td>\n",
       "    </tr>\n",
       "    <tr>\n",
       "      <th>4</th>\n",
       "      <td>carrier</td>\n",
       "      <td>0</td>\n",
       "    </tr>\n",
       "    <tr>\n",
       "      <th>5</th>\n",
       "      <td>holiday</td>\n",
       "      <td>0</td>\n",
       "    </tr>\n",
       "    <tr>\n",
       "      <th>6</th>\n",
       "      <td>weather_obs_prev</td>\n",
       "      <td>6887</td>\n",
       "    </tr>\n",
       "    <tr>\n",
       "      <th>7</th>\n",
       "      <td>weather_obs_prev_2</td>\n",
       "      <td>11507</td>\n",
       "    </tr>\n",
       "    <tr>\n",
       "      <th>8</th>\n",
       "      <td>origin</td>\n",
       "      <td>0</td>\n",
       "    </tr>\n",
       "    <tr>\n",
       "      <th>9</th>\n",
       "      <td>destination</td>\n",
       "      <td>0</td>\n",
       "    </tr>\n",
       "    <tr>\n",
       "      <th>10</th>\n",
       "      <td>departure_delay_boolean</td>\n",
       "      <td>0</td>\n",
       "    </tr>\n",
       "    <tr>\n",
       "      <th>11</th>\n",
       "      <td>planned_time_between_flights</td>\n",
       "      <td>35832</td>\n",
       "    </tr>\n",
       "    <tr>\n",
       "      <th>12</th>\n",
       "      <td>prev_dep_delayed_confirmed</td>\n",
       "      <td>0</td>\n",
       "    </tr>\n",
       "    <tr>\n",
       "      <th>13</th>\n",
       "      <td>distance</td>\n",
       "      <td>0</td>\n",
       "    </tr>\n",
       "    <tr>\n",
       "      <th>14</th>\n",
       "      <td>wnd_angle_prev</td>\n",
       "      <td>948847</td>\n",
       "    </tr>\n",
       "    <tr>\n",
       "      <th>15</th>\n",
       "      <td>wnd_type_prev</td>\n",
       "      <td>6887</td>\n",
       "    </tr>\n",
       "    <tr>\n",
       "      <th>16</th>\n",
       "      <td>wnd_speed_prev_2</td>\n",
       "      <td>15930</td>\n",
       "    </tr>\n",
       "    <tr>\n",
       "      <th>17</th>\n",
       "      <td>wnd_speed_prev</td>\n",
       "      <td>11160</td>\n",
       "    </tr>\n",
       "    <tr>\n",
       "      <th>18</th>\n",
       "      <td>wnd_cloud_angle_prev</td>\n",
       "      <td>6887</td>\n",
       "    </tr>\n",
       "    <tr>\n",
       "      <th>19</th>\n",
       "      <td>vis_dist_prev</td>\n",
       "      <td>8773</td>\n",
       "    </tr>\n",
       "    <tr>\n",
       "      <th>20</th>\n",
       "      <td>vis_dist_prev_2</td>\n",
       "      <td>13484</td>\n",
       "    </tr>\n",
       "    <tr>\n",
       "      <th>21</th>\n",
       "      <td>vis_var_prev</td>\n",
       "      <td>6887</td>\n",
       "    </tr>\n",
       "    <tr>\n",
       "      <th>22</th>\n",
       "      <td>tmp_c_prev</td>\n",
       "      <td>9045</td>\n",
       "    </tr>\n",
       "    <tr>\n",
       "      <th>23</th>\n",
       "      <td>dew_c_prev</td>\n",
       "      <td>10557</td>\n",
       "    </tr>\n",
       "    <tr>\n",
       "      <th>24</th>\n",
       "      <td>route_delay</td>\n",
       "      <td>4</td>\n",
       "    </tr>\n",
       "    <tr>\n",
       "      <th>25</th>\n",
       "      <td>origin_arrival_delay</td>\n",
       "      <td>0</td>\n",
       "    </tr>\n",
       "    <tr>\n",
       "      <th>26</th>\n",
       "      <td>origin_departure_delay</td>\n",
       "      <td>0</td>\n",
       "    </tr>\n",
       "    <tr>\n",
       "      <th>27</th>\n",
       "      <td>dest_departure_delay</td>\n",
       "      <td>0</td>\n",
       "    </tr>\n",
       "    <tr>\n",
       "      <th>28</th>\n",
       "      <td>dest_arrival_delay</td>\n",
       "      <td>0</td>\n",
       "    </tr>\n",
       "  </tbody>\n",
       "</table>\n",
       "</div>"
      ]
     },
     "metadata": {
      "application/vnd.databricks.v1+output": {
       "addedWidgets": {},
       "arguments": {},
       "data": "<div>\n<style scoped>\n    .dataframe tbody tr th:only-of-type {\n        vertical-align: middle;\n    }\n\n    .dataframe tbody tr th {\n        vertical-align: top;\n    }\n\n    .dataframe thead th {\n        text-align: right;\n    }\n</style>\n<table border=\"1\" class=\"dataframe\">\n  <thead>\n    <tr style=\"text-align: right;\">\n      <th></th>\n      <th>features</th>\n      <th>number_of_nulls</th>\n    </tr>\n  </thead>\n  <tbody>\n    <tr>\n      <th>0</th>\n      <td>year</td>\n      <td>0</td>\n    </tr>\n    <tr>\n      <th>1</th>\n      <td>month</td>\n      <td>0</td>\n    </tr>\n    <tr>\n      <th>2</th>\n      <td>day_of_week</td>\n      <td>0</td>\n    </tr>\n    <tr>\n      <th>3</th>\n      <td>hour</td>\n      <td>0</td>\n    </tr>\n    <tr>\n      <th>4</th>\n      <td>carrier</td>\n      <td>0</td>\n    </tr>\n    <tr>\n      <th>5</th>\n      <td>holiday</td>\n      <td>0</td>\n    </tr>\n    <tr>\n      <th>6</th>\n      <td>weather_obs_prev</td>\n      <td>6887</td>\n    </tr>\n    <tr>\n      <th>7</th>\n      <td>weather_obs_prev_2</td>\n      <td>11507</td>\n    </tr>\n    <tr>\n      <th>8</th>\n      <td>origin</td>\n      <td>0</td>\n    </tr>\n    <tr>\n      <th>9</th>\n      <td>destination</td>\n      <td>0</td>\n    </tr>\n    <tr>\n      <th>10</th>\n      <td>departure_delay_boolean</td>\n      <td>0</td>\n    </tr>\n    <tr>\n      <th>11</th>\n      <td>planned_time_between_flights</td>\n      <td>35832</td>\n    </tr>\n    <tr>\n      <th>12</th>\n      <td>prev_dep_delayed_confirmed</td>\n      <td>0</td>\n    </tr>\n    <tr>\n      <th>13</th>\n      <td>distance</td>\n      <td>0</td>\n    </tr>\n    <tr>\n      <th>14</th>\n      <td>wnd_angle_prev</td>\n      <td>948847</td>\n    </tr>\n    <tr>\n      <th>15</th>\n      <td>wnd_type_prev</td>\n      <td>6887</td>\n    </tr>\n    <tr>\n      <th>16</th>\n      <td>wnd_speed_prev_2</td>\n      <td>15930</td>\n    </tr>\n    <tr>\n      <th>17</th>\n      <td>wnd_speed_prev</td>\n      <td>11160</td>\n    </tr>\n    <tr>\n      <th>18</th>\n      <td>wnd_cloud_angle_prev</td>\n      <td>6887</td>\n    </tr>\n    <tr>\n      <th>19</th>\n      <td>vis_dist_prev</td>\n      <td>8773</td>\n    </tr>\n    <tr>\n      <th>20</th>\n      <td>vis_dist_prev_2</td>\n      <td>13484</td>\n    </tr>\n    <tr>\n      <th>21</th>\n      <td>vis_var_prev</td>\n      <td>6887</td>\n    </tr>\n    <tr>\n      <th>22</th>\n      <td>tmp_c_prev</td>\n      <td>9045</td>\n    </tr>\n    <tr>\n      <th>23</th>\n      <td>dew_c_prev</td>\n      <td>10557</td>\n    </tr>\n    <tr>\n      <th>24</th>\n      <td>route_delay</td>\n      <td>4</td>\n    </tr>\n    <tr>\n      <th>25</th>\n      <td>origin_arrival_delay</td>\n      <td>0</td>\n    </tr>\n    <tr>\n      <th>26</th>\n      <td>origin_departure_delay</td>\n      <td>0</td>\n    </tr>\n    <tr>\n      <th>27</th>\n      <td>dest_departure_delay</td>\n      <td>0</td>\n    </tr>\n    <tr>\n      <th>28</th>\n      <td>dest_arrival_delay</td>\n      <td>0</td>\n    </tr>\n  </tbody>\n</table>\n</div>",
       "datasetInfos": [],
       "metadata": {},
       "removedWidgets": [],
       "textData": null,
       "type": "htmlSandbox"
      }
     },
     "output_type": "display_data"
    }
   ],
   "source": [
    "# Let's verify if train data has any nulls\n",
    "\n",
    "missing_values_df_train = missing_values(train_df1)\n",
    "\n",
    "missing_values_df2 = pd.DataFrame({\n",
    "                 \"features\": list(missing_values_df_train.columns),\n",
    "                 \"number_of_nulls\": list(missing_values_df_train.iloc[0])})\n",
    "\n",
    "missing_values_df2"
   ]
  },
  {
   "cell_type": "markdown",
   "metadata": {
    "application/vnd.databricks.v1+cell": {
     "inputWidgets": {},
     "nuid": "8526045f-acae-4636-a1b4-3cd7844c3887",
     "showTitle": false,
     "title": ""
    }
   },
   "source": [
    "#### 4.2. Handling Imbalanced data - Undersampling\n",
    "\n",
    "We used undersampling for handling imbalance in data since we have a very large dataset. \n",
    "SMOTE is another method to handle imbalanced data and has been implemented in a separate notebook located at: https://adb-6759024569771990.10.azuredatabricks.net/?o=6759024569771990#notebook/671119174920056/command/671119174920058"
   ]
  },
  {
   "cell_type": "code",
   "execution_count": 0,
   "metadata": {
    "application/vnd.databricks.v1+cell": {
     "inputWidgets": {},
     "nuid": "30e7d005-2449-4daa-9ceb-e0e743d52fdf",
     "showTitle": false,
     "title": ""
    }
   },
   "outputs": [
    {
     "data": {
      "text/html": [
       "<style scoped>\n",
       "  .ansiout {\n",
       "    display: block;\n",
       "    unicode-bidi: embed;\n",
       "    white-space: pre-wrap;\n",
       "    word-wrap: break-word;\n",
       "    word-break: break-all;\n",
       "    font-family: \"Source Code Pro\", \"Menlo\", monospace;;\n",
       "    font-size: 13px;\n",
       "    color: #555;\n",
       "    margin-left: 4px;\n",
       "    line-height: 19px;\n",
       "  }\n",
       "</style>\n",
       "<div class=\"ansiout\"></div>"
      ]
     },
     "metadata": {
      "application/vnd.databricks.v1+output": {
       "addedWidgets": {},
       "arguments": {},
       "data": "<div class=\"ansiout\"></div>",
       "datasetInfos": [],
       "metadata": {},
       "removedWidgets": [],
       "type": "html"
      }
     },
     "output_type": "display_data"
    }
   ],
   "source": [
    "# Display proportion of labeled class\n",
    "  \n",
    "def get_proportion_labels(df):\n",
    "  '''Function to display proportion of labeled class'''\n",
    "  if verbose:\n",
    "    print(\"In method - get_proportion_labels - displaying proportion of labeled class\")\n",
    "    print(display(df.groupby('departure_delay_boolean').count()))\n",
    "  \n",
    "  positive = df.filter(df.departure_delay_boolean == 1).count()\n",
    "  negative = df.filter(df.departure_delay_boolean == 0).count()\n",
    "  total = negative + positive\n",
    "  if total == 0:\n",
    "    raise Exception(\"No records found!\")\n",
    "  \n",
    "  if positive == 0:\n",
    "    raise Exception(\"No positive records found!\")\n",
    "  \n",
    "  if negative == 0:\n",
    "    raise Exception(\"No negative records found!\")\n",
    "    \n",
    "  # there is a risk that the positive/negative classes are so imbalanced that they are non existent in the df\n",
    "  # so we should guard against that case in order to avoid throwing div by 0\n",
    "  np = -1 if positive == 0 else 1.0 * negative/positive\n",
    "  pn = -1 if negative == 0 else 1.0 * positive/negative\n",
    "  \n",
    "  return 1.0 * positive/total, 1.0 * negative/total, pn, np"
   ]
  },
  {
   "cell_type": "code",
   "execution_count": 0,
   "metadata": {
    "application/vnd.databricks.v1+cell": {
     "inputWidgets": {},
     "nuid": "f2de60fa-c543-46c3-bfdb-59718849202c",
     "showTitle": false,
     "title": ""
    }
   },
   "outputs": [
    {
     "data": {
      "text/html": [
       "<style scoped>\n",
       "  .ansiout {\n",
       "    display: block;\n",
       "    unicode-bidi: embed;\n",
       "    white-space: pre-wrap;\n",
       "    word-wrap: break-word;\n",
       "    word-break: break-all;\n",
       "    font-family: \"Source Code Pro\", \"Menlo\", monospace;;\n",
       "    font-size: 13px;\n",
       "    color: #555;\n",
       "    margin-left: 4px;\n",
       "    line-height: 19px;\n",
       "  }\n",
       "</style>\n",
       "<div class=\"ansiout\"></div>"
      ]
     },
     "metadata": {
      "application/vnd.databricks.v1+output": {
       "addedWidgets": {},
       "arguments": {},
       "data": "<div class=\"ansiout\"></div>",
       "datasetInfos": [],
       "metadata": {},
       "removedWidgets": [],
       "type": "html"
      }
     },
     "output_type": "display_data"
    }
   ],
   "source": [
    "# downsample majority class dataset (i.e on-time flight data) to balance and match minority class dataset(i.e. delayed flights)\n",
    "\n",
    "def downsample(df, min_major_class_ratio, alpha=0.99):\n",
    "  '''Function to implement undersampling logic'''\n",
    "  if min_major_class_ratio == -1:\n",
    "    # assign default value to reduce the majority class by half\n",
    "    min_major_class_ratio = 0.5\n",
    "    print(\"In method downsample: Warning - reset min_major_class_ratio to default: {}\".format(min_major_class_ratio))\n",
    "    \n",
    "  if verbose:\n",
    "    print(\"Starting to downsample, negative class has {} rows and positive class has {} rows\".format(df.filter(df.departure_delay_boolean == 0).count(), df.filter(df.departure_delay_boolean == 1).count()))\n",
    "    \n",
    "  negative = df.filter(df.departure_delay_boolean == 0).sample(False, min_major_class_ratio * alpha, seed=2021)\n",
    "  positive = df.filter(df.departure_delay_boolean == 1)\n",
    "  \n",
    "  new_df = positive.union(negative).cache()\n",
    "  if verbose:\n",
    "    negative = new_df.filter(new_df.departure_delay_boolean ==0).count()\n",
    "    positive = new_df.filter(new_df.departure_delay_boolean ==1).count()\n",
    "    print(\"After downsampling, negative class has {} rows and positive class has {} rows\".format(negative, positive))\n",
    "  \n",
    "  return new_df\n"
   ]
  },
  {
   "cell_type": "code",
   "execution_count": 0,
   "metadata": {
    "application/vnd.databricks.v1+cell": {
     "inputWidgets": {},
     "nuid": "70760800-8817-473d-ad5a-2679bb51e8d9",
     "showTitle": false,
     "title": ""
    }
   },
   "outputs": [
    {
     "data": {
      "text/html": [
       "<style scoped>\n",
       "  .ansiout {\n",
       "    display: block;\n",
       "    unicode-bidi: embed;\n",
       "    white-space: pre-wrap;\n",
       "    word-wrap: break-word;\n",
       "    word-break: break-all;\n",
       "    font-family: \"Source Code Pro\", \"Menlo\", monospace;;\n",
       "    font-size: 13px;\n",
       "    color: #555;\n",
       "    margin-left: 4px;\n",
       "    line-height: 19px;\n",
       "  }\n",
       "</style>\n",
       "<div class=\"ansiout\">In method - get_proportion_labels - displaying proportion of labeled class\n",
       "</div>"
      ]
     },
     "metadata": {
      "application/vnd.databricks.v1+output": {
       "addedWidgets": {},
       "arguments": {},
       "data": "<div class=\"ansiout\">In method - get_proportion_labels - displaying proportion of labeled class\n</div>",
       "datasetInfos": [],
       "metadata": {},
       "removedWidgets": [],
       "type": "html"
      }
     },
     "output_type": "display_data"
    },
    {
     "data": {
      "text/html": [
       "<style scoped>\n",
       "  .table-result-container {\n",
       "    max-height: 300px;\n",
       "    overflow: auto;\n",
       "  }\n",
       "  table, th, td {\n",
       "    border: 1px solid black;\n",
       "    border-collapse: collapse;\n",
       "  }\n",
       "  th, td {\n",
       "    padding: 5px;\n",
       "  }\n",
       "  th {\n",
       "    text-align: left;\n",
       "  }\n",
       "</style><div class='table-result-container'><table class='table-result'><thead style='background-color: white'><tr><th>departure_delay_boolean</th><th>count</th></tr></thead><tbody><tr><td>0.0</td><td>5241720</td></tr><tr><td>1.0</td><td>1266116</td></tr></tbody></table></div>"
      ]
     },
     "metadata": {
      "application/vnd.databricks.v1+output": {
       "addedWidgets": {},
       "aggData": [],
       "aggError": "",
       "aggOverflow": false,
       "aggSchema": [],
       "aggSeriesLimitReached": false,
       "aggType": "",
       "arguments": {},
       "columnCustomDisplayInfos": {},
       "data": [
        [
         0,
         5241720
        ],
        [
         1,
         1266116
        ]
       ],
       "datasetInfos": [],
       "dbfsResultPath": null,
       "isJsonSchema": true,
       "metadata": {},
       "overflow": false,
       "plotOptions": {
        "customPlotOptions": {},
        "displayType": "table",
        "pivotAggregation": null,
        "pivotColumns": null,
        "xColumns": null,
        "yColumns": null
       },
       "removedWidgets": [],
       "schema": [
        {
         "metadata": "{}",
         "name": "departure_delay_boolean",
         "type": "\"double\""
        },
        {
         "metadata": "{}",
         "name": "count",
         "type": "\"long\""
        }
       ],
       "type": "table"
      }
     },
     "output_type": "display_data"
    },
    {
     "data": {
      "text/html": [
       "<style scoped>\n",
       "  .ansiout {\n",
       "    display: block;\n",
       "    unicode-bidi: embed;\n",
       "    white-space: pre-wrap;\n",
       "    word-wrap: break-word;\n",
       "    word-break: break-all;\n",
       "    font-family: \"Source Code Pro\", \"Menlo\", monospace;;\n",
       "    font-size: 13px;\n",
       "    color: #555;\n",
       "    margin-left: 4px;\n",
       "    line-height: 19px;\n",
       "  }\n",
       "</style>\n",
       "<div class=\"ansiout\">None\n",
       "Starting to downsample, negative class has 5241720 rows and positive class has 1266116 rows\n",
       "After downsampling, negative class has 1253874 rows and positive class has 1266116 rows\n",
       "In method - get_proportion_labels - displaying proportion of labeled class\n",
       "</div>"
      ]
     },
     "metadata": {
      "application/vnd.databricks.v1+output": {
       "addedWidgets": {},
       "arguments": {},
       "data": "<div class=\"ansiout\">None\nStarting to downsample, negative class has 5241720 rows and positive class has 1266116 rows\nAfter downsampling, negative class has 1253874 rows and positive class has 1266116 rows\nIn method - get_proportion_labels - displaying proportion of labeled class\n</div>",
       "datasetInfos": [],
       "metadata": {},
       "removedWidgets": [],
       "type": "html"
      }
     },
     "output_type": "display_data"
    },
    {
     "data": {
      "text/html": [
       "<style scoped>\n",
       "  .table-result-container {\n",
       "    max-height: 300px;\n",
       "    overflow: auto;\n",
       "  }\n",
       "  table, th, td {\n",
       "    border: 1px solid black;\n",
       "    border-collapse: collapse;\n",
       "  }\n",
       "  th, td {\n",
       "    padding: 5px;\n",
       "  }\n",
       "  th {\n",
       "    text-align: left;\n",
       "  }\n",
       "</style><div class='table-result-container'><table class='table-result'><thead style='background-color: white'><tr><th>departure_delay_boolean</th><th>count</th></tr></thead><tbody><tr><td>0.0</td><td>10557383</td></tr><tr><td>1.0</td><td>2458315</td></tr></tbody></table></div>"
      ]
     },
     "metadata": {
      "application/vnd.databricks.v1+output": {
       "addedWidgets": {},
       "aggData": [],
       "aggError": "",
       "aggOverflow": false,
       "aggSchema": [],
       "aggSeriesLimitReached": false,
       "aggType": "",
       "arguments": {},
       "columnCustomDisplayInfos": {},
       "data": [
        [
         0,
         10557383
        ],
        [
         1,
         2458315
        ]
       ],
       "datasetInfos": [],
       "dbfsResultPath": null,
       "isJsonSchema": true,
       "metadata": {},
       "overflow": false,
       "plotOptions": {
        "customPlotOptions": {},
        "displayType": "table",
        "pivotAggregation": null,
        "pivotColumns": null,
        "xColumns": null,
        "yColumns": null
       },
       "removedWidgets": [],
       "schema": [
        {
         "metadata": "{}",
         "name": "departure_delay_boolean",
         "type": "\"double\""
        },
        {
         "metadata": "{}",
         "name": "count",
         "type": "\"long\""
        }
       ],
       "type": "table"
      }
     },
     "output_type": "display_data"
    },
    {
     "data": {
      "text/html": [
       "<style scoped>\n",
       "  .ansiout {\n",
       "    display: block;\n",
       "    unicode-bidi: embed;\n",
       "    white-space: pre-wrap;\n",
       "    word-wrap: break-word;\n",
       "    word-break: break-all;\n",
       "    font-family: \"Source Code Pro\", \"Menlo\", monospace;;\n",
       "    font-size: 13px;\n",
       "    color: #555;\n",
       "    margin-left: 4px;\n",
       "    line-height: 19px;\n",
       "  }\n",
       "</style>\n",
       "<div class=\"ansiout\">None\n",
       "Starting to downsample, negative class has 10557383 rows and positive class has 2458315 rows\n",
       "After downsampling, negative class has 2437088 rows and positive class has 2458315 rows\n",
       "In method - get_proportion_labels - displaying proportion of labeled class\n",
       "</div>"
      ]
     },
     "metadata": {
      "application/vnd.databricks.v1+output": {
       "addedWidgets": {},
       "arguments": {},
       "data": "<div class=\"ansiout\">None\nStarting to downsample, negative class has 10557383 rows and positive class has 2458315 rows\nAfter downsampling, negative class has 2437088 rows and positive class has 2458315 rows\nIn method - get_proportion_labels - displaying proportion of labeled class\n</div>",
       "datasetInfos": [],
       "metadata": {},
       "removedWidgets": [],
       "type": "html"
      }
     },
     "output_type": "display_data"
    },
    {
     "data": {
      "text/html": [
       "<style scoped>\n",
       "  .table-result-container {\n",
       "    max-height: 300px;\n",
       "    overflow: auto;\n",
       "  }\n",
       "  table, th, td {\n",
       "    border: 1px solid black;\n",
       "    border-collapse: collapse;\n",
       "  }\n",
       "  th, td {\n",
       "    padding: 5px;\n",
       "  }\n",
       "  th {\n",
       "    text-align: left;\n",
       "  }\n",
       "</style><div class='table-result-container'><table class='table-result'><thead style='background-color: white'><tr><th>departure_delay_boolean</th><th>count</th></tr></thead><tbody><tr><td>0.0</td><td>15812582</td></tr><tr><td>1.0</td><td>3708943</td></tr><tr><td>null</td><td>2011</td></tr></tbody></table></div>"
      ]
     },
     "metadata": {
      "application/vnd.databricks.v1+output": {
       "addedWidgets": {},
       "aggData": [],
       "aggError": "",
       "aggOverflow": false,
       "aggSchema": [],
       "aggSeriesLimitReached": false,
       "aggType": "",
       "arguments": {},
       "columnCustomDisplayInfos": {},
       "data": [
        [
         0,
         15812582
        ],
        [
         1,
         3708943
        ],
        [
         null,
         2011
        ]
       ],
       "datasetInfos": [],
       "dbfsResultPath": null,
       "isJsonSchema": true,
       "metadata": {},
       "overflow": false,
       "plotOptions": {
        "customPlotOptions": {},
        "displayType": "table",
        "pivotAggregation": null,
        "pivotColumns": null,
        "xColumns": null,
        "yColumns": null
       },
       "removedWidgets": [],
       "schema": [
        {
         "metadata": "{}",
         "name": "departure_delay_boolean",
         "type": "\"double\""
        },
        {
         "metadata": "{}",
         "name": "count",
         "type": "\"long\""
        }
       ],
       "type": "table"
      }
     },
     "output_type": "display_data"
    },
    {
     "data": {
      "text/html": [
       "<style scoped>\n",
       "  .ansiout {\n",
       "    display: block;\n",
       "    unicode-bidi: embed;\n",
       "    white-space: pre-wrap;\n",
       "    word-wrap: break-word;\n",
       "    word-break: break-all;\n",
       "    font-family: \"Source Code Pro\", \"Menlo\", monospace;;\n",
       "    font-size: 13px;\n",
       "    color: #555;\n",
       "    margin-left: 4px;\n",
       "    line-height: 19px;\n",
       "  }\n",
       "</style>\n",
       "<div class=\"ansiout\">None\n",
       "Starting to downsample, negative class has 15812582 rows and positive class has 3708943 rows\n",
       "After downsampling, negative class has 3674682 rows and positive class has 3708943 rows\n",
       "In method - get_proportion_labels - displaying proportion of labeled class\n",
       "</div>"
      ]
     },
     "metadata": {
      "application/vnd.databricks.v1+output": {
       "addedWidgets": {},
       "arguments": {},
       "data": "<div class=\"ansiout\">None\nStarting to downsample, negative class has 15812582 rows and positive class has 3708943 rows\nAfter downsampling, negative class has 3674682 rows and positive class has 3708943 rows\nIn method - get_proportion_labels - displaying proportion of labeled class\n</div>",
       "datasetInfos": [],
       "metadata": {},
       "removedWidgets": [],
       "type": "html"
      }
     },
     "output_type": "display_data"
    },
    {
     "data": {
      "text/html": [
       "<style scoped>\n",
       "  .table-result-container {\n",
       "    max-height: 300px;\n",
       "    overflow: auto;\n",
       "  }\n",
       "  table, th, td {\n",
       "    border: 1px solid black;\n",
       "    border-collapse: collapse;\n",
       "  }\n",
       "  th, td {\n",
       "    padding: 5px;\n",
       "  }\n",
       "  th {\n",
       "    text-align: left;\n",
       "  }\n",
       "</style><div class='table-result-container'><table class='table-result'><thead style='background-color: white'><tr><th>departure_delay_boolean</th><th>count</th></tr></thead><tbody><tr><td>0.0</td><td>21008863</td></tr><tr><td>1.0</td><td>5017444</td></tr><tr><td>null</td><td>5032</td></tr></tbody></table></div>"
      ]
     },
     "metadata": {
      "application/vnd.databricks.v1+output": {
       "addedWidgets": {},
       "aggData": [],
       "aggError": "",
       "aggOverflow": false,
       "aggSchema": [],
       "aggSeriesLimitReached": false,
       "aggType": "",
       "arguments": {},
       "columnCustomDisplayInfos": {},
       "data": [
        [
         0,
         21008863
        ],
        [
         1,
         5017444
        ],
        [
         null,
         5032
        ]
       ],
       "datasetInfos": [],
       "dbfsResultPath": null,
       "isJsonSchema": true,
       "metadata": {},
       "overflow": false,
       "plotOptions": {
        "customPlotOptions": {},
        "displayType": "table",
        "pivotAggregation": null,
        "pivotColumns": null,
        "xColumns": null,
        "yColumns": null
       },
       "removedWidgets": [],
       "schema": [
        {
         "metadata": "{}",
         "name": "departure_delay_boolean",
         "type": "\"double\""
        },
        {
         "metadata": "{}",
         "name": "count",
         "type": "\"long\""
        }
       ],
       "type": "table"
      }
     },
     "output_type": "display_data"
    },
    {
     "data": {
      "text/html": [
       "<style scoped>\n",
       "  .ansiout {\n",
       "    display: block;\n",
       "    unicode-bidi: embed;\n",
       "    white-space: pre-wrap;\n",
       "    word-wrap: break-word;\n",
       "    word-break: break-all;\n",
       "    font-family: \"Source Code Pro\", \"Menlo\", monospace;;\n",
       "    font-size: 13px;\n",
       "    color: #555;\n",
       "    margin-left: 4px;\n",
       "    line-height: 19px;\n",
       "  }\n",
       "</style>\n",
       "<div class=\"ansiout\">None\n",
       "Starting to downsample, negative class has 21008863 rows and positive class has 5017444 rows\n",
       "After downsampling, negative class has 4969137 rows and positive class has 5017444 rows\n",
       "</div>"
      ]
     },
     "metadata": {
      "application/vnd.databricks.v1+output": {
       "addedWidgets": {},
       "arguments": {},
       "data": "<div class=\"ansiout\">None\nStarting to downsample, negative class has 21008863 rows and positive class has 5017444 rows\nAfter downsampling, negative class has 4969137 rows and positive class has 5017444 rows\n</div>",
       "datasetInfos": [],
       "metadata": {},
       "removedWidgets": [],
       "type": "html"
      }
     },
     "output_type": "display_data"
    }
   ],
   "source": [
    "# Assigning downsampled training dataset to be used further for modeling\n",
    "train_df_downsampled_list = []\n",
    "for index in range(len(train_df_list)):\n",
    "  verbose = True\n",
    "  pt, nt, pn, np = get_proportion_labels(train_df_list[index])\n",
    "  train_df_downsampled = downsample(train_df_list[index], pn)\n",
    "  train_df_downsampled_list.append(train_df_downsampled)\n"
   ]
  },
  {
   "cell_type": "code",
   "execution_count": 0,
   "metadata": {
    "application/vnd.databricks.v1+cell": {
     "inputWidgets": {},
     "nuid": "1b1cf7d7-7534-467b-af4a-02514d8db6f1",
     "showTitle": false,
     "title": ""
    }
   },
   "outputs": [
    {
     "data": {
      "text/html": [
       "<style scoped>\n",
       "  .ansiout {\n",
       "    display: block;\n",
       "    unicode-bidi: embed;\n",
       "    white-space: pre-wrap;\n",
       "    word-wrap: break-word;\n",
       "    word-break: break-all;\n",
       "    font-family: \"Source Code Pro\", \"Menlo\", monospace;;\n",
       "    font-size: 13px;\n",
       "    color: #555;\n",
       "    margin-left: 4px;\n",
       "    line-height: 19px;\n",
       "  }\n",
       "</style>\n",
       "<div class=\"ansiout\"></div>"
      ]
     },
     "metadata": {
      "application/vnd.databricks.v1+output": {
       "addedWidgets": {},
       "arguments": {},
       "data": "<div class=\"ansiout\"></div>",
       "datasetInfos": [],
       "metadata": {},
       "removedWidgets": [],
       "type": "html"
      }
     },
     "output_type": "display_data"
    }
   ],
   "source": [
    "# writing all 4 downsampled train dataframes from cross validation set\n",
    "train_df_downsampled_list[0].write.mode('overwrite').parquet(f\"{blob_url}/model_train_data_cv_02\")\n",
    "train_df_downsampled_list[1].write.mode('overwrite').parquet(f\"{blob_url}/model_train_data_cv_04\")\n",
    "train_df_downsampled_list[2].write.mode('overwrite').parquet(f\"{blob_url}/model_train_data_cv_06\")\n",
    "train_df_downsampled_list[3].write.mode('overwrite').parquet(f\"{blob_url}/model_train_data_cv_08\")\n"
   ]
  },
  {
   "cell_type": "code",
   "execution_count": 0,
   "metadata": {
    "application/vnd.databricks.v1+cell": {
     "inputWidgets": {},
     "nuid": "2e4f1788-99b3-4246-b0d4-1a62692e05f5",
     "showTitle": false,
     "title": ""
    }
   },
   "outputs": [
    {
     "data": {
      "text/html": [
       "<style scoped>\n",
       "  .ansiout {\n",
       "    display: block;\n",
       "    unicode-bidi: embed;\n",
       "    white-space: pre-wrap;\n",
       "    word-wrap: break-word;\n",
       "    word-break: break-all;\n",
       "    font-family: \"Source Code Pro\", \"Menlo\", monospace;;\n",
       "    font-size: 13px;\n",
       "    color: #555;\n",
       "    margin-left: 4px;\n",
       "    line-height: 19px;\n",
       "  }\n",
       "</style>\n",
       "<div class=\"ansiout\"></div>"
      ]
     },
     "metadata": {
      "application/vnd.databricks.v1+output": {
       "addedWidgets": {},
       "arguments": {},
       "data": "<div class=\"ansiout\"></div>",
       "datasetInfos": [],
       "metadata": {},
       "removedWidgets": [],
       "type": "html"
      }
     },
     "output_type": "display_data"
    }
   ],
   "source": [
    "# writing all 4 test dataframes from cross validation set\n",
    "test_df_list[0].write.mode('overwrite').parquet(f\"{blob_url}/model_test_data_cv_02\")\n",
    "test_df_list[1].write.mode('overwrite').parquet(f\"{blob_url}/model_test_data_cv_04\")\n",
    "test_df_list[2].write.mode('overwrite').parquet(f\"{blob_url}/model_test_data_cv_06\")\n",
    "test_df_list[3].write.mode('overwrite').parquet(f\"{blob_url}/model_test_data_cv_08\")"
   ]
  },
  {
   "cell_type": "code",
   "execution_count": 0,
   "metadata": {
    "application/vnd.databricks.v1+cell": {
     "inputWidgets": {},
     "nuid": "06a6563a-360f-4595-9481-d11656f3d8e9",
     "showTitle": false,
     "title": ""
    }
   },
   "outputs": [
    {
     "data": {
      "text/html": [
       "<style scoped>\n",
       "  .ansiout {\n",
       "    display: block;\n",
       "    unicode-bidi: embed;\n",
       "    white-space: pre-wrap;\n",
       "    word-wrap: break-word;\n",
       "    word-break: break-all;\n",
       "    font-family: \"Source Code Pro\", \"Menlo\", monospace;;\n",
       "    font-size: 13px;\n",
       "    color: #555;\n",
       "    margin-left: 4px;\n",
       "    line-height: 19px;\n",
       "  }\n",
       "</style>\n",
       "<div class=\"ansiout\">Checking downsample, negative class has 1253874 rows and positive class has 1266116 rows\n",
       "</div>"
      ]
     },
     "metadata": {
      "application/vnd.databricks.v1+output": {
       "addedWidgets": {},
       "arguments": {},
       "data": "<div class=\"ansiout\">Checking downsample, negative class has 1253874 rows and positive class has 1266116 rows\n</div>",
       "datasetInfos": [],
       "metadata": {},
       "removedWidgets": [],
       "type": "html"
      }
     },
     "output_type": "display_data"
    }
   ],
   "source": [
    "print(\"Checking downsample, negative class has {} rows and positive class has {} rows\".format(train_df_downsampled_list[0].filter(train_df_downsampled_list[0].departure_delay_boolean == 0).count(), train_df_downsampled_list[0].filter(train_df_downsampled_list[0].departure_delay_boolean == 1).count()))\n"
   ]
  },
  {
   "cell_type": "code",
   "execution_count": 0,
   "metadata": {
    "application/vnd.databricks.v1+cell": {
     "inputWidgets": {},
     "nuid": "281dbb9c-7e57-43a9-8eb0-2a67230406a3",
     "showTitle": false,
     "title": ""
    }
   },
   "outputs": [
    {
     "data": {
      "text/html": [
       "<style scoped>\n",
       "  .ansiout {\n",
       "    display: block;\n",
       "    unicode-bidi: embed;\n",
       "    white-space: pre-wrap;\n",
       "    word-wrap: break-word;\n",
       "    word-break: break-all;\n",
       "    font-family: \"Source Code Pro\", \"Menlo\", monospace;;\n",
       "    font-size: 13px;\n",
       "    color: #555;\n",
       "    margin-left: 4px;\n",
       "    line-height: 19px;\n",
       "  }\n",
       "</style>\n",
       "<div class=\"ansiout\"></div>"
      ]
     },
     "metadata": {
      "application/vnd.databricks.v1+output": {
       "addedWidgets": {},
       "arguments": {},
       "data": "<div class=\"ansiout\"></div>",
       "datasetInfos": [],
       "metadata": {},
       "removedWidgets": [],
       "type": "html"
      }
     },
     "output_type": "display_data"
    }
   ],
   "source": [
    "# Reading train and test data\n",
    "#'''\n",
    "train_df_downsampled_list = []\n",
    "train_df_downsampled_list.append(spark.read.parquet(f\"{blob_url}/model_train_data_cv_02/*\"))\n",
    "train_df_downsampled_list.append(spark.read.parquet(f\"{blob_url}/model_train_data_cv_04/*\"))\n",
    "train_df_downsampled_list.append(spark.read.parquet(f\"{blob_url}/model_train_data_cv_06/*\"))\n",
    "train_df_downsampled_list.append(spark.read.parquet(f\"{blob_url}/model_train_data_cv_08/*\"))\n",
    "\n",
    "test_df_list = []\n",
    "test_df_list.append(spark.read.parquet(f\"{blob_url}/model_test_data_cv_02/*\"))\n",
    "test_df_list.append(spark.read.parquet(f\"{blob_url}/model_test_data_cv_04/*\"))\n",
    "test_df_list.append(spark.read.parquet(f\"{blob_url}/model_test_data_cv_06/*\"))\n",
    "test_df_list.append(spark.read.parquet(f\"{blob_url}/model_test_data_cv_08/*\"))\n",
    "\n",
    "#'''"
   ]
  },
  {
   "cell_type": "code",
   "execution_count": 0,
   "metadata": {
    "application/vnd.databricks.v1+cell": {
     "inputWidgets": {},
     "nuid": "e1a15935-2fe1-4fa1-b542-cfe360ec3e15",
     "showTitle": false,
     "title": ""
    }
   },
   "outputs": [
    {
     "data": {
      "text/html": [
       "<style scoped>\n",
       "  .ansiout {\n",
       "    display: block;\n",
       "    unicode-bidi: embed;\n",
       "    white-space: pre-wrap;\n",
       "    word-wrap: break-word;\n",
       "    word-break: break-all;\n",
       "    font-family: \"Source Code Pro\", \"Menlo\", monospace;;\n",
       "    font-size: 13px;\n",
       "    color: #555;\n",
       "    margin-left: 4px;\n",
       "    line-height: 19px;\n",
       "  }\n",
       "</style>\n",
       "<div class=\"ansiout\">Checking downsample, negative class has 1253874 rows and positive class has 1266116 rows\n",
       "</div>"
      ]
     },
     "metadata": {
      "application/vnd.databricks.v1+output": {
       "addedWidgets": {},
       "arguments": {},
       "data": "<div class=\"ansiout\">Checking downsample, negative class has 1253874 rows and positive class has 1266116 rows\n</div>",
       "datasetInfos": [],
       "metadata": {},
       "removedWidgets": [],
       "type": "html"
      }
     },
     "output_type": "display_data"
    }
   ],
   "source": [
    "print(\"Checking downsample, negative class has {} rows and positive class has {} rows\".format(train_df_downsampled_list[0].filter(train_df_downsampled_list[0].departure_delay_boolean == 0).count(), train_df_downsampled_list[0].filter(train_df_downsampled_list[0].departure_delay_boolean == 1).count()))"
   ]
  },
  {
   "cell_type": "code",
   "execution_count": 0,
   "metadata": {
    "application/vnd.databricks.v1+cell": {
     "inputWidgets": {},
     "nuid": "e8b85094-2716-4928-9144-e6663a9a75d6",
     "showTitle": false,
     "title": ""
    }
   },
   "outputs": [
    {
     "data": {
      "text/html": [
       "<style scoped>\n",
       "  .ansiout {\n",
       "    display: block;\n",
       "    unicode-bidi: embed;\n",
       "    white-space: pre-wrap;\n",
       "    word-wrap: break-word;\n",
       "    word-break: break-all;\n",
       "    font-family: \"Source Code Pro\", \"Menlo\", monospace;;\n",
       "    font-size: 13px;\n",
       "    color: #555;\n",
       "    margin-left: 4px;\n",
       "    line-height: 19px;\n",
       "  }\n",
       "</style>\n",
       "<div class=\"ansiout\">index 0\n",
       "\n",
       "----Categorical columns train-----\n",
       "[&#39;year&#39;, &#39;month&#39;, &#39;day_of_week&#39;, &#39;hour&#39;, &#39;carrier&#39;, &#39;holiday&#39;, &#39;weather_obs_prev&#39;, &#39;weather_obs_prev_2&#39;, &#39;origin&#39;, &#39;destination&#39;, &#39;prev_dep_delayed_confirmed&#39;, &#39;wnd_type_prev&#39;, &#39;vis_var_prev&#39;]\n",
       "\n",
       "----Numeric columns train-----\n",
       "[&#39;planned_time_between_flights&#39;, &#39;distance&#39;, &#39;wnd_angle_prev&#39;, &#39;wnd_speed_prev_2&#39;, &#39;wnd_speed_prev&#39;, &#39;wnd_cloud_angle_prev&#39;, &#39;vis_dist_prev&#39;, &#39;vis_dist_prev_2&#39;, &#39;tmp_c_prev&#39;, &#39;dew_c_prev&#39;, &#39;route_delay&#39;, &#39;origin_arrival_delay&#39;, &#39;origin_departure_delay&#39;, &#39;dest_departure_delay&#39;, &#39;dest_arrival_delay&#39;]\n",
       "index 1\n",
       "\n",
       "----Categorical columns train-----\n",
       "[&#39;year&#39;, &#39;month&#39;, &#39;day_of_week&#39;, &#39;hour&#39;, &#39;carrier&#39;, &#39;holiday&#39;, &#39;weather_obs_prev&#39;, &#39;weather_obs_prev_2&#39;, &#39;origin&#39;, &#39;destination&#39;, &#39;prev_dep_delayed_confirmed&#39;, &#39;wnd_type_prev&#39;, &#39;vis_var_prev&#39;]\n",
       "\n",
       "----Numeric columns train-----\n",
       "[&#39;planned_time_between_flights&#39;, &#39;distance&#39;, &#39;wnd_angle_prev&#39;, &#39;wnd_speed_prev_2&#39;, &#39;wnd_speed_prev&#39;, &#39;wnd_cloud_angle_prev&#39;, &#39;vis_dist_prev&#39;, &#39;vis_dist_prev_2&#39;, &#39;tmp_c_prev&#39;, &#39;dew_c_prev&#39;, &#39;route_delay&#39;, &#39;origin_arrival_delay&#39;, &#39;origin_departure_delay&#39;, &#39;dest_departure_delay&#39;, &#39;dest_arrival_delay&#39;]\n",
       "index 2\n",
       "\n",
       "----Categorical columns train-----\n",
       "[&#39;year&#39;, &#39;month&#39;, &#39;day_of_week&#39;, &#39;hour&#39;, &#39;carrier&#39;, &#39;holiday&#39;, &#39;weather_obs_prev&#39;, &#39;weather_obs_prev_2&#39;, &#39;origin&#39;, &#39;destination&#39;, &#39;prev_dep_delayed_confirmed&#39;, &#39;wnd_type_prev&#39;, &#39;vis_var_prev&#39;]\n",
       "\n",
       "----Numeric columns train-----\n",
       "[&#39;planned_time_between_flights&#39;, &#39;distance&#39;, &#39;wnd_angle_prev&#39;, &#39;wnd_speed_prev_2&#39;, &#39;wnd_speed_prev&#39;, &#39;wnd_cloud_angle_prev&#39;, &#39;vis_dist_prev&#39;, &#39;vis_dist_prev_2&#39;, &#39;tmp_c_prev&#39;, &#39;dew_c_prev&#39;, &#39;route_delay&#39;, &#39;origin_arrival_delay&#39;, &#39;origin_departure_delay&#39;, &#39;dest_departure_delay&#39;, &#39;dest_arrival_delay&#39;]\n",
       "index 3\n",
       "\n",
       "----Categorical columns train-----\n",
       "[&#39;year&#39;, &#39;month&#39;, &#39;day_of_week&#39;, &#39;hour&#39;, &#39;carrier&#39;, &#39;holiday&#39;, &#39;weather_obs_prev&#39;, &#39;weather_obs_prev_2&#39;, &#39;origin&#39;, &#39;destination&#39;, &#39;prev_dep_delayed_confirmed&#39;, &#39;wnd_type_prev&#39;, &#39;vis_var_prev&#39;]\n",
       "\n",
       "----Numeric columns train-----\n",
       "[&#39;planned_time_between_flights&#39;, &#39;distance&#39;, &#39;wnd_angle_prev&#39;, &#39;wnd_speed_prev_2&#39;, &#39;wnd_speed_prev&#39;, &#39;wnd_cloud_angle_prev&#39;, &#39;vis_dist_prev&#39;, &#39;vis_dist_prev_2&#39;, &#39;tmp_c_prev&#39;, &#39;dew_c_prev&#39;, &#39;route_delay&#39;, &#39;origin_arrival_delay&#39;, &#39;origin_departure_delay&#39;, &#39;dest_departure_delay&#39;, &#39;dest_arrival_delay&#39;]\n",
       "</div>"
      ]
     },
     "metadata": {
      "application/vnd.databricks.v1+output": {
       "addedWidgets": {},
       "arguments": {},
       "data": "<div class=\"ansiout\">index 0\n\n----Categorical columns train-----\n[&#39;year&#39;, &#39;month&#39;, &#39;day_of_week&#39;, &#39;hour&#39;, &#39;carrier&#39;, &#39;holiday&#39;, &#39;weather_obs_prev&#39;, &#39;weather_obs_prev_2&#39;, &#39;origin&#39;, &#39;destination&#39;, &#39;prev_dep_delayed_confirmed&#39;, &#39;wnd_type_prev&#39;, &#39;vis_var_prev&#39;]\n\n----Numeric columns train-----\n[&#39;planned_time_between_flights&#39;, &#39;distance&#39;, &#39;wnd_angle_prev&#39;, &#39;wnd_speed_prev_2&#39;, &#39;wnd_speed_prev&#39;, &#39;wnd_cloud_angle_prev&#39;, &#39;vis_dist_prev&#39;, &#39;vis_dist_prev_2&#39;, &#39;tmp_c_prev&#39;, &#39;dew_c_prev&#39;, &#39;route_delay&#39;, &#39;origin_arrival_delay&#39;, &#39;origin_departure_delay&#39;, &#39;dest_departure_delay&#39;, &#39;dest_arrival_delay&#39;]\nindex 1\n\n----Categorical columns train-----\n[&#39;year&#39;, &#39;month&#39;, &#39;day_of_week&#39;, &#39;hour&#39;, &#39;carrier&#39;, &#39;holiday&#39;, &#39;weather_obs_prev&#39;, &#39;weather_obs_prev_2&#39;, &#39;origin&#39;, &#39;destination&#39;, &#39;prev_dep_delayed_confirmed&#39;, &#39;wnd_type_prev&#39;, &#39;vis_var_prev&#39;]\n\n----Numeric columns train-----\n[&#39;planned_time_between_flights&#39;, &#39;distance&#39;, &#39;wnd_angle_prev&#39;, &#39;wnd_speed_prev_2&#39;, &#39;wnd_speed_prev&#39;, &#39;wnd_cloud_angle_prev&#39;, &#39;vis_dist_prev&#39;, &#39;vis_dist_prev_2&#39;, &#39;tmp_c_prev&#39;, &#39;dew_c_prev&#39;, &#39;route_delay&#39;, &#39;origin_arrival_delay&#39;, &#39;origin_departure_delay&#39;, &#39;dest_departure_delay&#39;, &#39;dest_arrival_delay&#39;]\nindex 2\n\n----Categorical columns train-----\n[&#39;year&#39;, &#39;month&#39;, &#39;day_of_week&#39;, &#39;hour&#39;, &#39;carrier&#39;, &#39;holiday&#39;, &#39;weather_obs_prev&#39;, &#39;weather_obs_prev_2&#39;, &#39;origin&#39;, &#39;destination&#39;, &#39;prev_dep_delayed_confirmed&#39;, &#39;wnd_type_prev&#39;, &#39;vis_var_prev&#39;]\n\n----Numeric columns train-----\n[&#39;planned_time_between_flights&#39;, &#39;distance&#39;, &#39;wnd_angle_prev&#39;, &#39;wnd_speed_prev_2&#39;, &#39;wnd_speed_prev&#39;, &#39;wnd_cloud_angle_prev&#39;, &#39;vis_dist_prev&#39;, &#39;vis_dist_prev_2&#39;, &#39;tmp_c_prev&#39;, &#39;dew_c_prev&#39;, &#39;route_delay&#39;, &#39;origin_arrival_delay&#39;, &#39;origin_departure_delay&#39;, &#39;dest_departure_delay&#39;, &#39;dest_arrival_delay&#39;]\nindex 3\n\n----Categorical columns train-----\n[&#39;year&#39;, &#39;month&#39;, &#39;day_of_week&#39;, &#39;hour&#39;, &#39;carrier&#39;, &#39;holiday&#39;, &#39;weather_obs_prev&#39;, &#39;weather_obs_prev_2&#39;, &#39;origin&#39;, &#39;destination&#39;, &#39;prev_dep_delayed_confirmed&#39;, &#39;wnd_type_prev&#39;, &#39;vis_var_prev&#39;]\n\n----Numeric columns train-----\n[&#39;planned_time_between_flights&#39;, &#39;distance&#39;, &#39;wnd_angle_prev&#39;, &#39;wnd_speed_prev_2&#39;, &#39;wnd_speed_prev&#39;, &#39;wnd_cloud_angle_prev&#39;, &#39;vis_dist_prev&#39;, &#39;vis_dist_prev_2&#39;, &#39;tmp_c_prev&#39;, &#39;dew_c_prev&#39;, &#39;route_delay&#39;, &#39;origin_arrival_delay&#39;, &#39;origin_departure_delay&#39;, &#39;dest_departure_delay&#39;, &#39;dest_arrival_delay&#39;]\n</div>",
       "datasetInfos": [],
       "metadata": {},
       "removedWidgets": [],
       "type": "html"
      }
     },
     "output_type": "display_data"
    }
   ],
   "source": [
    "#Preparing final dataset for modeling\n",
    "\n",
    "from pyspark.ml.feature import (OneHotEncoder, StringIndexer)\n",
    "from pyspark.ml.feature import Imputer\n",
    "from pyspark.ml.feature import StandardScaler\n",
    "from pyspark.ml.feature import VectorAssembler\n",
    "from pyspark.ml import Pipeline\n",
    "\n",
    "# Let's find out the datatype of the features, which will be the same for both train and test data\n",
    "model_data_train_list = []\n",
    "model_data_test_list = []\n",
    "\n",
    "for index in range(len(train_df_downsampled_list)):\n",
    "  print(\"index\", index)\n",
    "  train_df = train_df_downsampled_list[index]\n",
    "  test_df = test_df_list[index]\n",
    "  print(\"\\n----Categorical columns train-----\")\n",
    "  cat_cols = [x for (x, dataType) in train_df.dtypes if dataType == \"string\"]\n",
    "  print(cat_cols)\n",
    "\n",
    "  print(\"\\n----Numeric columns train-----\")\n",
    "  num_cols = [x for (x, dataType) in train_df.dtypes if (((dataType == \"double\") or (dataType == \"int\")) & (x != \"departure_delay_boolean\"))]\n",
    "  print(num_cols)\n",
    "  \n",
    "  # Changes nulls to 9* for cat vars, not have an impact to the rest of the data since one-hot encoding\n",
    "  train_df = train_df.fillna('-999', subset=cat_cols)\n",
    "  test_df = test_df.fillna('-999', subset=cat_cols)\n",
    "\n",
    "\n",
    "  string_indexer = [\n",
    "      StringIndexer(inputCol=x, outputCol=x + \"_StringIndexer\", handleInvalid=\"skip\")\n",
    "      for x in cat_cols\n",
    "  ]\n",
    "\n",
    "  one_hot_encoder = [\n",
    "      OneHotEncoder(\n",
    "          inputCols=[f\"{x}_StringIndexer\" for x in cat_cols],\n",
    "          outputCols=[f\"{x}_OneHotEncoder\" for x in cat_cols],\n",
    "      )\n",
    "  ]\n",
    "\n",
    "  imputer = [\n",
    "        Imputer(inputCol=x, outputCol= x + \"_Imputed\").setStrategy(\"median\")\n",
    "        for x in num_cols\n",
    "  ]\n",
    "\n",
    "  scaler_vector_assembler = VectorAssembler(inputCols = [f\"{x}_Imputed\" for x in num_cols], outputCol=\"numeric_vec\")\n",
    "  scaler_vector_assembler.setHandleInvalid('keep')\n",
    "\n",
    "  scaler = StandardScaler(inputCol=\"numeric_vec\", outputCol=\"scaled_features\")\n",
    "  #Output vector assembler to be used at the modeling step, \n",
    "\n",
    "  assembler_input = [\"scaled_features\"]\n",
    "  assembler_input += [f\"{x}_OneHotEncoder\" for x in cat_cols]\n",
    "\n",
    "  vector_assembler = VectorAssembler(\n",
    "      inputCols=assembler_input, outputCol=\"VectorAssembler_features\"\n",
    "  )\n",
    "\n",
    "  # Pipeline Stages\n",
    "  stages = []\n",
    "  stages += imputer\n",
    "  stages += [scaler_vector_assembler , scaler]\n",
    "  stages += string_indexer\n",
    "  stages += one_hot_encoder\n",
    "  stages += [vector_assembler]\n",
    "\n",
    "  # Setup Pipeline using the stages and train & test data\n",
    "  general_pipeline = Pipeline().setStages(stages)\n",
    "  pipeline_model = general_pipeline.fit(train_df)\n",
    "  model_data_test = pipeline_model.transform(test_df)\n",
    "  model_data_train = pipeline_model.transform(train_df) \n",
    "\n",
    "  # label = departure_delay_boolean, features = VectorAssembler_features\n",
    "  selectedcols = [\"departure_delay_boolean\", \"VectorAssembler_features\"]\n",
    "  model_data_train = model_data_train.select(selectedcols)\n",
    "  model_data_test = model_data_test.select(selectedcols)\n",
    "  \n",
    "  model_data_train_list.append(model_data_train)\n",
    "  model_data_test_list.append(model_data_test)\n"
   ]
  },
  {
   "cell_type": "code",
   "execution_count": 0,
   "metadata": {
    "application/vnd.databricks.v1+cell": {
     "inputWidgets": {},
     "nuid": "742d6c0d-5dc7-4e09-ae5c-cc2b50fb1c0d",
     "showTitle": false,
     "title": ""
    }
   },
   "outputs": [
    {
     "data": {
      "text/html": [
       "<style scoped>\n",
       "  .ansiout {\n",
       "    display: block;\n",
       "    unicode-bidi: embed;\n",
       "    white-space: pre-wrap;\n",
       "    word-wrap: break-word;\n",
       "    word-break: break-all;\n",
       "    font-family: \"Source Code Pro\", \"Menlo\", monospace;;\n",
       "    font-size: 13px;\n",
       "    color: #555;\n",
       "    margin-left: 4px;\n",
       "    line-height: 19px;\n",
       "  }\n",
       "</style>"
      ]
     },
     "metadata": {
      "application/vnd.databricks.v1+output": {
       "arguments": {},
       "data": "",
       "errorSummary": "",
       "errorTraceType": null,
       "metadata": {},
       "type": "ipynbError"
      }
     },
     "output_type": "display_data"
    }
   ],
   "source": [
    "# writing all 4 train dataframes \n",
    "model_data_train_list[0].write.mode('overwrite').parquet(f\"{blob_url}/model_train_data_list_02\")\n",
    "model_data_train_list[1].write.mode('overwrite').parquet(f\"{blob_url}/model_train_data_list_04\")\n",
    "model_data_train_list[2].write.mode('overwrite').parquet(f\"{blob_url}/model_train_data_list_06\")\n",
    "model_data_train_list[3].write.mode('overwrite').parquet(f\"{blob_url}/model_train_data_list_08\")\n"
   ]
  },
  {
   "cell_type": "code",
   "execution_count": 0,
   "metadata": {
    "application/vnd.databricks.v1+cell": {
     "inputWidgets": {},
     "nuid": "e09acb53-f576-48c0-b021-9e82f09c912d",
     "showTitle": false,
     "title": ""
    }
   },
   "outputs": [
    {
     "data": {
      "text/html": [
       "<style scoped>\n",
       "  .ansiout {\n",
       "    display: block;\n",
       "    unicode-bidi: embed;\n",
       "    white-space: pre-wrap;\n",
       "    word-wrap: break-word;\n",
       "    word-break: break-all;\n",
       "    font-family: \"Source Code Pro\", \"Menlo\", monospace;;\n",
       "    font-size: 13px;\n",
       "    color: #555;\n",
       "    margin-left: 4px;\n",
       "    line-height: 19px;\n",
       "  }\n",
       "</style>"
      ]
     },
     "metadata": {
      "application/vnd.databricks.v1+output": {
       "arguments": {},
       "data": "",
       "errorSummary": "",
       "errorTraceType": null,
       "metadata": {},
       "type": "ipynbError"
      }
     },
     "output_type": "display_data"
    }
   ],
   "source": [
    "# writing all 4 test dataframes\n",
    "model_data_test_list[0].write.mode('overwrite').parquet(f\"{blob_url}/model_test_data_list_02\")\n",
    "model_data_test_list[1].write.mode('overwrite').parquet(f\"{blob_url}/model_test_data_list_04\")\n",
    "model_data_test_list[2].write.mode('overwrite').parquet(f\"{blob_url}/model_test_data_list_06\")\n",
    "model_data_test_list[3].write.mode('overwrite').parquet(f\"{blob_url}/model_test_data_list_08\")"
   ]
  },
  {
   "cell_type": "code",
   "execution_count": 0,
   "metadata": {
    "application/vnd.databricks.v1+cell": {
     "inputWidgets": {},
     "nuid": "31e04056-115b-4a22-ae88-0ac57f34a5d6",
     "showTitle": false,
     "title": ""
    }
   },
   "outputs": [
    {
     "data": {
      "text/html": [
       "<style scoped>\n",
       "  .ansiout {\n",
       "    display: block;\n",
       "    unicode-bidi: embed;\n",
       "    white-space: pre-wrap;\n",
       "    word-wrap: break-word;\n",
       "    word-break: break-all;\n",
       "    font-family: \"Source Code Pro\", \"Menlo\", monospace;;\n",
       "    font-size: 13px;\n",
       "    color: #555;\n",
       "    margin-left: 4px;\n",
       "    line-height: 19px;\n",
       "  }\n",
       "</style>"
      ]
     },
     "metadata": {
      "application/vnd.databricks.v1+output": {
       "arguments": {},
       "data": "",
       "errorSummary": "",
       "errorTraceType": null,
       "metadata": {},
       "type": "ipynbError"
      }
     },
     "output_type": "display_data"
    }
   ],
   "source": [
    "# Reading model train and test data\n",
    "#'''\n",
    "model_data_train_list = []\n",
    "model_data_train_list.append(spark.read.parquet(f\"{blob_url}/model_train_data_list_02/*\"))\n",
    "model_data_train_listt.append(spark.read.parquet(f\"{blob_url}/model_train_data_list_04/*\"))\n",
    "model_data_train_list.append(spark.read.parquet(f\"{blob_url}/model_train_data_list_06/*\"))\n",
    "model_data_train_list.append(spark.read.parquet(f\"{blob_url}/model_train_data_list_08/*\"))\n",
    "\n",
    "model_data_test_list = []\n",
    "model_data_test_list.append(spark.read.parquet(f\"{blob_url}/model_test_data_list_02/*\"))\n",
    "model_data_test_list.append(spark.read.parquet(f\"{blob_url}/model_test_data_list_04/*\"))\n",
    "model_data_test_list.append(spark.read.parquet(f\"{blob_url}/model_test_data_list_06/*\"))\n",
    "model_data_test_list.append(spark.read.parquet(f\"{blob_url}/model_test_data_list_08/*\"))\n",
    "\n",
    "#'''"
   ]
  },
  {
   "cell_type": "markdown",
   "metadata": {
    "application/vnd.databricks.v1+cell": {
     "inputWidgets": {},
     "nuid": "7b471c6d-8538-436c-8c59-adef85cf957c",
     "showTitle": false,
     "title": ""
    }
   },
   "source": [
    "### Section 5 - ML Section"
   ]
  },
  {
   "cell_type": "markdown",
   "metadata": {
    "application/vnd.databricks.v1+cell": {
     "inputWidgets": {},
     "nuid": "e010be71-f59f-4610-abae-c3d85bc4a9f5",
     "showTitle": false,
     "title": ""
    }
   },
   "source": [
    "#### 5.1. Logistic regression"
   ]
  },
  {
   "cell_type": "markdown",
   "metadata": {
    "application/vnd.databricks.v1+cell": {
     "inputWidgets": {},
     "nuid": "6a2428d9-109d-4056-a31d-0916b6e8d4a1",
     "showTitle": false,
     "title": ""
    }
   },
   "source": [
    "**Logistic Regression Pipeline**"
   ]
  },
  {
   "cell_type": "code",
   "execution_count": 0,
   "metadata": {
    "application/vnd.databricks.v1+cell": {
     "inputWidgets": {},
     "nuid": "0337ab20-8618-4864-82d7-a9040b52241e",
     "showTitle": false,
     "title": ""
    }
   },
   "outputs": [
    {
     "data": {
      "text/html": [
       "<style scoped>\n",
       "  .ansiout {\n",
       "    display: block;\n",
       "    unicode-bidi: embed;\n",
       "    white-space: pre-wrap;\n",
       "    word-wrap: break-word;\n",
       "    word-break: break-all;\n",
       "    font-family: \"Source Code Pro\", \"Menlo\", monospace;;\n",
       "    font-size: 13px;\n",
       "    color: #555;\n",
       "    margin-left: 4px;\n",
       "    line-height: 19px;\n",
       "  }\n",
       "</style>"
      ]
     },
     "metadata": {
      "application/vnd.databricks.v1+output": {
       "arguments": {},
       "data": "",
       "errorSummary": "The spark driver has stopped unexpectedly and is restarting. Your notebook will be automatically reattached.",
       "errorTraceType": "html",
       "metadata": {},
       "type": "ipynbError"
      }
     },
     "output_type": "display_data"
    }
   ],
   "source": [
    "# Setup pipeline for Logistic Regression\n",
    "\n",
    "from pyspark.ml.classification import LogisticRegression\n",
    "from sklearn.metrics import classification_report, confusion_matrix\n",
    "\n",
    "start_lr = time.time()\n",
    "\n",
    "lr = LogisticRegression(featuresCol='VectorAssembler_features',labelCol='departure_delay_boolean', regParam = 0.2, fitIntercept=True, elasticNetParam=0.0, maxIter=10, threshold = 0.6)\n",
    "\n",
    "stages_lr = [lr]\n",
    "pipeline_lr = Pipeline(stages=stages_lr)\n",
    "\n",
    "classification_report_list = []\n",
    "confusion_matrix_list = []\n",
    "lrpredictions_list = []\n",
    "for index in range(len(model_data_train_list)):\n",
    "  print(\"index\", index)\n",
    "  model_data_train = model_data_train_list[index]\n",
    "  mode_data_test = model_data_test_list[index]\n",
    "  lr_model = pipeline_lr.fit(model_data_train)\n",
    "  lrPredictions = lr_model.transform(model_data_test)\n",
    "  print(f'lr model completed job in {time.time() - start_lr} seconds.')\n",
    "  lr_time_model = time.time() - start_lr\n",
    "  \n",
    "  # Model Evaluation with scikit learn\n",
    "  y_true_lr = lrPredictions.select(['departure_delay_boolean']).collect()\n",
    "  y_pred_lr = lrPredictions.select(['prediction']).collect()\n",
    "\n",
    "  lrpredictions_list.append(lrpredictions)\n",
    "  \n",
    "f1_score_list = []\n",
    "for index in range(len(lrpredictions_list)):\n",
    "  result = get_results(lrpredictions_list[index])\n",
    "  f1_score_list.append(result[0])\n",
    "  \n",
    "avg_f1_score = sum(f1_score_list)/len(f1_score_list)"
   ]
  },
  {
   "cell_type": "markdown",
   "metadata": {
    "application/vnd.databricks.v1+cell": {
     "inputWidgets": {},
     "nuid": "3e815fb5-94cf-40cd-bbab-a9f24e59814c",
     "showTitle": false,
     "title": ""
    }
   },
   "source": [
    "**Logistic Regression Model Evaluation**"
   ]
  },
  {
   "cell_type": "code",
   "execution_count": 0,
   "metadata": {
    "application/vnd.databricks.v1+cell": {
     "inputWidgets": {},
     "nuid": "ff561a2b-0668-427b-a403-63d486f5617a",
     "showTitle": false,
     "title": ""
    }
   },
   "outputs": [
    {
     "data": {
      "text/html": [
       "<style scoped>\n",
       "  .ansiout {\n",
       "    display: block;\n",
       "    unicode-bidi: embed;\n",
       "    white-space: pre-wrap;\n",
       "    word-wrap: break-word;\n",
       "    word-break: break-all;\n",
       "    font-family: \"Source Code Pro\", \"Menlo\", monospace;;\n",
       "    font-size: 13px;\n",
       "    color: #555;\n",
       "    margin-left: 4px;\n",
       "    line-height: 19px;\n",
       "  }\n",
       "</style>"
      ]
     },
     "metadata": {
      "application/vnd.databricks.v1+output": {
       "arguments": {},
       "data": "",
       "errorSummary": "Cancelled",
       "errorTraceType": "html",
       "metadata": {},
       "type": "ipynbError"
      }
     },
     "output_type": "display_data"
    }
   ],
   "source": [
    "# Print results with helper function\n",
    "\n",
    "print_results(lrPredictions, 'LR')"
   ]
  }
 ],
 "metadata": {
  "application/vnd.databricks.v1+notebook": {
   "dashboards": [],
   "language": "python",
   "notebookMetadata": {
    "pythonIndentUnit": 2
   },
   "notebookName": "W261_FA21_FINAL_PROJECT_TEAM11_NB7_Algorithm_CrossValidation",
   "notebookOrigID": 2297543790307072,
   "widgets": {}
  },
  "kernelspec": {
   "display_name": "Python 3",
   "language": "python",
   "name": "python3"
  },
  "language_info": {
   "codemirror_mode": {
    "name": "ipython",
    "version": 3
   },
   "file_extension": ".py",
   "mimetype": "text/x-python",
   "name": "python",
   "nbconvert_exporter": "python",
   "pygments_lexer": "ipython3",
   "version": "3.8.3"
  }
 },
 "nbformat": 4,
 "nbformat_minor": 1
}
