{
 "cells": [
  {
   "cell_type": "markdown",
   "metadata": {
    "application/vnd.databricks.v1+cell": {
     "inputWidgets": {},
     "nuid": "683d4c13-182d-4f4c-93de-0d6d7833a480",
     "showTitle": false,
     "title": ""
    }
   },
   "source": [
    "## Algorithm Exploration\n",
    "\n",
    "This notebook includes feature engineering, \n",
    "- train-test data split\n",
    "- logic for handling Imbalanced dataset\n",
    "- Relevant feature transformations\n",
    "- Treatment of categorical variable\n",
    "\n",
    "This notebook also demonstrates algorithm exploration part where we have applied 4 different algorithms to the training set along with setting up the pipeline for running the models.\n",
    "\n",
    "- Logistic Regression(**Baseline**)\n",
    "- Random Forest\n",
    "- Gradient Boosted Tree\n",
    "- Support Vector Machine\n",
    "- XGBoost (**selected as a final algorithm**)"
   ]
  },
  {
   "cell_type": "markdown",
   "metadata": {
    "application/vnd.databricks.v1+cell": {
     "inputWidgets": {},
     "nuid": "1a7aeb2f-4fb3-4f9b-bb04-a8b1b9514a13",
     "showTitle": false,
     "title": ""
    }
   },
   "source": [
    "### Section 1 - Setup Environment"
   ]
  },
  {
   "cell_type": "code",
   "execution_count": 0,
   "metadata": {
    "application/vnd.databricks.v1+cell": {
     "inputWidgets": {},
     "nuid": "860d1e18-8843-40ec-9b06-baca76a0b902",
     "showTitle": true,
     "title": "Import Libraries"
    }
   },
   "outputs": [
    {
     "data": {
      "text/html": [
       "<style scoped>\n",
       "  .ansiout {\n",
       "    display: block;\n",
       "    unicode-bidi: embed;\n",
       "    white-space: pre-wrap;\n",
       "    word-wrap: break-word;\n",
       "    word-break: break-all;\n",
       "    font-family: \"Source Code Pro\", \"Menlo\", monospace;;\n",
       "    font-size: 13px;\n",
       "    color: #555;\n",
       "    margin-left: 4px;\n",
       "    line-height: 19px;\n",
       "  }\n",
       "</style>\n",
       "<div class=\"ansiout\"></div>"
      ]
     },
     "metadata": {
      "application/vnd.databricks.v1+output": {
       "addedWidgets": {},
       "arguments": {},
       "data": "<div class=\"ansiout\"></div>",
       "datasetInfos": [],
       "metadata": {},
       "removedWidgets": [],
       "type": "html"
      }
     },
     "output_type": "display_data"
    }
   ],
   "source": [
    "from pyspark.sql.functions import col, concat, count, countDistinct, expr, lit, length, max as pyspark_max, min as pyspark_min, mean, substring, split, sum as pyspark_sum, when, to_utc_timestamp, to_timestamp, unix_timestamp, isnan\n",
    "import pandas as pd\n",
    "from html import escape\n",
    "from IPython.display import HTML, display as ipython_display\n",
    "import seaborn as sns\n",
    "import matplotlib.pyplot as plt\n",
    "from sklearn.metrics import confusion_matrix, ConfusionMatrixDisplay\n",
    "from pyspark.sql import SQLContext\n",
    "from pyspark.sql.types import IntegerType, StringType, BooleanType, DateType, DoubleType\n",
    "import matplotlib.pyplot as plt\n",
    "from pandas.tseries.holiday import USFederalHolidayCalendar\n",
    "from pyspark.sql.functions import substring\n",
    "from pyspark.sql import functions as F\n",
    "from pyspark.ml.classification import LogisticRegression\n",
    "from pyspark.ml.evaluation import BinaryClassificationEvaluator\n",
    "from pyspark.ml.evaluation import MulticlassClassificationEvaluator\n",
    "from pyspark.ml.tuning import ParamGridBuilder, CrossValidator\n",
    "from pyspark.sql.functions import col, max, substring\n",
    "from pyspark.mllib.tree import DecisionTree, DecisionTreeModel\n",
    "from pyspark.ml.classification import DecisionTreeClassifier\n",
    "from pyspark.ml.classification import RandomForestClassifier\n",
    "from pyspark.ml.classification import GBTClassifier\n",
    "from sparkdl.xgboost import XgboostClassifier\n",
    "from pyspark.mllib.util import MLUtils\n",
    "from pyspark.ml.feature import Imputer\n",
    "from pyspark.ml.classification import LinearSVC as svc\n",
    "from pyspark.ml.classification import LinearSVC\n",
    "from pyspark.ml import Pipeline\n",
    "import numpy as np\n",
    "import itertools\n",
    "import time\n",
    "from pyspark.ml.feature import VectorAssembler\n",
    "from sklearn.metrics import classification_report, confusion_matrix\n",
    "from pyspark.sql.functions import percent_rank\n",
    "from pyspark.sql import Window\n",
    "import seaborn as sns\n",
    "from matplotlib.colors import ListedColormap\n"
   ]
  },
  {
   "cell_type": "code",
   "execution_count": 0,
   "metadata": {
    "application/vnd.databricks.v1+cell": {
     "inputWidgets": {},
     "nuid": "c1eb45d1-01f5-4e23-9333-2ccc83e93020",
     "showTitle": true,
     "title": "Access to Azure Blob Storage"
    }
   },
   "outputs": [
    {
     "data": {
      "text/html": [
       "<style scoped>\n",
       "  .ansiout {\n",
       "    display: block;\n",
       "    unicode-bidi: embed;\n",
       "    white-space: pre-wrap;\n",
       "    word-wrap: break-word;\n",
       "    word-break: break-all;\n",
       "    font-family: \"Source Code Pro\", \"Menlo\", monospace;;\n",
       "    font-size: 13px;\n",
       "    color: #555;\n",
       "    margin-left: 4px;\n",
       "    line-height: 19px;\n",
       "  }\n",
       "</style>\n",
       "<div class=\"ansiout\"></div>"
      ]
     },
     "metadata": {
      "application/vnd.databricks.v1+output": {
       "addedWidgets": {},
       "arguments": {},
       "data": "<div class=\"ansiout\"></div>",
       "datasetInfos": [],
       "metadata": {},
       "removedWidgets": [],
       "type": "html"
      }
     },
     "output_type": "display_data"
    }
   ],
   "source": [
    "blob_container = \"w261-container\" # The name of your container created in https://portal.azure.com\n",
    "storage_account = \"w261storageaccount\" # The name of your Storage account created in https://portal.azure.com\n",
    "secret_scope = \"w261scope\" # The name of the scope created in your local computer using the Databricks CLI\n",
    "secret_key = \"w261key\" # The name of the secret key created in your local computer using the Databricks CLI \n",
    "blob_url = f\"wasbs://{blob_container}@{storage_account}.blob.core.windows.net\"\n",
    "mount_path = \"/mnt/mids-w261\"\n",
    "\n",
    "spark.conf.set(\n",
    "  f\"fs.azure.sas.{blob_container}.{storage_account}.blob.core.windows.net\",\n",
    "  dbutils.secrets.get(scope = secret_scope, key = secret_key)\n",
    ")"
   ]
  },
  {
   "cell_type": "markdown",
   "metadata": {
    "application/vnd.databricks.v1+cell": {
     "inputWidgets": {},
     "nuid": "07b0255e-e260-4bda-abf0-cde41d8173b5",
     "showTitle": false,
     "title": ""
    }
   },
   "source": [
    "### Section 2 - Load Data"
   ]
  },
  {
   "cell_type": "code",
   "execution_count": 0,
   "metadata": {
    "application/vnd.databricks.v1+cell": {
     "inputWidgets": {},
     "nuid": "356e0216-c233-4001-a7ab-e38946a80ee2",
     "showTitle": false,
     "title": ""
    }
   },
   "outputs": [
    {
     "data": {
      "text/html": [
       "<style scoped>\n",
       "  .table-result-container {\n",
       "    max-height: 300px;\n",
       "    overflow: auto;\n",
       "  }\n",
       "  table, th, td {\n",
       "    border: 1px solid black;\n",
       "    border-collapse: collapse;\n",
       "  }\n",
       "  th, td {\n",
       "    padding: 5px;\n",
       "  }\n",
       "  th {\n",
       "    text-align: left;\n",
       "  }\n",
       "</style><div class='table-result-container'><table class='table-result'><thead style='background-color: white'><tr><th>path</th><th>name</th><th>size</th></tr></thead><tbody><tr><td>dbfs:/mnt/mids-w261/datasets_final_project/airlines/</td><td>airlines/</td><td>0</td></tr><tr><td>dbfs:/mnt/mids-w261/datasets_final_project/airlines_data/</td><td>airlines_data/</td><td>0</td></tr><tr><td>dbfs:/mnt/mids-w261/datasets_final_project/parquet_airlines_data/</td><td>parquet_airlines_data/</td><td>0</td></tr><tr><td>dbfs:/mnt/mids-w261/datasets_final_project/parquet_airlines_data_3m/</td><td>parquet_airlines_data_3m/</td><td>0</td></tr><tr><td>dbfs:/mnt/mids-w261/datasets_final_project/parquet_airlines_data_6m/</td><td>parquet_airlines_data_6m/</td><td>0</td></tr><tr><td>dbfs:/mnt/mids-w261/datasets_final_project/stations_data/</td><td>stations_data/</td><td>0</td></tr><tr><td>dbfs:/mnt/mids-w261/datasets_final_project/weather_data/</td><td>weather_data/</td><td>0</td></tr><tr><td>dbfs:/mnt/mids-w261/datasets_final_project/weather_data_6_hr/</td><td>weather_data_6_hr/</td><td>0</td></tr><tr><td>dbfs:/mnt/mids-w261/datasets_final_project/weather_data_single/</td><td>weather_data_single/</td><td>0</td></tr></tbody></table></div>"
      ]
     },
     "metadata": {
      "application/vnd.databricks.v1+output": {
       "addedWidgets": {},
       "aggData": [],
       "aggError": "",
       "aggOverflow": false,
       "aggSchema": [],
       "aggSeriesLimitReached": false,
       "aggType": "",
       "arguments": {},
       "columnCustomDisplayInfos": {},
       "data": [
        [
         "dbfs:/mnt/mids-w261/datasets_final_project/airlines/",
         "airlines/",
         0
        ],
        [
         "dbfs:/mnt/mids-w261/datasets_final_project/airlines_data/",
         "airlines_data/",
         0
        ],
        [
         "dbfs:/mnt/mids-w261/datasets_final_project/parquet_airlines_data/",
         "parquet_airlines_data/",
         0
        ],
        [
         "dbfs:/mnt/mids-w261/datasets_final_project/parquet_airlines_data_3m/",
         "parquet_airlines_data_3m/",
         0
        ],
        [
         "dbfs:/mnt/mids-w261/datasets_final_project/parquet_airlines_data_6m/",
         "parquet_airlines_data_6m/",
         0
        ],
        [
         "dbfs:/mnt/mids-w261/datasets_final_project/stations_data/",
         "stations_data/",
         0
        ],
        [
         "dbfs:/mnt/mids-w261/datasets_final_project/weather_data/",
         "weather_data/",
         0
        ],
        [
         "dbfs:/mnt/mids-w261/datasets_final_project/weather_data_6_hr/",
         "weather_data_6_hr/",
         0
        ],
        [
         "dbfs:/mnt/mids-w261/datasets_final_project/weather_data_single/",
         "weather_data_single/",
         0
        ]
       ],
       "datasetInfos": [],
       "dbfsResultPath": null,
       "isJsonSchema": true,
       "metadata": {},
       "overflow": false,
       "plotOptions": {
        "customPlotOptions": {},
        "displayType": "table",
        "pivotAggregation": null,
        "pivotColumns": null,
        "xColumns": null,
        "yColumns": null
       },
       "removedWidgets": [],
       "schema": [
        {
         "metadata": "{}",
         "name": "path",
         "type": "\"string\""
        },
        {
         "metadata": "{}",
         "name": "name",
         "type": "\"string\""
        },
        {
         "metadata": "{}",
         "name": "size",
         "type": "\"long\""
        }
       ],
       "type": "table"
      }
     },
     "output_type": "display_data"
    }
   ],
   "source": [
    "# Inspect the Mount's Final Project folder \n",
    "display(dbutils.fs.ls(\"/mnt/mids-w261/datasets_final_project\"))"
   ]
  },
  {
   "cell_type": "code",
   "execution_count": 0,
   "metadata": {
    "application/vnd.databricks.v1+cell": {
     "inputWidgets": {},
     "nuid": "f0e141a5-4137-4831-9242-92adbc5e338d",
     "showTitle": false,
     "title": ""
    }
   },
   "outputs": [],
   "source": [
    "# Load joined dataset from Blob\n",
    "\n",
    "# data_df = spark.read.parquet(f\"{blob_url}/3m_join/*\")\n",
    "# data_df = spark.read.parquet(f\"{blob_url}/3m_join_route/*\")\n",
    "\n",
    "# Load full data\n",
    "full_data = True\n",
    "\n",
    "data_df = spark.read.parquet(f\"{blob_url}/full_join_route_v2/*\")\n",
    "\n",
    "display(data_df.limit(100))\n"
   ]
  },
  {
   "cell_type": "markdown",
   "metadata": {
    "application/vnd.databricks.v1+cell": {
     "inputWidgets": {},
     "nuid": "fc838099-193d-44bd-a435-4cf2932f01bc",
     "showTitle": false,
     "title": ""
    }
   },
   "source": [
    "### Section 3 - Define helper functions"
   ]
  },
  {
   "cell_type": "code",
   "execution_count": 0,
   "metadata": {
    "application/vnd.databricks.v1+cell": {
     "inputWidgets": {},
     "nuid": "c6008e60-9797-470e-9f65-5c9440c03cb4",
     "showTitle": false,
     "title": ""
    }
   },
   "outputs": [
    {
     "data": {
      "text/html": [
       "<style scoped>\n",
       "  .ansiout {\n",
       "    display: block;\n",
       "    unicode-bidi: embed;\n",
       "    white-space: pre-wrap;\n",
       "    word-wrap: break-word;\n",
       "    word-break: break-all;\n",
       "    font-family: \"Source Code Pro\", \"Menlo\", monospace;;\n",
       "    font-size: 13px;\n",
       "    color: #555;\n",
       "    margin-left: 4px;\n",
       "    line-height: 19px;\n",
       "  }\n",
       "</style>\n",
       "<div class=\"ansiout\"></div>"
      ]
     },
     "metadata": {
      "application/vnd.databricks.v1+output": {
       "addedWidgets": {},
       "arguments": {},
       "data": "<div class=\"ansiout\"></div>",
       "datasetInfos": [],
       "metadata": {},
       "removedWidgets": [],
       "type": "html"
      }
     },
     "output_type": "display_data"
    }
   ],
   "source": [
    "# Helper function 1:\n",
    "def missing_values(helper_df, sort=False):\n",
    "  \"\"\"\n",
    "  Helper function to count number of nulls and nans in each column\n",
    "  \"\"\"\n",
    "  df = helper_df.select([F.count(F.when(F.isnan(c) | F.isnull(c), c)).alias(c) for (c,c_type) in helper_df.dtypes if c_type not in ('timestamp')]).toPandas()\n",
    "  \n",
    "  if len(df) == 0:\n",
    "    print(\"There are no missing values\")\n",
    "    return None\n",
    "  \n",
    "  if sort:\n",
    "    return df.rename(index={0: 'count'}).T.sort_values(\"count\", ascending=False)\n",
    "  \n",
    "  return df\n"
   ]
  },
  {
   "cell_type": "code",
   "execution_count": 0,
   "metadata": {
    "application/vnd.databricks.v1+cell": {
     "inputWidgets": {},
     "nuid": "745bb5b0-8e6a-48b8-b7e4-6267932d63c2",
     "showTitle": false,
     "title": ""
    }
   },
   "outputs": [
    {
     "data": {
      "text/html": [
       "<style scoped>\n",
       "  .ansiout {\n",
       "    display: block;\n",
       "    unicode-bidi: embed;\n",
       "    white-space: pre-wrap;\n",
       "    word-wrap: break-word;\n",
       "    word-break: break-all;\n",
       "    font-family: \"Source Code Pro\", \"Menlo\", monospace;;\n",
       "    font-size: 13px;\n",
       "    color: #555;\n",
       "    margin-left: 4px;\n",
       "    line-height: 19px;\n",
       "  }\n",
       "</style>\n",
       "<div class=\"ansiout\"></div>"
      ]
     },
     "metadata": {
      "application/vnd.databricks.v1+output": {
       "addedWidgets": {},
       "arguments": {},
       "data": "<div class=\"ansiout\"></div>",
       "datasetInfos": [],
       "metadata": {},
       "removedWidgets": [],
       "type": "html"
      }
     },
     "output_type": "display_data"
    }
   ],
   "source": [
    "# Helper function 2\n",
    "\n",
    "def main():\n",
    "\n",
    "    global eval_metrics\n",
    "    global eval_predictions\n",
    "    global eval_model_times\n",
    "    global model_times_df\n",
    "    \n",
    "    eval_metrics = {}\n",
    "    eval_model_times = []\n",
    "    \n",
    "    \n",
    "f1 = 0.0\n",
    "recall = 0.0\n",
    "precision = 0.0\n",
    "sensitivity = 0.0\n",
    "specificity = 0.0\n",
    "fp = 0.0\n",
    "fn = 0.0\n",
    "model_time = 0.0\n",
    "\n",
    "metrics = (f1, recall, precision, sensitivity, specificity, fp, fn, model_time)\n",
    "eval_metrics = {'LR': metrics}\n",
    "eval_model_times = [('LR', 0.0),('RF', 0.0),('SVM', 0.0),('GB', 0.0),('XGB', 0.0)]\n",
    "eval_model_times_col = ['model_name', 'model_time']\n",
    "model_times_df = spark.createDataFrame(data=eval_model_times, schema=eval_model_times_col)\n",
    "\n",
    "def print_results(predictions, model_name, model_time): \n",
    "  \"\"\"\n",
    "  Helper function to print evaluation metrics\n",
    "  \"\"\"\n",
    "  tp = predictions[(predictions.departure_delay_boolean == 1) & (predictions.prediction == 1)].count()\n",
    "  tn = predictions[(predictions.departure_delay_boolean == 0) & (predictions.prediction == 0)].count()\n",
    "  fp = predictions[(predictions.departure_delay_boolean == 0) & (predictions.prediction == 1)].count()\n",
    "  fn = predictions[(predictions.departure_delay_boolean == 1) & (predictions.prediction == 0)].count()\n",
    "  total = predictions.count()\n",
    "  \n",
    "  recall = float(tp)/(tp+fn)\n",
    "  precision = float(tp)/(tp+fp)\n",
    "  f1 = (2*recall*precision)/(precision+recall)\n",
    "  \n",
    "  data = {'Actual-delay': [tp, fn], 'Actual-on time': [fp, tn]}\n",
    "  confusion_matrix = pd.DataFrame.from_dict(data, orient='index', columns=['Predicted-delay', 'Predicted-on time'])\n",
    "  \n",
    "  #print(\"Test Area Under ROC: \", \"{:.2f}\".format(evaluator.evaluate(predictions, {evaluator.metricName: 'areaUnderROC'})))\n",
    "  #print(\"Test Area Under Precision-Recall Curve: \", \"{:.2f}\".format(evaluator.evaluate(predictions, {evaluator.metricName: 'areaUnderPR'})))\n",
    "\n",
    "  print(\"Sensitivity: {:.2%}\".format(tp/(tp + fn)))\n",
    "  print(\"Specificity: {:.2%}\".format(tn/(tn + fp)))\n",
    "  print(\"False positive rate: {:.2%}\".format(fp/(fp + tn)))\n",
    "  print(\"False negative rate: {:.2%}\".format(fn/(tp + fn)))\n",
    "  print(\"Recall: {:.2%}\".format(recall))\n",
    "  print(\"Precision: {:.2%}\".format(precision))\n",
    "  print(\"f1: {:.2%}\".format(f1))\n",
    "  \n",
    "  metrics = (round(f1, 2), round(recall, 2), round(precision, 2), round(tp/(tp + fn), 2), \\\n",
    "             round(tn/(tn + fp), 2), round(fp/(fp + tn), 2), round(fn/(tp + fn), 2), round(model_time, 2))\n",
    "  \n",
    "  global eval_metrics\n",
    "  global eval_model_times\n",
    "  \n",
    "  eval_metrics[model_name] = metrics\n",
    "  eval_model_times.append(model_time)\n",
    "  \n",
    "  print(\"########### Confusion Matrix ###########\")\n",
    "  print(confusion_matrix)\n",
    "  \n",
    "def get_metrics(vector_aw, label_col_name):\n",
    "  labels_and_predictions = vector_aw.select(col(\"prediction\").cast(\"int\"), col(label_col_name).cast(\"int\")) \\\n",
    "                            .rdd.map(lambda r: (r[0],r[1]))\n",
    "  \n",
    "  FP = labels_and_predictions.filter(lambda x: x[0] == 1 and x[1] == 0).count()\n",
    "  FN = labels_and_predictions.filter(lambda x: x[0] == 0 and x[1] == 1).count()\n",
    "  TP = labels_and_predictions.filter(lambda x: x[0] == 1 and x[1] == 1).count()\n",
    "  TN = labels_and_predictions.filter(lambda x: x[0] == 0 and x[1] == 0).count()\n",
    " \n",
    "  accuracy = (TP + TN) / (TP + FP + TN + FN)\n",
    "  precision = TP / (TP + FP)\n",
    "  recall = TP / (TP + FN)\n",
    "  f1Score = (2*(recall*precision)) / (recall + precision)\n",
    "  \n",
    "  return accuracy, precision, recall, f1Score\n",
    " \n",
    "def print_metrics(vector_aw, label_col_name):\n",
    "  accuracy, precision, recall, f1Score = get_metrics(vector_aw, label_col_name)\n",
    "  \n",
    "  print(\"Accuracy = %s\" % accuracy)\n",
    "  print(\"Precision = %s\" % precision)\n",
    "  print(\"Recall = %s\" % recall)\n",
    "  print(\"F1 Score = %s\" % f1Score)\n",
    "  \n",
    "\n",
    "def save_model_times(model_name, model_time):\n",
    "  global model_times_df\n",
    "  \n",
    "  \n",
    "  \n",
    "def print_model_times(model_name, model_time):\n",
    "  global model_times_df\n",
    "  model_times_df.show()"
   ]
  },
  {
   "cell_type": "markdown",
   "metadata": {
    "application/vnd.databricks.v1+cell": {
     "inputWidgets": {},
     "nuid": "6edf1f34-7364-49e0-a42c-07e67aa275f5",
     "showTitle": false,
     "title": ""
    }
   },
   "source": [
    "### Section 4 - Feature Engineering"
   ]
  },
  {
   "cell_type": "code",
   "execution_count": 0,
   "metadata": {
    "application/vnd.databricks.v1+cell": {
     "inputWidgets": {},
     "nuid": "635bd167-5067-4221-8f4e-2d81ec5d16e8",
     "showTitle": false,
     "title": ""
    }
   },
   "outputs": [],
   "source": [
    "# Create a feature to include the hour of the day in local time\n",
    "\n",
    "from pyspark.sql.functions import hour\n",
    "\n",
    "data_df = data_df.withColumn('hour',hour(data_df.actual_timestamp))\n",
    "\n",
    "display(data_df.limit(10))"
   ]
  },
  {
   "cell_type": "markdown",
   "metadata": {
    "application/vnd.databricks.v1+cell": {
     "inputWidgets": {},
     "nuid": "2538adfc-66a1-48d8-85e3-74eec6c5e8da",
     "showTitle": false,
     "title": ""
    }
   },
   "source": [
    "**Feature Selection**"
   ]
  },
  {
   "cell_type": "code",
   "execution_count": 0,
   "metadata": {
    "application/vnd.databricks.v1+cell": {
     "inputWidgets": {},
     "nuid": "bf591475-c273-4ce5-985a-ddf0bb65291d",
     "showTitle": false,
     "title": ""
    }
   },
   "outputs": [],
   "source": [
    "#Select ML Vars - Variables for building models\n",
    "split_data_df = data_df.selectExpr(\n",
    "                              \"cast (year as string) year\",\n",
    "                              \"cast (month as string) month\",\n",
    "                              \"cast (day_of_week as string) day_of_week\",\n",
    "                              \"actual_timestamp\",\n",
    "                              \"cast (hour as string) hour\",\n",
    "                              \"carrier\",\n",
    "                              \"holiday\",\n",
    "                              \"weather_obs_prev\",\n",
    "                              \"weather_obs_prev_2\",\n",
    "                              \"origin\",\n",
    "                              \"destination\",\n",
    "                              \"departure_delay_boolean\",\n",
    "                              \"planned_time_between_flights\",\n",
    "                              \"cast (prev_dep_delayed_confirmed as string) prev_dep_delayed_confirmed\",    \n",
    "                              \"distance\",\n",
    "                              \"cast (wnd_angle_prev as int) wnd_angle_prev\",                               \n",
    "                              \"wnd_type_prev\",\n",
    "                              \"wnd_speed_prev_2\",\n",
    "                              \"wnd_speed_prev\",\n",
    "                              \"wnd_cloud_angle_prev\",\n",
    "                              \"vis_dist_prev\",\n",
    "                              \"vis_dist_prev_2\",\n",
    "                              \"vis_var_prev\",\n",
    "                              \"tmp_c_prev\",\n",
    "                              \"dew_c_prev\",\n",
    "                              \"route_delay\",\n",
    "                              \"origin_arrival_delay\",\n",
    "                              \"origin_departure_delay\",\n",
    "                              \"dest_departure_delay\",\n",
    "                              \"dest_arrival_delay\",\n",
    "                             )\n",
    "\n",
    "display(split_data_df.limit(10))"
   ]
  },
  {
   "cell_type": "markdown",
   "metadata": {
    "application/vnd.databricks.v1+cell": {
     "inputWidgets": {},
     "nuid": "cb0fd879-9dac-4055-9f1e-9740985cd74c",
     "showTitle": false,
     "title": ""
    }
   },
   "source": [
    "#### 4.1. Split Data"
   ]
  },
  {
   "cell_type": "code",
   "execution_count": 0,
   "metadata": {
    "application/vnd.databricks.v1+cell": {
     "inputWidgets": {},
     "nuid": "7f066bd8-b3a9-43b6-a946-43be2261f9ef",
     "showTitle": false,
     "title": ""
    }
   },
   "outputs": [],
   "source": [
    "### Add a cumulative rank to dataframe and then split (80-20) for time series data.\n",
    "\n",
    "if(full_data):\n",
    "\n",
    "  split_data_df = split_data_df.withColumn(\"rank\", percent_rank().over(Window.partitionBy().orderBy(\"actual_timestamp\")))\n",
    "\n",
    "# display(split_data_df)"
   ]
  },
  {
   "cell_type": "code",
   "execution_count": 0,
   "metadata": {
    "application/vnd.databricks.v1+cell": {
     "inputWidgets": {},
     "nuid": "4b6c3026-2a80-4425-9bdb-58689971d9c9",
     "showTitle": false,
     "title": ""
    }
   },
   "outputs": [],
   "source": [
    "# Train data is selected from the first 80% of the dataset.\n",
    "\n",
    "if(full_data):\n",
    "\n",
    "  train_df = split_data_df.where(\"rank <= .8\").drop(\"rank\",\"actual_timestamp\")\n",
    "  \n",
    "#   display(train_df)\n",
    "\n",
    "#   print(f'The train dataset has {train_df.count()} rows')"
   ]
  },
  {
   "cell_type": "code",
   "execution_count": 0,
   "metadata": {
    "application/vnd.databricks.v1+cell": {
     "inputWidgets": {},
     "nuid": "2abc070d-6581-42db-a709-30d8dd73112e",
     "showTitle": false,
     "title": ""
    }
   },
   "outputs": [],
   "source": [
    "# Test data is selected from the last 20% of the dataset.\n",
    "\n",
    "if(full_data):\n",
    "  test_df = split_data_df.where(\"rank > .8\").drop(\"rank\", \"actual_timestamp\")\n",
    "#   display(test_df)\n",
    "#   print(f'The test dataset has {test_df.count()} rows')\n",
    "    "
   ]
  },
  {
   "cell_type": "code",
   "execution_count": 0,
   "metadata": {
    "application/vnd.databricks.v1+cell": {
     "inputWidgets": {},
     "nuid": "9a852ab2-847f-4c38-9881-a4ab27f75135",
     "showTitle": false,
     "title": ""
    }
   },
   "outputs": [],
   "source": [
    "# writing the split test and train data to blob storage\n",
    "if(full_data):\n",
    "  train_df.write.mode('overwrite').parquet(f\"{blob_url}/original_train_data_full_v2\")\n",
    "  test_df.write.mode('overwrite').parquet(f\"{blob_url}/original_test_data_full_v2\")\n",
    " "
   ]
  },
  {
   "cell_type": "code",
   "execution_count": 0,
   "metadata": {
    "application/vnd.databricks.v1+cell": {
     "inputWidgets": {},
     "nuid": "7ea0bb1d-c08a-4522-9ff8-4c9e5c20a6a3",
     "showTitle": false,
     "title": ""
    }
   },
   "outputs": [],
   "source": [
    "# Reading the split test and train data from blob storage in case of full data\n",
    "\n",
    "if(full_data):\n",
    "  train_df = spark.read.parquet(f\"{blob_url}/original_train_data_full_v2/*\")\n",
    "  test_df = spark.read.parquet(f\"{blob_url}/original_test_data_full_v2/*\")"
   ]
  },
  {
   "cell_type": "code",
   "execution_count": 0,
   "metadata": {
    "application/vnd.databricks.v1+cell": {
     "inputWidgets": {},
     "nuid": "0c9e3160-358f-4fa4-8d02-3929a1c025f1",
     "showTitle": false,
     "title": ""
    }
   },
   "outputs": [],
   "source": [
    "# Let's verify if train data has any nulls\n",
    "\n",
    "missing_values_df_train = missing_values(train_df)\n",
    "\n",
    "missing_values_df2 = pd.DataFrame({\n",
    "                 \"features\": list(missing_values_df_train.columns),\n",
    "                 \"number_of_nulls\": list(missing_values_df_train.iloc[0])})\n",
    "\n",
    "missing_values_df2"
   ]
  },
  {
   "cell_type": "markdown",
   "metadata": {
    "application/vnd.databricks.v1+cell": {
     "inputWidgets": {},
     "nuid": "8526045f-acae-4636-a1b4-3cd7844c3887",
     "showTitle": false,
     "title": ""
    }
   },
   "source": [
    "#### 4.2. Handling Imbalanced data - Undersampling\n",
    "\n",
    "We used undersampling for handling imbalance in data since we have a very large dataset. \n",
    "SMOTE is another method to handle imbalanced data and has been implemented in a separate notebook located at: https://adb-6759024569771990.10.azuredatabricks.net/?o=6759024569771990#notebook/671119174920056/command/671119174920058"
   ]
  },
  {
   "cell_type": "code",
   "execution_count": 0,
   "metadata": {
    "application/vnd.databricks.v1+cell": {
     "inputWidgets": {},
     "nuid": "30e7d005-2449-4daa-9ceb-e0e743d52fdf",
     "showTitle": false,
     "title": ""
    }
   },
   "outputs": [],
   "source": [
    "# Display proportion of labeled class\n",
    "  \n",
    "def get_proportion_labels(df):\n",
    "  '''Function to display proportion of labeled class'''\n",
    "  if verbose:\n",
    "    print(\"In method - get_proportion_labels - displaying proportion of labeled class\")\n",
    "    print(display(df.groupby('departure_delay_boolean').count()))\n",
    "  \n",
    "  positive = df.filter(df.departure_delay_boolean == 1).count()\n",
    "  negative = df.filter(df.departure_delay_boolean == 0).count()\n",
    "  total = negative + positive\n",
    "  if total == 0:\n",
    "    raise Exception(\"No records found!\")\n",
    "  \n",
    "  if positive == 0:\n",
    "    raise Exception(\"No positive records found!\")\n",
    "  \n",
    "  if negative == 0:\n",
    "    raise Exception(\"No negative records found!\")\n",
    "    \n",
    "  # there is a risk that the positive/negative classes are so imbalanced that they are non existent in the df\n",
    "  # so we should guard against that case in order to avoid throwing div by 0\n",
    "  np = -1 if positive == 0 else 1.0 * negative/positive\n",
    "  pn = -1 if negative == 0 else 1.0 * positive/negative\n",
    "  \n",
    "  return 1.0 * positive/total, 1.0 * negative/total, pn, np"
   ]
  },
  {
   "cell_type": "code",
   "execution_count": 0,
   "metadata": {
    "application/vnd.databricks.v1+cell": {
     "inputWidgets": {},
     "nuid": "f2de60fa-c543-46c3-bfdb-59718849202c",
     "showTitle": false,
     "title": ""
    }
   },
   "outputs": [],
   "source": [
    "# downsample majority class dataset (i.e on-time flight data) to balance and match minority class dataset(i.e. delayed flights)\n",
    "\n",
    "def downsample(df, min_major_class_ratio, alpha=0.99):\n",
    "  '''Function to implement undersampling logic'''\n",
    "  if min_major_class_ratio == -1:\n",
    "    # assign default value to reduce the majority class by half\n",
    "    min_major_class_ratio = 0.5\n",
    "    print(\"In method downsample: Warning - reset min_major_class_ratio to default: {}\".format(min_major_class_ratio))\n",
    "    \n",
    "  if verbose:\n",
    "    print(\"Starting to downsample, negative class has {} rows and positive class has {} rows\".format(df.filter(df.departure_delay_boolean == 0).count(), df.filter(df.departure_delay_boolean == 1).count()))\n",
    "    \n",
    "  negative = df.filter(df.departure_delay_boolean == 0).sample(False, min_major_class_ratio * alpha, seed=2021)\n",
    "  positive = df.filter(df.departure_delay_boolean == 1)\n",
    "  \n",
    "  new_df = positive.union(negative).cache()\n",
    "  if verbose:\n",
    "    negative = new_df.filter(new_df.departure_delay_boolean ==0).count()\n",
    "    positive = new_df.filter(new_df.departure_delay_boolean ==1).count()\n",
    "    print(\"After downsampling, negative class has {} rows and positive class has {} rows\".format(negative, positive))\n",
    "  \n",
    "  return new_df\n"
   ]
  },
  {
   "cell_type": "code",
   "execution_count": 0,
   "metadata": {
    "application/vnd.databricks.v1+cell": {
     "inputWidgets": {},
     "nuid": "c3239358-4254-42fe-8c24-83e8a3721da2",
     "showTitle": false,
     "title": ""
    }
   },
   "outputs": [],
   "source": [
    "# Execute Downsampling Process on the Training Set\n",
    "\n",
    "verbose = True\n",
    "pt, nt, pn, np = get_proportion_labels(train_df)\n",
    "train_df_downsampled = downsample(train_df, pn)"
   ]
  },
  {
   "cell_type": "code",
   "execution_count": 0,
   "metadata": {
    "application/vnd.databricks.v1+cell": {
     "inputWidgets": {},
     "nuid": "70760800-8817-473d-ad5a-2679bb51e8d9",
     "showTitle": false,
     "title": ""
    }
   },
   "outputs": [],
   "source": [
    "# Assigning downsampled training dataset to be used further for modeling\n",
    "\n",
    "train_df = train_df_downsampled\n"
   ]
  },
  {
   "cell_type": "code",
   "execution_count": 0,
   "metadata": {
    "application/vnd.databricks.v1+cell": {
     "inputWidgets": {},
     "nuid": "e8b85094-2716-4928-9144-e6663a9a75d6",
     "showTitle": false,
     "title": ""
    }
   },
   "outputs": [],
   "source": [
    "#Preparing final dataset for modeling\n",
    "# Let's find out the datatype of the features, which will be the same for both train and test data\n",
    "\n",
    "print(\"\\n----Categorical columns train-----\")\n",
    "cat_cols = [x for (x, dataType) in train_df.dtypes if dataType == \"string\"]\n",
    "print(cat_cols)\n",
    "\n",
    "print(\"\\n----Numeric columns train-----\")\n",
    "num_cols = [x for (x, dataType) in train_df.dtypes if (((dataType == \"double\") or (dataType == \"int\")) & (x != \"departure_delay_boolean\"))]\n",
    "print(num_cols)"
   ]
  },
  {
   "cell_type": "code",
   "execution_count": 0,
   "metadata": {
    "application/vnd.databricks.v1+cell": {
     "inputWidgets": {},
     "nuid": "e44705c7-6e81-4c8a-9370-a96bbf18f200",
     "showTitle": false,
     "title": ""
    }
   },
   "outputs": [],
   "source": [
    "# Changes nulls to 9* for cat vars, not have an impact to the rest of the data since one-hot encoding\n",
    "train_df = train_df.fillna('-999', subset=cat_cols)\n",
    "test_df = test_df.fillna('-999', subset=cat_cols)"
   ]
  },
  {
   "cell_type": "code",
   "execution_count": 0,
   "metadata": {
    "application/vnd.databricks.v1+cell": {
     "inputWidgets": {},
     "nuid": "a83eb558-de56-49a1-a0af-ba2b9e8783fd",
     "showTitle": false,
     "title": ""
    }
   },
   "outputs": [],
   "source": [
    "# Pipeline Functions\n",
    "# Categorical Variables -> String_Indexer -> OneHotEncoding\n",
    "# Numerical Variables -> Impute missing using median -> Standard Scaler\n",
    "# Create vector assembler\n",
    "\n",
    "from pyspark.ml.feature import (OneHotEncoder, StringIndexer)\n",
    "string_indexer = [\n",
    "    StringIndexer(inputCol=x, outputCol=x + \"_StringIndexer\", handleInvalid=\"skip\")\n",
    "    for x in cat_cols\n",
    "]\n",
    "\n",
    "one_hot_encoder = [\n",
    "    OneHotEncoder(\n",
    "        inputCols=[f\"{x}_StringIndexer\" for x in cat_cols],\n",
    "        outputCols=[f\"{x}_OneHotEncoder\" for x in cat_cols],\n",
    "    )\n",
    "]\n",
    "\n",
    "from pyspark.ml.feature import Imputer\n",
    "\n",
    "imputer = [\n",
    "      Imputer(inputCol=x, outputCol= x + \"_Imputed\").setStrategy(\"median\")\n",
    "      for x in num_cols\n",
    "]\n",
    "\n",
    "from pyspark.ml.feature import StandardScaler  \n",
    "\n",
    "scaler_vector_assembler = VectorAssembler(inputCols = [f\"{x}_Imputed\" for x in num_cols], outputCol=\"numeric_vec\")\n",
    "scaler_vector_assembler.setHandleInvalid('keep')\n",
    "\n",
    "scaler = StandardScaler(inputCol=\"numeric_vec\", outputCol=\"scaled_features\")"
   ]
  },
  {
   "cell_type": "code",
   "execution_count": 0,
   "metadata": {
    "application/vnd.databricks.v1+cell": {
     "inputWidgets": {},
     "nuid": "0aa53d35-6834-4bab-88a8-8ac8032c1883",
     "showTitle": false,
     "title": ""
    }
   },
   "outputs": [],
   "source": [
    "#Output vector assembler to be used at the modeling step, \n",
    "\n",
    "from pyspark.ml.feature import VectorAssembler\n",
    "\n",
    "assembler_input = [\"scaled_features\"]\n",
    "assembler_input += [f\"{x}_OneHotEncoder\" for x in cat_cols]\n",
    "\n",
    "vector_assembler = VectorAssembler(\n",
    "    inputCols=assembler_input, outputCol=\"VectorAssembler_features\"\n",
    ")"
   ]
  },
  {
   "cell_type": "markdown",
   "metadata": {
    "application/vnd.databricks.v1+cell": {
     "inputWidgets": {},
     "nuid": "7b471c6d-8538-436c-8c59-adef85cf957c",
     "showTitle": false,
     "title": ""
    }
   },
   "source": [
    "### Section 5 - ML Section"
   ]
  },
  {
   "cell_type": "markdown",
   "metadata": {
    "application/vnd.databricks.v1+cell": {
     "inputWidgets": {},
     "nuid": "8b48dce3-93d4-417f-89fd-b80c59da96fc",
     "showTitle": false,
     "title": ""
    }
   },
   "source": [
    "#### 5.0.  Setting up Pipeline"
   ]
  },
  {
   "cell_type": "code",
   "execution_count": 0,
   "metadata": {
    "application/vnd.databricks.v1+cell": {
     "inputWidgets": {},
     "nuid": "183ca5e1-60ed-417e-921e-a189f567d94a",
     "showTitle": false,
     "title": ""
    }
   },
   "outputs": [],
   "source": [
    "## Pipeline Stages\n",
    "\n",
    "stages = []\n",
    "stages += imputer\n",
    "stages += [scaler_vector_assembler , scaler]\n",
    "stages += string_indexer\n",
    "stages += one_hot_encoder\n",
    "stages += [vector_assembler]"
   ]
  },
  {
   "cell_type": "code",
   "execution_count": 0,
   "metadata": {
    "application/vnd.databricks.v1+cell": {
     "inputWidgets": {},
     "nuid": "9bab2ffb-4c28-49e8-8023-35174d36ee23",
     "showTitle": false,
     "title": ""
    }
   },
   "outputs": [],
   "source": [
    "# Setup Pipeline using the stages and train & test data\n",
    "# label = departure_delay_boolean, features = VectorAssembler_features\n",
    "\n",
    "from pyspark.ml import Pipeline\n",
    "\n",
    "general_pipeline = Pipeline().setStages(stages)\n",
    "pipeline_model = general_pipeline.fit(train_df)\n",
    "model_data_test = pipeline_model.transform(test_df)\n",
    "model_data_train = pipeline_model.transform(train_df) \n",
    "\n",
    "selectedcols = [\"departure_delay_boolean\", \"VectorAssembler_features\"]\n",
    "model_data_train = model_data_train.select(selectedcols)\n",
    "model_data_test = model_data_test.select(selectedcols)"
   ]
  },
  {
   "cell_type": "code",
   "execution_count": 0,
   "metadata": {
    "application/vnd.databricks.v1+cell": {
     "inputWidgets": {},
     "nuid": "dd9b3d0e-4d0a-4f73-8278-2b66e697b3b9",
     "showTitle": false,
     "title": ""
    }
   },
   "outputs": [],
   "source": [
    "# writing train and test dataset to blob storage in parquet format to be used for model algorithms\n",
    "\n",
    "model_data_train.write.mode('overwrite').parquet(f\"{blob_url}/model_train_data_full_v2\")\n",
    "model_data_test.write.mode('overwrite').parquet(f\"{blob_url}/model_test_data_full_v2\")\n"
   ]
  },
  {
   "cell_type": "markdown",
   "metadata": {
    "application/vnd.databricks.v1+cell": {
     "inputWidgets": {},
     "nuid": "e010be71-f59f-4610-abae-c3d85bc4a9f5",
     "showTitle": false,
     "title": ""
    }
   },
   "source": [
    "#### 5.1. Logistic regression"
   ]
  },
  {
   "cell_type": "markdown",
   "metadata": {
    "application/vnd.databricks.v1+cell": {
     "inputWidgets": {},
     "nuid": "42419b8c-669e-4bf0-80fe-bef86f4146c6",
     "showTitle": false,
     "title": ""
    }
   },
   "source": [
    "> - Logistic regresion is probably one of the most common tools in supervised learning, in particular for classification. \n",
    "> - Logistic regression is a way to model the linear relationship between one or more arbitrary independent variables and binary or categorical dependent variables. \n",
    "> - Logistic regression transforms the continuous infinite scale into a scale between 0 and 1 (Sigmoid Function or Sigmoid activation). \n",
    "> - It can be used for both inference and for prediction."
   ]
  },
  {
   "cell_type": "markdown",
   "metadata": {
    "application/vnd.databricks.v1+cell": {
     "inputWidgets": {},
     "nuid": "e3027236-535e-45f5-8597-4b18f5718539",
     "showTitle": false,
     "title": ""
    }
   },
   "source": [
    "**Reading the train and test data**"
   ]
  },
  {
   "cell_type": "code",
   "execution_count": 0,
   "metadata": {
    "application/vnd.databricks.v1+cell": {
     "inputWidgets": {},
     "nuid": "7687a47c-1363-4092-b667-a03d4b192430",
     "showTitle": false,
     "title": ""
    }
   },
   "outputs": [
    {
     "data": {
      "text/html": [
       "<style scoped>\n",
       "  .ansiout {\n",
       "    display: block;\n",
       "    unicode-bidi: embed;\n",
       "    white-space: pre-wrap;\n",
       "    word-wrap: break-word;\n",
       "    word-break: break-all;\n",
       "    font-family: \"Source Code Pro\", \"Menlo\", monospace;;\n",
       "    font-size: 13px;\n",
       "    color: #555;\n",
       "    margin-left: 4px;\n",
       "    line-height: 19px;\n",
       "  }\n",
       "</style>\n",
       "<div class=\"ansiout\"></div>"
      ]
     },
     "metadata": {
      "application/vnd.databricks.v1+output": {
       "addedWidgets": {},
       "arguments": {},
       "data": "<div class=\"ansiout\"></div>",
       "datasetInfos": [],
       "metadata": {},
       "removedWidgets": [],
       "type": "html"
      }
     },
     "output_type": "display_data"
    }
   ],
   "source": [
    "# Reading the train and test data from blob storage for running the models\n",
    "\n",
    "model_data_train = spark.read.parquet(f\"{blob_url}/model_train_data_full_v2/*\")\n",
    "model_data_test = spark.read.parquet(f\"{blob_url}/model_test_data_full_v2/*\")\n"
   ]
  },
  {
   "cell_type": "markdown",
   "metadata": {
    "application/vnd.databricks.v1+cell": {
     "inputWidgets": {},
     "nuid": "6a2428d9-109d-4056-a31d-0916b6e8d4a1",
     "showTitle": false,
     "title": ""
    }
   },
   "source": [
    "**Logistic Regression Pipeline**"
   ]
  },
  {
   "cell_type": "code",
   "execution_count": 0,
   "metadata": {
    "application/vnd.databricks.v1+cell": {
     "inputWidgets": {},
     "nuid": "88e94f08-5720-4d55-9b96-fab57db9bfeb",
     "showTitle": false,
     "title": ""
    }
   },
   "outputs": [
    {
     "data": {
      "text/html": [
       "<style scoped>\n",
       "  .ansiout {\n",
       "    display: block;\n",
       "    unicode-bidi: embed;\n",
       "    white-space: pre-wrap;\n",
       "    word-wrap: break-word;\n",
       "    word-break: break-all;\n",
       "    font-family: \"Source Code Pro\", \"Menlo\", monospace;;\n",
       "    font-size: 13px;\n",
       "    color: #555;\n",
       "    margin-left: 4px;\n",
       "    line-height: 19px;\n",
       "  }\n",
       "</style>\n",
       "<div class=\"ansiout\">lr model completed job in 119.23501706123352 seconds.\n",
       "</div>"
      ]
     },
     "metadata": {
      "application/vnd.databricks.v1+output": {
       "addedWidgets": {},
       "arguments": {},
       "data": "<div class=\"ansiout\">lr model completed job in 119.23501706123352 seconds.\n</div>",
       "datasetInfos": [],
       "metadata": {},
       "removedWidgets": [],
       "type": "html"
      }
     },
     "output_type": "display_data"
    }
   ],
   "source": [
    "# Setup pipeline for Logistic Regression\n",
    "\n",
    "from pyspark.ml.classification import LogisticRegression\n",
    "\n",
    "start_lr = time.time()\n",
    "\n",
    "# lr = LogisticRegression(featuresCol='VectorAssembler_features',labelCol='departure_delay_boolean', regParam = 0.2, fitIntercept=True, elasticNetParam=0.0, maxIter=10, threshold = 0.6)\n",
    "\n",
    "lr = LogisticRegression(featuresCol='VectorAssembler_features',labelCol='departure_delay_boolean', regParam = 0.001, fitIntercept=False, elasticNetParam=0.0, maxIter=50, threshold = 0.5)\n",
    "\n",
    "stages_lr = [lr]\n",
    "pipeline_lr = Pipeline(stages=stages_lr)\n",
    "lr_model = pipeline_lr.fit(model_data_train)\n",
    "lrPredictions = lr_model.transform(model_data_test)\n",
    "print(f'lr model completed job in {time.time() - start_lr} seconds.')\n",
    "lr_time_model = time.time() - start_lr"
   ]
  },
  {
   "cell_type": "code",
   "execution_count": 0,
   "metadata": {
    "application/vnd.databricks.v1+cell": {
     "inputWidgets": {},
     "nuid": "bd8b2ae3-50ff-4c33-a88a-d0522b31e6a2",
     "showTitle": false,
     "title": ""
    }
   },
   "outputs": [
    {
     "data": {
      "text/html": [
       "<style scoped>\n",
       "  .ansiout {\n",
       "    display: block;\n",
       "    unicode-bidi: embed;\n",
       "    white-space: pre-wrap;\n",
       "    word-wrap: break-word;\n",
       "    word-break: break-all;\n",
       "    font-family: \"Source Code Pro\", \"Menlo\", monospace;;\n",
       "    font-size: 13px;\n",
       "    color: #555;\n",
       "    margin-left: 4px;\n",
       "    line-height: 19px;\n",
       "  }\n",
       "</style>\n",
       "<div class=\"ansiout\"></div>"
      ]
     },
     "metadata": {
      "application/vnd.databricks.v1+output": {
       "addedWidgets": {},
       "arguments": {},
       "data": "<div class=\"ansiout\"></div>",
       "datasetInfos": [],
       "metadata": {},
       "removedWidgets": [],
       "type": "html"
      }
     },
     "output_type": "display_data"
    }
   ],
   "source": [
    "lrPredictions.write.mode('overwrite').parquet(f\"{blob_url}/lrPredictions_explore\")\n",
    "\n",
    "# eval_predictions.write.mode('overwrite').parquet(f\"{blob_url}/eval_predictions\")\n",
    "# eval_times.write.mode('overwrite').parquet(f\"{blob_url}/eval_predictions\")\n"
   ]
  },
  {
   "cell_type": "markdown",
   "metadata": {
    "application/vnd.databricks.v1+cell": {
     "inputWidgets": {},
     "nuid": "3e815fb5-94cf-40cd-bbab-a9f24e59814c",
     "showTitle": false,
     "title": ""
    }
   },
   "source": [
    "**Logistic Regression Model Evaluation**"
   ]
  },
  {
   "cell_type": "code",
   "execution_count": 0,
   "metadata": {
    "application/vnd.databricks.v1+cell": {
     "inputWidgets": {},
     "nuid": "1c20dfb1-12de-4d59-b169-7c401ef6831d",
     "showTitle": false,
     "title": ""
    }
   },
   "outputs": [
    {
     "data": {
      "text/html": [
       "<style scoped>\n",
       "  .ansiout {\n",
       "    display: block;\n",
       "    unicode-bidi: embed;\n",
       "    white-space: pre-wrap;\n",
       "    word-wrap: break-word;\n",
       "    word-break: break-all;\n",
       "    font-family: \"Source Code Pro\", \"Menlo\", monospace;;\n",
       "    font-size: 13px;\n",
       "    color: #555;\n",
       "    margin-left: 4px;\n",
       "    line-height: 19px;\n",
       "  }\n",
       "</style>\n",
       "<div class=\"ansiout\">              precision    recall  f1-score   support\n",
       "\n",
       "         0.0       0.90      0.73      0.81   5209992\n",
       "         1.0       0.38      0.66      0.48   1292004\n",
       "\n",
       "    accuracy                           0.72   6501996\n",
       "   macro avg       0.64      0.70      0.64   6501996\n",
       "weighted avg       0.79      0.72      0.74   6501996\n",
       "\n",
       "[[3821015 1388977]\n",
       " [ 441096  850908]]\n",
       "</div>"
      ]
     },
     "metadata": {
      "application/vnd.databricks.v1+output": {
       "addedWidgets": {},
       "arguments": {},
       "data": "<div class=\"ansiout\">              precision    recall  f1-score   support\n\n         0.0       0.90      0.73      0.81   5209992\n         1.0       0.38      0.66      0.48   1292004\n\n    accuracy                           0.72   6501996\n   macro avg       0.64      0.70      0.64   6501996\nweighted avg       0.79      0.72      0.74   6501996\n\n[[3821015 1388977]\n [ 441096  850908]]\n</div>",
       "datasetInfos": [],
       "metadata": {},
       "removedWidgets": [],
       "type": "html"
      }
     },
     "output_type": "display_data"
    }
   ],
   "source": [
    "\n",
    "lrPredictions = spark.read.parquet(f\"{blob_url}/lrPredictions_explore/*\")\n",
    "\n",
    "# Model Evaluation with scikit learn\n",
    "y_true_lr = lrPredictions.select(['departure_delay_boolean']).collect()\n",
    "y_pred_lr = lrPredictions.select(['prediction']).collect()\n",
    "\n",
    "# Print metrics\n",
    "from sklearn.metrics import classification_report, confusion_matrix\n",
    "print(classification_report(y_true_lr, y_pred_lr))\n",
    "print(confusion_matrix(y_true_lr, y_pred_lr))"
   ]
  },
  {
   "cell_type": "code",
   "execution_count": 0,
   "metadata": {
    "application/vnd.databricks.v1+cell": {
     "inputWidgets": {},
     "nuid": "ff561a2b-0668-427b-a403-63d486f5617a",
     "showTitle": false,
     "title": ""
    }
   },
   "outputs": [
    {
     "data": {
      "text/html": [
       "<style scoped>\n",
       "  .ansiout {\n",
       "    display: block;\n",
       "    unicode-bidi: embed;\n",
       "    white-space: pre-wrap;\n",
       "    word-wrap: break-word;\n",
       "    word-break: break-all;\n",
       "    font-family: \"Source Code Pro\", \"Menlo\", monospace;;\n",
       "    font-size: 13px;\n",
       "    color: #555;\n",
       "    margin-left: 4px;\n",
       "    line-height: 19px;\n",
       "  }\n",
       "</style>\n",
       "<div class=\"ansiout\">Sensitivity: 65.86%\n",
       "Specificity: 73.34%\n",
       "False positive rate: 26.66%\n",
       "False negative rate: 34.14%\n",
       "Recall: 65.86%\n",
       "Precision: 37.99%\n",
       "f1: 48.18%\n",
       "########### Confusion Matrix ###########\n",
       "                Predicted-delay  Predicted-on time\n",
       "Actual-delay             850908             441096\n",
       "Actual-on time          1388977            3821015\n",
       "</div>"
      ]
     },
     "metadata": {
      "application/vnd.databricks.v1+output": {
       "addedWidgets": {},
       "arguments": {},
       "data": "<div class=\"ansiout\">Sensitivity: 65.86%\nSpecificity: 73.34%\nFalse positive rate: 26.66%\nFalse negative rate: 34.14%\nRecall: 65.86%\nPrecision: 37.99%\nf1: 48.18%\n########### Confusion Matrix ###########\n                Predicted-delay  Predicted-on time\nActual-delay             850908             441096\nActual-on time          1388977            3821015\n</div>",
       "datasetInfos": [],
       "metadata": {},
       "removedWidgets": [],
       "type": "html"
      }
     },
     "output_type": "display_data"
    }
   ],
   "source": [
    "# Print results with helper function\n",
    "\n",
    "print_results(lrPredictions, 'LR', lr_time_model)"
   ]
  },
  {
   "cell_type": "code",
   "execution_count": 0,
   "metadata": {
    "application/vnd.databricks.v1+cell": {
     "inputWidgets": {},
     "nuid": "1cff652e-ec25-480f-ad2e-7a53d8ee4d3e",
     "showTitle": false,
     "title": ""
    }
   },
   "outputs": [
    {
     "data": {
      "text/html": [
       "<style scoped>\n",
       "  .ansiout {\n",
       "    display: block;\n",
       "    unicode-bidi: embed;\n",
       "    white-space: pre-wrap;\n",
       "    word-wrap: break-word;\n",
       "    word-break: break-all;\n",
       "    font-family: \"Source Code Pro\", \"Menlo\", monospace;;\n",
       "    font-size: 13px;\n",
       "    color: #555;\n",
       "    margin-left: 4px;\n",
       "    line-height: 19px;\n",
       "  }\n",
       "</style>\n",
       "<div class=\"ansiout\"></div>"
      ]
     },
     "metadata": {
      "application/vnd.databricks.v1+output": {
       "addedWidgets": {},
       "arguments": {},
       "data": "<div class=\"ansiout\"></div>",
       "datasetInfos": [],
       "metadata": {},
       "removedWidgets": [],
       "type": "html"
      }
     },
     "output_type": "display_data"
    }
   ],
   "source": [
    "# eval_times = spark.createDataFrame(eval_model_times, FloatType())\n",
    "# eval_times.write.mode('overwrite').parquet(f\"{blob_url}/eval_times_explore\")"
   ]
  },
  {
   "cell_type": "code",
   "execution_count": 0,
   "metadata": {
    "application/vnd.databricks.v1+cell": {
     "inputWidgets": {},
     "nuid": "5294dbb1-c92b-42c8-bbb9-88c7bd51a54d",
     "showTitle": false,
     "title": ""
    }
   },
   "outputs": [
    {
     "data": {
      "text/html": [
       "<style scoped>\n",
       "  .ansiout {\n",
       "    display: block;\n",
       "    unicode-bidi: embed;\n",
       "    white-space: pre-wrap;\n",
       "    word-wrap: break-word;\n",
       "    word-break: break-all;\n",
       "    font-family: \"Source Code Pro\", \"Menlo\", monospace;;\n",
       "    font-size: 13px;\n",
       "    color: #555;\n",
       "    margin-left: 4px;\n",
       "    line-height: 19px;\n",
       "  }\n",
       "</style>\n",
       "<div class=\"ansiout\">Out[12]: </div>"
      ]
     },
     "metadata": {
      "application/vnd.databricks.v1+output": {
       "addedWidgets": {},
       "arguments": {},
       "data": "<div class=\"ansiout\">Out[12]: </div>",
       "datasetInfos": [],
       "metadata": {},
       "removedWidgets": [],
       "type": "html"
      }
     },
     "output_type": "display_data"
    },
    {
     "data": {
      "image/png": "[encoded data removed]"
     },
     "metadata": {
      "application/vnd.databricks.v1+output": {
       "addedWidgets": {},
       "arguments": {},
       "data": "data:image/png;base64,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",
       "datasetInfos": [],
       "metadata": {
        "imageDimensions": {
         "height": 278,
         "width": 345
        }
       },
       "removedWidgets": [],
       "type": "image"
      },
      "image/png": {
       "height": 278,
       "width": 345
      }
     },
     "output_type": "display_data"
    },
    {
     "data": {
      "text/html": [
       "<style scoped>\n",
       "  .ansiout {\n",
       "    display: block;\n",
       "    unicode-bidi: embed;\n",
       "    white-space: pre-wrap;\n",
       "    word-wrap: break-word;\n",
       "    word-break: break-all;\n",
       "    font-family: \"Source Code Pro\", \"Menlo\", monospace;;\n",
       "    font-size: 13px;\n",
       "    color: #555;\n",
       "    margin-left: 4px;\n",
       "    line-height: 19px;\n",
       "  }\n",
       "</style>\n",
       "<div class=\"ansiout\">[Text(0.5, 0, &#39;Predicted labels&#39;), Text(0, 0.5, &#39;True labels&#39;)]</div>"
      ]
     },
     "metadata": {
      "application/vnd.databricks.v1+output": {
       "addedWidgets": {},
       "arguments": {},
       "data": "<div class=\"ansiout\">[Text(0.5, 0, &#39;Predicted labels&#39;), Text(0, 0.5, &#39;True labels&#39;)]</div>",
       "datasetInfos": [],
       "metadata": {},
       "removedWidgets": [],
       "type": "html"
      }
     },
     "output_type": "display_data"
    }
   ],
   "source": [
    "# Plot confusion matrix\n",
    "from sklearn.metrics import confusion_matrix, ConfusionMatrixDisplay\n",
    "cm_lr = confusion_matrix(y_true_lr, y_pred_lr)\n",
    "cm_lr_display = ConfusionMatrixDisplay(cm_lr, display_labels=['On Time', 'Delay'])\n",
    "cm_lr_display.plot(cmap='Blues', values_format='d')\n",
    "cm_lr_display.ax_.set(title='Confusion Matrix')\n",
    "cm_lr_display.ax_.set(xlabel='Predicted labels', ylabel='True labels')\n"
   ]
  },
  {
   "cell_type": "markdown",
   "metadata": {
    "application/vnd.databricks.v1+cell": {
     "inputWidgets": {},
     "nuid": "f04dc728-31e4-4a4b-8896-ae8ad3717679",
     "showTitle": false,
     "title": ""
    }
   },
   "source": [
    "#### 5.2. Random Forest Classifier"
   ]
  },
  {
   "cell_type": "markdown",
   "metadata": {
    "application/vnd.databricks.v1+cell": {
     "inputWidgets": {},
     "nuid": "2e0cdf31-3c91-4ecb-92e7-885c64957011",
     "showTitle": false,
     "title": ""
    }
   },
   "source": [
    "> - Random Forest is a supervised learning algorithm that can be used for classification as well as regression. \n",
    "> - Random forest consists of a large number of individual decision tress that operate as an ensemble (or group) of decision trees. \n",
    "> - Initially, it selects a random subset of the total training data, then it fits a decision tree to that subset of the data, creating a \"forest\" of multiple decision trees all trained on slightly different versions of the training data.\n",
    "> - When it comes time to make predictions, each new data point is run through all of the trees in the forest, with each tree getting a single vote as to it's class. The class with the highest votes is the prediction."
   ]
  },
  {
   "cell_type": "markdown",
   "metadata": {
    "application/vnd.databricks.v1+cell": {
     "inputWidgets": {},
     "nuid": "dedd507f-2f50-44fc-be38-ce119c06adea",
     "showTitle": false,
     "title": ""
    }
   },
   "source": [
    "**Random Forest Pipeline**"
   ]
  },
  {
   "cell_type": "code",
   "execution_count": 0,
   "metadata": {
    "application/vnd.databricks.v1+cell": {
     "inputWidgets": {},
     "nuid": "51d57178-5aba-43b8-abcb-9f539d630268",
     "showTitle": false,
     "title": ""
    }
   },
   "outputs": [
    {
     "data": {
      "text/html": [
       "<style scoped>\n",
       "  .ansiout {\n",
       "    display: block;\n",
       "    unicode-bidi: embed;\n",
       "    white-space: pre-wrap;\n",
       "    word-wrap: break-word;\n",
       "    word-break: break-all;\n",
       "    font-family: \"Source Code Pro\", \"Menlo\", monospace;;\n",
       "    font-size: 13px;\n",
       "    color: #555;\n",
       "    margin-left: 4px;\n",
       "    line-height: 19px;\n",
       "  }\n",
       "</style>\n",
       "<div class=\"ansiout\"></div>"
      ]
     },
     "metadata": {
      "application/vnd.databricks.v1+output": {
       "addedWidgets": {},
       "arguments": {},
       "data": "<div class=\"ansiout\"></div>",
       "datasetInfos": [],
       "metadata": {},
       "removedWidgets": [],
       "type": "html"
      }
     },
     "output_type": "display_data"
    }
   ],
   "source": [
    "# # Random Forest Hyperparameter tuning using an exhastive search\n",
    "# from pyspark.ml.classification import RandomForestClassifier\n",
    "# RF_NUM_TREES = [100, 150, 200]\n",
    "# RF_MAX_DEPTH = [5, 10, 15]\n",
    "# RF_NUM_BINS = 32\n",
    " \n",
    "# #f1scores and best_params consist of (NUM_TREES, MAX_DEPTH, f1Score)\n",
    "# f1scores = []\n",
    "# best_f1score = 0\n",
    "# best_params = []\n",
    " \n",
    "# for tr in RF_NUM_TREES:\n",
    "#   for dp in RF_MAX_DEPTH:\n",
    "#     #Cross-validation for time series below.\n",
    "#     f1score_total = 0\n",
    "      \n",
    "#     rf = RandomForestClassifier(labelCol='departure_delay_boolean',\n",
    "#                           featuresCol='VectorAssembler_features',\n",
    "#                           maxDepth= dp,\n",
    "#                           numTrees = tr,\n",
    "#                           maxBins = RF_NUM_BINS,\n",
    "#                           impurity = \"gini\",\n",
    "#                           seed = 123)\n",
    "\n",
    "#     #Fit the model\n",
    "#     rfModel = rf.fit(model_data_train) \n",
    "\n",
    "#     # Test on test set\n",
    "#     rfPredictions = rfModel.transform(model_data_test)\n",
    "#     accuracy, precision, recall, f1score = get_metrics(rfPredictions, \"departure_delay_boolean\")\n",
    "# #    f1score_total += f1score\n",
    "\n",
    "#   f1scores.append((tr, dp, f1score))\n",
    "#   if (f1score > best_f1score):\n",
    "#     best_f1score = f1score\n",
    "#     best_params = (tr, dp, f1score)\n",
    "\n",
    "#   print(f\"Trees param: {tr}, Depth param: {dp}, f1score: {f1score:0.4f}.\")\n",
    "\n",
    "# print(f\"Best param: {best_params}\")"
   ]
  },
  {
   "cell_type": "code",
   "execution_count": 0,
   "metadata": {
    "application/vnd.databricks.v1+cell": {
     "inputWidgets": {},
     "nuid": "aa03108b-6227-4dc2-b4a4-3fc3d82d2add",
     "showTitle": false,
     "title": ""
    }
   },
   "outputs": [
    {
     "data": {
      "text/html": [
       "<style scoped>\n",
       "  .ansiout {\n",
       "    display: block;\n",
       "    unicode-bidi: embed;\n",
       "    white-space: pre-wrap;\n",
       "    word-wrap: break-word;\n",
       "    word-break: break-all;\n",
       "    font-family: \"Source Code Pro\", \"Menlo\", monospace;;\n",
       "    font-size: 13px;\n",
       "    color: #555;\n",
       "    margin-left: 4px;\n",
       "    line-height: 19px;\n",
       "  }\n",
       "</style>\n",
       "<div class=\"ansiout\">rf model completed job in 1027.4206461906433 seconds.\n",
       "</div>"
      ]
     },
     "metadata": {
      "application/vnd.databricks.v1+output": {
       "addedWidgets": {},
       "arguments": {},
       "data": "<div class=\"ansiout\">rf model completed job in 1027.4206461906433 seconds.\n</div>",
       "datasetInfos": [],
       "metadata": {},
       "removedWidgets": [],
       "type": "html"
      }
     },
     "output_type": "display_data"
    }
   ],
   "source": [
    "# from pyspark.ml.classification import LogisticRegression\n",
    "from pyspark.ml.classification import RandomForestClassifier\n",
    "\n",
    "# added impurity=\"gini\", maxDepth=15, numTrees=200, maxBins=32, seed=123, / 5 100\n",
    "start_rf = time.time()\n",
    "rf = RandomForestClassifier(labelCol='departure_delay_boolean',\n",
    "                            featuresCol='VectorAssembler_features',\n",
    "                            maxDepth= 10,\n",
    "                            numTrees = 50,\n",
    "                            maxBins = 32,\n",
    "                            impurity = \"gini\",\n",
    "                            seed = 123)\n",
    "\n",
    "stages_rf = [rf]\n",
    "pipeline_rf = Pipeline(stages=stages_rf)\n",
    "rf_model = pipeline_rf.fit(model_data_train)\n",
    "rfPredictions = rf_model.transform(model_data_test)\n",
    "\n",
    "print(f'rf model completed job in {time.time() - start_rf} seconds.')\n",
    "rf_time_model = time.time() - start_rf"
   ]
  },
  {
   "cell_type": "code",
   "execution_count": 0,
   "metadata": {
    "application/vnd.databricks.v1+cell": {
     "inputWidgets": {},
     "nuid": "20a9b414-48d5-48ef-8957-5869ab98d249",
     "showTitle": false,
     "title": ""
    }
   },
   "outputs": [
    {
     "data": {
      "text/html": [
       "<style scoped>\n",
       "  .ansiout {\n",
       "    display: block;\n",
       "    unicode-bidi: embed;\n",
       "    white-space: pre-wrap;\n",
       "    word-wrap: break-word;\n",
       "    word-break: break-all;\n",
       "    font-family: \"Source Code Pro\", \"Menlo\", monospace;;\n",
       "    font-size: 13px;\n",
       "    color: #555;\n",
       "    margin-left: 4px;\n",
       "    line-height: 19px;\n",
       "  }\n",
       "</style>\n",
       "<div class=\"ansiout\"></div>"
      ]
     },
     "metadata": {
      "application/vnd.databricks.v1+output": {
       "addedWidgets": {},
       "arguments": {},
       "data": "<div class=\"ansiout\"></div>",
       "datasetInfos": [],
       "metadata": {},
       "removedWidgets": [],
       "type": "html"
      }
     },
     "output_type": "display_data"
    }
   ],
   "source": [
    "rfPredictions.write.mode('overwrite').parquet(f\"{blob_url}/rfPredictions_explore\")"
   ]
  },
  {
   "cell_type": "markdown",
   "metadata": {
    "application/vnd.databricks.v1+cell": {
     "inputWidgets": {},
     "nuid": "207741c0-161a-4b71-ab8d-01320b4a1ca0",
     "showTitle": false,
     "title": ""
    }
   },
   "source": [
    "**Random Forest Model Evaluation**"
   ]
  },
  {
   "cell_type": "code",
   "execution_count": 0,
   "metadata": {
    "application/vnd.databricks.v1+cell": {
     "inputWidgets": {},
     "nuid": "85f2e824-6ba8-4348-9287-32439074932d",
     "showTitle": false,
     "title": ""
    }
   },
   "outputs": [
    {
     "data": {
      "text/html": [
       "<style scoped>\n",
       "  .ansiout {\n",
       "    display: block;\n",
       "    unicode-bidi: embed;\n",
       "    white-space: pre-wrap;\n",
       "    word-wrap: break-word;\n",
       "    word-break: break-all;\n",
       "    font-family: \"Source Code Pro\", \"Menlo\", monospace;;\n",
       "    font-size: 13px;\n",
       "    color: #555;\n",
       "    margin-left: 4px;\n",
       "    line-height: 19px;\n",
       "  }\n",
       "</style>\n",
       "<div class=\"ansiout\">              precision    recall  f1-score   support\n",
       "\n",
       "         0.0       0.89      0.76      0.82   5209992\n",
       "         1.0       0.40      0.63      0.49   1292004\n",
       "\n",
       "    accuracy                           0.74   6501996\n",
       "   macro avg       0.64      0.69      0.65   6501996\n",
       "weighted avg       0.79      0.74      0.76   6501996\n",
       "\n",
       "[[3971690 1238302]\n",
       " [ 481590  810414]]\n",
       "</div>"
      ]
     },
     "metadata": {
      "application/vnd.databricks.v1+output": {
       "addedWidgets": {},
       "arguments": {},
       "data": "<div class=\"ansiout\">              precision    recall  f1-score   support\n\n         0.0       0.89      0.76      0.82   5209992\n         1.0       0.40      0.63      0.49   1292004\n\n    accuracy                           0.74   6501996\n   macro avg       0.64      0.69      0.65   6501996\nweighted avg       0.79      0.74      0.76   6501996\n\n[[3971690 1238302]\n [ 481590  810414]]\n</div>",
       "datasetInfos": [],
       "metadata": {},
       "removedWidgets": [],
       "type": "html"
      }
     },
     "output_type": "display_data"
    }
   ],
   "source": [
    "# Model Evaluation\n",
    "\n",
    "rfPredictions = spark.read.parquet(f\"{blob_url}/rfPredictions_explore/*\")\n",
    "\n",
    "eval_accuracy = MulticlassClassificationEvaluator(labelCol=\"departure_delay_boolean\", predictionCol=\"prediction\", metricName=\"accuracy\")\n",
    "eval_precision = MulticlassClassificationEvaluator(labelCol=\"departure_delay_boolean\", predictionCol=\"prediction\", metricName=\"precision\")\n",
    "eval_recall = MulticlassClassificationEvaluator(labelCol=\"departure_delay_boolean\", predictionCol=\"prediction\", metricName=\"recall\")\n",
    "evaluator = MulticlassClassificationEvaluator(labelCol=\"departure_delay_boolean\", predictionCol=\"prediction\", metricName=\"f1\")\n",
    "evaluator.evaluate(rfPredictions)\n",
    "\n",
    "# Model Evaluation with scikit learn\n",
    "y_true_rf = rfPredictions.select(['departure_delay_boolean']).collect()\n",
    "y_pred_rf = rfPredictions.select(['prediction']).collect()\n",
    "\n",
    "# Print metrics\n",
    "\n",
    "print(classification_report(y_true_rf, y_pred_rf))\n",
    "print(confusion_matrix(y_true_rf, y_pred_rf))"
   ]
  },
  {
   "cell_type": "code",
   "execution_count": 0,
   "metadata": {
    "application/vnd.databricks.v1+cell": {
     "inputWidgets": {},
     "nuid": "b7b53b30-59f3-4bd5-adca-7428ab708485",
     "showTitle": false,
     "title": ""
    }
   },
   "outputs": [
    {
     "data": {
      "text/html": [
       "<style scoped>\n",
       "  .ansiout {\n",
       "    display: block;\n",
       "    unicode-bidi: embed;\n",
       "    white-space: pre-wrap;\n",
       "    word-wrap: break-word;\n",
       "    word-break: break-all;\n",
       "    font-family: \"Source Code Pro\", \"Menlo\", monospace;;\n",
       "    font-size: 13px;\n",
       "    color: #555;\n",
       "    margin-left: 4px;\n",
       "    line-height: 19px;\n",
       "  }\n",
       "</style>\n",
       "<div class=\"ansiout\">Sensitivity: 62.73%\n",
       "Specificity: 76.23%\n",
       "False positive rate: 23.77%\n",
       "False negative rate: 37.27%\n",
       "Recall: 62.73%\n",
       "Precision: 39.56%\n",
       "f1: 48.52%\n",
       "########### Confusion Matrix ###########\n",
       "                Predicted-delay  Predicted-on time\n",
       "Actual-delay             810414             481590\n",
       "Actual-on time          1238302            3971690\n",
       "</div>"
      ]
     },
     "metadata": {
      "application/vnd.databricks.v1+output": {
       "addedWidgets": {},
       "arguments": {},
       "data": "<div class=\"ansiout\">Sensitivity: 62.73%\nSpecificity: 76.23%\nFalse positive rate: 23.77%\nFalse negative rate: 37.27%\nRecall: 62.73%\nPrecision: 39.56%\nf1: 48.52%\n########### Confusion Matrix ###########\n                Predicted-delay  Predicted-on time\nActual-delay             810414             481590\nActual-on time          1238302            3971690\n</div>",
       "datasetInfos": [],
       "metadata": {},
       "removedWidgets": [],
       "type": "html"
      }
     },
     "output_type": "display_data"
    }
   ],
   "source": [
    "# print results with helper function\n",
    "print_results(rfPredictions, 'RF', rf_time_model)"
   ]
  },
  {
   "cell_type": "code",
   "execution_count": 0,
   "metadata": {
    "application/vnd.databricks.v1+cell": {
     "inputWidgets": {},
     "nuid": "7a6397ec-2074-43c0-ad70-043d38cf1ee2",
     "showTitle": false,
     "title": ""
    }
   },
   "outputs": [
    {
     "data": {
      "text/html": [
       "<style scoped>\n",
       "  .ansiout {\n",
       "    display: block;\n",
       "    unicode-bidi: embed;\n",
       "    white-space: pre-wrap;\n",
       "    word-wrap: break-word;\n",
       "    word-break: break-all;\n",
       "    font-family: \"Source Code Pro\", \"Menlo\", monospace;;\n",
       "    font-size: 13px;\n",
       "    color: #555;\n",
       "    margin-left: 4px;\n",
       "    line-height: 19px;\n",
       "  }\n",
       "</style>\n",
       "<div class=\"ansiout\">Out[18]: </div>"
      ]
     },
     "metadata": {
      "application/vnd.databricks.v1+output": {
       "addedWidgets": {},
       "arguments": {},
       "data": "<div class=\"ansiout\">Out[18]: </div>",
       "datasetInfos": [],
       "metadata": {},
       "removedWidgets": [],
       "type": "html"
      }
     },
     "output_type": "display_data"
    },
    {
     "data": {
      "image/png": "[encoded data removed]"
     },
     "metadata": {
      "application/vnd.databricks.v1+output": {
       "addedWidgets": {},
       "arguments": {},
       "data": "data:image/png;base64,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",
       "datasetInfos": [],
       "metadata": {
        "imageDimensions": {
         "height": 278,
         "width": 345
        }
       },
       "removedWidgets": [],
       "type": "image"
      },
      "image/png": {
       "height": 278,
       "width": 345
      }
     },
     "output_type": "display_data"
    },
    {
     "data": {
      "text/html": [
       "<style scoped>\n",
       "  .ansiout {\n",
       "    display: block;\n",
       "    unicode-bidi: embed;\n",
       "    white-space: pre-wrap;\n",
       "    word-wrap: break-word;\n",
       "    word-break: break-all;\n",
       "    font-family: \"Source Code Pro\", \"Menlo\", monospace;;\n",
       "    font-size: 13px;\n",
       "    color: #555;\n",
       "    margin-left: 4px;\n",
       "    line-height: 19px;\n",
       "  }\n",
       "</style>\n",
       "<div class=\"ansiout\">[Text(0.5, 0, &#39;Predicted labels&#39;), Text(0, 0.5, &#39;True labels&#39;)]</div>"
      ]
     },
     "metadata": {
      "application/vnd.databricks.v1+output": {
       "addedWidgets": {},
       "arguments": {},
       "data": "<div class=\"ansiout\">[Text(0.5, 0, &#39;Predicted labels&#39;), Text(0, 0.5, &#39;True labels&#39;)]</div>",
       "datasetInfos": [],
       "metadata": {},
       "removedWidgets": [],
       "type": "html"
      }
     },
     "output_type": "display_data"
    }
   ],
   "source": [
    "# Plot confusion matrix\n",
    "\n",
    "cm_rf = confusion_matrix(y_true_rf, y_pred_rf)\n",
    "cm_rf_display = ConfusionMatrixDisplay(cm_rf, display_labels=['On Time', 'Delay'])\n",
    "cm_rf_display.plot(cmap='Blues', values_format='d')\n",
    "cm_rf_display.ax_.set(title='Confusion Matrix-Random Forest')\n",
    "cm_rf_display.ax_.set(xlabel='Predicted labels', ylabel='True labels')"
   ]
  },
  {
   "cell_type": "markdown",
   "metadata": {
    "application/vnd.databricks.v1+cell": {
     "inputWidgets": {},
     "nuid": "bff5df4c-0a40-46c4-afc4-0dfa2121aaa9",
     "showTitle": false,
     "title": ""
    }
   },
   "source": [
    "#### 5.3. Support Vector Machine"
   ]
  },
  {
   "cell_type": "markdown",
   "metadata": {
    "application/vnd.databricks.v1+cell": {
     "inputWidgets": {},
     "nuid": "d7b3a73d-d53c-43fd-9a77-bb999f3f6086",
     "showTitle": false,
     "title": ""
    }
   },
   "source": [
    "The objective of the support vector machine algorithm is to find a hyperplane in an N-dimensional space(N — the number of features) that distinctly classifies the data points.\n",
    "\n",
    "We used the **LinearSVC** class in PySpark because we are doing support vector classification - and not regression. It is important to note that LinearSVC in Pyspark optimizes the Hinge Loss using the OWLQN optimizer. It only supports L2 regularization currently.\n",
    "\n",
    "**Comparison of SVC with other models:**\n",
    "\n",
    "1) SVC vs Random Forest or Gradient Boosted tree \n",
    "\n",
    "> - SVM requires more computation time for achieving almost the same accuracy as with other classifiers such as Random forest.\n",
    "> - Random Forest is intrinsically suited for multiclass problems, while SVM is intrinsically two-class. For multiclass problem, while using SVM, it is needed to reduce it into multiple binary classification problems.\n",
    "> - Random Forest works well with a mixture of numerical and categorical features, even when features are on the various scales. Basically, with Random Forest we can use data as they are. SVM maximizes the \"margin\" and thus relies on the concept of \"distance\" between different points. In that case it falls on us to decide if \"distance\" is meaningful. As a consequence, in SVM, one-hot encoding for categorical features is a must-do. Further, min-max or other scaling is highly recommended at preprocessing step for SVM.\n",
    "> - For a classification problem like the one that we built our model on, Random Forest gives the probability of belonging to class whereas SVM gives the distance to the boundary, Hence, for those problems, SVM generally performs better than Random Forest. But the caveat here is that, for SVM, we still need to convert it to probability somehow if we need probability.\n",
    "\n",
    "2) SVC vs Logistic Regression\n",
    "Comparing SVC vs Logistic Regression, SVC tries to find an optimal hyperplane rather than focusing on maximizing the probability of the data. It is less prone to overfitting compared to logistic regression, however, may take longer to train. We expected SVM to perform at par or better than logistic regression."
   ]
  },
  {
   "cell_type": "markdown",
   "metadata": {
    "application/vnd.databricks.v1+cell": {
     "inputWidgets": {},
     "nuid": "9ed60c39-d47c-436d-a191-c39737982be9",
     "showTitle": false,
     "title": ""
    }
   },
   "source": [
    "##### 5.3.1. SVM Model Pipeline"
   ]
  },
  {
   "cell_type": "code",
   "execution_count": 0,
   "metadata": {
    "application/vnd.databricks.v1+cell": {
     "inputWidgets": {},
     "nuid": "3566436e-3f54-4a5a-8540-1c0b2bb80947",
     "showTitle": false,
     "title": ""
    }
   },
   "outputs": [
    {
     "data": {
      "text/html": [
       "<style scoped>\n",
       "  .ansiout {\n",
       "    display: block;\n",
       "    unicode-bidi: embed;\n",
       "    white-space: pre-wrap;\n",
       "    word-wrap: break-word;\n",
       "    word-break: break-all;\n",
       "    font-family: \"Source Code Pro\", \"Menlo\", monospace;;\n",
       "    font-size: 13px;\n",
       "    color: #555;\n",
       "    margin-left: 4px;\n",
       "    line-height: 19px;\n",
       "  }\n",
       "</style>\n",
       "<div class=\"ansiout\">svc model completed job in 166.8932294845581 seconds.\n",
       "</div>"
      ]
     },
     "metadata": {
      "application/vnd.databricks.v1+output": {
       "addedWidgets": {},
       "arguments": {},
       "data": "<div class=\"ansiout\">svc model completed job in 166.8932294845581 seconds.\n</div>",
       "datasetInfos": [],
       "metadata": {},
       "removedWidgets": [],
       "type": "html"
      }
     },
     "output_type": "display_data"
    }
   ],
   "source": [
    "from pyspark.ml.classification import LinearSVC\n",
    "start_svc = time.time()\n",
    "lsvc = LinearSVC(featuresCol='VectorAssembler_features',\n",
    "                 labelCol='departure_delay_boolean',\n",
    "                 maxIter=100, regParam=0.2, tol=1e-05,\n",
    "                 threshold=0.0001, aggregationDepth=2 )\n",
    "\n",
    "stages_lsvc = [lsvc]\n",
    "pipeline_lsvc = Pipeline(stages=stages_lsvc)\n",
    "lsvc_model = pipeline_lsvc.fit(model_data_train)\n",
    "lsvcPredictions = lsvc_model.transform(model_data_test)\n",
    "print(f'svc model completed job in {time.time() - start_svc} seconds.')\n",
    "svc_time_model = time.time() - start_svc"
   ]
  },
  {
   "cell_type": "code",
   "execution_count": 0,
   "metadata": {
    "application/vnd.databricks.v1+cell": {
     "inputWidgets": {},
     "nuid": "76233355-3ebc-452a-abbe-3438ac54c576",
     "showTitle": false,
     "title": ""
    }
   },
   "outputs": [
    {
     "data": {
      "text/html": [
       "<style scoped>\n",
       "  .ansiout {\n",
       "    display: block;\n",
       "    unicode-bidi: embed;\n",
       "    white-space: pre-wrap;\n",
       "    word-wrap: break-word;\n",
       "    word-break: break-all;\n",
       "    font-family: \"Source Code Pro\", \"Menlo\", monospace;;\n",
       "    font-size: 13px;\n",
       "    color: #555;\n",
       "    margin-left: 4px;\n",
       "    line-height: 19px;\n",
       "  }\n",
       "</style>\n",
       "<div class=\"ansiout\"></div>"
      ]
     },
     "metadata": {
      "application/vnd.databricks.v1+output": {
       "addedWidgets": {},
       "arguments": {},
       "data": "<div class=\"ansiout\"></div>",
       "datasetInfos": [],
       "metadata": {},
       "removedWidgets": [],
       "type": "html"
      }
     },
     "output_type": "display_data"
    }
   ],
   "source": [
    "lsvcPredictions.write.mode('overwrite').parquet(f\"{blob_url}/lsvcPredictions_explore\")"
   ]
  },
  {
   "cell_type": "code",
   "execution_count": 0,
   "metadata": {
    "application/vnd.databricks.v1+cell": {
     "inputWidgets": {},
     "nuid": "8eec2a60-ca6e-47f8-ace9-11101e57d961",
     "showTitle": false,
     "title": ""
    }
   },
   "outputs": [
    {
     "data": {
      "text/html": [
       "<style scoped>\n",
       "  .ansiout {\n",
       "    display: block;\n",
       "    unicode-bidi: embed;\n",
       "    white-space: pre-wrap;\n",
       "    word-wrap: break-word;\n",
       "    word-break: break-all;\n",
       "    font-family: \"Source Code Pro\", \"Menlo\", monospace;;\n",
       "    font-size: 13px;\n",
       "    color: #555;\n",
       "    margin-left: 4px;\n",
       "    line-height: 19px;\n",
       "  }\n",
       "</style>\n",
       "<div class=\"ansiout\">              precision    recall  f1-score   support\n",
       "\n",
       "         0.0       0.88      0.75      0.81   5209992\n",
       "         1.0       0.37      0.58      0.45   1292004\n",
       "\n",
       "    accuracy                           0.72   6501996\n",
       "   macro avg       0.62      0.67      0.63   6501996\n",
       "weighted avg       0.78      0.72      0.74   6501996\n",
       "\n",
       "[[3910203 1299789]\n",
       " [ 538199  753805]]\n",
       "</div>"
      ]
     },
     "metadata": {
      "application/vnd.databricks.v1+output": {
       "addedWidgets": {},
       "arguments": {},
       "data": "<div class=\"ansiout\">              precision    recall  f1-score   support\n\n         0.0       0.88      0.75      0.81   5209992\n         1.0       0.37      0.58      0.45   1292004\n\n    accuracy                           0.72   6501996\n   macro avg       0.62      0.67      0.63   6501996\nweighted avg       0.78      0.72      0.74   6501996\n\n[[3910203 1299789]\n [ 538199  753805]]\n</div>",
       "datasetInfos": [],
       "metadata": {},
       "removedWidgets": [],
       "type": "html"
      }
     },
     "output_type": "display_data"
    }
   ],
   "source": [
    "lsvcPredictions = spark.read.parquet(f\"{blob_url}/lsvcPredictions_explore/*\")\n",
    "\n",
    "# Model Evaluation with scikit learn\n",
    "y_true_lsvc = lsvcPredictions.select(['departure_delay_boolean']).collect()\n",
    "y_pred_lsvc = lsvcPredictions.select(['prediction']).collect()\n",
    "\n",
    "# Print metrics\n",
    "from sklearn.metrics import classification_report, confusion_matrix\n",
    "print(classification_report(y_true_lsvc, y_pred_lsvc))\n",
    "print(confusion_matrix(y_true_lsvc, y_pred_lsvc))\n"
   ]
  },
  {
   "cell_type": "code",
   "execution_count": 0,
   "metadata": {
    "application/vnd.databricks.v1+cell": {
     "inputWidgets": {},
     "nuid": "c94ccc7c-6cb9-4b83-a8a9-378b43b73a59",
     "showTitle": false,
     "title": ""
    }
   },
   "outputs": [
    {
     "data": {
      "text/html": [
       "<style scoped>\n",
       "  .ansiout {\n",
       "    display: block;\n",
       "    unicode-bidi: embed;\n",
       "    white-space: pre-wrap;\n",
       "    word-wrap: break-word;\n",
       "    word-break: break-all;\n",
       "    font-family: \"Source Code Pro\", \"Menlo\", monospace;;\n",
       "    font-size: 13px;\n",
       "    color: #555;\n",
       "    margin-left: 4px;\n",
       "    line-height: 19px;\n",
       "  }\n",
       "</style>\n",
       "<div class=\"ansiout\">Sensitivity: 58.34%\n",
       "Specificity: 75.05%\n",
       "False positive rate: 24.95%\n",
       "False negative rate: 41.66%\n",
       "Recall: 58.34%\n",
       "Precision: 36.71%\n",
       "f1: 45.06%\n",
       "########### Confusion Matrix ###########\n",
       "                Predicted-delay  Predicted-on time\n",
       "Actual-delay             753805             538199\n",
       "Actual-on time          1299789            3910203\n",
       "</div>"
      ]
     },
     "metadata": {
      "application/vnd.databricks.v1+output": {
       "addedWidgets": {},
       "arguments": {},
       "data": "<div class=\"ansiout\">Sensitivity: 58.34%\nSpecificity: 75.05%\nFalse positive rate: 24.95%\nFalse negative rate: 41.66%\nRecall: 58.34%\nPrecision: 36.71%\nf1: 45.06%\n########### Confusion Matrix ###########\n                Predicted-delay  Predicted-on time\nActual-delay             753805             538199\nActual-on time          1299789            3910203\n</div>",
       "datasetInfos": [],
       "metadata": {},
       "removedWidgets": [],
       "type": "html"
      }
     },
     "output_type": "display_data"
    }
   ],
   "source": [
    "print_results(lsvcPredictions, 'SVM', svc_time_model)"
   ]
  },
  {
   "cell_type": "code",
   "execution_count": 0,
   "metadata": {
    "application/vnd.databricks.v1+cell": {
     "inputWidgets": {},
     "nuid": "8c7d33dd-a280-4b9e-a774-11bb0333df46",
     "showTitle": false,
     "title": ""
    }
   },
   "outputs": [
    {
     "data": {
      "text/html": [
       "<style scoped>\n",
       "  .ansiout {\n",
       "    display: block;\n",
       "    unicode-bidi: embed;\n",
       "    white-space: pre-wrap;\n",
       "    word-wrap: break-word;\n",
       "    word-break: break-all;\n",
       "    font-family: \"Source Code Pro\", \"Menlo\", monospace;;\n",
       "    font-size: 13px;\n",
       "    color: #555;\n",
       "    margin-left: 4px;\n",
       "    line-height: 19px;\n",
       "  }\n",
       "</style>\n",
       "<div class=\"ansiout\"></div>"
      ]
     },
     "metadata": {
      "application/vnd.databricks.v1+output": {
       "addedWidgets": {},
       "arguments": {},
       "data": "<div class=\"ansiout\"></div>",
       "datasetInfos": [],
       "metadata": {},
       "removedWidgets": [],
       "type": "html"
      }
     },
     "output_type": "display_data"
    }
   ],
   "source": [
    "# eval_times = spark.createDataFrame(eval_model_times, FloatType())\n",
    "# eval_times.write.mode('overwrite').parquet(f\"{blob_url}/eval_times_explore\")"
   ]
  },
  {
   "cell_type": "code",
   "execution_count": 0,
   "metadata": {
    "application/vnd.databricks.v1+cell": {
     "inputWidgets": {},
     "nuid": "ba78b98f-516c-4a57-9692-312d188fc03b",
     "showTitle": false,
     "title": ""
    }
   },
   "outputs": [
    {
     "data": {
      "text/html": [
       "<style scoped>\n",
       "  .ansiout {\n",
       "    display: block;\n",
       "    unicode-bidi: embed;\n",
       "    white-space: pre-wrap;\n",
       "    word-wrap: break-word;\n",
       "    word-break: break-all;\n",
       "    font-family: \"Source Code Pro\", \"Menlo\", monospace;;\n",
       "    font-size: 13px;\n",
       "    color: #555;\n",
       "    margin-left: 4px;\n",
       "    line-height: 19px;\n",
       "  }\n",
       "</style>\n",
       "<div class=\"ansiout\">Out[24]: </div>"
      ]
     },
     "metadata": {
      "application/vnd.databricks.v1+output": {
       "addedWidgets": {},
       "arguments": {},
       "data": "<div class=\"ansiout\">Out[24]: </div>",
       "datasetInfos": [],
       "metadata": {},
       "removedWidgets": [],
       "type": "html"
      }
     },
     "output_type": "display_data"
    },
    {
     "data": {
      "image/png": "[encoded data removed]"
     },
     "metadata": {
      "application/vnd.databricks.v1+output": {
       "addedWidgets": {},
       "arguments": {},
       "data": "data:image/png;base64,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",
       "datasetInfos": [],
       "metadata": {
        "imageDimensions": {
         "height": 278,
         "width": 345
        }
       },
       "removedWidgets": [],
       "type": "image"
      },
      "image/png": {
       "height": 278,
       "width": 345
      }
     },
     "output_type": "display_data"
    },
    {
     "data": {
      "text/html": [
       "<style scoped>\n",
       "  .ansiout {\n",
       "    display: block;\n",
       "    unicode-bidi: embed;\n",
       "    white-space: pre-wrap;\n",
       "    word-wrap: break-word;\n",
       "    word-break: break-all;\n",
       "    font-family: \"Source Code Pro\", \"Menlo\", monospace;;\n",
       "    font-size: 13px;\n",
       "    color: #555;\n",
       "    margin-left: 4px;\n",
       "    line-height: 19px;\n",
       "  }\n",
       "</style>\n",
       "<div class=\"ansiout\">[Text(0.5, 0, &#39;Predicted labels&#39;), Text(0, 0.5, &#39;True labels&#39;)]</div>"
      ]
     },
     "metadata": {
      "application/vnd.databricks.v1+output": {
       "addedWidgets": {},
       "arguments": {},
       "data": "<div class=\"ansiout\">[Text(0.5, 0, &#39;Predicted labels&#39;), Text(0, 0.5, &#39;True labels&#39;)]</div>",
       "datasetInfos": [],
       "metadata": {},
       "removedWidgets": [],
       "type": "html"
      }
     },
     "output_type": "display_data"
    }
   ],
   "source": [
    "#Plot Confusion Matrix\n",
    "\n",
    "cm_lsvc = confusion_matrix(y_true_lsvc, y_pred_lsvc)\n",
    "cm_lsvc_display = ConfusionMatrixDisplay(cm_lsvc, display_labels=['On Time', 'Delay'])\n",
    "cm_lsvc_display.plot(cmap='Blues', values_format='d')\n",
    "cm_lsvc_display.ax_.set(title='Confusion Matrix-SVM')\n",
    "cm_lsvc_display.ax_.set(xlabel='Predicted labels', ylabel='True labels')"
   ]
  },
  {
   "cell_type": "code",
   "execution_count": 0,
   "metadata": {
    "application/vnd.databricks.v1+cell": {
     "inputWidgets": {},
     "nuid": "1a6b0895-51a2-4ac6-90fa-4ba5b1175fa6",
     "showTitle": false,
     "title": ""
    }
   },
   "outputs": [
    {
     "data": {
      "text/html": [
       "<style scoped>\n",
       "  .ansiout {\n",
       "    display: block;\n",
       "    unicode-bidi: embed;\n",
       "    white-space: pre-wrap;\n",
       "    word-wrap: break-word;\n",
       "    word-break: break-all;\n",
       "    font-family: \"Source Code Pro\", \"Menlo\", monospace;;\n",
       "    font-size: 13px;\n",
       "    color: #555;\n",
       "    margin-left: 4px;\n",
       "    line-height: 19px;\n",
       "  }\n",
       "</style>\n",
       "<div class=\"ansiout\">{&#39;LR&#39;: (0.48, 0.66, 0.38, 0.66, 0.73, 0.27, 0.34, 119.24), &#39;RF&#39;: (0.49, 0.63, 0.4, 0.63, 0.76, 0.24, 0.37, 1027.42), &#39;SVM&#39;: (0.45, 0.58, 0.37, 0.58, 0.75, 0.25, 0.42, 166.89)}\n",
       "</div>"
      ]
     },
     "metadata": {
      "application/vnd.databricks.v1+output": {
       "addedWidgets": {},
       "arguments": {},
       "data": "<div class=\"ansiout\">{&#39;LR&#39;: (0.48, 0.66, 0.38, 0.66, 0.73, 0.27, 0.34, 119.24), &#39;RF&#39;: (0.49, 0.63, 0.4, 0.63, 0.76, 0.24, 0.37, 1027.42), &#39;SVM&#39;: (0.45, 0.58, 0.37, 0.58, 0.75, 0.25, 0.42, 166.89)}\n</div>",
       "datasetInfos": [],
       "metadata": {},
       "removedWidgets": [],
       "type": "html"
      }
     },
     "output_type": "display_data"
    }
   ],
   "source": [
    "print(eval_metrics)"
   ]
  },
  {
   "cell_type": "code",
   "execution_count": 0,
   "metadata": {
    "application/vnd.databricks.v1+cell": {
     "inputWidgets": {},
     "nuid": "5d950189-3cbd-42a0-83da-474a96d787d4",
     "showTitle": false,
     "title": ""
    }
   },
   "outputs": [
    {
     "data": {
      "text/html": [
       "<table border=\"1\" class=\"dataframe\">\n",
       "  <thead>\n",
       "    <tr style=\"text-align: right;\">\n",
       "      <th>Metric</th>\n",
       "      <th>SVM</th>\n",
       "      <th>LR</th>\n",
       "      <th>RF</th>\n",
       "    </tr>\n",
       "  </thead>\n",
       "  <tbody>\n",
       "    <tr>\n",
       "      <td>F1</td>\n",
       "      <td>0.45</td>\n",
       "      <td>0.48</td>\n",
       "      <td>0.49</td>\n",
       "    </tr>\n",
       "    <tr>\n",
       "      <td>Recall</td>\n",
       "      <td>0.58</td>\n",
       "      <td>0.66</td>\n",
       "      <td>0.63</td>\n",
       "    </tr>\n",
       "    <tr>\n",
       "      <td>Precision</td>\n",
       "      <td>0.37</td>\n",
       "      <td>0.38</td>\n",
       "      <td>0.40</td>\n",
       "    </tr>\n",
       "    <tr>\n",
       "      <td>Sensitivity</td>\n",
       "      <td>0.58</td>\n",
       "      <td>0.66</td>\n",
       "      <td>0.63</td>\n",
       "    </tr>\n",
       "    <tr>\n",
       "      <td>Specificity</td>\n",
       "      <td>0.75</td>\n",
       "      <td>0.73</td>\n",
       "      <td>0.76</td>\n",
       "    </tr>\n",
       "    <tr>\n",
       "      <td>FP</td>\n",
       "      <td>0.25</td>\n",
       "      <td>0.27</td>\n",
       "      <td>0.24</td>\n",
       "    </tr>\n",
       "    <tr>\n",
       "      <td>FN</td>\n",
       "      <td>0.42</td>\n",
       "      <td>0.34</td>\n",
       "      <td>0.37</td>\n",
       "    </tr>\n",
       "    <tr>\n",
       "      <td>Time</td>\n",
       "      <td>166.89</td>\n",
       "      <td>119.24</td>\n",
       "      <td>1027.42</td>\n",
       "    </tr>\n",
       "  </tbody>\n",
       "</table>"
      ]
     },
     "metadata": {
      "application/vnd.databricks.v1+output": {
       "addedWidgets": {},
       "arguments": {},
       "data": "<table border=\"1\" class=\"dataframe\">\n  <thead>\n    <tr style=\"text-align: right;\">\n      <th>Metric</th>\n      <th>SVM</th>\n      <th>LR</th>\n      <th>RF</th>\n    </tr>\n  </thead>\n  <tbody>\n    <tr>\n      <td>F1</td>\n      <td>0.45</td>\n      <td>0.48</td>\n      <td>0.49</td>\n    </tr>\n    <tr>\n      <td>Recall</td>\n      <td>0.58</td>\n      <td>0.66</td>\n      <td>0.63</td>\n    </tr>\n    <tr>\n      <td>Precision</td>\n      <td>0.37</td>\n      <td>0.38</td>\n      <td>0.40</td>\n    </tr>\n    <tr>\n      <td>Sensitivity</td>\n      <td>0.58</td>\n      <td>0.66</td>\n      <td>0.63</td>\n    </tr>\n    <tr>\n      <td>Specificity</td>\n      <td>0.75</td>\n      <td>0.73</td>\n      <td>0.76</td>\n    </tr>\n    <tr>\n      <td>FP</td>\n      <td>0.25</td>\n      <td>0.27</td>\n      <td>0.24</td>\n    </tr>\n    <tr>\n      <td>FN</td>\n      <td>0.42</td>\n      <td>0.34</td>\n      <td>0.37</td>\n    </tr>\n    <tr>\n      <td>Time</td>\n      <td>166.89</td>\n      <td>119.24</td>\n      <td>1027.42</td>\n    </tr>\n  </tbody>\n</table>",
       "datasetInfos": [],
       "metadata": {},
       "removedWidgets": [],
       "textData": null,
       "type": "htmlSandbox"
      }
     },
     "output_type": "display_data"
    }
   ],
   "source": [
    "pd_df = pd.DataFrame(data=eval_metrics)\n",
    "pd_df.sort_values(by=0, axis=1, ascending=True, inplace=True)\n",
    "pd_df.insert(0, 'Metric', ('F1', 'Recall', 'Precision', 'Sensitivity', 'Specificity', 'FP', 'FN', 'Time'))\n",
    "column_names = ['Metric', 'SVM', 'RF', 'LR']\n",
    "\n",
    "display(HTML(pd_df.to_html(index=False)))"
   ]
  },
  {
   "cell_type": "code",
   "execution_count": 0,
   "metadata": {
    "application/vnd.databricks.v1+cell": {
     "inputWidgets": {},
     "nuid": "c060e054-19f2-41b9-a9e3-0119cd5a9187",
     "showTitle": false,
     "title": ""
    }
   },
   "outputs": [
    {
     "data": {
      "image/png": "[encoded data removed]"
     },
     "metadata": {
      "application/vnd.databricks.v1+output": {
       "addedWidgets": {},
       "arguments": {},
       "data": "data:image/png;base64,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",
       "datasetInfos": [],
       "metadata": {
        "imageDimensions": {
         "height": 381,
         "width": 1080
        }
       },
       "removedWidgets": [],
       "type": "image"
      },
      "image/png": {
       "height": 381,
       "width": 1080
      }
     },
     "output_type": "display_data"
    }
   ],
   "source": [
    "import numpy as np\n",
    "\n",
    "df1 = data=pd_df.iloc[0:7,0:4]\n",
    "\n",
    "df1 = df1.melt('Metric', var_name='Classification Method',  value_name='Value')\n",
    "\n",
    "N = 500\n",
    "# Construct the colormap\n",
    "current_palette = sns.color_palette(\"muted\", n_colors=11)\n",
    "cmap = ListedColormap(sns.color_palette(current_palette).as_hex())\n",
    "colors = np.random.randint(0, 11, N)\n",
    "\n",
    "sns.set_theme(style=\"whitegrid\")\n",
    "\n",
    "g = sns.catplot(x=\"Metric\", y=\"Value\", hue='Classification Method', data=df1, marker='o', c=colors, cmap=cmap, aspect=2.6, s=7, facecolors='none', edgecolors='r')\n",
    "(g.set_axis_labels(\"Metric\", \"Value\")\n",
    "  .set_xticklabels(['F1-Score', 'Recall', 'Precision', 'Sensitivity', 'Specificity', 'False Positive', 'False Negative'])\n",
    "  .set_titles(\"{col_name} {col_var}\")\n",
    "  .set(ylim=(0, 1.25))\n",
    "  .despine(left=True))\n",
    "plt.title(\"Metrics across Models\")\n",
    "plt.show()"
   ]
  },
  {
   "cell_type": "code",
   "execution_count": 0,
   "metadata": {
    "application/vnd.databricks.v1+cell": {
     "inputWidgets": {},
     "nuid": "93641265-6317-4557-9281-16d99ef1c3a4",
     "showTitle": false,
     "title": ""
    }
   },
   "outputs": [
    {
     "data": {
      "image/png": "[encoded data removed]"
     },
     "metadata": {
      "application/vnd.databricks.v1+output": {
       "addedWidgets": {},
       "arguments": {},
       "data": "data:image/png;base64,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",
       "datasetInfos": [],
       "metadata": {
        "imageDimensions": {
         "height": 284,
         "width": 396
        }
       },
       "removedWidgets": [],
       "type": "image"
      },
      "image/png": {
       "height": 284,
       "width": 396
      }
     },
     "output_type": "display_data"
    }
   ],
   "source": [
    "df2 = pd_df.iloc[7:8,0:4]\n",
    "df2.columns = column_names\n",
    "df2 = df2.melt('Metric', var_name='Classification Method',  value_name='Time')\n",
    "g = sns.barplot(x=\"Classification Method\", y=\"Time\", data=df2)\n",
    "(g.set(ylim=(0.5, 400.0)))\n",
    "plt.title(\"Model Execution Time\")\n",
    "plt.show()\n"
   ]
  },
  {
   "cell_type": "markdown",
   "metadata": {
    "application/vnd.databricks.v1+cell": {
     "inputWidgets": {},
     "nuid": "c4f56ee7-38b6-40c9-905b-e825a114ed26",
     "showTitle": false,
     "title": ""
    }
   },
   "source": [
    "#### 5.4. Gradient Boosted Trees"
   ]
  },
  {
   "cell_type": "markdown",
   "metadata": {
    "application/vnd.databricks.v1+cell": {
     "inputWidgets": {},
     "nuid": "407abdc3-9ae7-482d-96fc-b708bb1b0b58",
     "showTitle": false,
     "title": ""
    }
   },
   "source": [
    "About Gradient Boosted Trees\n",
    "\n",
    "Gradient Boosted Trees (GBTs) is a learning algorithm for classification. \n",
    "> - It supports binary labels, as well as both continuous and categorical features.\n",
    "> - Like Random Forest, GBT is also one of ensembling methods that combine the outputs from individual trees. However, unlike random forest, GBT use a method called `boosting` that combines weak learners sequentially so that each tree corrects the error from the previous one .\n",
    "> - After each full cycle of decision tree build, the sampled dataset is weighted - misclassified data increases it weights to emphasize the most difficult cases so that when the next decision tree is built the weighted data is used, therefore subsequent learners will focus more on mis-classified data during training.\n",
    "> - Random forest creates independant decision trees and combines them in parallel to calculate the average result at the end, whereas GBT combines result along the way.\n",
    "> - GBT has a lot of model capacity so they can handle very complex relationships and decision boundaries, however, as with all models with high capacity, this can lead to overfitting very quickly"
   ]
  },
  {
   "cell_type": "markdown",
   "metadata": {
    "application/vnd.databricks.v1+cell": {
     "inputWidgets": {},
     "nuid": "c3bf07c8-c77f-4e4d-bbfa-a7bf398cd828",
     "showTitle": false,
     "title": ""
    }
   },
   "source": [
    "##### 5.4.1. Cross Validation - GBT"
   ]
  },
  {
   "cell_type": "markdown",
   "metadata": {
    "application/vnd.databricks.v1+cell": {
     "inputWidgets": {},
     "nuid": "409f22b8-a221-423a-968b-4288777bda68",
     "showTitle": false,
     "title": ""
    }
   },
   "source": [
    "We decided to use cross-validation for `Gradient Boosted Tree model` in order to obtain the best hyperparameters to use when training models on full training dataset. Since cross-validation technique is computationally expensive. we decided to use a small sample of the training data to do cross-validation."
   ]
  },
  {
   "cell_type": "code",
   "execution_count": 0,
   "metadata": {
    "application/vnd.databricks.v1+cell": {
     "inputWidgets": {},
     "nuid": "0021da27-5be6-455b-8aca-5bff6eadd4b7",
     "showTitle": false,
     "title": ""
    }
   },
   "outputs": [
    {
     "data": {
      "text/html": [
       "<style scoped>\n",
       "  .ansiout {\n",
       "    display: block;\n",
       "    unicode-bidi: embed;\n",
       "    white-space: pre-wrap;\n",
       "    word-wrap: break-word;\n",
       "    word-break: break-all;\n",
       "    font-family: \"Source Code Pro\", \"Menlo\", monospace;;\n",
       "    font-size: 13px;\n",
       "    color: #555;\n",
       "    margin-left: 4px;\n",
       "    line-height: 19px;\n",
       "  }\n",
       "</style>\n",
       "<div class=\"ansiout\"></div>"
      ]
     },
     "metadata": {
      "application/vnd.databricks.v1+output": {
       "addedWidgets": {},
       "arguments": {},
       "data": "<div class=\"ansiout\"></div>",
       "datasetInfos": [],
       "metadata": {},
       "removedWidgets": [],
       "type": "html"
      }
     },
     "output_type": "display_data"
    }
   ],
   "source": [
    "# Taking small sample of train data\n",
    "model_data_gbt_train_sample = model_data_train.sample(0.001)"
   ]
  },
  {
   "cell_type": "code",
   "execution_count": 0,
   "metadata": {
    "application/vnd.databricks.v1+cell": {
     "inputWidgets": {},
     "nuid": "fb8c281c-f14d-4ed3-84ac-40e83969d5f9",
     "showTitle": false,
     "title": ""
    }
   },
   "outputs": [
    {
     "data": {
      "text/html": [
       "<style scoped>\n",
       "  .ansiout {\n",
       "    display: block;\n",
       "    unicode-bidi: embed;\n",
       "    white-space: pre-wrap;\n",
       "    word-wrap: break-word;\n",
       "    word-break: break-all;\n",
       "    font-family: \"Source Code Pro\", \"Menlo\", monospace;;\n",
       "    font-size: 13px;\n",
       "    color: #555;\n",
       "    margin-left: 4px;\n",
       "    line-height: 19px;\n",
       "  }\n",
       "</style>\n",
       "<div class=\"ansiout\"></div>"
      ]
     },
     "metadata": {
      "application/vnd.databricks.v1+output": {
       "addedWidgets": {},
       "arguments": {},
       "data": "<div class=\"ansiout\"></div>",
       "datasetInfos": [],
       "metadata": {},
       "removedWidgets": [],
       "type": "html"
      }
     },
     "output_type": "display_data"
    }
   ],
   "source": [
    "# Cross Validation\n",
    "\n",
    "gb = GBTClassifier(labelCol=\"departure_delay_boolean\", featuresCol=\"VectorAssembler_features\")\n",
    "gbparamGrid = (ParamGridBuilder()\n",
    "             .addGrid(gb.maxDepth, [2, 5, 10])\n",
    "             .addGrid(gb.maxBins, [10, 1000, 5000])\n",
    "             .addGrid(gb.maxIter, [10, 15, 20])\n",
    "             .addGrid(gb.minInstancesPerNode, [1, 5, 10])\n",
    "             .addGrid(gb.minInfoGain, [0.0,0.001])\n",
    "             .addGrid(gb.stepSize, [0.1,0.2,0.5])                 \n",
    "             .build())               "
   ]
  },
  {
   "cell_type": "code",
   "execution_count": 0,
   "metadata": {
    "application/vnd.databricks.v1+cell": {
     "inputWidgets": {},
     "nuid": "78fdbb1a-11ce-46c3-9d37-5e77e3c62de0",
     "showTitle": false,
     "title": ""
    }
   },
   "outputs": [
    {
     "data": {
      "text/html": [
       "<style scoped>\n",
       "  .ansiout {\n",
       "    display: block;\n",
       "    unicode-bidi: embed;\n",
       "    white-space: pre-wrap;\n",
       "    word-wrap: break-word;\n",
       "    word-break: break-all;\n",
       "    font-family: \"Source Code Pro\", \"Menlo\", monospace;;\n",
       "    font-size: 13px;\n",
       "    color: #555;\n",
       "    margin-left: 4px;\n",
       "    line-height: 19px;\n",
       "  }\n",
       "</style>\n",
       "<div class=\"ansiout\"></div>"
      ]
     },
     "metadata": {
      "application/vnd.databricks.v1+output": {
       "addedWidgets": {},
       "arguments": {},
       "data": "<div class=\"ansiout\"></div>",
       "datasetInfos": [],
       "metadata": {},
       "removedWidgets": [],
       "type": "html"
      }
     },
     "output_type": "display_data"
    }
   ],
   "source": [
    "# Create 3-fold CrossValidator\n",
    "\n",
    "gbevaluator = MulticlassClassificationEvaluator(labelCol='departure_delay_boolean', metricName='f1')\n",
    "gbcv = CrossValidator(estimator = gb,\n",
    "                      estimatorParamMaps = gbparamGrid,\n",
    "                      evaluator = gbevaluator,\n",
    "                      numFolds = 3)"
   ]
  },
  {
   "cell_type": "markdown",
   "metadata": {
    "application/vnd.databricks.v1+cell": {
     "inputWidgets": {},
     "nuid": "a9de37c6-25f5-4605-b122-0c1ff13921dc",
     "showTitle": false,
     "title": ""
    }
   },
   "source": [
    "##### 5.4.2. GBT Parameter Hypertuning"
   ]
  },
  {
   "cell_type": "code",
   "execution_count": 0,
   "metadata": {
    "application/vnd.databricks.v1+cell": {
     "inputWidgets": {},
     "nuid": "59aba6db-5057-4f11-83ea-66bc0036ebdd",
     "showTitle": false,
     "title": ""
    }
   },
   "outputs": [
    {
     "data": {
      "text/html": [
       "<style scoped>\n",
       "  .ansiout {\n",
       "    display: block;\n",
       "    unicode-bidi: embed;\n",
       "    white-space: pre-wrap;\n",
       "    word-wrap: break-word;\n",
       "    word-break: break-all;\n",
       "    font-family: \"Source Code Pro\", \"Menlo\", monospace;;\n",
       "    font-size: 13px;\n",
       "    color: #555;\n",
       "    margin-left: 4px;\n",
       "    line-height: 19px;\n",
       "  }\n",
       "</style>\n",
       "<div class=\"ansiout\"></div>"
      ]
     },
     "metadata": {
      "application/vnd.databricks.v1+output": {
       "addedWidgets": {},
       "arguments": {},
       "data": "<div class=\"ansiout\"></div>",
       "datasetInfos": [],
       "metadata": {},
       "removedWidgets": [],
       "type": "html"
      }
     },
     "output_type": "display_data"
    }
   ],
   "source": [
    "# GBT Parameter Hypertuning - only to be run for parameter hypertuning\n",
    "\n",
    "# gbcvModel = gbcv.fit(model_data_gbt_train_sample)\n",
    "# print(gbcvModel)"
   ]
  },
  {
   "cell_type": "markdown",
   "metadata": {
    "application/vnd.databricks.v1+cell": {
     "inputWidgets": {},
     "nuid": "ae5e98fd-3f76-47c1-9944-2a032d8e0bc6",
     "showTitle": false,
     "title": ""
    }
   },
   "source": [
    "Based on the result from cross-validation, we opted for maxDepth=10, maxBins=10, and maxIter=10, which is a combination of hyperparameters that achieved the highest average f1 score during the cross-validation process. These params have been used for running GBT algorithm below:"
   ]
  },
  {
   "cell_type": "markdown",
   "metadata": {
    "application/vnd.databricks.v1+cell": {
     "inputWidgets": {},
     "nuid": "ab394286-97ae-44c5-8023-74e5de9d3ebb",
     "showTitle": false,
     "title": ""
    }
   },
   "source": [
    "##### 5.4.3. GBT Algorithm"
   ]
  },
  {
   "cell_type": "markdown",
   "metadata": {
    "application/vnd.databricks.v1+cell": {
     "inputWidgets": {},
     "nuid": "98c0d3ba-1f1f-4bdc-b971-cf323fb24856",
     "showTitle": false,
     "title": ""
    }
   },
   "source": [
    "##### 5.4.4. GBT Model Pipeline"
   ]
  },
  {
   "cell_type": "code",
   "execution_count": 0,
   "metadata": {
    "application/vnd.databricks.v1+cell": {
     "inputWidgets": {},
     "nuid": "4c4ac44e-b4f0-4ae9-96b7-031720e5b611",
     "showTitle": false,
     "title": ""
    }
   },
   "outputs": [
    {
     "data": {
      "text/html": [
       "<style scoped>\n",
       "  .ansiout {\n",
       "    display: block;\n",
       "    unicode-bidi: embed;\n",
       "    white-space: pre-wrap;\n",
       "    word-wrap: break-word;\n",
       "    word-break: break-all;\n",
       "    font-family: \"Source Code Pro\", \"Menlo\", monospace;;\n",
       "    font-size: 13px;\n",
       "    color: #555;\n",
       "    margin-left: 4px;\n",
       "    line-height: 19px;\n",
       "  }\n",
       "</style>\n",
       "<div class=\"ansiout\"></div>"
      ]
     },
     "metadata": {
      "application/vnd.databricks.v1+output": {
       "addedWidgets": {},
       "arguments": {},
       "data": "<div class=\"ansiout\"></div>",
       "datasetInfos": [],
       "metadata": {},
       "removedWidgets": [],
       "type": "html"
      }
     },
     "output_type": "display_data"
    }
   ],
   "source": [
    "# model_data_train = spark.read.parquet(f\"{blob_url}/model_train_data_full_v2_unscaled/*\")\n",
    "# model_data_test = spark.read.parquet(f\"{blob_url}/model_test_data_full_v2_unscaled/*\")\n"
   ]
  },
  {
   "cell_type": "code",
   "execution_count": 0,
   "metadata": {
    "application/vnd.databricks.v1+cell": {
     "inputWidgets": {},
     "nuid": "3364c129-a859-43de-ae57-279e0c5f2b64",
     "showTitle": false,
     "title": ""
    }
   },
   "outputs": [
    {
     "data": {
      "text/html": [
       "<style scoped>\n",
       "  .ansiout {\n",
       "    display: block;\n",
       "    unicode-bidi: embed;\n",
       "    white-space: pre-wrap;\n",
       "    word-wrap: break-word;\n",
       "    word-break: break-all;\n",
       "    font-family: \"Source Code Pro\", \"Menlo\", monospace;;\n",
       "    font-size: 13px;\n",
       "    color: #555;\n",
       "    margin-left: 4px;\n",
       "    line-height: 19px;\n",
       "  }\n",
       "</style>\n",
       "<div class=\"ansiout\">gbt model completed job in 2434.910961866379 seconds.\n",
       "</div>"
      ]
     },
     "metadata": {
      "application/vnd.databricks.v1+output": {
       "addedWidgets": {},
       "arguments": {},
       "data": "<div class=\"ansiout\">gbt model completed job in 2434.910961866379 seconds.\n</div>",
       "datasetInfos": [],
       "metadata": {},
       "removedWidgets": [],
       "type": "html"
      }
     },
     "output_type": "display_data"
    }
   ],
   "source": [
    "# Reference used for building Gradient Boosted tree model: https://spark.apache.org/docs/latest/api/python/reference/api/pyspark.ml.classification.GBTClassifier.html\n",
    "\n",
    "# Build a gradient boosted tree model\n",
    "\n",
    "start_gbt = time.time()\n",
    "gbt = GBTClassifier(featuresCol='VectorAssembler_features', \n",
    "              labelCol='departure_delay_boolean', \n",
    "              maxBins=10,\n",
    "              maxDepth=5,\n",
    "              minInstancesPerNode=10,\n",
    "              minInfoGain=0.001,\n",
    "              stepSize=0.2,\n",
    "              maxIter=15, \n",
    "              )\n",
    "\n",
    "# Setup pipeline\n",
    "stages_gbtClassifier = [gbt]\n",
    "pipeline_gbt = Pipeline(stages=stages_gbtClassifier)\n",
    "\n",
    "# Train the GBT model\n",
    "gbt_model = pipeline_gbt.fit(model_data_train)\n",
    "\n",
    "gbpredictions = gbt_model.transform(model_data_test)\n",
    "\n",
    "print(f'gbt model completed job in {time.time() - start_gbt} seconds.')\n",
    "gbt_time_model = time.time() - start_gbt"
   ]
  },
  {
   "cell_type": "code",
   "execution_count": 0,
   "metadata": {
    "application/vnd.databricks.v1+cell": {
     "inputWidgets": {},
     "nuid": "35e5ff12-fb53-4a8b-bdde-c4ecf34ff951",
     "showTitle": false,
     "title": ""
    }
   },
   "outputs": [
    {
     "data": {
      "text/html": [
       "<style scoped>\n",
       "  .ansiout {\n",
       "    display: block;\n",
       "    unicode-bidi: embed;\n",
       "    white-space: pre-wrap;\n",
       "    word-wrap: break-word;\n",
       "    word-break: break-all;\n",
       "    font-family: \"Source Code Pro\", \"Menlo\", monospace;;\n",
       "    font-size: 13px;\n",
       "    color: #555;\n",
       "    margin-left: 4px;\n",
       "    line-height: 19px;\n",
       "  }\n",
       "</style>\n",
       "<div class=\"ansiout\"></div>"
      ]
     },
     "metadata": {
      "application/vnd.databricks.v1+output": {
       "addedWidgets": {},
       "arguments": {},
       "data": "<div class=\"ansiout\"></div>",
       "datasetInfos": [],
       "metadata": {},
       "removedWidgets": [],
       "type": "html"
      }
     },
     "output_type": "display_data"
    }
   ],
   "source": [
    "gbpredictions.write.mode('overwrite').parquet(f\"{blob_url}/gbpredictions_explore\")"
   ]
  },
  {
   "cell_type": "markdown",
   "metadata": {
    "application/vnd.databricks.v1+cell": {
     "inputWidgets": {},
     "nuid": "06663af4-ed4c-4940-8a4b-3f9ec0ccab81",
     "showTitle": false,
     "title": ""
    }
   },
   "source": [
    "##### 5.4.5. GBT Model Evaluation"
   ]
  },
  {
   "cell_type": "code",
   "execution_count": 0,
   "metadata": {
    "application/vnd.databricks.v1+cell": {
     "inputWidgets": {},
     "nuid": "7ca71933-a188-4f74-9488-4c0ae504cdd4",
     "showTitle": false,
     "title": ""
    }
   },
   "outputs": [
    {
     "data": {
      "text/html": [
       "<style scoped>\n",
       "  .ansiout {\n",
       "    display: block;\n",
       "    unicode-bidi: embed;\n",
       "    white-space: pre-wrap;\n",
       "    word-wrap: break-word;\n",
       "    word-break: break-all;\n",
       "    font-family: \"Source Code Pro\", \"Menlo\", monospace;;\n",
       "    font-size: 13px;\n",
       "    color: #555;\n",
       "    margin-left: 4px;\n",
       "    line-height: 19px;\n",
       "  }\n",
       "</style>\n",
       "<div class=\"ansiout\"></div>"
      ]
     },
     "metadata": {
      "application/vnd.databricks.v1+output": {
       "addedWidgets": {},
       "arguments": {},
       "data": "<div class=\"ansiout\"></div>",
       "datasetInfos": [],
       "metadata": {},
       "removedWidgets": [],
       "type": "html"
      }
     },
     "output_type": "display_data"
    }
   ],
   "source": [
    "gbpredictions = spark.read.parquet(f\"{blob_url}/gbpredictions_explore/*\")"
   ]
  },
  {
   "cell_type": "code",
   "execution_count": 0,
   "metadata": {
    "application/vnd.databricks.v1+cell": {
     "inputWidgets": {},
     "nuid": "21228e28-a891-4b08-9f15-9eb09fc01669",
     "showTitle": false,
     "title": ""
    }
   },
   "outputs": [
    {
     "data": {
      "text/html": [
       "<style scoped>\n",
       "  .ansiout {\n",
       "    display: block;\n",
       "    unicode-bidi: embed;\n",
       "    white-space: pre-wrap;\n",
       "    word-wrap: break-word;\n",
       "    word-break: break-all;\n",
       "    font-family: \"Source Code Pro\", \"Menlo\", monospace;;\n",
       "    font-size: 13px;\n",
       "    color: #555;\n",
       "    margin-left: 4px;\n",
       "    line-height: 19px;\n",
       "  }\n",
       "</style>\n",
       "<div class=\"ansiout\">              precision    recall  f1-score   support\n",
       "\n",
       "         0.0       0.89      0.79      0.84   5209992\n",
       "         1.0       0.42      0.62      0.50   1292004\n",
       "\n",
       "    accuracy                           0.76   6501996\n",
       "   macro avg       0.66      0.71      0.67   6501996\n",
       "weighted avg       0.80      0.76      0.77   6501996\n",
       "\n",
       "[[4107052 1102940]\n",
       " [ 487084  804920]]\n",
       "</div>"
      ]
     },
     "metadata": {
      "application/vnd.databricks.v1+output": {
       "addedWidgets": {},
       "arguments": {},
       "data": "<div class=\"ansiout\">              precision    recall  f1-score   support\n\n         0.0       0.89      0.79      0.84   5209992\n         1.0       0.42      0.62      0.50   1292004\n\n    accuracy                           0.76   6501996\n   macro avg       0.66      0.71      0.67   6501996\nweighted avg       0.80      0.76      0.77   6501996\n\n[[4107052 1102940]\n [ 487084  804920]]\n</div>",
       "datasetInfos": [],
       "metadata": {},
       "removedWidgets": [],
       "type": "html"
      }
     },
     "output_type": "display_data"
    }
   ],
   "source": [
    "# Model Evaluation\n",
    "\n",
    "eval_accuracy = MulticlassClassificationEvaluator(labelCol=\"departure_delay_boolean\", predictionCol=\"prediction\", metricName=\"accuracy\")\n",
    "eval_precision = MulticlassClassificationEvaluator(labelCol=\"departure_delay_boolean\", predictionCol=\"prediction\", metricName=\"precision\")\n",
    "eval_recall = MulticlassClassificationEvaluator(labelCol=\"departure_delay_boolean\", predictionCol=\"prediction\", metricName=\"recall\")\n",
    "\n",
    "evaluator = MulticlassClassificationEvaluator(labelCol=\"departure_delay_boolean\", predictionCol=\"prediction\", metricName=\"f1\")\n",
    "evaluator.evaluate(gbpredictions)\n",
    "\n",
    "# Model Evaluation with scikit learn\n",
    "y_true_gbt = gbpredictions.select(['departure_delay_boolean']).collect()\n",
    "y_pred_gbt = gbpredictions.select(['prediction']).collect()\n",
    "\n",
    "# Print metrics\n",
    "from sklearn.metrics import classification_report, confusion_matrix\n",
    "print(classification_report(y_true_gbt, y_pred_gbt))\n",
    "print(confusion_matrix(y_true_gbt, y_pred_gbt))"
   ]
  },
  {
   "cell_type": "code",
   "execution_count": 0,
   "metadata": {
    "application/vnd.databricks.v1+cell": {
     "inputWidgets": {},
     "nuid": "65b9e2b5-62d7-46a7-9d3d-0d9e03c50049",
     "showTitle": false,
     "title": ""
    }
   },
   "outputs": [
    {
     "data": {
      "text/html": [
       "<style scoped>\n",
       "  .ansiout {\n",
       "    display: block;\n",
       "    unicode-bidi: embed;\n",
       "    white-space: pre-wrap;\n",
       "    word-wrap: break-word;\n",
       "    word-break: break-all;\n",
       "    font-family: \"Source Code Pro\", \"Menlo\", monospace;;\n",
       "    font-size: 13px;\n",
       "    color: #555;\n",
       "    margin-left: 4px;\n",
       "    line-height: 19px;\n",
       "  }\n",
       "</style>\n",
       "<div class=\"ansiout\">Sensitivity: 62.30%\n",
       "Specificity: 78.83%\n",
       "False positive rate: 21.17%\n",
       "False negative rate: 37.70%\n",
       "Recall: 62.30%\n",
       "Precision: 42.19%\n",
       "f1: 50.31%\n",
       "########### Confusion Matrix ###########\n",
       "                Predicted-delay  Predicted-on time\n",
       "Actual-delay             804920             487084\n",
       "Actual-on time          1102940            4107052\n",
       "</div>"
      ]
     },
     "metadata": {
      "application/vnd.databricks.v1+output": {
       "addedWidgets": {},
       "arguments": {},
       "data": "<div class=\"ansiout\">Sensitivity: 62.30%\nSpecificity: 78.83%\nFalse positive rate: 21.17%\nFalse negative rate: 37.70%\nRecall: 62.30%\nPrecision: 42.19%\nf1: 50.31%\n########### Confusion Matrix ###########\n                Predicted-delay  Predicted-on time\nActual-delay             804920             487084\nActual-on time          1102940            4107052\n</div>",
       "datasetInfos": [],
       "metadata": {},
       "removedWidgets": [],
       "type": "html"
      }
     },
     "output_type": "display_data"
    }
   ],
   "source": [
    "# print results with helper function\n",
    "\n",
    "print_results(gbpredictions, 'GB', gbt_time_model)\n"
   ]
  },
  {
   "cell_type": "code",
   "execution_count": 0,
   "metadata": {
    "application/vnd.databricks.v1+cell": {
     "inputWidgets": {},
     "nuid": "5bc06cec-cdd2-4d64-8f3f-86ad79fbd73d",
     "showTitle": false,
     "title": ""
    }
   },
   "outputs": [
    {
     "data": {
      "text/html": [
       "<style scoped>\n",
       "  .ansiout {\n",
       "    display: block;\n",
       "    unicode-bidi: embed;\n",
       "    white-space: pre-wrap;\n",
       "    word-wrap: break-word;\n",
       "    word-break: break-all;\n",
       "    font-family: \"Source Code Pro\", \"Menlo\", monospace;;\n",
       "    font-size: 13px;\n",
       "    color: #555;\n",
       "    margin-left: 4px;\n",
       "    line-height: 19px;\n",
       "  }\n",
       "</style>\n",
       "<div class=\"ansiout\">Out[39]: </div>"
      ]
     },
     "metadata": {
      "application/vnd.databricks.v1+output": {
       "addedWidgets": {},
       "arguments": {},
       "data": "<div class=\"ansiout\">Out[39]: </div>",
       "datasetInfos": [],
       "metadata": {},
       "removedWidgets": [],
       "type": "html"
      }
     },
     "output_type": "display_data"
    },
    {
     "data": {
      "image/png": "[encoded data removed]"
     },
     "metadata": {
      "application/vnd.databricks.v1+output": {
       "addedWidgets": {},
       "arguments": {},
       "data": "data:image/png;base64,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",
       "datasetInfos": [],
       "metadata": {
        "imageDimensions": {
         "height": 284,
         "width": 359
        }
       },
       "removedWidgets": [],
       "type": "image"
      },
      "image/png": {
       "height": 284,
       "width": 359
      }
     },
     "output_type": "display_data"
    },
    {
     "data": {
      "text/html": [
       "<style scoped>\n",
       "  .ansiout {\n",
       "    display: block;\n",
       "    unicode-bidi: embed;\n",
       "    white-space: pre-wrap;\n",
       "    word-wrap: break-word;\n",
       "    word-break: break-all;\n",
       "    font-family: \"Source Code Pro\", \"Menlo\", monospace;;\n",
       "    font-size: 13px;\n",
       "    color: #555;\n",
       "    margin-left: 4px;\n",
       "    line-height: 19px;\n",
       "  }\n",
       "</style>\n",
       "<div class=\"ansiout\">[Text(0.5, 0, &#39;Predicted labels&#39;), Text(0, 0.5, &#39;True labels&#39;)]</div>"
      ]
     },
     "metadata": {
      "application/vnd.databricks.v1+output": {
       "addedWidgets": {},
       "arguments": {},
       "data": "<div class=\"ansiout\">[Text(0.5, 0, &#39;Predicted labels&#39;), Text(0, 0.5, &#39;True labels&#39;)]</div>",
       "datasetInfos": [],
       "metadata": {},
       "removedWidgets": [],
       "type": "html"
      }
     },
     "output_type": "display_data"
    }
   ],
   "source": [
    "# Plot Confusion Matrix\n",
    "\n",
    "cm_gbt = confusion_matrix(y_true_gbt, y_pred_gbt)\n",
    "cm_gbt_display = ConfusionMatrixDisplay(cm_gbt, display_labels=['On Time', 'Delay'])\n",
    "cm_gbt_display.plot(cmap='Blues', values_format='d')\n",
    "cm_gbt_display.ax_.set(title='Confusion Matrix-Gradient Boosted Tree')\n",
    "cm_gbt_display.ax_.set(xlabel='Predicted labels', ylabel='True labels')"
   ]
  },
  {
   "cell_type": "code",
   "execution_count": 0,
   "metadata": {
    "application/vnd.databricks.v1+cell": {
     "inputWidgets": {},
     "nuid": "fd1e1530-eb25-4b6a-a852-e9c910cc35ce",
     "showTitle": false,
     "title": ""
    }
   },
   "outputs": [
    {
     "data": {
      "text/html": [
       "<style scoped>\n",
       "  .ansiout {\n",
       "    display: block;\n",
       "    unicode-bidi: embed;\n",
       "    white-space: pre-wrap;\n",
       "    word-wrap: break-word;\n",
       "    word-break: break-all;\n",
       "    font-family: \"Source Code Pro\", \"Menlo\", monospace;;\n",
       "    font-size: 13px;\n",
       "    color: #555;\n",
       "    margin-left: 4px;\n",
       "    line-height: 19px;\n",
       "  }\n",
       "</style>\n",
       "<div class=\"ansiout\"></div>"
      ]
     },
     "metadata": {
      "application/vnd.databricks.v1+output": {
       "addedWidgets": {},
       "arguments": {},
       "data": "<div class=\"ansiout\"></div>",
       "datasetInfos": [],
       "metadata": {},
       "removedWidgets": [],
       "type": "html"
      }
     },
     "output_type": "display_data"
    }
   ],
   "source": [
    "#print_results(lsvcPredictions, 'GB', svc_time_model)"
   ]
  },
  {
   "cell_type": "code",
   "execution_count": 0,
   "metadata": {
    "application/vnd.databricks.v1+cell": {
     "inputWidgets": {},
     "nuid": "50711022-f1f4-4635-8b55-fb024140f992",
     "showTitle": false,
     "title": ""
    }
   },
   "outputs": [
    {
     "data": {
      "text/html": [
       "<style scoped>\n",
       "  .ansiout {\n",
       "    display: block;\n",
       "    unicode-bidi: embed;\n",
       "    white-space: pre-wrap;\n",
       "    word-wrap: break-word;\n",
       "    word-break: break-all;\n",
       "    font-family: \"Source Code Pro\", \"Menlo\", monospace;;\n",
       "    font-size: 13px;\n",
       "    color: #555;\n",
       "    margin-left: 4px;\n",
       "    line-height: 19px;\n",
       "  }\n",
       "</style>\n",
       "<div class=\"ansiout\"></div>"
      ]
     },
     "metadata": {
      "application/vnd.databricks.v1+output": {
       "addedWidgets": {},
       "arguments": {},
       "data": "<div class=\"ansiout\"></div>",
       "datasetInfos": [],
       "metadata": {},
       "removedWidgets": [],
       "type": "html"
      }
     },
     "output_type": "display_data"
    }
   ],
   "source": [
    "# eval_times = spark.createDataFrame(eval_model_times, FloatType())\n",
    "# eval_times.write.mode('overwrite').parquet(f\"{blob_url}/eval_times_explore\")"
   ]
  },
  {
   "cell_type": "code",
   "execution_count": 0,
   "metadata": {
    "application/vnd.databricks.v1+cell": {
     "inputWidgets": {},
     "nuid": "0d763c32-24c1-44d5-a90e-62e3eb1297c6",
     "showTitle": false,
     "title": ""
    }
   },
   "outputs": [
    {
     "data": {
      "text/html": [
       "<style scoped>\n",
       "  .ansiout {\n",
       "    display: block;\n",
       "    unicode-bidi: embed;\n",
       "    white-space: pre-wrap;\n",
       "    word-wrap: break-word;\n",
       "    word-break: break-all;\n",
       "    font-family: \"Source Code Pro\", \"Menlo\", monospace;;\n",
       "    font-size: 13px;\n",
       "    color: #555;\n",
       "    margin-left: 4px;\n",
       "    line-height: 19px;\n",
       "  }\n",
       "</style>\n",
       "<div class=\"ansiout\">{&#39;LR&#39;: (0.48, 0.66, 0.38, 0.66, 0.73, 0.27, 0.34, 119.24), &#39;RF&#39;: (0.49, 0.63, 0.4, 0.63, 0.76, 0.24, 0.37, 1027.42), &#39;SVM&#39;: (0.45, 0.58, 0.37, 0.58, 0.75, 0.25, 0.42, 166.89), &#39;GB&#39;: (0.5, 0.62, 0.42, 0.62, 0.79, 0.21, 0.38, 2434.91)}\n",
       "</div>"
      ]
     },
     "metadata": {
      "application/vnd.databricks.v1+output": {
       "addedWidgets": {},
       "arguments": {},
       "data": "<div class=\"ansiout\">{&#39;LR&#39;: (0.48, 0.66, 0.38, 0.66, 0.73, 0.27, 0.34, 119.24), &#39;RF&#39;: (0.49, 0.63, 0.4, 0.63, 0.76, 0.24, 0.37, 1027.42), &#39;SVM&#39;: (0.45, 0.58, 0.37, 0.58, 0.75, 0.25, 0.42, 166.89), &#39;GB&#39;: (0.5, 0.62, 0.42, 0.62, 0.79, 0.21, 0.38, 2434.91)}\n</div>",
       "datasetInfos": [],
       "metadata": {},
       "removedWidgets": [],
       "type": "html"
      }
     },
     "output_type": "display_data"
    }
   ],
   "source": [
    "print(eval_metrics)"
   ]
  },
  {
   "cell_type": "code",
   "execution_count": 0,
   "metadata": {
    "application/vnd.databricks.v1+cell": {
     "inputWidgets": {},
     "nuid": "b186b389-f338-4c0e-a5ca-de8c96b41b24",
     "showTitle": false,
     "title": ""
    }
   },
   "outputs": [
    {
     "data": {
      "text/html": [
       "<table border=\"1\" class=\"dataframe\">\n",
       "  <thead>\n",
       "    <tr style=\"text-align: right;\">\n",
       "      <th>Metric</th>\n",
       "      <th>SVM</th>\n",
       "      <th>LR</th>\n",
       "      <th>RF</th>\n",
       "      <th>GB</th>\n",
       "    </tr>\n",
       "  </thead>\n",
       "  <tbody>\n",
       "    <tr>\n",
       "      <td>F1</td>\n",
       "      <td>0.45</td>\n",
       "      <td>0.48</td>\n",
       "      <td>0.49</td>\n",
       "      <td>0.50</td>\n",
       "    </tr>\n",
       "    <tr>\n",
       "      <td>Recall</td>\n",
       "      <td>0.58</td>\n",
       "      <td>0.66</td>\n",
       "      <td>0.63</td>\n",
       "      <td>0.62</td>\n",
       "    </tr>\n",
       "    <tr>\n",
       "      <td>Precision</td>\n",
       "      <td>0.37</td>\n",
       "      <td>0.38</td>\n",
       "      <td>0.40</td>\n",
       "      <td>0.42</td>\n",
       "    </tr>\n",
       "    <tr>\n",
       "      <td>Sensitivity</td>\n",
       "      <td>0.58</td>\n",
       "      <td>0.66</td>\n",
       "      <td>0.63</td>\n",
       "      <td>0.62</td>\n",
       "    </tr>\n",
       "    <tr>\n",
       "      <td>Specificity</td>\n",
       "      <td>0.75</td>\n",
       "      <td>0.73</td>\n",
       "      <td>0.76</td>\n",
       "      <td>0.79</td>\n",
       "    </tr>\n",
       "    <tr>\n",
       "      <td>FP</td>\n",
       "      <td>0.25</td>\n",
       "      <td>0.27</td>\n",
       "      <td>0.24</td>\n",
       "      <td>0.21</td>\n",
       "    </tr>\n",
       "    <tr>\n",
       "      <td>FN</td>\n",
       "      <td>0.42</td>\n",
       "      <td>0.34</td>\n",
       "      <td>0.37</td>\n",
       "      <td>0.38</td>\n",
       "    </tr>\n",
       "    <tr>\n",
       "      <td>Time</td>\n",
       "      <td>166.89</td>\n",
       "      <td>119.24</td>\n",
       "      <td>1027.42</td>\n",
       "      <td>2434.91</td>\n",
       "    </tr>\n",
       "  </tbody>\n",
       "</table>"
      ]
     },
     "metadata": {
      "application/vnd.databricks.v1+output": {
       "addedWidgets": {},
       "arguments": {},
       "data": "<table border=\"1\" class=\"dataframe\">\n  <thead>\n    <tr style=\"text-align: right;\">\n      <th>Metric</th>\n      <th>SVM</th>\n      <th>LR</th>\n      <th>RF</th>\n      <th>GB</th>\n    </tr>\n  </thead>\n  <tbody>\n    <tr>\n      <td>F1</td>\n      <td>0.45</td>\n      <td>0.48</td>\n      <td>0.49</td>\n      <td>0.50</td>\n    </tr>\n    <tr>\n      <td>Recall</td>\n      <td>0.58</td>\n      <td>0.66</td>\n      <td>0.63</td>\n      <td>0.62</td>\n    </tr>\n    <tr>\n      <td>Precision</td>\n      <td>0.37</td>\n      <td>0.38</td>\n      <td>0.40</td>\n      <td>0.42</td>\n    </tr>\n    <tr>\n      <td>Sensitivity</td>\n      <td>0.58</td>\n      <td>0.66</td>\n      <td>0.63</td>\n      <td>0.62</td>\n    </tr>\n    <tr>\n      <td>Specificity</td>\n      <td>0.75</td>\n      <td>0.73</td>\n      <td>0.76</td>\n      <td>0.79</td>\n    </tr>\n    <tr>\n      <td>FP</td>\n      <td>0.25</td>\n      <td>0.27</td>\n      <td>0.24</td>\n      <td>0.21</td>\n    </tr>\n    <tr>\n      <td>FN</td>\n      <td>0.42</td>\n      <td>0.34</td>\n      <td>0.37</td>\n      <td>0.38</td>\n    </tr>\n    <tr>\n      <td>Time</td>\n      <td>166.89</td>\n      <td>119.24</td>\n      <td>1027.42</td>\n      <td>2434.91</td>\n    </tr>\n  </tbody>\n</table>",
       "datasetInfos": [],
       "metadata": {},
       "removedWidgets": [],
       "textData": null,
       "type": "htmlSandbox"
      }
     },
     "output_type": "display_data"
    }
   ],
   "source": [
    "pd_df = pd.DataFrame(data=eval_metrics)\n",
    "pd_df.sort_values(by=0, axis=1, ascending=True, inplace=True)\n",
    "pd_df.insert(0, 'Metric', ('F1', 'Recall', 'Precision', 'Sensitivity', 'Specificity', 'FP', 'FN', 'Time'))\n",
    "column_names = ['Metric', 'GB', 'RF', 'SVC', 'RF']\n",
    "\n",
    "display(HTML(pd_df.to_html(index=False)))\n"
   ]
  },
  {
   "cell_type": "code",
   "execution_count": 0,
   "metadata": {
    "application/vnd.databricks.v1+cell": {
     "inputWidgets": {},
     "nuid": "6885e24a-20c0-4975-93f7-df13678a37e9",
     "showTitle": false,
     "title": ""
    }
   },
   "outputs": [
    {
     "data": {
      "image/png": "[encoded data removed]"
     },
     "metadata": {
      "application/vnd.databricks.v1+output": {
       "addedWidgets": {},
       "arguments": {},
       "data": "data:image/png;base64,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",
       "datasetInfos": [],
       "metadata": {
        "imageDimensions": {
         "height": 381,
         "width": 1080
        }
       },
       "removedWidgets": [],
       "type": "image"
      },
      "image/png": {
       "height": 381,
       "width": 1080
      }
     },
     "output_type": "display_data"
    }
   ],
   "source": [
    "df1 = data=pd_df.iloc[0:7,0:5]\n",
    "\n",
    "df1 = df1.melt('Metric', var_name='Classification Method',  value_name='Value')\n",
    "\n",
    "N = 500\n",
    "# Construct the colormap\n",
    "current_palette = sns.color_palette(\"muted\", n_colors=11)\n",
    "cmap = ListedColormap(sns.color_palette(current_palette).as_hex())\n",
    "colors = np.random.randint(0, 11, N)\n",
    "\n",
    "sns.set_theme(style=\"whitegrid\")\n",
    "\n",
    "g = sns.catplot(x=\"Metric\", y=\"Value\", hue='Classification Method', data=df1, marker='o', c=colors, cmap=cmap, aspect=2.6, s=7, facecolors='none', edgecolors='r')\n",
    "(g.set_axis_labels(\"Metric\", \"Value\")\n",
    "  .set_xticklabels(['F1-Score', 'Recall', 'Precision', 'Sensitivity', 'Specificity', 'False Positive', 'False Negative'])\n",
    "  .set_titles(\"{col_name} {col_var}\")\n",
    "  .set(ylim=(0, 1.25))\n",
    "  .despine(left=True))\n",
    "plt.title(\"Metrics across Models\")\n",
    "plt.show()\n",
    "\n"
   ]
  },
  {
   "cell_type": "code",
   "execution_count": 0,
   "metadata": {
    "application/vnd.databricks.v1+cell": {
     "inputWidgets": {},
     "nuid": "5d05b17b-b89e-4810-bba0-08254d139de4",
     "showTitle": false,
     "title": ""
    }
   },
   "outputs": [
    {
     "data": {
      "image/png": "[encoded data removed]"
     },
     "metadata": {
      "application/vnd.databricks.v1+output": {
       "addedWidgets": {},
       "arguments": {},
       "data": "data:image/png;base64,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",
       "datasetInfos": [],
       "metadata": {
        "imageDimensions": {
         "height": 284,
         "width": 403
        }
       },
       "removedWidgets": [],
       "type": "image"
      },
      "image/png": {
       "height": 284,
       "width": 403
      }
     },
     "output_type": "display_data"
    }
   ],
   "source": [
    "column_names = ['Metric', 'SVM', 'RF', 'LR', 'GB']\n",
    "df2 = pd_df.iloc[7:8,0:5]\n",
    "df2.columns = column_names\n",
    "df2 = df2.melt('Metric', var_name='Classification Method',  value_name='Time')\n",
    "g = sns.barplot(x=\"Classification Method\", y=\"Time\", data=df2)\n",
    "(g.set(ylim=(0.5, 2500.0)))\n",
    "plt.title(\"Model Execution Time\")\n",
    "plt.show()\n",
    "\n"
   ]
  },
  {
   "cell_type": "markdown",
   "metadata": {
    "application/vnd.databricks.v1+cell": {
     "inputWidgets": {},
     "nuid": "d4e939d5-644f-482c-82b5-7ef583157eaa",
     "showTitle": false,
     "title": ""
    }
   },
   "source": [
    "#### 5.5. XGBoost"
   ]
  },
  {
   "cell_type": "code",
   "execution_count": 0,
   "metadata": {
    "application/vnd.databricks.v1+cell": {
     "inputWidgets": {},
     "nuid": "452fdbaf-c5a6-4bec-be92-3b3ec71d0b10",
     "showTitle": false,
     "title": ""
    }
   },
   "outputs": [
    {
     "data": {
      "text/html": [
       "<style scoped>\n",
       "  .ansiout {\n",
       "    display: block;\n",
       "    unicode-bidi: embed;\n",
       "    white-space: pre-wrap;\n",
       "    word-wrap: break-word;\n",
       "    word-break: break-all;\n",
       "    font-family: \"Source Code Pro\", \"Menlo\", monospace;;\n",
       "    font-size: 13px;\n",
       "    color: #555;\n",
       "    margin-left: 4px;\n",
       "    line-height: 19px;\n",
       "  }\n",
       "</style>\n",
       "<div class=\"ansiout\"></div>"
      ]
     },
     "metadata": {
      "application/vnd.databricks.v1+output": {
       "addedWidgets": {},
       "arguments": {},
       "data": "<div class=\"ansiout\"></div>",
       "datasetInfos": [],
       "metadata": {},
       "removedWidgets": [],
       "type": "html"
      }
     },
     "output_type": "display_data"
    }
   ],
   "source": [
    "xgb = XgboostClassifier(featuresCol='VectorAssembler_features', \n",
    "              labelCol='departure_delay_boolean', \n",
    "              maxBins=10,\n",
    "              maxDepth=15,\n",
    "              minInstancesPerNode=10,\n",
    "              minInfoGain=0.001,\n",
    "              stepSize=0.2,\n",
    "              maxIter=10,\n",
    "              missing = 0.0,\n",
    "              n_estimators = 200 \n",
    "              )\n",
    "\n",
    "# Setup pipeline\n",
    "stages_xgbClassifier = [xgb]\n",
    "pipeline_xgb = Pipeline(stages=stages_xgbClassifier)\n"
   ]
  },
  {
   "cell_type": "code",
   "execution_count": 0,
   "metadata": {
    "application/vnd.databricks.v1+cell": {
     "inputWidgets": {},
     "nuid": "3fcff3ca-d243-4c33-86df-b3d3baef0145",
     "showTitle": false,
     "title": ""
    }
   },
   "outputs": [
    {
     "data": {
      "text/html": [
       "<style scoped>\n",
       "  .ansiout {\n",
       "    display: block;\n",
       "    unicode-bidi: embed;\n",
       "    white-space: pre-wrap;\n",
       "    word-wrap: break-word;\n",
       "    word-break: break-all;\n",
       "    font-family: \"Source Code Pro\", \"Menlo\", monospace;;\n",
       "    font-size: 13px;\n",
       "    color: #555;\n",
       "    margin-left: 4px;\n",
       "    line-height: 19px;\n",
       "  }\n",
       "</style>\n",
       "<div class=\"ansiout\"></div>"
      ]
     },
     "metadata": {
      "application/vnd.databricks.v1+output": {
       "addedWidgets": {},
       "arguments": {},
       "data": "<div class=\"ansiout\"></div>",
       "datasetInfos": [],
       "metadata": {},
       "removedWidgets": [],
       "type": "html"
      }
     },
     "output_type": "display_data"
    },
    {
     "data": {
      "text/html": [
       "<style scoped>\n",
       "  .ansiout {\n",
       "    display: block;\n",
       "    unicode-bidi: embed;\n",
       "    white-space: pre-wrap;\n",
       "    word-wrap: break-word;\n",
       "    word-break: break-all;\n",
       "    font-family: \"Source Code Pro\", \"Menlo\", monospace;;\n",
       "    font-size: 13px;\n",
       "    color: #555;\n",
       "    margin-left: 4px;\n",
       "    line-height: 19px;\n",
       "  }\n",
       "</style>\n",
       "<div class=\"ansiout\"><span class=\"ansi-red-fg\">---------------------------------------------------------------------------</span>\n",
       "<span class=\"ansi-red-fg\">Py4JJavaError</span>                             Traceback (most recent call last)\n",
       "<span class=\"ansi-green-fg\">&lt;command-2297543790378339&gt;</span> in <span class=\"ansi-cyan-fg\">&lt;module&gt;</span>\n",
       "<span class=\"ansi-green-intense-fg ansi-bold\">      2</span> \n",
       "<span class=\"ansi-green-intense-fg ansi-bold\">      3</span> <span class=\"ansi-red-fg\"># Train the XGB model</span>\n",
       "<span class=\"ansi-green-fg\">----&gt; 4</span><span class=\"ansi-red-fg\"> </span>xgb_model <span class=\"ansi-blue-fg\">=</span> pipeline_xgb<span class=\"ansi-blue-fg\">.</span>fit<span class=\"ansi-blue-fg\">(</span>model_data_train<span class=\"ansi-blue-fg\">)</span>\n",
       "<span class=\"ansi-green-intense-fg ansi-bold\">      5</span> \n",
       "<span class=\"ansi-green-intense-fg ansi-bold\">      6</span> xgbpredictions <span class=\"ansi-blue-fg\">=</span> xgb_model<span class=\"ansi-blue-fg\">.</span>transform<span class=\"ansi-blue-fg\">(</span>model_data_test<span class=\"ansi-blue-fg\">)</span>\n",
       "\n",
       "<span class=\"ansi-green-fg\">/databricks/python_shell/dbruntime/MLWorkloadsInstrumentation/_pyspark.py</span> in <span class=\"ansi-cyan-fg\">patched_method</span><span class=\"ansi-blue-fg\">(self, *args, **kwargs)</span>\n",
       "<span class=\"ansi-green-intense-fg ansi-bold\">     28</span>             call_succeeded <span class=\"ansi-blue-fg\">=</span> <span class=\"ansi-green-fg\">False</span>\n",
       "<span class=\"ansi-green-intense-fg ansi-bold\">     29</span>             <span class=\"ansi-green-fg\">try</span><span class=\"ansi-blue-fg\">:</span>\n",
       "<span class=\"ansi-green-fg\">---&gt; 30</span><span class=\"ansi-red-fg\">                 </span>result <span class=\"ansi-blue-fg\">=</span> original_method<span class=\"ansi-blue-fg\">(</span>self<span class=\"ansi-blue-fg\">,</span> <span class=\"ansi-blue-fg\">*</span>args<span class=\"ansi-blue-fg\">,</span> <span class=\"ansi-blue-fg\">**</span>kwargs<span class=\"ansi-blue-fg\">)</span>\n",
       "<span class=\"ansi-green-intense-fg ansi-bold\">     31</span>                 call_succeeded <span class=\"ansi-blue-fg\">=</span> <span class=\"ansi-green-fg\">True</span>\n",
       "<span class=\"ansi-green-intense-fg ansi-bold\">     32</span>                 <span class=\"ansi-green-fg\">return</span> result\n",
       "\n",
       "<span class=\"ansi-green-fg\">/databricks/spark/python/pyspark/ml/base.py</span> in <span class=\"ansi-cyan-fg\">fit</span><span class=\"ansi-blue-fg\">(self, dataset, params)</span>\n",
       "<span class=\"ansi-green-intense-fg ansi-bold\">    159</span>                 <span class=\"ansi-green-fg\">return</span> self<span class=\"ansi-blue-fg\">.</span>copy<span class=\"ansi-blue-fg\">(</span>params<span class=\"ansi-blue-fg\">)</span><span class=\"ansi-blue-fg\">.</span>_fit<span class=\"ansi-blue-fg\">(</span>dataset<span class=\"ansi-blue-fg\">)</span>\n",
       "<span class=\"ansi-green-intense-fg ansi-bold\">    160</span>             <span class=\"ansi-green-fg\">else</span><span class=\"ansi-blue-fg\">:</span>\n",
       "<span class=\"ansi-green-fg\">--&gt; 161</span><span class=\"ansi-red-fg\">                 </span><span class=\"ansi-green-fg\">return</span> self<span class=\"ansi-blue-fg\">.</span>_fit<span class=\"ansi-blue-fg\">(</span>dataset<span class=\"ansi-blue-fg\">)</span>\n",
       "<span class=\"ansi-green-intense-fg ansi-bold\">    162</span>         <span class=\"ansi-green-fg\">else</span><span class=\"ansi-blue-fg\">:</span>\n",
       "<span class=\"ansi-green-intense-fg ansi-bold\">    163</span>             raise ValueError(&#34;Params must be either a param map or a list/tuple of param maps, &#34;\n",
       "\n",
       "<span class=\"ansi-green-fg\">/databricks/spark/python/pyspark/ml/pipeline.py</span> in <span class=\"ansi-cyan-fg\">_fit</span><span class=\"ansi-blue-fg\">(self, dataset)</span>\n",
       "<span class=\"ansi-green-intense-fg ansi-bold\">    112</span>                     dataset <span class=\"ansi-blue-fg\">=</span> stage<span class=\"ansi-blue-fg\">.</span>transform<span class=\"ansi-blue-fg\">(</span>dataset<span class=\"ansi-blue-fg\">)</span>\n",
       "<span class=\"ansi-green-intense-fg ansi-bold\">    113</span>                 <span class=\"ansi-green-fg\">else</span><span class=\"ansi-blue-fg\">:</span>  <span class=\"ansi-red-fg\"># must be an Estimator</span>\n",
       "<span class=\"ansi-green-fg\">--&gt; 114</span><span class=\"ansi-red-fg\">                     </span>model <span class=\"ansi-blue-fg\">=</span> stage<span class=\"ansi-blue-fg\">.</span>fit<span class=\"ansi-blue-fg\">(</span>dataset<span class=\"ansi-blue-fg\">)</span>\n",
       "<span class=\"ansi-green-intense-fg ansi-bold\">    115</span>                     transformers<span class=\"ansi-blue-fg\">.</span>append<span class=\"ansi-blue-fg\">(</span>model<span class=\"ansi-blue-fg\">)</span>\n",
       "<span class=\"ansi-green-intense-fg ansi-bold\">    116</span>                     <span class=\"ansi-green-fg\">if</span> i <span class=\"ansi-blue-fg\">&lt;</span> indexOfLastEstimator<span class=\"ansi-blue-fg\">:</span>\n",
       "\n",
       "<span class=\"ansi-green-fg\">/databricks/python_shell/dbruntime/MLWorkloadsInstrumentation/_pyspark.py</span> in <span class=\"ansi-cyan-fg\">patched_method</span><span class=\"ansi-blue-fg\">(self, *args, **kwargs)</span>\n",
       "<span class=\"ansi-green-intense-fg ansi-bold\">     28</span>             call_succeeded <span class=\"ansi-blue-fg\">=</span> <span class=\"ansi-green-fg\">False</span>\n",
       "<span class=\"ansi-green-intense-fg ansi-bold\">     29</span>             <span class=\"ansi-green-fg\">try</span><span class=\"ansi-blue-fg\">:</span>\n",
       "<span class=\"ansi-green-fg\">---&gt; 30</span><span class=\"ansi-red-fg\">                 </span>result <span class=\"ansi-blue-fg\">=</span> original_method<span class=\"ansi-blue-fg\">(</span>self<span class=\"ansi-blue-fg\">,</span> <span class=\"ansi-blue-fg\">*</span>args<span class=\"ansi-blue-fg\">,</span> <span class=\"ansi-blue-fg\">**</span>kwargs<span class=\"ansi-blue-fg\">)</span>\n",
       "<span class=\"ansi-green-intense-fg ansi-bold\">     31</span>                 call_succeeded <span class=\"ansi-blue-fg\">=</span> <span class=\"ansi-green-fg\">True</span>\n",
       "<span class=\"ansi-green-intense-fg ansi-bold\">     32</span>                 <span class=\"ansi-green-fg\">return</span> result\n",
       "\n",
       "<span class=\"ansi-green-fg\">/databricks/spark/python/pyspark/ml/base.py</span> in <span class=\"ansi-cyan-fg\">fit</span><span class=\"ansi-blue-fg\">(self, dataset, params)</span>\n",
       "<span class=\"ansi-green-intense-fg ansi-bold\">    159</span>                 <span class=\"ansi-green-fg\">return</span> self<span class=\"ansi-blue-fg\">.</span>copy<span class=\"ansi-blue-fg\">(</span>params<span class=\"ansi-blue-fg\">)</span><span class=\"ansi-blue-fg\">.</span>_fit<span class=\"ansi-blue-fg\">(</span>dataset<span class=\"ansi-blue-fg\">)</span>\n",
       "<span class=\"ansi-green-intense-fg ansi-bold\">    160</span>             <span class=\"ansi-green-fg\">else</span><span class=\"ansi-blue-fg\">:</span>\n",
       "<span class=\"ansi-green-fg\">--&gt; 161</span><span class=\"ansi-red-fg\">                 </span><span class=\"ansi-green-fg\">return</span> self<span class=\"ansi-blue-fg\">.</span>_fit<span class=\"ansi-blue-fg\">(</span>dataset<span class=\"ansi-blue-fg\">)</span>\n",
       "<span class=\"ansi-green-intense-fg ansi-bold\">    162</span>         <span class=\"ansi-green-fg\">else</span><span class=\"ansi-blue-fg\">:</span>\n",
       "<span class=\"ansi-green-intense-fg ansi-bold\">    163</span>             raise ValueError(&#34;Params must be either a param map or a list/tuple of param maps, &#34;\n",
       "\n",
       "<span class=\"ansi-green-fg\">/databricks/spark/python/pyspark/databricks/utils/instrumentation.py</span> in <span class=\"ansi-cyan-fg\">wrapper</span><span class=\"ansi-blue-fg\">(self, *args, **kwargs)</span>\n",
       "<span class=\"ansi-green-intense-fg ansi-bold\">     40</span>         <span class=\"ansi-green-fg\">try</span><span class=\"ansi-blue-fg\">:</span>\n",
       "<span class=\"ansi-green-intense-fg ansi-bold\">     41</span>             start_time <span class=\"ansi-blue-fg\">=</span> time<span class=\"ansi-blue-fg\">.</span>time<span class=\"ansi-blue-fg\">(</span><span class=\"ansi-blue-fg\">)</span>\n",
       "<span class=\"ansi-green-fg\">---&gt; 42</span><span class=\"ansi-red-fg\">             </span>return_val <span class=\"ansi-blue-fg\">=</span> func<span class=\"ansi-blue-fg\">(</span>self<span class=\"ansi-blue-fg\">,</span> <span class=\"ansi-blue-fg\">*</span>args<span class=\"ansi-blue-fg\">,</span> <span class=\"ansi-blue-fg\">**</span>kwargs<span class=\"ansi-blue-fg\">)</span>\n",
       "<span class=\"ansi-green-intense-fg ansi-bold\">     43</span>         <span class=\"ansi-green-fg\">except</span> Exception <span class=\"ansi-green-fg\">as</span> e<span class=\"ansi-blue-fg\">:</span>\n",
       "<span class=\"ansi-green-intense-fg ansi-bold\">     44</span>             duration <span class=\"ansi-blue-fg\">=</span> <span class=\"ansi-blue-fg\">(</span>time<span class=\"ansi-blue-fg\">.</span>time<span class=\"ansi-blue-fg\">(</span><span class=\"ansi-blue-fg\">)</span> <span class=\"ansi-blue-fg\">-</span> start_time<span class=\"ansi-blue-fg\">)</span> <span class=\"ansi-blue-fg\">*</span> <span class=\"ansi-cyan-fg\">1000</span>\n",
       "\n",
       "<span class=\"ansi-green-fg\">/databricks/.python_edge_libs/sparkdl/xgboost/xgboost_core.py</span> in <span class=\"ansi-cyan-fg\">_fit</span><span class=\"ansi-blue-fg\">(self, dataset)</span>\n",
       "<span class=\"ansi-green-intense-fg ansi-bold\">    574</span> \n",
       "<span class=\"ansi-green-intense-fg ansi-bold\">    575</span>         <span class=\"ansi-red-fg\"># Train on 1 remote worker, return the string of the serialized model</span>\n",
       "<span class=\"ansi-green-fg\">--&gt; 576</span><span class=\"ansi-red-fg\">         </span>result_ser_model_string <span class=\"ansi-blue-fg\">=</span> dataset<span class=\"ansi-blue-fg\">.</span>repartition<span class=\"ansi-blue-fg\">(</span><span class=\"ansi-cyan-fg\">1</span><span class=\"ansi-blue-fg\">)</span><span class=\"ansi-red-fg\"> </span><span class=\"ansi-red-fg\">\\</span>\n",
       "<span class=\"ansi-green-intense-fg ansi-bold\">    577</span>             <span class=\"ansi-blue-fg\">.</span>mapInPandas<span class=\"ansi-blue-fg\">(</span>train_func<span class=\"ansi-blue-fg\">,</span> schema<span class=\"ansi-blue-fg\">=</span><span class=\"ansi-blue-fg\">&#39;model_string string&#39;</span><span class=\"ansi-blue-fg\">)</span><span class=\"ansi-blue-fg\">.</span>collect<span class=\"ansi-blue-fg\">(</span><span class=\"ansi-blue-fg\">)</span><span class=\"ansi-blue-fg\">[</span><span class=\"ansi-cyan-fg\">0</span><span class=\"ansi-blue-fg\">]</span><span class=\"ansi-blue-fg\">[</span><span class=\"ansi-cyan-fg\">0</span><span class=\"ansi-blue-fg\">]</span>\n",
       "<span class=\"ansi-green-intense-fg ansi-bold\">    578</span> \n",
       "\n",
       "<span class=\"ansi-green-fg\">/databricks/spark/python/pyspark/sql/dataframe.py</span> in <span class=\"ansi-cyan-fg\">collect</span><span class=\"ansi-blue-fg\">(self)</span>\n",
       "<span class=\"ansi-green-intense-fg ansi-bold\">    695</span>         <span class=\"ansi-red-fg\"># Default path used in OSS Spark / for non-DF-ACL clusters:</span>\n",
       "<span class=\"ansi-green-intense-fg ansi-bold\">    696</span>         <span class=\"ansi-green-fg\">with</span> SCCallSiteSync<span class=\"ansi-blue-fg\">(</span>self<span class=\"ansi-blue-fg\">.</span>_sc<span class=\"ansi-blue-fg\">)</span> <span class=\"ansi-green-fg\">as</span> css<span class=\"ansi-blue-fg\">:</span>\n",
       "<span class=\"ansi-green-fg\">--&gt; 697</span><span class=\"ansi-red-fg\">             </span>sock_info <span class=\"ansi-blue-fg\">=</span> self<span class=\"ansi-blue-fg\">.</span>_jdf<span class=\"ansi-blue-fg\">.</span>collectToPython<span class=\"ansi-blue-fg\">(</span><span class=\"ansi-blue-fg\">)</span>\n",
       "<span class=\"ansi-green-intense-fg ansi-bold\">    698</span>         <span class=\"ansi-green-fg\">return</span> list<span class=\"ansi-blue-fg\">(</span>_load_from_socket<span class=\"ansi-blue-fg\">(</span>sock_info<span class=\"ansi-blue-fg\">,</span> BatchedSerializer<span class=\"ansi-blue-fg\">(</span>PickleSerializer<span class=\"ansi-blue-fg\">(</span><span class=\"ansi-blue-fg\">)</span><span class=\"ansi-blue-fg\">)</span><span class=\"ansi-blue-fg\">)</span><span class=\"ansi-blue-fg\">)</span>\n",
       "<span class=\"ansi-green-intense-fg ansi-bold\">    699</span> \n",
       "\n",
       "<span class=\"ansi-green-fg\">/databricks/spark/python/lib/py4j-0.10.9-src.zip/py4j/java_gateway.py</span> in <span class=\"ansi-cyan-fg\">__call__</span><span class=\"ansi-blue-fg\">(self, *args)</span>\n",
       "<span class=\"ansi-green-intense-fg ansi-bold\">   1302</span> \n",
       "<span class=\"ansi-green-intense-fg ansi-bold\">   1303</span>         answer <span class=\"ansi-blue-fg\">=</span> self<span class=\"ansi-blue-fg\">.</span>gateway_client<span class=\"ansi-blue-fg\">.</span>send_command<span class=\"ansi-blue-fg\">(</span>command<span class=\"ansi-blue-fg\">)</span>\n",
       "<span class=\"ansi-green-fg\">-&gt; 1304</span><span class=\"ansi-red-fg\">         return_value = get_return_value(\n",
       "</span><span class=\"ansi-green-intense-fg ansi-bold\">   1305</span>             answer, self.gateway_client, self.target_id, self.name)\n",
       "<span class=\"ansi-green-intense-fg ansi-bold\">   1306</span> \n",
       "\n",
       "<span class=\"ansi-green-fg\">/databricks/spark/python/pyspark/sql/utils.py</span> in <span class=\"ansi-cyan-fg\">deco</span><span class=\"ansi-blue-fg\">(*a, **kw)</span>\n",
       "<span class=\"ansi-green-intense-fg ansi-bold\">    115</span>     <span class=\"ansi-green-fg\">def</span> deco<span class=\"ansi-blue-fg\">(</span><span class=\"ansi-blue-fg\">*</span>a<span class=\"ansi-blue-fg\">,</span> <span class=\"ansi-blue-fg\">**</span>kw<span class=\"ansi-blue-fg\">)</span><span class=\"ansi-blue-fg\">:</span>\n",
       "<span class=\"ansi-green-intense-fg ansi-bold\">    116</span>         <span class=\"ansi-green-fg\">try</span><span class=\"ansi-blue-fg\">:</span>\n",
       "<span class=\"ansi-green-fg\">--&gt; 117</span><span class=\"ansi-red-fg\">             </span><span class=\"ansi-green-fg\">return</span> f<span class=\"ansi-blue-fg\">(</span><span class=\"ansi-blue-fg\">*</span>a<span class=\"ansi-blue-fg\">,</span> <span class=\"ansi-blue-fg\">**</span>kw<span class=\"ansi-blue-fg\">)</span>\n",
       "<span class=\"ansi-green-intense-fg ansi-bold\">    118</span>         <span class=\"ansi-green-fg\">except</span> py4j<span class=\"ansi-blue-fg\">.</span>protocol<span class=\"ansi-blue-fg\">.</span>Py4JJavaError <span class=\"ansi-green-fg\">as</span> e<span class=\"ansi-blue-fg\">:</span>\n",
       "<span class=\"ansi-green-intense-fg ansi-bold\">    119</span>             converted <span class=\"ansi-blue-fg\">=</span> convert_exception<span class=\"ansi-blue-fg\">(</span>e<span class=\"ansi-blue-fg\">.</span>java_exception<span class=\"ansi-blue-fg\">)</span>\n",
       "\n",
       "<span class=\"ansi-green-fg\">/databricks/spark/python/lib/py4j-0.10.9-src.zip/py4j/protocol.py</span> in <span class=\"ansi-cyan-fg\">get_return_value</span><span class=\"ansi-blue-fg\">(answer, gateway_client, target_id, name)</span>\n",
       "<span class=\"ansi-green-intense-fg ansi-bold\">    324</span>             value <span class=\"ansi-blue-fg\">=</span> OUTPUT_CONVERTER<span class=\"ansi-blue-fg\">[</span>type<span class=\"ansi-blue-fg\">]</span><span class=\"ansi-blue-fg\">(</span>answer<span class=\"ansi-blue-fg\">[</span><span class=\"ansi-cyan-fg\">2</span><span class=\"ansi-blue-fg\">:</span><span class=\"ansi-blue-fg\">]</span><span class=\"ansi-blue-fg\">,</span> gateway_client<span class=\"ansi-blue-fg\">)</span>\n",
       "<span class=\"ansi-green-intense-fg ansi-bold\">    325</span>             <span class=\"ansi-green-fg\">if</span> answer<span class=\"ansi-blue-fg\">[</span><span class=\"ansi-cyan-fg\">1</span><span class=\"ansi-blue-fg\">]</span> <span class=\"ansi-blue-fg\">==</span> REFERENCE_TYPE<span class=\"ansi-blue-fg\">:</span>\n",
       "<span class=\"ansi-green-fg\">--&gt; 326</span><span class=\"ansi-red-fg\">                 raise Py4JJavaError(\n",
       "</span><span class=\"ansi-green-intense-fg ansi-bold\">    327</span>                     <span class=\"ansi-blue-fg\">&#34;An error occurred while calling {0}{1}{2}.\\n&#34;</span><span class=\"ansi-blue-fg\">.</span>\n",
       "<span class=\"ansi-green-intense-fg ansi-bold\">    328</span>                     format(target_id, &#34;.&#34;, name), value)\n",
       "\n",
       "<span class=\"ansi-red-fg\">Py4JJavaError</span>: An error occurred while calling o18282.collectToPython.\n",
       ": org.apache.spark.SparkException: Job aborted due to stage failure: Task 0 in stage 548.0 failed 4 times, most recent failure: Lost task 0.3 in stage 548.0 (TID 2447) (10.0.128.7 executor 5): ExecutorLostFailure (executor 5 exited caused by one of the running tasks) Reason: Remote RPC client disassociated. Likely due to containers exceeding thresholds, or network issues. Check driver logs for WARN messages.\n",
       "Driver stacktrace:\n",
       "\tat org.apache.spark.scheduler.DAGScheduler.failJobAndIndependentStages(DAGScheduler.scala:2828)\n",
       "\tat org.apache.spark.scheduler.DAGScheduler.$anonfun$abortStage$2(DAGScheduler.scala:2775)\n",
       "\tat org.apache.spark.scheduler.DAGScheduler.$anonfun$abortStage$2$adapted(DAGScheduler.scala:2769)\n",
       "\tat scala.collection.mutable.ResizableArray.foreach(ResizableArray.scala:62)\n",
       "\tat scala.collection.mutable.ResizableArray.foreach$(ResizableArray.scala:55)\n",
       "\tat scala.collection.mutable.ArrayBuffer.foreach(ArrayBuffer.scala:49)\n",
       "\tat org.apache.spark.scheduler.DAGScheduler.abortStage(DAGScheduler.scala:2769)\n",
       "\tat org.apache.spark.scheduler.DAGScheduler.$anonfun$handleTaskSetFailed$1(DAGScheduler.scala:1305)\n",
       "\tat org.apache.spark.scheduler.DAGScheduler.$anonfun$handleTaskSetFailed$1$adapted(DAGScheduler.scala:1305)\n",
       "\tat scala.Option.foreach(Option.scala:407)\n",
       "\tat org.apache.spark.scheduler.DAGScheduler.handleTaskSetFailed(DAGScheduler.scala:1305)\n",
       "\tat org.apache.spark.scheduler.DAGSchedulerEventProcessLoop.doOnReceive(DAGScheduler.scala:3036)\n",
       "\tat org.apache.spark.scheduler.DAGSchedulerEventProcessLoop.onReceive(DAGScheduler.scala:2977)\n",
       "\tat org.apache.spark.scheduler.DAGSchedulerEventProcessLoop.onReceive(DAGScheduler.scala:2965)\n",
       "\tat org.apache.spark.util.EventLoop$$anon$1.run(EventLoop.scala:49)\n",
       "\tat org.apache.spark.scheduler.DAGScheduler.runJob(DAGScheduler.scala:1067)\n",
       "\tat org.apache.spark.SparkContext.runJobInternal(SparkContext.scala:2476)\n",
       "\tat org.apache.spark.sql.execution.collect.Collector.runSparkJobs(Collector.scala:264)\n",
       "\tat org.apache.spark.sql.execution.collect.Collector.collect(Collector.scala:299)\n",
       "\tat org.apache.spark.sql.execution.collect.Collector$.collect(Collector.scala:82)\n",
       "\tat org.apache.spark.sql.execution.collect.Collector$.collect(Collector.scala:88)\n",
       "\tat org.apache.spark.sql.execution.collect.InternalRowFormat$.collect(cachedSparkResults.scala:75)\n",
       "\tat org.apache.spark.sql.execution.collect.InternalRowFormat$.collect(cachedSparkResults.scala:62)\n",
       "\tat org.apache.spark.sql.execution.ResultCacheManager.$anonfun$getOrComputeResultInternal$1(ResultCacheManager.scala:510)\n",
       "\tat scala.Option.getOrElse(Option.scala:189)\n",
       "\tat org.apache.spark.sql.execution.ResultCacheManager.getOrComputeResultInternal(ResultCacheManager.scala:509)\n",
       "\tat org.apache.spark.sql.execution.ResultCacheManager.getOrComputeResult(ResultCacheManager.scala:397)\n",
       "\tat org.apache.spark.sql.execution.ResultCacheManager.getOrComputeResult(ResultCacheManager.scala:372)\n",
       "\tat org.apache.spark.sql.execution.SparkPlan.executeCollectResult(SparkPlan.scala:406)\n",
       "\tat org.apache.spark.sql.Dataset.$anonfun$collectToPython$1(Dataset.scala:3613)\n",
       "\tat org.apache.spark.sql.Dataset.$anonfun$withAction$1(Dataset.scala:3825)\n",
       "\tat org.apache.spark.sql.execution.SQLExecution$.$anonfun$withCustomExecutionEnv$5(SQLExecution.scala:130)\n",
       "\tat org.apache.spark.sql.execution.SQLExecution$.withSQLConfPropagated(SQLExecution.scala:273)\n",
       "\tat org.apache.spark.sql.execution.SQLExecution$.$anonfun$withCustomExecutionEnv$1(SQLExecution.scala:104)\n",
       "\tat org.apache.spark.sql.SparkSession.withActive(SparkSession.scala:854)\n",
       "\tat org.apache.spark.sql.execution.SQLExecution$.withCustomExecutionEnv(SQLExecution.scala:77)\n",
       "\tat org.apache.spark.sql.execution.SQLExecution$.withNewExecutionId(SQLExecution.scala:223)\n",
       "\tat org.apache.spark.sql.Dataset.withAction(Dataset.scala:3823)\n",
       "\tat org.apache.spark.sql.Dataset.collectToPython(Dataset.scala:3611)\n",
       "\tat sun.reflect.NativeMethodAccessorImpl.invoke0(Native Method)\n",
       "\tat sun.reflect.NativeMethodAccessorImpl.invoke(NativeMethodAccessorImpl.java:62)\n",
       "\tat sun.reflect.DelegatingMethodAccessorImpl.invoke(DelegatingMethodAccessorImpl.java:43)\n",
       "\tat java.lang.reflect.Method.invoke(Method.java:498)\n",
       "\tat py4j.reflection.MethodInvoker.invoke(MethodInvoker.java:244)\n",
       "\tat py4j.reflection.ReflectionEngine.invoke(ReflectionEngine.java:380)\n",
       "\tat py4j.Gateway.invoke(Gateway.java:295)\n",
       "\tat py4j.commands.AbstractCommand.invokeMethod(AbstractCommand.java:132)\n",
       "\tat py4j.commands.CallCommand.execute(CallCommand.java:79)\n",
       "\tat py4j.GatewayConnection.run(GatewayConnection.java:251)\n",
       "\tat java.lang.Thread.run(Thread.java:748)\n",
       "</div>"
      ]
     },
     "metadata": {
      "application/vnd.databricks.v1+output": {
       "arguments": {},
       "data": "<div class=\"ansiout\"><span class=\"ansi-red-fg\">---------------------------------------------------------------------------</span>\n<span class=\"ansi-red-fg\">Py4JJavaError</span>                             Traceback (most recent call last)\n<span class=\"ansi-green-fg\">&lt;command-2297543790378339&gt;</span> in <span class=\"ansi-cyan-fg\">&lt;module&gt;</span>\n<span class=\"ansi-green-intense-fg ansi-bold\">      2</span> \n<span class=\"ansi-green-intense-fg ansi-bold\">      3</span> <span class=\"ansi-red-fg\"># Train the XGB model</span>\n<span class=\"ansi-green-fg\">----&gt; 4</span><span class=\"ansi-red-fg\"> </span>xgb_model <span class=\"ansi-blue-fg\">=</span> pipeline_xgb<span class=\"ansi-blue-fg\">.</span>fit<span class=\"ansi-blue-fg\">(</span>model_data_train<span class=\"ansi-blue-fg\">)</span>\n<span class=\"ansi-green-intense-fg ansi-bold\">      5</span> \n<span class=\"ansi-green-intense-fg ansi-bold\">      6</span> xgbpredictions <span class=\"ansi-blue-fg\">=</span> xgb_model<span class=\"ansi-blue-fg\">.</span>transform<span class=\"ansi-blue-fg\">(</span>model_data_test<span class=\"ansi-blue-fg\">)</span>\n\n<span class=\"ansi-green-fg\">/databricks/python_shell/dbruntime/MLWorkloadsInstrumentation/_pyspark.py</span> in <span class=\"ansi-cyan-fg\">patched_method</span><span class=\"ansi-blue-fg\">(self, *args, **kwargs)</span>\n<span class=\"ansi-green-intense-fg ansi-bold\">     28</span>             call_succeeded <span class=\"ansi-blue-fg\">=</span> <span class=\"ansi-green-fg\">False</span>\n<span class=\"ansi-green-intense-fg ansi-bold\">     29</span>             <span class=\"ansi-green-fg\">try</span><span class=\"ansi-blue-fg\">:</span>\n<span class=\"ansi-green-fg\">---&gt; 30</span><span class=\"ansi-red-fg\">                 </span>result <span class=\"ansi-blue-fg\">=</span> original_method<span class=\"ansi-blue-fg\">(</span>self<span class=\"ansi-blue-fg\">,</span> <span class=\"ansi-blue-fg\">*</span>args<span class=\"ansi-blue-fg\">,</span> <span class=\"ansi-blue-fg\">**</span>kwargs<span class=\"ansi-blue-fg\">)</span>\n<span class=\"ansi-green-intense-fg ansi-bold\">     31</span>                 call_succeeded <span class=\"ansi-blue-fg\">=</span> <span class=\"ansi-green-fg\">True</span>\n<span class=\"ansi-green-intense-fg ansi-bold\">     32</span>                 <span class=\"ansi-green-fg\">return</span> result\n\n<span class=\"ansi-green-fg\">/databricks/spark/python/pyspark/ml/base.py</span> in <span class=\"ansi-cyan-fg\">fit</span><span class=\"ansi-blue-fg\">(self, dataset, params)</span>\n<span class=\"ansi-green-intense-fg ansi-bold\">    159</span>                 <span class=\"ansi-green-fg\">return</span> self<span class=\"ansi-blue-fg\">.</span>copy<span class=\"ansi-blue-fg\">(</span>params<span class=\"ansi-blue-fg\">)</span><span class=\"ansi-blue-fg\">.</span>_fit<span class=\"ansi-blue-fg\">(</span>dataset<span class=\"ansi-blue-fg\">)</span>\n<span class=\"ansi-green-intense-fg ansi-bold\">    160</span>             <span class=\"ansi-green-fg\">else</span><span class=\"ansi-blue-fg\">:</span>\n<span class=\"ansi-green-fg\">--&gt; 161</span><span class=\"ansi-red-fg\">                 </span><span class=\"ansi-green-fg\">return</span> self<span class=\"ansi-blue-fg\">.</span>_fit<span class=\"ansi-blue-fg\">(</span>dataset<span class=\"ansi-blue-fg\">)</span>\n<span class=\"ansi-green-intense-fg ansi-bold\">    162</span>         <span class=\"ansi-green-fg\">else</span><span class=\"ansi-blue-fg\">:</span>\n<span class=\"ansi-green-intense-fg ansi-bold\">    163</span>             raise ValueError(&#34;Params must be either a param map or a list/tuple of param maps, &#34;\n\n<span class=\"ansi-green-fg\">/databricks/spark/python/pyspark/ml/pipeline.py</span> in <span class=\"ansi-cyan-fg\">_fit</span><span class=\"ansi-blue-fg\">(self, dataset)</span>\n<span class=\"ansi-green-intense-fg ansi-bold\">    112</span>                     dataset <span class=\"ansi-blue-fg\">=</span> stage<span class=\"ansi-blue-fg\">.</span>transform<span class=\"ansi-blue-fg\">(</span>dataset<span class=\"ansi-blue-fg\">)</span>\n<span class=\"ansi-green-intense-fg ansi-bold\">    113</span>                 <span class=\"ansi-green-fg\">else</span><span class=\"ansi-blue-fg\">:</span>  <span class=\"ansi-red-fg\"># must be an Estimator</span>\n<span class=\"ansi-green-fg\">--&gt; 114</span><span class=\"ansi-red-fg\">                     </span>model <span class=\"ansi-blue-fg\">=</span> stage<span class=\"ansi-blue-fg\">.</span>fit<span class=\"ansi-blue-fg\">(</span>dataset<span class=\"ansi-blue-fg\">)</span>\n<span class=\"ansi-green-intense-fg ansi-bold\">    115</span>                     transformers<span class=\"ansi-blue-fg\">.</span>append<span class=\"ansi-blue-fg\">(</span>model<span class=\"ansi-blue-fg\">)</span>\n<span class=\"ansi-green-intense-fg ansi-bold\">    116</span>                     <span class=\"ansi-green-fg\">if</span> i <span class=\"ansi-blue-fg\">&lt;</span> indexOfLastEstimator<span class=\"ansi-blue-fg\">:</span>\n\n<span class=\"ansi-green-fg\">/databricks/python_shell/dbruntime/MLWorkloadsInstrumentation/_pyspark.py</span> in <span class=\"ansi-cyan-fg\">patched_method</span><span class=\"ansi-blue-fg\">(self, *args, **kwargs)</span>\n<span class=\"ansi-green-intense-fg ansi-bold\">     28</span>             call_succeeded <span class=\"ansi-blue-fg\">=</span> <span class=\"ansi-green-fg\">False</span>\n<span class=\"ansi-green-intense-fg ansi-bold\">     29</span>             <span class=\"ansi-green-fg\">try</span><span class=\"ansi-blue-fg\">:</span>\n<span class=\"ansi-green-fg\">---&gt; 30</span><span class=\"ansi-red-fg\">                 </span>result <span class=\"ansi-blue-fg\">=</span> original_method<span class=\"ansi-blue-fg\">(</span>self<span class=\"ansi-blue-fg\">,</span> <span class=\"ansi-blue-fg\">*</span>args<span class=\"ansi-blue-fg\">,</span> <span class=\"ansi-blue-fg\">**</span>kwargs<span class=\"ansi-blue-fg\">)</span>\n<span class=\"ansi-green-intense-fg ansi-bold\">     31</span>                 call_succeeded <span class=\"ansi-blue-fg\">=</span> <span class=\"ansi-green-fg\">True</span>\n<span class=\"ansi-green-intense-fg ansi-bold\">     32</span>                 <span class=\"ansi-green-fg\">return</span> result\n\n<span class=\"ansi-green-fg\">/databricks/spark/python/pyspark/ml/base.py</span> in <span class=\"ansi-cyan-fg\">fit</span><span class=\"ansi-blue-fg\">(self, dataset, params)</span>\n<span class=\"ansi-green-intense-fg ansi-bold\">    159</span>                 <span class=\"ansi-green-fg\">return</span> self<span class=\"ansi-blue-fg\">.</span>copy<span class=\"ansi-blue-fg\">(</span>params<span class=\"ansi-blue-fg\">)</span><span class=\"ansi-blue-fg\">.</span>_fit<span class=\"ansi-blue-fg\">(</span>dataset<span class=\"ansi-blue-fg\">)</span>\n<span class=\"ansi-green-intense-fg ansi-bold\">    160</span>             <span class=\"ansi-green-fg\">else</span><span class=\"ansi-blue-fg\">:</span>\n<span class=\"ansi-green-fg\">--&gt; 161</span><span class=\"ansi-red-fg\">                 </span><span class=\"ansi-green-fg\">return</span> self<span class=\"ansi-blue-fg\">.</span>_fit<span class=\"ansi-blue-fg\">(</span>dataset<span class=\"ansi-blue-fg\">)</span>\n<span class=\"ansi-green-intense-fg ansi-bold\">    162</span>         <span class=\"ansi-green-fg\">else</span><span class=\"ansi-blue-fg\">:</span>\n<span class=\"ansi-green-intense-fg ansi-bold\">    163</span>             raise ValueError(&#34;Params must be either a param map or a list/tuple of param maps, &#34;\n\n<span class=\"ansi-green-fg\">/databricks/spark/python/pyspark/databricks/utils/instrumentation.py</span> in <span class=\"ansi-cyan-fg\">wrapper</span><span class=\"ansi-blue-fg\">(self, *args, **kwargs)</span>\n<span class=\"ansi-green-intense-fg ansi-bold\">     40</span>         <span class=\"ansi-green-fg\">try</span><span class=\"ansi-blue-fg\">:</span>\n<span class=\"ansi-green-intense-fg ansi-bold\">     41</span>             start_time <span class=\"ansi-blue-fg\">=</span> time<span class=\"ansi-blue-fg\">.</span>time<span class=\"ansi-blue-fg\">(</span><span class=\"ansi-blue-fg\">)</span>\n<span class=\"ansi-green-fg\">---&gt; 42</span><span class=\"ansi-red-fg\">             </span>return_val <span class=\"ansi-blue-fg\">=</span> func<span class=\"ansi-blue-fg\">(</span>self<span class=\"ansi-blue-fg\">,</span> <span class=\"ansi-blue-fg\">*</span>args<span class=\"ansi-blue-fg\">,</span> <span class=\"ansi-blue-fg\">**</span>kwargs<span class=\"ansi-blue-fg\">)</span>\n<span class=\"ansi-green-intense-fg ansi-bold\">     43</span>         <span class=\"ansi-green-fg\">except</span> Exception <span class=\"ansi-green-fg\">as</span> e<span class=\"ansi-blue-fg\">:</span>\n<span class=\"ansi-green-intense-fg ansi-bold\">     44</span>             duration <span class=\"ansi-blue-fg\">=</span> <span class=\"ansi-blue-fg\">(</span>time<span class=\"ansi-blue-fg\">.</span>time<span class=\"ansi-blue-fg\">(</span><span class=\"ansi-blue-fg\">)</span> <span class=\"ansi-blue-fg\">-</span> start_time<span class=\"ansi-blue-fg\">)</span> <span class=\"ansi-blue-fg\">*</span> <span class=\"ansi-cyan-fg\">1000</span>\n\n<span class=\"ansi-green-fg\">/databricks/.python_edge_libs/sparkdl/xgboost/xgboost_core.py</span> in <span class=\"ansi-cyan-fg\">_fit</span><span class=\"ansi-blue-fg\">(self, dataset)</span>\n<span class=\"ansi-green-intense-fg ansi-bold\">    574</span> \n<span class=\"ansi-green-intense-fg ansi-bold\">    575</span>         <span class=\"ansi-red-fg\"># Train on 1 remote worker, return the string of the serialized model</span>\n<span class=\"ansi-green-fg\">--&gt; 576</span><span class=\"ansi-red-fg\">         </span>result_ser_model_string <span class=\"ansi-blue-fg\">=</span> dataset<span class=\"ansi-blue-fg\">.</span>repartition<span class=\"ansi-blue-fg\">(</span><span class=\"ansi-cyan-fg\">1</span><span class=\"ansi-blue-fg\">)</span><span class=\"ansi-red-fg\"> </span><span class=\"ansi-red-fg\">\\</span>\n<span class=\"ansi-green-intense-fg ansi-bold\">    577</span>             <span class=\"ansi-blue-fg\">.</span>mapInPandas<span class=\"ansi-blue-fg\">(</span>train_func<span class=\"ansi-blue-fg\">,</span> schema<span class=\"ansi-blue-fg\">=</span><span class=\"ansi-blue-fg\">&#39;model_string string&#39;</span><span class=\"ansi-blue-fg\">)</span><span class=\"ansi-blue-fg\">.</span>collect<span class=\"ansi-blue-fg\">(</span><span class=\"ansi-blue-fg\">)</span><span class=\"ansi-blue-fg\">[</span><span class=\"ansi-cyan-fg\">0</span><span class=\"ansi-blue-fg\">]</span><span class=\"ansi-blue-fg\">[</span><span class=\"ansi-cyan-fg\">0</span><span class=\"ansi-blue-fg\">]</span>\n<span class=\"ansi-green-intense-fg ansi-bold\">    578</span> \n\n<span class=\"ansi-green-fg\">/databricks/spark/python/pyspark/sql/dataframe.py</span> in <span class=\"ansi-cyan-fg\">collect</span><span class=\"ansi-blue-fg\">(self)</span>\n<span class=\"ansi-green-intense-fg ansi-bold\">    695</span>         <span class=\"ansi-red-fg\"># Default path used in OSS Spark / for non-DF-ACL clusters:</span>\n<span class=\"ansi-green-intense-fg ansi-bold\">    696</span>         <span class=\"ansi-green-fg\">with</span> SCCallSiteSync<span class=\"ansi-blue-fg\">(</span>self<span class=\"ansi-blue-fg\">.</span>_sc<span class=\"ansi-blue-fg\">)</span> <span class=\"ansi-green-fg\">as</span> css<span class=\"ansi-blue-fg\">:</span>\n<span class=\"ansi-green-fg\">--&gt; 697</span><span class=\"ansi-red-fg\">             </span>sock_info <span class=\"ansi-blue-fg\">=</span> self<span class=\"ansi-blue-fg\">.</span>_jdf<span class=\"ansi-blue-fg\">.</span>collectToPython<span class=\"ansi-blue-fg\">(</span><span class=\"ansi-blue-fg\">)</span>\n<span class=\"ansi-green-intense-fg ansi-bold\">    698</span>         <span class=\"ansi-green-fg\">return</span> list<span class=\"ansi-blue-fg\">(</span>_load_from_socket<span class=\"ansi-blue-fg\">(</span>sock_info<span class=\"ansi-blue-fg\">,</span> BatchedSerializer<span class=\"ansi-blue-fg\">(</span>PickleSerializer<span class=\"ansi-blue-fg\">(</span><span class=\"ansi-blue-fg\">)</span><span class=\"ansi-blue-fg\">)</span><span class=\"ansi-blue-fg\">)</span><span class=\"ansi-blue-fg\">)</span>\n<span class=\"ansi-green-intense-fg ansi-bold\">    699</span> \n\n<span class=\"ansi-green-fg\">/databricks/spark/python/lib/py4j-0.10.9-src.zip/py4j/java_gateway.py</span> in <span class=\"ansi-cyan-fg\">__call__</span><span class=\"ansi-blue-fg\">(self, *args)</span>\n<span class=\"ansi-green-intense-fg ansi-bold\">   1302</span> \n<span class=\"ansi-green-intense-fg ansi-bold\">   1303</span>         answer <span class=\"ansi-blue-fg\">=</span> self<span class=\"ansi-blue-fg\">.</span>gateway_client<span class=\"ansi-blue-fg\">.</span>send_command<span class=\"ansi-blue-fg\">(</span>command<span class=\"ansi-blue-fg\">)</span>\n<span class=\"ansi-green-fg\">-&gt; 1304</span><span class=\"ansi-red-fg\">         return_value = get_return_value(\n</span><span class=\"ansi-green-intense-fg ansi-bold\">   1305</span>             answer, self.gateway_client, self.target_id, self.name)\n<span class=\"ansi-green-intense-fg ansi-bold\">   1306</span> \n\n<span class=\"ansi-green-fg\">/databricks/spark/python/pyspark/sql/utils.py</span> in <span class=\"ansi-cyan-fg\">deco</span><span class=\"ansi-blue-fg\">(*a, **kw)</span>\n<span class=\"ansi-green-intense-fg ansi-bold\">    115</span>     <span class=\"ansi-green-fg\">def</span> deco<span class=\"ansi-blue-fg\">(</span><span class=\"ansi-blue-fg\">*</span>a<span class=\"ansi-blue-fg\">,</span> <span class=\"ansi-blue-fg\">**</span>kw<span class=\"ansi-blue-fg\">)</span><span class=\"ansi-blue-fg\">:</span>\n<span class=\"ansi-green-intense-fg ansi-bold\">    116</span>         <span class=\"ansi-green-fg\">try</span><span class=\"ansi-blue-fg\">:</span>\n<span class=\"ansi-green-fg\">--&gt; 117</span><span class=\"ansi-red-fg\">             </span><span class=\"ansi-green-fg\">return</span> f<span class=\"ansi-blue-fg\">(</span><span class=\"ansi-blue-fg\">*</span>a<span class=\"ansi-blue-fg\">,</span> <span class=\"ansi-blue-fg\">**</span>kw<span class=\"ansi-blue-fg\">)</span>\n<span class=\"ansi-green-intense-fg ansi-bold\">    118</span>         <span class=\"ansi-green-fg\">except</span> py4j<span class=\"ansi-blue-fg\">.</span>protocol<span class=\"ansi-blue-fg\">.</span>Py4JJavaError <span class=\"ansi-green-fg\">as</span> e<span class=\"ansi-blue-fg\">:</span>\n<span class=\"ansi-green-intense-fg ansi-bold\">    119</span>             converted <span class=\"ansi-blue-fg\">=</span> convert_exception<span class=\"ansi-blue-fg\">(</span>e<span class=\"ansi-blue-fg\">.</span>java_exception<span class=\"ansi-blue-fg\">)</span>\n\n<span class=\"ansi-green-fg\">/databricks/spark/python/lib/py4j-0.10.9-src.zip/py4j/protocol.py</span> in <span class=\"ansi-cyan-fg\">get_return_value</span><span class=\"ansi-blue-fg\">(answer, gateway_client, target_id, name)</span>\n<span class=\"ansi-green-intense-fg ansi-bold\">    324</span>             value <span class=\"ansi-blue-fg\">=</span> OUTPUT_CONVERTER<span class=\"ansi-blue-fg\">[</span>type<span class=\"ansi-blue-fg\">]</span><span class=\"ansi-blue-fg\">(</span>answer<span class=\"ansi-blue-fg\">[</span><span class=\"ansi-cyan-fg\">2</span><span class=\"ansi-blue-fg\">:</span><span class=\"ansi-blue-fg\">]</span><span class=\"ansi-blue-fg\">,</span> gateway_client<span class=\"ansi-blue-fg\">)</span>\n<span class=\"ansi-green-intense-fg ansi-bold\">    325</span>             <span class=\"ansi-green-fg\">if</span> answer<span class=\"ansi-blue-fg\">[</span><span class=\"ansi-cyan-fg\">1</span><span class=\"ansi-blue-fg\">]</span> <span class=\"ansi-blue-fg\">==</span> REFERENCE_TYPE<span class=\"ansi-blue-fg\">:</span>\n<span class=\"ansi-green-fg\">--&gt; 326</span><span class=\"ansi-red-fg\">                 raise Py4JJavaError(\n</span><span class=\"ansi-green-intense-fg ansi-bold\">    327</span>                     <span class=\"ansi-blue-fg\">&#34;An error occurred while calling {0}{1}{2}.\\n&#34;</span><span class=\"ansi-blue-fg\">.</span>\n<span class=\"ansi-green-intense-fg ansi-bold\">    328</span>                     format(target_id, &#34;.&#34;, name), value)\n\n<span class=\"ansi-red-fg\">Py4JJavaError</span>: An error occurred while calling o18282.collectToPython.\n: org.apache.spark.SparkException: Job aborted due to stage failure: Task 0 in stage 548.0 failed 4 times, most recent failure: Lost task 0.3 in stage 548.0 (TID 2447) (10.0.128.7 executor 5): ExecutorLostFailure (executor 5 exited caused by one of the running tasks) Reason: Remote RPC client disassociated. Likely due to containers exceeding thresholds, or network issues. Check driver logs for WARN messages.\nDriver stacktrace:\n\tat org.apache.spark.scheduler.DAGScheduler.failJobAndIndependentStages(DAGScheduler.scala:2828)\n\tat org.apache.spark.scheduler.DAGScheduler.$anonfun$abortStage$2(DAGScheduler.scala:2775)\n\tat org.apache.spark.scheduler.DAGScheduler.$anonfun$abortStage$2$adapted(DAGScheduler.scala:2769)\n\tat scala.collection.mutable.ResizableArray.foreach(ResizableArray.scala:62)\n\tat scala.collection.mutable.ResizableArray.foreach$(ResizableArray.scala:55)\n\tat scala.collection.mutable.ArrayBuffer.foreach(ArrayBuffer.scala:49)\n\tat org.apache.spark.scheduler.DAGScheduler.abortStage(DAGScheduler.scala:2769)\n\tat org.apache.spark.scheduler.DAGScheduler.$anonfun$handleTaskSetFailed$1(DAGScheduler.scala:1305)\n\tat org.apache.spark.scheduler.DAGScheduler.$anonfun$handleTaskSetFailed$1$adapted(DAGScheduler.scala:1305)\n\tat scala.Option.foreach(Option.scala:407)\n\tat org.apache.spark.scheduler.DAGScheduler.handleTaskSetFailed(DAGScheduler.scala:1305)\n\tat org.apache.spark.scheduler.DAGSchedulerEventProcessLoop.doOnReceive(DAGScheduler.scala:3036)\n\tat org.apache.spark.scheduler.DAGSchedulerEventProcessLoop.onReceive(DAGScheduler.scala:2977)\n\tat org.apache.spark.scheduler.DAGSchedulerEventProcessLoop.onReceive(DAGScheduler.scala:2965)\n\tat org.apache.spark.util.EventLoop$$anon$1.run(EventLoop.scala:49)\n\tat org.apache.spark.scheduler.DAGScheduler.runJob(DAGScheduler.scala:1067)\n\tat org.apache.spark.SparkContext.runJobInternal(SparkContext.scala:2476)\n\tat org.apache.spark.sql.execution.collect.Collector.runSparkJobs(Collector.scala:264)\n\tat org.apache.spark.sql.execution.collect.Collector.collect(Collector.scala:299)\n\tat org.apache.spark.sql.execution.collect.Collector$.collect(Collector.scala:82)\n\tat org.apache.spark.sql.execution.collect.Collector$.collect(Collector.scala:88)\n\tat org.apache.spark.sql.execution.collect.InternalRowFormat$.collect(cachedSparkResults.scala:75)\n\tat org.apache.spark.sql.execution.collect.InternalRowFormat$.collect(cachedSparkResults.scala:62)\n\tat org.apache.spark.sql.execution.ResultCacheManager.$anonfun$getOrComputeResultInternal$1(ResultCacheManager.scala:510)\n\tat scala.Option.getOrElse(Option.scala:189)\n\tat org.apache.spark.sql.execution.ResultCacheManager.getOrComputeResultInternal(ResultCacheManager.scala:509)\n\tat org.apache.spark.sql.execution.ResultCacheManager.getOrComputeResult(ResultCacheManager.scala:397)\n\tat org.apache.spark.sql.execution.ResultCacheManager.getOrComputeResult(ResultCacheManager.scala:372)\n\tat org.apache.spark.sql.execution.SparkPlan.executeCollectResult(SparkPlan.scala:406)\n\tat org.apache.spark.sql.Dataset.$anonfun$collectToPython$1(Dataset.scala:3613)\n\tat org.apache.spark.sql.Dataset.$anonfun$withAction$1(Dataset.scala:3825)\n\tat org.apache.spark.sql.execution.SQLExecution$.$anonfun$withCustomExecutionEnv$5(SQLExecution.scala:130)\n\tat org.apache.spark.sql.execution.SQLExecution$.withSQLConfPropagated(SQLExecution.scala:273)\n\tat org.apache.spark.sql.execution.SQLExecution$.$anonfun$withCustomExecutionEnv$1(SQLExecution.scala:104)\n\tat org.apache.spark.sql.SparkSession.withActive(SparkSession.scala:854)\n\tat org.apache.spark.sql.execution.SQLExecution$.withCustomExecutionEnv(SQLExecution.scala:77)\n\tat org.apache.spark.sql.execution.SQLExecution$.withNewExecutionId(SQLExecution.scala:223)\n\tat org.apache.spark.sql.Dataset.withAction(Dataset.scala:3823)\n\tat org.apache.spark.sql.Dataset.collectToPython(Dataset.scala:3611)\n\tat sun.reflect.NativeMethodAccessorImpl.invoke0(Native Method)\n\tat sun.reflect.NativeMethodAccessorImpl.invoke(NativeMethodAccessorImpl.java:62)\n\tat sun.reflect.DelegatingMethodAccessorImpl.invoke(DelegatingMethodAccessorImpl.java:43)\n\tat java.lang.reflect.Method.invoke(Method.java:498)\n\tat py4j.reflection.MethodInvoker.invoke(MethodInvoker.java:244)\n\tat py4j.reflection.ReflectionEngine.invoke(ReflectionEngine.java:380)\n\tat py4j.Gateway.invoke(Gateway.java:295)\n\tat py4j.commands.AbstractCommand.invokeMethod(AbstractCommand.java:132)\n\tat py4j.commands.CallCommand.execute(CallCommand.java:79)\n\tat py4j.GatewayConnection.run(GatewayConnection.java:251)\n\tat java.lang.Thread.run(Thread.java:748)\n</div>",
       "errorSummary": "org.apache.spark.SparkException: Job aborted due to stage failure: Task 0 in stage 548.0 failed 4 times, most recent failure: Lost task 0.3 in stage 548.0 (TID 2447) (10.0.128.7 executor 5): ExecutorLostFailure (executor 5 exited caused by one of the running tasks) Reason: Remote RPC client disassociated. Likely due to containers exceeding thresholds, or network issues. Check driver logs for WARN messages.",
       "errorTraceType": "html",
       "metadata": {},
       "type": "ipynbError"
      }
     },
     "output_type": "display_data"
    }
   ],
   "source": [
    "start_xgb = time.time()\n",
    "\n",
    "# Train the XGB model\n",
    "xgb_model = pipeline_xgb.fit(model_data_train)\n",
    "\n",
    "xgbpredictions = xgb_model.transform(model_data_test)\n",
    "\n",
    "xgb_time_model = time.time() - start_xgb"
   ]
  },
  {
   "cell_type": "code",
   "execution_count": 0,
   "metadata": {
    "application/vnd.databricks.v1+cell": {
     "inputWidgets": {},
     "nuid": "18fa4b8f-025b-443d-9443-3170c6a8e5c6",
     "showTitle": false,
     "title": ""
    }
   },
   "outputs": [
    {
     "data": {
      "text/html": [
       "<style scoped>\n",
       "  .ansiout {\n",
       "    display: block;\n",
       "    unicode-bidi: embed;\n",
       "    white-space: pre-wrap;\n",
       "    word-wrap: break-word;\n",
       "    word-break: break-all;\n",
       "    font-family: \"Source Code Pro\", \"Menlo\", monospace;;\n",
       "    font-size: 13px;\n",
       "    color: #555;\n",
       "    margin-left: 4px;\n",
       "    line-height: 19px;\n",
       "  }\n",
       "</style>\n",
       "<div class=\"ansiout\"></div>"
      ]
     },
     "metadata": {
      "application/vnd.databricks.v1+output": {
       "addedWidgets": {},
       "arguments": {},
       "data": "<div class=\"ansiout\"></div>",
       "datasetInfos": [],
       "metadata": {},
       "removedWidgets": [],
       "type": "html"
      }
     },
     "output_type": "display_data"
    },
    {
     "data": {
      "text/html": [
       "<style scoped>\n",
       "  .ansiout {\n",
       "    display: block;\n",
       "    unicode-bidi: embed;\n",
       "    white-space: pre-wrap;\n",
       "    word-wrap: break-word;\n",
       "    word-break: break-all;\n",
       "    font-family: \"Source Code Pro\", \"Menlo\", monospace;;\n",
       "    font-size: 13px;\n",
       "    color: #555;\n",
       "    margin-left: 4px;\n",
       "    line-height: 19px;\n",
       "  }\n",
       "</style>\n",
       "<div class=\"ansiout\"><span class=\"ansi-red-fg\">---------------------------------------------------------------------------</span>\n",
       "<span class=\"ansi-red-fg\">NameError</span>                                 Traceback (most recent call last)\n",
       "<span class=\"ansi-green-fg\">&lt;command-2297543790378340&gt;</span> in <span class=\"ansi-cyan-fg\">&lt;module&gt;</span>\n",
       "<span class=\"ansi-green-fg\">----&gt; 1</span><span class=\"ansi-red-fg\"> </span>xgbpredictions<span class=\"ansi-blue-fg\">.</span>write<span class=\"ansi-blue-fg\">.</span>mode<span class=\"ansi-blue-fg\">(</span><span class=\"ansi-blue-fg\">&#39;overwrite&#39;</span><span class=\"ansi-blue-fg\">)</span><span class=\"ansi-blue-fg\">.</span>parquet<span class=\"ansi-blue-fg\">(</span><span class=\"ansi-blue-fg\">f&#34;{blob_url}/xgbpredictions_explore&#34;</span><span class=\"ansi-blue-fg\">)</span>\n",
       "\n",
       "<span class=\"ansi-red-fg\">NameError</span>: name &#39;xgbpredictions&#39; is not defined</div>"
      ]
     },
     "metadata": {
      "application/vnd.databricks.v1+output": {
       "arguments": {},
       "data": "<div class=\"ansiout\"><span class=\"ansi-red-fg\">---------------------------------------------------------------------------</span>\n<span class=\"ansi-red-fg\">NameError</span>                                 Traceback (most recent call last)\n<span class=\"ansi-green-fg\">&lt;command-2297543790378340&gt;</span> in <span class=\"ansi-cyan-fg\">&lt;module&gt;</span>\n<span class=\"ansi-green-fg\">----&gt; 1</span><span class=\"ansi-red-fg\"> </span>xgbpredictions<span class=\"ansi-blue-fg\">.</span>write<span class=\"ansi-blue-fg\">.</span>mode<span class=\"ansi-blue-fg\">(</span><span class=\"ansi-blue-fg\">&#39;overwrite&#39;</span><span class=\"ansi-blue-fg\">)</span><span class=\"ansi-blue-fg\">.</span>parquet<span class=\"ansi-blue-fg\">(</span><span class=\"ansi-blue-fg\">f&#34;{blob_url}/xgbpredictions_explore&#34;</span><span class=\"ansi-blue-fg\">)</span>\n\n<span class=\"ansi-red-fg\">NameError</span>: name &#39;xgbpredictions&#39; is not defined</div>",
       "errorSummary": "<span class=\"ansi-red-fg\">NameError</span>: name &#39;xgbpredictions&#39; is not defined",
       "errorTraceType": "html",
       "metadata": {},
       "type": "ipynbError"
      }
     },
     "output_type": "display_data"
    }
   ],
   "source": [
    "xgbpredictions.write.mode('overwrite').parquet(f\"{blob_url}/xgbpredictions_explore\")"
   ]
  },
  {
   "cell_type": "code",
   "execution_count": 0,
   "metadata": {
    "application/vnd.databricks.v1+cell": {
     "inputWidgets": {},
     "nuid": "467fb38f-e9ac-45ff-93a3-39fc56c73ee2",
     "showTitle": false,
     "title": ""
    }
   },
   "outputs": [
    {
     "data": {
      "text/html": [
       "<style scoped>\n",
       "  .ansiout {\n",
       "    display: block;\n",
       "    unicode-bidi: embed;\n",
       "    white-space: pre-wrap;\n",
       "    word-wrap: break-word;\n",
       "    word-break: break-all;\n",
       "    font-family: \"Source Code Pro\", \"Menlo\", monospace;;\n",
       "    font-size: 13px;\n",
       "    color: #555;\n",
       "    margin-left: 4px;\n",
       "    line-height: 19px;\n",
       "  }\n",
       "</style>\n",
       "<div class=\"ansiout\"></div>"
      ]
     },
     "metadata": {
      "application/vnd.databricks.v1+output": {
       "addedWidgets": {},
       "arguments": {},
       "data": "<div class=\"ansiout\"></div>",
       "datasetInfos": [],
       "metadata": {},
       "removedWidgets": [],
       "type": "html"
      }
     },
     "output_type": "display_data"
    }
   ],
   "source": [
    "xgbpredictions = spark.read.parquet(f\"{blob_url}/xgbpredictions_explore/*\")"
   ]
  },
  {
   "cell_type": "code",
   "execution_count": 0,
   "metadata": {
    "application/vnd.databricks.v1+cell": {
     "inputWidgets": {},
     "nuid": "b57a0bf7-7119-47a7-9026-6c9501377317",
     "showTitle": false,
     "title": ""
    }
   },
   "outputs": [
    {
     "data": {
      "text/html": [
       "<style scoped>\n",
       "  .ansiout {\n",
       "    display: block;\n",
       "    unicode-bidi: embed;\n",
       "    white-space: pre-wrap;\n",
       "    word-wrap: break-word;\n",
       "    word-break: break-all;\n",
       "    font-family: \"Source Code Pro\", \"Menlo\", monospace;;\n",
       "    font-size: 13px;\n",
       "    color: #555;\n",
       "    margin-left: 4px;\n",
       "    line-height: 19px;\n",
       "  }\n",
       "</style>\n",
       "<div class=\"ansiout\">Out[50]: 0.7907348236371323</div>"
      ]
     },
     "metadata": {
      "application/vnd.databricks.v1+output": {
       "addedWidgets": {},
       "arguments": {},
       "data": "<div class=\"ansiout\">Out[50]: 0.7907348236371323</div>",
       "datasetInfos": [],
       "metadata": {},
       "removedWidgets": [],
       "type": "html"
      }
     },
     "output_type": "display_data"
    }
   ],
   "source": [
    "# Model Evaluation\n",
    "\n",
    "eval_accuracy = MulticlassClassificationEvaluator(labelCol=\"departure_delay_boolean\", predictionCol=\"prediction\", metricName=\"accuracy\")\n",
    "eval_precision = MulticlassClassificationEvaluator(labelCol=\"departure_delay_boolean\", predictionCol=\"prediction\", metricName=\"precision\")\n",
    "eval_recall = MulticlassClassificationEvaluator(labelCol=\"departure_delay_boolean\", predictionCol=\"prediction\", metricName=\"recall\")\n",
    "\n",
    "evaluator = MulticlassClassificationEvaluator(labelCol=\"departure_delay_boolean\", predictionCol=\"prediction\", metricName=\"f1\")\n",
    "evaluator.evaluate(xgbpredictions)\n",
    "\n",
    "\n",
    "\n"
   ]
  },
  {
   "cell_type": "code",
   "execution_count": 0,
   "metadata": {
    "application/vnd.databricks.v1+cell": {
     "inputWidgets": {},
     "nuid": "c5277ab4-3e1d-43a5-918d-02b249b57f60",
     "showTitle": false,
     "title": ""
    }
   },
   "outputs": [
    {
     "data": {
      "text/html": [
       "<style scoped>\n",
       "  .ansiout {\n",
       "    display: block;\n",
       "    unicode-bidi: embed;\n",
       "    white-space: pre-wrap;\n",
       "    word-wrap: break-word;\n",
       "    word-break: break-all;\n",
       "    font-family: \"Source Code Pro\", \"Menlo\", monospace;;\n",
       "    font-size: 13px;\n",
       "    color: #555;\n",
       "    margin-left: 4px;\n",
       "    line-height: 19px;\n",
       "  }\n",
       "</style>\n",
       "Error while obtaining a new communication channel"
      ]
     },
     "metadata": {
      "application/vnd.databricks.v1+output": {
       "arguments": {},
       "data": "Error while obtaining a new communication channel",
       "errorSummary": "ConnectException: Connection refused (Connection refused)",
       "errorTraceType": "raw",
       "metadata": {},
       "type": "ipynbError"
      }
     },
     "output_type": "display_data"
    }
   ],
   "source": [
    "# Model Evaluation with scikit learn\n",
    "y_true_xgb = xgbpredictions.select(['departure_delay_boolean']).collect()\n",
    "y_pred_xgb = xgbpredictions.select(['prediction']).collect()\n",
    "\n",
    "# Print metrics\n",
    "from sklearn.metrics import classification_report, confusion_matrix\n",
    "print(classification_report(y_true_xgb, y_pred_xgb))\n",
    "print(confusion_matrix(y_true_xgb, y_pred_xgb))"
   ]
  },
  {
   "cell_type": "code",
   "execution_count": 0,
   "metadata": {
    "application/vnd.databricks.v1+cell": {
     "inputWidgets": {},
     "nuid": "5be2078a-803e-43a8-893f-7f2792717ab4",
     "showTitle": false,
     "title": ""
    }
   },
   "outputs": [
    {
     "data": {
      "text/html": [
       "<style scoped>\n",
       "  .ansiout {\n",
       "    display: block;\n",
       "    unicode-bidi: embed;\n",
       "    white-space: pre-wrap;\n",
       "    word-wrap: break-word;\n",
       "    word-break: break-all;\n",
       "    font-family: \"Source Code Pro\", \"Menlo\", monospace;;\n",
       "    font-size: 13px;\n",
       "    color: #555;\n",
       "    margin-left: 4px;\n",
       "    line-height: 19px;\n",
       "  }\n",
       "</style>\n",
       "<div class=\"ansiout\"></div>"
      ]
     },
     "metadata": {
      "application/vnd.databricks.v1+output": {
       "addedWidgets": {},
       "arguments": {},
       "data": "<div class=\"ansiout\"></div>",
       "datasetInfos": [],
       "metadata": {},
       "removedWidgets": [],
       "type": "html"
      }
     },
     "output_type": "display_data"
    },
    {
     "data": {
      "text/html": [
       "<style scoped>\n",
       "  .ansiout {\n",
       "    display: block;\n",
       "    unicode-bidi: embed;\n",
       "    white-space: pre-wrap;\n",
       "    word-wrap: break-word;\n",
       "    word-break: break-all;\n",
       "    font-family: \"Source Code Pro\", \"Menlo\", monospace;;\n",
       "    font-size: 13px;\n",
       "    color: #555;\n",
       "    margin-left: 4px;\n",
       "    line-height: 19px;\n",
       "  }\n",
       "</style>\n",
       "<div class=\"ansiout\"><span class=\"ansi-red-fg\">---------------------------------------------------------------------------</span>\n",
       "<span class=\"ansi-red-fg\">NameError</span>                                 Traceback (most recent call last)\n",
       "<span class=\"ansi-green-fg\">&lt;command-2297543790378344&gt;</span> in <span class=\"ansi-cyan-fg\">&lt;module&gt;</span>\n",
       "<span class=\"ansi-green-intense-fg ansi-bold\">      1</span> <span class=\"ansi-red-fg\"># Plot Confusion Matrix</span>\n",
       "<span class=\"ansi-green-intense-fg ansi-bold\">      2</span> \n",
       "<span class=\"ansi-green-fg\">----&gt; 3</span><span class=\"ansi-red-fg\"> </span>cm_xgb <span class=\"ansi-blue-fg\">=</span> confusion_matrix<span class=\"ansi-blue-fg\">(</span>y_true_xgb<span class=\"ansi-blue-fg\">,</span> y_pred_xgb<span class=\"ansi-blue-fg\">)</span>\n",
       "<span class=\"ansi-green-intense-fg ansi-bold\">      4</span> cm_xgb_display <span class=\"ansi-blue-fg\">=</span> ConfusionMatrixDisplay<span class=\"ansi-blue-fg\">(</span>cm_xgb<span class=\"ansi-blue-fg\">,</span> display_labels<span class=\"ansi-blue-fg\">=</span><span class=\"ansi-blue-fg\">[</span><span class=\"ansi-blue-fg\">&#39;On Time&#39;</span><span class=\"ansi-blue-fg\">,</span> <span class=\"ansi-blue-fg\">&#39;Delay&#39;</span><span class=\"ansi-blue-fg\">]</span><span class=\"ansi-blue-fg\">)</span>\n",
       "<span class=\"ansi-green-intense-fg ansi-bold\">      5</span> cm_xgb_display<span class=\"ansi-blue-fg\">.</span>plot<span class=\"ansi-blue-fg\">(</span>cmap<span class=\"ansi-blue-fg\">=</span><span class=\"ansi-blue-fg\">&#39;Blues&#39;</span><span class=\"ansi-blue-fg\">,</span> values_format<span class=\"ansi-blue-fg\">=</span><span class=\"ansi-blue-fg\">&#39;d&#39;</span><span class=\"ansi-blue-fg\">)</span>\n",
       "\n",
       "<span class=\"ansi-red-fg\">NameError</span>: name &#39;confusion_matrix&#39; is not defined</div>"
      ]
     },
     "metadata": {
      "application/vnd.databricks.v1+output": {
       "arguments": {},
       "data": "<div class=\"ansiout\"><span class=\"ansi-red-fg\">---------------------------------------------------------------------------</span>\n<span class=\"ansi-red-fg\">NameError</span>                                 Traceback (most recent call last)\n<span class=\"ansi-green-fg\">&lt;command-2297543790378344&gt;</span> in <span class=\"ansi-cyan-fg\">&lt;module&gt;</span>\n<span class=\"ansi-green-intense-fg ansi-bold\">      1</span> <span class=\"ansi-red-fg\"># Plot Confusion Matrix</span>\n<span class=\"ansi-green-intense-fg ansi-bold\">      2</span> \n<span class=\"ansi-green-fg\">----&gt; 3</span><span class=\"ansi-red-fg\"> </span>cm_xgb <span class=\"ansi-blue-fg\">=</span> confusion_matrix<span class=\"ansi-blue-fg\">(</span>y_true_xgb<span class=\"ansi-blue-fg\">,</span> y_pred_xgb<span class=\"ansi-blue-fg\">)</span>\n<span class=\"ansi-green-intense-fg ansi-bold\">      4</span> cm_xgb_display <span class=\"ansi-blue-fg\">=</span> ConfusionMatrixDisplay<span class=\"ansi-blue-fg\">(</span>cm_xgb<span class=\"ansi-blue-fg\">,</span> display_labels<span class=\"ansi-blue-fg\">=</span><span class=\"ansi-blue-fg\">[</span><span class=\"ansi-blue-fg\">&#39;On Time&#39;</span><span class=\"ansi-blue-fg\">,</span> <span class=\"ansi-blue-fg\">&#39;Delay&#39;</span><span class=\"ansi-blue-fg\">]</span><span class=\"ansi-blue-fg\">)</span>\n<span class=\"ansi-green-intense-fg ansi-bold\">      5</span> cm_xgb_display<span class=\"ansi-blue-fg\">.</span>plot<span class=\"ansi-blue-fg\">(</span>cmap<span class=\"ansi-blue-fg\">=</span><span class=\"ansi-blue-fg\">&#39;Blues&#39;</span><span class=\"ansi-blue-fg\">,</span> values_format<span class=\"ansi-blue-fg\">=</span><span class=\"ansi-blue-fg\">&#39;d&#39;</span><span class=\"ansi-blue-fg\">)</span>\n\n<span class=\"ansi-red-fg\">NameError</span>: name &#39;confusion_matrix&#39; is not defined</div>",
       "errorSummary": "<span class=\"ansi-red-fg\">NameError</span>: name &#39;confusion_matrix&#39; is not defined",
       "errorTraceType": "html",
       "metadata": {},
       "type": "ipynbError"
      }
     },
     "output_type": "display_data"
    }
   ],
   "source": [
    "# Plot Confusion Matrix\n",
    "\n",
    "cm_xgb = confusion_matrix(y_true_xgb, y_pred_xgb)\n",
    "cm_xgb_display = ConfusionMatrixDisplay(cm_xgb, display_labels=['On Time', 'Delay'])\n",
    "cm_xgb_display.plot(cmap='Blues', values_format='d')\n",
    "cm_xgb_display.ax_.set(title='Confusion Matrix-XGB')\n",
    "cm_xgb_display.ax_.set(xlabel='Predicted labels', ylabel='True labels')"
   ]
  },
  {
   "cell_type": "code",
   "execution_count": 0,
   "metadata": {
    "application/vnd.databricks.v1+cell": {
     "inputWidgets": {},
     "nuid": "bfcbaf4c-f0cc-44d2-a15b-0b300e23c89c",
     "showTitle": false,
     "title": ""
    }
   },
   "outputs": [
    {
     "data": {
      "text/html": [
       "<style scoped>\n",
       "  .ansiout {\n",
       "    display: block;\n",
       "    unicode-bidi: embed;\n",
       "    white-space: pre-wrap;\n",
       "    word-wrap: break-word;\n",
       "    word-break: break-all;\n",
       "    font-family: \"Source Code Pro\", \"Menlo\", monospace;;\n",
       "    font-size: 13px;\n",
       "    color: #555;\n",
       "    margin-left: 4px;\n",
       "    line-height: 19px;\n",
       "  }\n",
       "</style>\n",
       "<div class=\"ansiout\"></div>"
      ]
     },
     "metadata": {
      "application/vnd.databricks.v1+output": {
       "addedWidgets": {},
       "arguments": {},
       "data": "<div class=\"ansiout\"></div>",
       "datasetInfos": [],
       "metadata": {},
       "removedWidgets": [],
       "type": "html"
      }
     },
     "output_type": "display_data"
    },
    {
     "data": {
      "text/html": [
       "<style scoped>\n",
       "  .ansiout {\n",
       "    display: block;\n",
       "    unicode-bidi: embed;\n",
       "    white-space: pre-wrap;\n",
       "    word-wrap: break-word;\n",
       "    word-break: break-all;\n",
       "    font-family: \"Source Code Pro\", \"Menlo\", monospace;;\n",
       "    font-size: 13px;\n",
       "    color: #555;\n",
       "    margin-left: 4px;\n",
       "    line-height: 19px;\n",
       "  }\n",
       "</style>\n",
       "<div class=\"ansiout\"><span class=\"ansi-red-fg\">---------------------------------------------------------------------------</span>\n",
       "<span class=\"ansi-red-fg\">NameError</span>                                 Traceback (most recent call last)\n",
       "<span class=\"ansi-green-fg\">&lt;command-2297543790378345&gt;</span> in <span class=\"ansi-cyan-fg\">&lt;module&gt;</span>\n",
       "<span class=\"ansi-green-fg\">----&gt; 1</span><span class=\"ansi-red-fg\"> </span>print_results<span class=\"ansi-blue-fg\">(</span>xgbpredictions<span class=\"ansi-blue-fg\">,</span> <span class=\"ansi-blue-fg\">&#39;XGB&#39;</span><span class=\"ansi-blue-fg\">,</span> xgb_time_model<span class=\"ansi-blue-fg\">)</span>\n",
       "\n",
       "<span class=\"ansi-red-fg\">NameError</span>: name &#39;print_results&#39; is not defined</div>"
      ]
     },
     "metadata": {
      "application/vnd.databricks.v1+output": {
       "arguments": {},
       "data": "<div class=\"ansiout\"><span class=\"ansi-red-fg\">---------------------------------------------------------------------------</span>\n<span class=\"ansi-red-fg\">NameError</span>                                 Traceback (most recent call last)\n<span class=\"ansi-green-fg\">&lt;command-2297543790378345&gt;</span> in <span class=\"ansi-cyan-fg\">&lt;module&gt;</span>\n<span class=\"ansi-green-fg\">----&gt; 1</span><span class=\"ansi-red-fg\"> </span>print_results<span class=\"ansi-blue-fg\">(</span>xgbpredictions<span class=\"ansi-blue-fg\">,</span> <span class=\"ansi-blue-fg\">&#39;XGB&#39;</span><span class=\"ansi-blue-fg\">,</span> xgb_time_model<span class=\"ansi-blue-fg\">)</span>\n\n<span class=\"ansi-red-fg\">NameError</span>: name &#39;print_results&#39; is not defined</div>",
       "errorSummary": "<span class=\"ansi-red-fg\">NameError</span>: name &#39;print_results&#39; is not defined",
       "errorTraceType": "html",
       "metadata": {},
       "type": "ipynbError"
      }
     },
     "output_type": "display_data"
    }
   ],
   "source": [
    "print_results(xgbpredictions, 'XGB', xgb_time_model)"
   ]
  },
  {
   "cell_type": "code",
   "execution_count": 0,
   "metadata": {
    "application/vnd.databricks.v1+cell": {
     "inputWidgets": {},
     "nuid": "58035865-bc2c-4c70-9f6c-4878858d02a9",
     "showTitle": false,
     "title": ""
    }
   },
   "outputs": [
    {
     "data": {
      "text/html": [
       "<style scoped>\n",
       "  .ansiout {\n",
       "    display: block;\n",
       "    unicode-bidi: embed;\n",
       "    white-space: pre-wrap;\n",
       "    word-wrap: break-word;\n",
       "    word-break: break-all;\n",
       "    font-family: \"Source Code Pro\", \"Menlo\", monospace;;\n",
       "    font-size: 13px;\n",
       "    color: #555;\n",
       "    margin-left: 4px;\n",
       "    line-height: 19px;\n",
       "  }\n",
       "</style>\n",
       "<div class=\"ansiout\"></div>"
      ]
     },
     "metadata": {
      "application/vnd.databricks.v1+output": {
       "addedWidgets": {},
       "arguments": {},
       "data": "<div class=\"ansiout\"></div>",
       "datasetInfos": [],
       "metadata": {},
       "removedWidgets": [],
       "type": "html"
      }
     },
     "output_type": "display_data"
    },
    {
     "data": {
      "text/html": [
       "<style scoped>\n",
       "  .ansiout {\n",
       "    display: block;\n",
       "    unicode-bidi: embed;\n",
       "    white-space: pre-wrap;\n",
       "    word-wrap: break-word;\n",
       "    word-break: break-all;\n",
       "    font-family: \"Source Code Pro\", \"Menlo\", monospace;;\n",
       "    font-size: 13px;\n",
       "    color: #555;\n",
       "    margin-left: 4px;\n",
       "    line-height: 19px;\n",
       "  }\n",
       "</style>\n",
       "<div class=\"ansiout\"><span class=\"ansi-red-fg\">---------------------------------------------------------------------------</span>\n",
       "<span class=\"ansi-red-fg\">NameError</span>                                 Traceback (most recent call last)\n",
       "<span class=\"ansi-green-fg\">&lt;command-2297543790378346&gt;</span> in <span class=\"ansi-cyan-fg\">&lt;module&gt;</span>\n",
       "<span class=\"ansi-green-fg\">----&gt; 1</span><span class=\"ansi-red-fg\"> </span>pd_df <span class=\"ansi-blue-fg\">=</span> pd<span class=\"ansi-blue-fg\">.</span>DataFrame<span class=\"ansi-blue-fg\">(</span>data<span class=\"ansi-blue-fg\">=</span>eval_metrics<span class=\"ansi-blue-fg\">)</span>\n",
       "<span class=\"ansi-green-intense-fg ansi-bold\">      2</span> pd_df<span class=\"ansi-blue-fg\">.</span>sort_values<span class=\"ansi-blue-fg\">(</span>by<span class=\"ansi-blue-fg\">=</span><span class=\"ansi-cyan-fg\">0</span><span class=\"ansi-blue-fg\">,</span> axis<span class=\"ansi-blue-fg\">=</span><span class=\"ansi-cyan-fg\">1</span><span class=\"ansi-blue-fg\">,</span> ascending<span class=\"ansi-blue-fg\">=</span><span class=\"ansi-green-fg\">True</span><span class=\"ansi-blue-fg\">,</span> inplace<span class=\"ansi-blue-fg\">=</span><span class=\"ansi-green-fg\">True</span><span class=\"ansi-blue-fg\">)</span>\n",
       "<span class=\"ansi-green-intense-fg ansi-bold\">      3</span> pd_df<span class=\"ansi-blue-fg\">.</span>insert<span class=\"ansi-blue-fg\">(</span><span class=\"ansi-cyan-fg\">0</span><span class=\"ansi-blue-fg\">,</span> <span class=\"ansi-blue-fg\">&#39;Metric&#39;</span><span class=\"ansi-blue-fg\">,</span> <span class=\"ansi-blue-fg\">(</span><span class=\"ansi-blue-fg\">&#39;F1&#39;</span><span class=\"ansi-blue-fg\">,</span> <span class=\"ansi-blue-fg\">&#39;Recall&#39;</span><span class=\"ansi-blue-fg\">,</span> <span class=\"ansi-blue-fg\">&#39;Precision&#39;</span><span class=\"ansi-blue-fg\">,</span> <span class=\"ansi-blue-fg\">&#39;Sensitivity&#39;</span><span class=\"ansi-blue-fg\">,</span> <span class=\"ansi-blue-fg\">&#39;Specificity&#39;</span><span class=\"ansi-blue-fg\">,</span> <span class=\"ansi-blue-fg\">&#39;FP&#39;</span><span class=\"ansi-blue-fg\">,</span> <span class=\"ansi-blue-fg\">&#39;FN&#39;</span><span class=\"ansi-blue-fg\">,</span> <span class=\"ansi-blue-fg\">&#39;Time&#39;</span><span class=\"ansi-blue-fg\">)</span><span class=\"ansi-blue-fg\">)</span>\n",
       "<span class=\"ansi-green-intense-fg ansi-bold\">      4</span> column_names <span class=\"ansi-blue-fg\">=</span> <span class=\"ansi-blue-fg\">[</span><span class=\"ansi-blue-fg\">&#39;Metric&#39;</span><span class=\"ansi-blue-fg\">,</span> <span class=\"ansi-blue-fg\">&#39;GB&#39;</span><span class=\"ansi-blue-fg\">,</span> <span class=\"ansi-blue-fg\">&#39;RF&#39;</span><span class=\"ansi-blue-fg\">,</span> <span class=\"ansi-blue-fg\">&#39;SVC&#39;</span><span class=\"ansi-blue-fg\">,</span> <span class=\"ansi-blue-fg\">&#39;RF&#39;</span><span class=\"ansi-blue-fg\">,</span> <span class=\"ansi-blue-fg\">&#39;XGB&#39;</span><span class=\"ansi-blue-fg\">]</span>\n",
       "<span class=\"ansi-green-intense-fg ansi-bold\">      5</span> \n",
       "\n",
       "<span class=\"ansi-red-fg\">NameError</span>: name &#39;pd&#39; is not defined</div>"
      ]
     },
     "metadata": {
      "application/vnd.databricks.v1+output": {
       "arguments": {},
       "data": "<div class=\"ansiout\"><span class=\"ansi-red-fg\">---------------------------------------------------------------------------</span>\n<span class=\"ansi-red-fg\">NameError</span>                                 Traceback (most recent call last)\n<span class=\"ansi-green-fg\">&lt;command-2297543790378346&gt;</span> in <span class=\"ansi-cyan-fg\">&lt;module&gt;</span>\n<span class=\"ansi-green-fg\">----&gt; 1</span><span class=\"ansi-red-fg\"> </span>pd_df <span class=\"ansi-blue-fg\">=</span> pd<span class=\"ansi-blue-fg\">.</span>DataFrame<span class=\"ansi-blue-fg\">(</span>data<span class=\"ansi-blue-fg\">=</span>eval_metrics<span class=\"ansi-blue-fg\">)</span>\n<span class=\"ansi-green-intense-fg ansi-bold\">      2</span> pd_df<span class=\"ansi-blue-fg\">.</span>sort_values<span class=\"ansi-blue-fg\">(</span>by<span class=\"ansi-blue-fg\">=</span><span class=\"ansi-cyan-fg\">0</span><span class=\"ansi-blue-fg\">,</span> axis<span class=\"ansi-blue-fg\">=</span><span class=\"ansi-cyan-fg\">1</span><span class=\"ansi-blue-fg\">,</span> ascending<span class=\"ansi-blue-fg\">=</span><span class=\"ansi-green-fg\">True</span><span class=\"ansi-blue-fg\">,</span> inplace<span class=\"ansi-blue-fg\">=</span><span class=\"ansi-green-fg\">True</span><span class=\"ansi-blue-fg\">)</span>\n<span class=\"ansi-green-intense-fg ansi-bold\">      3</span> pd_df<span class=\"ansi-blue-fg\">.</span>insert<span class=\"ansi-blue-fg\">(</span><span class=\"ansi-cyan-fg\">0</span><span class=\"ansi-blue-fg\">,</span> <span class=\"ansi-blue-fg\">&#39;Metric&#39;</span><span class=\"ansi-blue-fg\">,</span> <span class=\"ansi-blue-fg\">(</span><span class=\"ansi-blue-fg\">&#39;F1&#39;</span><span class=\"ansi-blue-fg\">,</span> <span class=\"ansi-blue-fg\">&#39;Recall&#39;</span><span class=\"ansi-blue-fg\">,</span> <span class=\"ansi-blue-fg\">&#39;Precision&#39;</span><span class=\"ansi-blue-fg\">,</span> <span class=\"ansi-blue-fg\">&#39;Sensitivity&#39;</span><span class=\"ansi-blue-fg\">,</span> <span class=\"ansi-blue-fg\">&#39;Specificity&#39;</span><span class=\"ansi-blue-fg\">,</span> <span class=\"ansi-blue-fg\">&#39;FP&#39;</span><span class=\"ansi-blue-fg\">,</span> <span class=\"ansi-blue-fg\">&#39;FN&#39;</span><span class=\"ansi-blue-fg\">,</span> <span class=\"ansi-blue-fg\">&#39;Time&#39;</span><span class=\"ansi-blue-fg\">)</span><span class=\"ansi-blue-fg\">)</span>\n<span class=\"ansi-green-intense-fg ansi-bold\">      4</span> column_names <span class=\"ansi-blue-fg\">=</span> <span class=\"ansi-blue-fg\">[</span><span class=\"ansi-blue-fg\">&#39;Metric&#39;</span><span class=\"ansi-blue-fg\">,</span> <span class=\"ansi-blue-fg\">&#39;GB&#39;</span><span class=\"ansi-blue-fg\">,</span> <span class=\"ansi-blue-fg\">&#39;RF&#39;</span><span class=\"ansi-blue-fg\">,</span> <span class=\"ansi-blue-fg\">&#39;SVC&#39;</span><span class=\"ansi-blue-fg\">,</span> <span class=\"ansi-blue-fg\">&#39;RF&#39;</span><span class=\"ansi-blue-fg\">,</span> <span class=\"ansi-blue-fg\">&#39;XGB&#39;</span><span class=\"ansi-blue-fg\">]</span>\n<span class=\"ansi-green-intense-fg ansi-bold\">      5</span> \n\n<span class=\"ansi-red-fg\">NameError</span>: name &#39;pd&#39; is not defined</div>",
       "errorSummary": "<span class=\"ansi-red-fg\">NameError</span>: name &#39;pd&#39; is not defined",
       "errorTraceType": "html",
       "metadata": {},
       "type": "ipynbError"
      }
     },
     "output_type": "display_data"
    }
   ],
   "source": [
    "pd_df = pd.DataFrame(data=eval_metrics)\n",
    "pd_df.sort_values(by=0, axis=1, ascending=True, inplace=True)\n",
    "pd_df.insert(0, 'Metric', ('F1', 'Recall', 'Precision', 'Sensitivity', 'Specificity', 'FP', 'FN', 'Time'))\n",
    "column_names = ['Metric', 'GB', 'RF', 'SVC', 'RF', 'XGB']\n",
    "\n",
    "display(HTML(pd_df.to_html(index=False)))"
   ]
  },
  {
   "cell_type": "code",
   "execution_count": 0,
   "metadata": {
    "application/vnd.databricks.v1+cell": {
     "inputWidgets": {},
     "nuid": "c2b97ec5-9330-48fd-91fc-3fc8c026c95a",
     "showTitle": false,
     "title": ""
    }
   },
   "outputs": [
    {
     "data": {
      "text/html": [
       "<style scoped>\n",
       "  .ansiout {\n",
       "    display: block;\n",
       "    unicode-bidi: embed;\n",
       "    white-space: pre-wrap;\n",
       "    word-wrap: break-word;\n",
       "    word-break: break-all;\n",
       "    font-family: \"Source Code Pro\", \"Menlo\", monospace;;\n",
       "    font-size: 13px;\n",
       "    color: #555;\n",
       "    margin-left: 4px;\n",
       "    line-height: 19px;\n",
       "  }\n",
       "</style>\n",
       "<div class=\"ansiout\"></div>"
      ]
     },
     "metadata": {
      "application/vnd.databricks.v1+output": {
       "addedWidgets": {},
       "arguments": {},
       "data": "<div class=\"ansiout\"></div>",
       "datasetInfos": [],
       "metadata": {},
       "removedWidgets": [],
       "type": "html"
      }
     },
     "output_type": "display_data"
    },
    {
     "data": {
      "text/html": [
       "<style scoped>\n",
       "  .ansiout {\n",
       "    display: block;\n",
       "    unicode-bidi: embed;\n",
       "    white-space: pre-wrap;\n",
       "    word-wrap: break-word;\n",
       "    word-break: break-all;\n",
       "    font-family: \"Source Code Pro\", \"Menlo\", monospace;;\n",
       "    font-size: 13px;\n",
       "    color: #555;\n",
       "    margin-left: 4px;\n",
       "    line-height: 19px;\n",
       "  }\n",
       "</style>\n",
       "<div class=\"ansiout\"><span class=\"ansi-red-fg\">---------------------------------------------------------------------------</span>\n",
       "<span class=\"ansi-red-fg\">NameError</span>                                 Traceback (most recent call last)\n",
       "<span class=\"ansi-green-fg\">&lt;command-2297543790378347&gt;</span> in <span class=\"ansi-cyan-fg\">&lt;module&gt;</span>\n",
       "<span class=\"ansi-green-fg\">----&gt; 1</span><span class=\"ansi-red-fg\"> </span>df1 <span class=\"ansi-blue-fg\">=</span> data<span class=\"ansi-blue-fg\">=</span>pd_df<span class=\"ansi-blue-fg\">.</span>iloc<span class=\"ansi-blue-fg\">[</span><span class=\"ansi-cyan-fg\">0</span><span class=\"ansi-blue-fg\">:</span><span class=\"ansi-cyan-fg\">7</span><span class=\"ansi-blue-fg\">,</span><span class=\"ansi-cyan-fg\">0</span><span class=\"ansi-blue-fg\">:</span><span class=\"ansi-cyan-fg\">6</span><span class=\"ansi-blue-fg\">]</span>\n",
       "<span class=\"ansi-green-intense-fg ansi-bold\">      2</span> \n",
       "<span class=\"ansi-green-intense-fg ansi-bold\">      3</span> df1 <span class=\"ansi-blue-fg\">=</span> df1<span class=\"ansi-blue-fg\">.</span>melt<span class=\"ansi-blue-fg\">(</span><span class=\"ansi-blue-fg\">&#39;Metric&#39;</span><span class=\"ansi-blue-fg\">,</span> var_name<span class=\"ansi-blue-fg\">=</span><span class=\"ansi-blue-fg\">&#39;Classification Method&#39;</span><span class=\"ansi-blue-fg\">,</span>  value_name<span class=\"ansi-blue-fg\">=</span><span class=\"ansi-blue-fg\">&#39;Value&#39;</span><span class=\"ansi-blue-fg\">)</span>\n",
       "<span class=\"ansi-green-intense-fg ansi-bold\">      4</span> \n",
       "<span class=\"ansi-green-intense-fg ansi-bold\">      5</span> N <span class=\"ansi-blue-fg\">=</span> <span class=\"ansi-cyan-fg\">500</span>\n",
       "\n",
       "<span class=\"ansi-red-fg\">NameError</span>: name &#39;pd_df&#39; is not defined</div>"
      ]
     },
     "metadata": {
      "application/vnd.databricks.v1+output": {
       "arguments": {},
       "data": "<div class=\"ansiout\"><span class=\"ansi-red-fg\">---------------------------------------------------------------------------</span>\n<span class=\"ansi-red-fg\">NameError</span>                                 Traceback (most recent call last)\n<span class=\"ansi-green-fg\">&lt;command-2297543790378347&gt;</span> in <span class=\"ansi-cyan-fg\">&lt;module&gt;</span>\n<span class=\"ansi-green-fg\">----&gt; 1</span><span class=\"ansi-red-fg\"> </span>df1 <span class=\"ansi-blue-fg\">=</span> data<span class=\"ansi-blue-fg\">=</span>pd_df<span class=\"ansi-blue-fg\">.</span>iloc<span class=\"ansi-blue-fg\">[</span><span class=\"ansi-cyan-fg\">0</span><span class=\"ansi-blue-fg\">:</span><span class=\"ansi-cyan-fg\">7</span><span class=\"ansi-blue-fg\">,</span><span class=\"ansi-cyan-fg\">0</span><span class=\"ansi-blue-fg\">:</span><span class=\"ansi-cyan-fg\">6</span><span class=\"ansi-blue-fg\">]</span>\n<span class=\"ansi-green-intense-fg ansi-bold\">      2</span> \n<span class=\"ansi-green-intense-fg ansi-bold\">      3</span> df1 <span class=\"ansi-blue-fg\">=</span> df1<span class=\"ansi-blue-fg\">.</span>melt<span class=\"ansi-blue-fg\">(</span><span class=\"ansi-blue-fg\">&#39;Metric&#39;</span><span class=\"ansi-blue-fg\">,</span> var_name<span class=\"ansi-blue-fg\">=</span><span class=\"ansi-blue-fg\">&#39;Classification Method&#39;</span><span class=\"ansi-blue-fg\">,</span>  value_name<span class=\"ansi-blue-fg\">=</span><span class=\"ansi-blue-fg\">&#39;Value&#39;</span><span class=\"ansi-blue-fg\">)</span>\n<span class=\"ansi-green-intense-fg ansi-bold\">      4</span> \n<span class=\"ansi-green-intense-fg ansi-bold\">      5</span> N <span class=\"ansi-blue-fg\">=</span> <span class=\"ansi-cyan-fg\">500</span>\n\n<span class=\"ansi-red-fg\">NameError</span>: name &#39;pd_df&#39; is not defined</div>",
       "errorSummary": "<span class=\"ansi-red-fg\">NameError</span>: name &#39;pd_df&#39; is not defined",
       "errorTraceType": "html",
       "metadata": {},
       "type": "ipynbError"
      }
     },
     "output_type": "display_data"
    }
   ],
   "source": [
    "df1 = data=pd_df.iloc[0:7,0:6]\n",
    "\n",
    "df1 = df1.melt('Metric', var_name='Classification Method',  value_name='Value')\n",
    "\n",
    "N = 500\n",
    "# Construct the colormap\n",
    "current_palette = sns.color_palette(\"muted\", n_colors=11)\n",
    "cmap = ListedColormap(sns.color_palette(current_palette).as_hex())\n",
    "colors = np.random.randint(0, 11, N)\n",
    "\n",
    "sns.set_theme(style=\"whitegrid\")\n",
    "\n",
    "g = sns.catplot(x=\"Metric\", y=\"Value\", hue='Classification Method', data=df1, marker='o', c=colors, cmap=cmap, aspect=2.6, s=7, facecolors='none', edgecolors='r')\n",
    "(g.set_axis_labels(\"Metric\", \"Value\")\n",
    "  .set_xticklabels(['F1-Score', 'Recall', 'Precision', 'Sensitivity', 'Specificity', 'False Positive', 'False Negative'])\n",
    "  .set_titles(\"{col_name} {col_var}\")\n",
    "  .set(ylim=(0, 1.25))\n",
    "  .despine(left=True))\n",
    "plt.title(\"Metrics across Models\")\n",
    "plt.show()"
   ]
  },
  {
   "cell_type": "code",
   "execution_count": 0,
   "metadata": {
    "application/vnd.databricks.v1+cell": {
     "inputWidgets": {},
     "nuid": "3167ed10-076d-4b34-bbdd-b8d161396abc",
     "showTitle": false,
     "title": ""
    }
   },
   "outputs": [
    {
     "data": {
      "text/html": [
       "<style scoped>\n",
       "  .ansiout {\n",
       "    display: block;\n",
       "    unicode-bidi: embed;\n",
       "    white-space: pre-wrap;\n",
       "    word-wrap: break-word;\n",
       "    word-break: break-all;\n",
       "    font-family: \"Source Code Pro\", \"Menlo\", monospace;;\n",
       "    font-size: 13px;\n",
       "    color: #555;\n",
       "    margin-left: 4px;\n",
       "    line-height: 19px;\n",
       "  }\n",
       "</style>\n",
       "<div class=\"ansiout\"></div>"
      ]
     },
     "metadata": {
      "application/vnd.databricks.v1+output": {
       "addedWidgets": {},
       "arguments": {},
       "data": "<div class=\"ansiout\"></div>",
       "datasetInfos": [],
       "metadata": {},
       "removedWidgets": [],
       "type": "html"
      }
     },
     "output_type": "display_data"
    },
    {
     "data": {
      "text/html": [
       "<style scoped>\n",
       "  .ansiout {\n",
       "    display: block;\n",
       "    unicode-bidi: embed;\n",
       "    white-space: pre-wrap;\n",
       "    word-wrap: break-word;\n",
       "    word-break: break-all;\n",
       "    font-family: \"Source Code Pro\", \"Menlo\", monospace;;\n",
       "    font-size: 13px;\n",
       "    color: #555;\n",
       "    margin-left: 4px;\n",
       "    line-height: 19px;\n",
       "  }\n",
       "</style>\n",
       "<div class=\"ansiout\"><span class=\"ansi-red-fg\">---------------------------------------------------------------------------</span>\n",
       "<span class=\"ansi-red-fg\">NameError</span>                                 Traceback (most recent call last)\n",
       "<span class=\"ansi-green-fg\">&lt;command-2297543790378348&gt;</span> in <span class=\"ansi-cyan-fg\">&lt;module&gt;</span>\n",
       "<span class=\"ansi-green-intense-fg ansi-bold\">      1</span> column_names <span class=\"ansi-blue-fg\">=</span> <span class=\"ansi-blue-fg\">[</span><span class=\"ansi-blue-fg\">&#39;Metric&#39;</span><span class=\"ansi-blue-fg\">,</span> <span class=\"ansi-blue-fg\">&#39;SVM&#39;</span><span class=\"ansi-blue-fg\">,</span> <span class=\"ansi-blue-fg\">&#39;LR&#39;</span><span class=\"ansi-blue-fg\">,</span> <span class=\"ansi-blue-fg\">&#39;RF&#39;</span><span class=\"ansi-blue-fg\">,</span> <span class=\"ansi-blue-fg\">&#39;GB&#39;</span><span class=\"ansi-blue-fg\">,</span> <span class=\"ansi-blue-fg\">&#39;XGB&#39;</span><span class=\"ansi-blue-fg\">]</span>\n",
       "<span class=\"ansi-green-fg\">----&gt; 2</span><span class=\"ansi-red-fg\"> </span>df2 <span class=\"ansi-blue-fg\">=</span> pd_df<span class=\"ansi-blue-fg\">.</span>iloc<span class=\"ansi-blue-fg\">[</span><span class=\"ansi-cyan-fg\">7</span><span class=\"ansi-blue-fg\">:</span><span class=\"ansi-cyan-fg\">8</span><span class=\"ansi-blue-fg\">,</span><span class=\"ansi-cyan-fg\">0</span><span class=\"ansi-blue-fg\">:</span><span class=\"ansi-cyan-fg\">6</span><span class=\"ansi-blue-fg\">]</span>\n",
       "<span class=\"ansi-green-intense-fg ansi-bold\">      3</span> df2<span class=\"ansi-blue-fg\">.</span>columns <span class=\"ansi-blue-fg\">=</span> column_names\n",
       "<span class=\"ansi-green-intense-fg ansi-bold\">      4</span> df2 <span class=\"ansi-blue-fg\">=</span> df2<span class=\"ansi-blue-fg\">.</span>melt<span class=\"ansi-blue-fg\">(</span><span class=\"ansi-blue-fg\">&#39;Metric&#39;</span><span class=\"ansi-blue-fg\">,</span> var_name<span class=\"ansi-blue-fg\">=</span><span class=\"ansi-blue-fg\">&#39;Classification Method&#39;</span><span class=\"ansi-blue-fg\">,</span>  value_name<span class=\"ansi-blue-fg\">=</span><span class=\"ansi-blue-fg\">&#39;Time&#39;</span><span class=\"ansi-blue-fg\">)</span>\n",
       "<span class=\"ansi-green-intense-fg ansi-bold\">      5</span> g <span class=\"ansi-blue-fg\">=</span> sns<span class=\"ansi-blue-fg\">.</span>barplot<span class=\"ansi-blue-fg\">(</span>x<span class=\"ansi-blue-fg\">=</span><span class=\"ansi-blue-fg\">&#34;Classification Method&#34;</span><span class=\"ansi-blue-fg\">,</span> y<span class=\"ansi-blue-fg\">=</span><span class=\"ansi-blue-fg\">&#34;Time&#34;</span><span class=\"ansi-blue-fg\">,</span> data<span class=\"ansi-blue-fg\">=</span>df2<span class=\"ansi-blue-fg\">)</span>\n",
       "\n",
       "<span class=\"ansi-red-fg\">NameError</span>: name &#39;pd_df&#39; is not defined</div>"
      ]
     },
     "metadata": {
      "application/vnd.databricks.v1+output": {
       "arguments": {},
       "data": "<div class=\"ansiout\"><span class=\"ansi-red-fg\">---------------------------------------------------------------------------</span>\n<span class=\"ansi-red-fg\">NameError</span>                                 Traceback (most recent call last)\n<span class=\"ansi-green-fg\">&lt;command-2297543790378348&gt;</span> in <span class=\"ansi-cyan-fg\">&lt;module&gt;</span>\n<span class=\"ansi-green-intense-fg ansi-bold\">      1</span> column_names <span class=\"ansi-blue-fg\">=</span> <span class=\"ansi-blue-fg\">[</span><span class=\"ansi-blue-fg\">&#39;Metric&#39;</span><span class=\"ansi-blue-fg\">,</span> <span class=\"ansi-blue-fg\">&#39;SVM&#39;</span><span class=\"ansi-blue-fg\">,</span> <span class=\"ansi-blue-fg\">&#39;LR&#39;</span><span class=\"ansi-blue-fg\">,</span> <span class=\"ansi-blue-fg\">&#39;RF&#39;</span><span class=\"ansi-blue-fg\">,</span> <span class=\"ansi-blue-fg\">&#39;GB&#39;</span><span class=\"ansi-blue-fg\">,</span> <span class=\"ansi-blue-fg\">&#39;XGB&#39;</span><span class=\"ansi-blue-fg\">]</span>\n<span class=\"ansi-green-fg\">----&gt; 2</span><span class=\"ansi-red-fg\"> </span>df2 <span class=\"ansi-blue-fg\">=</span> pd_df<span class=\"ansi-blue-fg\">.</span>iloc<span class=\"ansi-blue-fg\">[</span><span class=\"ansi-cyan-fg\">7</span><span class=\"ansi-blue-fg\">:</span><span class=\"ansi-cyan-fg\">8</span><span class=\"ansi-blue-fg\">,</span><span class=\"ansi-cyan-fg\">0</span><span class=\"ansi-blue-fg\">:</span><span class=\"ansi-cyan-fg\">6</span><span class=\"ansi-blue-fg\">]</span>\n<span class=\"ansi-green-intense-fg ansi-bold\">      3</span> df2<span class=\"ansi-blue-fg\">.</span>columns <span class=\"ansi-blue-fg\">=</span> column_names\n<span class=\"ansi-green-intense-fg ansi-bold\">      4</span> df2 <span class=\"ansi-blue-fg\">=</span> df2<span class=\"ansi-blue-fg\">.</span>melt<span class=\"ansi-blue-fg\">(</span><span class=\"ansi-blue-fg\">&#39;Metric&#39;</span><span class=\"ansi-blue-fg\">,</span> var_name<span class=\"ansi-blue-fg\">=</span><span class=\"ansi-blue-fg\">&#39;Classification Method&#39;</span><span class=\"ansi-blue-fg\">,</span>  value_name<span class=\"ansi-blue-fg\">=</span><span class=\"ansi-blue-fg\">&#39;Time&#39;</span><span class=\"ansi-blue-fg\">)</span>\n<span class=\"ansi-green-intense-fg ansi-bold\">      5</span> g <span class=\"ansi-blue-fg\">=</span> sns<span class=\"ansi-blue-fg\">.</span>barplot<span class=\"ansi-blue-fg\">(</span>x<span class=\"ansi-blue-fg\">=</span><span class=\"ansi-blue-fg\">&#34;Classification Method&#34;</span><span class=\"ansi-blue-fg\">,</span> y<span class=\"ansi-blue-fg\">=</span><span class=\"ansi-blue-fg\">&#34;Time&#34;</span><span class=\"ansi-blue-fg\">,</span> data<span class=\"ansi-blue-fg\">=</span>df2<span class=\"ansi-blue-fg\">)</span>\n\n<span class=\"ansi-red-fg\">NameError</span>: name &#39;pd_df&#39; is not defined</div>",
       "errorSummary": "<span class=\"ansi-red-fg\">NameError</span>: name &#39;pd_df&#39; is not defined",
       "errorTraceType": "html",
       "metadata": {},
       "type": "ipynbError"
      }
     },
     "output_type": "display_data"
    }
   ],
   "source": [
    "column_names = ['Metric', 'SVM', 'LR', 'RF', 'GB', 'XGB']\n",
    "df2 = pd_df.iloc[7:8,0:6]\n",
    "df2.columns = column_names\n",
    "df2 = df2.melt('Metric', var_name='Classification Method',  value_name='Time')\n",
    "g = sns.barplot(x=\"Classification Method\", y=\"Time\", data=df2)\n",
    "(g.set(ylim=(0.5, 2500.0)))\n",
    "plt.title(\"Model Execution Time\")\n",
    "plt.show()"
   ]
  }
 ],
 "metadata": {
  "application/vnd.databricks.v1+notebook": {
   "dashboards": [],
   "language": "python",
   "notebookMetadata": {
    "pythonIndentUnit": 2
   },
   "notebookName": "W261_FA21_FINAL_PROJECT_TEAM11_NB4_Algorithm_Exploration_v2",
   "notebookOrigID": 2297543790378239,
   "widgets": {}
  },
  "kernelspec": {
   "display_name": "Python 3",
   "language": "python",
   "name": "python3"
  },
  "language_info": {
   "codemirror_mode": {
    "name": "ipython",
    "version": 3
   },
   "file_extension": ".py",
   "mimetype": "text/x-python",
   "name": "python",
   "nbconvert_exporter": "python",
   "pygments_lexer": "ipython3",
   "version": "3.8.3"
  }
 },
 "nbformat": 4,
 "nbformat_minor": 1
}
