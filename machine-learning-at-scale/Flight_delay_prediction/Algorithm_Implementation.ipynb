{
 "cells": [
  {
   "cell_type": "markdown",
   "metadata": {
    "application/vnd.databricks.v1+cell": {
     "inputWidgets": {},
     "nuid": "683d4c13-182d-4f4c-93de-0d6d7833a480",
     "showTitle": false,
     "title": ""
    }
   },
   "source": [
    "## Algorithm Implementation\n",
    "\n",
    "This notebook demonstrates algorithm implementation part where we have applied 3 different algorithms to our data.\n",
    "\n",
    "The notebook assumes that we are receiving a balanced training set and a test set and then using our Pipeline transformations in our models to print the metrics produced .\n",
    "\n",
    "This notebook also aims to provide data for the time comparison of the models and then provide alternatives for the stakeholders to make a decision between an improved metric and speed / resources to mantain and update the model.\n",
    "\n",
    "The following models will be discussed in this notebook:\n",
    "\n",
    "- Logistic Regression(**Fastest Algorithm in the exploration phase **)\n",
    "- Gradient Boosted Tree\n",
    "- XGBoost (**Algorithm that yielded the best metrics during the exploration phase **)\n",
    "\n",
    "**Note: The models are being configured with the parameters obtained from the [GridSearch Experiment](https://adb-6759024569771990.10.azuredatabricks.net/?o=6759024569771990#notebook/2297543790306893/command/2297543790306894) **"
   ]
  },
  {
   "cell_type": "markdown",
   "metadata": {
    "application/vnd.databricks.v1+cell": {
     "inputWidgets": {},
     "nuid": "1a7aeb2f-4fb3-4f9b-bb04-a8b1b9514a13",
     "showTitle": false,
     "title": ""
    }
   },
   "source": [
    "### Section 1 - Setup Environment"
   ]
  },
  {
   "cell_type": "code",
   "execution_count": 0,
   "metadata": {
    "application/vnd.databricks.v1+cell": {
     "inputWidgets": {},
     "nuid": "860d1e18-8843-40ec-9b06-baca76a0b902",
     "showTitle": true,
     "title": "Import Libraries"
    }
   },
   "outputs": [
    {
     "data": {
      "text/html": [
       "<style scoped>\n",
       "  .ansiout {\n",
       "    display: block;\n",
       "    unicode-bidi: embed;\n",
       "    white-space: pre-wrap;\n",
       "    word-wrap: break-word;\n",
       "    word-break: break-all;\n",
       "    font-family: \"Source Code Pro\", \"Menlo\", monospace;;\n",
       "    font-size: 13px;\n",
       "    color: #555;\n",
       "    margin-left: 4px;\n",
       "    line-height: 19px;\n",
       "  }\n",
       "</style>\n",
       "<div class=\"ansiout\"></div>"
      ]
     },
     "metadata": {
      "application/vnd.databricks.v1+output": {
       "addedWidgets": {},
       "arguments": {},
       "data": "<div class=\"ansiout\"></div>",
       "datasetInfos": [],
       "metadata": {},
       "removedWidgets": [],
       "type": "html"
      }
     },
     "output_type": "display_data"
    }
   ],
   "source": [
    "from pyspark.sql.functions import col, concat, count, countDistinct, expr, lit, length, max as pyspark_max, min as pyspark_min, mean, substring, split, sum as pyspark_sum, when, to_utc_timestamp, to_timestamp, unix_timestamp, isnan\n",
    "import pandas as pd\n",
    "from html import escape\n",
    "from IPython.display import HTML, display as ipython_display\n",
    "import seaborn as sns\n",
    "import matplotlib.pyplot as plt\n",
    "from sklearn.metrics import confusion_matrix, ConfusionMatrixDisplay\n",
    "from pyspark.sql import SQLContext\n",
    "from pyspark.sql.types import IntegerType, StringType, BooleanType, DateType, DoubleType\n",
    "import matplotlib.pyplot as plt\n",
    "from pandas.tseries.holiday import USFederalHolidayCalendar\n",
    "from pyspark.sql.functions import substring\n",
    "from pyspark.sql import functions as F\n",
    "from pyspark.ml.classification import LogisticRegression\n",
    "from pyspark.ml.evaluation import BinaryClassificationEvaluator\n",
    "from pyspark.ml.evaluation import MulticlassClassificationEvaluator\n",
    "from pyspark.ml.tuning import ParamGridBuilder, CrossValidator\n",
    "from pyspark.sql.functions import col, max, substring\n",
    "from pyspark.mllib.tree import DecisionTree, DecisionTreeModel\n",
    "from pyspark.ml.classification import DecisionTreeClassifier\n",
    "from pyspark.ml.classification import RandomForestClassifier\n",
    "from pyspark.ml.classification import GBTClassifier\n",
    "from sparkdl.xgboost import XgboostClassifier\n",
    "from pyspark.mllib.util import MLUtils\n",
    "from pyspark.ml.feature import Imputer\n",
    "from pyspark.ml.classification import LinearSVC as svc\n",
    "from pyspark.ml.classification import LinearSVC\n",
    "from pyspark.ml import Pipeline\n",
    "import numpy as np\n",
    "import itertools\n",
    "import time\n",
    "from pyspark.ml.feature import VectorAssembler\n",
    "from sklearn.metrics import classification_report, confusion_matrix\n",
    "from pyspark.sql.functions import percent_rank\n",
    "from pyspark.sql import Window\n"
   ]
  },
  {
   "cell_type": "code",
   "execution_count": 0,
   "metadata": {
    "application/vnd.databricks.v1+cell": {
     "inputWidgets": {},
     "nuid": "c1eb45d1-01f5-4e23-9333-2ccc83e93020",
     "showTitle": false,
     "title": ""
    }
   },
   "outputs": [
    {
     "data": {
      "text/html": [
       "<style scoped>\n",
       "  .ansiout {\n",
       "    display: block;\n",
       "    unicode-bidi: embed;\n",
       "    white-space: pre-wrap;\n",
       "    word-wrap: break-word;\n",
       "    word-break: break-all;\n",
       "    font-family: \"Source Code Pro\", \"Menlo\", monospace;;\n",
       "    font-size: 13px;\n",
       "    color: #555;\n",
       "    margin-left: 4px;\n",
       "    line-height: 19px;\n",
       "  }\n",
       "</style>\n",
       "<div class=\"ansiout\"></div>"
      ]
     },
     "metadata": {
      "application/vnd.databricks.v1+output": {
       "addedWidgets": {},
       "arguments": {},
       "data": "<div class=\"ansiout\"></div>",
       "datasetInfos": [],
       "metadata": {},
       "removedWidgets": [],
       "type": "html"
      }
     },
     "output_type": "display_data"
    }
   ],
   "source": [
    "blob_container = \"w261-container\" # The name of your container created in https://portal.azure.com\n",
    "storage_account = \"w261storageaccount\" # The name of your Storage account created in https://portal.azure.com\n",
    "secret_scope = \"w261scope\" # The name of the scope created in your local computer using the Databricks CLI\n",
    "secret_key = \"w261key\" # The name of the secret key created in your local computer using the Databricks CLI \n",
    "blob_url = f\"wasbs://{blob_container}@{storage_account}.blob.core.windows.net\"\n",
    "mount_path = \"/mnt/mids-w261\"\n",
    "\n",
    "spark.conf.set(\n",
    "  f\"fs.azure.sas.{blob_container}.{storage_account}.blob.core.windows.net\",\n",
    "  dbutils.secrets.get(scope = secret_scope, key = secret_key)\n",
    ")"
   ]
  },
  {
   "cell_type": "code",
   "execution_count": 0,
   "metadata": {
    "application/vnd.databricks.v1+cell": {
     "inputWidgets": {},
     "nuid": "745bb5b0-8e6a-48b8-b7e4-6267932d63c2",
     "showTitle": false,
     "title": ""
    }
   },
   "outputs": [
    {
     "data": {
      "text/html": [
       "<style scoped>\n",
       "  .ansiout {\n",
       "    display: block;\n",
       "    unicode-bidi: embed;\n",
       "    white-space: pre-wrap;\n",
       "    word-wrap: break-word;\n",
       "    word-break: break-all;\n",
       "    font-family: \"Source Code Pro\", \"Menlo\", monospace;;\n",
       "    font-size: 13px;\n",
       "    color: #555;\n",
       "    margin-left: 4px;\n",
       "    line-height: 19px;\n",
       "  }\n",
       "</style>\n",
       "<div class=\"ansiout\"></div>"
      ]
     },
     "metadata": {
      "application/vnd.databricks.v1+output": {
       "addedWidgets": {},
       "arguments": {},
       "data": "<div class=\"ansiout\"></div>",
       "datasetInfos": [],
       "metadata": {},
       "removedWidgets": [],
       "type": "html"
      }
     },
     "output_type": "display_data"
    }
   ],
   "source": [
    "def main():\n",
    "\n",
    "    global eval_metrics\n",
    "    global eval_predictions\n",
    "    global eval_model_times\n",
    "    eval_metrics = {}\n",
    "    eval_model_times = []\n",
    "    \n",
    "    \n",
    "f1 = 0.0\n",
    "recall = 0.0\n",
    "precision = 0.0\n",
    "sensitivity = 0.0\n",
    "specificity = 0.0\n",
    "fp = 0.0\n",
    "fn = 0.0\n",
    "model_time = 0.0\n",
    "\n",
    "metrics = (f1, recall, precision, sensitivity, specificity, fp, fn, model_time)\n",
    "eval_metrics = {'LR': metrics}\n",
    "eval_model_times = []\n",
    "\n",
    "def print_results(predictions, model_name, model_time): \n",
    "  \"\"\"\n",
    "  Helper function to print evaluation metrics\n",
    "  \"\"\"\n",
    "  tp = predictions[(predictions.departure_delay_boolean == 1) & (predictions.prediction == 1)].count()\n",
    "  tn = predictions[(predictions.departure_delay_boolean == 0) & (predictions.prediction == 0)].count()\n",
    "  fp = predictions[(predictions.departure_delay_boolean == 0) & (predictions.prediction == 1)].count()\n",
    "  fn = predictions[(predictions.departure_delay_boolean == 1) & (predictions.prediction == 0)].count()\n",
    "  total = predictions.count()\n",
    "  \n",
    "  recall = float(tp)/(tp+fn)\n",
    "  precision = float(tp)/(tp+fp)\n",
    "  f1 = (2*recall*precision)/(precision+recall)\n",
    "  \n",
    "  data = {'Actual-delay': [tp, fn], 'Actual-on time': [fp, tn]}\n",
    "  confusion_matrix = pd.DataFrame.from_dict(data, orient='index', columns=['Predicted-delay', 'Predicted-on time'])\n",
    "  \n",
    "  #print(\"Test Area Under ROC: \", \"{:.2f}\".format(evaluator.evaluate(predictions, {evaluator.metricName: 'areaUnderROC'})))\n",
    "  #print(\"Test Area Under Precision-Recall Curve: \", \"{:.2f}\".format(evaluator.evaluate(predictions, {evaluator.metricName: 'areaUnderPR'})))\n",
    "\n",
    "  print(\"Sensitivity: {:.2%}\".format(tp/(tp + fn)))\n",
    "  print(\"Specificity: {:.2%}\".format(tn/(tn + fp)))\n",
    "  print(\"False positive rate: {:.2%}\".format(fp/(fp + tn)))\n",
    "  print(\"False negative rate: {:.2%}\".format(fn/(tp + fn)))\n",
    "  print(\"Recall: {:.2%}\".format(recall))\n",
    "  print(\"Precision: {:.2%}\".format(precision))\n",
    "  print(\"f1: {:.2%}\".format(f1))\n",
    "  \n",
    "  metrics = (round(f1, 2), round(recall, 2), round(precision, 2), round(tp/(tp + fn), 2), \\\n",
    "             round(tn/(tn + fp), 2), round(fp/(fp + tn), 2), round(fn/(tp + fn), 2), round(model_time, 2))\n",
    "  \n",
    "  global eval_metrics\n",
    "  global eval_model_times\n",
    "  \n",
    "  #eval_metrics = eval_metrics.add({model_name: metrics})\n",
    "  eval_metrics[model_name] = metrics\n",
    "  eval_model_times.append(model_time)\n",
    "  \n",
    "  print(\"########### Confusion Matrix ###########\")\n",
    "  print(confusion_matrix)"
   ]
  },
  {
   "cell_type": "markdown",
   "metadata": {
    "application/vnd.databricks.v1+cell": {
     "inputWidgets": {},
     "nuid": "07b0255e-e260-4bda-abf0-cde41d8173b5",
     "showTitle": false,
     "title": ""
    }
   },
   "source": [
    "### Section 2 - Load Data"
   ]
  },
  {
   "cell_type": "code",
   "execution_count": 0,
   "metadata": {
    "application/vnd.databricks.v1+cell": {
     "inputWidgets": {},
     "nuid": "a37e196c-cf32-444d-8a96-9391d57a3189",
     "showTitle": false,
     "title": ""
    }
   },
   "outputs": [
    {
     "data": {
      "text/html": [
       "<style scoped>\n",
       "  .ansiout {\n",
       "    display: block;\n",
       "    unicode-bidi: embed;\n",
       "    white-space: pre-wrap;\n",
       "    word-wrap: break-word;\n",
       "    word-break: break-all;\n",
       "    font-family: \"Source Code Pro\", \"Menlo\", monospace;;\n",
       "    font-size: 13px;\n",
       "    color: #555;\n",
       "    margin-left: 4px;\n",
       "    line-height: 19px;\n",
       "  }\n",
       "</style>\n",
       "<div class=\"ansiout\"></div>"
      ]
     },
     "metadata": {
      "application/vnd.databricks.v1+output": {
       "addedWidgets": {},
       "arguments": {},
       "data": "<div class=\"ansiout\"></div>",
       "datasetInfos": [],
       "metadata": {},
       "removedWidgets": [],
       "type": "html"
      }
     },
     "output_type": "display_data"
    }
   ],
   "source": [
    "#reading downsampled training set from parquet and the original test set from parquet into pipeline and hardcoding input cells (See exploration notebook for reference)\n",
    "train_df = spark.read.parquet(f\"{blob_url}/train_implementation_downsample/*\")\n",
    "test_df = spark.read.parquet(f\"{blob_url}/original_test_data_full_v2/*\")\n",
    "\n",
    "cat_cols = ['year', 'month', 'day_of_week', 'hour', 'carrier', 'holiday', 'weather_obs_prev', 'weather_obs_prev_2', 'origin', 'destination', 'prev_dep_delayed_confirmed', 'wnd_type_prev', 'vis_var_prev']\n",
    "\n",
    "num_cols = ['planned_time_between_flights', 'distance', 'wnd_angle_prev', 'wnd_speed_prev_2', 'wnd_speed_prev', 'wnd_cloud_angle_prev', 'vis_dist_prev', 'vis_dist_prev_2', 'tmp_c_prev', 'dew_c_prev', 'route_delay', 'origin_arrival_delay', 'origin_departure_delay', 'dest_departure_delay', 'dest_arrival_delay']"
   ]
  },
  {
   "cell_type": "code",
   "execution_count": 0,
   "metadata": {
    "application/vnd.databricks.v1+cell": {
     "inputWidgets": {},
     "nuid": "a83eb558-de56-49a1-a0af-ba2b9e8783fd",
     "showTitle": false,
     "title": ""
    }
   },
   "outputs": [
    {
     "data": {
      "text/html": [
       "<style scoped>\n",
       "  .ansiout {\n",
       "    display: block;\n",
       "    unicode-bidi: embed;\n",
       "    white-space: pre-wrap;\n",
       "    word-wrap: break-word;\n",
       "    word-break: break-all;\n",
       "    font-family: \"Source Code Pro\", \"Menlo\", monospace;;\n",
       "    font-size: 13px;\n",
       "    color: #555;\n",
       "    margin-left: 4px;\n",
       "    line-height: 19px;\n",
       "  }\n",
       "</style>\n",
       "<div class=\"ansiout\"></div>"
      ]
     },
     "metadata": {
      "application/vnd.databricks.v1+output": {
       "addedWidgets": {},
       "arguments": {},
       "data": "<div class=\"ansiout\"></div>",
       "datasetInfos": [],
       "metadata": {},
       "removedWidgets": [],
       "type": "html"
      }
     },
     "output_type": "display_data"
    }
   ],
   "source": [
    "# Pipeline Functions\n",
    "# Categorical Variables -> String_Indexer -> OneHotEncoding\n",
    "# Numerical Variables -> Impute missing using median -> Standard Scaler\n",
    "# Create final vector assembler\n",
    "\n",
    "from pyspark.ml.feature import (OneHotEncoder, StringIndexer)\n",
    "string_indexer = [\n",
    "    StringIndexer(inputCol=x , outputCol=x + \"_StringIndexer\", handleInvalid=\"skip\")\n",
    "    for x in cat_cols\n",
    "]\n",
    "\n",
    "one_hot_encoder = [\n",
    "    OneHotEncoder(\n",
    "        inputCols=[f\"{x}_StringIndexer\" for x in cat_cols],\n",
    "        outputCols=[f\"{x}_OneHotEncoder\" for x in cat_cols],\n",
    "    )\n",
    "]\n",
    "\n",
    "from pyspark.ml.feature import Imputer\n",
    "\n",
    "imputer = [\n",
    "      Imputer(inputCol=x, outputCol= x + \"_Imputed\").setStrategy(\"median\")\n",
    "      for x in num_cols\n",
    "]\n",
    "\n",
    "from pyspark.ml.feature import StandardScaler  \n",
    "\n",
    "scaler_vector_assembler = VectorAssembler(inputCols = [f\"{x}_Imputed\" for x in num_cols], outputCol=\"numeric_vec\")\n",
    "scaler_vector_assembler.setHandleInvalid('keep')\n",
    "\n",
    "scaler = StandardScaler(inputCol=\"numeric_vec\", outputCol=\"scaled_features\")"
   ]
  },
  {
   "cell_type": "code",
   "execution_count": 0,
   "metadata": {
    "application/vnd.databricks.v1+cell": {
     "inputWidgets": {},
     "nuid": "0aa53d35-6834-4bab-88a8-8ac8032c1883",
     "showTitle": false,
     "title": ""
    }
   },
   "outputs": [
    {
     "data": {
      "text/html": [
       "<style scoped>\n",
       "  .ansiout {\n",
       "    display: block;\n",
       "    unicode-bidi: embed;\n",
       "    white-space: pre-wrap;\n",
       "    word-wrap: break-word;\n",
       "    word-break: break-all;\n",
       "    font-family: \"Source Code Pro\", \"Menlo\", monospace;;\n",
       "    font-size: 13px;\n",
       "    color: #555;\n",
       "    margin-left: 4px;\n",
       "    line-height: 19px;\n",
       "  }\n",
       "</style>\n",
       "<div class=\"ansiout\"></div>"
      ]
     },
     "metadata": {
      "application/vnd.databricks.v1+output": {
       "addedWidgets": {},
       "arguments": {},
       "data": "<div class=\"ansiout\"></div>",
       "datasetInfos": [],
       "metadata": {},
       "removedWidgets": [],
       "type": "html"
      }
     },
     "output_type": "display_data"
    }
   ],
   "source": [
    "#Output vector assembler to be used at the modeling step, \n",
    "\n",
    "from pyspark.ml.feature import VectorAssembler\n",
    "\n",
    "assembler_input = [\"scaled_features\"]\n",
    "assembler_input += [f\"{x}_OneHotEncoder\" for x in cat_cols]\n",
    "\n",
    "vector_assembler = VectorAssembler(\n",
    "    inputCols=assembler_input, outputCol=\"VectorAssembler_features\"\n",
    ")"
   ]
  },
  {
   "cell_type": "markdown",
   "metadata": {
    "application/vnd.databricks.v1+cell": {
     "inputWidgets": {},
     "nuid": "7b471c6d-8538-436c-8c59-adef85cf957c",
     "showTitle": false,
     "title": ""
    }
   },
   "source": [
    "### Section 3 - Pipeline"
   ]
  },
  {
   "cell_type": "markdown",
   "metadata": {
    "application/vnd.databricks.v1+cell": {
     "inputWidgets": {},
     "nuid": "8b48dce3-93d4-417f-89fd-b80c59da96fc",
     "showTitle": false,
     "title": ""
    }
   },
   "source": [
    "#### 3.1.  Setting up Pipeline"
   ]
  },
  {
   "cell_type": "code",
   "execution_count": 0,
   "metadata": {
    "application/vnd.databricks.v1+cell": {
     "inputWidgets": {},
     "nuid": "183ca5e1-60ed-417e-921e-a189f567d94a",
     "showTitle": false,
     "title": ""
    }
   },
   "outputs": [
    {
     "data": {
      "text/html": [
       "<style scoped>\n",
       "  .ansiout {\n",
       "    display: block;\n",
       "    unicode-bidi: embed;\n",
       "    white-space: pre-wrap;\n",
       "    word-wrap: break-word;\n",
       "    word-break: break-all;\n",
       "    font-family: \"Source Code Pro\", \"Menlo\", monospace;;\n",
       "    font-size: 13px;\n",
       "    color: #555;\n",
       "    margin-left: 4px;\n",
       "    line-height: 19px;\n",
       "  }\n",
       "</style>\n",
       "<div class=\"ansiout\"></div>"
      ]
     },
     "metadata": {
      "application/vnd.databricks.v1+output": {
       "addedWidgets": {},
       "arguments": {},
       "data": "<div class=\"ansiout\"></div>",
       "datasetInfos": [],
       "metadata": {},
       "removedWidgets": [],
       "type": "html"
      }
     },
     "output_type": "display_data"
    }
   ],
   "source": [
    "## General Pipeline Steps\n",
    "\n",
    "stages = []\n",
    "stages += imputer\n",
    "stages += [scaler_vector_assembler , scaler]\n",
    "stages += string_indexer\n",
    "stages += one_hot_encoder\n",
    "stages += [vector_assembler]"
   ]
  },
  {
   "cell_type": "code",
   "execution_count": 0,
   "metadata": {
    "application/vnd.databricks.v1+cell": {
     "inputWidgets": {},
     "nuid": "9bab2ffb-4c28-49e8-8023-35174d36ee23",
     "showTitle": false,
     "title": ""
    }
   },
   "outputs": [
    {
     "data": {
      "text/html": [
       "<style scoped>\n",
       "  .ansiout {\n",
       "    display: block;\n",
       "    unicode-bidi: embed;\n",
       "    white-space: pre-wrap;\n",
       "    word-wrap: break-word;\n",
       "    word-break: break-all;\n",
       "    font-family: \"Source Code Pro\", \"Menlo\", monospace;;\n",
       "    font-size: 13px;\n",
       "    color: #555;\n",
       "    margin-left: 4px;\n",
       "    line-height: 19px;\n",
       "  }\n",
       "</style>\n",
       "<div class=\"ansiout\"></div>"
      ]
     },
     "metadata": {
      "application/vnd.databricks.v1+output": {
       "addedWidgets": {},
       "arguments": {},
       "data": "<div class=\"ansiout\"></div>",
       "datasetInfos": [],
       "metadata": {},
       "removedWidgets": [],
       "type": "html"
      }
     },
     "output_type": "display_data"
    }
   ],
   "source": [
    "from pyspark.ml import Pipeline\n",
    "\n",
    "general_pipeline = Pipeline().setStages(stages)\n",
    "pipeline_model = general_pipeline.fit(train_df)\n",
    "model_data_test = pipeline_model.transform(test_df)\n",
    "model_data_train = pipeline_model.transform(train_df) \n",
    "\n",
    "selectedcols = [\"departure_delay_boolean\", \"VectorAssembler_features\"]\n",
    "\n",
    "model_data_train = model_data_train.select(selectedcols)\n",
    "model_data_test = model_data_test.select(selectedcols)"
   ]
  },
  {
   "cell_type": "markdown",
   "metadata": {
    "application/vnd.databricks.v1+cell": {
     "inputWidgets": {},
     "nuid": "e6fd3f71-ebae-4335-ace5-18797a69bfa4",
     "showTitle": false,
     "title": ""
    }
   },
   "source": [
    "Command took 2.33 minutes -- by jdayer@berkeley.edu at 12/5/2021, 7:47:10 PM on team11\n",
    "\n",
    "The first transformation took 2.33 minutes to complete"
   ]
  },
  {
   "cell_type": "markdown",
   "metadata": {
    "application/vnd.databricks.v1+cell": {
     "inputWidgets": {},
     "nuid": "6b5d46b4-81f5-48f1-9a17-bcc4465b9432",
     "showTitle": false,
     "title": ""
    }
   },
   "source": [
    "#### 3.2 Checkpoint after Pipeline Transformation"
   ]
  },
  {
   "cell_type": "code",
   "execution_count": 0,
   "metadata": {
    "application/vnd.databricks.v1+cell": {
     "inputWidgets": {},
     "nuid": "dd9b3d0e-4d0a-4f73-8278-2b66e697b3b9",
     "showTitle": false,
     "title": ""
    }
   },
   "outputs": [
    {
     "data": {
      "text/html": [
       "<style scoped>\n",
       "  .ansiout {\n",
       "    display: block;\n",
       "    unicode-bidi: embed;\n",
       "    white-space: pre-wrap;\n",
       "    word-wrap: break-word;\n",
       "    word-break: break-all;\n",
       "    font-family: \"Source Code Pro\", \"Menlo\", monospace;;\n",
       "    font-size: 13px;\n",
       "    color: #555;\n",
       "    margin-left: 4px;\n",
       "    line-height: 19px;\n",
       "  }\n",
       "</style>\n",
       "<div class=\"ansiout\"></div>"
      ]
     },
     "metadata": {
      "application/vnd.databricks.v1+output": {
       "addedWidgets": {},
       "arguments": {},
       "data": "<div class=\"ansiout\"></div>",
       "datasetInfos": [],
       "metadata": {},
       "removedWidgets": [],
       "type": "html"
      }
     },
     "output_type": "display_data"
    }
   ],
   "source": [
    "# Saving Checkpoint -- Writing train and test dataset to blob storage in parquet format to be used for model algorithms \n",
    "\n",
    "model_data_train.write.mode('overwrite').parquet(f\"{blob_url}/model_train_data_full_implementation\")\n",
    "model_data_test.write.mode('overwrite').parquet(f\"{blob_url}/model_test_data_full_implementation\")\n"
   ]
  },
  {
   "cell_type": "markdown",
   "metadata": {
    "application/vnd.databricks.v1+cell": {
     "inputWidgets": {},
     "nuid": "15293adb-02bf-4e56-90b3-5c392d114a89",
     "showTitle": false,
     "title": ""
    }
   },
   "source": [
    "Command took 8.95 minutes -- by jdayer@berkeley.edu at 12/5/2021, 3:54:48 PM on team11\n",
    "\n",
    "Writing to Blob Storage took 8.95 minutes to complete"
   ]
  },
  {
   "cell_type": "markdown",
   "metadata": {
    "application/vnd.databricks.v1+cell": {
     "inputWidgets": {},
     "nuid": "e010be71-f59f-4610-abae-c3d85bc4a9f5",
     "showTitle": false,
     "title": ""
    }
   },
   "source": [
    "### Section 4 - Machine Learning"
   ]
  },
  {
   "cell_type": "markdown",
   "metadata": {
    "application/vnd.databricks.v1+cell": {
     "inputWidgets": {},
     "nuid": "e7ed4669-21a9-4dce-b815-0d746cf9c6a1",
     "showTitle": false,
     "title": ""
    }
   },
   "source": [
    "#### 4.1 Logistic Regression"
   ]
  },
  {
   "cell_type": "markdown",
   "metadata": {
    "application/vnd.databricks.v1+cell": {
     "inputWidgets": {},
     "nuid": "e3027236-535e-45f5-8597-4b18f5718539",
     "showTitle": false,
     "title": ""
    }
   },
   "source": [
    "**Reading the train and test data**"
   ]
  },
  {
   "cell_type": "code",
   "execution_count": 0,
   "metadata": {
    "application/vnd.databricks.v1+cell": {
     "inputWidgets": {},
     "nuid": "7687a47c-1363-4092-b667-a03d4b192430",
     "showTitle": false,
     "title": ""
    }
   },
   "outputs": [
    {
     "data": {
      "text/html": [
       "<style scoped>\n",
       "  .ansiout {\n",
       "    display: block;\n",
       "    unicode-bidi: embed;\n",
       "    white-space: pre-wrap;\n",
       "    word-wrap: break-word;\n",
       "    word-break: break-all;\n",
       "    font-family: \"Source Code Pro\", \"Menlo\", monospace;;\n",
       "    font-size: 13px;\n",
       "    color: #555;\n",
       "    margin-left: 4px;\n",
       "    line-height: 19px;\n",
       "  }\n",
       "</style>\n",
       "<div class=\"ansiout\"></div>"
      ]
     },
     "metadata": {
      "application/vnd.databricks.v1+output": {
       "addedWidgets": {},
       "arguments": {},
       "data": "<div class=\"ansiout\"></div>",
       "datasetInfos": [],
       "metadata": {},
       "removedWidgets": [],
       "type": "html"
      }
     },
     "output_type": "display_data"
    }
   ],
   "source": [
    "# Loading Checkpoint -- Reading the train and test data from blob storage for running the models\n",
    "\n",
    "model_data_train = spark.read.parquet(f\"{blob_url}/model_train_data_full_implementation/*\")\n",
    "model_data_test = spark.read.parquet(f\"{blob_url}/model_test_data_full_implementation/*\")\n"
   ]
  },
  {
   "cell_type": "markdown",
   "metadata": {
    "application/vnd.databricks.v1+cell": {
     "inputWidgets": {},
     "nuid": "b135da66-06b3-4580-a7e1-4d7e649ffa9b",
     "showTitle": false,
     "title": ""
    }
   },
   "source": [
    "Command took 5.95 seconds -- by jdayer@berkeley.edu at 12/5/2021, 3:54:48 PM on team11\n",
    "\n",
    "Data Loading took 6 seconds"
   ]
  },
  {
   "cell_type": "markdown",
   "metadata": {
    "application/vnd.databricks.v1+cell": {
     "inputWidgets": {},
     "nuid": "3466c0e7-b246-41f2-85d8-5a3a8a71a1f9",
     "showTitle": false,
     "title": ""
    }
   },
   "source": [
    "**GridSearch implementation**\n",
    "\n",
    "Grid search is a tuning technique that attempts to compute the optimum values of hyperparameters. GridSearch does an exhaustive search that is performed on a the specific parameter values of a model. We will be using Grid search since it can save us time, effort and resources. For more information about the experiments ran for parameter optimization please review it [here](https://adb-6759024569771990.10.azuredatabricks.net/?o=6759024569771990#notebook/2297543790306893/command/2297543790306935)."
   ]
  },
  {
   "cell_type": "markdown",
   "metadata": {
    "application/vnd.databricks.v1+cell": {
     "inputWidgets": {},
     "nuid": "6a2428d9-109d-4056-a31d-0916b6e8d4a1",
     "showTitle": false,
     "title": ""
    }
   },
   "source": [
    "**Logistic Regression Implementation with 2 Checkpoints**"
   ]
  },
  {
   "cell_type": "code",
   "execution_count": 0,
   "metadata": {
    "application/vnd.databricks.v1+cell": {
     "inputWidgets": {},
     "nuid": "88e94f08-5720-4d55-9b96-fab57db9bfeb",
     "showTitle": false,
     "title": ""
    }
   },
   "outputs": [
    {
     "data": {
      "text/html": [
       "<style scoped>\n",
       "  .ansiout {\n",
       "    display: block;\n",
       "    unicode-bidi: embed;\n",
       "    white-space: pre-wrap;\n",
       "    word-wrap: break-word;\n",
       "    word-break: break-all;\n",
       "    font-family: \"Source Code Pro\", \"Menlo\", monospace;;\n",
       "    font-size: 13px;\n",
       "    color: #555;\n",
       "    margin-left: 4px;\n",
       "    line-height: 19px;\n",
       "  }\n",
       "</style>\n",
       "<div class=\"ansiout\">lr model completed job in 387.1397068500519 seconds.\n",
       "Sensitivity: 65.48%\n",
       "Specificity: 73.75%\n",
       "False positive rate: 26.25%\n",
       "False negative rate: 34.52%\n",
       "Recall: 65.48%\n",
       "Precision: 38.21%\n",
       "f1: 48.26%\n",
       "########### Confusion Matrix ###########\n",
       "                Predicted-delay  Predicted-on time\n",
       "Actual-delay             843827             444835\n",
       "Actual-on time          1364398            3832414\n",
       "</div>"
      ]
     },
     "metadata": {
      "application/vnd.databricks.v1+output": {
       "addedWidgets": {},
       "arguments": {},
       "data": "<div class=\"ansiout\">lr model completed job in 387.1397068500519 seconds.\nSensitivity: 65.48%\nSpecificity: 73.75%\nFalse positive rate: 26.25%\nFalse negative rate: 34.52%\nRecall: 65.48%\nPrecision: 38.21%\nf1: 48.26%\n########### Confusion Matrix ###########\n                Predicted-delay  Predicted-on time\nActual-delay             843827             444835\nActual-on time          1364398            3832414\n</div>",
       "datasetInfos": [],
       "metadata": {},
       "removedWidgets": [],
       "type": "html"
      }
     },
     "output_type": "display_data"
    }
   ],
   "source": [
    "from pyspark.ml.classification import LogisticRegression\n",
    "# Setup pipeline\n",
    "\n",
    "start_lr = time.time()\n",
    "\n",
    "lr = LogisticRegression(featuresCol='VectorAssembler_features',\n",
    "                        labelCol='departure_delay_boolean', \n",
    "                        regParam = 0.001, \n",
    "                        fitIntercept= False, \n",
    "                        elasticNetParam=0.0, \n",
    "                        maxIter=50, \n",
    "                        \n",
    "                        threshold = 0.5)\n",
    "stages_lr = [lr]\n",
    "\n",
    "pipeline_lr = Pipeline(stages=stages_lr)\n",
    "\n",
    "lr_model = pipeline_lr.fit(model_data_train)\n",
    "lrPredictions = lr_model.transform(model_data_test)\n",
    "\n",
    "lr_time_model = time.time() - start_lr\n",
    "print(f'lr model completed job in {time.time() - start_lr} seconds.')\n",
    "\n",
    "## Checkpoint 2\n",
    "\n",
    "lrPredictions.write.mode('overwrite').parquet(f\"{blob_url}/lr_implementation\")\n",
    "lrPredictions = spark.read.parquet(f\"{blob_url}/lr_implementation/*\")\n",
    "\n",
    "print_results(lrPredictions, 'LR',lr_time_model)"
   ]
  },
  {
   "cell_type": "markdown",
   "metadata": {
    "application/vnd.databricks.v1+cell": {
     "inputWidgets": {},
     "nuid": "0fe254be-2150-4847-bfd9-942866b1497a",
     "showTitle": false,
     "title": ""
    }
   },
   "source": [
    "LR Fit and Train took 2.65 minutes\n",
    "\n",
    "Command took 2.65 minutes -- by jdayer@berkeley.edu at 12/5/2021, 4:14:13 PM on team11"
   ]
  },
  {
   "cell_type": "markdown",
   "metadata": {
    "application/vnd.databricks.v1+cell": {
     "inputWidgets": {},
     "nuid": "e63c2b94-6d4b-416e-9112-d5d088e2c754",
     "showTitle": false,
     "title": ""
    }
   },
   "source": [
    "**The full process for Logistic Regression using 2 Checkpoints finished in 849.8s**"
   ]
  },
  {
   "cell_type": "markdown",
   "metadata": {
    "application/vnd.databricks.v1+cell": {
     "inputWidgets": {},
     "nuid": "867e9078-f024-42ec-a365-211fc703e5fd",
     "showTitle": false,
     "title": ""
    }
   },
   "source": [
    "**Logistic Regression without Checkpoint**"
   ]
  },
  {
   "cell_type": "code",
   "execution_count": 0,
   "metadata": {
    "application/vnd.databricks.v1+cell": {
     "inputWidgets": {},
     "nuid": "788e7d97-679e-47a7-ab3f-63347e08ceb5",
     "showTitle": false,
     "title": ""
    }
   },
   "outputs": [
    {
     "data": {
      "text/html": [
       "<style scoped>\n",
       "  .ansiout {\n",
       "    display: block;\n",
       "    unicode-bidi: embed;\n",
       "    white-space: pre-wrap;\n",
       "    word-wrap: break-word;\n",
       "    word-break: break-all;\n",
       "    font-family: \"Source Code Pro\", \"Menlo\", monospace;;\n",
       "    font-size: 13px;\n",
       "    color: #555;\n",
       "    margin-left: 4px;\n",
       "    line-height: 19px;\n",
       "  }\n",
       "</style>\n",
       "<div class=\"ansiout\">lr model completed job in 371.02223205566406 seconds.\n",
       "Sensitivity: 42.02%\n",
       "Specificity: 90.92%\n",
       "False positive rate: 9.08%\n",
       "False negative rate: 57.98%\n",
       "Recall: 42.02%\n",
       "Precision: 53.44%\n",
       "f1: 47.04%\n",
       "########### Confusion Matrix ###########\n",
       "                Predicted-delay  Predicted-on time\n",
       "Actual-delay             541479             747183\n",
       "Actual-on time           471851            4724961\n",
       "</div>"
      ]
     },
     "metadata": {
      "application/vnd.databricks.v1+output": {
       "addedWidgets": {},
       "arguments": {},
       "data": "<div class=\"ansiout\">lr model completed job in 371.02223205566406 seconds.\nSensitivity: 42.02%\nSpecificity: 90.92%\nFalse positive rate: 9.08%\nFalse negative rate: 57.98%\nRecall: 42.02%\nPrecision: 53.44%\nf1: 47.04%\n########### Confusion Matrix ###########\n                Predicted-delay  Predicted-on time\nActual-delay             541479             747183\nActual-on time           471851            4724961\n</div>",
       "datasetInfos": [],
       "metadata": {},
       "removedWidgets": [],
       "type": "html"
      }
     },
     "output_type": "display_data"
    }
   ],
   "source": [
    "start_lr1 = time.time()\n",
    "\n",
    "lr = LogisticRegression(featuresCol='VectorAssembler_features',\n",
    "                        labelCol='departure_delay_boolean', \n",
    "                        regParam = 0.001, \n",
    "                        fitIntercept= False, \n",
    "                        elasticNetParam=0.0, \n",
    "                        maxIter=50, \n",
    "                        threshold = 0.5)\n",
    "\n",
    "stages_lr1 = []\n",
    "stages_lr1 += imputer\n",
    "stages_lr1 += [scaler_vector_assembler , scaler]\n",
    "stages_lr1 += string_indexer\n",
    "stages_lr1 += one_hot_encoder\n",
    "stages_lr1 += [vector_assembler]\n",
    "stages_lr1 += [lr]\n",
    "\n",
    "pipeline_lr1 = Pipeline(stages=stages_lr1)\n",
    "\n",
    "# Train the LR model\n",
    "lr_model_1 = pipeline_lr1.fit(train_df)\n",
    "\n",
    "lrpredictions_1 = lr_model_1.transform(test_df)\n",
    "\n",
    "print(f'lr model completed job in {time.time() - start_lr1} seconds.')\n",
    "lr_time_model_1 = time.time() - start_lr1\n",
    "\n",
    "print_results(lrpredictions_1, 'LR', lr_time_model_1)"
   ]
  },
  {
   "cell_type": "markdown",
   "metadata": {
    "application/vnd.databricks.v1+cell": {
     "inputWidgets": {},
     "nuid": "60367785-fd4c-447a-aee2-8617faafa5fe",
     "showTitle": false,
     "title": ""
    }
   },
   "source": [
    "Command took 27.58 minutes -- by jdayer@berkeley.edu at 12/5/2021, 5:04:04 PM on team11\n",
    "\n",
    "Entire E2E Process took 27.58 minutes to run"
   ]
  },
  {
   "cell_type": "markdown",
   "metadata": {
    "application/vnd.databricks.v1+cell": {
     "inputWidgets": {},
     "nuid": "8d966d7c-63e1-4147-af1a-4c1b1f68aeec",
     "showTitle": false,
     "title": ""
    }
   },
   "source": [
    "**The full process for Logistic Regression without checkpoints finished in 1662.8s**"
   ]
  },
  {
   "cell_type": "markdown",
   "metadata": {
    "application/vnd.databricks.v1+cell": {
     "inputWidgets": {},
     "nuid": "a2bfea42-7d08-4462-9167-00d1a3bafdf2",
     "showTitle": false,
     "title": ""
    }
   },
   "source": [
    "**Logistic Regression with 1 Checkpoint**"
   ]
  },
  {
   "cell_type": "code",
   "execution_count": 0,
   "metadata": {
    "application/vnd.databricks.v1+cell": {
     "inputWidgets": {},
     "nuid": "01702103-95c0-41e7-a242-a05b4422d8a6",
     "showTitle": false,
     "title": ""
    }
   },
   "outputs": [
    {
     "data": {
      "text/html": [
       "<style scoped>\n",
       "  .ansiout {\n",
       "    display: block;\n",
       "    unicode-bidi: embed;\n",
       "    white-space: pre-wrap;\n",
       "    word-wrap: break-word;\n",
       "    word-break: break-all;\n",
       "    font-family: \"Source Code Pro\", \"Menlo\", monospace;;\n",
       "    font-size: 13px;\n",
       "    color: #555;\n",
       "    margin-left: 4px;\n",
       "    line-height: 19px;\n",
       "  }\n",
       "</style>\n",
       "<div class=\"ansiout\">lr model completed job in 1401.3298485279083 seconds.\n",
       "Sensitivity: 42.02%\n",
       "Specificity: 90.92%\n",
       "False positive rate: 9.08%\n",
       "False negative rate: 57.98%\n",
       "Recall: 42.02%\n",
       "Precision: 53.44%\n",
       "f1: 47.04%\n",
       "########### Confusion Matrix ###########\n",
       "                Predicted-delay  Predicted-on time\n",
       "Actual-delay             541479             747183\n",
       "Actual-on time           471851            4724961\n",
       "</div>"
      ]
     },
     "metadata": {
      "application/vnd.databricks.v1+output": {
       "addedWidgets": {},
       "arguments": {},
       "data": "<div class=\"ansiout\">lr model completed job in 1401.3298485279083 seconds.\nSensitivity: 42.02%\nSpecificity: 90.92%\nFalse positive rate: 9.08%\nFalse negative rate: 57.98%\nRecall: 42.02%\nPrecision: 53.44%\nf1: 47.04%\n########### Confusion Matrix ###########\n                Predicted-delay  Predicted-on time\nActual-delay             541479             747183\nActual-on time           471851            4724961\n</div>",
       "datasetInfos": [],
       "metadata": {},
       "removedWidgets": [],
       "type": "html"
      }
     },
     "output_type": "display_data"
    }
   ],
   "source": [
    "start_lr2 = time.time()\n",
    "\n",
    "lr = LogisticRegression(featuresCol='VectorAssembler_features',\n",
    "                        labelCol='departure_delay_boolean', \n",
    "                        regParam = 0.001, \n",
    "                        fitIntercept= False, \n",
    "                        elasticNetParam=0.0, \n",
    "                        maxIter=50, \n",
    "                        threshold = 0.5)\n",
    "\n",
    "stages_lr2 = []\n",
    "stages_lr2 += imputer\n",
    "stages_lr2 += [scaler_vector_assembler , scaler]\n",
    "stages_lr2 += string_indexer\n",
    "stages_lr2 += one_hot_encoder\n",
    "stages_lr2 += [vector_assembler]\n",
    "stages_lr2 += [lr]\n",
    "\n",
    "pipeline_lr2 = Pipeline(stages=stages_lr2)\n",
    "\n",
    "# Train the LR model\n",
    "lr_model_2 = pipeline_lr2.fit(train_df)\n",
    "\n",
    "lrpredictions_2 = lr_model_2.transform(test_df)\n",
    "\n",
    "\n",
    "## Checkpoint 1\n",
    "lrpredictions_2.write.mode('overwrite').parquet(f\"{blob_url}/lr_implementation_2\")\n",
    "lrPredictions_2 = spark.read.parquet(f\"{blob_url}/lr_implementation_2/*\")\n",
    "\n",
    "print(f'lr model completed job in {time.time() - start_lr2} seconds.')\n",
    "lr_time_model_2 = time.time() - start_lr2\n",
    "\n",
    "print_results(lrpredictions_2, 'LR', lr_time_model_2)"
   ]
  },
  {
   "cell_type": "markdown",
   "metadata": {
    "application/vnd.databricks.v1+cell": {
     "inputWidgets": {},
     "nuid": "531c1c19-a229-4ce9-bf58-5fe70e8979d9",
     "showTitle": false,
     "title": ""
    }
   },
   "source": [
    "The LR Process with internal checkpoint took 43 mins\n",
    "\n",
    "Command took 43.00 minutes -- by jdayer@berkeley.edu at 12/5/2021, 8:31:33 PM on team11"
   ]
  },
  {
   "cell_type": "markdown",
   "metadata": {
    "application/vnd.databricks.v1+cell": {
     "inputWidgets": {},
     "nuid": "4bb4872d-fc2d-4d60-9b0c-debb99aaf993",
     "showTitle": false,
     "title": ""
    }
   },
   "source": [
    "**The full process Logistic Regression with one internal checkpoint finished in 2588s**"
   ]
  },
  {
   "cell_type": "markdown",
   "metadata": {
    "application/vnd.databricks.v1+cell": {
     "inputWidgets": {},
     "nuid": "c4f56ee7-38b6-40c9-905b-e825a114ed26",
     "showTitle": false,
     "title": ""
    }
   },
   "source": [
    "#### 4.2 Gradient Boosted Trees"
   ]
  },
  {
   "cell_type": "markdown",
   "metadata": {
    "application/vnd.databricks.v1+cell": {
     "inputWidgets": {},
     "nuid": "e30d4802-e337-4b20-9c63-846d50b2da7e",
     "showTitle": false,
     "title": ""
    }
   },
   "source": [
    "**GBT Model with 2 Checkpoints**"
   ]
  },
  {
   "cell_type": "code",
   "execution_count": 0,
   "metadata": {
    "application/vnd.databricks.v1+cell": {
     "inputWidgets": {},
     "nuid": "127b0107-5868-4f5a-89f8-612e7dbc18bb",
     "showTitle": false,
     "title": ""
    }
   },
   "outputs": [
    {
     "data": {
      "text/html": [
       "<style scoped>\n",
       "  .ansiout {\n",
       "    display: block;\n",
       "    unicode-bidi: embed;\n",
       "    white-space: pre-wrap;\n",
       "    word-wrap: break-word;\n",
       "    word-break: break-all;\n",
       "    font-family: \"Source Code Pro\", \"Menlo\", monospace;;\n",
       "    font-size: 13px;\n",
       "    color: #555;\n",
       "    margin-left: 4px;\n",
       "    line-height: 19px;\n",
       "  }\n",
       "</style>\n",
       "<div class=\"ansiout\">gbt model completed job in 2423.3516590595245 seconds.\n",
       "Sensitivity: 63.44%\n",
       "Specificity: 78.80%\n",
       "False positive rate: 21.20%\n",
       "False negative rate: 36.56%\n",
       "Recall: 63.44%\n",
       "Precision: 42.60%\n",
       "f1: 50.97%\n",
       "########### Confusion Matrix ###########\n",
       "                Predicted-delay  Predicted-on time\n",
       "Actual-delay             817532             471130\n",
       "Actual-on time          1101778            4095034\n",
       "</div>"
      ]
     },
     "metadata": {
      "application/vnd.databricks.v1+output": {
       "addedWidgets": {},
       "arguments": {},
       "data": "<div class=\"ansiout\">gbt model completed job in 2423.3516590595245 seconds.\nSensitivity: 63.44%\nSpecificity: 78.80%\nFalse positive rate: 21.20%\nFalse negative rate: 36.56%\nRecall: 63.44%\nPrecision: 42.60%\nf1: 50.97%\n########### Confusion Matrix ###########\n                Predicted-delay  Predicted-on time\nActual-delay             817532             471130\nActual-on time          1101778            4095034\n</div>",
       "datasetInfos": [],
       "metadata": {},
       "removedWidgets": [],
       "type": "html"
      }
     },
     "output_type": "display_data"
    }
   ],
   "source": [
    "start_gbt_1 = time.time()\n",
    "gbt = GBTClassifier(featuresCol='VectorAssembler_features', \n",
    "              labelCol='departure_delay_boolean', \n",
    "              maxBins=10,\n",
    "              maxDepth=10,\n",
    "              minInstancesPerNode=10,\n",
    "              minInfoGain=0.001,\n",
    "              stepSize=0.2,\n",
    "              maxIter=10, \n",
    "              )\n",
    "\n",
    "stages_gbt_1 = [gbt]\n",
    "\n",
    "pipeline_gbt_1 = Pipeline(stages=stages_gbt_1)\n",
    "\n",
    "# Train the GBT model coming from checkpoint 1\n",
    "gbt_model_1 = pipeline_gbt_1.fit(model_data_train)\n",
    "gbpredictions_1 = gbt_model_1.transform(model_data_test)\n",
    "\n",
    "## Checkpoint 2\n",
    "gbpredictions_1.write.mode('overwrite').parquet(f\"{blob_url}/gbt_implementation\")\n",
    "gbpredictions_1 = spark.read.parquet(f\"{blob_url}/gbt_implementation/*\")\n",
    "\n",
    "print(f'gbt model completed job in {time.time() - start_gbt_1} seconds.')\n",
    "gbt_time_model_1 = time.time() - start_gbt_1\n",
    "\n",
    "print_results(gbpredictions_1, 'GB', gbt_time_model_1)"
   ]
  },
  {
   "cell_type": "markdown",
   "metadata": {
    "application/vnd.databricks.v1+cell": {
     "inputWidgets": {},
     "nuid": "9641a545-d637-49f8-8d80-0327d8df9344",
     "showTitle": false,
     "title": ""
    }
   },
   "source": [
    "Command took 40.57 minutes -- by jdayer@berkeley.edu at 12/5/2021, 5:35:40 PM on team11\n",
    "\n",
    "GBT with 2 Checkpoints takes"
   ]
  },
  {
   "cell_type": "markdown",
   "metadata": {
    "application/vnd.databricks.v1+cell": {
     "inputWidgets": {},
     "nuid": "fc084eb5-762e-468e-aaad-d1932fdb9d7b",
     "showTitle": false,
     "title": ""
    }
   },
   "source": [
    "**The full process for Gradient Boosted Trees with 2 checkpoints took 2442.2s**"
   ]
  },
  {
   "cell_type": "markdown",
   "metadata": {
    "application/vnd.databricks.v1+cell": {
     "inputWidgets": {},
     "nuid": "98c0d3ba-1f1f-4bdc-b971-cf323fb24856",
     "showTitle": false,
     "title": ""
    }
   },
   "source": [
    "**GBT Model without Checkpoint**"
   ]
  },
  {
   "cell_type": "code",
   "execution_count": 0,
   "metadata": {
    "application/vnd.databricks.v1+cell": {
     "inputWidgets": {},
     "nuid": "3364c129-a859-43de-ae57-279e0c5f2b64",
     "showTitle": false,
     "title": ""
    }
   },
   "outputs": [
    {
     "data": {
      "text/html": [
       "<style scoped>\n",
       "  .ansiout {\n",
       "    display: block;\n",
       "    unicode-bidi: embed;\n",
       "    white-space: pre-wrap;\n",
       "    word-wrap: break-word;\n",
       "    word-break: break-all;\n",
       "    font-family: \"Source Code Pro\", \"Menlo\", monospace;;\n",
       "    font-size: 13px;\n",
       "    color: #555;\n",
       "    margin-left: 4px;\n",
       "    line-height: 19px;\n",
       "  }\n",
       "</style>\n",
       "<div class=\"ansiout\">gbt model completed job in 2922.901913166046 seconds.\n",
       "Sensitivity: 63.82%\n",
       "Specificity: 78.43%\n",
       "False positive rate: 21.57%\n",
       "False negative rate: 36.18%\n",
       "Recall: 63.82%\n",
       "Precision: 42.32%\n",
       "f1: 50.89%\n",
       "########### Confusion Matrix ###########\n",
       "                Predicted-delay  Predicted-on time\n",
       "Actual-delay             822438             466224\n",
       "Actual-on time          1121080            4075732\n",
       "</div>"
      ]
     },
     "metadata": {
      "application/vnd.databricks.v1+output": {
       "addedWidgets": {},
       "arguments": {},
       "data": "<div class=\"ansiout\">gbt model completed job in 2922.901913166046 seconds.\nSensitivity: 63.82%\nSpecificity: 78.43%\nFalse positive rate: 21.57%\nFalse negative rate: 36.18%\nRecall: 63.82%\nPrecision: 42.32%\nf1: 50.89%\n########### Confusion Matrix ###########\n                Predicted-delay  Predicted-on time\nActual-delay             822438             466224\nActual-on time          1121080            4075732\n</div>",
       "datasetInfos": [],
       "metadata": {},
       "removedWidgets": [],
       "type": "html"
      }
     },
     "output_type": "display_data"
    }
   ],
   "source": [
    "start_gbt = time.time()\n",
    "gbt = GBTClassifier(featuresCol='VectorAssembler_features', \n",
    "              labelCol='departure_delay_boolean', \n",
    "              maxBins=10,\n",
    "              maxDepth=10,\n",
    "              minInstancesPerNode=10,\n",
    "              minInfoGain=0.001,\n",
    "              stepSize=0.2,\n",
    "              maxIter=10, \n",
    "              )\n",
    "\n",
    "stages_gbt = []\n",
    "stages_gbt += imputer\n",
    "stages_gbt += [scaler_vector_assembler , scaler]\n",
    "stages_gbt += string_indexer\n",
    "stages_gbt += one_hot_encoder\n",
    "stages_gbt += [vector_assembler]\n",
    "stages_gbt += [gbt]\n",
    "\n",
    "pipeline_gbt = Pipeline(stages=stages_gbt)\n",
    "\n",
    "# Train the GBT model\n",
    "gbt_model = pipeline_gbt.fit(train_df)\n",
    "\n",
    "gbpredictions = gbt_model.transform(test_df)\n",
    "\n",
    "print(f'gbt model completed job in {time.time() - start_gbt} seconds.')\n",
    "gbt_time_model = time.time() - start_gbt\n",
    "\n",
    "print_results(gbpredictions, 'GB', gbt_time_model)"
   ]
  },
  {
   "cell_type": "markdown",
   "metadata": {
    "application/vnd.databricks.v1+cell": {
     "inputWidgets": {},
     "nuid": "4c0583d4-1716-4e65-bafd-6c1da33756f1",
     "showTitle": false,
     "title": ""
    }
   },
   "source": [
    "GBT without checkpoints took 1.18 hours\n",
    "\n",
    "Command took 1.18 hours -- by jdayer@berkeley.edu at 12/5/2021, 1:38:13 AM on team11"
   ]
  },
  {
   "cell_type": "markdown",
   "metadata": {
    "application/vnd.databricks.v1+cell": {
     "inputWidgets": {},
     "nuid": "55985a9e-5396-4cac-8425-992856dee793",
     "showTitle": false,
     "title": ""
    }
   },
   "source": [
    "**The full process for Gradient Boosted Trees without checkpoints finished in 4938.8s**"
   ]
  },
  {
   "cell_type": "markdown",
   "metadata": {
    "application/vnd.databricks.v1+cell": {
     "inputWidgets": {},
     "nuid": "31a27d26-95b5-489e-8b18-283b727a1c12",
     "showTitle": false,
     "title": ""
    }
   },
   "source": [
    "**GBT Model with 1 Checkpoint**"
   ]
  },
  {
   "cell_type": "code",
   "execution_count": 0,
   "metadata": {
    "application/vnd.databricks.v1+cell": {
     "inputWidgets": {},
     "nuid": "662443a9-225f-49a3-803b-060b59680f54",
     "showTitle": false,
     "title": ""
    }
   },
   "outputs": [
    {
     "data": {
      "text/html": [
       "<style scoped>\n",
       "  .ansiout {\n",
       "    display: block;\n",
       "    unicode-bidi: embed;\n",
       "    white-space: pre-wrap;\n",
       "    word-wrap: break-word;\n",
       "    word-break: break-all;\n",
       "    font-family: \"Source Code Pro\", \"Menlo\", monospace;;\n",
       "    font-size: 13px;\n",
       "    color: #555;\n",
       "    margin-left: 4px;\n",
       "    line-height: 19px;\n",
       "  }\n",
       "</style>\n",
       "<div class=\"ansiout\">gbt model completed job in 6821.34512090683 seconds.\n",
       "Sensitivity: 63.73%\n",
       "Specificity: 78.33%\n",
       "False positive rate: 21.67%\n",
       "False negative rate: 36.27%\n",
       "Recall: 63.73%\n",
       "Precision: 42.18%\n",
       "f1: 50.76%\n",
       "########### Confusion Matrix ###########\n",
       "                Predicted-delay  Predicted-on time\n",
       "Actual-delay             821326             467336\n",
       "Actual-on time          1125964            4070848\n",
       "</div>"
      ]
     },
     "metadata": {
      "application/vnd.databricks.v1+output": {
       "addedWidgets": {},
       "arguments": {},
       "data": "<div class=\"ansiout\">gbt model completed job in 6821.34512090683 seconds.\nSensitivity: 63.73%\nSpecificity: 78.33%\nFalse positive rate: 21.67%\nFalse negative rate: 36.27%\nRecall: 63.73%\nPrecision: 42.18%\nf1: 50.76%\n########### Confusion Matrix ###########\n                Predicted-delay  Predicted-on time\nActual-delay             821326             467336\nActual-on time          1125964            4070848\n</div>",
       "datasetInfos": [],
       "metadata": {},
       "removedWidgets": [],
       "type": "html"
      }
     },
     "output_type": "display_data"
    }
   ],
   "source": [
    "start_gbt_2 = time.time()\n",
    "gbt = GBTClassifier(featuresCol='VectorAssembler_features', \n",
    "              labelCol='departure_delay_boolean', \n",
    "              maxBins=10,\n",
    "              maxDepth=10,\n",
    "              minInstancesPerNode=10,\n",
    "              minInfoGain=0.001,\n",
    "              stepSize=0.2,\n",
    "              maxIter=10, \n",
    "              )\n",
    "\n",
    "stages_gbt_2 = []\n",
    "stages_gbt_2 += imputer\n",
    "stages_gbt_2 += [scaler_vector_assembler , scaler]\n",
    "stages_gbt_2 += string_indexer\n",
    "stages_gbt_2 += one_hot_encoder\n",
    "stages_gbt_2 += [vector_assembler]\n",
    "stages_gbt_2 += [gbt]\n",
    "\n",
    "pipeline_gbt_2 = Pipeline(stages=stages_gbt_2)\n",
    "\n",
    "# Train the GBT model\n",
    "gbt_model_2 = pipeline_gbt_2.fit(train_df)\n",
    "gbpredictions_2 = gbt_model_2.transform(test_df)\n",
    "\n",
    "## Checkpoint 1\n",
    "gbpredictions_2.write.mode('overwrite').parquet(f\"{blob_url}/gbt_implementation_2\")\n",
    "gbpredictions_2 = spark.read.parquet(f\"{blob_url}/gbt_implementation_2/*\")\n",
    "\n",
    "print(f'gbt model completed job in {time.time() - start_gbt_2} seconds.')\n",
    "gbt_time_model_2 = time.time() - start_gbt_2\n",
    "\n",
    "print_results(gbpredictions_2, 'GB', gbt_time_model_2)"
   ]
  },
  {
   "cell_type": "markdown",
   "metadata": {
    "application/vnd.databricks.v1+cell": {
     "inputWidgets": {},
     "nuid": "71e218fb-f301-44e1-b652-646858ac4350",
     "showTitle": false,
     "title": ""
    }
   },
   "source": [
    "GBT with 1 Checkpoints took 1.90 hrs\n",
    "\n",
    "Command took 1.90 hours -- by jdayer@berkeley.edu at 12/5/2021, 9:10:06 PM on team11"
   ]
  },
  {
   "cell_type": "markdown",
   "metadata": {
    "application/vnd.databricks.v1+cell": {
     "inputWidgets": {},
     "nuid": "d4fb2995-b87d-4d92-83fc-3a288b8e8780",
     "showTitle": false,
     "title": ""
    }
   },
   "source": [
    "**The full process for Gradient Boosted Trees with one internal checkpoint finished in 6848s**"
   ]
  },
  {
   "cell_type": "markdown",
   "metadata": {
    "application/vnd.databricks.v1+cell": {
     "inputWidgets": {},
     "nuid": "755e003c-d7ba-4ee2-8934-d08c268390d4",
     "showTitle": false,
     "title": ""
    }
   },
   "source": [
    "#### 4.3 XGBoost"
   ]
  },
  {
   "cell_type": "code",
   "execution_count": 0,
   "metadata": {
    "application/vnd.databricks.v1+cell": {
     "inputWidgets": {},
     "nuid": "bb8ef30d-b6af-4f5d-a8cc-bbb2e97c6177",
     "showTitle": false,
     "title": ""
    }
   },
   "outputs": [
    {
     "data": {
      "text/html": [
       "<style scoped>\n",
       "  .ansiout {\n",
       "    display: block;\n",
       "    unicode-bidi: embed;\n",
       "    white-space: pre-wrap;\n",
       "    word-wrap: break-word;\n",
       "    word-break: break-all;\n",
       "    font-family: \"Source Code Pro\", \"Menlo\", monospace;;\n",
       "    font-size: 13px;\n",
       "    color: #555;\n",
       "    margin-left: 4px;\n",
       "    line-height: 19px;\n",
       "  }\n",
       "</style>\n",
       "<div class=\"ansiout\">Sensitivity: 64.11%\n",
       "Specificity: 80.27%\n",
       "False positive rate: 19.73%\n",
       "False negative rate: 35.89%\n",
       "Recall: 64.11%\n",
       "Precision: 44.62%\n",
       "f1: 52.62%\n",
       "########### Confusion Matrix ###########\n",
       "                Predicted-delay  Predicted-on time\n",
       "Actual-delay             826198             462464\n",
       "Actual-on time          1025466            4171346\n",
       "</div>"
      ]
     },
     "metadata": {
      "application/vnd.databricks.v1+output": {
       "addedWidgets": {},
       "arguments": {},
       "data": "<div class=\"ansiout\">Sensitivity: 64.11%\nSpecificity: 80.27%\nFalse positive rate: 19.73%\nFalse negative rate: 35.89%\nRecall: 64.11%\nPrecision: 44.62%\nf1: 52.62%\n########### Confusion Matrix ###########\n                Predicted-delay  Predicted-on time\nActual-delay             826198             462464\nActual-on time          1025466            4171346\n</div>",
       "datasetInfos": [],
       "metadata": {},
       "removedWidgets": [],
       "type": "html"
      }
     },
     "output_type": "display_data"
    }
   ],
   "source": [
    "xgb = XgboostClassifier(featuresCol='VectorAssembler_features', \n",
    "              labelCol='departure_delay_boolean', \n",
    "              maxBins=10,\n",
    "              maxDepth=5,\n",
    "              minInstancesPerNode=10,\n",
    "              minInfoGain=0.001,\n",
    "              stepSize=0.2,\n",
    "              maxIter=10,\n",
    "              missing = 0.0,\n",
    "              n_estimators = 50 \n",
    "              )\n",
    "\n",
    "# Setup pipeline\n",
    "stages_xgbClassifier = [xgb]\n",
    "pipeline_xgb = Pipeline(stages=stages_xgbClassifier)\n",
    "\n",
    "\n",
    "start_xgb = time.time()\n",
    "\n",
    "# Train the XGB model\n",
    "xgb_model = pipeline_xgb.fit(model_data_train)\n",
    "\n",
    "xgbpredictions = xgb_model.transform(model_data_test)\n",
    "\n",
    "xgb_time_model = time.time() - start_xgb\n",
    "\n",
    "xgbpredictions.write.mode('overwrite').parquet(f\"{blob_url}/xgbpredictions_explore_implementation\")\n",
    "xgbpredictions = spark.read.parquet(f\"{blob_url}/xgbpredictions_explore_implementation/*\")\n",
    "\n",
    "print_results(xgbpredictions, 'XGB', xgb_time_model)"
   ]
  },
  {
   "cell_type": "code",
   "execution_count": 0,
   "metadata": {
    "application/vnd.databricks.v1+cell": {
     "inputWidgets": {},
     "nuid": "6ca7a1da-639e-4dec-807e-14b53deb6ba8",
     "showTitle": false,
     "title": ""
    }
   },
   "outputs": [
    {
     "data": {
      "text/html": [
       "<style scoped>\n",
       "  .ansiout {\n",
       "    display: block;\n",
       "    unicode-bidi: embed;\n",
       "    white-space: pre-wrap;\n",
       "    word-wrap: break-word;\n",
       "    word-break: break-all;\n",
       "    font-family: \"Source Code Pro\", \"Menlo\", monospace;;\n",
       "    font-size: 13px;\n",
       "    color: #555;\n",
       "    margin-left: 4px;\n",
       "    line-height: 19px;\n",
       "  }\n",
       "</style>\n",
       "<div class=\"ansiout\">              precision    recall  f1-score   support\n",
       "\n",
       "         0.0       0.90      0.80      0.85   5196812\n",
       "         1.0       0.45      0.64      0.53   1288662\n",
       "\n",
       "    accuracy                           0.77   6485474\n",
       "   macro avg       0.67      0.72      0.69   6485474\n",
       "weighted avg       0.81      0.77      0.78   6485474\n",
       "\n",
       "[[4171346 1025466]\n",
       " [ 462464  826198]]\n",
       "</div>"
      ]
     },
     "metadata": {
      "application/vnd.databricks.v1+output": {
       "addedWidgets": {},
       "arguments": {},
       "data": "<div class=\"ansiout\">              precision    recall  f1-score   support\n\n         0.0       0.90      0.80      0.85   5196812\n         1.0       0.45      0.64      0.53   1288662\n\n    accuracy                           0.77   6485474\n   macro avg       0.67      0.72      0.69   6485474\nweighted avg       0.81      0.77      0.78   6485474\n\n[[4171346 1025466]\n [ 462464  826198]]\n</div>",
       "datasetInfos": [],
       "metadata": {},
       "removedWidgets": [],
       "type": "html"
      }
     },
     "output_type": "display_data"
    }
   ],
   "source": [
    "y_true_xgb = xgbpredictions.select(['departure_delay_boolean']).collect()\n",
    "y_pred_xgb = xgbpredictions.select(['prediction']).collect()\n",
    "\n",
    "# Print metrics\n",
    "from sklearn.metrics import classification_report, confusion_matrix\n",
    "print(classification_report(y_true_xgb, y_pred_xgb))\n",
    "print(confusion_matrix(y_true_xgb, y_pred_xgb))"
   ]
  },
  {
   "cell_type": "code",
   "execution_count": 0,
   "metadata": {
    "application/vnd.databricks.v1+cell": {
     "inputWidgets": {},
     "nuid": "f4e0f865-eac3-4fff-a5fa-6be5762e4ff6",
     "showTitle": false,
     "title": ""
    }
   },
   "outputs": [
    {
     "data": {
      "text/html": [
       "<style scoped>\n",
       "  .ansiout {\n",
       "    display: block;\n",
       "    unicode-bidi: embed;\n",
       "    white-space: pre-wrap;\n",
       "    word-wrap: break-word;\n",
       "    word-break: break-all;\n",
       "    font-family: \"Source Code Pro\", \"Menlo\", monospace;;\n",
       "    font-size: 13px;\n",
       "    color: #555;\n",
       "    margin-left: 4px;\n",
       "    line-height: 19px;\n",
       "  }\n",
       "</style>\n",
       "<div class=\"ansiout\">Out[9]: </div>"
      ]
     },
     "metadata": {
      "application/vnd.databricks.v1+output": {
       "addedWidgets": {},
       "arguments": {},
       "data": "<div class=\"ansiout\">Out[9]: </div>",
       "datasetInfos": [],
       "metadata": {},
       "removedWidgets": [],
       "type": "html"
      }
     },
     "output_type": "display_data"
    },
    {
     "data": {
      "image/png": "[encoded data removed]"
     },
     "metadata": {
      "application/vnd.databricks.v1+output": {
       "addedWidgets": {},
       "arguments": {},
       "data": "data:image/png;base64,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",
       "datasetInfos": [],
       "metadata": {
        "imageDimensions": {
         "height": 278,
         "width": 345
        }
       },
       "removedWidgets": [],
       "type": "image"
      },
      "image/png": {
       "height": 278,
       "width": 345
      }
     },
     "output_type": "display_data"
    },
    {
     "data": {
      "text/html": [
       "<style scoped>\n",
       "  .ansiout {\n",
       "    display: block;\n",
       "    unicode-bidi: embed;\n",
       "    white-space: pre-wrap;\n",
       "    word-wrap: break-word;\n",
       "    word-break: break-all;\n",
       "    font-family: \"Source Code Pro\", \"Menlo\", monospace;;\n",
       "    font-size: 13px;\n",
       "    color: #555;\n",
       "    margin-left: 4px;\n",
       "    line-height: 19px;\n",
       "  }\n",
       "</style>\n",
       "<div class=\"ansiout\">[Text(0.5, 0, &#39;Predicted labels&#39;), Text(0, 0.5, &#39;True labels&#39;)]</div>"
      ]
     },
     "metadata": {
      "application/vnd.databricks.v1+output": {
       "addedWidgets": {},
       "arguments": {},
       "data": "<div class=\"ansiout\">[Text(0.5, 0, &#39;Predicted labels&#39;), Text(0, 0.5, &#39;True labels&#39;)]</div>",
       "datasetInfos": [],
       "metadata": {},
       "removedWidgets": [],
       "type": "html"
      }
     },
     "output_type": "display_data"
    }
   ],
   "source": [
    "# Plot Confusion Matrix\n",
    "\n",
    "cm_xgb = confusion_matrix(y_true_xgb, y_pred_xgb)\n",
    "cm_xgb_display = ConfusionMatrixDisplay(cm_xgb, display_labels=['On Time', 'Delay'])\n",
    "cm_xgb_display.plot(cmap='Blues', values_format='d')\n",
    "cm_xgb_display.ax_.set(title='Confusion Matrix-XGB')\n",
    "cm_xgb_display.ax_.set(xlabel='Predicted labels', ylabel='True labels')"
   ]
  },
  {
   "cell_type": "markdown",
   "metadata": {
    "application/vnd.databricks.v1+cell": {
     "inputWidgets": {},
     "nuid": "b186b389-f338-4c0e-a5ca-de8c96b41b24",
     "showTitle": false,
     "title": ""
    }
   },
   "source": [
    "|Model|\tCheckpoints|\tTime (s)|\n",
    "|--------|------------|------|\n",
    "|LR|\tNo Checkpoints|\t1662.8|\n",
    "|LR|\t2 Checkpoints|\t849.8|\n",
    "|LR|\t1 Checkpoint|\t2588|\n",
    "|GBT|\tNo Checkpoints|\t4256|\n",
    "|GBT|\t2 Checkpoints|\t3125|\n",
    "|GBT|\t1 Checkpoint|\t6848|\n",
    "|XGB|   1 Checkpoint|   1551|"
   ]
  }
 ],
 "metadata": {
  "application/vnd.databricks.v1+notebook": {
   "dashboards": [],
   "language": "python",
   "notebookMetadata": {
    "pythonIndentUnit": 2
   },
   "notebookName": "W261_FA21_FINAL_PROJECT_TEAM11_NB10_Algorithm_Implementation",
   "notebookOrigID": 2297543790306469,
   "widgets": {}
  },
  "kernelspec": {
   "display_name": "Python 3",
   "language": "python",
   "name": "python3"
  },
  "language_info": {
   "codemirror_mode": {
    "name": "ipython",
    "version": 3
   },
   "file_extension": ".py",
   "mimetype": "text/x-python",
   "name": "python",
   "nbconvert_exporter": "python",
   "pygments_lexer": "ipython3",
   "version": "3.8.3"
  }
 },
 "nbformat": 4,
 "nbformat_minor": 1
}
