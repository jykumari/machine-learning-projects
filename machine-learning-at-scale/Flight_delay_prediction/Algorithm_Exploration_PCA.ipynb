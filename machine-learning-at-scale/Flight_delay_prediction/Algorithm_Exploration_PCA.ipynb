{
 "cells": [
  {
   "cell_type": "markdown",
   "metadata": {
    "application/vnd.databricks.v1+cell": {
     "inputWidgets": {},
     "nuid": "683d4c13-182d-4f4c-93de-0d6d7833a480",
     "showTitle": false,
     "title": ""
    }
   },
   "source": [
    "## PCA - Algorithm Exploration\n",
    "\n",
    "This notebook demonstrates the dimensionality reduction - PCA implementation"
   ]
  },
  {
   "cell_type": "markdown",
   "metadata": {
    "application/vnd.databricks.v1+cell": {
     "inputWidgets": {},
     "nuid": "1a7aeb2f-4fb3-4f9b-bb04-a8b1b9514a13",
     "showTitle": false,
     "title": ""
    }
   },
   "source": [
    "### Section 1 - Setup Environment"
   ]
  },
  {
   "cell_type": "code",
   "execution_count": 0,
   "metadata": {
    "application/vnd.databricks.v1+cell": {
     "inputWidgets": {},
     "nuid": "860d1e18-8843-40ec-9b06-baca76a0b902",
     "showTitle": true,
     "title": "Import Libraries"
    }
   },
   "outputs": [
    {
     "data": {
      "text/html": [
       "<style scoped>\n",
       "  .ansiout {\n",
       "    display: block;\n",
       "    unicode-bidi: embed;\n",
       "    white-space: pre-wrap;\n",
       "    word-wrap: break-word;\n",
       "    word-break: break-all;\n",
       "    font-family: \"Source Code Pro\", \"Menlo\", monospace;;\n",
       "    font-size: 13px;\n",
       "    color: #555;\n",
       "    margin-left: 4px;\n",
       "    line-height: 19px;\n",
       "  }\n",
       "</style>\n",
       "<div class=\"ansiout\"></div>"
      ]
     },
     "metadata": {
      "application/vnd.databricks.v1+output": {
       "addedWidgets": {},
       "arguments": {},
       "data": "<div class=\"ansiout\"></div>",
       "datasetInfos": [],
       "metadata": {},
       "removedWidgets": [],
       "type": "html"
      }
     },
     "output_type": "display_data"
    }
   ],
   "source": [
    "from pyspark.sql.functions import col, concat, count, countDistinct, expr, lit, length, max as pyspark_max, min as pyspark_min, mean, substring, split, sum as pyspark_sum, when, to_utc_timestamp, to_timestamp, unix_timestamp, isnan\n",
    "import pandas as pd\n",
    "from html import escape\n",
    "from IPython.display import HTML, display as ipython_display\n",
    "import seaborn as sns\n",
    "import matplotlib.pyplot as plt\n",
    "from sklearn.metrics import confusion_matrix, ConfusionMatrixDisplay\n",
    "from pyspark.sql import SQLContext\n",
    "from pyspark.sql.types import IntegerType, StringType, BooleanType, DateType, DoubleType\n",
    "#from gcmap import GCMapper, Gradient\n",
    "import matplotlib.pyplot as plt\n",
    "from pandas.tseries.holiday import USFederalHolidayCalendar\n",
    "from pyspark.sql.functions import substring\n",
    "from pyspark.sql import functions as F\n",
    "\n",
    "from pyspark.ml.classification import LogisticRegression\n",
    "from pyspark.ml.evaluation import BinaryClassificationEvaluator\n",
    "from pyspark.ml.evaluation import MulticlassClassificationEvaluator\n",
    "from pyspark.ml.tuning import ParamGridBuilder, CrossValidator\n",
    "from pyspark.sql.functions import col, max, substring\n",
    "from pyspark.mllib.tree import DecisionTree, DecisionTreeModel\n",
    "from pyspark.ml.classification import DecisionTreeClassifier\n",
    "from pyspark.ml.classification import RandomForestClassifier\n",
    "from pyspark.ml.classification import GBTClassifier\n",
    "from pyspark.ml.classification import LinearSVC as svc\n",
    "from pyspark.ml.classification import LinearSVC\n",
    "from pyspark.mllib.util import MLUtils\n",
    "from pyspark.ml.feature import Imputer\n",
    "\n",
    "import numpy as np\n",
    "import itertools\n",
    "import time\n",
    "\n",
    "from pyspark.ml.feature import VectorAssembler\n",
    "\n",
    "from pyspark.sql.functions import percent_rank\n",
    "from pyspark.sql import Window\n",
    "from pyspark.ml import Pipeline\n",
    "from sparkdl.xgboost import XgboostClassifier"
   ]
  },
  {
   "cell_type": "code",
   "execution_count": 0,
   "metadata": {
    "application/vnd.databricks.v1+cell": {
     "inputWidgets": {},
     "nuid": "c1eb45d1-01f5-4e23-9333-2ccc83e93020",
     "showTitle": true,
     "title": "Access to Azure Blob Storage"
    }
   },
   "outputs": [
    {
     "data": {
      "text/html": [
       "<style scoped>\n",
       "  .ansiout {\n",
       "    display: block;\n",
       "    unicode-bidi: embed;\n",
       "    white-space: pre-wrap;\n",
       "    word-wrap: break-word;\n",
       "    word-break: break-all;\n",
       "    font-family: \"Source Code Pro\", \"Menlo\", monospace;;\n",
       "    font-size: 13px;\n",
       "    color: #555;\n",
       "    margin-left: 4px;\n",
       "    line-height: 19px;\n",
       "  }\n",
       "</style>\n",
       "<div class=\"ansiout\"></div>"
      ]
     },
     "metadata": {
      "application/vnd.databricks.v1+output": {
       "addedWidgets": {},
       "arguments": {},
       "data": "<div class=\"ansiout\"></div>",
       "datasetInfos": [],
       "metadata": {},
       "removedWidgets": [],
       "type": "html"
      }
     },
     "output_type": "display_data"
    }
   ],
   "source": [
    "blob_container = \"w261-container\" # The name of your container created in https://portal.azure.com\n",
    "storage_account = \"w261storageaccount\" # The name of your Storage account created in https://portal.azure.com\n",
    "secret_scope = \"w261scope\" # The name of the scope created in your local computer using the Databricks CLI\n",
    "secret_key = \"w261key\" # The name of the secret key created in your local computer using the Databricks CLI \n",
    "blob_url = f\"wasbs://{blob_container}@{storage_account}.blob.core.windows.net\"\n",
    "mount_path = \"/mnt/mids-w261\"\n",
    "\n",
    "spark.conf.set(\n",
    "  f\"fs.azure.sas.{blob_container}.{storage_account}.blob.core.windows.net\",\n",
    "  dbutils.secrets.get(scope = secret_scope, key = secret_key)\n",
    ")"
   ]
  },
  {
   "cell_type": "markdown",
   "metadata": {
    "application/vnd.databricks.v1+cell": {
     "inputWidgets": {},
     "nuid": "07b0255e-e260-4bda-abf0-cde41d8173b5",
     "showTitle": false,
     "title": ""
    }
   },
   "source": [
    "### Section 2 - Load Data"
   ]
  },
  {
   "cell_type": "code",
   "execution_count": 0,
   "metadata": {
    "application/vnd.databricks.v1+cell": {
     "inputWidgets": {},
     "nuid": "f0e141a5-4137-4831-9242-92adbc5e338d",
     "showTitle": false,
     "title": ""
    }
   },
   "outputs": [
    {
     "data": {
      "text/html": [
       "<style scoped>\n",
       "  .table-result-container {\n",
       "    max-height: 300px;\n",
       "    overflow: auto;\n",
       "  }\n",
       "  table, th, td {\n",
       "    border: 1px solid black;\n",
       "    border-collapse: collapse;\n",
       "  }\n",
       "  th, td {\n",
       "    padding: 5px;\n",
       "  }\n",
       "  th {\n",
       "    text-align: left;\n",
       "  }\n",
       "</style><div class='table-result-container'><table class='table-result'><thead style='background-color: white'><tr><th>year</th><th>quarter</th><th>month</th><th>day_of_week</th><th>holiday</th><th>weather_obs_prev</th><th>weather_obs_prev_2</th><th>carrier</th><th>origin</th><th>destination</th><th>departure_delay</th><th>departure_delay_15</th><th>departure_delay_boolean</th><th>arrival_delay_boolean</th><th>distance</th><th>distance_group</th><th>actual_timestamp</th><th>hourly_timestamp</th><th>prev_hourly_timestamp</th><th>utc_hourly_timestamp</th><th>utc_prev_hourly_timestamp</th><th>planned_time_between_flights</th><th>prev_dep_delayed_confirmed</th><th>weather_station</th><th>wnd_angle_prev</th><th>wnd_angle_qc_prev</th><th>wnd_type_prev</th><th>wnd_speed_prev</th><th>wnd_speed_qc_prev</th><th>wnd_cloud_angle_prev</th><th>cig_cloud_angle_qc_prev</th><th>cig_method_prev</th><th>cig_cavok_prev</th><th>vis_dist_prev</th><th>vis_dist_qc_prev</th><th>vis_var_prev</th><th>vis_var_qc_prev</th><th>tmp_c_prev</th><th>tmp_qc_prev</th><th>dew_c_prev</th><th>dew_qc_prev</th><th>slp_p_prev</th><th>slp_qc_prev</th><th>wnd_angle_prev_2</th><th>wnd_angle_qc_prev_2</th><th>wnd_type_prev_2</th><th>wnd_speed_prev_2</th><th>wnd_speed_qc_prev_2</th><th>wnd_cloud_angle_prev_2</th><th>cig_cloud_angle_qc_prev_2</th><th>cig_method_prev_2</th><th>cig_cavok_prev_2</th><th>vis_dist_prev_2</th><th>vis_dist_qc_prev_2</th><th>vis_var_prev_2</th><th>vis_var_qc_prev_2</th><th>tmp_c_prev_2</th><th>tmp_qc_prev_2</th><th>dew_c_prev_2</th><th>dew_qc_prev_2</th><th>slp_p_prev_2</th><th>slp_qc_prev_2</th><th>route_delay</th><th>origin_arrival_delay</th><th>origin_departure_delay</th><th>dest_departure_delay</th><th>dest_arrival_delay</th></tr></thead><tbody><tr><td>2018</td><td>4</td><td>11</td><td>1</td><td>1</td><td>0</td><td>0</td><td>OH</td><td>ABE</td><td>PHL</td><td>0.0</td><td>0.0</td><td>0.0</td><td>0.0</td><td>55.0</td><td>1</td><td>2018-11-19T17:08:00.000+0000</td><td>2018-11-19T15:00:00.000+0000</td><td>2018-11-19T14:00:00.000+0000</td><td>2018-11-19T20:00:00.000+0000</td><td>2018-11-19T19:00:00.000+0000</td><td>26.0</td><td>2</td><td>72517014737</td><td>50</td><td>5</td><td>N</td><td>36</td><td>5</td><td>22000</td><td>5</td><td>9</td><td>N</td><td>11265</td><td>5</td><td>N</td><td>5</td><td>78</td><td>5</td><td>33</td><td>5</td><td>10162</td><td>5</td><td>50</td><td>5</td><td>N</td><td>26</td><td>5</td><td>22000</td><td>5</td><td>9</td><td>N</td><td>12875</td><td>5</td><td>N</td><td>5</td><td>100</td><td>5</td><td>39</td><td>5</td><td>10165</td><td>5</td><td>15.731707317073171</td><td>15.352448169386856</td><td>14.694498708173168</td><td>13.604921632774285</td><td>13.763728326950856</td></tr><tr><td>2018</td><td>4</td><td>12</td><td>7</td><td>1</td><td>0</td><td>0</td><td>OH</td><td>ABE</td><td>PHL</td><td>68.0</td><td>1.0</td><td>1.0</td><td>1.0</td><td>55.0</td><td>1</td><td>2018-12-09T17:08:00.000+0000</td><td>2018-12-09T15:00:00.000+0000</td><td>2018-12-09T14:00:00.000+0000</td><td>2018-12-09T20:00:00.000+0000</td><td>2018-12-09T19:00:00.000+0000</td><td>26.0</td><td>2</td><td>72517014737</td><td>240</td><td>5</td><td>N</td><td>26</td><td>5</td><td>22000</td><td>5</td><td>9</td><td>N</td><td>16093</td><td>5</td><td>N</td><td>5</td><td>0</td><td>5</td><td>-89</td><td>5</td><td>10266</td><td>5</td><td>270</td><td>5</td><td>N</td><td>15</td><td>5</td><td>22000</td><td>5</td><td>9</td><td>N</td><td>16093</td><td>5</td><td>N</td><td>5</td><td>6</td><td>5</td><td>-94</td><td>5</td><td>10271</td><td>5</td><td>15.731707317073171</td><td>15.352448169386856</td><td>14.694498708173168</td><td>13.604921632774285</td><td>13.763728326950856</td></tr><tr><td>2018</td><td>4</td><td>11</td><td>5</td><td>1</td><td>0</td><td>0</td><td>OH</td><td>ABE</td><td>PHL</td><td>21.0</td><td>1.0</td><td>1.0</td><td>1.0</td><td>55.0</td><td>1</td><td>2018-11-09T17:08:00.000+0000</td><td>2018-11-09T15:00:00.000+0000</td><td>2018-11-09T14:00:00.000+0000</td><td>2018-11-09T20:00:00.000+0000</td><td>2018-11-09T19:00:00.000+0000</td><td>26.0</td><td>2</td><td>72517014737</td><td>340</td><td>5</td><td>N</td><td>46</td><td>5</td><td>335</td><td>5</td><td>M</td><td>N</td><td>4023</td><td>5</td><td>N</td><td>5</td><td>78</td><td>5</td><td>56</td><td>5</td><td>10179</td><td>5</td><td>60</td><td>5</td><td>N</td><td>46</td><td>5</td><td>549</td><td>5</td><td>M</td><td>N</td><td>16093</td><td>5</td><td>N</td><td>5</td><td>78</td><td>5</td><td>50</td><td>5</td><td>10173</td><td>5</td><td>15.731707317073171</td><td>15.352448169386856</td><td>14.694498708173168</td><td>13.604921632774285</td><td>13.763728326950856</td></tr><tr><td>2018</td><td>4</td><td>11</td><td>2</td><td>1</td><td>0</td><td>0</td><td>OH</td><td>ABE</td><td>PHL</td><td>0.0</td><td>0.0</td><td>0.0</td><td>0.0</td><td>55.0</td><td>1</td><td>2018-11-27T17:08:00.000+0000</td><td>2018-11-27T15:00:00.000+0000</td><td>2018-11-27T14:00:00.000+0000</td><td>2018-11-27T20:00:00.000+0000</td><td>2018-11-27T19:00:00.000+0000</td><td>26.0</td><td>2</td><td>72517014737</td><td>270</td><td>5</td><td>N</td><td>62</td><td>5</td><td>1189</td><td>5</td><td>M</td><td>N</td><td>16093</td><td>5</td><td>N</td><td>5</td><td>33</td><td>5</td><td>-39</td><td>5</td><td>9997</td><td>5</td><td>270</td><td>5</td><td>N</td><td>62</td><td>5</td><td>1219</td><td>5</td><td>M</td><td>N</td><td>16093</td><td>5</td><td>N</td><td>5</td><td>39</td><td>5</td><td>-39</td><td>5</td><td>9998</td><td>5</td><td>15.731707317073171</td><td>15.352448169386856</td><td>14.694498708173168</td><td>13.604921632774285</td><td>13.763728326950856</td></tr><tr><td>2018</td><td>4</td><td>11</td><td>1</td><td>1</td><td>0</td><td>0</td><td>OH</td><td>ABE</td><td>PHL</td><td>35.0</td><td>1.0</td><td>1.0</td><td>1.0</td><td>55.0</td><td>1</td><td>2018-11-26T17:08:00.000+0000</td><td>2018-11-26T15:00:00.000+0000</td><td>2018-11-26T14:00:00.000+0000</td><td>2018-11-26T20:00:00.000+0000</td><td>2018-11-26T19:00:00.000+0000</td><td>26.0</td><td>2</td><td>72517014737</td><td>70</td><td>5</td><td>N</td><td>41</td><td>5</td><td>244</td><td>5</td><td>M</td><td>N</td><td>8047</td><td>5</td><td>N</td><td>5</td><td>94</td><td>5</td><td>72</td><td>5</td><td>9997</td><td>5</td><td>90</td><td>5</td><td>N</td><td>51</td><td>5</td><td>244</td><td>5</td><td>M</td><td>N</td><td>4828</td><td>5</td><td>N</td><td>5</td><td>100</td><td>5</td><td>72</td><td>5</td><td>10003</td><td>5</td><td>15.731707317073171</td><td>15.352448169386856</td><td>14.694498708173168</td><td>13.604921632774285</td><td>13.763728326950856</td></tr><tr><td>2018</td><td>4</td><td>12</td><td>7</td><td>1</td><td>0</td><td>0</td><td>OH</td><td>ABE</td><td>PHL</td><td>283.0</td><td>1.0</td><td>1.0</td><td>1.0</td><td>55.0</td><td>1</td><td>2018-12-02T17:08:00.000+0000</td><td>2018-12-02T15:00:00.000+0000</td><td>2018-12-02T14:00:00.000+0000</td><td>2018-12-02T20:00:00.000+0000</td><td>2018-12-02T19:00:00.000+0000</td><td>26.0</td><td>2</td><td>72517014737</td><td>null</td><td>null</td><td>C</td><td>0</td><td>5</td><td>61</td><td>5</td><td>W</td><td>N</td><td>805</td><td>5</td><td>N</td><td>5</td><td>100</td><td>5</td><td>83</td><td>5</td><td>10031</td><td>5</td><td>null</td><td>null</td><td>C</td><td>0</td><td>5</td><td>91</td><td>5</td><td>M</td><td>N</td><td>805</td><td>A</td><td>N</td><td>A</td><td>100</td><td>5</td><td>83</td><td>5</td><td>10033</td><td>5</td><td>15.731707317073171</td><td>15.352448169386856</td><td>14.694498708173168</td><td>13.604921632774285</td><td>13.763728326950856</td></tr><tr><td>2018</td><td>4</td><td>12</td><td>2</td><td>1</td><td>0</td><td>0</td><td>OH</td><td>ABE</td><td>PHL</td><td>0.0</td><td>0.0</td><td>0.0</td><td>0.0</td><td>55.0</td><td>1</td><td>2018-12-04T17:08:00.000+0000</td><td>2018-12-04T15:00:00.000+0000</td><td>2018-12-04T14:00:00.000+0000</td><td>2018-12-04T20:00:00.000+0000</td><td>2018-12-04T19:00:00.000+0000</td><td>26.0</td><td>2</td><td>72517014737</td><td>330</td><td>5</td><td>N</td><td>46</td><td>5</td><td>22000</td><td>5</td><td>9</td><td>N</td><td>16093</td><td>5</td><td>N</td><td>5</td><td>28</td><td>5</td><td>-78</td><td>5</td><td>10161</td><td>5</td><td>300</td><td>5</td><td>N</td><td>51</td><td>5</td><td>22000</td><td>5</td><td>9</td><td>N</td><td>16093</td><td>5</td><td>N</td><td>5</td><td>39</td><td>5</td><td>-67</td><td>5</td><td>10158</td><td>5</td><td>15.731707317073171</td><td>15.352448169386856</td><td>14.694498708173168</td><td>13.604921632774285</td><td>13.763728326950856</td></tr><tr><td>2018</td><td>4</td><td>12</td><td>6</td><td>1</td><td>0</td><td>0</td><td>OH</td><td>ABE</td><td>PHL</td><td>0.0</td><td>0.0</td><td>0.0</td><td>0.0</td><td>55.0</td><td>1</td><td>2018-12-01T17:08:00.000+0000</td><td>2018-12-01T15:00:00.000+0000</td><td>2018-12-01T14:00:00.000+0000</td><td>2018-12-01T20:00:00.000+0000</td><td>2018-12-01T19:00:00.000+0000</td><td>26.0</td><td>2</td><td>72517014737</td><td>70</td><td>5</td><td>N</td><td>21</td><td>5</td><td>2134</td><td>5</td><td>M</td><td>N</td><td>16093</td><td>5</td><td>N</td><td>5</td><td>56</td><td>5</td><td>11</td><td>5</td><td>10210</td><td>5</td><td>10</td><td>5</td><td>N</td><td>15</td><td>5</td><td>671</td><td>5</td><td>M</td><td>N</td><td>16093</td><td>5</td><td>N</td><td>5</td><td>61</td><td>5</td><td>6</td><td>5</td><td>10215</td><td>5</td><td>15.731707317073171</td><td>15.352448169386856</td><td>14.694498708173168</td><td>13.604921632774285</td><td>13.763728326950856</td></tr><tr><td>2018</td><td>4</td><td>11</td><td>5</td><td>1</td><td>0</td><td>0</td><td>OH</td><td>ABE</td><td>PHL</td><td>0.0</td><td>0.0</td><td>0.0</td><td>0.0</td><td>55.0</td><td>1</td><td>2018-11-16T17:08:00.000+0000</td><td>2018-11-16T15:00:00.000+0000</td><td>2018-11-16T14:00:00.000+0000</td><td>2018-11-16T20:00:00.000+0000</td><td>2018-11-16T19:00:00.000+0000</td><td>26.0</td><td>2</td><td>72517014737</td><td>270</td><td>5</td><td>N</td><td>62</td><td>5</td><td>945</td><td>5</td><td>M</td><td>N</td><td>16093</td><td>5</td><td>N</td><td>5</td><td>44</td><td>5</td><td>-17</td><td>5</td><td>10105</td><td>5</td><td>260</td><td>5</td><td>N</td><td>51</td><td>5</td><td>945</td><td>5</td><td>M</td><td>N</td><td>16093</td><td>5</td><td>N</td><td>5</td><td>44</td><td>5</td><td>-17</td><td>5</td><td>10096</td><td>5</td><td>15.731707317073171</td><td>15.352448169386856</td><td>14.694498708173168</td><td>13.604921632774285</td><td>13.763728326950856</td></tr><tr><td>2018</td><td>4</td><td>12</td><td>2</td><td>1</td><td>0</td><td>0</td><td>OH</td><td>ABE</td><td>PHL</td><td>0.0</td><td>0.0</td><td>0.0</td><td>0.0</td><td>55.0</td><td>1</td><td>2018-12-11T17:08:00.000+0000</td><td>2018-12-11T15:00:00.000+0000</td><td>2018-12-11T14:00:00.000+0000</td><td>2018-12-11T20:00:00.000+0000</td><td>2018-12-11T19:00:00.000+0000</td><td>26.0</td><td>2</td><td>72517014737</td><td>250</td><td>5</td><td>N</td><td>41</td><td>5</td><td>22000</td><td>5</td><td>9</td><td>N</td><td>16093</td><td>5</td><td>N</td><td>5</td><td>28</td><td>5</td><td>-61</td><td>5</td><td>10154</td><td>5</td><td>230</td><td>5</td><td>N</td><td>41</td><td>5</td><td>22000</td><td>5</td><td>9</td><td>N</td><td>16093</td><td>5</td><td>N</td><td>5</td><td>33</td><td>5</td><td>-61</td><td>5</td><td>10158</td><td>5</td><td>15.731707317073171</td><td>15.352448169386856</td><td>14.694498708173168</td><td>13.604921632774285</td><td>13.763728326950856</td></tr></tbody></table></div>"
      ]
     },
     "metadata": {
      "application/vnd.databricks.v1+output": {
       "addedWidgets": {},
       "aggData": [],
       "aggError": "",
       "aggOverflow": false,
       "aggSchema": [],
       "aggSeriesLimitReached": false,
       "aggType": "",
       "arguments": {},
       "columnCustomDisplayInfos": {},
       "data": [
        [
         2018,
         4,
         11,
         1,
         "1",
         "0",
         "0",
         "OH",
         "ABE",
         "PHL",
         0,
         0,
         0,
         0,
         55,
         1,
         "2018-11-19T17:08:00.000+0000",
         "2018-11-19T15:00:00.000+0000",
         "2018-11-19T14:00:00.000+0000",
         "2018-11-19T20:00:00.000+0000",
         "2018-11-19T19:00:00.000+0000",
         26,
         "2",
         "72517014737",
         50,
         5,
         "N",
         36,
         "5",
         22000,
         "5",
         "9",
         "N",
         11265,
         "5",
         "N",
         "5",
         78,
         "5",
         33,
         "5",
         10162,
         "5",
         50,
         5,
         "N",
         26,
         "5",
         22000,
         "5",
         "9",
         "N",
         12875,
         "5",
         "N",
         "5",
         100,
         "5",
         39,
         "5",
         10165,
         "5",
         15.731707317073171,
         15.352448169386856,
         14.694498708173168,
         13.604921632774285,
         13.763728326950856
        ],
        [
         2018,
         4,
         12,
         7,
         "1",
         "0",
         "0",
         "OH",
         "ABE",
         "PHL",
         68,
         1,
         1,
         1,
         55,
         1,
         "2018-12-09T17:08:00.000+0000",
         "2018-12-09T15:00:00.000+0000",
         "2018-12-09T14:00:00.000+0000",
         "2018-12-09T20:00:00.000+0000",
         "2018-12-09T19:00:00.000+0000",
         26,
         "2",
         "72517014737",
         240,
         5,
         "N",
         26,
         "5",
         22000,
         "5",
         "9",
         "N",
         16093,
         "5",
         "N",
         "5",
         0,
         "5",
         -89,
         "5",
         10266,
         "5",
         270,
         5,
         "N",
         15,
         "5",
         22000,
         "5",
         "9",
         "N",
         16093,
         "5",
         "N",
         "5",
         6,
         "5",
         -94,
         "5",
         10271,
         "5",
         15.731707317073171,
         15.352448169386856,
         14.694498708173168,
         13.604921632774285,
         13.763728326950856
        ],
        [
         2018,
         4,
         11,
         5,
         "1",
         "0",
         "0",
         "OH",
         "ABE",
         "PHL",
         21,
         1,
         1,
         1,
         55,
         1,
         "2018-11-09T17:08:00.000+0000",
         "2018-11-09T15:00:00.000+0000",
         "2018-11-09T14:00:00.000+0000",
         "2018-11-09T20:00:00.000+0000",
         "2018-11-09T19:00:00.000+0000",
         26,
         "2",
         "72517014737",
         340,
         5,
         "N",
         46,
         "5",
         335,
         "5",
         "M",
         "N",
         4023,
         "5",
         "N",
         "5",
         78,
         "5",
         56,
         "5",
         10179,
         "5",
         60,
         5,
         "N",
         46,
         "5",
         549,
         "5",
         "M",
         "N",
         16093,
         "5",
         "N",
         "5",
         78,
         "5",
         50,
         "5",
         10173,
         "5",
         15.731707317073171,
         15.352448169386856,
         14.694498708173168,
         13.604921632774285,
         13.763728326950856
        ],
        [
         2018,
         4,
         11,
         2,
         "1",
         "0",
         "0",
         "OH",
         "ABE",
         "PHL",
         0,
         0,
         0,
         0,
         55,
         1,
         "2018-11-27T17:08:00.000+0000",
         "2018-11-27T15:00:00.000+0000",
         "2018-11-27T14:00:00.000+0000",
         "2018-11-27T20:00:00.000+0000",
         "2018-11-27T19:00:00.000+0000",
         26,
         "2",
         "72517014737",
         270,
         5,
         "N",
         62,
         "5",
         1189,
         "5",
         "M",
         "N",
         16093,
         "5",
         "N",
         "5",
         33,
         "5",
         -39,
         "5",
         9997,
         "5",
         270,
         5,
         "N",
         62,
         "5",
         1219,
         "5",
         "M",
         "N",
         16093,
         "5",
         "N",
         "5",
         39,
         "5",
         -39,
         "5",
         9998,
         "5",
         15.731707317073171,
         15.352448169386856,
         14.694498708173168,
         13.604921632774285,
         13.763728326950856
        ],
        [
         2018,
         4,
         11,
         1,
         "1",
         "0",
         "0",
         "OH",
         "ABE",
         "PHL",
         35,
         1,
         1,
         1,
         55,
         1,
         "2018-11-26T17:08:00.000+0000",
         "2018-11-26T15:00:00.000+0000",
         "2018-11-26T14:00:00.000+0000",
         "2018-11-26T20:00:00.000+0000",
         "2018-11-26T19:00:00.000+0000",
         26,
         "2",
         "72517014737",
         70,
         5,
         "N",
         41,
         "5",
         244,
         "5",
         "M",
         "N",
         8047,
         "5",
         "N",
         "5",
         94,
         "5",
         72,
         "5",
         9997,
         "5",
         90,
         5,
         "N",
         51,
         "5",
         244,
         "5",
         "M",
         "N",
         4828,
         "5",
         "N",
         "5",
         100,
         "5",
         72,
         "5",
         10003,
         "5",
         15.731707317073171,
         15.352448169386856,
         14.694498708173168,
         13.604921632774285,
         13.763728326950856
        ],
        [
         2018,
         4,
         12,
         7,
         "1",
         "0",
         "0",
         "OH",
         "ABE",
         "PHL",
         283,
         1,
         1,
         1,
         55,
         1,
         "2018-12-02T17:08:00.000+0000",
         "2018-12-02T15:00:00.000+0000",
         "2018-12-02T14:00:00.000+0000",
         "2018-12-02T20:00:00.000+0000",
         "2018-12-02T19:00:00.000+0000",
         26,
         "2",
         "72517014737",
         null,
         null,
         "C",
         0,
         "5",
         61,
         "5",
         "W",
         "N",
         805,
         "5",
         "N",
         "5",
         100,
         "5",
         83,
         "5",
         10031,
         "5",
         null,
         null,
         "C",
         0,
         "5",
         91,
         "5",
         "M",
         "N",
         805,
         "A",
         "N",
         "A",
         100,
         "5",
         83,
         "5",
         10033,
         "5",
         15.731707317073171,
         15.352448169386856,
         14.694498708173168,
         13.604921632774285,
         13.763728326950856
        ],
        [
         2018,
         4,
         12,
         2,
         "1",
         "0",
         "0",
         "OH",
         "ABE",
         "PHL",
         0,
         0,
         0,
         0,
         55,
         1,
         "2018-12-04T17:08:00.000+0000",
         "2018-12-04T15:00:00.000+0000",
         "2018-12-04T14:00:00.000+0000",
         "2018-12-04T20:00:00.000+0000",
         "2018-12-04T19:00:00.000+0000",
         26,
         "2",
         "72517014737",
         330,
         5,
         "N",
         46,
         "5",
         22000,
         "5",
         "9",
         "N",
         16093,
         "5",
         "N",
         "5",
         28,
         "5",
         -78,
         "5",
         10161,
         "5",
         300,
         5,
         "N",
         51,
         "5",
         22000,
         "5",
         "9",
         "N",
         16093,
         "5",
         "N",
         "5",
         39,
         "5",
         -67,
         "5",
         10158,
         "5",
         15.731707317073171,
         15.352448169386856,
         14.694498708173168,
         13.604921632774285,
         13.763728326950856
        ],
        [
         2018,
         4,
         12,
         6,
         "1",
         "0",
         "0",
         "OH",
         "ABE",
         "PHL",
         0,
         0,
         0,
         0,
         55,
         1,
         "2018-12-01T17:08:00.000+0000",
         "2018-12-01T15:00:00.000+0000",
         "2018-12-01T14:00:00.000+0000",
         "2018-12-01T20:00:00.000+0000",
         "2018-12-01T19:00:00.000+0000",
         26,
         "2",
         "72517014737",
         70,
         5,
         "N",
         21,
         "5",
         2134,
         "5",
         "M",
         "N",
         16093,
         "5",
         "N",
         "5",
         56,
         "5",
         11,
         "5",
         10210,
         "5",
         10,
         5,
         "N",
         15,
         "5",
         671,
         "5",
         "M",
         "N",
         16093,
         "5",
         "N",
         "5",
         61,
         "5",
         6,
         "5",
         10215,
         "5",
         15.731707317073171,
         15.352448169386856,
         14.694498708173168,
         13.604921632774285,
         13.763728326950856
        ],
        [
         2018,
         4,
         11,
         5,
         "1",
         "0",
         "0",
         "OH",
         "ABE",
         "PHL",
         0,
         0,
         0,
         0,
         55,
         1,
         "2018-11-16T17:08:00.000+0000",
         "2018-11-16T15:00:00.000+0000",
         "2018-11-16T14:00:00.000+0000",
         "2018-11-16T20:00:00.000+0000",
         "2018-11-16T19:00:00.000+0000",
         26,
         "2",
         "72517014737",
         270,
         5,
         "N",
         62,
         "5",
         945,
         "5",
         "M",
         "N",
         16093,
         "5",
         "N",
         "5",
         44,
         "5",
         -17,
         "5",
         10105,
         "5",
         260,
         5,
         "N",
         51,
         "5",
         945,
         "5",
         "M",
         "N",
         16093,
         "5",
         "N",
         "5",
         44,
         "5",
         -17,
         "5",
         10096,
         "5",
         15.731707317073171,
         15.352448169386856,
         14.694498708173168,
         13.604921632774285,
         13.763728326950856
        ],
        [
         2018,
         4,
         12,
         2,
         "1",
         "0",
         "0",
         "OH",
         "ABE",
         "PHL",
         0,
         0,
         0,
         0,
         55,
         1,
         "2018-12-11T17:08:00.000+0000",
         "2018-12-11T15:00:00.000+0000",
         "2018-12-11T14:00:00.000+0000",
         "2018-12-11T20:00:00.000+0000",
         "2018-12-11T19:00:00.000+0000",
         26,
         "2",
         "72517014737",
         250,
         5,
         "N",
         41,
         "5",
         22000,
         "5",
         "9",
         "N",
         16093,
         "5",
         "N",
         "5",
         28,
         "5",
         -61,
         "5",
         10154,
         "5",
         230,
         5,
         "N",
         41,
         "5",
         22000,
         "5",
         "9",
         "N",
         16093,
         "5",
         "N",
         "5",
         33,
         "5",
         -61,
         "5",
         10158,
         "5",
         15.731707317073171,
         15.352448169386856,
         14.694498708173168,
         13.604921632774285,
         13.763728326950856
        ]
       ],
       "datasetInfos": [],
       "dbfsResultPath": null,
       "isJsonSchema": true,
       "metadata": {},
       "overflow": false,
       "plotOptions": {
        "customPlotOptions": {},
        "displayType": "table",
        "pivotAggregation": null,
        "pivotColumns": null,
        "xColumns": null,
        "yColumns": null
       },
       "removedWidgets": [],
       "schema": [
        {
         "metadata": "{}",
         "name": "year",
         "type": "\"integer\""
        },
        {
         "metadata": "{}",
         "name": "quarter",
         "type": "\"integer\""
        },
        {
         "metadata": "{}",
         "name": "month",
         "type": "\"integer\""
        },
        {
         "metadata": "{}",
         "name": "day_of_week",
         "type": "\"integer\""
        },
        {
         "metadata": "{}",
         "name": "holiday",
         "type": "\"string\""
        },
        {
         "metadata": "{}",
         "name": "weather_obs_prev",
         "type": "\"string\""
        },
        {
         "metadata": "{}",
         "name": "weather_obs_prev_2",
         "type": "\"string\""
        },
        {
         "metadata": "{}",
         "name": "carrier",
         "type": "\"string\""
        },
        {
         "metadata": "{}",
         "name": "origin",
         "type": "\"string\""
        },
        {
         "metadata": "{}",
         "name": "destination",
         "type": "\"string\""
        },
        {
         "metadata": "{}",
         "name": "departure_delay",
         "type": "\"double\""
        },
        {
         "metadata": "{}",
         "name": "departure_delay_15",
         "type": "\"double\""
        },
        {
         "metadata": "{}",
         "name": "departure_delay_boolean",
         "type": "\"double\""
        },
        {
         "metadata": "{}",
         "name": "arrival_delay_boolean",
         "type": "\"double\""
        },
        {
         "metadata": "{}",
         "name": "distance",
         "type": "\"double\""
        },
        {
         "metadata": "{}",
         "name": "distance_group",
         "type": "\"integer\""
        },
        {
         "metadata": "{}",
         "name": "actual_timestamp",
         "type": "\"timestamp\""
        },
        {
         "metadata": "{}",
         "name": "hourly_timestamp",
         "type": "\"timestamp\""
        },
        {
         "metadata": "{}",
         "name": "prev_hourly_timestamp",
         "type": "\"timestamp\""
        },
        {
         "metadata": "{}",
         "name": "utc_hourly_timestamp",
         "type": "\"timestamp\""
        },
        {
         "metadata": "{}",
         "name": "utc_prev_hourly_timestamp",
         "type": "\"timestamp\""
        },
        {
         "metadata": "{}",
         "name": "planned_time_between_flights",
         "type": "\"double\""
        },
        {
         "metadata": "{}",
         "name": "prev_dep_delayed_confirmed",
         "type": "\"string\""
        },
        {
         "metadata": "{}",
         "name": "weather_station",
         "type": "\"string\""
        },
        {
         "metadata": "{}",
         "name": "wnd_angle_prev",
         "type": "\"integer\""
        },
        {
         "metadata": "{}",
         "name": "wnd_angle_qc_prev",
         "type": "\"integer\""
        },
        {
         "metadata": "{}",
         "name": "wnd_type_prev",
         "type": "\"string\""
        },
        {
         "metadata": "{}",
         "name": "wnd_speed_prev",
         "type": "\"integer\""
        },
        {
         "metadata": "{}",
         "name": "wnd_speed_qc_prev",
         "type": "\"string\""
        },
        {
         "metadata": "{}",
         "name": "wnd_cloud_angle_prev",
         "type": "\"integer\""
        },
        {
         "metadata": "{}",
         "name": "cig_cloud_angle_qc_prev",
         "type": "\"string\""
        },
        {
         "metadata": "{}",
         "name": "cig_method_prev",
         "type": "\"string\""
        },
        {
         "metadata": "{}",
         "name": "cig_cavok_prev",
         "type": "\"string\""
        },
        {
         "metadata": "{}",
         "name": "vis_dist_prev",
         "type": "\"integer\""
        },
        {
         "metadata": "{}",
         "name": "vis_dist_qc_prev",
         "type": "\"string\""
        },
        {
         "metadata": "{}",
         "name": "vis_var_prev",
         "type": "\"string\""
        },
        {
         "metadata": "{}",
         "name": "vis_var_qc_prev",
         "type": "\"string\""
        },
        {
         "metadata": "{}",
         "name": "tmp_c_prev",
         "type": "\"integer\""
        },
        {
         "metadata": "{}",
         "name": "tmp_qc_prev",
         "type": "\"string\""
        },
        {
         "metadata": "{}",
         "name": "dew_c_prev",
         "type": "\"integer\""
        },
        {
         "metadata": "{}",
         "name": "dew_qc_prev",
         "type": "\"string\""
        },
        {
         "metadata": "{}",
         "name": "slp_p_prev",
         "type": "\"integer\""
        },
        {
         "metadata": "{}",
         "name": "slp_qc_prev",
         "type": "\"string\""
        },
        {
         "metadata": "{}",
         "name": "wnd_angle_prev_2",
         "type": "\"integer\""
        },
        {
         "metadata": "{}",
         "name": "wnd_angle_qc_prev_2",
         "type": "\"integer\""
        },
        {
         "metadata": "{}",
         "name": "wnd_type_prev_2",
         "type": "\"string\""
        },
        {
         "metadata": "{}",
         "name": "wnd_speed_prev_2",
         "type": "\"integer\""
        },
        {
         "metadata": "{}",
         "name": "wnd_speed_qc_prev_2",
         "type": "\"string\""
        },
        {
         "metadata": "{}",
         "name": "wnd_cloud_angle_prev_2",
         "type": "\"integer\""
        },
        {
         "metadata": "{}",
         "name": "cig_cloud_angle_qc_prev_2",
         "type": "\"string\""
        },
        {
         "metadata": "{}",
         "name": "cig_method_prev_2",
         "type": "\"string\""
        },
        {
         "metadata": "{}",
         "name": "cig_cavok_prev_2",
         "type": "\"string\""
        },
        {
         "metadata": "{}",
         "name": "vis_dist_prev_2",
         "type": "\"integer\""
        },
        {
         "metadata": "{}",
         "name": "vis_dist_qc_prev_2",
         "type": "\"string\""
        },
        {
         "metadata": "{}",
         "name": "vis_var_prev_2",
         "type": "\"string\""
        },
        {
         "metadata": "{}",
         "name": "vis_var_qc_prev_2",
         "type": "\"string\""
        },
        {
         "metadata": "{}",
         "name": "tmp_c_prev_2",
         "type": "\"integer\""
        },
        {
         "metadata": "{}",
         "name": "tmp_qc_prev_2",
         "type": "\"string\""
        },
        {
         "metadata": "{}",
         "name": "dew_c_prev_2",
         "type": "\"integer\""
        },
        {
         "metadata": "{}",
         "name": "dew_qc_prev_2",
         "type": "\"string\""
        },
        {
         "metadata": "{}",
         "name": "slp_p_prev_2",
         "type": "\"integer\""
        },
        {
         "metadata": "{}",
         "name": "slp_qc_prev_2",
         "type": "\"string\""
        },
        {
         "metadata": "{}",
         "name": "route_delay",
         "type": "\"double\""
        },
        {
         "metadata": "{}",
         "name": "origin_arrival_delay",
         "type": "\"double\""
        },
        {
         "metadata": "{}",
         "name": "origin_departure_delay",
         "type": "\"double\""
        },
        {
         "metadata": "{}",
         "name": "dest_departure_delay",
         "type": "\"double\""
        },
        {
         "metadata": "{}",
         "name": "dest_arrival_delay",
         "type": "\"double\""
        }
       ],
       "type": "table"
      }
     },
     "output_type": "display_data"
    }
   ],
   "source": [
    "# Load joined dataset from Blob Storage\n",
    "\n",
    "# data_df = spark.read.parquet(f\"{blob_url}/3m_join/*\")\n",
    "# data_df = spark.read.parquet(f\"{blob_url}/3m_join_route/*\")\n",
    "\n",
    "full_data = True\n",
    "\n",
    "data_df = spark.read.parquet(f\"{blob_url}/full_join_route_v2/*\")\n",
    "\n",
    "display(data_df.limit(10))\n",
    "\n",
    "#print(data_df.count())"
   ]
  },
  {
   "cell_type": "markdown",
   "metadata": {
    "application/vnd.databricks.v1+cell": {
     "inputWidgets": {},
     "nuid": "fc838099-193d-44bd-a435-4cf2932f01bc",
     "showTitle": false,
     "title": ""
    }
   },
   "source": [
    "### Section 3 - Define helper functions"
   ]
  },
  {
   "cell_type": "code",
   "execution_count": 0,
   "metadata": {
    "application/vnd.databricks.v1+cell": {
     "inputWidgets": {},
     "nuid": "c6008e60-9797-470e-9f65-5c9440c03cb4",
     "showTitle": false,
     "title": ""
    }
   },
   "outputs": [
    {
     "data": {
      "text/html": [
       "<style scoped>\n",
       "  .ansiout {\n",
       "    display: block;\n",
       "    unicode-bidi: embed;\n",
       "    white-space: pre-wrap;\n",
       "    word-wrap: break-word;\n",
       "    word-break: break-all;\n",
       "    font-family: \"Source Code Pro\", \"Menlo\", monospace;;\n",
       "    font-size: 13px;\n",
       "    color: #555;\n",
       "    margin-left: 4px;\n",
       "    line-height: 19px;\n",
       "  }\n",
       "</style>\n",
       "<div class=\"ansiout\"></div>"
      ]
     },
     "metadata": {
      "application/vnd.databricks.v1+output": {
       "addedWidgets": {},
       "arguments": {},
       "data": "<div class=\"ansiout\"></div>",
       "datasetInfos": [],
       "metadata": {},
       "removedWidgets": [],
       "type": "html"
      }
     },
     "output_type": "display_data"
    }
   ],
   "source": [
    "# Helper function 1:\n",
    "\n",
    "def missing_values(helper_df, sort=False):\n",
    "  \"\"\"\n",
    "  Helper function to count number of nulls and nans in each column\n",
    "  \"\"\"\n",
    "  df = helper_df.select([F.count(F.when(F.isnan(c) | F.isnull(c), c)).alias(c) for (c,c_type) in helper_df.dtypes if c_type not in ('timestamp')]).toPandas()\n",
    "  \n",
    "  if len(df) == 0:\n",
    "    print(\"There are no missing values\")\n",
    "    return None\n",
    "  \n",
    "  if sort:\n",
    "    return df.rename(index={0: 'count'}).T.sort_values(\"count\", ascending=False)\n",
    "  \n",
    "  return df\n"
   ]
  },
  {
   "cell_type": "code",
   "execution_count": 0,
   "metadata": {
    "application/vnd.databricks.v1+cell": {
     "inputWidgets": {},
     "nuid": "745bb5b0-8e6a-48b8-b7e4-6267932d63c2",
     "showTitle": false,
     "title": ""
    }
   },
   "outputs": [
    {
     "data": {
      "text/html": [
       "<style scoped>\n",
       "  .ansiout {\n",
       "    display: block;\n",
       "    unicode-bidi: embed;\n",
       "    white-space: pre-wrap;\n",
       "    word-wrap: break-word;\n",
       "    word-break: break-all;\n",
       "    font-family: \"Source Code Pro\", \"Menlo\", monospace;;\n",
       "    font-size: 13px;\n",
       "    color: #555;\n",
       "    margin-left: 4px;\n",
       "    line-height: 19px;\n",
       "  }\n",
       "</style>\n",
       "<div class=\"ansiout\"></div>"
      ]
     },
     "metadata": {
      "application/vnd.databricks.v1+output": {
       "addedWidgets": {},
       "arguments": {},
       "data": "<div class=\"ansiout\"></div>",
       "datasetInfos": [],
       "metadata": {},
       "removedWidgets": [],
       "type": "html"
      }
     },
     "output_type": "display_data"
    }
   ],
   "source": [
    "# Helper function 2\n",
    "\n",
    "def print_results(predictions):\n",
    "  \"\"\"\n",
    "  Helper function to print evaluation metrics\n",
    "  \"\"\"\n",
    "  tp = predictions[(predictions.departure_delay_boolean == 1) & (predictions.prediction == 1)].count()\n",
    "  tn = predictions[(predictions.departure_delay_boolean == 0) & (predictions.prediction == 0)].count()\n",
    "  fp = predictions[(predictions.departure_delay_boolean == 0) & (predictions.prediction == 1)].count()\n",
    "  fn = predictions[(predictions.departure_delay_boolean == 1) & (predictions.prediction == 0)].count()\n",
    "  total = predictions.count()\n",
    "  \n",
    "  recall = float(tp)/(tp+fn)\n",
    "  precision = float(tp)/(tp+fp)\n",
    "  f1 = (2*recall*precision)/(precision+recall)\n",
    "  \n",
    "  data = {'Actual-delay': [tp, fn], 'Actual-on time': [fp, tn]}\n",
    "  confusion_matrix = pd.DataFrame.from_dict(data, orient='index', columns=['Predicted-delay', 'Predicted-on time'])\n",
    "  \n",
    "  #print(\"Test Area Under ROC: \", \"{:.2f}\".format(evaluator.evaluate(predictions, {evaluator.metricName: 'areaUnderROC'})))\n",
    "  #print(\"Test Area Under Precision-Recall Curve: \", \"{:.2f}\".format(evaluator.evaluate(predictions, {evaluator.metricName: 'areaUnderPR'})))\n",
    "\n",
    "  print(\"Sensitivity: {:.2%}\".format(tp/(tp + fn)))\n",
    "  print(\"Specificity: {:.2%}\".format(tn/(tn + fp)))\n",
    "  print(\"False positive rate: {:.2%}\".format(fp/(fp + tn)))\n",
    "  print(\"False negative rate: {:.2%}\".format(fn/(tp + fn)))\n",
    "  print(\"Recall: {:.2%}\".format(recall))\n",
    "  print(\"Precision: {:.2%}\".format(precision))\n",
    "  print(\"f1: {:.2%}\".format(f1))\n",
    "  \n",
    "  print(\"########### Confusion Matrix ###########\")\n",
    "  print(confusion_matrix)\n"
   ]
  },
  {
   "cell_type": "markdown",
   "metadata": {
    "application/vnd.databricks.v1+cell": {
     "inputWidgets": {},
     "nuid": "6edf1f34-7364-49e0-a42c-07e67aa275f5",
     "showTitle": false,
     "title": ""
    }
   },
   "source": [
    "### Section 4 - Feature Engineering"
   ]
  },
  {
   "cell_type": "code",
   "execution_count": 0,
   "metadata": {
    "application/vnd.databricks.v1+cell": {
     "inputWidgets": {},
     "nuid": "635bd167-5067-4221-8f4e-2d81ec5d16e8",
     "showTitle": false,
     "title": ""
    }
   },
   "outputs": [
    {
     "data": {
      "text/html": [
       "<style scoped>\n",
       "  .table-result-container {\n",
       "    max-height: 300px;\n",
       "    overflow: auto;\n",
       "  }\n",
       "  table, th, td {\n",
       "    border: 1px solid black;\n",
       "    border-collapse: collapse;\n",
       "  }\n",
       "  th, td {\n",
       "    padding: 5px;\n",
       "  }\n",
       "  th {\n",
       "    text-align: left;\n",
       "  }\n",
       "</style><div class='table-result-container'><table class='table-result'><thead style='background-color: white'><tr><th>year</th><th>quarter</th><th>month</th><th>day_of_week</th><th>holiday</th><th>weather_obs_prev</th><th>weather_obs_prev_2</th><th>carrier</th><th>origin</th><th>destination</th><th>departure_delay</th><th>departure_delay_15</th><th>departure_delay_boolean</th><th>arrival_delay_boolean</th><th>distance</th><th>distance_group</th><th>actual_timestamp</th><th>hourly_timestamp</th><th>prev_hourly_timestamp</th><th>utc_hourly_timestamp</th><th>utc_prev_hourly_timestamp</th><th>planned_time_between_flights</th><th>prev_dep_delayed_confirmed</th><th>weather_station</th><th>wnd_angle_prev</th><th>wnd_angle_qc_prev</th><th>wnd_type_prev</th><th>wnd_speed_prev</th><th>wnd_speed_qc_prev</th><th>wnd_cloud_angle_prev</th><th>cig_cloud_angle_qc_prev</th><th>cig_method_prev</th><th>cig_cavok_prev</th><th>vis_dist_prev</th><th>vis_dist_qc_prev</th><th>vis_var_prev</th><th>vis_var_qc_prev</th><th>tmp_c_prev</th><th>tmp_qc_prev</th><th>dew_c_prev</th><th>dew_qc_prev</th><th>slp_p_prev</th><th>slp_qc_prev</th><th>wnd_angle_prev_2</th><th>wnd_angle_qc_prev_2</th><th>wnd_type_prev_2</th><th>wnd_speed_prev_2</th><th>wnd_speed_qc_prev_2</th><th>wnd_cloud_angle_prev_2</th><th>cig_cloud_angle_qc_prev_2</th><th>cig_method_prev_2</th><th>cig_cavok_prev_2</th><th>vis_dist_prev_2</th><th>vis_dist_qc_prev_2</th><th>vis_var_prev_2</th><th>vis_var_qc_prev_2</th><th>tmp_c_prev_2</th><th>tmp_qc_prev_2</th><th>dew_c_prev_2</th><th>dew_qc_prev_2</th><th>slp_p_prev_2</th><th>slp_qc_prev_2</th><th>route_delay</th><th>origin_arrival_delay</th><th>origin_departure_delay</th><th>dest_departure_delay</th><th>dest_arrival_delay</th><th>hour</th></tr></thead><tbody><tr><td>2018</td><td>4</td><td>11</td><td>1</td><td>1</td><td>0</td><td>0</td><td>OH</td><td>ABE</td><td>PHL</td><td>0.0</td><td>0.0</td><td>0.0</td><td>0.0</td><td>55.0</td><td>1</td><td>2018-11-19T17:08:00.000+0000</td><td>2018-11-19T15:00:00.000+0000</td><td>2018-11-19T14:00:00.000+0000</td><td>2018-11-19T20:00:00.000+0000</td><td>2018-11-19T19:00:00.000+0000</td><td>26.0</td><td>2</td><td>72517014737</td><td>50</td><td>5</td><td>N</td><td>36</td><td>5</td><td>22000</td><td>5</td><td>9</td><td>N</td><td>11265</td><td>5</td><td>N</td><td>5</td><td>78</td><td>5</td><td>33</td><td>5</td><td>10162</td><td>5</td><td>50</td><td>5</td><td>N</td><td>26</td><td>5</td><td>22000</td><td>5</td><td>9</td><td>N</td><td>12875</td><td>5</td><td>N</td><td>5</td><td>100</td><td>5</td><td>39</td><td>5</td><td>10165</td><td>5</td><td>15.731707317073171</td><td>15.352448169386856</td><td>14.694498708173168</td><td>13.604921632774285</td><td>13.763728326950856</td><td>17</td></tr><tr><td>2018</td><td>4</td><td>12</td><td>7</td><td>1</td><td>0</td><td>0</td><td>OH</td><td>ABE</td><td>PHL</td><td>68.0</td><td>1.0</td><td>1.0</td><td>1.0</td><td>55.0</td><td>1</td><td>2018-12-09T17:08:00.000+0000</td><td>2018-12-09T15:00:00.000+0000</td><td>2018-12-09T14:00:00.000+0000</td><td>2018-12-09T20:00:00.000+0000</td><td>2018-12-09T19:00:00.000+0000</td><td>26.0</td><td>2</td><td>72517014737</td><td>240</td><td>5</td><td>N</td><td>26</td><td>5</td><td>22000</td><td>5</td><td>9</td><td>N</td><td>16093</td><td>5</td><td>N</td><td>5</td><td>0</td><td>5</td><td>-89</td><td>5</td><td>10266</td><td>5</td><td>270</td><td>5</td><td>N</td><td>15</td><td>5</td><td>22000</td><td>5</td><td>9</td><td>N</td><td>16093</td><td>5</td><td>N</td><td>5</td><td>6</td><td>5</td><td>-94</td><td>5</td><td>10271</td><td>5</td><td>15.731707317073171</td><td>15.352448169386856</td><td>14.694498708173168</td><td>13.604921632774285</td><td>13.763728326950856</td><td>17</td></tr><tr><td>2018</td><td>4</td><td>11</td><td>5</td><td>1</td><td>0</td><td>0</td><td>OH</td><td>ABE</td><td>PHL</td><td>21.0</td><td>1.0</td><td>1.0</td><td>1.0</td><td>55.0</td><td>1</td><td>2018-11-09T17:08:00.000+0000</td><td>2018-11-09T15:00:00.000+0000</td><td>2018-11-09T14:00:00.000+0000</td><td>2018-11-09T20:00:00.000+0000</td><td>2018-11-09T19:00:00.000+0000</td><td>26.0</td><td>2</td><td>72517014737</td><td>340</td><td>5</td><td>N</td><td>46</td><td>5</td><td>335</td><td>5</td><td>M</td><td>N</td><td>4023</td><td>5</td><td>N</td><td>5</td><td>78</td><td>5</td><td>56</td><td>5</td><td>10179</td><td>5</td><td>60</td><td>5</td><td>N</td><td>46</td><td>5</td><td>549</td><td>5</td><td>M</td><td>N</td><td>16093</td><td>5</td><td>N</td><td>5</td><td>78</td><td>5</td><td>50</td><td>5</td><td>10173</td><td>5</td><td>15.731707317073171</td><td>15.352448169386856</td><td>14.694498708173168</td><td>13.604921632774285</td><td>13.763728326950856</td><td>17</td></tr><tr><td>2018</td><td>4</td><td>11</td><td>2</td><td>1</td><td>0</td><td>0</td><td>OH</td><td>ABE</td><td>PHL</td><td>0.0</td><td>0.0</td><td>0.0</td><td>0.0</td><td>55.0</td><td>1</td><td>2018-11-27T17:08:00.000+0000</td><td>2018-11-27T15:00:00.000+0000</td><td>2018-11-27T14:00:00.000+0000</td><td>2018-11-27T20:00:00.000+0000</td><td>2018-11-27T19:00:00.000+0000</td><td>26.0</td><td>2</td><td>72517014737</td><td>270</td><td>5</td><td>N</td><td>62</td><td>5</td><td>1189</td><td>5</td><td>M</td><td>N</td><td>16093</td><td>5</td><td>N</td><td>5</td><td>33</td><td>5</td><td>-39</td><td>5</td><td>9997</td><td>5</td><td>270</td><td>5</td><td>N</td><td>62</td><td>5</td><td>1219</td><td>5</td><td>M</td><td>N</td><td>16093</td><td>5</td><td>N</td><td>5</td><td>39</td><td>5</td><td>-39</td><td>5</td><td>9998</td><td>5</td><td>15.731707317073171</td><td>15.352448169386856</td><td>14.694498708173168</td><td>13.604921632774285</td><td>13.763728326950856</td><td>17</td></tr><tr><td>2018</td><td>4</td><td>11</td><td>1</td><td>1</td><td>0</td><td>0</td><td>OH</td><td>ABE</td><td>PHL</td><td>35.0</td><td>1.0</td><td>1.0</td><td>1.0</td><td>55.0</td><td>1</td><td>2018-11-26T17:08:00.000+0000</td><td>2018-11-26T15:00:00.000+0000</td><td>2018-11-26T14:00:00.000+0000</td><td>2018-11-26T20:00:00.000+0000</td><td>2018-11-26T19:00:00.000+0000</td><td>26.0</td><td>2</td><td>72517014737</td><td>70</td><td>5</td><td>N</td><td>41</td><td>5</td><td>244</td><td>5</td><td>M</td><td>N</td><td>8047</td><td>5</td><td>N</td><td>5</td><td>94</td><td>5</td><td>72</td><td>5</td><td>9997</td><td>5</td><td>90</td><td>5</td><td>N</td><td>51</td><td>5</td><td>244</td><td>5</td><td>M</td><td>N</td><td>4828</td><td>5</td><td>N</td><td>5</td><td>100</td><td>5</td><td>72</td><td>5</td><td>10003</td><td>5</td><td>15.731707317073171</td><td>15.352448169386856</td><td>14.694498708173168</td><td>13.604921632774285</td><td>13.763728326950856</td><td>17</td></tr><tr><td>2018</td><td>4</td><td>12</td><td>7</td><td>1</td><td>0</td><td>0</td><td>OH</td><td>ABE</td><td>PHL</td><td>283.0</td><td>1.0</td><td>1.0</td><td>1.0</td><td>55.0</td><td>1</td><td>2018-12-02T17:08:00.000+0000</td><td>2018-12-02T15:00:00.000+0000</td><td>2018-12-02T14:00:00.000+0000</td><td>2018-12-02T20:00:00.000+0000</td><td>2018-12-02T19:00:00.000+0000</td><td>26.0</td><td>2</td><td>72517014737</td><td>null</td><td>null</td><td>C</td><td>0</td><td>5</td><td>61</td><td>5</td><td>W</td><td>N</td><td>805</td><td>5</td><td>N</td><td>5</td><td>100</td><td>5</td><td>83</td><td>5</td><td>10031</td><td>5</td><td>null</td><td>null</td><td>C</td><td>0</td><td>5</td><td>91</td><td>5</td><td>M</td><td>N</td><td>805</td><td>A</td><td>N</td><td>A</td><td>100</td><td>5</td><td>83</td><td>5</td><td>10033</td><td>5</td><td>15.731707317073171</td><td>15.352448169386856</td><td>14.694498708173168</td><td>13.604921632774285</td><td>13.763728326950856</td><td>17</td></tr><tr><td>2018</td><td>4</td><td>12</td><td>2</td><td>1</td><td>0</td><td>0</td><td>OH</td><td>ABE</td><td>PHL</td><td>0.0</td><td>0.0</td><td>0.0</td><td>0.0</td><td>55.0</td><td>1</td><td>2018-12-04T17:08:00.000+0000</td><td>2018-12-04T15:00:00.000+0000</td><td>2018-12-04T14:00:00.000+0000</td><td>2018-12-04T20:00:00.000+0000</td><td>2018-12-04T19:00:00.000+0000</td><td>26.0</td><td>2</td><td>72517014737</td><td>330</td><td>5</td><td>N</td><td>46</td><td>5</td><td>22000</td><td>5</td><td>9</td><td>N</td><td>16093</td><td>5</td><td>N</td><td>5</td><td>28</td><td>5</td><td>-78</td><td>5</td><td>10161</td><td>5</td><td>300</td><td>5</td><td>N</td><td>51</td><td>5</td><td>22000</td><td>5</td><td>9</td><td>N</td><td>16093</td><td>5</td><td>N</td><td>5</td><td>39</td><td>5</td><td>-67</td><td>5</td><td>10158</td><td>5</td><td>15.731707317073171</td><td>15.352448169386856</td><td>14.694498708173168</td><td>13.604921632774285</td><td>13.763728326950856</td><td>17</td></tr><tr><td>2018</td><td>4</td><td>12</td><td>6</td><td>1</td><td>0</td><td>0</td><td>OH</td><td>ABE</td><td>PHL</td><td>0.0</td><td>0.0</td><td>0.0</td><td>0.0</td><td>55.0</td><td>1</td><td>2018-12-01T17:08:00.000+0000</td><td>2018-12-01T15:00:00.000+0000</td><td>2018-12-01T14:00:00.000+0000</td><td>2018-12-01T20:00:00.000+0000</td><td>2018-12-01T19:00:00.000+0000</td><td>26.0</td><td>2</td><td>72517014737</td><td>70</td><td>5</td><td>N</td><td>21</td><td>5</td><td>2134</td><td>5</td><td>M</td><td>N</td><td>16093</td><td>5</td><td>N</td><td>5</td><td>56</td><td>5</td><td>11</td><td>5</td><td>10210</td><td>5</td><td>10</td><td>5</td><td>N</td><td>15</td><td>5</td><td>671</td><td>5</td><td>M</td><td>N</td><td>16093</td><td>5</td><td>N</td><td>5</td><td>61</td><td>5</td><td>6</td><td>5</td><td>10215</td><td>5</td><td>15.731707317073171</td><td>15.352448169386856</td><td>14.694498708173168</td><td>13.604921632774285</td><td>13.763728326950856</td><td>17</td></tr><tr><td>2018</td><td>4</td><td>11</td><td>5</td><td>1</td><td>0</td><td>0</td><td>OH</td><td>ABE</td><td>PHL</td><td>0.0</td><td>0.0</td><td>0.0</td><td>0.0</td><td>55.0</td><td>1</td><td>2018-11-16T17:08:00.000+0000</td><td>2018-11-16T15:00:00.000+0000</td><td>2018-11-16T14:00:00.000+0000</td><td>2018-11-16T20:00:00.000+0000</td><td>2018-11-16T19:00:00.000+0000</td><td>26.0</td><td>2</td><td>72517014737</td><td>270</td><td>5</td><td>N</td><td>62</td><td>5</td><td>945</td><td>5</td><td>M</td><td>N</td><td>16093</td><td>5</td><td>N</td><td>5</td><td>44</td><td>5</td><td>-17</td><td>5</td><td>10105</td><td>5</td><td>260</td><td>5</td><td>N</td><td>51</td><td>5</td><td>945</td><td>5</td><td>M</td><td>N</td><td>16093</td><td>5</td><td>N</td><td>5</td><td>44</td><td>5</td><td>-17</td><td>5</td><td>10096</td><td>5</td><td>15.731707317073171</td><td>15.352448169386856</td><td>14.694498708173168</td><td>13.604921632774285</td><td>13.763728326950856</td><td>17</td></tr><tr><td>2018</td><td>4</td><td>12</td><td>2</td><td>1</td><td>0</td><td>0</td><td>OH</td><td>ABE</td><td>PHL</td><td>0.0</td><td>0.0</td><td>0.0</td><td>0.0</td><td>55.0</td><td>1</td><td>2018-12-11T17:08:00.000+0000</td><td>2018-12-11T15:00:00.000+0000</td><td>2018-12-11T14:00:00.000+0000</td><td>2018-12-11T20:00:00.000+0000</td><td>2018-12-11T19:00:00.000+0000</td><td>26.0</td><td>2</td><td>72517014737</td><td>250</td><td>5</td><td>N</td><td>41</td><td>5</td><td>22000</td><td>5</td><td>9</td><td>N</td><td>16093</td><td>5</td><td>N</td><td>5</td><td>28</td><td>5</td><td>-61</td><td>5</td><td>10154</td><td>5</td><td>230</td><td>5</td><td>N</td><td>41</td><td>5</td><td>22000</td><td>5</td><td>9</td><td>N</td><td>16093</td><td>5</td><td>N</td><td>5</td><td>33</td><td>5</td><td>-61</td><td>5</td><td>10158</td><td>5</td><td>15.731707317073171</td><td>15.352448169386856</td><td>14.694498708173168</td><td>13.604921632774285</td><td>13.763728326950856</td><td>17</td></tr></tbody></table></div>"
      ]
     },
     "metadata": {
      "application/vnd.databricks.v1+output": {
       "addedWidgets": {},
       "aggData": [],
       "aggError": "",
       "aggOverflow": false,
       "aggSchema": [],
       "aggSeriesLimitReached": false,
       "aggType": "",
       "arguments": {},
       "columnCustomDisplayInfos": {},
       "data": [
        [
         2018,
         4,
         11,
         1,
         "1",
         "0",
         "0",
         "OH",
         "ABE",
         "PHL",
         0,
         0,
         0,
         0,
         55,
         1,
         "2018-11-19T17:08:00.000+0000",
         "2018-11-19T15:00:00.000+0000",
         "2018-11-19T14:00:00.000+0000",
         "2018-11-19T20:00:00.000+0000",
         "2018-11-19T19:00:00.000+0000",
         26,
         "2",
         "72517014737",
         50,
         5,
         "N",
         36,
         "5",
         22000,
         "5",
         "9",
         "N",
         11265,
         "5",
         "N",
         "5",
         78,
         "5",
         33,
         "5",
         10162,
         "5",
         50,
         5,
         "N",
         26,
         "5",
         22000,
         "5",
         "9",
         "N",
         12875,
         "5",
         "N",
         "5",
         100,
         "5",
         39,
         "5",
         10165,
         "5",
         15.731707317073171,
         15.352448169386856,
         14.694498708173168,
         13.604921632774285,
         13.763728326950856,
         17
        ],
        [
         2018,
         4,
         12,
         7,
         "1",
         "0",
         "0",
         "OH",
         "ABE",
         "PHL",
         68,
         1,
         1,
         1,
         55,
         1,
         "2018-12-09T17:08:00.000+0000",
         "2018-12-09T15:00:00.000+0000",
         "2018-12-09T14:00:00.000+0000",
         "2018-12-09T20:00:00.000+0000",
         "2018-12-09T19:00:00.000+0000",
         26,
         "2",
         "72517014737",
         240,
         5,
         "N",
         26,
         "5",
         22000,
         "5",
         "9",
         "N",
         16093,
         "5",
         "N",
         "5",
         0,
         "5",
         -89,
         "5",
         10266,
         "5",
         270,
         5,
         "N",
         15,
         "5",
         22000,
         "5",
         "9",
         "N",
         16093,
         "5",
         "N",
         "5",
         6,
         "5",
         -94,
         "5",
         10271,
         "5",
         15.731707317073171,
         15.352448169386856,
         14.694498708173168,
         13.604921632774285,
         13.763728326950856,
         17
        ],
        [
         2018,
         4,
         11,
         5,
         "1",
         "0",
         "0",
         "OH",
         "ABE",
         "PHL",
         21,
         1,
         1,
         1,
         55,
         1,
         "2018-11-09T17:08:00.000+0000",
         "2018-11-09T15:00:00.000+0000",
         "2018-11-09T14:00:00.000+0000",
         "2018-11-09T20:00:00.000+0000",
         "2018-11-09T19:00:00.000+0000",
         26,
         "2",
         "72517014737",
         340,
         5,
         "N",
         46,
         "5",
         335,
         "5",
         "M",
         "N",
         4023,
         "5",
         "N",
         "5",
         78,
         "5",
         56,
         "5",
         10179,
         "5",
         60,
         5,
         "N",
         46,
         "5",
         549,
         "5",
         "M",
         "N",
         16093,
         "5",
         "N",
         "5",
         78,
         "5",
         50,
         "5",
         10173,
         "5",
         15.731707317073171,
         15.352448169386856,
         14.694498708173168,
         13.604921632774285,
         13.763728326950856,
         17
        ],
        [
         2018,
         4,
         11,
         2,
         "1",
         "0",
         "0",
         "OH",
         "ABE",
         "PHL",
         0,
         0,
         0,
         0,
         55,
         1,
         "2018-11-27T17:08:00.000+0000",
         "2018-11-27T15:00:00.000+0000",
         "2018-11-27T14:00:00.000+0000",
         "2018-11-27T20:00:00.000+0000",
         "2018-11-27T19:00:00.000+0000",
         26,
         "2",
         "72517014737",
         270,
         5,
         "N",
         62,
         "5",
         1189,
         "5",
         "M",
         "N",
         16093,
         "5",
         "N",
         "5",
         33,
         "5",
         -39,
         "5",
         9997,
         "5",
         270,
         5,
         "N",
         62,
         "5",
         1219,
         "5",
         "M",
         "N",
         16093,
         "5",
         "N",
         "5",
         39,
         "5",
         -39,
         "5",
         9998,
         "5",
         15.731707317073171,
         15.352448169386856,
         14.694498708173168,
         13.604921632774285,
         13.763728326950856,
         17
        ],
        [
         2018,
         4,
         11,
         1,
         "1",
         "0",
         "0",
         "OH",
         "ABE",
         "PHL",
         35,
         1,
         1,
         1,
         55,
         1,
         "2018-11-26T17:08:00.000+0000",
         "2018-11-26T15:00:00.000+0000",
         "2018-11-26T14:00:00.000+0000",
         "2018-11-26T20:00:00.000+0000",
         "2018-11-26T19:00:00.000+0000",
         26,
         "2",
         "72517014737",
         70,
         5,
         "N",
         41,
         "5",
         244,
         "5",
         "M",
         "N",
         8047,
         "5",
         "N",
         "5",
         94,
         "5",
         72,
         "5",
         9997,
         "5",
         90,
         5,
         "N",
         51,
         "5",
         244,
         "5",
         "M",
         "N",
         4828,
         "5",
         "N",
         "5",
         100,
         "5",
         72,
         "5",
         10003,
         "5",
         15.731707317073171,
         15.352448169386856,
         14.694498708173168,
         13.604921632774285,
         13.763728326950856,
         17
        ],
        [
         2018,
         4,
         12,
         7,
         "1",
         "0",
         "0",
         "OH",
         "ABE",
         "PHL",
         283,
         1,
         1,
         1,
         55,
         1,
         "2018-12-02T17:08:00.000+0000",
         "2018-12-02T15:00:00.000+0000",
         "2018-12-02T14:00:00.000+0000",
         "2018-12-02T20:00:00.000+0000",
         "2018-12-02T19:00:00.000+0000",
         26,
         "2",
         "72517014737",
         null,
         null,
         "C",
         0,
         "5",
         61,
         "5",
         "W",
         "N",
         805,
         "5",
         "N",
         "5",
         100,
         "5",
         83,
         "5",
         10031,
         "5",
         null,
         null,
         "C",
         0,
         "5",
         91,
         "5",
         "M",
         "N",
         805,
         "A",
         "N",
         "A",
         100,
         "5",
         83,
         "5",
         10033,
         "5",
         15.731707317073171,
         15.352448169386856,
         14.694498708173168,
         13.604921632774285,
         13.763728326950856,
         17
        ],
        [
         2018,
         4,
         12,
         2,
         "1",
         "0",
         "0",
         "OH",
         "ABE",
         "PHL",
         0,
         0,
         0,
         0,
         55,
         1,
         "2018-12-04T17:08:00.000+0000",
         "2018-12-04T15:00:00.000+0000",
         "2018-12-04T14:00:00.000+0000",
         "2018-12-04T20:00:00.000+0000",
         "2018-12-04T19:00:00.000+0000",
         26,
         "2",
         "72517014737",
         330,
         5,
         "N",
         46,
         "5",
         22000,
         "5",
         "9",
         "N",
         16093,
         "5",
         "N",
         "5",
         28,
         "5",
         -78,
         "5",
         10161,
         "5",
         300,
         5,
         "N",
         51,
         "5",
         22000,
         "5",
         "9",
         "N",
         16093,
         "5",
         "N",
         "5",
         39,
         "5",
         -67,
         "5",
         10158,
         "5",
         15.731707317073171,
         15.352448169386856,
         14.694498708173168,
         13.604921632774285,
         13.763728326950856,
         17
        ],
        [
         2018,
         4,
         12,
         6,
         "1",
         "0",
         "0",
         "OH",
         "ABE",
         "PHL",
         0,
         0,
         0,
         0,
         55,
         1,
         "2018-12-01T17:08:00.000+0000",
         "2018-12-01T15:00:00.000+0000",
         "2018-12-01T14:00:00.000+0000",
         "2018-12-01T20:00:00.000+0000",
         "2018-12-01T19:00:00.000+0000",
         26,
         "2",
         "72517014737",
         70,
         5,
         "N",
         21,
         "5",
         2134,
         "5",
         "M",
         "N",
         16093,
         "5",
         "N",
         "5",
         56,
         "5",
         11,
         "5",
         10210,
         "5",
         10,
         5,
         "N",
         15,
         "5",
         671,
         "5",
         "M",
         "N",
         16093,
         "5",
         "N",
         "5",
         61,
         "5",
         6,
         "5",
         10215,
         "5",
         15.731707317073171,
         15.352448169386856,
         14.694498708173168,
         13.604921632774285,
         13.763728326950856,
         17
        ],
        [
         2018,
         4,
         11,
         5,
         "1",
         "0",
         "0",
         "OH",
         "ABE",
         "PHL",
         0,
         0,
         0,
         0,
         55,
         1,
         "2018-11-16T17:08:00.000+0000",
         "2018-11-16T15:00:00.000+0000",
         "2018-11-16T14:00:00.000+0000",
         "2018-11-16T20:00:00.000+0000",
         "2018-11-16T19:00:00.000+0000",
         26,
         "2",
         "72517014737",
         270,
         5,
         "N",
         62,
         "5",
         945,
         "5",
         "M",
         "N",
         16093,
         "5",
         "N",
         "5",
         44,
         "5",
         -17,
         "5",
         10105,
         "5",
         260,
         5,
         "N",
         51,
         "5",
         945,
         "5",
         "M",
         "N",
         16093,
         "5",
         "N",
         "5",
         44,
         "5",
         -17,
         "5",
         10096,
         "5",
         15.731707317073171,
         15.352448169386856,
         14.694498708173168,
         13.604921632774285,
         13.763728326950856,
         17
        ],
        [
         2018,
         4,
         12,
         2,
         "1",
         "0",
         "0",
         "OH",
         "ABE",
         "PHL",
         0,
         0,
         0,
         0,
         55,
         1,
         "2018-12-11T17:08:00.000+0000",
         "2018-12-11T15:00:00.000+0000",
         "2018-12-11T14:00:00.000+0000",
         "2018-12-11T20:00:00.000+0000",
         "2018-12-11T19:00:00.000+0000",
         26,
         "2",
         "72517014737",
         250,
         5,
         "N",
         41,
         "5",
         22000,
         "5",
         "9",
         "N",
         16093,
         "5",
         "N",
         "5",
         28,
         "5",
         -61,
         "5",
         10154,
         "5",
         230,
         5,
         "N",
         41,
         "5",
         22000,
         "5",
         "9",
         "N",
         16093,
         "5",
         "N",
         "5",
         33,
         "5",
         -61,
         "5",
         10158,
         "5",
         15.731707317073171,
         15.352448169386856,
         14.694498708173168,
         13.604921632774285,
         13.763728326950856,
         17
        ]
       ],
       "datasetInfos": [],
       "dbfsResultPath": null,
       "isJsonSchema": true,
       "metadata": {},
       "overflow": false,
       "plotOptions": {
        "customPlotOptions": {},
        "displayType": "table",
        "pivotAggregation": null,
        "pivotColumns": null,
        "xColumns": null,
        "yColumns": null
       },
       "removedWidgets": [],
       "schema": [
        {
         "metadata": "{}",
         "name": "year",
         "type": "\"integer\""
        },
        {
         "metadata": "{}",
         "name": "quarter",
         "type": "\"integer\""
        },
        {
         "metadata": "{}",
         "name": "month",
         "type": "\"integer\""
        },
        {
         "metadata": "{}",
         "name": "day_of_week",
         "type": "\"integer\""
        },
        {
         "metadata": "{}",
         "name": "holiday",
         "type": "\"string\""
        },
        {
         "metadata": "{}",
         "name": "weather_obs_prev",
         "type": "\"string\""
        },
        {
         "metadata": "{}",
         "name": "weather_obs_prev_2",
         "type": "\"string\""
        },
        {
         "metadata": "{}",
         "name": "carrier",
         "type": "\"string\""
        },
        {
         "metadata": "{}",
         "name": "origin",
         "type": "\"string\""
        },
        {
         "metadata": "{}",
         "name": "destination",
         "type": "\"string\""
        },
        {
         "metadata": "{}",
         "name": "departure_delay",
         "type": "\"double\""
        },
        {
         "metadata": "{}",
         "name": "departure_delay_15",
         "type": "\"double\""
        },
        {
         "metadata": "{}",
         "name": "departure_delay_boolean",
         "type": "\"double\""
        },
        {
         "metadata": "{}",
         "name": "arrival_delay_boolean",
         "type": "\"double\""
        },
        {
         "metadata": "{}",
         "name": "distance",
         "type": "\"double\""
        },
        {
         "metadata": "{}",
         "name": "distance_group",
         "type": "\"integer\""
        },
        {
         "metadata": "{}",
         "name": "actual_timestamp",
         "type": "\"timestamp\""
        },
        {
         "metadata": "{}",
         "name": "hourly_timestamp",
         "type": "\"timestamp\""
        },
        {
         "metadata": "{}",
         "name": "prev_hourly_timestamp",
         "type": "\"timestamp\""
        },
        {
         "metadata": "{}",
         "name": "utc_hourly_timestamp",
         "type": "\"timestamp\""
        },
        {
         "metadata": "{}",
         "name": "utc_prev_hourly_timestamp",
         "type": "\"timestamp\""
        },
        {
         "metadata": "{}",
         "name": "planned_time_between_flights",
         "type": "\"double\""
        },
        {
         "metadata": "{}",
         "name": "prev_dep_delayed_confirmed",
         "type": "\"string\""
        },
        {
         "metadata": "{}",
         "name": "weather_station",
         "type": "\"string\""
        },
        {
         "metadata": "{}",
         "name": "wnd_angle_prev",
         "type": "\"integer\""
        },
        {
         "metadata": "{}",
         "name": "wnd_angle_qc_prev",
         "type": "\"integer\""
        },
        {
         "metadata": "{}",
         "name": "wnd_type_prev",
         "type": "\"string\""
        },
        {
         "metadata": "{}",
         "name": "wnd_speed_prev",
         "type": "\"integer\""
        },
        {
         "metadata": "{}",
         "name": "wnd_speed_qc_prev",
         "type": "\"string\""
        },
        {
         "metadata": "{}",
         "name": "wnd_cloud_angle_prev",
         "type": "\"integer\""
        },
        {
         "metadata": "{}",
         "name": "cig_cloud_angle_qc_prev",
         "type": "\"string\""
        },
        {
         "metadata": "{}",
         "name": "cig_method_prev",
         "type": "\"string\""
        },
        {
         "metadata": "{}",
         "name": "cig_cavok_prev",
         "type": "\"string\""
        },
        {
         "metadata": "{}",
         "name": "vis_dist_prev",
         "type": "\"integer\""
        },
        {
         "metadata": "{}",
         "name": "vis_dist_qc_prev",
         "type": "\"string\""
        },
        {
         "metadata": "{}",
         "name": "vis_var_prev",
         "type": "\"string\""
        },
        {
         "metadata": "{}",
         "name": "vis_var_qc_prev",
         "type": "\"string\""
        },
        {
         "metadata": "{}",
         "name": "tmp_c_prev",
         "type": "\"integer\""
        },
        {
         "metadata": "{}",
         "name": "tmp_qc_prev",
         "type": "\"string\""
        },
        {
         "metadata": "{}",
         "name": "dew_c_prev",
         "type": "\"integer\""
        },
        {
         "metadata": "{}",
         "name": "dew_qc_prev",
         "type": "\"string\""
        },
        {
         "metadata": "{}",
         "name": "slp_p_prev",
         "type": "\"integer\""
        },
        {
         "metadata": "{}",
         "name": "slp_qc_prev",
         "type": "\"string\""
        },
        {
         "metadata": "{}",
         "name": "wnd_angle_prev_2",
         "type": "\"integer\""
        },
        {
         "metadata": "{}",
         "name": "wnd_angle_qc_prev_2",
         "type": "\"integer\""
        },
        {
         "metadata": "{}",
         "name": "wnd_type_prev_2",
         "type": "\"string\""
        },
        {
         "metadata": "{}",
         "name": "wnd_speed_prev_2",
         "type": "\"integer\""
        },
        {
         "metadata": "{}",
         "name": "wnd_speed_qc_prev_2",
         "type": "\"string\""
        },
        {
         "metadata": "{}",
         "name": "wnd_cloud_angle_prev_2",
         "type": "\"integer\""
        },
        {
         "metadata": "{}",
         "name": "cig_cloud_angle_qc_prev_2",
         "type": "\"string\""
        },
        {
         "metadata": "{}",
         "name": "cig_method_prev_2",
         "type": "\"string\""
        },
        {
         "metadata": "{}",
         "name": "cig_cavok_prev_2",
         "type": "\"string\""
        },
        {
         "metadata": "{}",
         "name": "vis_dist_prev_2",
         "type": "\"integer\""
        },
        {
         "metadata": "{}",
         "name": "vis_dist_qc_prev_2",
         "type": "\"string\""
        },
        {
         "metadata": "{}",
         "name": "vis_var_prev_2",
         "type": "\"string\""
        },
        {
         "metadata": "{}",
         "name": "vis_var_qc_prev_2",
         "type": "\"string\""
        },
        {
         "metadata": "{}",
         "name": "tmp_c_prev_2",
         "type": "\"integer\""
        },
        {
         "metadata": "{}",
         "name": "tmp_qc_prev_2",
         "type": "\"string\""
        },
        {
         "metadata": "{}",
         "name": "dew_c_prev_2",
         "type": "\"integer\""
        },
        {
         "metadata": "{}",
         "name": "dew_qc_prev_2",
         "type": "\"string\""
        },
        {
         "metadata": "{}",
         "name": "slp_p_prev_2",
         "type": "\"integer\""
        },
        {
         "metadata": "{}",
         "name": "slp_qc_prev_2",
         "type": "\"string\""
        },
        {
         "metadata": "{}",
         "name": "route_delay",
         "type": "\"double\""
        },
        {
         "metadata": "{}",
         "name": "origin_arrival_delay",
         "type": "\"double\""
        },
        {
         "metadata": "{}",
         "name": "origin_departure_delay",
         "type": "\"double\""
        },
        {
         "metadata": "{}",
         "name": "dest_departure_delay",
         "type": "\"double\""
        },
        {
         "metadata": "{}",
         "name": "dest_arrival_delay",
         "type": "\"double\""
        },
        {
         "metadata": "{}",
         "name": "hour",
         "type": "\"integer\""
        }
       ],
       "type": "table"
      }
     },
     "output_type": "display_data"
    }
   ],
   "source": [
    "# Idea Filter using time of the day (Morning, Afternoon, Evening)\n",
    "# Needed to include hour of the day\n",
    "\n",
    "from pyspark.sql.functions import hour\n",
    "\n",
    "data_df = data_df.withColumn('hour',hour(data_df.actual_timestamp))\n",
    "\n",
    "display(data_df.limit(10))"
   ]
  },
  {
   "cell_type": "code",
   "execution_count": 0,
   "metadata": {
    "application/vnd.databricks.v1+cell": {
     "inputWidgets": {},
     "nuid": "bf591475-c273-4ce5-985a-ddf0bb65291d",
     "showTitle": false,
     "title": ""
    }
   },
   "outputs": [
    {
     "data": {
      "text/html": [
       "<style scoped>\n",
       "  .table-result-container {\n",
       "    max-height: 300px;\n",
       "    overflow: auto;\n",
       "  }\n",
       "  table, th, td {\n",
       "    border: 1px solid black;\n",
       "    border-collapse: collapse;\n",
       "  }\n",
       "  th, td {\n",
       "    padding: 5px;\n",
       "  }\n",
       "  th {\n",
       "    text-align: left;\n",
       "  }\n",
       "</style><div class='table-result-container'><table class='table-result'><thead style='background-color: white'><tr><th>year</th><th>month</th><th>day_of_week</th><th>actual_timestamp</th><th>hour</th><th>carrier</th><th>holiday</th><th>weather_obs_prev</th><th>weather_obs_prev_2</th><th>origin</th><th>destination</th><th>departure_delay_boolean</th><th>planned_time_between_flights</th><th>prev_dep_delayed_confirmed</th><th>distance</th><th>wnd_angle_prev</th><th>wnd_type_prev</th><th>wnd_speed_prev</th><th>wnd_cloud_angle_prev</th><th>vis_dist_prev</th><th>vis_var_prev</th><th>tmp_c_prev</th><th>dew_c_prev</th><th>route_delay</th><th>origin_arrival_delay</th><th>origin_departure_delay</th><th>dest_departure_delay</th><th>dest_arrival_delay</th></tr></thead><tbody><tr><td>2018</td><td>11</td><td>1</td><td>2018-11-19T17:08:00.000+0000</td><td>17</td><td>OH</td><td>1</td><td>0</td><td>0</td><td>ABE</td><td>PHL</td><td>0.0</td><td>26.0</td><td>2</td><td>55.0</td><td>50</td><td>N</td><td>36</td><td>22000</td><td>11265</td><td>N</td><td>78</td><td>33</td><td>15.731707317073171</td><td>15.352448169386856</td><td>14.694498708173168</td><td>13.604921632774285</td><td>13.763728326950856</td></tr><tr><td>2018</td><td>12</td><td>7</td><td>2018-12-09T17:08:00.000+0000</td><td>17</td><td>OH</td><td>1</td><td>0</td><td>0</td><td>ABE</td><td>PHL</td><td>1.0</td><td>26.0</td><td>2</td><td>55.0</td><td>240</td><td>N</td><td>26</td><td>22000</td><td>16093</td><td>N</td><td>0</td><td>-89</td><td>15.731707317073171</td><td>15.352448169386856</td><td>14.694498708173168</td><td>13.604921632774285</td><td>13.763728326950856</td></tr><tr><td>2018</td><td>11</td><td>5</td><td>2018-11-09T17:08:00.000+0000</td><td>17</td><td>OH</td><td>1</td><td>0</td><td>0</td><td>ABE</td><td>PHL</td><td>1.0</td><td>26.0</td><td>2</td><td>55.0</td><td>340</td><td>N</td><td>46</td><td>335</td><td>4023</td><td>N</td><td>78</td><td>56</td><td>15.731707317073171</td><td>15.352448169386856</td><td>14.694498708173168</td><td>13.604921632774285</td><td>13.763728326950856</td></tr><tr><td>2018</td><td>11</td><td>2</td><td>2018-11-27T17:08:00.000+0000</td><td>17</td><td>OH</td><td>1</td><td>0</td><td>0</td><td>ABE</td><td>PHL</td><td>0.0</td><td>26.0</td><td>2</td><td>55.0</td><td>270</td><td>N</td><td>62</td><td>1189</td><td>16093</td><td>N</td><td>33</td><td>-39</td><td>15.731707317073171</td><td>15.352448169386856</td><td>14.694498708173168</td><td>13.604921632774285</td><td>13.763728326950856</td></tr><tr><td>2018</td><td>11</td><td>1</td><td>2018-11-26T17:08:00.000+0000</td><td>17</td><td>OH</td><td>1</td><td>0</td><td>0</td><td>ABE</td><td>PHL</td><td>1.0</td><td>26.0</td><td>2</td><td>55.0</td><td>70</td><td>N</td><td>41</td><td>244</td><td>8047</td><td>N</td><td>94</td><td>72</td><td>15.731707317073171</td><td>15.352448169386856</td><td>14.694498708173168</td><td>13.604921632774285</td><td>13.763728326950856</td></tr><tr><td>2018</td><td>12</td><td>7</td><td>2018-12-02T17:08:00.000+0000</td><td>17</td><td>OH</td><td>1</td><td>0</td><td>0</td><td>ABE</td><td>PHL</td><td>1.0</td><td>26.0</td><td>2</td><td>55.0</td><td>null</td><td>C</td><td>0</td><td>61</td><td>805</td><td>N</td><td>100</td><td>83</td><td>15.731707317073171</td><td>15.352448169386856</td><td>14.694498708173168</td><td>13.604921632774285</td><td>13.763728326950856</td></tr><tr><td>2018</td><td>12</td><td>2</td><td>2018-12-04T17:08:00.000+0000</td><td>17</td><td>OH</td><td>1</td><td>0</td><td>0</td><td>ABE</td><td>PHL</td><td>0.0</td><td>26.0</td><td>2</td><td>55.0</td><td>330</td><td>N</td><td>46</td><td>22000</td><td>16093</td><td>N</td><td>28</td><td>-78</td><td>15.731707317073171</td><td>15.352448169386856</td><td>14.694498708173168</td><td>13.604921632774285</td><td>13.763728326950856</td></tr><tr><td>2018</td><td>12</td><td>6</td><td>2018-12-01T17:08:00.000+0000</td><td>17</td><td>OH</td><td>1</td><td>0</td><td>0</td><td>ABE</td><td>PHL</td><td>0.0</td><td>26.0</td><td>2</td><td>55.0</td><td>70</td><td>N</td><td>21</td><td>2134</td><td>16093</td><td>N</td><td>56</td><td>11</td><td>15.731707317073171</td><td>15.352448169386856</td><td>14.694498708173168</td><td>13.604921632774285</td><td>13.763728326950856</td></tr><tr><td>2018</td><td>11</td><td>5</td><td>2018-11-16T17:08:00.000+0000</td><td>17</td><td>OH</td><td>1</td><td>0</td><td>0</td><td>ABE</td><td>PHL</td><td>0.0</td><td>26.0</td><td>2</td><td>55.0</td><td>270</td><td>N</td><td>62</td><td>945</td><td>16093</td><td>N</td><td>44</td><td>-17</td><td>15.731707317073171</td><td>15.352448169386856</td><td>14.694498708173168</td><td>13.604921632774285</td><td>13.763728326950856</td></tr><tr><td>2018</td><td>12</td><td>2</td><td>2018-12-11T17:08:00.000+0000</td><td>17</td><td>OH</td><td>1</td><td>0</td><td>0</td><td>ABE</td><td>PHL</td><td>0.0</td><td>26.0</td><td>2</td><td>55.0</td><td>250</td><td>N</td><td>41</td><td>22000</td><td>16093</td><td>N</td><td>28</td><td>-61</td><td>15.731707317073171</td><td>15.352448169386856</td><td>14.694498708173168</td><td>13.604921632774285</td><td>13.763728326950856</td></tr></tbody></table></div>"
      ]
     },
     "metadata": {
      "application/vnd.databricks.v1+output": {
       "addedWidgets": {},
       "aggData": [],
       "aggError": "",
       "aggOverflow": false,
       "aggSchema": [],
       "aggSeriesLimitReached": false,
       "aggType": "",
       "arguments": {},
       "columnCustomDisplayInfos": {},
       "data": [
        [
         "2018",
         "11",
         "1",
         "2018-11-19T17:08:00.000+0000",
         "17",
         "OH",
         "1",
         "0",
         "0",
         "ABE",
         "PHL",
         0,
         26,
         "2",
         55,
         50,
         "N",
         36,
         22000,
         11265,
         "N",
         78,
         33,
         15.731707317073171,
         15.352448169386856,
         14.694498708173168,
         13.604921632774285,
         13.763728326950856
        ],
        [
         "2018",
         "12",
         "7",
         "2018-12-09T17:08:00.000+0000",
         "17",
         "OH",
         "1",
         "0",
         "0",
         "ABE",
         "PHL",
         1,
         26,
         "2",
         55,
         240,
         "N",
         26,
         22000,
         16093,
         "N",
         0,
         -89,
         15.731707317073171,
         15.352448169386856,
         14.694498708173168,
         13.604921632774285,
         13.763728326950856
        ],
        [
         "2018",
         "11",
         "5",
         "2018-11-09T17:08:00.000+0000",
         "17",
         "OH",
         "1",
         "0",
         "0",
         "ABE",
         "PHL",
         1,
         26,
         "2",
         55,
         340,
         "N",
         46,
         335,
         4023,
         "N",
         78,
         56,
         15.731707317073171,
         15.352448169386856,
         14.694498708173168,
         13.604921632774285,
         13.763728326950856
        ],
        [
         "2018",
         "11",
         "2",
         "2018-11-27T17:08:00.000+0000",
         "17",
         "OH",
         "1",
         "0",
         "0",
         "ABE",
         "PHL",
         0,
         26,
         "2",
         55,
         270,
         "N",
         62,
         1189,
         16093,
         "N",
         33,
         -39,
         15.731707317073171,
         15.352448169386856,
         14.694498708173168,
         13.604921632774285,
         13.763728326950856
        ],
        [
         "2018",
         "11",
         "1",
         "2018-11-26T17:08:00.000+0000",
         "17",
         "OH",
         "1",
         "0",
         "0",
         "ABE",
         "PHL",
         1,
         26,
         "2",
         55,
         70,
         "N",
         41,
         244,
         8047,
         "N",
         94,
         72,
         15.731707317073171,
         15.352448169386856,
         14.694498708173168,
         13.604921632774285,
         13.763728326950856
        ],
        [
         "2018",
         "12",
         "7",
         "2018-12-02T17:08:00.000+0000",
         "17",
         "OH",
         "1",
         "0",
         "0",
         "ABE",
         "PHL",
         1,
         26,
         "2",
         55,
         null,
         "C",
         0,
         61,
         805,
         "N",
         100,
         83,
         15.731707317073171,
         15.352448169386856,
         14.694498708173168,
         13.604921632774285,
         13.763728326950856
        ],
        [
         "2018",
         "12",
         "2",
         "2018-12-04T17:08:00.000+0000",
         "17",
         "OH",
         "1",
         "0",
         "0",
         "ABE",
         "PHL",
         0,
         26,
         "2",
         55,
         330,
         "N",
         46,
         22000,
         16093,
         "N",
         28,
         -78,
         15.731707317073171,
         15.352448169386856,
         14.694498708173168,
         13.604921632774285,
         13.763728326950856
        ],
        [
         "2018",
         "12",
         "6",
         "2018-12-01T17:08:00.000+0000",
         "17",
         "OH",
         "1",
         "0",
         "0",
         "ABE",
         "PHL",
         0,
         26,
         "2",
         55,
         70,
         "N",
         21,
         2134,
         16093,
         "N",
         56,
         11,
         15.731707317073171,
         15.352448169386856,
         14.694498708173168,
         13.604921632774285,
         13.763728326950856
        ],
        [
         "2018",
         "11",
         "5",
         "2018-11-16T17:08:00.000+0000",
         "17",
         "OH",
         "1",
         "0",
         "0",
         "ABE",
         "PHL",
         0,
         26,
         "2",
         55,
         270,
         "N",
         62,
         945,
         16093,
         "N",
         44,
         -17,
         15.731707317073171,
         15.352448169386856,
         14.694498708173168,
         13.604921632774285,
         13.763728326950856
        ],
        [
         "2018",
         "12",
         "2",
         "2018-12-11T17:08:00.000+0000",
         "17",
         "OH",
         "1",
         "0",
         "0",
         "ABE",
         "PHL",
         0,
         26,
         "2",
         55,
         250,
         "N",
         41,
         22000,
         16093,
         "N",
         28,
         -61,
         15.731707317073171,
         15.352448169386856,
         14.694498708173168,
         13.604921632774285,
         13.763728326950856
        ]
       ],
       "datasetInfos": [],
       "dbfsResultPath": null,
       "isJsonSchema": true,
       "metadata": {},
       "overflow": false,
       "plotOptions": {
        "customPlotOptions": {},
        "displayType": "table",
        "pivotAggregation": null,
        "pivotColumns": null,
        "xColumns": null,
        "yColumns": null
       },
       "removedWidgets": [],
       "schema": [
        {
         "metadata": "{}",
         "name": "year",
         "type": "\"string\""
        },
        {
         "metadata": "{}",
         "name": "month",
         "type": "\"string\""
        },
        {
         "metadata": "{}",
         "name": "day_of_week",
         "type": "\"string\""
        },
        {
         "metadata": "{}",
         "name": "actual_timestamp",
         "type": "\"timestamp\""
        },
        {
         "metadata": "{}",
         "name": "hour",
         "type": "\"string\""
        },
        {
         "metadata": "{}",
         "name": "carrier",
         "type": "\"string\""
        },
        {
         "metadata": "{}",
         "name": "holiday",
         "type": "\"string\""
        },
        {
         "metadata": "{}",
         "name": "weather_obs_prev",
         "type": "\"string\""
        },
        {
         "metadata": "{}",
         "name": "weather_obs_prev_2",
         "type": "\"string\""
        },
        {
         "metadata": "{}",
         "name": "origin",
         "type": "\"string\""
        },
        {
         "metadata": "{}",
         "name": "destination",
         "type": "\"string\""
        },
        {
         "metadata": "{}",
         "name": "departure_delay_boolean",
         "type": "\"double\""
        },
        {
         "metadata": "{}",
         "name": "planned_time_between_flights",
         "type": "\"double\""
        },
        {
         "metadata": "{}",
         "name": "prev_dep_delayed_confirmed",
         "type": "\"string\""
        },
        {
         "metadata": "{}",
         "name": "distance",
         "type": "\"double\""
        },
        {
         "metadata": "{}",
         "name": "wnd_angle_prev",
         "type": "\"integer\""
        },
        {
         "metadata": "{}",
         "name": "wnd_type_prev",
         "type": "\"string\""
        },
        {
         "metadata": "{}",
         "name": "wnd_speed_prev",
         "type": "\"integer\""
        },
        {
         "metadata": "{}",
         "name": "wnd_cloud_angle_prev",
         "type": "\"integer\""
        },
        {
         "metadata": "{}",
         "name": "vis_dist_prev",
         "type": "\"integer\""
        },
        {
         "metadata": "{}",
         "name": "vis_var_prev",
         "type": "\"string\""
        },
        {
         "metadata": "{}",
         "name": "tmp_c_prev",
         "type": "\"integer\""
        },
        {
         "metadata": "{}",
         "name": "dew_c_prev",
         "type": "\"integer\""
        },
        {
         "metadata": "{}",
         "name": "route_delay",
         "type": "\"double\""
        },
        {
         "metadata": "{}",
         "name": "origin_arrival_delay",
         "type": "\"double\""
        },
        {
         "metadata": "{}",
         "name": "origin_departure_delay",
         "type": "\"double\""
        },
        {
         "metadata": "{}",
         "name": "dest_departure_delay",
         "type": "\"double\""
        },
        {
         "metadata": "{}",
         "name": "dest_arrival_delay",
         "type": "\"double\""
        }
       ],
       "type": "table"
      }
     },
     "output_type": "display_data"
    }
   ],
   "source": [
    "#Select ML Vars - Variables for building models\n",
    "split_data_df = data_df.selectExpr(\n",
    "                              \"cast (year as string) year\",\n",
    "                              \"cast (month as string) month\",\n",
    "                              \"cast (day_of_week as string) day_of_week\",\n",
    "                              \"actual_timestamp\",\n",
    "                              \"cast (hour as string) hour\",\n",
    "                              \"carrier\",\n",
    "                              \"holiday\",\n",
    "                              \"weather_obs_prev\",\n",
    "                              \"weather_obs_prev_2\",\n",
    "                              \"origin\",\n",
    "                              \"destination\",\n",
    "                              \"departure_delay_boolean\",\n",
    "                              \"planned_time_between_flights\",\n",
    "                              \"cast (prev_dep_delayed_confirmed as string) prev_dep_delayed_confirmed\",    \n",
    "                              \"distance\",\n",
    "                              \"cast (wnd_angle_prev as int) wnd_angle_prev\",                               \n",
    "                              \"wnd_type_prev\",\n",
    "                              \"wnd_speed_prev\",\n",
    "                              \"wnd_cloud_angle_prev\",\n",
    "                              \"vis_dist_prev\",\n",
    "                              \"vis_var_prev\",\n",
    "                              \"tmp_c_prev\",\n",
    "                              \"dew_c_prev\",\n",
    "                              \"route_delay\",\n",
    "                              \"origin_arrival_delay\",\n",
    "                              \"origin_departure_delay\",\n",
    "                              \"dest_departure_delay\",\n",
    "                              \"dest_arrival_delay\"\n",
    "                             )\n",
    "\n",
    "display(split_data_df.limit(10))"
   ]
  },
  {
   "cell_type": "code",
   "execution_count": 0,
   "metadata": {
    "application/vnd.databricks.v1+cell": {
     "inputWidgets": {},
     "nuid": "8e402316-fb68-4ecf-a911-c739bd683639",
     "showTitle": false,
     "title": ""
    }
   },
   "outputs": [
    {
     "data": {
      "text/html": [
       "<style scoped>\n",
       "  .ansiout {\n",
       "    display: block;\n",
       "    unicode-bidi: embed;\n",
       "    white-space: pre-wrap;\n",
       "    word-wrap: break-word;\n",
       "    word-break: break-all;\n",
       "    font-family: \"Source Code Pro\", \"Menlo\", monospace;;\n",
       "    font-size: 13px;\n",
       "    color: #555;\n",
       "    margin-left: 4px;\n",
       "    line-height: 19px;\n",
       "  }\n",
       "</style>\n",
       "<div class=\"ansiout\"></div>"
      ]
     },
     "metadata": {
      "application/vnd.databricks.v1+output": {
       "addedWidgets": {},
       "arguments": {},
       "data": "<div class=\"ansiout\"></div>",
       "datasetInfos": [],
       "metadata": {},
       "removedWidgets": [],
       "type": "html"
      }
     },
     "output_type": "display_data"
    }
   ],
   "source": [
    "# Dropping because missing flight data when it does not have a timestamp and the other variable is an outcome\n",
    "\n",
    "split_data_df = split_data_df.na.drop(subset=[\"departure_delay_boolean\",\"actual_timestamp\"])"
   ]
  },
  {
   "cell_type": "markdown",
   "metadata": {
    "application/vnd.databricks.v1+cell": {
     "inputWidgets": {},
     "nuid": "cb0fd879-9dac-4055-9f1e-9740985cd74c",
     "showTitle": false,
     "title": ""
    }
   },
   "source": [
    "#### 4.1. Split Data"
   ]
  },
  {
   "cell_type": "code",
   "execution_count": 0,
   "metadata": {
    "application/vnd.databricks.v1+cell": {
     "inputWidgets": {},
     "nuid": "7f066bd8-b3a9-43b6-a946-43be2261f9ef",
     "showTitle": false,
     "title": ""
    }
   },
   "outputs": [
    {
     "data": {
      "text/html": [
       "<style scoped>\n",
       "  .ansiout {\n",
       "    display: block;\n",
       "    unicode-bidi: embed;\n",
       "    white-space: pre-wrap;\n",
       "    word-wrap: break-word;\n",
       "    word-break: break-all;\n",
       "    font-family: \"Source Code Pro\", \"Menlo\", monospace;;\n",
       "    font-size: 13px;\n",
       "    color: #555;\n",
       "    margin-left: 4px;\n",
       "    line-height: 19px;\n",
       "  }\n",
       "</style>\n",
       "<div class=\"ansiout\"></div>"
      ]
     },
     "metadata": {
      "application/vnd.databricks.v1+output": {
       "addedWidgets": {},
       "arguments": {},
       "data": "<div class=\"ansiout\"></div>",
       "datasetInfos": [],
       "metadata": {},
       "removedWidgets": [],
       "type": "html"
      }
     },
     "output_type": "display_data"
    }
   ],
   "source": [
    "### Add a cumulative rank to dataframe and then split (80-20).\n",
    "\n",
    "if(full_data):\n",
    "\n",
    "  split_data_df = split_data_df.withColumn(\"rank\", percent_rank().over(Window.partitionBy().orderBy(\"actual_timestamp\")))\n",
    "\n",
    "# display(split_data_df)\n"
   ]
  },
  {
   "cell_type": "code",
   "execution_count": 0,
   "metadata": {
    "application/vnd.databricks.v1+cell": {
     "inputWidgets": {},
     "nuid": "4b6c3026-2a80-4425-9bdb-58689971d9c9",
     "showTitle": false,
     "title": ""
    }
   },
   "outputs": [
    {
     "data": {
      "text/html": [
       "<style scoped>\n",
       "  .ansiout {\n",
       "    display: block;\n",
       "    unicode-bidi: embed;\n",
       "    white-space: pre-wrap;\n",
       "    word-wrap: break-word;\n",
       "    word-break: break-all;\n",
       "    font-family: \"Source Code Pro\", \"Menlo\", monospace;;\n",
       "    font-size: 13px;\n",
       "    color: #555;\n",
       "    margin-left: 4px;\n",
       "    line-height: 19px;\n",
       "  }\n",
       "</style>\n",
       "<div class=\"ansiout\"></div>"
      ]
     },
     "metadata": {
      "application/vnd.databricks.v1+output": {
       "addedWidgets": {},
       "arguments": {},
       "data": "<div class=\"ansiout\"></div>",
       "datasetInfos": [],
       "metadata": {},
       "removedWidgets": [],
       "type": "html"
      }
     },
     "output_type": "display_data"
    }
   ],
   "source": [
    "if(full_data):\n",
    "\n",
    "  train_df = split_data_df.where(\"rank <= .8\").drop(\"rank\",\"actual_timestamp\")\n",
    "  \n",
    "#   display(train_df.limit(10))\n",
    "\n",
    "#   print(f'The train dataset has {train_df.count()} rows')"
   ]
  },
  {
   "cell_type": "code",
   "execution_count": 0,
   "metadata": {
    "application/vnd.databricks.v1+cell": {
     "inputWidgets": {},
     "nuid": "2abc070d-6581-42db-a709-30d8dd73112e",
     "showTitle": false,
     "title": ""
    }
   },
   "outputs": [
    {
     "data": {
      "text/html": [
       "<style scoped>\n",
       "  .ansiout {\n",
       "    display: block;\n",
       "    unicode-bidi: embed;\n",
       "    white-space: pre-wrap;\n",
       "    word-wrap: break-word;\n",
       "    word-break: break-all;\n",
       "    font-family: \"Source Code Pro\", \"Menlo\", monospace;;\n",
       "    font-size: 13px;\n",
       "    color: #555;\n",
       "    margin-left: 4px;\n",
       "    line-height: 19px;\n",
       "  }\n",
       "</style>\n",
       "<div class=\"ansiout\"></div>"
      ]
     },
     "metadata": {
      "application/vnd.databricks.v1+output": {
       "addedWidgets": {},
       "arguments": {},
       "data": "<div class=\"ansiout\"></div>",
       "datasetInfos": [],
       "metadata": {},
       "removedWidgets": [],
       "type": "html"
      }
     },
     "output_type": "display_data"
    }
   ],
   "source": [
    "if(full_data):\n",
    "  test_df = split_data_df.where(\"rank > .8\").drop(\"rank\", \"actual_timestamp\")\n",
    "  \n",
    "#   display(test_df.limit(10))\n",
    "#   print(f'The test dataset has {test_df.count()} rows')\n",
    "    "
   ]
  },
  {
   "cell_type": "code",
   "execution_count": 0,
   "metadata": {
    "application/vnd.databricks.v1+cell": {
     "inputWidgets": {},
     "nuid": "9a852ab2-847f-4c38-9881-a4ab27f75135",
     "showTitle": false,
     "title": ""
    }
   },
   "outputs": [
    {
     "data": {
      "text/html": [
       "<style scoped>\n",
       "  .ansiout {\n",
       "    display: block;\n",
       "    unicode-bidi: embed;\n",
       "    white-space: pre-wrap;\n",
       "    word-wrap: break-word;\n",
       "    word-break: break-all;\n",
       "    font-family: \"Source Code Pro\", \"Menlo\", monospace;;\n",
       "    font-size: 13px;\n",
       "    color: #555;\n",
       "    margin-left: 4px;\n",
       "    line-height: 19px;\n",
       "  }\n",
       "</style>\n",
       "<div class=\"ansiout\"></div>"
      ]
     },
     "metadata": {
      "application/vnd.databricks.v1+output": {
       "addedWidgets": {},
       "arguments": {},
       "data": "<div class=\"ansiout\"></div>",
       "datasetInfos": [],
       "metadata": {},
       "removedWidgets": [],
       "type": "html"
      }
     },
     "output_type": "display_data"
    }
   ],
   "source": [
    "# writing the split test and train data to blob storage\n",
    "\n",
    "if(full_data):\n",
    "#   train_df.write.mode('overwrite').parquet(f\"{blob_url}/original_train_data_full_pca_v1\")\n",
    "#   test_df.write.mode('overwrite').parquet(f\"{blob_url}/original_test_data_full_pca_v1\")\n",
    "  \n",
    "  train_df.write.mode('overwrite').parquet(f\"{blob_url}/original_train_data_full_pca_v2\")\n",
    "  test_df.write.mode('overwrite').parquet(f\"{blob_url}/original_test_data_full_pca_v2\")\n",
    "  "
   ]
  },
  {
   "cell_type": "code",
   "execution_count": 0,
   "metadata": {
    "application/vnd.databricks.v1+cell": {
     "inputWidgets": {},
     "nuid": "7ea0bb1d-c08a-4522-9ff8-4c9e5c20a6a3",
     "showTitle": false,
     "title": ""
    }
   },
   "outputs": [
    {
     "data": {
      "text/html": [
       "<style scoped>\n",
       "  .ansiout {\n",
       "    display: block;\n",
       "    unicode-bidi: embed;\n",
       "    white-space: pre-wrap;\n",
       "    word-wrap: break-word;\n",
       "    word-break: break-all;\n",
       "    font-family: \"Source Code Pro\", \"Menlo\", monospace;;\n",
       "    font-size: 13px;\n",
       "    color: #555;\n",
       "    margin-left: 4px;\n",
       "    line-height: 19px;\n",
       "  }\n",
       "</style>\n",
       "<div class=\"ansiout\"></div>"
      ]
     },
     "metadata": {
      "application/vnd.databricks.v1+output": {
       "addedWidgets": {},
       "arguments": {},
       "data": "<div class=\"ansiout\"></div>",
       "datasetInfos": [],
       "metadata": {},
       "removedWidgets": [],
       "type": "html"
      }
     },
     "output_type": "display_data"
    }
   ],
   "source": [
    "# Reading the split test and train data from blob storage in case of full data\n",
    "\n",
    "if(full_data):\n",
    "#   train_df = spark.read.parquet(f\"{blob_url}/original_train_data_full_pca_v1/*\")\n",
    "#   test_df = spark.read.parquet(f\"{blob_url}/original_test_data_full_pca_v1/*\")\n",
    "  \n",
    "  train_df = spark.read.parquet(f\"{blob_url}/original_train_data_full_pca_v2/*\")\n",
    "  test_df = spark.read.parquet(f\"{blob_url}/original_test_data_full_pca_v2/*\")"
   ]
  },
  {
   "cell_type": "code",
   "execution_count": 0,
   "metadata": {
    "application/vnd.databricks.v1+cell": {
     "inputWidgets": {},
     "nuid": "0c9e3160-358f-4fa4-8d02-3929a1c025f1",
     "showTitle": false,
     "title": ""
    }
   },
   "outputs": [
    {
     "data": {
      "text/html": [
       "<style scoped>\n",
       "  .ansiout {\n",
       "    display: block;\n",
       "    unicode-bidi: embed;\n",
       "    white-space: pre-wrap;\n",
       "    word-wrap: break-word;\n",
       "    word-break: break-all;\n",
       "    font-family: \"Source Code Pro\", \"Menlo\", monospace;;\n",
       "    font-size: 13px;\n",
       "    color: #555;\n",
       "    margin-left: 4px;\n",
       "    line-height: 19px;\n",
       "  }\n",
       "</style>\n",
       "<div class=\"ansiout\">Out[15]: </div>"
      ]
     },
     "metadata": {
      "application/vnd.databricks.v1+output": {
       "addedWidgets": {},
       "arguments": {},
       "data": "<div class=\"ansiout\">Out[15]: </div>",
       "datasetInfos": [],
       "metadata": {},
       "removedWidgets": [],
       "type": "html"
      }
     },
     "output_type": "display_data"
    },
    {
     "data": {
      "text/html": [
       "<div>\n",
       "<style scoped>\n",
       "    .dataframe tbody tr th:only-of-type {\n",
       "        vertical-align: middle;\n",
       "    }\n",
       "\n",
       "    .dataframe tbody tr th {\n",
       "        vertical-align: top;\n",
       "    }\n",
       "\n",
       "    .dataframe thead th {\n",
       "        text-align: right;\n",
       "    }\n",
       "</style>\n",
       "<table border=\"1\" class=\"dataframe\">\n",
       "  <thead>\n",
       "    <tr style=\"text-align: right;\">\n",
       "      <th></th>\n",
       "      <th>features</th>\n",
       "      <th>number_of_nulls</th>\n",
       "    </tr>\n",
       "  </thead>\n",
       "  <tbody>\n",
       "    <tr>\n",
       "      <th>0</th>\n",
       "      <td>year</td>\n",
       "      <td>0</td>\n",
       "    </tr>\n",
       "    <tr>\n",
       "      <th>1</th>\n",
       "      <td>month</td>\n",
       "      <td>0</td>\n",
       "    </tr>\n",
       "    <tr>\n",
       "      <th>2</th>\n",
       "      <td>day_of_week</td>\n",
       "      <td>0</td>\n",
       "    </tr>\n",
       "    <tr>\n",
       "      <th>3</th>\n",
       "      <td>hour</td>\n",
       "      <td>0</td>\n",
       "    </tr>\n",
       "    <tr>\n",
       "      <th>4</th>\n",
       "      <td>carrier</td>\n",
       "      <td>0</td>\n",
       "    </tr>\n",
       "    <tr>\n",
       "      <th>5</th>\n",
       "      <td>holiday</td>\n",
       "      <td>0</td>\n",
       "    </tr>\n",
       "    <tr>\n",
       "      <th>6</th>\n",
       "      <td>weather_obs_prev</td>\n",
       "      <td>31191</td>\n",
       "    </tr>\n",
       "    <tr>\n",
       "      <th>7</th>\n",
       "      <td>weather_obs_prev_2</td>\n",
       "      <td>54862</td>\n",
       "    </tr>\n",
       "    <tr>\n",
       "      <th>8</th>\n",
       "      <td>origin</td>\n",
       "      <td>0</td>\n",
       "    </tr>\n",
       "    <tr>\n",
       "      <th>9</th>\n",
       "      <td>destination</td>\n",
       "      <td>0</td>\n",
       "    </tr>\n",
       "    <tr>\n",
       "      <th>10</th>\n",
       "      <td>departure_delay_boolean</td>\n",
       "      <td>0</td>\n",
       "    </tr>\n",
       "    <tr>\n",
       "      <th>11</th>\n",
       "      <td>planned_time_between_flights</td>\n",
       "      <td>122166</td>\n",
       "    </tr>\n",
       "    <tr>\n",
       "      <th>12</th>\n",
       "      <td>prev_dep_delayed_confirmed</td>\n",
       "      <td>4012</td>\n",
       "    </tr>\n",
       "    <tr>\n",
       "      <th>13</th>\n",
       "      <td>distance</td>\n",
       "      <td>0</td>\n",
       "    </tr>\n",
       "    <tr>\n",
       "      <th>14</th>\n",
       "      <td>wnd_angle_prev</td>\n",
       "      <td>3562757</td>\n",
       "    </tr>\n",
       "    <tr>\n",
       "      <th>15</th>\n",
       "      <td>wnd_type_prev</td>\n",
       "      <td>31191</td>\n",
       "    </tr>\n",
       "    <tr>\n",
       "      <th>16</th>\n",
       "      <td>wnd_speed_prev</td>\n",
       "      <td>51536</td>\n",
       "    </tr>\n",
       "    <tr>\n",
       "      <th>17</th>\n",
       "      <td>wnd_cloud_angle_prev</td>\n",
       "      <td>31191</td>\n",
       "    </tr>\n",
       "    <tr>\n",
       "      <th>18</th>\n",
       "      <td>vis_dist_prev</td>\n",
       "      <td>38532</td>\n",
       "    </tr>\n",
       "    <tr>\n",
       "      <th>19</th>\n",
       "      <td>vis_var_prev</td>\n",
       "      <td>31191</td>\n",
       "    </tr>\n",
       "    <tr>\n",
       "      <th>20</th>\n",
       "      <td>tmp_c_prev</td>\n",
       "      <td>40514</td>\n",
       "    </tr>\n",
       "    <tr>\n",
       "      <th>21</th>\n",
       "      <td>dew_c_prev</td>\n",
       "      <td>47074</td>\n",
       "    </tr>\n",
       "    <tr>\n",
       "      <th>22</th>\n",
       "      <td>route_delay</td>\n",
       "      <td>15</td>\n",
       "    </tr>\n",
       "    <tr>\n",
       "      <th>23</th>\n",
       "      <td>origin_arrival_delay</td>\n",
       "      <td>9</td>\n",
       "    </tr>\n",
       "    <tr>\n",
       "      <th>24</th>\n",
       "      <td>origin_departure_delay</td>\n",
       "      <td>9</td>\n",
       "    </tr>\n",
       "    <tr>\n",
       "      <th>25</th>\n",
       "      <td>dest_departure_delay</td>\n",
       "      <td>0</td>\n",
       "    </tr>\n",
       "    <tr>\n",
       "      <th>26</th>\n",
       "      <td>dest_arrival_delay</td>\n",
       "      <td>0</td>\n",
       "    </tr>\n",
       "  </tbody>\n",
       "</table>\n",
       "</div>"
      ]
     },
     "metadata": {
      "application/vnd.databricks.v1+output": {
       "addedWidgets": {},
       "arguments": {},
       "data": "<div>\n<style scoped>\n    .dataframe tbody tr th:only-of-type {\n        vertical-align: middle;\n    }\n\n    .dataframe tbody tr th {\n        vertical-align: top;\n    }\n\n    .dataframe thead th {\n        text-align: right;\n    }\n</style>\n<table border=\"1\" class=\"dataframe\">\n  <thead>\n    <tr style=\"text-align: right;\">\n      <th></th>\n      <th>features</th>\n      <th>number_of_nulls</th>\n    </tr>\n  </thead>\n  <tbody>\n    <tr>\n      <th>0</th>\n      <td>year</td>\n      <td>0</td>\n    </tr>\n    <tr>\n      <th>1</th>\n      <td>month</td>\n      <td>0</td>\n    </tr>\n    <tr>\n      <th>2</th>\n      <td>day_of_week</td>\n      <td>0</td>\n    </tr>\n    <tr>\n      <th>3</th>\n      <td>hour</td>\n      <td>0</td>\n    </tr>\n    <tr>\n      <th>4</th>\n      <td>carrier</td>\n      <td>0</td>\n    </tr>\n    <tr>\n      <th>5</th>\n      <td>holiday</td>\n      <td>0</td>\n    </tr>\n    <tr>\n      <th>6</th>\n      <td>weather_obs_prev</td>\n      <td>31191</td>\n    </tr>\n    <tr>\n      <th>7</th>\n      <td>weather_obs_prev_2</td>\n      <td>54862</td>\n    </tr>\n    <tr>\n      <th>8</th>\n      <td>origin</td>\n      <td>0</td>\n    </tr>\n    <tr>\n      <th>9</th>\n      <td>destination</td>\n      <td>0</td>\n    </tr>\n    <tr>\n      <th>10</th>\n      <td>departure_delay_boolean</td>\n      <td>0</td>\n    </tr>\n    <tr>\n      <th>11</th>\n      <td>planned_time_between_flights</td>\n      <td>122166</td>\n    </tr>\n    <tr>\n      <th>12</th>\n      <td>prev_dep_delayed_confirmed</td>\n      <td>4012</td>\n    </tr>\n    <tr>\n      <th>13</th>\n      <td>distance</td>\n      <td>0</td>\n    </tr>\n    <tr>\n      <th>14</th>\n      <td>wnd_angle_prev</td>\n      <td>3562757</td>\n    </tr>\n    <tr>\n      <th>15</th>\n      <td>wnd_type_prev</td>\n      <td>31191</td>\n    </tr>\n    <tr>\n      <th>16</th>\n      <td>wnd_speed_prev</td>\n      <td>51536</td>\n    </tr>\n    <tr>\n      <th>17</th>\n      <td>wnd_cloud_angle_prev</td>\n      <td>31191</td>\n    </tr>\n    <tr>\n      <th>18</th>\n      <td>vis_dist_prev</td>\n      <td>38532</td>\n    </tr>\n    <tr>\n      <th>19</th>\n      <td>vis_var_prev</td>\n      <td>31191</td>\n    </tr>\n    <tr>\n      <th>20</th>\n      <td>tmp_c_prev</td>\n      <td>40514</td>\n    </tr>\n    <tr>\n      <th>21</th>\n      <td>dew_c_prev</td>\n      <td>47074</td>\n    </tr>\n    <tr>\n      <th>22</th>\n      <td>route_delay</td>\n      <td>15</td>\n    </tr>\n    <tr>\n      <th>23</th>\n      <td>origin_arrival_delay</td>\n      <td>9</td>\n    </tr>\n    <tr>\n      <th>24</th>\n      <td>origin_departure_delay</td>\n      <td>9</td>\n    </tr>\n    <tr>\n      <th>25</th>\n      <td>dest_departure_delay</td>\n      <td>0</td>\n    </tr>\n    <tr>\n      <th>26</th>\n      <td>dest_arrival_delay</td>\n      <td>0</td>\n    </tr>\n  </tbody>\n</table>\n</div>",
       "datasetInfos": [],
       "metadata": {},
       "removedWidgets": [],
       "textData": null,
       "type": "htmlSandbox"
      }
     },
     "output_type": "display_data"
    }
   ],
   "source": [
    "# Let's verify if train data has any nulls\n",
    "\n",
    "missing_values_df_train = missing_values(train_df)\n",
    "\n",
    "missing_values_df2 = pd.DataFrame({\n",
    "                 \"features\": list(missing_values_df_train.columns),\n",
    "                 \"number_of_nulls\": list(missing_values_df_train.iloc[0])})\n",
    "\n",
    "missing_values_df2"
   ]
  },
  {
   "cell_type": "markdown",
   "metadata": {
    "application/vnd.databricks.v1+cell": {
     "inputWidgets": {},
     "nuid": "8526045f-acae-4636-a1b4-3cd7844c3887",
     "showTitle": false,
     "title": ""
    }
   },
   "source": [
    "#### 4.2. Handling Imbalanced data - Undersampling\n",
    "\n",
    "We used undersampling for handling imbalance in data since we have a very large dataset. \n",
    "SMOTE is another method to handle imbalanced data and has been implemented in a separate notebook located at: https://adb-6759024569771990.10.azuredatabricks.net/?o=6759024569771990#notebook/671119174920056/command/671119174920058"
   ]
  },
  {
   "cell_type": "code",
   "execution_count": 0,
   "metadata": {
    "application/vnd.databricks.v1+cell": {
     "inputWidgets": {},
     "nuid": "30e7d005-2449-4daa-9ceb-e0e743d52fdf",
     "showTitle": false,
     "title": ""
    }
   },
   "outputs": [
    {
     "data": {
      "text/html": [
       "<style scoped>\n",
       "  .ansiout {\n",
       "    display: block;\n",
       "    unicode-bidi: embed;\n",
       "    white-space: pre-wrap;\n",
       "    word-wrap: break-word;\n",
       "    word-break: break-all;\n",
       "    font-family: \"Source Code Pro\", \"Menlo\", monospace;;\n",
       "    font-size: 13px;\n",
       "    color: #555;\n",
       "    margin-left: 4px;\n",
       "    line-height: 19px;\n",
       "  }\n",
       "</style>\n",
       "<div class=\"ansiout\"></div>"
      ]
     },
     "metadata": {
      "application/vnd.databricks.v1+output": {
       "addedWidgets": {},
       "arguments": {},
       "data": "<div class=\"ansiout\"></div>",
       "datasetInfos": [],
       "metadata": {},
       "removedWidgets": [],
       "type": "html"
      }
     },
     "output_type": "display_data"
    }
   ],
   "source": [
    "# Display proportion of labeled class\n",
    "\n",
    "def get_proportion_labels(df):\n",
    "  '''Function to display proportion of labeled class'''\n",
    "  if verbose:\n",
    "    print(\"In method - get_proportion_labels - displaying proportion of labeled class\")\n",
    "    print(display(df.groupby('departure_delay_boolean').count()))\n",
    "  \n",
    "  positive = df.filter(df.departure_delay_boolean == 1).count()\n",
    "  negative = df.filter(df.departure_delay_boolean == 0).count()\n",
    "  total = negative + positive\n",
    "  if total == 0:\n",
    "    raise Exception(\"No records found!\")\n",
    "  \n",
    "  if positive == 0:\n",
    "    raise Exception(\"No positive records found!\")\n",
    "  \n",
    "  if negative == 0:\n",
    "    raise Exception(\"No negative records found!\")\n",
    "    \n",
    "  # there is a risk that the positive/negative classes are so imbalanced that they are non existent in the df\n",
    "  # so we should guard against that case in order to avoid throwing div by 0\n",
    "  np = -1 if positive == 0 else 1.0 * negative/positive\n",
    "  pn = -1 if negative == 0 else 1.0 * positive/negative\n",
    "  \n",
    "  return 1.0 * positive/total, 1.0 * negative/total, pn, np"
   ]
  },
  {
   "cell_type": "code",
   "execution_count": 0,
   "metadata": {
    "application/vnd.databricks.v1+cell": {
     "inputWidgets": {},
     "nuid": "f2de60fa-c543-46c3-bfdb-59718849202c",
     "showTitle": false,
     "title": ""
    }
   },
   "outputs": [
    {
     "data": {
      "text/html": [
       "<style scoped>\n",
       "  .ansiout {\n",
       "    display: block;\n",
       "    unicode-bidi: embed;\n",
       "    white-space: pre-wrap;\n",
       "    word-wrap: break-word;\n",
       "    word-break: break-all;\n",
       "    font-family: \"Source Code Pro\", \"Menlo\", monospace;;\n",
       "    font-size: 13px;\n",
       "    color: #555;\n",
       "    margin-left: 4px;\n",
       "    line-height: 19px;\n",
       "  }\n",
       "</style>\n",
       "<div class=\"ansiout\"></div>"
      ]
     },
     "metadata": {
      "application/vnd.databricks.v1+output": {
       "addedWidgets": {},
       "arguments": {},
       "data": "<div class=\"ansiout\"></div>",
       "datasetInfos": [],
       "metadata": {},
       "removedWidgets": [],
       "type": "html"
      }
     },
     "output_type": "display_data"
    }
   ],
   "source": [
    "# downsample majority class dataset (i.e on-time flight data) to balance and match minority class dataset(i.e. delayed flights)\n",
    "\n",
    "def downsample(df, min_major_class_ratio, alpha=0.99):\n",
    "  '''Function to implement undersampling logic'''\n",
    "  if min_major_class_ratio == -1:\n",
    "    # assign default value to reduce the majority class by half\n",
    "    min_major_class_ratio = 0.5\n",
    "    print(\"In method downsample: Warning - reset min_major_class_ratio to default: {}\".format(min_major_class_ratio))\n",
    "    \n",
    "  if verbose:\n",
    "    print(\"Starting to downsample, negative class has {} rows and positive class has {} rows\".format(df.filter(df.departure_delay_boolean == 0).count(), df.filter(df.departure_delay_boolean == 1).count()))\n",
    "    \n",
    "  negative = df.filter(df.departure_delay_boolean == 0).sample(False, min_major_class_ratio * alpha, seed=2021)\n",
    "  positive = df.filter(df.departure_delay_boolean == 1)\n",
    "  \n",
    "  new_df = positive.union(negative).cache()\n",
    "  if verbose:\n",
    "    negative = new_df.filter(new_df.departure_delay_boolean ==0).count()\n",
    "    positive = new_df.filter(new_df.departure_delay_boolean ==1).count()\n",
    "    print(\"After downsampling, negative class has {} rows and positive class has {} rows\".format(negative, positive))\n",
    "  \n",
    "  return new_df"
   ]
  },
  {
   "cell_type": "code",
   "execution_count": 0,
   "metadata": {
    "application/vnd.databricks.v1+cell": {
     "inputWidgets": {},
     "nuid": "c3239358-4254-42fe-8c24-83e8a3721da2",
     "showTitle": false,
     "title": ""
    }
   },
   "outputs": [
    {
     "data": {
      "text/html": [
       "<style scoped>\n",
       "  .ansiout {\n",
       "    display: block;\n",
       "    unicode-bidi: embed;\n",
       "    white-space: pre-wrap;\n",
       "    word-wrap: break-word;\n",
       "    word-break: break-all;\n",
       "    font-family: \"Source Code Pro\", \"Menlo\", monospace;;\n",
       "    font-size: 13px;\n",
       "    color: #555;\n",
       "    margin-left: 4px;\n",
       "    line-height: 19px;\n",
       "  }\n",
       "</style>\n",
       "<div class=\"ansiout\">In method - get_proportion_labels - displaying proportion of labeled class\n",
       "</div>"
      ]
     },
     "metadata": {
      "application/vnd.databricks.v1+output": {
       "addedWidgets": {},
       "arguments": {},
       "data": "<div class=\"ansiout\">In method - get_proportion_labels - displaying proportion of labeled class\n</div>",
       "datasetInfos": [],
       "metadata": {},
       "removedWidgets": [],
       "type": "html"
      }
     },
     "output_type": "display_data"
    },
    {
     "data": {
      "text/html": [
       "<style scoped>\n",
       "  .table-result-container {\n",
       "    max-height: 300px;\n",
       "    overflow: auto;\n",
       "  }\n",
       "  table, th, td {\n",
       "    border: 1px solid black;\n",
       "    border-collapse: collapse;\n",
       "  }\n",
       "  th, td {\n",
       "    padding: 5px;\n",
       "  }\n",
       "  th {\n",
       "    text-align: left;\n",
       "  }\n",
       "</style><div class='table-result-container'><table class='table-result'><thead style='background-color: white'><tr><th>departure_delay_boolean</th><th>count</th></tr></thead><tbody><tr><td>0.0</td><td>21009647</td></tr><tr><td>1.0</td><td>5017679</td></tr></tbody></table></div>"
      ]
     },
     "metadata": {
      "application/vnd.databricks.v1+output": {
       "addedWidgets": {},
       "aggData": [],
       "aggError": "",
       "aggOverflow": false,
       "aggSchema": [],
       "aggSeriesLimitReached": false,
       "aggType": "",
       "arguments": {},
       "columnCustomDisplayInfos": {},
       "data": [
        [
         0,
         21009647
        ],
        [
         1,
         5017679
        ]
       ],
       "datasetInfos": [],
       "dbfsResultPath": null,
       "isJsonSchema": true,
       "metadata": {},
       "overflow": false,
       "plotOptions": {
        "customPlotOptions": {},
        "displayType": "table",
        "pivotAggregation": null,
        "pivotColumns": null,
        "xColumns": null,
        "yColumns": null
       },
       "removedWidgets": [],
       "schema": [
        {
         "metadata": "{}",
         "name": "departure_delay_boolean",
         "type": "\"double\""
        },
        {
         "metadata": "{}",
         "name": "count",
         "type": "\"long\""
        }
       ],
       "type": "table"
      }
     },
     "output_type": "display_data"
    },
    {
     "data": {
      "text/html": [
       "<style scoped>\n",
       "  .ansiout {\n",
       "    display: block;\n",
       "    unicode-bidi: embed;\n",
       "    white-space: pre-wrap;\n",
       "    word-wrap: break-word;\n",
       "    word-break: break-all;\n",
       "    font-family: \"Source Code Pro\", \"Menlo\", monospace;;\n",
       "    font-size: 13px;\n",
       "    color: #555;\n",
       "    margin-left: 4px;\n",
       "    line-height: 19px;\n",
       "  }\n",
       "</style>\n",
       "<div class=\"ansiout\">None\n",
       "Starting to downsample, negative class has 21009647 rows and positive class has 5017679 rows\n",
       "After downsampling, negative class has 4968581 rows and positive class has 5017679 rows\n",
       "</div>"
      ]
     },
     "metadata": {
      "application/vnd.databricks.v1+output": {
       "addedWidgets": {},
       "arguments": {},
       "data": "<div class=\"ansiout\">None\nStarting to downsample, negative class has 21009647 rows and positive class has 5017679 rows\nAfter downsampling, negative class has 4968581 rows and positive class has 5017679 rows\n</div>",
       "datasetInfos": [],
       "metadata": {},
       "removedWidgets": [],
       "type": "html"
      }
     },
     "output_type": "display_data"
    }
   ],
   "source": [
    "# Execute Downsampling Process on the Training Set\n",
    "verbose = True\n",
    "pt, nt, pn, np = get_proportion_labels(train_df)\n",
    "train_df_downsampled = downsample(train_df, pn)\n"
   ]
  },
  {
   "cell_type": "code",
   "execution_count": 0,
   "metadata": {
    "application/vnd.databricks.v1+cell": {
     "inputWidgets": {},
     "nuid": "70760800-8817-473d-ad5a-2679bb51e8d9",
     "showTitle": false,
     "title": ""
    }
   },
   "outputs": [
    {
     "data": {
      "text/html": [
       "<style scoped>\n",
       "  .ansiout {\n",
       "    display: block;\n",
       "    unicode-bidi: embed;\n",
       "    white-space: pre-wrap;\n",
       "    word-wrap: break-word;\n",
       "    word-break: break-all;\n",
       "    font-family: \"Source Code Pro\", \"Menlo\", monospace;;\n",
       "    font-size: 13px;\n",
       "    color: #555;\n",
       "    margin-left: 4px;\n",
       "    line-height: 19px;\n",
       "  }\n",
       "</style>\n",
       "<div class=\"ansiout\"></div>"
      ]
     },
     "metadata": {
      "application/vnd.databricks.v1+output": {
       "addedWidgets": {},
       "arguments": {},
       "data": "<div class=\"ansiout\"></div>",
       "datasetInfos": [],
       "metadata": {},
       "removedWidgets": [],
       "type": "html"
      }
     },
     "output_type": "display_data"
    }
   ],
   "source": [
    "# Assigning downsampled dataset to be used further for modeling\n",
    "\n",
    "train_df = train_df_downsampled\n"
   ]
  },
  {
   "cell_type": "code",
   "execution_count": 0,
   "metadata": {
    "application/vnd.databricks.v1+cell": {
     "inputWidgets": {},
     "nuid": "518cbbe9-270e-438a-9aa2-d9cd630241bf",
     "showTitle": false,
     "title": ""
    }
   },
   "outputs": [
    {
     "data": {
      "text/html": [
       "<style scoped>\n",
       "  .ansiout {\n",
       "    display: block;\n",
       "    unicode-bidi: embed;\n",
       "    white-space: pre-wrap;\n",
       "    word-wrap: break-word;\n",
       "    word-break: break-all;\n",
       "    font-family: \"Source Code Pro\", \"Menlo\", monospace;;\n",
       "    font-size: 13px;\n",
       "    color: #555;\n",
       "    margin-left: 4px;\n",
       "    line-height: 19px;\n",
       "  }\n",
       "</style>\n",
       "<div class=\"ansiout\">train_df: negative class has 4968581 rows and positive class has 5017679 rows\n",
       "</div>"
      ]
     },
     "metadata": {
      "application/vnd.databricks.v1+output": {
       "addedWidgets": {},
       "arguments": {},
       "data": "<div class=\"ansiout\">train_df: negative class has 4968581 rows and positive class has 5017679 rows\n</div>",
       "datasetInfos": [],
       "metadata": {},
       "removedWidgets": [],
       "type": "html"
      }
     },
     "output_type": "display_data"
    }
   ],
   "source": [
    "# Checking number of classes on train_df\n",
    "\n",
    "print(\"train_df: negative class has {} rows and positive class has {} rows\".format(train_df.filter(train_df.departure_delay_boolean == 0).count(), train_df.filter(train_df.departure_delay_boolean == 1).count()))\n"
   ]
  },
  {
   "cell_type": "code",
   "execution_count": 0,
   "metadata": {
    "application/vnd.databricks.v1+cell": {
     "inputWidgets": {},
     "nuid": "5e795165-3248-4303-80f2-f323f9987ab2",
     "showTitle": false,
     "title": ""
    }
   },
   "outputs": [
    {
     "data": {
      "text/html": [
       "<style scoped>\n",
       "  .ansiout {\n",
       "    display: block;\n",
       "    unicode-bidi: embed;\n",
       "    white-space: pre-wrap;\n",
       "    word-wrap: break-word;\n",
       "    word-break: break-all;\n",
       "    font-family: \"Source Code Pro\", \"Menlo\", monospace;;\n",
       "    font-size: 13px;\n",
       "    color: #555;\n",
       "    margin-left: 4px;\n",
       "    line-height: 19px;\n",
       "  }\n",
       "</style>\n",
       "<div class=\"ansiout\"></div>"
      ]
     },
     "metadata": {
      "application/vnd.databricks.v1+output": {
       "addedWidgets": {},
       "arguments": {},
       "data": "<div class=\"ansiout\"></div>",
       "datasetInfos": [],
       "metadata": {},
       "removedWidgets": [],
       "type": "html"
      }
     },
     "output_type": "display_data"
    }
   ],
   "source": [
    "# train_df.write.mode('overwrite').parquet(f\"{blob_url}/downsampled_train_data_full_pca_v1\")\n",
    "# test_df.write.mode('overwrite').parquet(f\"{blob_url}/non_downsampled_test_data_full_pca_v1\")\n",
    "\n",
    "train_df.write.mode('overwrite').parquet(f\"{blob_url}/downsampled_train_data_full_pca_v2\")\n",
    "test_df.write.mode('overwrite').parquet(f\"{blob_url}/non_downsampled_test_data_full_pca_v2\")"
   ]
  },
  {
   "cell_type": "code",
   "execution_count": 0,
   "metadata": {
    "application/vnd.databricks.v1+cell": {
     "inputWidgets": {},
     "nuid": "aa115d7a-ea66-4902-85b4-adc11fc40938",
     "showTitle": false,
     "title": ""
    }
   },
   "outputs": [
    {
     "data": {
      "text/html": [
       "<style scoped>\n",
       "  .ansiout {\n",
       "    display: block;\n",
       "    unicode-bidi: embed;\n",
       "    white-space: pre-wrap;\n",
       "    word-wrap: break-word;\n",
       "    word-break: break-all;\n",
       "    font-family: \"Source Code Pro\", \"Menlo\", monospace;;\n",
       "    font-size: 13px;\n",
       "    color: #555;\n",
       "    margin-left: 4px;\n",
       "    line-height: 19px;\n",
       "  }\n",
       "</style>\n",
       "<div class=\"ansiout\"></div>"
      ]
     },
     "metadata": {
      "application/vnd.databricks.v1+output": {
       "addedWidgets": {},
       "arguments": {},
       "data": "<div class=\"ansiout\"></div>",
       "datasetInfos": [],
       "metadata": {},
       "removedWidgets": [],
       "type": "html"
      }
     },
     "output_type": "display_data"
    }
   ],
   "source": [
    "# train_df = spark.read.option(\"header\", \"true\").parquet(f\"{blob_url}/downsampled_train_data_full_pca_v1/*\")\n",
    "# test_df = spark.read.option(\"header\", \"true\").parquet(f\"{blob_url}/non_downsampled_test_data_full_pca_v1/*\")\n",
    "\n",
    "train_df = spark.read.option(\"header\", \"true\").parquet(f\"{blob_url}/downsampled_train_data_full_pca_v2/*\")\n",
    "test_df = spark.read.option(\"header\", \"true\").parquet(f\"{blob_url}/non_downsampled_test_data_full_pca_v2/*\")"
   ]
  },
  {
   "cell_type": "code",
   "execution_count": 0,
   "metadata": {
    "application/vnd.databricks.v1+cell": {
     "inputWidgets": {},
     "nuid": "e8b85094-2716-4928-9144-e6663a9a75d6",
     "showTitle": false,
     "title": ""
    }
   },
   "outputs": [
    {
     "data": {
      "text/html": [
       "<style scoped>\n",
       "  .ansiout {\n",
       "    display: block;\n",
       "    unicode-bidi: embed;\n",
       "    white-space: pre-wrap;\n",
       "    word-wrap: break-word;\n",
       "    word-break: break-all;\n",
       "    font-family: \"Source Code Pro\", \"Menlo\", monospace;;\n",
       "    font-size: 13px;\n",
       "    color: #555;\n",
       "    margin-left: 4px;\n",
       "    line-height: 19px;\n",
       "  }\n",
       "</style>\n",
       "<div class=\"ansiout\">\n",
       "----Categorical columns train-----\n",
       "[&#39;year&#39;, &#39;month&#39;, &#39;day_of_week&#39;, &#39;hour&#39;, &#39;carrier&#39;, &#39;holiday&#39;, &#39;weather_obs_prev&#39;, &#39;weather_obs_prev_2&#39;, &#39;origin&#39;, &#39;destination&#39;, &#39;prev_dep_delayed_confirmed&#39;, &#39;wnd_type_prev&#39;, &#39;vis_var_prev&#39;]\n",
       "\n",
       "----Numeric columns train-----\n",
       "[&#39;planned_time_between_flights&#39;, &#39;distance&#39;, &#39;wnd_angle_prev&#39;, &#39;wnd_speed_prev&#39;, &#39;wnd_cloud_angle_prev&#39;, &#39;vis_dist_prev&#39;, &#39;tmp_c_prev&#39;, &#39;dew_c_prev&#39;, &#39;route_delay&#39;, &#39;origin_arrival_delay&#39;, &#39;origin_departure_delay&#39;, &#39;dest_departure_delay&#39;, &#39;dest_arrival_delay&#39;]\n",
       "</div>"
      ]
     },
     "metadata": {
      "application/vnd.databricks.v1+output": {
       "addedWidgets": {},
       "arguments": {},
       "data": "<div class=\"ansiout\">\n----Categorical columns train-----\n[&#39;year&#39;, &#39;month&#39;, &#39;day_of_week&#39;, &#39;hour&#39;, &#39;carrier&#39;, &#39;holiday&#39;, &#39;weather_obs_prev&#39;, &#39;weather_obs_prev_2&#39;, &#39;origin&#39;, &#39;destination&#39;, &#39;prev_dep_delayed_confirmed&#39;, &#39;wnd_type_prev&#39;, &#39;vis_var_prev&#39;]\n\n----Numeric columns train-----\n[&#39;planned_time_between_flights&#39;, &#39;distance&#39;, &#39;wnd_angle_prev&#39;, &#39;wnd_speed_prev&#39;, &#39;wnd_cloud_angle_prev&#39;, &#39;vis_dist_prev&#39;, &#39;tmp_c_prev&#39;, &#39;dew_c_prev&#39;, &#39;route_delay&#39;, &#39;origin_arrival_delay&#39;, &#39;origin_departure_delay&#39;, &#39;dest_departure_delay&#39;, &#39;dest_arrival_delay&#39;]\n</div>",
       "datasetInfos": [],
       "metadata": {},
       "removedWidgets": [],
       "type": "html"
      }
     },
     "output_type": "display_data"
    }
   ],
   "source": [
    "#Preparing final dataset for modeling\n",
    "# Let's find out the datatype of the features, which will be the same for both train and test data\n",
    "\n",
    "print(\"\\n----Categorical columns train-----\")\n",
    "cat_cols = [x for (x, dataType) in train_df.dtypes if dataType == \"string\"]\n",
    "print(cat_cols)\n",
    "\n",
    "print(\"\\n----Numeric columns train-----\")\n",
    "num_cols = [x for (x, dataType) in train_df.dtypes if (((dataType == \"double\") or (dataType == \"int\")) & (x != \"departure_delay_boolean\"))]\n",
    "print(num_cols)"
   ]
  },
  {
   "cell_type": "code",
   "execution_count": 0,
   "metadata": {
    "application/vnd.databricks.v1+cell": {
     "inputWidgets": {},
     "nuid": "fd0e786f-2143-4452-9555-1937aa519870",
     "showTitle": false,
     "title": ""
    }
   },
   "outputs": [
    {
     "data": {
      "text/html": [
       "<style scoped>\n",
       "  .ansiout {\n",
       "    display: block;\n",
       "    unicode-bidi: embed;\n",
       "    white-space: pre-wrap;\n",
       "    word-wrap: break-word;\n",
       "    word-break: break-all;\n",
       "    font-family: \"Source Code Pro\", \"Menlo\", monospace;;\n",
       "    font-size: 13px;\n",
       "    color: #555;\n",
       "    margin-left: 4px;\n",
       "    line-height: 19px;\n",
       "  }\n",
       "</style>\n",
       "<div class=\"ansiout\"></div>"
      ]
     },
     "metadata": {
      "application/vnd.databricks.v1+output": {
       "addedWidgets": {},
       "arguments": {},
       "data": "<div class=\"ansiout\"></div>",
       "datasetInfos": [],
       "metadata": {},
       "removedWidgets": [],
       "type": "html"
      }
     },
     "output_type": "display_data"
    }
   ],
   "source": [
    "# Changes nulls to 9* for cat vars, not have an impact to the rest of the data since one-hot encoding\n",
    "train_df = train_df.fillna('-999', subset=cat_cols)\n",
    "test_df = test_df.fillna('-999', subset=cat_cols)"
   ]
  },
  {
   "cell_type": "code",
   "execution_count": 0,
   "metadata": {
    "application/vnd.databricks.v1+cell": {
     "inputWidgets": {},
     "nuid": "931a8233-97e9-412d-8c28-08f0f5972009",
     "showTitle": false,
     "title": ""
    }
   },
   "outputs": [
    {
     "data": {
      "text/html": [
       "<style scoped>\n",
       "  .ansiout {\n",
       "    display: block;\n",
       "    unicode-bidi: embed;\n",
       "    white-space: pre-wrap;\n",
       "    word-wrap: break-word;\n",
       "    word-break: break-all;\n",
       "    font-family: \"Source Code Pro\", \"Menlo\", monospace;;\n",
       "    font-size: 13px;\n",
       "    color: #555;\n",
       "    margin-left: 4px;\n",
       "    line-height: 19px;\n",
       "  }\n",
       "</style>\n",
       "<div class=\"ansiout\">Out[25]: </div>"
      ]
     },
     "metadata": {
      "application/vnd.databricks.v1+output": {
       "addedWidgets": {},
       "arguments": {},
       "data": "<div class=\"ansiout\">Out[25]: </div>",
       "datasetInfos": [],
       "metadata": {},
       "removedWidgets": [],
       "type": "html"
      }
     },
     "output_type": "display_data"
    },
    {
     "data": {
      "text/html": [
       "<div>\n",
       "<style scoped>\n",
       "    .dataframe tbody tr th:only-of-type {\n",
       "        vertical-align: middle;\n",
       "    }\n",
       "\n",
       "    .dataframe tbody tr th {\n",
       "        vertical-align: top;\n",
       "    }\n",
       "\n",
       "    .dataframe thead th {\n",
       "        text-align: right;\n",
       "    }\n",
       "</style>\n",
       "<table border=\"1\" class=\"dataframe\">\n",
       "  <thead>\n",
       "    <tr style=\"text-align: right;\">\n",
       "      <th></th>\n",
       "      <th>year</th>\n",
       "      <th>month</th>\n",
       "      <th>day_of_week</th>\n",
       "      <th>hour</th>\n",
       "      <th>carrier</th>\n",
       "      <th>holiday</th>\n",
       "      <th>weather_obs_prev</th>\n",
       "      <th>weather_obs_prev_2</th>\n",
       "      <th>origin</th>\n",
       "      <th>destination</th>\n",
       "      <th>departure_delay_boolean</th>\n",
       "      <th>planned_time_between_flights</th>\n",
       "      <th>prev_dep_delayed_confirmed</th>\n",
       "      <th>distance</th>\n",
       "      <th>wnd_angle_prev</th>\n",
       "      <th>wnd_type_prev</th>\n",
       "      <th>wnd_speed_prev</th>\n",
       "      <th>wnd_cloud_angle_prev</th>\n",
       "      <th>vis_dist_prev</th>\n",
       "      <th>vis_var_prev</th>\n",
       "      <th>tmp_c_prev</th>\n",
       "      <th>dew_c_prev</th>\n",
       "      <th>route_delay</th>\n",
       "      <th>origin_arrival_delay</th>\n",
       "      <th>origin_departure_delay</th>\n",
       "      <th>dest_departure_delay</th>\n",
       "      <th>dest_arrival_delay</th>\n",
       "    </tr>\n",
       "  </thead>\n",
       "  <tbody>\n",
       "    <tr>\n",
       "      <th>0</th>\n",
       "      <td>0</td>\n",
       "      <td>0</td>\n",
       "      <td>0</td>\n",
       "      <td>0</td>\n",
       "      <td>0</td>\n",
       "      <td>0</td>\n",
       "      <td>0</td>\n",
       "      <td>0</td>\n",
       "      <td>0</td>\n",
       "      <td>0</td>\n",
       "      <td>0</td>\n",
       "      <td>50904</td>\n",
       "      <td>0</td>\n",
       "      <td>0</td>\n",
       "      <td>1274111</td>\n",
       "      <td>0</td>\n",
       "      <td>20900</td>\n",
       "      <td>12203</td>\n",
       "      <td>15824</td>\n",
       "      <td>0</td>\n",
       "      <td>16587</td>\n",
       "      <td>19309</td>\n",
       "      <td>15</td>\n",
       "      <td>9</td>\n",
       "      <td>9</td>\n",
       "      <td>0</td>\n",
       "      <td>0</td>\n",
       "    </tr>\n",
       "  </tbody>\n",
       "</table>\n",
       "</div>"
      ]
     },
     "metadata": {
      "application/vnd.databricks.v1+output": {
       "addedWidgets": {},
       "arguments": {},
       "data": "<div>\n<style scoped>\n    .dataframe tbody tr th:only-of-type {\n        vertical-align: middle;\n    }\n\n    .dataframe tbody tr th {\n        vertical-align: top;\n    }\n\n    .dataframe thead th {\n        text-align: right;\n    }\n</style>\n<table border=\"1\" class=\"dataframe\">\n  <thead>\n    <tr style=\"text-align: right;\">\n      <th></th>\n      <th>year</th>\n      <th>month</th>\n      <th>day_of_week</th>\n      <th>hour</th>\n      <th>carrier</th>\n      <th>holiday</th>\n      <th>weather_obs_prev</th>\n      <th>weather_obs_prev_2</th>\n      <th>origin</th>\n      <th>destination</th>\n      <th>departure_delay_boolean</th>\n      <th>planned_time_between_flights</th>\n      <th>prev_dep_delayed_confirmed</th>\n      <th>distance</th>\n      <th>wnd_angle_prev</th>\n      <th>wnd_type_prev</th>\n      <th>wnd_speed_prev</th>\n      <th>wnd_cloud_angle_prev</th>\n      <th>vis_dist_prev</th>\n      <th>vis_var_prev</th>\n      <th>tmp_c_prev</th>\n      <th>dew_c_prev</th>\n      <th>route_delay</th>\n      <th>origin_arrival_delay</th>\n      <th>origin_departure_delay</th>\n      <th>dest_departure_delay</th>\n      <th>dest_arrival_delay</th>\n    </tr>\n  </thead>\n  <tbody>\n    <tr>\n      <th>0</th>\n      <td>0</td>\n      <td>0</td>\n      <td>0</td>\n      <td>0</td>\n      <td>0</td>\n      <td>0</td>\n      <td>0</td>\n      <td>0</td>\n      <td>0</td>\n      <td>0</td>\n      <td>0</td>\n      <td>50904</td>\n      <td>0</td>\n      <td>0</td>\n      <td>1274111</td>\n      <td>0</td>\n      <td>20900</td>\n      <td>12203</td>\n      <td>15824</td>\n      <td>0</td>\n      <td>16587</td>\n      <td>19309</td>\n      <td>15</td>\n      <td>9</td>\n      <td>9</td>\n      <td>0</td>\n      <td>0</td>\n    </tr>\n  </tbody>\n</table>\n</div>",
       "datasetInfos": [],
       "metadata": {},
       "removedWidgets": [],
       "textData": null,
       "type": "htmlSandbox"
      }
     },
     "output_type": "display_data"
    }
   ],
   "source": [
    "# Checking for null values on train_df\n",
    "from pyspark.sql.functions import isnan, when, count, col\n",
    "train_df_miss = train_df.select([count(when(col(c).isNull(), c)).alias(c) for c in train_df.columns]).toPandas()\n",
    "train_df_miss"
   ]
  },
  {
   "cell_type": "code",
   "execution_count": 0,
   "metadata": {
    "application/vnd.databricks.v1+cell": {
     "inputWidgets": {},
     "nuid": "a83eb558-de56-49a1-a0af-ba2b9e8783fd",
     "showTitle": false,
     "title": ""
    }
   },
   "outputs": [
    {
     "data": {
      "text/html": [
       "<style scoped>\n",
       "  .ansiout {\n",
       "    display: block;\n",
       "    unicode-bidi: embed;\n",
       "    white-space: pre-wrap;\n",
       "    word-wrap: break-word;\n",
       "    word-break: break-all;\n",
       "    font-family: \"Source Code Pro\", \"Menlo\", monospace;;\n",
       "    font-size: 13px;\n",
       "    color: #555;\n",
       "    margin-left: 4px;\n",
       "    line-height: 19px;\n",
       "  }\n",
       "</style>\n",
       "<div class=\"ansiout\"></div>"
      ]
     },
     "metadata": {
      "application/vnd.databricks.v1+output": {
       "addedWidgets": {},
       "arguments": {},
       "data": "<div class=\"ansiout\"></div>",
       "datasetInfos": [],
       "metadata": {},
       "removedWidgets": [],
       "type": "html"
      }
     },
     "output_type": "display_data"
    }
   ],
   "source": [
    "# Pipeline Functions\n",
    "# Categorical Variables -> String_Indexer -> OneHotEncoding\n",
    "# Numerical Variables -> Impute missing using median -> Standard Scaler\n",
    "# Create vector assembler\n",
    "\n",
    "from pyspark.ml.feature import (OneHotEncoder, StringIndexer)\n",
    "string_indexer = [\n",
    "    StringIndexer(inputCol=x, outputCol=x + \"_StringIndexer\", handleInvalid=\"skip\")\n",
    "    for x in cat_cols\n",
    "]\n",
    "\n",
    "one_hot_encoder = [\n",
    "    OneHotEncoder(\n",
    "        inputCols=[f\"{x}_StringIndexer\" for x in cat_cols],\n",
    "        outputCols=[f\"{x}_OneHotEncoder\" for x in cat_cols],\n",
    "    )\n",
    "]\n",
    "\n",
    "from pyspark.ml.feature import Imputer\n",
    "\n",
    "imputer = [\n",
    "      Imputer(inputCol=x, outputCol= x + \"_Imputed\").setStrategy(\"median\")\n",
    "      for x in num_cols\n",
    "]\n",
    "\n",
    "\n",
    "from pyspark.ml.feature import StandardScaler  \n",
    "\n",
    "scaler_vector_assembler = VectorAssembler(inputCols = [f\"{x}_Imputed\" for x in num_cols], outputCol=\"numeric_vec\")\n",
    "scaler_vector_assembler.setHandleInvalid('keep')\n",
    "\n",
    "scaler = StandardScaler(inputCol=\"numeric_vec\", outputCol=\"scaled_features\")\n",
    "\n"
   ]
  },
  {
   "cell_type": "code",
   "execution_count": 0,
   "metadata": {
    "application/vnd.databricks.v1+cell": {
     "inputWidgets": {},
     "nuid": "0aa53d35-6834-4bab-88a8-8ac8032c1883",
     "showTitle": false,
     "title": ""
    }
   },
   "outputs": [
    {
     "data": {
      "text/html": [
       "<style scoped>\n",
       "  .ansiout {\n",
       "    display: block;\n",
       "    unicode-bidi: embed;\n",
       "    white-space: pre-wrap;\n",
       "    word-wrap: break-word;\n",
       "    word-break: break-all;\n",
       "    font-family: \"Source Code Pro\", \"Menlo\", monospace;;\n",
       "    font-size: 13px;\n",
       "    color: #555;\n",
       "    margin-left: 4px;\n",
       "    line-height: 19px;\n",
       "  }\n",
       "</style>\n",
       "<div class=\"ansiout\"></div>"
      ]
     },
     "metadata": {
      "application/vnd.databricks.v1+output": {
       "addedWidgets": {},
       "arguments": {},
       "data": "<div class=\"ansiout\"></div>",
       "datasetInfos": [],
       "metadata": {},
       "removedWidgets": [],
       "type": "html"
      }
     },
     "output_type": "display_data"
    }
   ],
   "source": [
    "#Output vector assembler to be used at the modeling step, \n",
    "\n",
    "from pyspark.ml.feature import VectorAssembler\n",
    "\n",
    "assembler_input = [\"scaled_features\"]\n",
    "assembler_input += [f\"{x}_OneHotEncoder\" for x in cat_cols]\n",
    "\n",
    "vector_assembler = VectorAssembler(\n",
    "    inputCols=assembler_input, outputCol=\"VectorAssembler_features\"\n",
    ")\n"
   ]
  },
  {
   "cell_type": "code",
   "execution_count": 0,
   "metadata": {
    "application/vnd.databricks.v1+cell": {
     "inputWidgets": {},
     "nuid": "3a72e2f7-51c4-43d7-b9f2-6aa6fb90aff6",
     "showTitle": false,
     "title": ""
    }
   },
   "outputs": [
    {
     "data": {
      "text/html": [
       "<style scoped>\n",
       "  .ansiout {\n",
       "    display: block;\n",
       "    unicode-bidi: embed;\n",
       "    white-space: pre-wrap;\n",
       "    word-wrap: break-word;\n",
       "    word-break: break-all;\n",
       "    font-family: \"Source Code Pro\", \"Menlo\", monospace;;\n",
       "    font-size: 13px;\n",
       "    color: #555;\n",
       "    margin-left: 4px;\n",
       "    line-height: 19px;\n",
       "  }\n",
       "</style>\n",
       "<div class=\"ansiout\"></div>"
      ]
     },
     "metadata": {
      "application/vnd.databricks.v1+output": {
       "addedWidgets": {},
       "arguments": {},
       "data": "<div class=\"ansiout\"></div>",
       "datasetInfos": [],
       "metadata": {},
       "removedWidgets": [],
       "type": "html"
      }
     },
     "output_type": "display_data"
    }
   ],
   "source": [
    "from pyspark.ml.feature import PCA\n",
    "n_components = 120\n",
    "pca = PCA(\n",
    "    k = n_components, \n",
    "    inputCol = 'VectorAssembler_features', \n",
    "    outputCol = 'pca_features'\n",
    ")"
   ]
  },
  {
   "cell_type": "markdown",
   "metadata": {
    "application/vnd.databricks.v1+cell": {
     "inputWidgets": {},
     "nuid": "7b471c6d-8538-436c-8c59-adef85cf957c",
     "showTitle": false,
     "title": ""
    }
   },
   "source": [
    "### Section 5 - ML Section"
   ]
  },
  {
   "cell_type": "markdown",
   "metadata": {
    "application/vnd.databricks.v1+cell": {
     "inputWidgets": {},
     "nuid": "8b48dce3-93d4-417f-89fd-b80c59da96fc",
     "showTitle": false,
     "title": ""
    }
   },
   "source": [
    "#### 5.0.  Setting up Pipeline"
   ]
  },
  {
   "cell_type": "code",
   "execution_count": 0,
   "metadata": {
    "application/vnd.databricks.v1+cell": {
     "inputWidgets": {},
     "nuid": "183ca5e1-60ed-417e-921e-a189f567d94a",
     "showTitle": false,
     "title": ""
    }
   },
   "outputs": [
    {
     "data": {
      "text/html": [
       "<style scoped>\n",
       "  .ansiout {\n",
       "    display: block;\n",
       "    unicode-bidi: embed;\n",
       "    white-space: pre-wrap;\n",
       "    word-wrap: break-word;\n",
       "    word-break: break-all;\n",
       "    font-family: \"Source Code Pro\", \"Menlo\", monospace;;\n",
       "    font-size: 13px;\n",
       "    color: #555;\n",
       "    margin-left: 4px;\n",
       "    line-height: 19px;\n",
       "  }\n",
       "</style>\n",
       "<div class=\"ansiout\"></div>"
      ]
     },
     "metadata": {
      "application/vnd.databricks.v1+output": {
       "addedWidgets": {},
       "arguments": {},
       "data": "<div class=\"ansiout\"></div>",
       "datasetInfos": [],
       "metadata": {},
       "removedWidgets": [],
       "type": "html"
      }
     },
     "output_type": "display_data"
    }
   ],
   "source": [
    "## Pipeline Steps\n",
    "\n",
    "stages = []\n",
    "stages += imputer\n",
    "stages += [scaler_vector_assembler, scaler]\n",
    "stages += string_indexer\n",
    "stages += one_hot_encoder\n",
    "stages += [vector_assembler]\n",
    "stages += [pca]"
   ]
  },
  {
   "cell_type": "code",
   "execution_count": 0,
   "metadata": {
    "application/vnd.databricks.v1+cell": {
     "inputWidgets": {},
     "nuid": "9bab2ffb-4c28-49e8-8023-35174d36ee23",
     "showTitle": false,
     "title": ""
    }
   },
   "outputs": [
    {
     "data": {
      "text/html": [
       "<style scoped>\n",
       "  .ansiout {\n",
       "    display: block;\n",
       "    unicode-bidi: embed;\n",
       "    white-space: pre-wrap;\n",
       "    word-wrap: break-word;\n",
       "    word-break: break-all;\n",
       "    font-family: \"Source Code Pro\", \"Menlo\", monospace;;\n",
       "    font-size: 13px;\n",
       "    color: #555;\n",
       "    margin-left: 4px;\n",
       "    line-height: 19px;\n",
       "  }\n",
       "</style>\n",
       "<div class=\"ansiout\"></div>"
      ]
     },
     "metadata": {
      "application/vnd.databricks.v1+output": {
       "addedWidgets": {},
       "arguments": {},
       "data": "<div class=\"ansiout\"></div>",
       "datasetInfos": [],
       "metadata": {},
       "removedWidgets": [],
       "type": "html"
      }
     },
     "output_type": "display_data"
    }
   ],
   "source": [
    "general_pipeline = Pipeline().setStages(stages)\n",
    "pipeline_model = general_pipeline.fit(train_df)\n",
    "model_data_test = pipeline_model.transform(test_df)\n",
    "model_data_train = pipeline_model.transform(train_df) \n",
    "\n",
    "selectedcols = [\"departure_delay_boolean\", \"VectorAssembler_features\", \"pca_features\"]\n",
    "\n",
    "model_data_train = model_data_train.select(selectedcols)\n",
    "model_data_test = model_data_test.select(selectedcols)"
   ]
  },
  {
   "cell_type": "code",
   "execution_count": 0,
   "metadata": {
    "application/vnd.databricks.v1+cell": {
     "inputWidgets": {},
     "nuid": "3dce1c64-3f90-4398-9d8e-e812e4e4fe1d",
     "showTitle": false,
     "title": ""
    }
   },
   "outputs": [
    {
     "data": {
      "text/html": [
       "<table border=\"1\" class=\"dataframe\">\n",
       "  <thead>\n",
       "    <tr style=\"text-align: right;\">\n",
       "      <th>Component</th>\n",
       "      <th>Partial Variance (%)</th>\n",
       "      <th>Cumulative Variance (%)</th>\n",
       "    </tr>\n",
       "  </thead>\n",
       "  <tbody>\n",
       "    <tr>\n",
       "      <td>1</td>\n",
       "      <td>15.732709</td>\n",
       "      <td>15.732709</td>\n",
       "    </tr>\n",
       "    <tr>\n",
       "      <td>2</td>\n",
       "      <td>9.669473</td>\n",
       "      <td>25.402182</td>\n",
       "    </tr>\n",
       "    <tr>\n",
       "      <td>3</td>\n",
       "      <td>7.701814</td>\n",
       "      <td>33.103996</td>\n",
       "    </tr>\n",
       "    <tr>\n",
       "      <td>4</td>\n",
       "      <td>6.931276</td>\n",
       "      <td>40.035273</td>\n",
       "    </tr>\n",
       "    <tr>\n",
       "      <td>5</td>\n",
       "      <td>5.336007</td>\n",
       "      <td>45.371280</td>\n",
       "    </tr>\n",
       "    <tr>\n",
       "      <td>6</td>\n",
       "      <td>5.210577</td>\n",
       "      <td>50.581857</td>\n",
       "    </tr>\n",
       "    <tr>\n",
       "      <td>7</td>\n",
       "      <td>4.758248</td>\n",
       "      <td>55.340105</td>\n",
       "    </tr>\n",
       "    <tr>\n",
       "      <td>8</td>\n",
       "      <td>4.424076</td>\n",
       "      <td>59.764181</td>\n",
       "    </tr>\n",
       "    <tr>\n",
       "      <td>9</td>\n",
       "      <td>3.196409</td>\n",
       "      <td>62.960590</td>\n",
       "    </tr>\n",
       "    <tr>\n",
       "      <td>10</td>\n",
       "      <td>1.858461</td>\n",
       "      <td>64.819050</td>\n",
       "    </tr>\n",
       "    <tr>\n",
       "      <td>11</td>\n",
       "      <td>1.575695</td>\n",
       "      <td>66.394745</td>\n",
       "    </tr>\n",
       "    <tr>\n",
       "      <td>12</td>\n",
       "      <td>1.516941</td>\n",
       "      <td>67.911686</td>\n",
       "    </tr>\n",
       "    <tr>\n",
       "      <td>13</td>\n",
       "      <td>1.338702</td>\n",
       "      <td>69.250388</td>\n",
       "    </tr>\n",
       "    <tr>\n",
       "      <td>14</td>\n",
       "      <td>1.129425</td>\n",
       "      <td>70.379812</td>\n",
       "    </tr>\n",
       "    <tr>\n",
       "      <td>15</td>\n",
       "      <td>1.085603</td>\n",
       "      <td>71.465416</td>\n",
       "    </tr>\n",
       "    <tr>\n",
       "      <td>16</td>\n",
       "      <td>1.057168</td>\n",
       "      <td>72.522584</td>\n",
       "    </tr>\n",
       "    <tr>\n",
       "      <td>17</td>\n",
       "      <td>0.999258</td>\n",
       "      <td>73.521843</td>\n",
       "    </tr>\n",
       "    <tr>\n",
       "      <td>18</td>\n",
       "      <td>0.870675</td>\n",
       "      <td>74.392518</td>\n",
       "    </tr>\n",
       "    <tr>\n",
       "      <td>19</td>\n",
       "      <td>0.758411</td>\n",
       "      <td>75.150928</td>\n",
       "    </tr>\n",
       "    <tr>\n",
       "      <td>20</td>\n",
       "      <td>0.743737</td>\n",
       "      <td>75.894665</td>\n",
       "    </tr>\n",
       "    <tr>\n",
       "      <td>21</td>\n",
       "      <td>0.736548</td>\n",
       "      <td>76.631213</td>\n",
       "    </tr>\n",
       "    <tr>\n",
       "      <td>22</td>\n",
       "      <td>0.713575</td>\n",
       "      <td>77.344788</td>\n",
       "    </tr>\n",
       "    <tr>\n",
       "      <td>23</td>\n",
       "      <td>0.706159</td>\n",
       "      <td>78.050947</td>\n",
       "    </tr>\n",
       "    <tr>\n",
       "      <td>24</td>\n",
       "      <td>0.617751</td>\n",
       "      <td>78.668697</td>\n",
       "    </tr>\n",
       "    <tr>\n",
       "      <td>25</td>\n",
       "      <td>0.606911</td>\n",
       "      <td>79.275609</td>\n",
       "    </tr>\n",
       "    <tr>\n",
       "      <td>26</td>\n",
       "      <td>0.493000</td>\n",
       "      <td>79.768609</td>\n",
       "    </tr>\n",
       "    <tr>\n",
       "      <td>27</td>\n",
       "      <td>0.478616</td>\n",
       "      <td>80.247225</td>\n",
       "    </tr>\n",
       "    <tr>\n",
       "      <td>28</td>\n",
       "      <td>0.476291</td>\n",
       "      <td>80.723517</td>\n",
       "    </tr>\n",
       "    <tr>\n",
       "      <td>29</td>\n",
       "      <td>0.450930</td>\n",
       "      <td>81.174446</td>\n",
       "    </tr>\n",
       "    <tr>\n",
       "      <td>30</td>\n",
       "      <td>0.442327</td>\n",
       "      <td>81.616773</td>\n",
       "    </tr>\n",
       "    <tr>\n",
       "      <td>31</td>\n",
       "      <td>0.439978</td>\n",
       "      <td>82.056751</td>\n",
       "    </tr>\n",
       "    <tr>\n",
       "      <td>32</td>\n",
       "      <td>0.405533</td>\n",
       "      <td>82.462284</td>\n",
       "    </tr>\n",
       "    <tr>\n",
       "      <td>33</td>\n",
       "      <td>0.403165</td>\n",
       "      <td>82.865449</td>\n",
       "    </tr>\n",
       "    <tr>\n",
       "      <td>34</td>\n",
       "      <td>0.382829</td>\n",
       "      <td>83.248278</td>\n",
       "    </tr>\n",
       "    <tr>\n",
       "      <td>35</td>\n",
       "      <td>0.372446</td>\n",
       "      <td>83.620724</td>\n",
       "    </tr>\n",
       "    <tr>\n",
       "      <td>36</td>\n",
       "      <td>0.365396</td>\n",
       "      <td>83.986120</td>\n",
       "    </tr>\n",
       "    <tr>\n",
       "      <td>37</td>\n",
       "      <td>0.355062</td>\n",
       "      <td>84.341182</td>\n",
       "    </tr>\n",
       "    <tr>\n",
       "      <td>38</td>\n",
       "      <td>0.354187</td>\n",
       "      <td>84.695369</td>\n",
       "    </tr>\n",
       "    <tr>\n",
       "      <td>39</td>\n",
       "      <td>0.325108</td>\n",
       "      <td>85.020477</td>\n",
       "    </tr>\n",
       "    <tr>\n",
       "      <td>40</td>\n",
       "      <td>0.322332</td>\n",
       "      <td>85.342809</td>\n",
       "    </tr>\n",
       "    <tr>\n",
       "      <td>41</td>\n",
       "      <td>0.320532</td>\n",
       "      <td>85.663341</td>\n",
       "    </tr>\n",
       "    <tr>\n",
       "      <td>42</td>\n",
       "      <td>0.308534</td>\n",
       "      <td>85.971875</td>\n",
       "    </tr>\n",
       "    <tr>\n",
       "      <td>43</td>\n",
       "      <td>0.307549</td>\n",
       "      <td>86.279424</td>\n",
       "    </tr>\n",
       "    <tr>\n",
       "      <td>44</td>\n",
       "      <td>0.302954</td>\n",
       "      <td>86.582377</td>\n",
       "    </tr>\n",
       "    <tr>\n",
       "      <td>45</td>\n",
       "      <td>0.299717</td>\n",
       "      <td>86.882094</td>\n",
       "    </tr>\n",
       "    <tr>\n",
       "      <td>46</td>\n",
       "      <td>0.293478</td>\n",
       "      <td>87.175572</td>\n",
       "    </tr>\n",
       "    <tr>\n",
       "      <td>47</td>\n",
       "      <td>0.289723</td>\n",
       "      <td>87.465296</td>\n",
       "    </tr>\n",
       "    <tr>\n",
       "      <td>48</td>\n",
       "      <td>0.283917</td>\n",
       "      <td>87.749213</td>\n",
       "    </tr>\n",
       "    <tr>\n",
       "      <td>49</td>\n",
       "      <td>0.282026</td>\n",
       "      <td>88.031239</td>\n",
       "    </tr>\n",
       "    <tr>\n",
       "      <td>50</td>\n",
       "      <td>0.278031</td>\n",
       "      <td>88.309270</td>\n",
       "    </tr>\n",
       "    <tr>\n",
       "      <td>51</td>\n",
       "      <td>0.268476</td>\n",
       "      <td>88.577746</td>\n",
       "    </tr>\n",
       "    <tr>\n",
       "      <td>52</td>\n",
       "      <td>0.262874</td>\n",
       "      <td>88.840620</td>\n",
       "    </tr>\n",
       "    <tr>\n",
       "      <td>53</td>\n",
       "      <td>0.257849</td>\n",
       "      <td>89.098469</td>\n",
       "    </tr>\n",
       "    <tr>\n",
       "      <td>54</td>\n",
       "      <td>0.244252</td>\n",
       "      <td>89.342722</td>\n",
       "    </tr>\n",
       "    <tr>\n",
       "      <td>55</td>\n",
       "      <td>0.230654</td>\n",
       "      <td>89.573376</td>\n",
       "    </tr>\n",
       "    <tr>\n",
       "      <td>56</td>\n",
       "      <td>0.198499</td>\n",
       "      <td>89.771875</td>\n",
       "    </tr>\n",
       "    <tr>\n",
       "      <td>57</td>\n",
       "      <td>0.197408</td>\n",
       "      <td>89.969283</td>\n",
       "    </tr>\n",
       "    <tr>\n",
       "      <td>58</td>\n",
       "      <td>0.194417</td>\n",
       "      <td>90.163700</td>\n",
       "    </tr>\n",
       "    <tr>\n",
       "      <td>59</td>\n",
       "      <td>0.190007</td>\n",
       "      <td>90.353706</td>\n",
       "    </tr>\n",
       "    <tr>\n",
       "      <td>60</td>\n",
       "      <td>0.188382</td>\n",
       "      <td>90.542088</td>\n",
       "    </tr>\n",
       "    <tr>\n",
       "      <td>61</td>\n",
       "      <td>0.177412</td>\n",
       "      <td>90.719500</td>\n",
       "    </tr>\n",
       "    <tr>\n",
       "      <td>62</td>\n",
       "      <td>0.174689</td>\n",
       "      <td>90.894189</td>\n",
       "    </tr>\n",
       "    <tr>\n",
       "      <td>63</td>\n",
       "      <td>0.170581</td>\n",
       "      <td>91.064770</td>\n",
       "    </tr>\n",
       "    <tr>\n",
       "      <td>64</td>\n",
       "      <td>0.160497</td>\n",
       "      <td>91.225267</td>\n",
       "    </tr>\n",
       "    <tr>\n",
       "      <td>65</td>\n",
       "      <td>0.159642</td>\n",
       "      <td>91.384909</td>\n",
       "    </tr>\n",
       "    <tr>\n",
       "      <td>66</td>\n",
       "      <td>0.149772</td>\n",
       "      <td>91.534681</td>\n",
       "    </tr>\n",
       "    <tr>\n",
       "      <td>67</td>\n",
       "      <td>0.145933</td>\n",
       "      <td>91.680614</td>\n",
       "    </tr>\n",
       "    <tr>\n",
       "      <td>68</td>\n",
       "      <td>0.143800</td>\n",
       "      <td>91.824414</td>\n",
       "    </tr>\n",
       "    <tr>\n",
       "      <td>69</td>\n",
       "      <td>0.133868</td>\n",
       "      <td>91.958282</td>\n",
       "    </tr>\n",
       "    <tr>\n",
       "      <td>70</td>\n",
       "      <td>0.129535</td>\n",
       "      <td>92.087817</td>\n",
       "    </tr>\n",
       "    <tr>\n",
       "      <td>71</td>\n",
       "      <td>0.127663</td>\n",
       "      <td>92.215480</td>\n",
       "    </tr>\n",
       "    <tr>\n",
       "      <td>72</td>\n",
       "      <td>0.125965</td>\n",
       "      <td>92.341445</td>\n",
       "    </tr>\n",
       "    <tr>\n",
       "      <td>73</td>\n",
       "      <td>0.123238</td>\n",
       "      <td>92.464683</td>\n",
       "    </tr>\n",
       "    <tr>\n",
       "      <td>74</td>\n",
       "      <td>0.119670</td>\n",
       "      <td>92.584352</td>\n",
       "    </tr>\n",
       "    <tr>\n",
       "      <td>75</td>\n",
       "      <td>0.117254</td>\n",
       "      <td>92.701606</td>\n",
       "    </tr>\n",
       "    <tr>\n",
       "      <td>76</td>\n",
       "      <td>0.115799</td>\n",
       "      <td>92.817404</td>\n",
       "    </tr>\n",
       "    <tr>\n",
       "      <td>77</td>\n",
       "      <td>0.114376</td>\n",
       "      <td>92.931780</td>\n",
       "    </tr>\n",
       "    <tr>\n",
       "      <td>78</td>\n",
       "      <td>0.112809</td>\n",
       "      <td>93.044589</td>\n",
       "    </tr>\n",
       "    <tr>\n",
       "      <td>79</td>\n",
       "      <td>0.108890</td>\n",
       "      <td>93.153479</td>\n",
       "    </tr>\n",
       "    <tr>\n",
       "      <td>80</td>\n",
       "      <td>0.107320</td>\n",
       "      <td>93.260799</td>\n",
       "    </tr>\n",
       "    <tr>\n",
       "      <td>81</td>\n",
       "      <td>0.105587</td>\n",
       "      <td>93.366386</td>\n",
       "    </tr>\n",
       "    <tr>\n",
       "      <td>82</td>\n",
       "      <td>0.105251</td>\n",
       "      <td>93.471637</td>\n",
       "    </tr>\n",
       "    <tr>\n",
       "      <td>83</td>\n",
       "      <td>0.103881</td>\n",
       "      <td>93.575518</td>\n",
       "    </tr>\n",
       "    <tr>\n",
       "      <td>84</td>\n",
       "      <td>0.102453</td>\n",
       "      <td>93.677971</td>\n",
       "    </tr>\n",
       "    <tr>\n",
       "      <td>85</td>\n",
       "      <td>0.099695</td>\n",
       "      <td>93.777666</td>\n",
       "    </tr>\n",
       "    <tr>\n",
       "      <td>86</td>\n",
       "      <td>0.098345</td>\n",
       "      <td>93.876012</td>\n",
       "    </tr>\n",
       "    <tr>\n",
       "      <td>87</td>\n",
       "      <td>0.095223</td>\n",
       "      <td>93.971235</td>\n",
       "    </tr>\n",
       "    <tr>\n",
       "      <td>88</td>\n",
       "      <td>0.094478</td>\n",
       "      <td>94.065713</td>\n",
       "    </tr>\n",
       "    <tr>\n",
       "      <td>89</td>\n",
       "      <td>0.093527</td>\n",
       "      <td>94.159240</td>\n",
       "    </tr>\n",
       "    <tr>\n",
       "      <td>90</td>\n",
       "      <td>0.092493</td>\n",
       "      <td>94.251733</td>\n",
       "    </tr>\n",
       "    <tr>\n",
       "      <td>91</td>\n",
       "      <td>0.088770</td>\n",
       "      <td>94.340503</td>\n",
       "    </tr>\n",
       "    <tr>\n",
       "      <td>92</td>\n",
       "      <td>0.087606</td>\n",
       "      <td>94.428109</td>\n",
       "    </tr>\n",
       "    <tr>\n",
       "      <td>93</td>\n",
       "      <td>0.086907</td>\n",
       "      <td>94.515017</td>\n",
       "    </tr>\n",
       "    <tr>\n",
       "      <td>94</td>\n",
       "      <td>0.083974</td>\n",
       "      <td>94.598990</td>\n",
       "    </tr>\n",
       "    <tr>\n",
       "      <td>95</td>\n",
       "      <td>0.082760</td>\n",
       "      <td>94.681751</td>\n",
       "    </tr>\n",
       "    <tr>\n",
       "      <td>96</td>\n",
       "      <td>0.079580</td>\n",
       "      <td>94.761331</td>\n",
       "    </tr>\n",
       "    <tr>\n",
       "      <td>97</td>\n",
       "      <td>0.079482</td>\n",
       "      <td>94.840813</td>\n",
       "    </tr>\n",
       "    <tr>\n",
       "      <td>98</td>\n",
       "      <td>0.075448</td>\n",
       "      <td>94.916261</td>\n",
       "    </tr>\n",
       "    <tr>\n",
       "      <td>99</td>\n",
       "      <td>0.073942</td>\n",
       "      <td>94.990203</td>\n",
       "    </tr>\n",
       "    <tr>\n",
       "      <td>100</td>\n",
       "      <td>0.073002</td>\n",
       "      <td>95.063205</td>\n",
       "    </tr>\n",
       "    <tr>\n",
       "      <td>101</td>\n",
       "      <td>0.072464</td>\n",
       "      <td>95.135669</td>\n",
       "    </tr>\n",
       "    <tr>\n",
       "      <td>102</td>\n",
       "      <td>0.071240</td>\n",
       "      <td>95.206910</td>\n",
       "    </tr>\n",
       "    <tr>\n",
       "      <td>103</td>\n",
       "      <td>0.068911</td>\n",
       "      <td>95.275820</td>\n",
       "    </tr>\n",
       "    <tr>\n",
       "      <td>104</td>\n",
       "      <td>0.067363</td>\n",
       "      <td>95.343184</td>\n",
       "    </tr>\n",
       "    <tr>\n",
       "      <td>105</td>\n",
       "      <td>0.066691</td>\n",
       "      <td>95.409875</td>\n",
       "    </tr>\n",
       "    <tr>\n",
       "      <td>106</td>\n",
       "      <td>0.066033</td>\n",
       "      <td>95.475908</td>\n",
       "    </tr>\n",
       "    <tr>\n",
       "      <td>107</td>\n",
       "      <td>0.064755</td>\n",
       "      <td>95.540662</td>\n",
       "    </tr>\n",
       "    <tr>\n",
       "      <td>108</td>\n",
       "      <td>0.063930</td>\n",
       "      <td>95.604592</td>\n",
       "    </tr>\n",
       "    <tr>\n",
       "      <td>109</td>\n",
       "      <td>0.062894</td>\n",
       "      <td>95.667486</td>\n",
       "    </tr>\n",
       "    <tr>\n",
       "      <td>110</td>\n",
       "      <td>0.062351</td>\n",
       "      <td>95.729837</td>\n",
       "    </tr>\n",
       "    <tr>\n",
       "      <td>111</td>\n",
       "      <td>0.061496</td>\n",
       "      <td>95.791333</td>\n",
       "    </tr>\n",
       "    <tr>\n",
       "      <td>112</td>\n",
       "      <td>0.061337</td>\n",
       "      <td>95.852670</td>\n",
       "    </tr>\n",
       "    <tr>\n",
       "      <td>113</td>\n",
       "      <td>0.060697</td>\n",
       "      <td>95.913367</td>\n",
       "    </tr>\n",
       "    <tr>\n",
       "      <td>114</td>\n",
       "      <td>0.057917</td>\n",
       "      <td>95.971284</td>\n",
       "    </tr>\n",
       "    <tr>\n",
       "      <td>115</td>\n",
       "      <td>0.055933</td>\n",
       "      <td>96.027217</td>\n",
       "    </tr>\n",
       "    <tr>\n",
       "      <td>116</td>\n",
       "      <td>0.055800</td>\n",
       "      <td>96.083017</td>\n",
       "    </tr>\n",
       "    <tr>\n",
       "      <td>117</td>\n",
       "      <td>0.053830</td>\n",
       "      <td>96.136847</td>\n",
       "    </tr>\n",
       "    <tr>\n",
       "      <td>118</td>\n",
       "      <td>0.053366</td>\n",
       "      <td>96.190213</td>\n",
       "    </tr>\n",
       "    <tr>\n",
       "      <td>119</td>\n",
       "      <td>0.051915</td>\n",
       "      <td>96.242128</td>\n",
       "    </tr>\n",
       "    <tr>\n",
       "      <td>120</td>\n",
       "      <td>0.049683</td>\n",
       "      <td>96.291812</td>\n",
       "    </tr>\n",
       "  </tbody>\n",
       "</table>"
      ]
     },
     "metadata": {
      "application/vnd.databricks.v1+output": {
       "addedWidgets": {},
       "arguments": {},
       "data": "<table border=\"1\" class=\"dataframe\">\n  <thead>\n    <tr style=\"text-align: right;\">\n      <th>Component</th>\n      <th>Partial Variance (%)</th>\n      <th>Cumulative Variance (%)</th>\n    </tr>\n  </thead>\n  <tbody>\n    <tr>\n      <td>1</td>\n      <td>15.732709</td>\n      <td>15.732709</td>\n    </tr>\n    <tr>\n      <td>2</td>\n      <td>9.669473</td>\n      <td>25.402182</td>\n    </tr>\n    <tr>\n      <td>3</td>\n      <td>7.701814</td>\n      <td>33.103996</td>\n    </tr>\n    <tr>\n      <td>4</td>\n      <td>6.931276</td>\n      <td>40.035273</td>\n    </tr>\n    <tr>\n      <td>5</td>\n      <td>5.336007</td>\n      <td>45.371280</td>\n    </tr>\n    <tr>\n      <td>6</td>\n      <td>5.210577</td>\n      <td>50.581857</td>\n    </tr>\n    <tr>\n      <td>7</td>\n      <td>4.758248</td>\n      <td>55.340105</td>\n    </tr>\n    <tr>\n      <td>8</td>\n      <td>4.424076</td>\n      <td>59.764181</td>\n    </tr>\n    <tr>\n      <td>9</td>\n      <td>3.196409</td>\n      <td>62.960590</td>\n    </tr>\n    <tr>\n      <td>10</td>\n      <td>1.858461</td>\n      <td>64.819050</td>\n    </tr>\n    <tr>\n      <td>11</td>\n      <td>1.575695</td>\n      <td>66.394745</td>\n    </tr>\n    <tr>\n      <td>12</td>\n      <td>1.516941</td>\n      <td>67.911686</td>\n    </tr>\n    <tr>\n      <td>13</td>\n      <td>1.338702</td>\n      <td>69.250388</td>\n    </tr>\n    <tr>\n      <td>14</td>\n      <td>1.129425</td>\n      <td>70.379812</td>\n    </tr>\n    <tr>\n      <td>15</td>\n      <td>1.085603</td>\n      <td>71.465416</td>\n    </tr>\n    <tr>\n      <td>16</td>\n      <td>1.057168</td>\n      <td>72.522584</td>\n    </tr>\n    <tr>\n      <td>17</td>\n      <td>0.999258</td>\n      <td>73.521843</td>\n    </tr>\n    <tr>\n      <td>18</td>\n      <td>0.870675</td>\n      <td>74.392518</td>\n    </tr>\n    <tr>\n      <td>19</td>\n      <td>0.758411</td>\n      <td>75.150928</td>\n    </tr>\n    <tr>\n      <td>20</td>\n      <td>0.743737</td>\n      <td>75.894665</td>\n    </tr>\n    <tr>\n      <td>21</td>\n      <td>0.736548</td>\n      <td>76.631213</td>\n    </tr>\n    <tr>\n      <td>22</td>\n      <td>0.713575</td>\n      <td>77.344788</td>\n    </tr>\n    <tr>\n      <td>23</td>\n      <td>0.706159</td>\n      <td>78.050947</td>\n    </tr>\n    <tr>\n      <td>24</td>\n      <td>0.617751</td>\n      <td>78.668697</td>\n    </tr>\n    <tr>\n      <td>25</td>\n      <td>0.606911</td>\n      <td>79.275609</td>\n    </tr>\n    <tr>\n      <td>26</td>\n      <td>0.493000</td>\n      <td>79.768609</td>\n    </tr>\n    <tr>\n      <td>27</td>\n      <td>0.478616</td>\n      <td>80.247225</td>\n    </tr>\n    <tr>\n      <td>28</td>\n      <td>0.476291</td>\n      <td>80.723517</td>\n    </tr>\n    <tr>\n      <td>29</td>\n      <td>0.450930</td>\n      <td>81.174446</td>\n    </tr>\n    <tr>\n      <td>30</td>\n      <td>0.442327</td>\n      <td>81.616773</td>\n    </tr>\n    <tr>\n      <td>31</td>\n      <td>0.439978</td>\n      <td>82.056751</td>\n    </tr>\n    <tr>\n      <td>32</td>\n      <td>0.405533</td>\n      <td>82.462284</td>\n    </tr>\n    <tr>\n      <td>33</td>\n      <td>0.403165</td>\n      <td>82.865449</td>\n    </tr>\n    <tr>\n      <td>34</td>\n      <td>0.382829</td>\n      <td>83.248278</td>\n    </tr>\n    <tr>\n      <td>35</td>\n      <td>0.372446</td>\n      <td>83.620724</td>\n    </tr>\n    <tr>\n      <td>36</td>\n      <td>0.365396</td>\n      <td>83.986120</td>\n    </tr>\n    <tr>\n      <td>37</td>\n      <td>0.355062</td>\n      <td>84.341182</td>\n    </tr>\n    <tr>\n      <td>38</td>\n      <td>0.354187</td>\n      <td>84.695369</td>\n    </tr>\n    <tr>\n      <td>39</td>\n      <td>0.325108</td>\n      <td>85.020477</td>\n    </tr>\n    <tr>\n      <td>40</td>\n      <td>0.322332</td>\n      <td>85.342809</td>\n    </tr>\n    <tr>\n      <td>41</td>\n      <td>0.320532</td>\n      <td>85.663341</td>\n    </tr>\n    <tr>\n      <td>42</td>\n      <td>0.308534</td>\n      <td>85.971875</td>\n    </tr>\n    <tr>\n      <td>43</td>\n      <td>0.307549</td>\n      <td>86.279424</td>\n    </tr>\n    <tr>\n      <td>44</td>\n      <td>0.302954</td>\n      <td>86.582377</td>\n    </tr>\n    <tr>\n      <td>45</td>\n      <td>0.299717</td>\n      <td>86.882094</td>\n    </tr>\n    <tr>\n      <td>46</td>\n      <td>0.293478</td>\n      <td>87.175572</td>\n    </tr>\n    <tr>\n      <td>47</td>\n      <td>0.289723</td>\n      <td>87.465296</td>\n    </tr>\n    <tr>\n      <td>48</td>\n      <td>0.283917</td>\n      <td>87.749213</td>\n    </tr>\n    <tr>\n      <td>49</td>\n      <td>0.282026</td>\n      <td>88.031239</td>\n    </tr>\n    <tr>\n      <td>50</td>\n      <td>0.278031</td>\n      <td>88.309270</td>\n    </tr>\n    <tr>\n      <td>51</td>\n      <td>0.268476</td>\n      <td>88.577746</td>\n    </tr>\n    <tr>\n      <td>52</td>\n      <td>0.262874</td>\n      <td>88.840620</td>\n    </tr>\n    <tr>\n      <td>53</td>\n      <td>0.257849</td>\n      <td>89.098469</td>\n    </tr>\n    <tr>\n      <td>54</td>\n      <td>0.244252</td>\n      <td>89.342722</td>\n    </tr>\n    <tr>\n      <td>55</td>\n      <td>0.230654</td>\n      <td>89.573376</td>\n    </tr>\n    <tr>\n      <td>56</td>\n      <td>0.198499</td>\n      <td>89.771875</td>\n    </tr>\n    <tr>\n      <td>57</td>\n      <td>0.197408</td>\n      <td>89.969283</td>\n    </tr>\n    <tr>\n      <td>58</td>\n      <td>0.194417</td>\n      <td>90.163700</td>\n    </tr>\n    <tr>\n      <td>59</td>\n      <td>0.190007</td>\n      <td>90.353706</td>\n    </tr>\n    <tr>\n      <td>60</td>\n      <td>0.188382</td>\n      <td>90.542088</td>\n    </tr>\n    <tr>\n      <td>61</td>\n      <td>0.177412</td>\n      <td>90.719500</td>\n    </tr>\n    <tr>\n      <td>62</td>\n      <td>0.174689</td>\n      <td>90.894189</td>\n    </tr>\n    <tr>\n      <td>63</td>\n      <td>0.170581</td>\n      <td>91.064770</td>\n    </tr>\n    <tr>\n      <td>64</td>\n      <td>0.160497</td>\n      <td>91.225267</td>\n    </tr>\n    <tr>\n      <td>65</td>\n      <td>0.159642</td>\n      <td>91.384909</td>\n    </tr>\n    <tr>\n      <td>66</td>\n      <td>0.149772</td>\n      <td>91.534681</td>\n    </tr>\n    <tr>\n      <td>67</td>\n      <td>0.145933</td>\n      <td>91.680614</td>\n    </tr>\n    <tr>\n      <td>68</td>\n      <td>0.143800</td>\n      <td>91.824414</td>\n    </tr>\n    <tr>\n      <td>69</td>\n      <td>0.133868</td>\n      <td>91.958282</td>\n    </tr>\n    <tr>\n      <td>70</td>\n      <td>0.129535</td>\n      <td>92.087817</td>\n    </tr>\n    <tr>\n      <td>71</td>\n      <td>0.127663</td>\n      <td>92.215480</td>\n    </tr>\n    <tr>\n      <td>72</td>\n      <td>0.125965</td>\n      <td>92.341445</td>\n    </tr>\n    <tr>\n      <td>73</td>\n      <td>0.123238</td>\n      <td>92.464683</td>\n    </tr>\n    <tr>\n      <td>74</td>\n      <td>0.119670</td>\n      <td>92.584352</td>\n    </tr>\n    <tr>\n      <td>75</td>\n      <td>0.117254</td>\n      <td>92.701606</td>\n    </tr>\n    <tr>\n      <td>76</td>\n      <td>0.115799</td>\n      <td>92.817404</td>\n    </tr>\n    <tr>\n      <td>77</td>\n      <td>0.114376</td>\n      <td>92.931780</td>\n    </tr>\n    <tr>\n      <td>78</td>\n      <td>0.112809</td>\n      <td>93.044589</td>\n    </tr>\n    <tr>\n      <td>79</td>\n      <td>0.108890</td>\n      <td>93.153479</td>\n    </tr>\n    <tr>\n      <td>80</td>\n      <td>0.107320</td>\n      <td>93.260799</td>\n    </tr>\n    <tr>\n      <td>81</td>\n      <td>0.105587</td>\n      <td>93.366386</td>\n    </tr>\n    <tr>\n      <td>82</td>\n      <td>0.105251</td>\n      <td>93.471637</td>\n    </tr>\n    <tr>\n      <td>83</td>\n      <td>0.103881</td>\n      <td>93.575518</td>\n    </tr>\n    <tr>\n      <td>84</td>\n      <td>0.102453</td>\n      <td>93.677971</td>\n    </tr>\n    <tr>\n      <td>85</td>\n      <td>0.099695</td>\n      <td>93.777666</td>\n    </tr>\n    <tr>\n      <td>86</td>\n      <td>0.098345</td>\n      <td>93.876012</td>\n    </tr>\n    <tr>\n      <td>87</td>\n      <td>0.095223</td>\n      <td>93.971235</td>\n    </tr>\n    <tr>\n      <td>88</td>\n      <td>0.094478</td>\n      <td>94.065713</td>\n    </tr>\n    <tr>\n      <td>89</td>\n      <td>0.093527</td>\n      <td>94.159240</td>\n    </tr>\n    <tr>\n      <td>90</td>\n      <td>0.092493</td>\n      <td>94.251733</td>\n    </tr>\n    <tr>\n      <td>91</td>\n      <td>0.088770</td>\n      <td>94.340503</td>\n    </tr>\n    <tr>\n      <td>92</td>\n      <td>0.087606</td>\n      <td>94.428109</td>\n    </tr>\n    <tr>\n      <td>93</td>\n      <td>0.086907</td>\n      <td>94.515017</td>\n    </tr>\n    <tr>\n      <td>94</td>\n      <td>0.083974</td>\n      <td>94.598990</td>\n    </tr>\n    <tr>\n      <td>95</td>\n      <td>0.082760</td>\n      <td>94.681751</td>\n    </tr>\n    <tr>\n      <td>96</td>\n      <td>0.079580</td>\n      <td>94.761331</td>\n    </tr>\n    <tr>\n      <td>97</td>\n      <td>0.079482</td>\n      <td>94.840813</td>\n    </tr>\n    <tr>\n      <td>98</td>\n      <td>0.075448</td>\n      <td>94.916261</td>\n    </tr>\n    <tr>\n      <td>99</td>\n      <td>0.073942</td>\n      <td>94.990203</td>\n    </tr>\n    <tr>\n      <td>100</td>\n      <td>0.073002</td>\n      <td>95.063205</td>\n    </tr>\n    <tr>\n      <td>101</td>\n      <td>0.072464</td>\n      <td>95.135669</td>\n    </tr>\n    <tr>\n      <td>102</td>\n      <td>0.071240</td>\n      <td>95.206910</td>\n    </tr>\n    <tr>\n      <td>103</td>\n      <td>0.068911</td>\n      <td>95.275820</td>\n    </tr>\n    <tr>\n      <td>104</td>\n      <td>0.067363</td>\n      <td>95.343184</td>\n    </tr>\n    <tr>\n      <td>105</td>\n      <td>0.066691</td>\n      <td>95.409875</td>\n    </tr>\n    <tr>\n      <td>106</td>\n      <td>0.066033</td>\n      <td>95.475908</td>\n    </tr>\n    <tr>\n      <td>107</td>\n      <td>0.064755</td>\n      <td>95.540662</td>\n    </tr>\n    <tr>\n      <td>108</td>\n      <td>0.063930</td>\n      <td>95.604592</td>\n    </tr>\n    <tr>\n      <td>109</td>\n      <td>0.062894</td>\n      <td>95.667486</td>\n    </tr>\n    <tr>\n      <td>110</td>\n      <td>0.062351</td>\n      <td>95.729837</td>\n    </tr>\n    <tr>\n      <td>111</td>\n      <td>0.061496</td>\n      <td>95.791333</td>\n    </tr>\n    <tr>\n      <td>112</td>\n      <td>0.061337</td>\n      <td>95.852670</td>\n    </tr>\n    <tr>\n      <td>113</td>\n      <td>0.060697</td>\n      <td>95.913367</td>\n    </tr>\n    <tr>\n      <td>114</td>\n      <td>0.057917</td>\n      <td>95.971284</td>\n    </tr>\n    <tr>\n      <td>115</td>\n      <td>0.055933</td>\n      <td>96.027217</td>\n    </tr>\n    <tr>\n      <td>116</td>\n      <td>0.055800</td>\n      <td>96.083017</td>\n    </tr>\n    <tr>\n      <td>117</td>\n      <td>0.053830</td>\n      <td>96.136847</td>\n    </tr>\n    <tr>\n      <td>118</td>\n      <td>0.053366</td>\n      <td>96.190213</td>\n    </tr>\n    <tr>\n      <td>119</td>\n      <td>0.051915</td>\n      <td>96.242128</td>\n    </tr>\n    <tr>\n      <td>120</td>\n      <td>0.049683</td>\n      <td>96.291812</td>\n    </tr>\n  </tbody>\n</table>",
       "datasetInfos": [],
       "metadata": {},
       "removedWidgets": [],
       "textData": null,
       "type": "htmlSandbox"
      }
     },
     "output_type": "display_data"
    },
    {
     "data": {
      "text/html": [
       "<style scoped>\n",
       "  .ansiout {\n",
       "    display: block;\n",
       "    unicode-bidi: embed;\n",
       "    white-space: pre-wrap;\n",
       "    word-wrap: break-word;\n",
       "    word-break: break-all;\n",
       "    font-family: \"Source Code Pro\", \"Menlo\", monospace;;\n",
       "    font-size: 13px;\n",
       "    color: #555;\n",
       "    margin-left: 4px;\n",
       "    line-height: 19px;\n",
       "  }\n",
       "</style>\n",
       "<div class=\"ansiout\">&lt;command-2297543790378390&gt;:61: UserWarning: color is redundantly defined by the &#39;color&#39; keyword argument and the fmt string &#34;bo-&#34; (-&gt; color=&#39;b&#39;). The keyword argument will take precedence.\n",
       "  ax.plot(k_values, cum_variance, &#39;bo-&#39;, color=&#39;#1F77B4&#39;)\n",
       "\n",
       "</div>"
      ]
     },
     "metadata": {
      "application/vnd.databricks.v1+output": {
       "addedWidgets": {},
       "arguments": {},
       "data": "<div class=\"ansiout\">&lt;command-2297543790378390&gt;:61: UserWarning: color is redundantly defined by the &#39;color&#39; keyword argument and the fmt string &#34;bo-&#34; (-&gt; color=&#39;b&#39;). The keyword argument will take precedence.\n  ax.plot(k_values, cum_variance, &#39;bo-&#39;, color=&#39;#1F77B4&#39;)\n\n</div>",
       "datasetInfos": [],
       "metadata": {},
       "removedWidgets": [],
       "type": "html"
      }
     },
     "output_type": "display_data"
    },
    {
     "data": {
      "image/png": "[encoded data removed]"
     },
     "metadata": {
      "application/vnd.databricks.v1+output": {
       "addedWidgets": {},
       "arguments": {},
       "data": "data:image/png;base64,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",
       "datasetInfos": [],
       "metadata": {
        "imageDimensions": {
         "height": 277,
         "width": 558
        }
       },
       "removedWidgets": [],
       "type": "image"
      },
      "image/png": {
       "height": 277,
       "width": 558
      }
     },
     "output_type": "display_data"
    }
   ],
   "source": [
    "### Evaluate PCA Explained Variance to determine components required to achieve 9% explained variance.\n",
    "\n",
    "from pyspark.ml.feature import VectorAssembler, StandardScaler, PCA\n",
    "import numpy as np\n",
    "\n",
    "n_components = 120\n",
    "pca = PCA(\n",
    "    k = n_components, \n",
    "    inputCol = 'VectorAssembler_features', \n",
    "    outputCol = 'pcaFeatures'\n",
    ").fit(model_data_train)\n",
    "\n",
    "df_pca = pca.transform(model_data_train)\n",
    "\n",
    "#print('Explained Variance Ratio', pca.explainedVariance.toArray(), 'Sum:', np.sum(pca.explainedVariance.toArray()))\n",
    "#df_pca.show(10)\n",
    "\n",
    "partial_variance = pca.explainedVariance[:n_components].cumsum()\n",
    "\n",
    "cum_variance = []\n",
    "par_variance = []\n",
    "\n",
    "k_values = [i+1 for i in range(n_components)]\n",
    "\n",
    "for k in k_values:\n",
    "    cum_variance.append(partial_variance[k-1] * 100)\n",
    "    if k == 1:\n",
    "      par_variance.append(partial_variance[k-1] * 100)\n",
    "    else:\n",
    "      par_variance.append((partial_variance[k-1] - partial_variance[k-2]) * 100)\n",
    "\n",
    "variances = {'Component': k_values,\n",
    "            'Partial Variance (%)': par_variance,\n",
    "            'Cumulative Variance (%)': cum_variance}\n",
    "df = pd.DataFrame(variances)\n",
    "\n",
    "display(HTML(df.to_html(index=False)))\n",
    "\n",
    "# # Plot of Cumulative Variance (CV) vs Principal Components\n",
    "# fig = plt.figure(figsize=(7,3))\n",
    "# ax = fig.add_axes([0,0,1,1])\n",
    "# ax.plot(k_values, cum_variance, 'bo-', color='#1F77B4')\n",
    "# ax.set_ylabel('Cumulative Variance (%)')\n",
    "# ax.set_xlabel('Principal Components')\n",
    "# ax.set_title('Plot of Cumulative Variance (CV) vs Principal Components')\n",
    "# #plt.grid()\n",
    "\n",
    "# i = 0\n",
    "# for x, y in zip(k_values, cum_variance):\n",
    "#   plt.annotate('PV= '+str(round(par_variance[i], 2)),\n",
    "#                (x, y),\n",
    "#                textcoords = \"offset points\",\n",
    "#                xytext = (0, 5),\n",
    "#                ha='center')\n",
    "#   i += 1\n",
    "\n",
    "\n",
    "# Plot of Cumulative Variance (CV) vs Principal Components\n",
    "fig = plt.figure(figsize=(7,3))\n",
    "ax = fig.add_axes([0,0,1,1])\n",
    "ax.plot(k_values, cum_variance, 'bo-', color='#1F77B4')\n",
    "ax.set_ylabel('Cumulative Variance (%)')\n",
    "ax.set_xlabel('Principal Components')\n",
    "ax.set_title('Plot of Cumulative Variance (CV) vs Principal Components')\n",
    "plt.grid()\n",
    "\n",
    "# i = 0\n",
    "# for x, y in zip(k_values, cum_variance):\n",
    "#   plt.annotate(,\n",
    "#                (x, y),\n",
    "#                textcoords = \"offset points\",\n",
    "#                xytext = (0, 5),\n",
    "#                ha='center')\n",
    "#   i += 1\n",
    "\n",
    "\n",
    "print()"
   ]
  },
  {
   "cell_type": "code",
   "execution_count": 0,
   "metadata": {
    "application/vnd.databricks.v1+cell": {
     "inputWidgets": {},
     "nuid": "dd9b3d0e-4d0a-4f73-8278-2b66e697b3b9",
     "showTitle": false,
     "title": ""
    }
   },
   "outputs": [
    {
     "data": {
      "text/html": [
       "<style scoped>\n",
       "  .ansiout {\n",
       "    display: block;\n",
       "    unicode-bidi: embed;\n",
       "    white-space: pre-wrap;\n",
       "    word-wrap: break-word;\n",
       "    word-break: break-all;\n",
       "    font-family: \"Source Code Pro\", \"Menlo\", monospace;;\n",
       "    font-size: 13px;\n",
       "    color: #555;\n",
       "    margin-left: 4px;\n",
       "    line-height: 19px;\n",
       "  }\n",
       "</style>\n",
       "<div class=\"ansiout\"></div>"
      ]
     },
     "metadata": {
      "application/vnd.databricks.v1+output": {
       "addedWidgets": {},
       "arguments": {},
       "data": "<div class=\"ansiout\"></div>",
       "datasetInfos": [],
       "metadata": {},
       "removedWidgets": [],
       "type": "html"
      }
     },
     "output_type": "display_data"
    }
   ],
   "source": [
    "# writing train and test dataset to blob storage in parquet format to be used for model algorithms\n",
    "\n",
    "# model_data_train.write.mode('overwrite').parquet(f\"{blob_url}/model_train_data_full_pca_complete_v1\")\n",
    "# model_data_test.write.mode('overwrite').parquet(f\"{blob_url}/model_test_data_full_pca_complete_v1\")\n",
    "\n",
    "model_data_train.write.mode('overwrite').parquet(f\"{blob_url}/model_train_data_full_pca_complete_v2\")\n",
    "model_data_test.write.mode('overwrite').parquet(f\"{blob_url}/model_test_data_full_pca_complete_v2\")"
   ]
  },
  {
   "cell_type": "markdown",
   "metadata": {
    "application/vnd.databricks.v1+cell": {
     "inputWidgets": {},
     "nuid": "e010be71-f59f-4610-abae-c3d85bc4a9f5",
     "showTitle": false,
     "title": ""
    }
   },
   "source": [
    "#### 5.2. Logistic regression"
   ]
  },
  {
   "cell_type": "markdown",
   "metadata": {
    "application/vnd.databricks.v1+cell": {
     "inputWidgets": {},
     "nuid": "42419b8c-669e-4bf0-80fe-bef86f4146c6",
     "showTitle": false,
     "title": ""
    }
   },
   "source": [
    "> - Logistic regresion is probably one of the most common tools in supervised learning, in particular for classification. \n",
    "> - Logistic regression is a way to model the linear relationship between one or more arbitrary independent variables and binary or categorical dependent variables. \n",
    "> - Logistic regression transforms the continuous infinite scale into a scale between 0 and 1 (Sigmoid Function or Sigmoid activation). \n",
    "> - It can be used for both inference and for prediction."
   ]
  },
  {
   "cell_type": "code",
   "execution_count": 0,
   "metadata": {
    "application/vnd.databricks.v1+cell": {
     "inputWidgets": {},
     "nuid": "7687a47c-1363-4092-b667-a03d4b192430",
     "showTitle": false,
     "title": ""
    }
   },
   "outputs": [
    {
     "data": {
      "text/html": [
       "<style scoped>\n",
       "  .ansiout {\n",
       "    display: block;\n",
       "    unicode-bidi: embed;\n",
       "    white-space: pre-wrap;\n",
       "    word-wrap: break-word;\n",
       "    word-break: break-all;\n",
       "    font-family: \"Source Code Pro\", \"Menlo\", monospace;;\n",
       "    font-size: 13px;\n",
       "    color: #555;\n",
       "    margin-left: 4px;\n",
       "    line-height: 19px;\n",
       "  }\n",
       "</style>\n",
       "<div class=\"ansiout\"></div>"
      ]
     },
     "metadata": {
      "application/vnd.databricks.v1+output": {
       "addedWidgets": {},
       "arguments": {},
       "data": "<div class=\"ansiout\"></div>",
       "datasetInfos": [],
       "metadata": {},
       "removedWidgets": [],
       "type": "html"
      }
     },
     "output_type": "display_data"
    }
   ],
   "source": [
    "# Reading the train and test data from blob storage for running the models\n",
    "\n",
    "# model_data_train = spark.read.parquet(f\"{blob_url}/model_train_data_full_pca_complete_v1/*\")\n",
    "# model_data_test = spark.read.parquet(f\"{blob_url}/model_test_data_full_pca_complete_v1/*\")\n",
    "\n",
    "model_data_train = spark.read.parquet(f\"{blob_url}/model_train_data_full_pca_complete_v2/*\")\n",
    "model_data_test = spark.read.parquet(f\"{blob_url}/model_test_data_full_pca_complete_v2/*\")\n"
   ]
  },
  {
   "cell_type": "code",
   "execution_count": 0,
   "metadata": {
    "application/vnd.databricks.v1+cell": {
     "inputWidgets": {},
     "nuid": "88e94f08-5720-4d55-9b96-fab57db9bfeb",
     "showTitle": false,
     "title": ""
    }
   },
   "outputs": [
    {
     "data": {
      "text/html": [
       "<style scoped>\n",
       "  .ansiout {\n",
       "    display: block;\n",
       "    unicode-bidi: embed;\n",
       "    white-space: pre-wrap;\n",
       "    word-wrap: break-word;\n",
       "    word-break: break-all;\n",
       "    font-family: \"Source Code Pro\", \"Menlo\", monospace;;\n",
       "    font-size: 13px;\n",
       "    color: #555;\n",
       "    margin-left: 4px;\n",
       "    line-height: 19px;\n",
       "  }\n",
       "</style>\n",
       "<div class=\"ansiout\">lr model completed job in 178.91673159599304 seconds.\n",
       "</div>"
      ]
     },
     "metadata": {
      "application/vnd.databricks.v1+output": {
       "addedWidgets": {},
       "arguments": {},
       "data": "<div class=\"ansiout\">lr model completed job in 178.91673159599304 seconds.\n</div>",
       "datasetInfos": [],
       "metadata": {},
       "removedWidgets": [],
       "type": "html"
      }
     },
     "output_type": "display_data"
    }
   ],
   "source": [
    "from pyspark.ml.classification import LogisticRegression\n",
    "\n",
    "start_lr = time.time()\n",
    "\n",
    "lr = LogisticRegression(featuresCol='pca_features',labelCol='departure_delay_boolean', regParam = 0.2, fitIntercept=True, elasticNetParam=0.0, maxIter=10, threshold = 0.6)\n",
    "\n",
    "stages_lr = [lr]\n",
    "pipeline_lr = Pipeline(stages=stages_lr)\n",
    "lr_model = pipeline_lr.fit(model_data_train)\n",
    "lrPredictions = lr_model.transform(model_data_test)\n",
    "print(f'lr model completed job in {time.time() - start_lr} seconds.')\n",
    "lr_time_model = time.time() - start_lr"
   ]
  },
  {
   "cell_type": "code",
   "execution_count": 0,
   "metadata": {
    "application/vnd.databricks.v1+cell": {
     "inputWidgets": {},
     "nuid": "1c20dfb1-12de-4d59-b169-7c401ef6831d",
     "showTitle": false,
     "title": ""
    }
   },
   "outputs": [
    {
     "data": {
      "text/html": [
       "<style scoped>\n",
       "  .ansiout {\n",
       "    display: block;\n",
       "    unicode-bidi: embed;\n",
       "    white-space: pre-wrap;\n",
       "    word-wrap: break-word;\n",
       "    word-break: break-all;\n",
       "    font-family: \"Source Code Pro\", \"Menlo\", monospace;;\n",
       "    font-size: 13px;\n",
       "    color: #555;\n",
       "    margin-left: 4px;\n",
       "    line-height: 19px;\n",
       "  }\n",
       "</style>\n",
       "<div class=\"ansiout\">              precision    recall  f1-score   support\n",
       "\n",
       "         0.0       0.86      0.93      0.89   5209208\n",
       "         1.0       0.57      0.39      0.47   1291769\n",
       "\n",
       "    accuracy                           0.82   6500977\n",
       "   macro avg       0.72      0.66      0.68   6500977\n",
       "weighted avg       0.80      0.82      0.81   6500977\n",
       "\n",
       "[[4832116  377092]\n",
       " [ 785763  506006]]\n",
       "</div>"
      ]
     },
     "metadata": {
      "application/vnd.databricks.v1+output": {
       "addedWidgets": {},
       "arguments": {},
       "data": "<div class=\"ansiout\">              precision    recall  f1-score   support\n\n         0.0       0.86      0.93      0.89   5209208\n         1.0       0.57      0.39      0.47   1291769\n\n    accuracy                           0.82   6500977\n   macro avg       0.72      0.66      0.68   6500977\nweighted avg       0.80      0.82      0.81   6500977\n\n[[4832116  377092]\n [ 785763  506006]]\n</div>",
       "datasetInfos": [],
       "metadata": {},
       "removedWidgets": [],
       "type": "html"
      }
     },
     "output_type": "display_data"
    }
   ],
   "source": [
    "# Model Evaluation with scikit learn\n",
    "y_true_lr = lrPredictions.select(['departure_delay_boolean']).collect()\n",
    "y_pred_lr = lrPredictions.select(['prediction']).collect()\n",
    "\n",
    "# Print metrics\n",
    "from sklearn.metrics import classification_report, confusion_matrix\n",
    "print(classification_report(y_true_lr, y_pred_lr))\n",
    "print(confusion_matrix(y_true_lr, y_pred_lr))"
   ]
  },
  {
   "cell_type": "code",
   "execution_count": 0,
   "metadata": {
    "application/vnd.databricks.v1+cell": {
     "inputWidgets": {},
     "nuid": "ff561a2b-0668-427b-a403-63d486f5617a",
     "showTitle": false,
     "title": ""
    }
   },
   "outputs": [
    {
     "data": {
      "text/html": [
       "<style scoped>\n",
       "  .ansiout {\n",
       "    display: block;\n",
       "    unicode-bidi: embed;\n",
       "    white-space: pre-wrap;\n",
       "    word-wrap: break-word;\n",
       "    word-break: break-all;\n",
       "    font-family: \"Source Code Pro\", \"Menlo\", monospace;;\n",
       "    font-size: 13px;\n",
       "    color: #555;\n",
       "    margin-left: 4px;\n",
       "    line-height: 19px;\n",
       "  }\n",
       "</style>\n",
       "<div class=\"ansiout\">Sensitivity: 39.17%\n",
       "Specificity: 92.76%\n",
       "False positive rate: 7.24%\n",
       "False negative rate: 60.83%\n",
       "Recall: 39.17%\n",
       "Precision: 57.30%\n",
       "f1: 46.53%\n",
       "########### Confusion Matrix ###########\n",
       "                Predicted-delay  Predicted-on time\n",
       "Actual-delay             506006             785763\n",
       "Actual-on time           377092            4832116\n",
       "</div>"
      ]
     },
     "metadata": {
      "application/vnd.databricks.v1+output": {
       "addedWidgets": {},
       "arguments": {},
       "data": "<div class=\"ansiout\">Sensitivity: 39.17%\nSpecificity: 92.76%\nFalse positive rate: 7.24%\nFalse negative rate: 60.83%\nRecall: 39.17%\nPrecision: 57.30%\nf1: 46.53%\n########### Confusion Matrix ###########\n                Predicted-delay  Predicted-on time\nActual-delay             506006             785763\nActual-on time           377092            4832116\n</div>",
       "datasetInfos": [],
       "metadata": {},
       "removedWidgets": [],
       "type": "html"
      }
     },
     "output_type": "display_data"
    }
   ],
   "source": [
    "# print results with helper function\n",
    "print_results(lrPredictions)"
   ]
  },
  {
   "cell_type": "code",
   "execution_count": 0,
   "metadata": {
    "application/vnd.databricks.v1+cell": {
     "inputWidgets": {},
     "nuid": "5294dbb1-c92b-42c8-bbb9-88c7bd51a54d",
     "showTitle": false,
     "title": ""
    }
   },
   "outputs": [
    {
     "data": {
      "text/html": [
       "<style scoped>\n",
       "  .ansiout {\n",
       "    display: block;\n",
       "    unicode-bidi: embed;\n",
       "    white-space: pre-wrap;\n",
       "    word-wrap: break-word;\n",
       "    word-break: break-all;\n",
       "    font-family: \"Source Code Pro\", \"Menlo\", monospace;;\n",
       "    font-size: 13px;\n",
       "    color: #555;\n",
       "    margin-left: 4px;\n",
       "    line-height: 19px;\n",
       "  }\n",
       "</style>\n",
       "<div class=\"ansiout\">Out[36]: </div>"
      ]
     },
     "metadata": {
      "application/vnd.databricks.v1+output": {
       "addedWidgets": {},
       "arguments": {},
       "data": "<div class=\"ansiout\">Out[36]: </div>",
       "datasetInfos": [],
       "metadata": {},
       "removedWidgets": [],
       "type": "html"
      }
     },
     "output_type": "display_data"
    },
    {
     "data": {
      "image/png": "[encoded data removed]"
     },
     "metadata": {
      "application/vnd.databricks.v1+output": {
       "addedWidgets": {},
       "arguments": {},
       "data": "data:image/png;base64,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",
       "datasetInfos": [],
       "metadata": {
        "imageDimensions": {
         "height": 278,
         "width": 345
        }
       },
       "removedWidgets": [],
       "type": "image"
      },
      "image/png": {
       "height": 278,
       "width": 345
      }
     },
     "output_type": "display_data"
    },
    {
     "data": {
      "text/html": [
       "<style scoped>\n",
       "  .ansiout {\n",
       "    display: block;\n",
       "    unicode-bidi: embed;\n",
       "    white-space: pre-wrap;\n",
       "    word-wrap: break-word;\n",
       "    word-break: break-all;\n",
       "    font-family: \"Source Code Pro\", \"Menlo\", monospace;;\n",
       "    font-size: 13px;\n",
       "    color: #555;\n",
       "    margin-left: 4px;\n",
       "    line-height: 19px;\n",
       "  }\n",
       "</style>\n",
       "<div class=\"ansiout\">[Text(0.5, 0, &#39;Predicted labels&#39;), Text(0, 0.5, &#39;True labels&#39;)]</div>"
      ]
     },
     "metadata": {
      "application/vnd.databricks.v1+output": {
       "addedWidgets": {},
       "arguments": {},
       "data": "<div class=\"ansiout\">[Text(0.5, 0, &#39;Predicted labels&#39;), Text(0, 0.5, &#39;True labels&#39;)]</div>",
       "datasetInfos": [],
       "metadata": {},
       "removedWidgets": [],
       "type": "html"
      }
     },
     "output_type": "display_data"
    }
   ],
   "source": [
    "# Plot confusion matrix\n",
    "from sklearn.metrics import confusion_matrix, ConfusionMatrixDisplay\n",
    "cm_lr = confusion_matrix(y_true_lr, y_pred_lr)\n",
    "cm_lr_display = ConfusionMatrixDisplay(cm_lr, display_labels=['On Time', 'Delay'])\n",
    "cm_lr_display.plot(cmap='Blues', values_format='d')\n",
    "cm_lr_display.ax_.set(title='Confusion Matrix')\n",
    "cm_lr_display.ax_.set(xlabel='Predicted labels', ylabel='True labels')\n"
   ]
  },
  {
   "cell_type": "markdown",
   "metadata": {
    "application/vnd.databricks.v1+cell": {
     "inputWidgets": {},
     "nuid": "f04dc728-31e4-4a4b-8896-ae8ad3717679",
     "showTitle": false,
     "title": ""
    }
   },
   "source": [
    "#### 5.3. Random Forest Classifier"
   ]
  },
  {
   "cell_type": "markdown",
   "metadata": {
    "application/vnd.databricks.v1+cell": {
     "inputWidgets": {},
     "nuid": "2e0cdf31-3c91-4ecb-92e7-885c64957011",
     "showTitle": false,
     "title": ""
    }
   },
   "source": [
    "> - Random Forest is a supervised learning algorithm that can be used for classification as well as regression. \n",
    "> - Random forest consists of a large number of individual decision tress that operate as an ensemble (or group) of decision trees. \n",
    "> - Initially, it selects a random subset of the total training data, then it fits a decision tree to that subset of the data, creating a \"forest\" of multiple decision trees all trained on slightly different versions of the training data.\n",
    "> - When it comes time to make predictions, each new data point is run through all of the trees in the forest, with each tree getting a single vote as to it's class. The class with the highest votes is the prediction."
   ]
  },
  {
   "cell_type": "code",
   "execution_count": 0,
   "metadata": {
    "application/vnd.databricks.v1+cell": {
     "inputWidgets": {},
     "nuid": "aa03108b-6227-4dc2-b4a4-3fc3d82d2add",
     "showTitle": false,
     "title": ""
    }
   },
   "outputs": [
    {
     "data": {
      "text/html": [
       "<style scoped>\n",
       "  .ansiout {\n",
       "    display: block;\n",
       "    unicode-bidi: embed;\n",
       "    white-space: pre-wrap;\n",
       "    word-wrap: break-word;\n",
       "    word-break: break-all;\n",
       "    font-family: \"Source Code Pro\", \"Menlo\", monospace;;\n",
       "    font-size: 13px;\n",
       "    color: #555;\n",
       "    margin-left: 4px;\n",
       "    line-height: 19px;\n",
       "  }\n",
       "</style>\n",
       "<div class=\"ansiout\">rf model completed job in 234.04641246795654 seconds.\n",
       "</div>"
      ]
     },
     "metadata": {
      "application/vnd.databricks.v1+output": {
       "addedWidgets": {},
       "arguments": {},
       "data": "<div class=\"ansiout\">rf model completed job in 234.04641246795654 seconds.\n</div>",
       "datasetInfos": [],
       "metadata": {},
       "removedWidgets": [],
       "type": "html"
      }
     },
     "output_type": "display_data"
    }
   ],
   "source": [
    "# from pyspark.ml.classification import LogisticRegression\n",
    "from pyspark.ml.classification import RandomForestClassifier\n",
    "\n",
    "start_rf = time.time()\n",
    "rf = RandomForestClassifier(labelCol='departure_delay_boolean',\n",
    "                            featuresCol='pca_features',\n",
    "                            maxDepth=5)\n",
    "\n",
    "stages_rf = [rf]\n",
    "pipeline_rf = Pipeline(stages=stages_rf)\n",
    "rf_model = pipeline_rf.fit(model_data_train)\n",
    "rfPredictions = rf_model.transform(model_data_test)\n",
    "\n",
    "print(f'rf model completed job in {time.time() - start_rf} seconds.')\n",
    "rf_time_model = time.time() - start_rf"
   ]
  },
  {
   "cell_type": "code",
   "execution_count": 0,
   "metadata": {
    "application/vnd.databricks.v1+cell": {
     "inputWidgets": {},
     "nuid": "85f2e824-6ba8-4348-9287-32439074932d",
     "showTitle": false,
     "title": ""
    }
   },
   "outputs": [
    {
     "data": {
      "text/html": [
       "<style scoped>\n",
       "  .ansiout {\n",
       "    display: block;\n",
       "    unicode-bidi: embed;\n",
       "    white-space: pre-wrap;\n",
       "    word-wrap: break-word;\n",
       "    word-break: break-all;\n",
       "    font-family: \"Source Code Pro\", \"Menlo\", monospace;;\n",
       "    font-size: 13px;\n",
       "    color: #555;\n",
       "    margin-left: 4px;\n",
       "    line-height: 19px;\n",
       "  }\n",
       "</style>\n",
       "<div class=\"ansiout\">              precision    recall  f1-score   support\n",
       "\n",
       "         0.0       0.88      0.77      0.82   5209208\n",
       "         1.0       0.38      0.58      0.46   1291769\n",
       "\n",
       "    accuracy                           0.73   6500977\n",
       "   macro avg       0.63      0.67      0.64   6500977\n",
       "weighted avg       0.78      0.73      0.75   6500977\n",
       "\n",
       "[[4013363 1195845]\n",
       " [ 545112  746657]]\n",
       "</div>"
      ]
     },
     "metadata": {
      "application/vnd.databricks.v1+output": {
       "addedWidgets": {},
       "arguments": {},
       "data": "<div class=\"ansiout\">              precision    recall  f1-score   support\n\n         0.0       0.88      0.77      0.82   5209208\n         1.0       0.38      0.58      0.46   1291769\n\n    accuracy                           0.73   6500977\n   macro avg       0.63      0.67      0.64   6500977\nweighted avg       0.78      0.73      0.75   6500977\n\n[[4013363 1195845]\n [ 545112  746657]]\n</div>",
       "datasetInfos": [],
       "metadata": {},
       "removedWidgets": [],
       "type": "html"
      }
     },
     "output_type": "display_data"
    }
   ],
   "source": [
    "# Model Evaluation\n",
    "\n",
    "eval_accuracy = MulticlassClassificationEvaluator(labelCol=\"departure_delay_boolean\", predictionCol=\"prediction\", metricName=\"accuracy\")\n",
    "eval_precision = MulticlassClassificationEvaluator(labelCol=\"departure_delay_boolean\", predictionCol=\"prediction\", metricName=\"precision\")\n",
    "eval_recall = MulticlassClassificationEvaluator(labelCol=\"departure_delay_boolean\", predictionCol=\"prediction\", metricName=\"recall\")\n",
    "evaluator = MulticlassClassificationEvaluator(labelCol=\"departure_delay_boolean\", predictionCol=\"prediction\", metricName=\"f1\")\n",
    "evaluator.evaluate(rfPredictions)\n",
    "\n",
    "# Model Evaluation with scikit learn\n",
    "y_true_rf = rfPredictions.select(['departure_delay_boolean']).collect()\n",
    "y_pred_rf = rfPredictions.select(['prediction']).collect()\n",
    "\n",
    "# Print metrics\n",
    "from sklearn.metrics import classification_report, confusion_matrix\n",
    "print(classification_report(y_true_rf, y_pred_rf))\n",
    "print(confusion_matrix(y_true_rf, y_pred_rf))"
   ]
  },
  {
   "cell_type": "code",
   "execution_count": 0,
   "metadata": {
    "application/vnd.databricks.v1+cell": {
     "inputWidgets": {},
     "nuid": "b7b53b30-59f3-4bd5-adca-7428ab708485",
     "showTitle": false,
     "title": ""
    }
   },
   "outputs": [
    {
     "data": {
      "text/html": [
       "<style scoped>\n",
       "  .ansiout {\n",
       "    display: block;\n",
       "    unicode-bidi: embed;\n",
       "    white-space: pre-wrap;\n",
       "    word-wrap: break-word;\n",
       "    word-break: break-all;\n",
       "    font-family: \"Source Code Pro\", \"Menlo\", monospace;;\n",
       "    font-size: 13px;\n",
       "    color: #555;\n",
       "    margin-left: 4px;\n",
       "    line-height: 19px;\n",
       "  }\n",
       "</style>\n",
       "<div class=\"ansiout\">Sensitivity: 57.80%\n",
       "Specificity: 77.04%\n",
       "False positive rate: 22.96%\n",
       "False negative rate: 42.20%\n",
       "Recall: 57.80%\n",
       "Precision: 38.44%\n",
       "f1: 46.17%\n",
       "########### Confusion Matrix ###########\n",
       "                Predicted-delay  Predicted-on time\n",
       "Actual-delay             746657             545112\n",
       "Actual-on time          1195845            4013363\n",
       "</div>"
      ]
     },
     "metadata": {
      "application/vnd.databricks.v1+output": {
       "addedWidgets": {},
       "arguments": {},
       "data": "<div class=\"ansiout\">Sensitivity: 57.80%\nSpecificity: 77.04%\nFalse positive rate: 22.96%\nFalse negative rate: 42.20%\nRecall: 57.80%\nPrecision: 38.44%\nf1: 46.17%\n########### Confusion Matrix ###########\n                Predicted-delay  Predicted-on time\nActual-delay             746657             545112\nActual-on time          1195845            4013363\n</div>",
       "datasetInfos": [],
       "metadata": {},
       "removedWidgets": [],
       "type": "html"
      }
     },
     "output_type": "display_data"
    }
   ],
   "source": [
    "# print results with helper function\n",
    "print_results(rfPredictions)"
   ]
  },
  {
   "cell_type": "code",
   "execution_count": 0,
   "metadata": {
    "application/vnd.databricks.v1+cell": {
     "inputWidgets": {},
     "nuid": "7a6397ec-2074-43c0-ad70-043d38cf1ee2",
     "showTitle": false,
     "title": ""
    }
   },
   "outputs": [
    {
     "data": {
      "text/html": [
       "<style scoped>\n",
       "  .ansiout {\n",
       "    display: block;\n",
       "    unicode-bidi: embed;\n",
       "    white-space: pre-wrap;\n",
       "    word-wrap: break-word;\n",
       "    word-break: break-all;\n",
       "    font-family: \"Source Code Pro\", \"Menlo\", monospace;;\n",
       "    font-size: 13px;\n",
       "    color: #555;\n",
       "    margin-left: 4px;\n",
       "    line-height: 19px;\n",
       "  }\n",
       "</style>\n",
       "<div class=\"ansiout\">Out[40]: </div>"
      ]
     },
     "metadata": {
      "application/vnd.databricks.v1+output": {
       "addedWidgets": {},
       "arguments": {},
       "data": "<div class=\"ansiout\">Out[40]: </div>",
       "datasetInfos": [],
       "metadata": {},
       "removedWidgets": [],
       "type": "html"
      }
     },
     "output_type": "display_data"
    },
    {
     "data": {
      "image/png": "[encoded data removed]"
     },
     "metadata": {
      "application/vnd.databricks.v1+output": {
       "addedWidgets": {},
       "arguments": {},
       "data": "data:image/png;base64,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",
       "datasetInfos": [],
       "metadata": {
        "imageDimensions": {
         "height": 278,
         "width": 345
        }
       },
       "removedWidgets": [],
       "type": "image"
      },
      "image/png": {
       "height": 278,
       "width": 345
      }
     },
     "output_type": "display_data"
    },
    {
     "data": {
      "text/html": [
       "<style scoped>\n",
       "  .ansiout {\n",
       "    display: block;\n",
       "    unicode-bidi: embed;\n",
       "    white-space: pre-wrap;\n",
       "    word-wrap: break-word;\n",
       "    word-break: break-all;\n",
       "    font-family: \"Source Code Pro\", \"Menlo\", monospace;;\n",
       "    font-size: 13px;\n",
       "    color: #555;\n",
       "    margin-left: 4px;\n",
       "    line-height: 19px;\n",
       "  }\n",
       "</style>\n",
       "<div class=\"ansiout\">[Text(0.5, 0, &#39;Predicted labels&#39;), Text(0, 0.5, &#39;True labels&#39;)]</div>"
      ]
     },
     "metadata": {
      "application/vnd.databricks.v1+output": {
       "addedWidgets": {},
       "arguments": {},
       "data": "<div class=\"ansiout\">[Text(0.5, 0, &#39;Predicted labels&#39;), Text(0, 0.5, &#39;True labels&#39;)]</div>",
       "datasetInfos": [],
       "metadata": {},
       "removedWidgets": [],
       "type": "html"
      }
     },
     "output_type": "display_data"
    }
   ],
   "source": [
    "# Plot confusion matrix\n",
    "\n",
    "cm_rf = confusion_matrix(y_true_rf, y_pred_rf)\n",
    "cm_rf_display = ConfusionMatrixDisplay(cm_rf, display_labels=['On Time', 'Delay'])\n",
    "cm_rf_display.plot(cmap='Blues', values_format='d')\n",
    "cm_rf_display.ax_.set(title='Confusion Matrix-Random Forest')\n",
    "cm_rf_display.ax_.set(xlabel='Predicted labels', ylabel='True labels')"
   ]
  },
  {
   "cell_type": "markdown",
   "metadata": {
    "application/vnd.databricks.v1+cell": {
     "inputWidgets": {},
     "nuid": "c4f56ee7-38b6-40c9-905b-e825a114ed26",
     "showTitle": false,
     "title": ""
    }
   },
   "source": [
    "#### 5.4. Gradient Boosted Trees"
   ]
  },
  {
   "cell_type": "markdown",
   "metadata": {
    "application/vnd.databricks.v1+cell": {
     "inputWidgets": {},
     "nuid": "407abdc3-9ae7-482d-96fc-b708bb1b0b58",
     "showTitle": false,
     "title": ""
    }
   },
   "source": [
    "**Gradient Boosted Tree is displaying an OOM Error when using PCA. Therefore, we have decided not to include it in our PCA Evaluation**\n",
    "\n",
    "About Gradient Boosted Trees\n",
    "\n",
    "Gradient Boosted Trees (GBTs) is a learning algorithm for classification. \n",
    "> - It supports binary labels, as well as both continuous and categorical features.\n",
    "> - Like Random Forest, GBT is also one of ensembling methods that combine the outputs from individual trees. However, unlike random forest, GBT use a method called `boosting` that combines weak learners sequentially so that each tree corrects the error from the previous one .\n",
    "> - After each full cycle of decision tree build, the sampled dataset is weighted - misclassified data increases it weights to emphasize the most difficult cases so that when the next decision tree is built the weighted data is used, therefore subsequent learners will focus more on mis-classified data during training.\n",
    "> - Random forest creates independant decision trees and combines them in parallel to calculate the average result at the end, whereas GBT combines result along the way.\n",
    "> - GBT has a lot of model capacity so they can handle very complex relationships and decision boundaries, however, as with all models with high capacity, this can lead to overfitting very quickly"
   ]
  },
  {
   "cell_type": "code",
   "execution_count": 0,
   "metadata": {
    "application/vnd.databricks.v1+cell": {
     "inputWidgets": {},
     "nuid": "3364c129-a859-43de-ae57-279e0c5f2b64",
     "showTitle": false,
     "title": ""
    }
   },
   "outputs": [
    {
     "data": {
      "text/html": [
       "<style scoped>\n",
       "  .ansiout {\n",
       "    display: block;\n",
       "    unicode-bidi: embed;\n",
       "    white-space: pre-wrap;\n",
       "    word-wrap: break-word;\n",
       "    word-break: break-all;\n",
       "    font-family: \"Source Code Pro\", \"Menlo\", monospace;;\n",
       "    font-size: 13px;\n",
       "    color: #555;\n",
       "    margin-left: 4px;\n",
       "    line-height: 19px;\n",
       "  }\n",
       "</style>\n",
       "<div class=\"ansiout\">gbt model completed job in 312.93037962913513 seconds.\n",
       "</div>"
      ]
     },
     "metadata": {
      "application/vnd.databricks.v1+output": {
       "addedWidgets": {},
       "arguments": {},
       "data": "<div class=\"ansiout\">gbt model completed job in 312.93037962913513 seconds.\n</div>",
       "datasetInfos": [],
       "metadata": {},
       "removedWidgets": [],
       "type": "html"
      }
     },
     "output_type": "display_data"
    }
   ],
   "source": [
    "# Reference used for building Gradient Boosted tree model: https://spark.apache.org/docs/latest/api/python/reference/api/pyspark.ml.classification.GBTClassifier.html\n",
    "\n",
    "# Build a gradient boosted tree model\n",
    "\n",
    "start_gbt = time.time()\n",
    "gbt = GBTClassifier(featuresCol='pca_features', \n",
    "              labelCol='departure_delay_boolean', \n",
    "              maxBins=10,\n",
    "              maxDepth=10,\n",
    "              minInstancesPerNode=10,\n",
    "              minInfoGain=0.001,\n",
    "              stepSize=0.2,\n",
    "              maxIter=10, \n",
    "              )\n",
    "\n",
    "\n",
    "# Setup pipeline\n",
    "stages_gbtClassifier = [gbt]\n",
    "pipeline_gbt = Pipeline(stages=stages_gbtClassifier)\n",
    "\n",
    "# Train the GBT model\n",
    "gbt_model = pipeline_gbt.fit(model_data_train)\n",
    "\n",
    "gbpredictions = gbt_model.transform(model_data_test)\n",
    "\n",
    "print(f'gbt model completed job in {time.time() - start_gbt} seconds.')\n",
    "gbt_time_model = time.time() - start_gbt"
   ]
  },
  {
   "cell_type": "markdown",
   "metadata": {
    "application/vnd.databricks.v1+cell": {
     "inputWidgets": {},
     "nuid": "bb131297-c09c-43c7-8ca9-b52436e37106",
     "showTitle": false,
     "title": ""
    }
   },
   "source": [
    "**GBT Model Evaluation**"
   ]
  },
  {
   "cell_type": "code",
   "execution_count": 0,
   "metadata": {
    "application/vnd.databricks.v1+cell": {
     "inputWidgets": {},
     "nuid": "21228e28-a891-4b08-9f15-9eb09fc01669",
     "showTitle": false,
     "title": ""
    }
   },
   "outputs": [
    {
     "data": {
      "text/html": [
       "<style scoped>\n",
       "  .ansiout {\n",
       "    display: block;\n",
       "    unicode-bidi: embed;\n",
       "    white-space: pre-wrap;\n",
       "    word-wrap: break-word;\n",
       "    word-break: break-all;\n",
       "    font-family: \"Source Code Pro\", \"Menlo\", monospace;;\n",
       "    font-size: 13px;\n",
       "    color: #555;\n",
       "    margin-left: 4px;\n",
       "    line-height: 19px;\n",
       "  }\n",
       "</style>\n",
       "<div class=\"ansiout\">              precision    recall  f1-score   support\n",
       "\n",
       "         0.0       0.89      0.77      0.83   5209208\n",
       "         1.0       0.40      0.62      0.49   1291769\n",
       "\n",
       "    accuracy                           0.74   6500977\n",
       "   macro avg       0.65      0.70      0.66   6500977\n",
       "weighted avg       0.79      0.74      0.76   6500977\n",
       "\n",
       "[[4027713 1181495]\n",
       " [ 489458  802311]]\n",
       "</div>"
      ]
     },
     "metadata": {
      "application/vnd.databricks.v1+output": {
       "addedWidgets": {},
       "arguments": {},
       "data": "<div class=\"ansiout\">              precision    recall  f1-score   support\n\n         0.0       0.89      0.77      0.83   5209208\n         1.0       0.40      0.62      0.49   1291769\n\n    accuracy                           0.74   6500977\n   macro avg       0.65      0.70      0.66   6500977\nweighted avg       0.79      0.74      0.76   6500977\n\n[[4027713 1181495]\n [ 489458  802311]]\n</div>",
       "datasetInfos": [],
       "metadata": {},
       "removedWidgets": [],
       "type": "html"
      }
     },
     "output_type": "display_data"
    }
   ],
   "source": [
    "# Model Evaluation\n",
    "\n",
    "eval_accuracy = MulticlassClassificationEvaluator(labelCol=\"departure_delay_boolean\", predictionCol=\"prediction\", metricName=\"accuracy\")\n",
    "eval_precision = MulticlassClassificationEvaluator(labelCol=\"departure_delay_boolean\", predictionCol=\"prediction\", metricName=\"precision\")\n",
    "eval_recall = MulticlassClassificationEvaluator(labelCol=\"departure_delay_boolean\", predictionCol=\"prediction\", metricName=\"recall\")\n",
    "\n",
    "evaluator = MulticlassClassificationEvaluator(labelCol=\"departure_delay_boolean\", predictionCol=\"prediction\", metricName=\"f1\")\n",
    "evaluator.evaluate(gbpredictions)\n",
    "\n",
    "# Model Evaluation with scikit learn\n",
    "y_true_gbt = gbpredictions.select(['departure_delay_boolean']).collect()\n",
    "y_pred_gbt = gbpredictions.select(['prediction']).collect()\n",
    "\n",
    "# Print metrics\n",
    "from sklearn.metrics import classification_report, confusion_matrix\n",
    "print(classification_report(y_true_gbt, y_pred_gbt))\n",
    "print(confusion_matrix(y_true_gbt, y_pred_gbt))"
   ]
  },
  {
   "cell_type": "code",
   "execution_count": 0,
   "metadata": {
    "application/vnd.databricks.v1+cell": {
     "inputWidgets": {},
     "nuid": "65b9e2b5-62d7-46a7-9d3d-0d9e03c50049",
     "showTitle": false,
     "title": ""
    }
   },
   "outputs": [
    {
     "data": {
      "text/html": [
       "<style scoped>\n",
       "  .ansiout {\n",
       "    display: block;\n",
       "    unicode-bidi: embed;\n",
       "    white-space: pre-wrap;\n",
       "    word-wrap: break-word;\n",
       "    word-break: break-all;\n",
       "    font-family: \"Source Code Pro\", \"Menlo\", monospace;;\n",
       "    font-size: 13px;\n",
       "    color: #555;\n",
       "    margin-left: 4px;\n",
       "    line-height: 19px;\n",
       "  }\n",
       "</style>\n",
       "<div class=\"ansiout\">Sensitivity: 62.11%\n",
       "Specificity: 77.32%\n",
       "False positive rate: 22.68%\n",
       "False negative rate: 37.89%\n",
       "Recall: 62.11%\n",
       "Precision: 40.44%\n",
       "f1: 48.99%\n",
       "########### Confusion Matrix ###########\n",
       "                Predicted-delay  Predicted-on time\n",
       "Actual-delay             802311             489458\n",
       "Actual-on time          1181495            4027713\n",
       "</div>"
      ]
     },
     "metadata": {
      "application/vnd.databricks.v1+output": {
       "addedWidgets": {},
       "arguments": {},
       "data": "<div class=\"ansiout\">Sensitivity: 62.11%\nSpecificity: 77.32%\nFalse positive rate: 22.68%\nFalse negative rate: 37.89%\nRecall: 62.11%\nPrecision: 40.44%\nf1: 48.99%\n########### Confusion Matrix ###########\n                Predicted-delay  Predicted-on time\nActual-delay             802311             489458\nActual-on time          1181495            4027713\n</div>",
       "datasetInfos": [],
       "metadata": {},
       "removedWidgets": [],
       "type": "html"
      }
     },
     "output_type": "display_data"
    }
   ],
   "source": [
    "# print results with helper function\n",
    "\n",
    "print_results(gbpredictions)\n"
   ]
  },
  {
   "cell_type": "code",
   "execution_count": 0,
   "metadata": {
    "application/vnd.databricks.v1+cell": {
     "inputWidgets": {},
     "nuid": "5bc06cec-cdd2-4d64-8f3f-86ad79fbd73d",
     "showTitle": false,
     "title": ""
    }
   },
   "outputs": [
    {
     "data": {
      "text/html": [
       "<style scoped>\n",
       "  .ansiout {\n",
       "    display: block;\n",
       "    unicode-bidi: embed;\n",
       "    white-space: pre-wrap;\n",
       "    word-wrap: break-word;\n",
       "    word-break: break-all;\n",
       "    font-family: \"Source Code Pro\", \"Menlo\", monospace;;\n",
       "    font-size: 13px;\n",
       "    color: #555;\n",
       "    margin-left: 4px;\n",
       "    line-height: 19px;\n",
       "  }\n",
       "</style>\n",
       "<div class=\"ansiout\">Out[49]: </div>"
      ]
     },
     "metadata": {
      "application/vnd.databricks.v1+output": {
       "addedWidgets": {},
       "arguments": {},
       "data": "<div class=\"ansiout\">Out[49]: </div>",
       "datasetInfos": [],
       "metadata": {},
       "removedWidgets": [],
       "type": "html"
      }
     },
     "output_type": "display_data"
    },
    {
     "data": {
      "image/png": "[encoded data removed]"
     },
     "metadata": {
      "application/vnd.databricks.v1+output": {
       "addedWidgets": {},
       "arguments": {},
       "data": "data:image/png;base64,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",
       "datasetInfos": [],
       "metadata": {
        "imageDimensions": {
         "height": 278,
         "width": 345
        }
       },
       "removedWidgets": [],
       "type": "image"
      },
      "image/png": {
       "height": 278,
       "width": 345
      }
     },
     "output_type": "display_data"
    },
    {
     "data": {
      "text/html": [
       "<style scoped>\n",
       "  .ansiout {\n",
       "    display: block;\n",
       "    unicode-bidi: embed;\n",
       "    white-space: pre-wrap;\n",
       "    word-wrap: break-word;\n",
       "    word-break: break-all;\n",
       "    font-family: \"Source Code Pro\", \"Menlo\", monospace;;\n",
       "    font-size: 13px;\n",
       "    color: #555;\n",
       "    margin-left: 4px;\n",
       "    line-height: 19px;\n",
       "  }\n",
       "</style>\n",
       "<div class=\"ansiout\">[Text(0.5, 0, &#39;Predicted labels&#39;), Text(0, 0.5, &#39;True labels&#39;)]</div>"
      ]
     },
     "metadata": {
      "application/vnd.databricks.v1+output": {
       "addedWidgets": {},
       "arguments": {},
       "data": "<div class=\"ansiout\">[Text(0.5, 0, &#39;Predicted labels&#39;), Text(0, 0.5, &#39;True labels&#39;)]</div>",
       "datasetInfos": [],
       "metadata": {},
       "removedWidgets": [],
       "type": "html"
      }
     },
     "output_type": "display_data"
    }
   ],
   "source": [
    "# Plot Confusion Matrix\n",
    "\n",
    "cm_gbt = confusion_matrix(y_true_gbt, y_pred_gbt)\n",
    "cm_gbt_display = ConfusionMatrixDisplay(cm_gbt, display_labels=['On Time', 'Delay'])\n",
    "cm_gbt_display.plot(cmap='Blues', values_format='d')\n",
    "cm_gbt_display.ax_.set(title='Confusion Matrix-Gradient Boosted Tree')\n",
    "cm_gbt_display.ax_.set(xlabel='Predicted labels', ylabel='True labels')"
   ]
  },
  {
   "cell_type": "markdown",
   "metadata": {
    "application/vnd.databricks.v1+cell": {
     "inputWidgets": {},
     "nuid": "6ea8b657-6d05-4fb6-855e-2d34a66fb221",
     "showTitle": false,
     "title": ""
    }
   },
   "source": [
    "#### 5.5. Support Vector Machine"
   ]
  },
  {
   "cell_type": "markdown",
   "metadata": {
    "application/vnd.databricks.v1+cell": {
     "inputWidgets": {},
     "nuid": "de2b4b4b-ebb8-4ce0-9e10-cc184571acf7",
     "showTitle": false,
     "title": ""
    }
   },
   "source": [
    "The objective of the support vector machine algorithm is to find a hyperplane in an N-dimensional space(N — the number of features) that distinctly classifies the data points.\n",
    "\n",
    "We used the **LinearSVC** class in PySpark because we are doing support vector classification - and not regression. It is important to note that LinearSVC in Pyspark optimizes the Hinge Loss using the OWLQN optimizer. It only supports L2 regularization currently.\n",
    "\n",
    "**Comparison of SVC with other models:**\n",
    "\n",
    "1) SVC vs Random Forest or Gradient Boosted tree \n",
    "\n",
    "> - SVM requires more computation time for achieving almost the same accuracy as with other classifiers such as Random forest.\n",
    "> - Random Forest is intrinsically suited for multiclass problems, while SVM is intrinsically two-class. For multiclass problem, while using SVM, it is needed to reduce it into multiple binary classification problems.\n",
    "> - Random Forest works well with a mixture of numerical and categorical features, even when features are on the various scales. Basically, with Random Forest we can use data as they are. SVM maximizes the \"margin\" and thus relies on the concept of \"distance\" between different points. In that case it falls on us to decide if \"distance\" is meaningful. As a consequence, in SVM, one-hot encoding for categorical features is a must-do. Further, min-max or other scaling is highly recommended at preprocessing step for SVM.\n",
    "> - For a classification problem like the one that we built our model on, Random Forest gives the probability of belonging to class whereas SVM gives the distance to the boundary, Hence, for those problems, SVM generally performs better than Random Forest. But the caveat here is that, for SVM, we still need to convert it to probability somehow if we need probability.\n",
    "\n",
    "2) SVC vs Logistic Regression\n",
    "Comparing SVC vs Logistic Regression, SVC tries to find an optimal hyperplane rather than focusing on maximizing the probability of the data. It is less prone to overfitting compared to logistic regression, however, may take longer to train. We expected SVM to perform at par or better than logistic regression."
   ]
  },
  {
   "cell_type": "markdown",
   "metadata": {
    "application/vnd.databricks.v1+cell": {
     "inputWidgets": {},
     "nuid": "a37b0b2f-c476-4086-b638-a2de60c13d06",
     "showTitle": false,
     "title": ""
    }
   },
   "source": [
    "**SVM GridSearch**"
   ]
  },
  {
   "cell_type": "code",
   "execution_count": 0,
   "metadata": {
    "application/vnd.databricks.v1+cell": {
     "inputWidgets": {},
     "nuid": "63bb9e14-016e-4b0d-a305-53b576bfe1fe",
     "showTitle": false,
     "title": ""
    }
   },
   "outputs": [
    {
     "data": {
      "text/html": [
       "<style scoped>\n",
       "  .ansiout {\n",
       "    display: block;\n",
       "    unicode-bidi: embed;\n",
       "    white-space: pre-wrap;\n",
       "    word-wrap: break-word;\n",
       "    word-break: break-all;\n",
       "    font-family: \"Source Code Pro\", \"Menlo\", monospace;;\n",
       "    font-size: 13px;\n",
       "    color: #555;\n",
       "    margin-left: 4px;\n",
       "    line-height: 19px;\n",
       "  }\n",
       "</style>\n",
       "<div class=\"ansiout\"></div>"
      ]
     },
     "metadata": {
      "application/vnd.databricks.v1+output": {
       "addedWidgets": {},
       "arguments": {},
       "data": "<div class=\"ansiout\"></div>",
       "datasetInfos": [],
       "metadata": {},
       "removedWidgets": [],
       "type": "html"
      }
     },
     "output_type": "display_data"
    }
   ],
   "source": [
    "grid_search = False\n",
    "\n",
    "if(grid_search):\n",
    "  \n",
    "  lsvc_estimator = LinearSVC(featuresCol='VectorAssembler_features', labelCol='departure_delay_boolean')\n",
    "  \n",
    "  paramGrid_svc = (ParamGridBuilder()\n",
    "               .addGrid(svc.regParam, [0.15, 0.05, 0.001])\n",
    "               .addGrid(svc.maxIter, [0, 10, 100]) \n",
    "               .addGrid(svc.fitIntercept, [True, False])\n",
    "               .addGrid(svc.standardization, [True, False])\n",
    "               .addGrid(svc.aggregationDepth, [2, 3])\n",
    "               .addGrid(svc.aggregationDepth, [1e-04, 1e-06])\n",
    "               .addGrid(svc.threshold, [0.0001,0])   \n",
    "               .build())\n",
    "\n",
    "  svc_evaluator = MulticlassClassificationEvaluator(labelCol='departure_delay_boolean', metricName='f1')\n",
    "\n",
    "  svc_cv = CrossValidator(estimator = lsvc_estimator,\n",
    "                        estimatorParamMaps = paramGrid_svc,\n",
    "                        evaluator = svc_evaluator,\n",
    "                        numFolds = 3)\n",
    "\n",
    "  svc_model = svc_cv.fit(model_data_train)\n",
    "\n",
    "  print(svc_model)"
   ]
  },
  {
   "cell_type": "markdown",
   "metadata": {
    "application/vnd.databricks.v1+cell": {
     "inputWidgets": {},
     "nuid": "902b0021-aafa-4b48-9006-f121eba400af",
     "showTitle": false,
     "title": ""
    }
   },
   "source": [
    "**SVM Model Pipeline**"
   ]
  },
  {
   "cell_type": "code",
   "execution_count": 0,
   "metadata": {
    "application/vnd.databricks.v1+cell": {
     "inputWidgets": {},
     "nuid": "2223b8aa-7c2c-4b00-90a3-b080513e4e7d",
     "showTitle": false,
     "title": ""
    }
   },
   "outputs": [
    {
     "data": {
      "text/html": [
       "<style scoped>\n",
       "  .ansiout {\n",
       "    display: block;\n",
       "    unicode-bidi: embed;\n",
       "    white-space: pre-wrap;\n",
       "    word-wrap: break-word;\n",
       "    word-break: break-all;\n",
       "    font-family: \"Source Code Pro\", \"Menlo\", monospace;;\n",
       "    font-size: 13px;\n",
       "    color: #555;\n",
       "    margin-left: 4px;\n",
       "    line-height: 19px;\n",
       "  }\n",
       "</style>\n",
       "<div class=\"ansiout\">svc model completed job in 199.68533158302307 seconds.\n",
       "</div>"
      ]
     },
     "metadata": {
      "application/vnd.databricks.v1+output": {
       "addedWidgets": {},
       "arguments": {},
       "data": "<div class=\"ansiout\">svc model completed job in 199.68533158302307 seconds.\n</div>",
       "datasetInfos": [],
       "metadata": {},
       "removedWidgets": [],
       "type": "html"
      }
     },
     "output_type": "display_data"
    }
   ],
   "source": [
    "start_svc = time.time()\n",
    "lsvc = LinearSVC(featuresCol='pca_features',\n",
    "                 labelCol='departure_delay_boolean',\n",
    "                 maxIter=100, regParam=0.2, tol=1e-05, fitIntercept=True, standardization=True,\n",
    "                 threshold=0.0001, aggregationDepth=2 )\n",
    "\n",
    "stages_lsvc = [lsvc]\n",
    "pipeline_lsvc = Pipeline(stages=stages_lsvc)\n",
    "lsvc_model = pipeline_lsvc.fit(model_data_train)\n",
    "lsvcPredictions = lsvc_model.transform(model_data_test)\n",
    "print(f'svc model completed job in {time.time() - start_svc} seconds.')\n",
    "svc_time_model = time.time() - start_svc\n",
    "\n"
   ]
  },
  {
   "cell_type": "markdown",
   "metadata": {
    "application/vnd.databricks.v1+cell": {
     "inputWidgets": {},
     "nuid": "235ecf48-d625-4dfe-87a0-c53470709293",
     "showTitle": false,
     "title": ""
    }
   },
   "source": [
    "**SVM Model Evaluation**"
   ]
  },
  {
   "cell_type": "code",
   "execution_count": 0,
   "metadata": {
    "application/vnd.databricks.v1+cell": {
     "inputWidgets": {},
     "nuid": "df9da329-fe47-4076-b226-cfe47b2e90d1",
     "showTitle": false,
     "title": ""
    }
   },
   "outputs": [
    {
     "data": {
      "text/html": [
       "<style scoped>\n",
       "  .ansiout {\n",
       "    display: block;\n",
       "    unicode-bidi: embed;\n",
       "    white-space: pre-wrap;\n",
       "    word-wrap: break-word;\n",
       "    word-break: break-all;\n",
       "    font-family: \"Source Code Pro\", \"Menlo\", monospace;;\n",
       "    font-size: 13px;\n",
       "    color: #555;\n",
       "    margin-left: 4px;\n",
       "    line-height: 19px;\n",
       "  }\n",
       "</style>\n",
       "<div class=\"ansiout\">              precision    recall  f1-score   support\n",
       "\n",
       "         0.0       0.88      0.76      0.81   5209208\n",
       "         1.0       0.37      0.58      0.46   1291769\n",
       "\n",
       "    accuracy                           0.72   6500977\n",
       "   macro avg       0.63      0.67      0.64   6500977\n",
       "weighted avg       0.78      0.72      0.74   6500977\n",
       "\n",
       "[[3949946 1259262]\n",
       " [ 539496  752273]]\n",
       "</div>"
      ]
     },
     "metadata": {
      "application/vnd.databricks.v1+output": {
       "addedWidgets": {},
       "arguments": {},
       "data": "<div class=\"ansiout\">              precision    recall  f1-score   support\n\n         0.0       0.88      0.76      0.81   5209208\n         1.0       0.37      0.58      0.46   1291769\n\n    accuracy                           0.72   6500977\n   macro avg       0.63      0.67      0.64   6500977\nweighted avg       0.78      0.72      0.74   6500977\n\n[[3949946 1259262]\n [ 539496  752273]]\n</div>",
       "datasetInfos": [],
       "metadata": {},
       "removedWidgets": [],
       "type": "html"
      }
     },
     "output_type": "display_data"
    }
   ],
   "source": [
    "# Model Evaluation with scikit learn\n",
    "y_true_lsvc = lsvcPredictions.select(['departure_delay_boolean']).collect()\n",
    "y_pred_lsvc = lsvcPredictions.select(['prediction']).collect()\n",
    "\n",
    "# Print metrics\n",
    "from sklearn.metrics import classification_report, confusion_matrix\n",
    "print(classification_report(y_true_lsvc, y_pred_lsvc))\n",
    "print(confusion_matrix(y_true_lsvc, y_pred_lsvc))"
   ]
  },
  {
   "cell_type": "code",
   "execution_count": 0,
   "metadata": {
    "application/vnd.databricks.v1+cell": {
     "inputWidgets": {},
     "nuid": "fd1e1530-eb25-4b6a-a852-e9c910cc35ce",
     "showTitle": false,
     "title": ""
    }
   },
   "outputs": [
    {
     "data": {
      "text/html": [
       "<style scoped>\n",
       "  .ansiout {\n",
       "    display: block;\n",
       "    unicode-bidi: embed;\n",
       "    white-space: pre-wrap;\n",
       "    word-wrap: break-word;\n",
       "    word-break: break-all;\n",
       "    font-family: \"Source Code Pro\", \"Menlo\", monospace;;\n",
       "    font-size: 13px;\n",
       "    color: #555;\n",
       "    margin-left: 4px;\n",
       "    line-height: 19px;\n",
       "  }\n",
       "</style>\n",
       "<div class=\"ansiout\">Sensitivity: 58.24%\n",
       "Specificity: 75.83%\n",
       "False positive rate: 24.17%\n",
       "False negative rate: 41.76%\n",
       "Recall: 58.24%\n",
       "Precision: 37.40%\n",
       "f1: 45.55%\n",
       "########### Confusion Matrix ###########\n",
       "                Predicted-delay  Predicted-on time\n",
       "Actual-delay             752273             539496\n",
       "Actual-on time          1259262            3949946\n",
       "</div>"
      ]
     },
     "metadata": {
      "application/vnd.databricks.v1+output": {
       "addedWidgets": {},
       "arguments": {},
       "data": "<div class=\"ansiout\">Sensitivity: 58.24%\nSpecificity: 75.83%\nFalse positive rate: 24.17%\nFalse negative rate: 41.76%\nRecall: 58.24%\nPrecision: 37.40%\nf1: 45.55%\n########### Confusion Matrix ###########\n                Predicted-delay  Predicted-on time\nActual-delay             752273             539496\nActual-on time          1259262            3949946\n</div>",
       "datasetInfos": [],
       "metadata": {},
       "removedWidgets": [],
       "type": "html"
      }
     },
     "output_type": "display_data"
    }
   ],
   "source": [
    "print_results(lsvcPredictions)"
   ]
  },
  {
   "cell_type": "code",
   "execution_count": 0,
   "metadata": {
    "application/vnd.databricks.v1+cell": {
     "inputWidgets": {},
     "nuid": "8c8565ca-b34a-445f-a0cd-09b51fa301a9",
     "showTitle": false,
     "title": ""
    }
   },
   "outputs": [
    {
     "data": {
      "text/html": [
       "<style scoped>\n",
       "  .ansiout {\n",
       "    display: block;\n",
       "    unicode-bidi: embed;\n",
       "    white-space: pre-wrap;\n",
       "    word-wrap: break-word;\n",
       "    word-break: break-all;\n",
       "    font-family: \"Source Code Pro\", \"Menlo\", monospace;;\n",
       "    font-size: 13px;\n",
       "    color: #555;\n",
       "    margin-left: 4px;\n",
       "    line-height: 19px;\n",
       "  }\n",
       "</style>\n",
       "<div class=\"ansiout\">Out[54]: </div>"
      ]
     },
     "metadata": {
      "application/vnd.databricks.v1+output": {
       "addedWidgets": {},
       "arguments": {},
       "data": "<div class=\"ansiout\">Out[54]: </div>",
       "datasetInfos": [],
       "metadata": {},
       "removedWidgets": [],
       "type": "html"
      }
     },
     "output_type": "display_data"
    },
    {
     "data": {
      "image/png": "[encoded data removed]"
     },
     "metadata": {
      "application/vnd.databricks.v1+output": {
       "addedWidgets": {},
       "arguments": {},
       "data": "data:image/png;base64,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",
       "datasetInfos": [],
       "metadata": {
        "imageDimensions": {
         "height": 278,
         "width": 345
        }
       },
       "removedWidgets": [],
       "type": "image"
      },
      "image/png": {
       "height": 278,
       "width": 345
      }
     },
     "output_type": "display_data"
    },
    {
     "data": {
      "text/html": [
       "<style scoped>\n",
       "  .ansiout {\n",
       "    display: block;\n",
       "    unicode-bidi: embed;\n",
       "    white-space: pre-wrap;\n",
       "    word-wrap: break-word;\n",
       "    word-break: break-all;\n",
       "    font-family: \"Source Code Pro\", \"Menlo\", monospace;;\n",
       "    font-size: 13px;\n",
       "    color: #555;\n",
       "    margin-left: 4px;\n",
       "    line-height: 19px;\n",
       "  }\n",
       "</style>\n",
       "<div class=\"ansiout\">[Text(0.5, 0, &#39;Predicted labels&#39;), Text(0, 0.5, &#39;True labels&#39;)]</div>"
      ]
     },
     "metadata": {
      "application/vnd.databricks.v1+output": {
       "addedWidgets": {},
       "arguments": {},
       "data": "<div class=\"ansiout\">[Text(0.5, 0, &#39;Predicted labels&#39;), Text(0, 0.5, &#39;True labels&#39;)]</div>",
       "datasetInfos": [],
       "metadata": {},
       "removedWidgets": [],
       "type": "html"
      }
     },
     "output_type": "display_data"
    }
   ],
   "source": [
    "#Plot Confusion Matrix\n",
    "\n",
    "cm_lsvc = confusion_matrix(y_true_lsvc, y_pred_lsvc)\n",
    "cm_lsvc_display = ConfusionMatrixDisplay(cm_lsvc, display_labels=['On Time', 'Delay'])\n",
    "cm_lsvc_display.plot(cmap='Blues', values_format='d')\n",
    "cm_lsvc_display.ax_.set(title='Confusion Matrix-Gradient Boosted Tree')\n",
    "cm_lsvc_display.ax_.set(xlabel='Predicted labels', ylabel='True labels')"
   ]
  },
  {
   "cell_type": "markdown",
   "metadata": {
    "application/vnd.databricks.v1+cell": {
     "inputWidgets": {},
     "nuid": "563f1f24-b365-4b63-a625-41e0c21b5135",
     "showTitle": false,
     "title": ""
    }
   },
   "source": [
    "**XGBoost Evaluation**"
   ]
  },
  {
   "cell_type": "code",
   "execution_count": 0,
   "metadata": {
    "application/vnd.databricks.v1+cell": {
     "inputWidgets": {},
     "nuid": "10c1676b-a715-41e6-a054-e0d71deea26e",
     "showTitle": false,
     "title": ""
    }
   },
   "outputs": [
    {
     "data": {
      "text/html": [
       "<style scoped>\n",
       "  .ansiout {\n",
       "    display: block;\n",
       "    unicode-bidi: embed;\n",
       "    white-space: pre-wrap;\n",
       "    word-wrap: break-word;\n",
       "    word-break: break-all;\n",
       "    font-family: \"Source Code Pro\", \"Menlo\", monospace;;\n",
       "    font-size: 13px;\n",
       "    color: #555;\n",
       "    margin-left: 4px;\n",
       "    line-height: 19px;\n",
       "  }\n",
       "</style>\n",
       "<div class=\"ansiout\"></div>"
      ]
     },
     "metadata": {
      "application/vnd.databricks.v1+output": {
       "addedWidgets": {},
       "arguments": {},
       "data": "<div class=\"ansiout\"></div>",
       "datasetInfos": [],
       "metadata": {},
       "removedWidgets": [],
       "type": "html"
      }
     },
     "output_type": "display_data"
    }
   ],
   "source": [
    "xgb = XgboostClassifier(featuresCol='VectorAssembler_features', \n",
    "              labelCol='departure_delay_boolean', \n",
    "              maxBins=10,\n",
    "              maxDepth=5,\n",
    "              minInstancesPerNode=10,\n",
    "              minInfoGain=0.001,\n",
    "              stepSize=0.2,\n",
    "              maxIter=10,\n",
    "              missing = 0.0,\n",
    "              n_estimators = 50 \n",
    "              )\n",
    "\n",
    "# Setup pipeline\n",
    "stages_xgbClassifier = [xgb]\n",
    "pipeline_xgb = Pipeline(stages=stages_xgbClassifier)\n"
   ]
  },
  {
   "cell_type": "code",
   "execution_count": 0,
   "metadata": {
    "application/vnd.databricks.v1+cell": {
     "inputWidgets": {},
     "nuid": "c0c3776c-fe3e-4e1b-a2e3-47a61e5da217",
     "showTitle": false,
     "title": ""
    }
   },
   "outputs": [
    {
     "data": {
      "text/html": [
       "<style scoped>\n",
       "  .ansiout {\n",
       "    display: block;\n",
       "    unicode-bidi: embed;\n",
       "    white-space: pre-wrap;\n",
       "    word-wrap: break-word;\n",
       "    word-break: break-all;\n",
       "    font-family: \"Source Code Pro\", \"Menlo\", monospace;;\n",
       "    font-size: 13px;\n",
       "    color: #555;\n",
       "    margin-left: 4px;\n",
       "    line-height: 19px;\n",
       "  }\n",
       "</style>\n",
       "<div class=\"ansiout\"></div>"
      ]
     },
     "metadata": {
      "application/vnd.databricks.v1+output": {
       "addedWidgets": {},
       "arguments": {},
       "data": "<div class=\"ansiout\"></div>",
       "datasetInfos": [],
       "metadata": {},
       "removedWidgets": [],
       "type": "html"
      }
     },
     "output_type": "display_data"
    }
   ],
   "source": [
    "\n",
    "# Train the XGB model\n",
    "xgb_model = pipeline_xgb.fit(model_data_train)\n",
    "\n",
    "xgbpredictions = xgb_model.transform(model_data_test)\n",
    "\n"
   ]
  },
  {
   "cell_type": "code",
   "execution_count": 0,
   "metadata": {
    "application/vnd.databricks.v1+cell": {
     "inputWidgets": {},
     "nuid": "40b71993-8057-42e8-8a19-8e1a41f17357",
     "showTitle": false,
     "title": ""
    }
   },
   "outputs": [
    {
     "data": {
      "text/html": [
       "<style scoped>\n",
       "  .ansiout {\n",
       "    display: block;\n",
       "    unicode-bidi: embed;\n",
       "    white-space: pre-wrap;\n",
       "    word-wrap: break-word;\n",
       "    word-break: break-all;\n",
       "    font-family: \"Source Code Pro\", \"Menlo\", monospace;;\n",
       "    font-size: 13px;\n",
       "    color: #555;\n",
       "    margin-left: 4px;\n",
       "    line-height: 19px;\n",
       "  }\n",
       "</style>\n",
       "<div class=\"ansiout\">Out[15]: 0.7851962250256446</div>"
      ]
     },
     "metadata": {
      "application/vnd.databricks.v1+output": {
       "addedWidgets": {},
       "arguments": {},
       "data": "<div class=\"ansiout\">Out[15]: 0.7851962250256446</div>",
       "datasetInfos": [],
       "metadata": {},
       "removedWidgets": [],
       "type": "html"
      }
     },
     "output_type": "display_data"
    }
   ],
   "source": [
    "eval_accuracy = MulticlassClassificationEvaluator(labelCol=\"departure_delay_boolean\", predictionCol=\"prediction\", metricName=\"accuracy\")\n",
    "eval_precision = MulticlassClassificationEvaluator(labelCol=\"departure_delay_boolean\", predictionCol=\"prediction\", metricName=\"precision\")\n",
    "eval_recall = MulticlassClassificationEvaluator(labelCol=\"departure_delay_boolean\", predictionCol=\"prediction\", metricName=\"recall\")\n",
    "\n",
    "evaluator = MulticlassClassificationEvaluator(labelCol=\"departure_delay_boolean\", predictionCol=\"prediction\", metricName=\"f1\")\n",
    "evaluator.evaluate(xgbpredictions)\n"
   ]
  },
  {
   "cell_type": "code",
   "execution_count": 0,
   "metadata": {
    "application/vnd.databricks.v1+cell": {
     "inputWidgets": {},
     "nuid": "a8cedb8c-be92-4813-8e67-7d15aff63d9c",
     "showTitle": false,
     "title": ""
    }
   },
   "outputs": [
    {
     "data": {
      "text/html": [
       "<style scoped>\n",
       "  .ansiout {\n",
       "    display: block;\n",
       "    unicode-bidi: embed;\n",
       "    white-space: pre-wrap;\n",
       "    word-wrap: break-word;\n",
       "    word-break: break-all;\n",
       "    font-family: \"Source Code Pro\", \"Menlo\", monospace;;\n",
       "    font-size: 13px;\n",
       "    color: #555;\n",
       "    margin-left: 4px;\n",
       "    line-height: 19px;\n",
       "  }\n",
       "</style>\n",
       "<div class=\"ansiout\">              precision    recall  f1-score   support\n",
       "\n",
       "         0.0       0.90      0.80      0.85   5209208\n",
       "         1.0       0.45      0.64      0.53   1291769\n",
       "\n",
       "    accuracy                           0.77   6500977\n",
       "   macro avg       0.67      0.72      0.69   6500977\n",
       "weighted avg       0.81      0.77      0.79   6500977\n",
       "\n",
       "[[4186796 1022412]\n",
       " [ 464019  827750]]\n",
       "</div>"
      ]
     },
     "metadata": {
      "application/vnd.databricks.v1+output": {
       "addedWidgets": {},
       "arguments": {},
       "data": "<div class=\"ansiout\">              precision    recall  f1-score   support\n\n         0.0       0.90      0.80      0.85   5209208\n         1.0       0.45      0.64      0.53   1291769\n\n    accuracy                           0.77   6500977\n   macro avg       0.67      0.72      0.69   6500977\nweighted avg       0.81      0.77      0.79   6500977\n\n[[4186796 1022412]\n [ 464019  827750]]\n</div>",
       "datasetInfos": [],
       "metadata": {},
       "removedWidgets": [],
       "type": "html"
      }
     },
     "output_type": "display_data"
    }
   ],
   "source": [
    "y_true_xgb = xgbpredictions.select(['departure_delay_boolean']).collect()\n",
    "y_pred_xgb = xgbpredictions.select(['prediction']).collect()\n",
    "\n",
    "# Print metrics\n",
    "from sklearn.metrics import classification_report, confusion_matrix\n",
    "print(classification_report(y_true_xgb, y_pred_xgb))\n",
    "print(confusion_matrix(y_true_xgb, y_pred_xgb))"
   ]
  },
  {
   "cell_type": "code",
   "execution_count": 0,
   "metadata": {
    "application/vnd.databricks.v1+cell": {
     "inputWidgets": {},
     "nuid": "05f2d5aa-d594-46c9-ab42-6bc545ad3422",
     "showTitle": false,
     "title": ""
    }
   },
   "outputs": [
    {
     "data": {
      "text/html": [
       "<style scoped>\n",
       "  .ansiout {\n",
       "    display: block;\n",
       "    unicode-bidi: embed;\n",
       "    white-space: pre-wrap;\n",
       "    word-wrap: break-word;\n",
       "    word-break: break-all;\n",
       "    font-family: \"Source Code Pro\", \"Menlo\", monospace;;\n",
       "    font-size: 13px;\n",
       "    color: #555;\n",
       "    margin-left: 4px;\n",
       "    line-height: 19px;\n",
       "  }\n",
       "</style>\n",
       "<div class=\"ansiout\">Out[17]: </div>"
      ]
     },
     "metadata": {
      "application/vnd.databricks.v1+output": {
       "addedWidgets": {},
       "arguments": {},
       "data": "<div class=\"ansiout\">Out[17]: </div>",
       "datasetInfos": [],
       "metadata": {},
       "removedWidgets": [],
       "type": "html"
      }
     },
     "output_type": "display_data"
    },
    {
     "data": {
      "image/png": "[encoded data removed]"
     },
     "metadata": {
      "application/vnd.databricks.v1+output": {
       "addedWidgets": {},
       "arguments": {},
       "data": "data:image/png;base64,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",
       "datasetInfos": [],
       "metadata": {
        "imageDimensions": {
         "height": 278,
         "width": 345
        }
       },
       "removedWidgets": [],
       "type": "image"
      },
      "image/png": {
       "height": 278,
       "width": 345
      }
     },
     "output_type": "display_data"
    },
    {
     "data": {
      "text/html": [
       "<style scoped>\n",
       "  .ansiout {\n",
       "    display: block;\n",
       "    unicode-bidi: embed;\n",
       "    white-space: pre-wrap;\n",
       "    word-wrap: break-word;\n",
       "    word-break: break-all;\n",
       "    font-family: \"Source Code Pro\", \"Menlo\", monospace;;\n",
       "    font-size: 13px;\n",
       "    color: #555;\n",
       "    margin-left: 4px;\n",
       "    line-height: 19px;\n",
       "  }\n",
       "</style>\n",
       "<div class=\"ansiout\">[Text(0.5, 0, &#39;Predicted labels&#39;), Text(0, 0.5, &#39;True labels&#39;)]</div>"
      ]
     },
     "metadata": {
      "application/vnd.databricks.v1+output": {
       "addedWidgets": {},
       "arguments": {},
       "data": "<div class=\"ansiout\">[Text(0.5, 0, &#39;Predicted labels&#39;), Text(0, 0.5, &#39;True labels&#39;)]</div>",
       "datasetInfos": [],
       "metadata": {},
       "removedWidgets": [],
       "type": "html"
      }
     },
     "output_type": "display_data"
    }
   ],
   "source": [
    "# Plot Confusion Matrix\n",
    "\n",
    "cm_xgb = confusion_matrix(y_true_xgb, y_pred_xgb)\n",
    "cm_xgb_display = ConfusionMatrixDisplay(cm_xgb, display_labels=['On Time', 'Delay'])\n",
    "cm_xgb_display.plot(cmap='Blues', values_format='d')\n",
    "cm_xgb_display.ax_.set(title='Confusion Matrix-XGB')\n",
    "cm_xgb_display.ax_.set(xlabel='Predicted labels', ylabel='True labels')"
   ]
  }
 ],
 "metadata": {
  "application/vnd.databricks.v1+notebook": {
   "dashboards": [],
   "language": "python",
   "notebookMetadata": {
    "pythonIndentUnit": 2
   },
   "notebookName": "W261_FA21_FINAL_PROJECT_TEAM11_NB5_Algorithm_Exploration_PCA_v2",
   "notebookOrigID": 2297543790378350,
   "widgets": {}
  },
  "kernelspec": {
   "display_name": "Python 3",
   "language": "python",
   "name": "python3"
  },
  "language_info": {
   "codemirror_mode": {
    "name": "ipython",
    "version": 3
   },
   "file_extension": ".py",
   "mimetype": "text/x-python",
   "name": "python",
   "nbconvert_exporter": "python",
   "pygments_lexer": "ipython3",
   "version": "3.8.3"
  }
 },
 "nbformat": 4,
 "nbformat_minor": 1
}
