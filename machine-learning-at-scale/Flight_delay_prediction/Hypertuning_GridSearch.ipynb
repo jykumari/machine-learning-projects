{
 "cells": [
  {
   "cell_type": "markdown",
   "metadata": {
    "application/vnd.databricks.v1+cell": {
     "inputWidgets": {},
     "nuid": "683d4c13-182d-4f4c-93de-0d6d7833a480",
     "showTitle": false,
     "title": ""
    }
   },
   "source": [
    "## Algorithm Hypertuning Using Gridsearch and ML FLow\n",
    "\n",
    "This notebook demonstrates algorithm exploration part where we have applied 4 different algorithms to the training set\n",
    "\n",
    "- Logistic Regression (Baseline and Fastest Model)\n",
    "- Gradient Boosted Tree (Best Results but Resource Intensive)"
   ]
  },
  {
   "cell_type": "markdown",
   "metadata": {
    "application/vnd.databricks.v1+cell": {
     "inputWidgets": {},
     "nuid": "1a7aeb2f-4fb3-4f9b-bb04-a8b1b9514a13",
     "showTitle": false,
     "title": ""
    }
   },
   "source": [
    "### Section 1 - Setup Environment"
   ]
  },
  {
   "cell_type": "code",
   "execution_count": 0,
   "metadata": {
    "application/vnd.databricks.v1+cell": {
     "inputWidgets": {},
     "nuid": "860d1e18-8843-40ec-9b06-baca76a0b902",
     "showTitle": true,
     "title": "Import Libraries"
    }
   },
   "outputs": [
    {
     "data": {
      "text/html": [
       "<style scoped>\n",
       "  .ansiout {\n",
       "    display: block;\n",
       "    unicode-bidi: embed;\n",
       "    white-space: pre-wrap;\n",
       "    word-wrap: break-word;\n",
       "    word-break: break-all;\n",
       "    font-family: \"Source Code Pro\", \"Menlo\", monospace;;\n",
       "    font-size: 13px;\n",
       "    color: #555;\n",
       "    margin-left: 4px;\n",
       "    line-height: 19px;\n",
       "  }\n",
       "</style>\n",
       "<div class=\"ansiout\"></div>"
      ]
     },
     "metadata": {
      "application/vnd.databricks.v1+output": {
       "addedWidgets": {},
       "arguments": {},
       "data": "<div class=\"ansiout\"></div>",
       "datasetInfos": [],
       "metadata": {},
       "removedWidgets": [],
       "type": "html"
      }
     },
     "output_type": "display_data"
    }
   ],
   "source": [
    "from pyspark.sql.functions import col, concat, count, countDistinct, expr, lit, length, max as pyspark_max, min as pyspark_max, mean, substring, split, sum as pyspark_sum, when, to_utc_timestamp, to_timestamp, unix_timestamp, isnan\n",
    "import pandas as pd\n",
    "from html import escape\n",
    "from IPython.display import HTML, display as ipython_display\n",
    "import seaborn as sns\n",
    "import matplotlib.pyplot as plt\n",
    "from sklearn.metrics import confusion_matrix, ConfusionMatrixDisplay\n",
    "from pyspark.sql import SQLContext\n",
    "from pyspark.sql.types import IntegerType, StringType, BooleanType, DateType, DoubleType\n",
    "import matplotlib.pyplot as plt\n",
    "from pandas.tseries.holiday import USFederalHolidayCalendar\n",
    "from pyspark.sql.functions import substring\n",
    "from pyspark.sql import functions as F\n",
    "from pyspark.ml.classification import LogisticRegression\n",
    "from pyspark.ml.evaluation import BinaryClassificationEvaluator\n",
    "from pyspark.ml.evaluation import MulticlassClassificationEvaluator\n",
    "from pyspark.ml.tuning import ParamGridBuilder, CrossValidator\n",
    "from pyspark.sql.functions import col, max, substring\n",
    "from pyspark.mllib.tree import DecisionTree, DecisionTreeModel\n",
    "from pyspark.ml.classification import DecisionTreeClassifier\n",
    "from pyspark.ml.classification import RandomForestClassifier\n",
    "from pyspark.ml.classification import GBTClassifier\n",
    "from sparkdl.xgboost import XgboostClassifier\n",
    "from pyspark.mllib.util import MLUtils\n",
    "from pyspark.ml.feature import Imputer\n",
    "from pyspark.ml.classification import LinearSVC as svc\n",
    "from pyspark.ml.classification import LinearSVC\n",
    "from pyspark.ml import Pipeline\n",
    "import numpy as np\n",
    "import time\n",
    "from pyspark.ml.feature import VectorAssembler\n",
    "from sklearn.metrics import classification_report, confusion_matrix\n",
    "from pyspark.sql.functions import percent_rank\n",
    "from pyspark.sql import Window\n"
   ]
  },
  {
   "cell_type": "markdown",
   "metadata": {
    "application/vnd.databricks.v1+cell": {
     "inputWidgets": {},
     "nuid": "df298e5c-4e2b-4468-acbd-e051275b692c",
     "showTitle": false,
     "title": ""
    }
   },
   "source": [
    "<br>\n",
    "<img src ='https://sudhritybucket.s3.amazonaws.com/experiments.png' width=\"800\" height=\"800\">\n",
    "<br>"
   ]
  },
  {
   "cell_type": "code",
   "execution_count": 0,
   "metadata": {
    "application/vnd.databricks.v1+cell": {
     "inputWidgets": {},
     "nuid": "c1eb45d1-01f5-4e23-9333-2ccc83e93020",
     "showTitle": false,
     "title": ""
    }
   },
   "outputs": [
    {
     "data": {
      "text/html": [
       "<style scoped>\n",
       "  .ansiout {\n",
       "    display: block;\n",
       "    unicode-bidi: embed;\n",
       "    white-space: pre-wrap;\n",
       "    word-wrap: break-word;\n",
       "    word-break: break-all;\n",
       "    font-family: \"Source Code Pro\", \"Menlo\", monospace;;\n",
       "    font-size: 13px;\n",
       "    color: #555;\n",
       "    margin-left: 4px;\n",
       "    line-height: 19px;\n",
       "  }\n",
       "</style>\n",
       "<div class=\"ansiout\"></div>"
      ]
     },
     "metadata": {
      "application/vnd.databricks.v1+output": {
       "addedWidgets": {},
       "arguments": {},
       "data": "<div class=\"ansiout\"></div>",
       "datasetInfos": [],
       "metadata": {},
       "removedWidgets": [],
       "type": "html"
      }
     },
     "output_type": "display_data"
    }
   ],
   "source": [
    "blob_container = \"w261-container\" # The name of your container created in https://portal.azure.com\n",
    "storage_account = \"w261storageaccount\" # The name of your Storage account created in https://portal.azure.com\n",
    "secret_scope = \"w261scope\" # The name of the scope created in your local computer using the Databricks CLI\n",
    "secret_key = \"w261key\" # The name of the secret key created in your local computer using the Databricks CLI \n",
    "blob_url = f\"wasbs://{blob_container}@{storage_account}.blob.core.windows.net\"\n",
    "mount_path = \"/mnt/mids-w261\"\n",
    "\n",
    "spark.conf.set(\n",
    "  f\"fs.azure.sas.{blob_container}.{storage_account}.blob.core.windows.net\",\n",
    "  dbutils.secrets.get(scope = secret_scope, key = secret_key)\n",
    ")"
   ]
  },
  {
   "cell_type": "markdown",
   "metadata": {
    "application/vnd.databricks.v1+cell": {
     "inputWidgets": {},
     "nuid": "07b0255e-e260-4bda-abf0-cde41d8173b5",
     "showTitle": false,
     "title": ""
    }
   },
   "source": [
    "### Section 2 - Load Data"
   ]
  },
  {
   "cell_type": "code",
   "execution_count": 0,
   "metadata": {
    "application/vnd.databricks.v1+cell": {
     "inputWidgets": {},
     "nuid": "f0e141a5-4137-4831-9242-92adbc5e338d",
     "showTitle": false,
     "title": ""
    }
   },
   "outputs": [
    {
     "data": {
      "text/html": [
       "<style scoped>\n",
       "  .ansiout {\n",
       "    display: block;\n",
       "    unicode-bidi: embed;\n",
       "    white-space: pre-wrap;\n",
       "    word-wrap: break-word;\n",
       "    word-break: break-all;\n",
       "    font-family: \"Source Code Pro\", \"Menlo\", monospace;;\n",
       "    font-size: 13px;\n",
       "    color: #555;\n",
       "    margin-left: 4px;\n",
       "    line-height: 19px;\n",
       "  }\n",
       "</style>\n",
       "<div class=\"ansiout\"></div>"
      ]
     },
     "metadata": {
      "application/vnd.databricks.v1+output": {
       "addedWidgets": {},
       "arguments": {},
       "data": "<div class=\"ansiout\"></div>",
       "datasetInfos": [],
       "metadata": {},
       "removedWidgets": [],
       "type": "html"
      }
     },
     "output_type": "display_data"
    }
   ],
   "source": [
    "model_data_train = spark.read.parquet(f\"{blob_url}/model_train_data_full_v2/*\")\n",
    "model_data_test = spark.read.parquet(f\"{blob_url}/model_test_data_full_v2/*\")"
   ]
  },
  {
   "cell_type": "markdown",
   "metadata": {
    "application/vnd.databricks.v1+cell": {
     "inputWidgets": {},
     "nuid": "fc838099-193d-44bd-a435-4cf2932f01bc",
     "showTitle": false,
     "title": ""
    }
   },
   "source": [
    "### Section 3 - Define helper functions"
   ]
  },
  {
   "cell_type": "code",
   "execution_count": 0,
   "metadata": {
    "application/vnd.databricks.v1+cell": {
     "inputWidgets": {},
     "nuid": "745bb5b0-8e6a-48b8-b7e4-6267932d63c2",
     "showTitle": false,
     "title": ""
    }
   },
   "outputs": [
    {
     "data": {
      "text/html": [
       "<style scoped>\n",
       "  .ansiout {\n",
       "    display: block;\n",
       "    unicode-bidi: embed;\n",
       "    white-space: pre-wrap;\n",
       "    word-wrap: break-word;\n",
       "    word-break: break-all;\n",
       "    font-family: \"Source Code Pro\", \"Menlo\", monospace;;\n",
       "    font-size: 13px;\n",
       "    color: #555;\n",
       "    margin-left: 4px;\n",
       "    line-height: 19px;\n",
       "  }\n",
       "</style>\n",
       "<div class=\"ansiout\"></div>"
      ]
     },
     "metadata": {
      "application/vnd.databricks.v1+output": {
       "addedWidgets": {},
       "arguments": {},
       "data": "<div class=\"ansiout\"></div>",
       "datasetInfos": [],
       "metadata": {},
       "removedWidgets": [],
       "type": "html"
      }
     },
     "output_type": "display_data"
    }
   ],
   "source": [
    "# Helper function 2\n",
    "\n",
    "def main():\n",
    "\n",
    "    global eval_metrics\n",
    "    global eval_predictions\n",
    "    global eval_model_times\n",
    "    eval_metrics = {}\n",
    "    eval_model_times = []\n",
    "    \n",
    "    \n",
    "f1 = 0.0\n",
    "recall = 0.0\n",
    "precision = 0.0\n",
    "sensitivity = 0.0\n",
    "specificity = 0.0\n",
    "fp = 0.0\n",
    "fn = 0.0\n",
    "model_time = 0.0\n",
    "\n",
    "metrics = (f1, recall, precision, sensitivity, specificity, fp, fn, model_time)\n",
    "eval_metrics = {'LR': metrics}\n",
    "eval_model_times = []\n",
    "\n",
    "def print_results(predictions, model_name, model_time): \n",
    "  \"\"\"\n",
    "  Helper function to print evaluation metrics\n",
    "  \"\"\"\n",
    "  tp = predictions[(predictions.departure_delay_boolean == 1) & (predictions.prediction == 1)].count()\n",
    "  tn = predictions[(predictions.departure_delay_boolean == 0) & (predictions.prediction == 0)].count()\n",
    "  fp = predictions[(predictions.departure_delay_boolean == 0) & (predictions.prediction == 1)].count()\n",
    "  fn = predictions[(predictions.departure_delay_boolean == 1) & (predictions.prediction == 0)].count()\n",
    "  total = predictions.count()\n",
    "  \n",
    "  recall = float(tp)/(tp+fn)\n",
    "  precision = float(tp)/(tp+fp)\n",
    "  f1 = (2*recall*precision)/(precision+recall)\n",
    "  \n",
    "  data = {'Actual-delay': [tp, fn], 'Actual-on time': [fp, tn]}\n",
    "  confusion_matrix = pd.DataFrame.from_dict(data, orient='index', columns=['Predicted-delay', 'Predicted-on time'])\n",
    "\n",
    "  print(\"Sensitivity: {:.2%}\".format(tp/(tp + fn)))\n",
    "  print(\"Specificity: {:.2%}\".format(tn/(tn + fp)))\n",
    "  print(\"False positive rate: {:.2%}\".format(fp/(fp + tn)))\n",
    "  print(\"False negative rate: {:.2%}\".format(fn/(tp + fn)))\n",
    "  print(\"Recall: {:.2%}\".format(recall))\n",
    "  print(\"Precision: {:.2%}\".format(precision))\n",
    "  print(\"f1: {:.2%}\".format(f1))\n",
    "  \n",
    "  metrics = (round(f1, 2), round(recall, 2), round(precision, 2), round(tp/(tp + fn), 2), \\\n",
    "             round(tn/(tn + fp), 2), round(fp/(fp + tn), 2), round(fn/(tp + fn), 2), round(model_time, 2))\n",
    "  \n",
    "  global eval_metrics\n",
    "  global eval_model_times\n",
    "  \n",
    "  eval_metrics[model_name] = metrics\n",
    "  eval_model_times.append(model_time)\n",
    "  \n",
    "  print(\"########### Confusion Matrix ###########\")\n",
    "  print(confusion_matrix)"
   ]
  },
  {
   "cell_type": "markdown",
   "metadata": {
    "application/vnd.databricks.v1+cell": {
     "inputWidgets": {},
     "nuid": "7b471c6d-8538-436c-8c59-adef85cf957c",
     "showTitle": false,
     "title": ""
    }
   },
   "source": [
    "### Section 4 - ML Section"
   ]
  },
  {
   "cell_type": "markdown",
   "metadata": {
    "application/vnd.databricks.v1+cell": {
     "inputWidgets": {},
     "nuid": "3466c0e7-b246-41f2-85d8-5a3a8a71a1f9",
     "showTitle": false,
     "title": ""
    }
   },
   "source": [
    "**GridSearch implementation**\n",
    "\n",
    "Grid search is a tuning technique that attempts to compute the optimum values of hyperparameters. GridSearch does an exhaustive search that is performed on a the specific parameter values of a model. We will be using Grid search since it can save us time, effort and resources. Experiments results saved in MLFlow were used to modify the algorithms in the Implementation Notebook [here](https://adb-6759024569771990.10.azuredatabricks.net/?o=6759024569771990#notebook/2297543790306469/command/2297543790344697)"
   ]
  },
  {
   "cell_type": "markdown",
   "metadata": {
    "application/vnd.databricks.v1+cell": {
     "inputWidgets": {},
     "nuid": "dd4a6fe5-38ee-490e-80fb-e25a3b235d98",
     "showTitle": false,
     "title": ""
    }
   },
   "source": [
    "### 4.1 Logistic Regression"
   ]
  },
  {
   "cell_type": "markdown",
   "metadata": {
    "application/vnd.databricks.v1+cell": {
     "inputWidgets": {},
     "nuid": "e010be71-f59f-4610-abae-c3d85bc4a9f5",
     "showTitle": false,
     "title": ""
    }
   },
   "source": [
    "#### 4.1.1 Logistic regression Hyperparameter tuning"
   ]
  },
  {
   "cell_type": "markdown",
   "metadata": {
    "application/vnd.databricks.v1+cell": {
     "inputWidgets": {},
     "nuid": "cd22753f-5c9d-41e4-a98f-b3d891c2e594",
     "showTitle": false,
     "title": ""
    }
   },
   "source": [
    "**Logistic Regression Hyperparameter tuning**"
   ]
  },
  {
   "cell_type": "code",
   "execution_count": 0,
   "metadata": {
    "application/vnd.databricks.v1+cell": {
     "inputWidgets": {},
     "nuid": "6a30c5b6-0012-4aa2-90db-7fcb05601481",
     "showTitle": false,
     "title": ""
    }
   },
   "outputs": [
    {
     "data": {
      "text/html": [
       "<style scoped>\n",
       "  .ansiout {\n",
       "    display: block;\n",
       "    unicode-bidi: embed;\n",
       "    white-space: pre-wrap;\n",
       "    word-wrap: break-word;\n",
       "    word-break: break-all;\n",
       "    font-family: \"Source Code Pro\", \"Menlo\", monospace;;\n",
       "    font-size: 13px;\n",
       "    color: #555;\n",
       "    margin-left: 4px;\n",
       "    line-height: 19px;\n",
       "  }\n",
       "</style>\n",
       "<div class=\"ansiout\">paramGrid_lr completed job in 0.012358427047729492 seconds.\n",
       "MLlib will automatically track trials in MLflow. After your tuning fit() call has completed, view the MLflow UI to see logged runs.\n",
       "CrossValidatorModel_abccec46d954\n",
       "cross validation completed job in 23712.33500266075 seconds.\n",
       "</div>"
      ]
     },
     "metadata": {
      "application/vnd.databricks.v1+output": {
       "addedWidgets": {},
       "arguments": {},
       "data": "<div class=\"ansiout\">paramGrid_lr completed job in 0.012358427047729492 seconds.\nMLlib will automatically track trials in MLflow. After your tuning fit() call has completed, view the MLflow UI to see logged runs.\nCrossValidatorModel_abccec46d954\ncross validation completed job in 23712.33500266075 seconds.\n</div>",
       "datasetInfos": [],
       "metadata": {},
       "removedWidgets": [],
       "type": "html"
      }
     },
     "output_type": "display_data"
    }
   ],
   "source": [
    "grid_search = True\n",
    "\n",
    "if(grid_search):\n",
    "  start_grid = time.time()\n",
    "  \n",
    "  lr = LogisticRegression(featuresCol='VectorAssembler_features',labelCol='departure_delay_boolean')\n",
    "\n",
    "  paramGrid_lr = (ParamGridBuilder()\n",
    "               .addGrid(lr.regParam, [0.1, 0.001])\n",
    "               .addGrid(lr.fitIntercept, [False, True])\n",
    "               .addGrid(lr.elasticNetParam, [0, 0.5, 1])\n",
    "               .addGrid(lr.threshold, [0.45, 0.5, 0.65])\n",
    "               .addGrid(lr.maxIter, [10, 50])\n",
    "               .build())\n",
    "  print(f'paramGrid_lr completed job in {time.time() - start_grid} seconds.')\n",
    "  paramGrid_time_lr = time.time() - start_grid\n",
    "  \n",
    "# Unweighted F1 Scored\n",
    "  lr_evaluator = MulticlassClassificationEvaluator(labelCol='departure_delay_boolean', metricName='fMeasureByLabel', metricLabel=1, beta=1)\n",
    "  \n",
    "#  Weighted F1 Score  \n",
    "#  lr_evaluator = MulticlassClassificationEvaluator(labelCol='departure_delay_boolean', metricName='f1')\n",
    "\n",
    "# Area under PR Curve\n",
    "#   lr_evaluator = BinaryClassificationEvaluator(labelCol=\"departure_delay_boolean\", metricName=\"areaUnderPR\")\n",
    "\n",
    "  start_cv = time.time()\n",
    "  lr_cv = CrossValidator(estimator = lr,\n",
    "                        estimatorParamMaps = paramGrid_lr,\n",
    "                        evaluator = lr_evaluator,\n",
    "                        numFolds = 3)\n",
    "\n",
    "  lr_model = lr_cv.fit(model_data_train)\n",
    "  print(lr_model)\n",
    "\n",
    "  print(f'cross validation completed job in {time.time() - start_cv} seconds.')\n",
    "  lr_time_cv = time.time() - start_cv"
   ]
  },
  {
   "cell_type": "markdown",
   "metadata": {
    "application/vnd.databricks.v1+cell": {
     "inputWidgets": {},
     "nuid": "6a2428d9-109d-4056-a31d-0916b6e8d4a1",
     "showTitle": false,
     "title": ""
    }
   },
   "source": [
    "#### 4.1.2 Logistic Regression Testing"
   ]
  },
  {
   "cell_type": "markdown",
   "metadata": {
    "application/vnd.databricks.v1+cell": {
     "inputWidgets": {},
     "nuid": "d54648a5-2a05-4f90-b00b-33a98e0efe8f",
     "showTitle": false,
     "title": ""
    }
   },
   "source": [
    "**Hyperparameter tuned for FMeasure - 1**"
   ]
  },
  {
   "cell_type": "code",
   "execution_count": 0,
   "metadata": {
    "application/vnd.databricks.v1+cell": {
     "inputWidgets": {},
     "nuid": "88e94f08-5720-4d55-9b96-fab57db9bfeb",
     "showTitle": false,
     "title": ""
    }
   },
   "outputs": [
    {
     "data": {
      "text/html": [
       "<style scoped>\n",
       "  .ansiout {\n",
       "    display: block;\n",
       "    unicode-bidi: embed;\n",
       "    white-space: pre-wrap;\n",
       "    word-wrap: break-word;\n",
       "    word-break: break-all;\n",
       "    font-family: \"Source Code Pro\", \"Menlo\", monospace;;\n",
       "    font-size: 13px;\n",
       "    color: #555;\n",
       "    margin-left: 4px;\n",
       "    line-height: 19px;\n",
       "  }\n",
       "</style>\n",
       "<div class=\"ansiout\">lr model completed job in 71.580885887146 seconds.\n",
       "</div>"
      ]
     },
     "metadata": {
      "application/vnd.databricks.v1+output": {
       "addedWidgets": {},
       "arguments": {},
       "data": "<div class=\"ansiout\">lr model completed job in 71.580885887146 seconds.\n</div>",
       "datasetInfos": [],
       "metadata": {},
       "removedWidgets": [],
       "type": "html"
      }
     },
     "output_type": "display_data"
    }
   ],
   "source": [
    "from pyspark.ml.classification import LogisticRegression\n",
    "# Setup pipeline\n",
    "\n",
    "start_lr = time.time()\n",
    "\n",
    "lr = LogisticRegression(featuresCol='VectorAssembler_features',\n",
    "                        labelCol='departure_delay_boolean', \n",
    "                        regParam = 0.1, \n",
    "                        fitIntercept= False, \n",
    "                        elasticNetParam=0.0, \n",
    "                        maxIter=50, \n",
    "                        threshold = 0.45)\n",
    "\n",
    "stages_lr = [lr]\n",
    "pipeline_lr = Pipeline(stages=stages_lr)\n",
    "lr_model = pipeline_lr.fit(model_data_train)\n",
    "lrPredictions = lr_model.transform(model_data_test)\n",
    "print(f'lr model completed job in {time.time() - start_lr} seconds.')\n",
    "lr_time_model = time.time() - start_lr"
   ]
  },
  {
   "cell_type": "markdown",
   "metadata": {
    "application/vnd.databricks.v1+cell": {
     "inputWidgets": {},
     "nuid": "3e815fb5-94cf-40cd-bbab-a9f24e59814c",
     "showTitle": false,
     "title": ""
    }
   },
   "source": [
    "**Logistic Regression Model Evaluation**"
   ]
  },
  {
   "cell_type": "code",
   "execution_count": 0,
   "metadata": {
    "application/vnd.databricks.v1+cell": {
     "inputWidgets": {},
     "nuid": "1c20dfb1-12de-4d59-b169-7c401ef6831d",
     "showTitle": false,
     "title": ""
    }
   },
   "outputs": [
    {
     "data": {
      "text/html": [
       "<style scoped>\n",
       "  .ansiout {\n",
       "    display: block;\n",
       "    unicode-bidi: embed;\n",
       "    white-space: pre-wrap;\n",
       "    word-wrap: break-word;\n",
       "    word-break: break-all;\n",
       "    font-family: \"Source Code Pro\", \"Menlo\", monospace;;\n",
       "    font-size: 13px;\n",
       "    color: #555;\n",
       "    margin-left: 4px;\n",
       "    line-height: 19px;\n",
       "  }\n",
       "</style>\n",
       "<div class=\"ansiout\">              precision    recall  f1-score   support\n",
       "\n",
       "         0.0       0.91      0.63      0.74   5209992\n",
       "         1.0       0.33      0.74      0.46   1292004\n",
       "\n",
       "    accuracy                           0.65   6501996\n",
       "   macro avg       0.62      0.68      0.60   6501996\n",
       "weighted avg       0.79      0.65      0.69   6501996\n",
       "\n",
       "[[3291925 1918067]\n",
       " [ 340698  951306]]\n",
       "</div>"
      ]
     },
     "metadata": {
      "application/vnd.databricks.v1+output": {
       "addedWidgets": {},
       "arguments": {},
       "data": "<div class=\"ansiout\">              precision    recall  f1-score   support\n\n         0.0       0.91      0.63      0.74   5209992\n         1.0       0.33      0.74      0.46   1292004\n\n    accuracy                           0.65   6501996\n   macro avg       0.62      0.68      0.60   6501996\nweighted avg       0.79      0.65      0.69   6501996\n\n[[3291925 1918067]\n [ 340698  951306]]\n</div>",
       "datasetInfos": [],
       "metadata": {},
       "removedWidgets": [],
       "type": "html"
      }
     },
     "output_type": "display_data"
    }
   ],
   "source": [
    "# Model Evaluation with scikit learn\n",
    "y_true_lr = lrPredictions.select(['departure_delay_boolean']).collect()\n",
    "y_pred_lr = lrPredictions.select(['prediction']).collect()\n",
    "\n",
    "# Print metrics\n",
    "from sklearn.metrics import classification_report, confusion_matrix\n",
    "print(classification_report(y_true_lr, y_pred_lr))\n",
    "print(confusion_matrix(y_true_lr, y_pred_lr))"
   ]
  },
  {
   "cell_type": "code",
   "execution_count": 0,
   "metadata": {
    "application/vnd.databricks.v1+cell": {
     "inputWidgets": {},
     "nuid": "ff561a2b-0668-427b-a403-63d486f5617a",
     "showTitle": false,
     "title": ""
    }
   },
   "outputs": [
    {
     "data": {
      "text/html": [
       "<style scoped>\n",
       "  .ansiout {\n",
       "    display: block;\n",
       "    unicode-bidi: embed;\n",
       "    white-space: pre-wrap;\n",
       "    word-wrap: break-word;\n",
       "    word-break: break-all;\n",
       "    font-family: \"Source Code Pro\", \"Menlo\", monospace;;\n",
       "    font-size: 13px;\n",
       "    color: #555;\n",
       "    margin-left: 4px;\n",
       "    line-height: 19px;\n",
       "  }\n",
       "</style>\n",
       "<div class=\"ansiout\">Sensitivity: 73.62%\n",
       "Specificity: 63.21%\n",
       "False positive rate: 36.79%\n",
       "False negative rate: 26.38%\n",
       "Recall: 73.62%\n",
       "Precision: 33.16%\n",
       "f1: 45.73%\n",
       "########### Confusion Matrix ###########\n",
       "                Predicted-delay  Predicted-on time\n",
       "Actual-delay             951116             340888\n",
       "Actual-on time          1916856            3293136\n",
       "</div>"
      ]
     },
     "metadata": {
      "application/vnd.databricks.v1+output": {
       "addedWidgets": {},
       "arguments": {},
       "data": "<div class=\"ansiout\">Sensitivity: 73.62%\nSpecificity: 63.21%\nFalse positive rate: 36.79%\nFalse negative rate: 26.38%\nRecall: 73.62%\nPrecision: 33.16%\nf1: 45.73%\n########### Confusion Matrix ###########\n                Predicted-delay  Predicted-on time\nActual-delay             951116             340888\nActual-on time          1916856            3293136\n</div>",
       "datasetInfos": [],
       "metadata": {},
       "removedWidgets": [],
       "type": "html"
      }
     },
     "output_type": "display_data"
    }
   ],
   "source": [
    "# print results with helper function\n",
    "\n",
    "print_results(lrPredictions, 'LR', lr_time_model)"
   ]
  },
  {
   "cell_type": "code",
   "execution_count": 0,
   "metadata": {
    "application/vnd.databricks.v1+cell": {
     "inputWidgets": {},
     "nuid": "5294dbb1-c92b-42c8-bbb9-88c7bd51a54d",
     "showTitle": false,
     "title": ""
    }
   },
   "outputs": [
    {
     "data": {
      "text/html": [
       "<style scoped>\n",
       "  .ansiout {\n",
       "    display: block;\n",
       "    unicode-bidi: embed;\n",
       "    white-space: pre-wrap;\n",
       "    word-wrap: break-word;\n",
       "    word-break: break-all;\n",
       "    font-family: \"Source Code Pro\", \"Menlo\", monospace;;\n",
       "    font-size: 13px;\n",
       "    color: #555;\n",
       "    margin-left: 4px;\n",
       "    line-height: 19px;\n",
       "  }\n",
       "</style>\n",
       "<div class=\"ansiout\">Out[8]: </div>"
      ]
     },
     "metadata": {
      "application/vnd.databricks.v1+output": {
       "addedWidgets": {},
       "arguments": {},
       "data": "<div class=\"ansiout\">Out[8]: </div>",
       "datasetInfos": [],
       "metadata": {},
       "removedWidgets": [],
       "type": "html"
      }
     },
     "output_type": "display_data"
    },
    {
     "data": {
      "image/png": "[encoded data removed]"
     },
     "metadata": {
      "application/vnd.databricks.v1+output": {
       "addedWidgets": {},
       "arguments": {},
       "data": "data:image/png;base64,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",
       "datasetInfos": [],
       "metadata": {
        "imageDimensions": {
         "height": 278,
         "width": 345
        }
       },
       "removedWidgets": [],
       "type": "image"
      },
      "image/png": {
       "height": 278,
       "width": 345
      }
     },
     "output_type": "display_data"
    },
    {
     "data": {
      "text/html": [
       "<style scoped>\n",
       "  .ansiout {\n",
       "    display: block;\n",
       "    unicode-bidi: embed;\n",
       "    white-space: pre-wrap;\n",
       "    word-wrap: break-word;\n",
       "    word-break: break-all;\n",
       "    font-family: \"Source Code Pro\", \"Menlo\", monospace;;\n",
       "    font-size: 13px;\n",
       "    color: #555;\n",
       "    margin-left: 4px;\n",
       "    line-height: 19px;\n",
       "  }\n",
       "</style>\n",
       "<div class=\"ansiout\">[Text(0.5, 0, &#39;Predicted labels&#39;), Text(0, 0.5, &#39;True labels&#39;)]</div>"
      ]
     },
     "metadata": {
      "application/vnd.databricks.v1+output": {
       "addedWidgets": {},
       "arguments": {},
       "data": "<div class=\"ansiout\">[Text(0.5, 0, &#39;Predicted labels&#39;), Text(0, 0.5, &#39;True labels&#39;)]</div>",
       "datasetInfos": [],
       "metadata": {},
       "removedWidgets": [],
       "type": "html"
      }
     },
     "output_type": "display_data"
    }
   ],
   "source": [
    "# Plot confusion matrix\n",
    "from sklearn.metrics import confusion_matrix, ConfusionMatrixDisplay\n",
    "cm_lr = confusion_matrix(y_true_lr, y_pred_lr)\n",
    "cm_lr_display = ConfusionMatrixDisplay(cm_lr, display_labels=['On Time', 'Delay'])\n",
    "cm_lr_display.plot(cmap='Blues', values_format='d')\n",
    "cm_lr_display.ax_.set(title='Confusion Matrix')\n",
    "cm_lr_display.ax_.set(xlabel='Predicted labels', ylabel='True labels')\n"
   ]
  },
  {
   "cell_type": "markdown",
   "metadata": {
    "application/vnd.databricks.v1+cell": {
     "inputWidgets": {},
     "nuid": "2595e314-bffd-4c0d-8122-5ba74ded2d4f",
     "showTitle": false,
     "title": ""
    }
   },
   "source": [
    "**Hypertuned for Weighted F1 Score**"
   ]
  },
  {
   "cell_type": "code",
   "execution_count": 0,
   "metadata": {
    "application/vnd.databricks.v1+cell": {
     "inputWidgets": {},
     "nuid": "de07cae1-2187-4054-9352-eaa46f7128ab",
     "showTitle": false,
     "title": ""
    }
   },
   "outputs": [
    {
     "data": {
      "text/html": [
       "<style scoped>\n",
       "  .ansiout {\n",
       "    display: block;\n",
       "    unicode-bidi: embed;\n",
       "    white-space: pre-wrap;\n",
       "    word-wrap: break-word;\n",
       "    word-break: break-all;\n",
       "    font-family: \"Source Code Pro\", \"Menlo\", monospace;;\n",
       "    font-size: 13px;\n",
       "    color: #555;\n",
       "    margin-left: 4px;\n",
       "    line-height: 19px;\n",
       "  }\n",
       "</style>\n",
       "<div class=\"ansiout\">lr model completed job in 82.88261198997498 seconds.\n",
       "</div>"
      ]
     },
     "metadata": {
      "application/vnd.databricks.v1+output": {
       "addedWidgets": {},
       "arguments": {},
       "data": "<div class=\"ansiout\">lr model completed job in 82.88261198997498 seconds.\n</div>",
       "datasetInfos": [],
       "metadata": {},
       "removedWidgets": [],
       "type": "html"
      }
     },
     "output_type": "display_data"
    }
   ],
   "source": [
    "# Setup pipeline\n",
    "\n",
    "start_lr = time.time()\n",
    "\n",
    "lr = LogisticRegression(featuresCol='VectorAssembler_features',\n",
    "                        labelCol='departure_delay_boolean', \n",
    "                        regParam = 0.001, \n",
    "                        fitIntercept= False, \n",
    "                        elasticNetParam=0.0, \n",
    "                        maxIter=50, \n",
    "                        threshold = 0.5)\n",
    "\n",
    "stages_lr = [lr]\n",
    "pipeline_lr = Pipeline(stages=stages_lr)\n",
    "lr_model = pipeline_lr.fit(model_data_train)\n",
    "lrPredictions = lr_model.transform(model_data_test)\n",
    "print(f'lr model completed job in {time.time() - start_lr} seconds.')\n",
    "lr_time_model = time.time() - start_lr"
   ]
  },
  {
   "cell_type": "code",
   "execution_count": 0,
   "metadata": {
    "application/vnd.databricks.v1+cell": {
     "inputWidgets": {},
     "nuid": "dfa13133-600b-4eff-bd33-c96eb312882e",
     "showTitle": false,
     "title": ""
    }
   },
   "outputs": [
    {
     "data": {
      "text/html": [
       "<style scoped>\n",
       "  .ansiout {\n",
       "    display: block;\n",
       "    unicode-bidi: embed;\n",
       "    white-space: pre-wrap;\n",
       "    word-wrap: break-word;\n",
       "    word-break: break-all;\n",
       "    font-family: \"Source Code Pro\", \"Menlo\", monospace;;\n",
       "    font-size: 13px;\n",
       "    color: #555;\n",
       "    margin-left: 4px;\n",
       "    line-height: 19px;\n",
       "  }\n",
       "</style>\n",
       "<div class=\"ansiout\">              precision    recall  f1-score   support\n",
       "\n",
       "         0.0       0.90      0.73      0.81   5209992\n",
       "         1.0       0.38      0.66      0.48   1292004\n",
       "\n",
       "    accuracy                           0.72   6501996\n",
       "   macro avg       0.64      0.70      0.64   6501996\n",
       "weighted avg       0.79      0.72      0.74   6501996\n",
       "\n",
       "[[3816927 1393065]\n",
       " [ 440279  851725]]\n",
       "</div>"
      ]
     },
     "metadata": {
      "application/vnd.databricks.v1+output": {
       "addedWidgets": {},
       "arguments": {},
       "data": "<div class=\"ansiout\">              precision    recall  f1-score   support\n\n         0.0       0.90      0.73      0.81   5209992\n         1.0       0.38      0.66      0.48   1292004\n\n    accuracy                           0.72   6501996\n   macro avg       0.64      0.70      0.64   6501996\nweighted avg       0.79      0.72      0.74   6501996\n\n[[3816927 1393065]\n [ 440279  851725]]\n</div>",
       "datasetInfos": [],
       "metadata": {},
       "removedWidgets": [],
       "type": "html"
      }
     },
     "output_type": "display_data"
    }
   ],
   "source": [
    "# Model Evaluation with scikit learn\n",
    "y_true_lr = lrPredictions.select(['departure_delay_boolean']).collect()\n",
    "y_pred_lr = lrPredictions.select(['prediction']).collect()\n",
    "\n",
    "# Print metrics\n",
    "from sklearn.metrics import classification_report, confusion_matrix\n",
    "print(classification_report(y_true_lr, y_pred_lr))\n",
    "print(confusion_matrix(y_true_lr, y_pred_lr))"
   ]
  },
  {
   "cell_type": "code",
   "execution_count": 0,
   "metadata": {
    "application/vnd.databricks.v1+cell": {
     "inputWidgets": {},
     "nuid": "8d24c97f-ccd7-4f81-a5a7-ecbe406a0065",
     "showTitle": false,
     "title": ""
    }
   },
   "outputs": [
    {
     "data": {
      "text/html": [
       "<style scoped>\n",
       "  .ansiout {\n",
       "    display: block;\n",
       "    unicode-bidi: embed;\n",
       "    white-space: pre-wrap;\n",
       "    word-wrap: break-word;\n",
       "    word-break: break-all;\n",
       "    font-family: \"Source Code Pro\", \"Menlo\", monospace;;\n",
       "    font-size: 13px;\n",
       "    color: #555;\n",
       "    margin-left: 4px;\n",
       "    line-height: 19px;\n",
       "  }\n",
       "</style>\n",
       "<div class=\"ansiout\">Sensitivity: 65.92%\n",
       "Specificity: 73.26%\n",
       "False positive rate: 26.74%\n",
       "False negative rate: 34.08%\n",
       "Recall: 65.92%\n",
       "Precision: 37.94%\n",
       "f1: 48.16%\n",
       "########### Confusion Matrix ###########\n",
       "                Predicted-delay  Predicted-on time\n",
       "Actual-delay             851725             440279\n",
       "Actual-on time          1393065            3816927\n",
       "</div>"
      ]
     },
     "metadata": {
      "application/vnd.databricks.v1+output": {
       "addedWidgets": {},
       "arguments": {},
       "data": "<div class=\"ansiout\">Sensitivity: 65.92%\nSpecificity: 73.26%\nFalse positive rate: 26.74%\nFalse negative rate: 34.08%\nRecall: 65.92%\nPrecision: 37.94%\nf1: 48.16%\n########### Confusion Matrix ###########\n                Predicted-delay  Predicted-on time\nActual-delay             851725             440279\nActual-on time          1393065            3816927\n</div>",
       "datasetInfos": [],
       "metadata": {},
       "removedWidgets": [],
       "type": "html"
      }
     },
     "output_type": "display_data"
    }
   ],
   "source": [
    "# print results with helper function\n",
    "\n",
    "print_results(lrPredictions, 'LR', lr_time_model)"
   ]
  },
  {
   "cell_type": "code",
   "execution_count": 0,
   "metadata": {
    "application/vnd.databricks.v1+cell": {
     "inputWidgets": {},
     "nuid": "3d94ba5a-e26c-419b-ad01-10fba419db01",
     "showTitle": false,
     "title": ""
    }
   },
   "outputs": [
    {
     "data": {
      "text/html": [
       "<style scoped>\n",
       "  .ansiout {\n",
       "    display: block;\n",
       "    unicode-bidi: embed;\n",
       "    white-space: pre-wrap;\n",
       "    word-wrap: break-word;\n",
       "    word-break: break-all;\n",
       "    font-family: \"Source Code Pro\", \"Menlo\", monospace;;\n",
       "    font-size: 13px;\n",
       "    color: #555;\n",
       "    margin-left: 4px;\n",
       "    line-height: 19px;\n",
       "  }\n",
       "</style>\n",
       "<div class=\"ansiout\">Out[12]: </div>"
      ]
     },
     "metadata": {
      "application/vnd.databricks.v1+output": {
       "addedWidgets": {},
       "arguments": {},
       "data": "<div class=\"ansiout\">Out[12]: </div>",
       "datasetInfos": [],
       "metadata": {},
       "removedWidgets": [],
       "type": "html"
      }
     },
     "output_type": "display_data"
    },
    {
     "data": {
      "image/png": "[encoded data removed]"
     },
     "metadata": {
      "application/vnd.databricks.v1+output": {
       "addedWidgets": {},
       "arguments": {},
       "data": "data:image/png;base64,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",
       "datasetInfos": [],
       "metadata": {
        "imageDimensions": {
         "height": 278,
         "width": 345
        }
       },
       "removedWidgets": [],
       "type": "image"
      },
      "image/png": {
       "height": 278,
       "width": 345
      }
     },
     "output_type": "display_data"
    },
    {
     "data": {
      "text/html": [
       "<style scoped>\n",
       "  .ansiout {\n",
       "    display: block;\n",
       "    unicode-bidi: embed;\n",
       "    white-space: pre-wrap;\n",
       "    word-wrap: break-word;\n",
       "    word-break: break-all;\n",
       "    font-family: \"Source Code Pro\", \"Menlo\", monospace;;\n",
       "    font-size: 13px;\n",
       "    color: #555;\n",
       "    margin-left: 4px;\n",
       "    line-height: 19px;\n",
       "  }\n",
       "</style>\n",
       "<div class=\"ansiout\">[Text(0.5, 0, &#39;Predicted labels&#39;), Text(0, 0.5, &#39;True labels&#39;)]</div>"
      ]
     },
     "metadata": {
      "application/vnd.databricks.v1+output": {
       "addedWidgets": {},
       "arguments": {},
       "data": "<div class=\"ansiout\">[Text(0.5, 0, &#39;Predicted labels&#39;), Text(0, 0.5, &#39;True labels&#39;)]</div>",
       "datasetInfos": [],
       "metadata": {},
       "removedWidgets": [],
       "type": "html"
      }
     },
     "output_type": "display_data"
    }
   ],
   "source": [
    "# Plot confusion matrix\n",
    "from sklearn.metrics import confusion_matrix, ConfusionMatrixDisplay\n",
    "cm_lr = confusion_matrix(y_true_lr, y_pred_lr)\n",
    "cm_lr_display = ConfusionMatrixDisplay(cm_lr, display_labels=['On Time', 'Delay'])\n",
    "cm_lr_display.plot(cmap='Blues', values_format='d')\n",
    "cm_lr_display.ax_.set(title='Confusion Matrix')\n",
    "cm_lr_display.ax_.set(xlabel='Predicted labels', ylabel='True labels')"
   ]
  },
  {
   "cell_type": "markdown",
   "metadata": {
    "application/vnd.databricks.v1+cell": {
     "inputWidgets": {},
     "nuid": "244e7a73-3195-44b7-b56b-0174f92b3417",
     "showTitle": false,
     "title": ""
    }
   },
   "source": [
    "**Hyperparameter tuned for AUC Precision-Recall**"
   ]
  },
  {
   "cell_type": "code",
   "execution_count": 0,
   "metadata": {
    "application/vnd.databricks.v1+cell": {
     "inputWidgets": {},
     "nuid": "51435bdf-49cc-4841-8fda-a39dd46773b5",
     "showTitle": false,
     "title": ""
    }
   },
   "outputs": [
    {
     "data": {
      "text/html": [
       "<style scoped>\n",
       "  .ansiout {\n",
       "    display: block;\n",
       "    unicode-bidi: embed;\n",
       "    white-space: pre-wrap;\n",
       "    word-wrap: break-word;\n",
       "    word-break: break-all;\n",
       "    font-family: \"Source Code Pro\", \"Menlo\", monospace;;\n",
       "    font-size: 13px;\n",
       "    color: #555;\n",
       "    margin-left: 4px;\n",
       "    line-height: 19px;\n",
       "  }\n",
       "</style>\n",
       "<div class=\"ansiout\">lr model completed job in 85.56252241134644 seconds.\n",
       "</div>"
      ]
     },
     "metadata": {
      "application/vnd.databricks.v1+output": {
       "addedWidgets": {},
       "arguments": {},
       "data": "<div class=\"ansiout\">lr model completed job in 85.56252241134644 seconds.\n</div>",
       "datasetInfos": [],
       "metadata": {},
       "removedWidgets": [],
       "type": "html"
      }
     },
     "output_type": "display_data"
    }
   ],
   "source": [
    "from pyspark.ml.classification import LogisticRegression\n",
    "# Setup pipeline\n",
    "\n",
    "start_lr = time.time()\n",
    "\n",
    "lr = LogisticRegression(featuresCol='VectorAssembler_features',\n",
    "                        labelCol='departure_delay_boolean', \n",
    "                        regParam = 0.001, \n",
    "                        fitIntercept= False, \n",
    "                        elasticNetParam=0.0, \n",
    "                        maxIter=50, \n",
    "                        threshold = 0.45)\n",
    "\n",
    "stages_lr = [lr]\n",
    "pipeline_lr = Pipeline(stages=stages_lr)\n",
    "lr_model = pipeline_lr.fit(model_data_train)\n",
    "lrPredictions = lr_model.transform(model_data_test)\n",
    "print(f'lr model completed job in {time.time() - start_lr} seconds.')\n",
    "lr_time_model = time.time() - start_lr"
   ]
  },
  {
   "cell_type": "code",
   "execution_count": 0,
   "metadata": {
    "application/vnd.databricks.v1+cell": {
     "inputWidgets": {},
     "nuid": "604628ee-6888-4e25-beb6-a04723e9e4b8",
     "showTitle": false,
     "title": ""
    }
   },
   "outputs": [
    {
     "data": {
      "text/html": [
       "<style scoped>\n",
       "  .ansiout {\n",
       "    display: block;\n",
       "    unicode-bidi: embed;\n",
       "    white-space: pre-wrap;\n",
       "    word-wrap: break-word;\n",
       "    word-break: break-all;\n",
       "    font-family: \"Source Code Pro\", \"Menlo\", monospace;;\n",
       "    font-size: 13px;\n",
       "    color: #555;\n",
       "    margin-left: 4px;\n",
       "    line-height: 19px;\n",
       "  }\n",
       "</style>\n",
       "<div class=\"ansiout\">              precision    recall  f1-score   support\n",
       "\n",
       "         0.0       0.91      0.64      0.75   5209992\n",
       "         1.0       0.34      0.73      0.46   1292004\n",
       "\n",
       "    accuracy                           0.66   6501996\n",
       "   macro avg       0.62      0.69      0.61   6501996\n",
       "weighted avg       0.79      0.66      0.70   6501996\n",
       "\n",
       "[[3358040 1851952]\n",
       " [ 347217  944787]]\n",
       "</div>"
      ]
     },
     "metadata": {
      "application/vnd.databricks.v1+output": {
       "addedWidgets": {},
       "arguments": {},
       "data": "<div class=\"ansiout\">              precision    recall  f1-score   support\n\n         0.0       0.91      0.64      0.75   5209992\n         1.0       0.34      0.73      0.46   1292004\n\n    accuracy                           0.66   6501996\n   macro avg       0.62      0.69      0.61   6501996\nweighted avg       0.79      0.66      0.70   6501996\n\n[[3358040 1851952]\n [ 347217  944787]]\n</div>",
       "datasetInfos": [],
       "metadata": {},
       "removedWidgets": [],
       "type": "html"
      }
     },
     "output_type": "display_data"
    }
   ],
   "source": [
    "# Model Evaluation with scikit learn\n",
    "y_true_lr = lrPredictions.select(['departure_delay_boolean']).collect()\n",
    "y_pred_lr = lrPredictions.select(['prediction']).collect()\n",
    "\n",
    "# Print metrics\n",
    "from sklearn.metrics import classification_report, confusion_matrix\n",
    "print(classification_report(y_true_lr, y_pred_lr))\n",
    "print(confusion_matrix(y_true_lr, y_pred_lr))"
   ]
  },
  {
   "cell_type": "code",
   "execution_count": 0,
   "metadata": {
    "application/vnd.databricks.v1+cell": {
     "inputWidgets": {},
     "nuid": "1ce70fad-6618-4895-9ee5-92e74b2f8cbb",
     "showTitle": false,
     "title": ""
    }
   },
   "outputs": [
    {
     "data": {
      "text/html": [
       "<style scoped>\n",
       "  .ansiout {\n",
       "    display: block;\n",
       "    unicode-bidi: embed;\n",
       "    white-space: pre-wrap;\n",
       "    word-wrap: break-word;\n",
       "    word-break: break-all;\n",
       "    font-family: \"Source Code Pro\", \"Menlo\", monospace;;\n",
       "    font-size: 13px;\n",
       "    color: #555;\n",
       "    margin-left: 4px;\n",
       "    line-height: 19px;\n",
       "  }\n",
       "</style>\n",
       "<div class=\"ansiout\">Sensitivity: 73.13%\n",
       "Specificity: 64.45%\n",
       "False positive rate: 35.55%\n",
       "False negative rate: 26.87%\n",
       "Recall: 73.13%\n",
       "Precision: 33.78%\n",
       "f1: 46.21%\n",
       "########### Confusion Matrix ###########\n",
       "                Predicted-delay  Predicted-on time\n",
       "Actual-delay             944787             347217\n",
       "Actual-on time          1851952            3358040\n",
       "</div>"
      ]
     },
     "metadata": {
      "application/vnd.databricks.v1+output": {
       "addedWidgets": {},
       "arguments": {},
       "data": "<div class=\"ansiout\">Sensitivity: 73.13%\nSpecificity: 64.45%\nFalse positive rate: 35.55%\nFalse negative rate: 26.87%\nRecall: 73.13%\nPrecision: 33.78%\nf1: 46.21%\n########### Confusion Matrix ###########\n                Predicted-delay  Predicted-on time\nActual-delay             944787             347217\nActual-on time          1851952            3358040\n</div>",
       "datasetInfos": [],
       "metadata": {},
       "removedWidgets": [],
       "type": "html"
      }
     },
     "output_type": "display_data"
    }
   ],
   "source": [
    "# print results with helper function\n",
    "\n",
    "print_results(lrPredictions, 'LR', lr_time_model)"
   ]
  },
  {
   "cell_type": "code",
   "execution_count": 0,
   "metadata": {
    "application/vnd.databricks.v1+cell": {
     "inputWidgets": {},
     "nuid": "4e1df081-e54a-489d-a0d8-e5a8041a4849",
     "showTitle": false,
     "title": ""
    }
   },
   "outputs": [
    {
     "data": {
      "text/html": [
       "<style scoped>\n",
       "  .ansiout {\n",
       "    display: block;\n",
       "    unicode-bidi: embed;\n",
       "    white-space: pre-wrap;\n",
       "    word-wrap: break-word;\n",
       "    word-break: break-all;\n",
       "    font-family: \"Source Code Pro\", \"Menlo\", monospace;;\n",
       "    font-size: 13px;\n",
       "    color: #555;\n",
       "    margin-left: 4px;\n",
       "    line-height: 19px;\n",
       "  }\n",
       "</style>\n",
       "<div class=\"ansiout\">Out[16]: </div>"
      ]
     },
     "metadata": {
      "application/vnd.databricks.v1+output": {
       "addedWidgets": {},
       "arguments": {},
       "data": "<div class=\"ansiout\">Out[16]: </div>",
       "datasetInfos": [],
       "metadata": {},
       "removedWidgets": [],
       "type": "html"
      }
     },
     "output_type": "display_data"
    },
    {
     "data": {
      "image/png": "[encoded data removed]"
     },
     "metadata": {
      "application/vnd.databricks.v1+output": {
       "addedWidgets": {},
       "arguments": {},
       "data": "data:image/png;base64,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",
       "datasetInfos": [],
       "metadata": {
        "imageDimensions": {
         "height": 278,
         "width": 345
        }
       },
       "removedWidgets": [],
       "type": "image"
      },
      "image/png": {
       "height": 278,
       "width": 345
      }
     },
     "output_type": "display_data"
    },
    {
     "data": {
      "text/html": [
       "<style scoped>\n",
       "  .ansiout {\n",
       "    display: block;\n",
       "    unicode-bidi: embed;\n",
       "    white-space: pre-wrap;\n",
       "    word-wrap: break-word;\n",
       "    word-break: break-all;\n",
       "    font-family: \"Source Code Pro\", \"Menlo\", monospace;;\n",
       "    font-size: 13px;\n",
       "    color: #555;\n",
       "    margin-left: 4px;\n",
       "    line-height: 19px;\n",
       "  }\n",
       "</style>\n",
       "<div class=\"ansiout\">[Text(0.5, 0, &#39;Predicted labels&#39;), Text(0, 0.5, &#39;True labels&#39;)]</div>"
      ]
     },
     "metadata": {
      "application/vnd.databricks.v1+output": {
       "addedWidgets": {},
       "arguments": {},
       "data": "<div class=\"ansiout\">[Text(0.5, 0, &#39;Predicted labels&#39;), Text(0, 0.5, &#39;True labels&#39;)]</div>",
       "datasetInfos": [],
       "metadata": {},
       "removedWidgets": [],
       "type": "html"
      }
     },
     "output_type": "display_data"
    }
   ],
   "source": [
    "# Plot confusion matrix\n",
    "from sklearn.metrics import confusion_matrix, ConfusionMatrixDisplay\n",
    "cm_lr = confusion_matrix(y_true_lr, y_pred_lr)\n",
    "cm_lr_display = ConfusionMatrixDisplay(cm_lr, display_labels=['On Time', 'Delay'])\n",
    "cm_lr_display.plot(cmap='Blues', values_format='d')\n",
    "cm_lr_display.ax_.set(title='Confusion Matrix')\n",
    "cm_lr_display.ax_.set(xlabel='Predicted labels', ylabel='True labels')"
   ]
  },
  {
   "cell_type": "markdown",
   "metadata": {
    "application/vnd.databricks.v1+cell": {
     "inputWidgets": {},
     "nuid": "c4f56ee7-38b6-40c9-905b-e825a114ed26",
     "showTitle": false,
     "title": ""
    }
   },
   "source": [
    "#### 4.2 Gradient Boosted Trees"
   ]
  },
  {
   "cell_type": "markdown",
   "metadata": {
    "application/vnd.databricks.v1+cell": {
     "inputWidgets": {},
     "nuid": "a9de37c6-25f5-4605-b122-0c1ff13921dc",
     "showTitle": false,
     "title": ""
    }
   },
   "source": [
    "**GBT Parameter Hypertuning**"
   ]
  },
  {
   "cell_type": "code",
   "execution_count": 0,
   "metadata": {
    "application/vnd.databricks.v1+cell": {
     "inputWidgets": {},
     "nuid": "fb8c281c-f14d-4ed3-84ac-40e83969d5f9",
     "showTitle": false,
     "title": ""
    }
   },
   "outputs": [
    {
     "data": {
      "text/html": [
       "<style scoped>\n",
       "  .ansiout {\n",
       "    display: block;\n",
       "    unicode-bidi: embed;\n",
       "    white-space: pre-wrap;\n",
       "    word-wrap: break-word;\n",
       "    word-break: break-all;\n",
       "    font-family: \"Source Code Pro\", \"Menlo\", monospace;;\n",
       "    font-size: 13px;\n",
       "    color: #555;\n",
       "    margin-left: 4px;\n",
       "    line-height: 19px;\n",
       "  }\n",
       "</style>\n",
       "<div class=\"ansiout\"></div>"
      ]
     },
     "metadata": {
      "application/vnd.databricks.v1+output": {
       "addedWidgets": {},
       "arguments": {},
       "data": "<div class=\"ansiout\"></div>",
       "datasetInfos": [],
       "metadata": {},
       "removedWidgets": [],
       "type": "html"
      }
     },
     "output_type": "display_data"
    }
   ],
   "source": [
    "# Cross Validation\n",
    "\n",
    "gb = GBTClassifier(labelCol=\"departure_delay_boolean\", featuresCol=\"VectorAssembler_features\")\n",
    "gbparamGrid = (ParamGridBuilder()\n",
    "             .addGrid(gb.maxDepth, [2, 5])\n",
    "             .addGrid(gb.maxBins, [10, 20])\n",
    "             .addGrid(gb.maxIter, [10, 15])              \n",
    "             .build())\n",
    "               "
   ]
  },
  {
   "cell_type": "code",
   "execution_count": 0,
   "metadata": {
    "application/vnd.databricks.v1+cell": {
     "inputWidgets": {},
     "nuid": "78fdbb1a-11ce-46c3-9d37-5e77e3c62de0",
     "showTitle": false,
     "title": ""
    }
   },
   "outputs": [
    {
     "data": {
      "text/html": [
       "<style scoped>\n",
       "  .ansiout {\n",
       "    display: block;\n",
       "    unicode-bidi: embed;\n",
       "    white-space: pre-wrap;\n",
       "    word-wrap: break-word;\n",
       "    word-break: break-all;\n",
       "    font-family: \"Source Code Pro\", \"Menlo\", monospace;;\n",
       "    font-size: 13px;\n",
       "    color: #555;\n",
       "    margin-left: 4px;\n",
       "    line-height: 19px;\n",
       "  }\n",
       "</style>\n",
       "<div class=\"ansiout\"></div>"
      ]
     },
     "metadata": {
      "application/vnd.databricks.v1+output": {
       "addedWidgets": {},
       "arguments": {},
       "data": "<div class=\"ansiout\"></div>",
       "datasetInfos": [],
       "metadata": {},
       "removedWidgets": [],
       "type": "html"
      }
     },
     "output_type": "display_data"
    }
   ],
   "source": [
    "# Create 3-fold CrossValidator\n",
    "gbevaluator = MulticlassClassificationEvaluator(labelCol='departure_delay_boolean', metricName='f1')\n",
    "gbcv = CrossValidator(estimator = gb,\n",
    "                      estimatorParamMaps = gbparamGrid,\n",
    "                      evaluator = gbevaluator,\n",
    "                      numFolds = 3)"
   ]
  },
  {
   "cell_type": "code",
   "execution_count": 0,
   "metadata": {
    "application/vnd.databricks.v1+cell": {
     "inputWidgets": {},
     "nuid": "59aba6db-5057-4f11-83ea-66bc0036ebdd",
     "showTitle": false,
     "title": ""
    }
   },
   "outputs": [
    {
     "data": {
      "text/html": [
       "<style scoped>\n",
       "  .ansiout {\n",
       "    display: block;\n",
       "    unicode-bidi: embed;\n",
       "    white-space: pre-wrap;\n",
       "    word-wrap: break-word;\n",
       "    word-break: break-all;\n",
       "    font-family: \"Source Code Pro\", \"Menlo\", monospace;;\n",
       "    font-size: 13px;\n",
       "    color: #555;\n",
       "    margin-left: 4px;\n",
       "    line-height: 19px;\n",
       "  }\n",
       "</style>\n",
       "<div class=\"ansiout\">MLlib will automatically track trials in MLflow. After your tuning fit() call has completed, view the MLflow UI to see logged runs.\n",
       "/databricks/spark/python/pyspark/ml/util.py:86: UserWarning: CrossValidator_475da2491772 fit call failed but some spark jobs may still running for unfinished trials. To address this issue, you should enable pyspark pinned thread mode.\n",
       "  warnings.warn(&#34;{} fit call failed but some spark jobs &#34;\n",
       "</div>"
      ]
     },
     "metadata": {
      "application/vnd.databricks.v1+output": {
       "addedWidgets": {},
       "arguments": {},
       "data": "<div class=\"ansiout\">MLlib will automatically track trials in MLflow. After your tuning fit() call has completed, view the MLflow UI to see logged runs.\n/databricks/spark/python/pyspark/ml/util.py:86: UserWarning: CrossValidator_475da2491772 fit call failed but some spark jobs may still running for unfinished trials. To address this issue, you should enable pyspark pinned thread mode.\n  warnings.warn(&#34;{} fit call failed but some spark jobs &#34;\n</div>",
       "datasetInfos": [],
       "metadata": {},
       "removedWidgets": [],
       "type": "html"
      }
     },
     "output_type": "display_data"
    },
    {
     "data": {
      "text/html": [
       "<style scoped>\n",
       "  .ansiout {\n",
       "    display: block;\n",
       "    unicode-bidi: embed;\n",
       "    white-space: pre-wrap;\n",
       "    word-wrap: break-word;\n",
       "    word-break: break-all;\n",
       "    font-family: \"Source Code Pro\", \"Menlo\", monospace;;\n",
       "    font-size: 13px;\n",
       "    color: #555;\n",
       "    margin-left: 4px;\n",
       "    line-height: 19px;\n",
       "  }\n",
       "</style>\n",
       "<div class=\"ansiout\"><span class=\"ansi-red-fg\">---------------------------------------------------------------------------</span>\n",
       "<span class=\"ansi-red-fg\">IllegalArgumentException</span>                  Traceback (most recent call last)\n",
       "<span class=\"ansi-green-fg\">&lt;command-2297543790306958&gt;</span> in <span class=\"ansi-cyan-fg\">&lt;module&gt;</span>\n",
       "<span class=\"ansi-green-intense-fg ansi-bold\">      1</span> <span class=\"ansi-red-fg\"># GBT Parameter Hypertuning - only to be run for parameter hypertuning</span>\n",
       "<span class=\"ansi-green-intense-fg ansi-bold\">      2</span> \n",
       "<span class=\"ansi-green-fg\">----&gt; 3</span><span class=\"ansi-red-fg\"> </span>gbcvModel <span class=\"ansi-blue-fg\">=</span> gbcv<span class=\"ansi-blue-fg\">.</span>fit<span class=\"ansi-blue-fg\">(</span>model_data_train<span class=\"ansi-blue-fg\">)</span>\n",
       "<span class=\"ansi-green-intense-fg ansi-bold\">      4</span> print<span class=\"ansi-blue-fg\">(</span>gbcvModel<span class=\"ansi-blue-fg\">)</span>\n",
       "\n",
       "<span class=\"ansi-green-fg\">/databricks/python_shell/dbruntime/MLWorkloadsInstrumentation/_pyspark.py</span> in <span class=\"ansi-cyan-fg\">patched_method</span><span class=\"ansi-blue-fg\">(self, *args, **kwargs)</span>\n",
       "<span class=\"ansi-green-intense-fg ansi-bold\">     28</span>             call_succeeded <span class=\"ansi-blue-fg\">=</span> <span class=\"ansi-green-fg\">False</span>\n",
       "<span class=\"ansi-green-intense-fg ansi-bold\">     29</span>             <span class=\"ansi-green-fg\">try</span><span class=\"ansi-blue-fg\">:</span>\n",
       "<span class=\"ansi-green-fg\">---&gt; 30</span><span class=\"ansi-red-fg\">                 </span>result <span class=\"ansi-blue-fg\">=</span> original_method<span class=\"ansi-blue-fg\">(</span>self<span class=\"ansi-blue-fg\">,</span> <span class=\"ansi-blue-fg\">*</span>args<span class=\"ansi-blue-fg\">,</span> <span class=\"ansi-blue-fg\">**</span>kwargs<span class=\"ansi-blue-fg\">)</span>\n",
       "<span class=\"ansi-green-intense-fg ansi-bold\">     31</span>                 call_succeeded <span class=\"ansi-blue-fg\">=</span> <span class=\"ansi-green-fg\">True</span>\n",
       "<span class=\"ansi-green-intense-fg ansi-bold\">     32</span>                 <span class=\"ansi-green-fg\">return</span> result\n",
       "\n",
       "<span class=\"ansi-green-fg\">/databricks/spark/python/pyspark/ml/base.py</span> in <span class=\"ansi-cyan-fg\">fit</span><span class=\"ansi-blue-fg\">(self, dataset, params)</span>\n",
       "<span class=\"ansi-green-intense-fg ansi-bold\">    159</span>                 <span class=\"ansi-green-fg\">return</span> self<span class=\"ansi-blue-fg\">.</span>copy<span class=\"ansi-blue-fg\">(</span>params<span class=\"ansi-blue-fg\">)</span><span class=\"ansi-blue-fg\">.</span>_fit<span class=\"ansi-blue-fg\">(</span>dataset<span class=\"ansi-blue-fg\">)</span>\n",
       "<span class=\"ansi-green-intense-fg ansi-bold\">    160</span>             <span class=\"ansi-green-fg\">else</span><span class=\"ansi-blue-fg\">:</span>\n",
       "<span class=\"ansi-green-fg\">--&gt; 161</span><span class=\"ansi-red-fg\">                 </span><span class=\"ansi-green-fg\">return</span> self<span class=\"ansi-blue-fg\">.</span>_fit<span class=\"ansi-blue-fg\">(</span>dataset<span class=\"ansi-blue-fg\">)</span>\n",
       "<span class=\"ansi-green-intense-fg ansi-bold\">    162</span>         <span class=\"ansi-green-fg\">else</span><span class=\"ansi-blue-fg\">:</span>\n",
       "<span class=\"ansi-green-intense-fg ansi-bold\">    163</span>             raise ValueError(&#34;Params must be either a param map or a list/tuple of param maps, &#34;\n",
       "\n",
       "<span class=\"ansi-green-fg\">/databricks/spark/python/pyspark/ml/tuning.py</span> in <span class=\"ansi-cyan-fg\">_fit</span><span class=\"ansi-blue-fg\">(self, dataset)</span>\n",
       "<span class=\"ansi-green-intense-fg ansi-bold\">    709</span>                         subModels<span class=\"ansi-blue-fg\">[</span>i<span class=\"ansi-blue-fg\">]</span><span class=\"ansi-blue-fg\">[</span>j<span class=\"ansi-blue-fg\">]</span> <span class=\"ansi-blue-fg\">=</span> subModel\n",
       "<span class=\"ansi-green-intense-fg ansi-bold\">    710</span> \n",
       "<span class=\"ansi-green-fg\">--&gt; 711</span><span class=\"ansi-red-fg\">             </span>_cancel_on_failure<span class=\"ansi-blue-fg\">(</span>dataset<span class=\"ansi-blue-fg\">.</span>_sc<span class=\"ansi-blue-fg\">,</span> self<span class=\"ansi-blue-fg\">.</span>uid<span class=\"ansi-blue-fg\">,</span> sub_task_failed<span class=\"ansi-blue-fg\">,</span> calculate_metrics<span class=\"ansi-blue-fg\">)</span>\n",
       "<span class=\"ansi-green-intense-fg ansi-bold\">    712</span>             validation<span class=\"ansi-blue-fg\">.</span>unpersist<span class=\"ansi-blue-fg\">(</span><span class=\"ansi-blue-fg\">)</span>\n",
       "<span class=\"ansi-green-intense-fg ansi-bold\">    713</span>             train<span class=\"ansi-blue-fg\">.</span>unpersist<span class=\"ansi-blue-fg\">(</span><span class=\"ansi-blue-fg\">)</span>\n",
       "\n",
       "<span class=\"ansi-green-fg\">/databricks/spark/python/pyspark/ml/util.py</span> in <span class=\"ansi-cyan-fg\">_cancel_on_failure</span><span class=\"ansi-blue-fg\">(sc, uid, sub_task_failed, f)</span>\n",
       "<span class=\"ansi-green-intense-fg ansi-bold\">     88</span>                           <span class=\"ansi-blue-fg\">&#34;issue, you should enable pyspark pinned thread mode.&#34;</span>\n",
       "<span class=\"ansi-green-intense-fg ansi-bold\">     89</span>                           .format(uid))\n",
       "<span class=\"ansi-green-fg\">---&gt; 90</span><span class=\"ansi-red-fg\">             </span><span class=\"ansi-green-fg\">raise</span> e\n",
       "<span class=\"ansi-green-intense-fg ansi-bold\">     91</span> \n",
       "<span class=\"ansi-green-intense-fg ansi-bold\">     92</span>     old_job_group <span class=\"ansi-blue-fg\">=</span> sc<span class=\"ansi-blue-fg\">.</span>getLocalProperty<span class=\"ansi-blue-fg\">(</span><span class=\"ansi-blue-fg\">&#34;spark.jobGroup.id&#34;</span><span class=\"ansi-blue-fg\">)</span>\n",
       "\n",
       "<span class=\"ansi-green-fg\">/databricks/spark/python/pyspark/ml/util.py</span> in <span class=\"ansi-cyan-fg\">_cancel_on_failure</span><span class=\"ansi-blue-fg\">(sc, uid, sub_task_failed, f)</span>\n",
       "<span class=\"ansi-green-intense-fg ansi-bold\">     82</span>     <span class=\"ansi-green-fg\">if</span> os<span class=\"ansi-blue-fg\">.</span>environ<span class=\"ansi-blue-fg\">.</span>get<span class=\"ansi-blue-fg\">(</span><span class=\"ansi-blue-fg\">&#34;PYSPARK_PIN_THREAD&#34;</span><span class=\"ansi-blue-fg\">,</span> <span class=\"ansi-blue-fg\">&#34;false&#34;</span><span class=\"ansi-blue-fg\">)</span><span class=\"ansi-blue-fg\">.</span>lower<span class=\"ansi-blue-fg\">(</span><span class=\"ansi-blue-fg\">)</span> <span class=\"ansi-blue-fg\">!=</span> <span class=\"ansi-blue-fg\">&#34;true&#34;</span><span class=\"ansi-blue-fg\">:</span>\n",
       "<span class=\"ansi-green-intense-fg ansi-bold\">     83</span>         <span class=\"ansi-green-fg\">try</span><span class=\"ansi-blue-fg\">:</span>\n",
       "<span class=\"ansi-green-fg\">---&gt; 84</span><span class=\"ansi-red-fg\">             </span><span class=\"ansi-green-fg\">return</span> f<span class=\"ansi-blue-fg\">(</span><span class=\"ansi-blue-fg\">)</span>\n",
       "<span class=\"ansi-green-intense-fg ansi-bold\">     85</span>         <span class=\"ansi-green-fg\">except</span> Exception <span class=\"ansi-green-fg\">as</span> e<span class=\"ansi-blue-fg\">:</span>\n",
       "<span class=\"ansi-green-intense-fg ansi-bold\">     86</span>             warnings.warn(&#34;{} fit call failed but some spark jobs &#34;\n",
       "\n",
       "<span class=\"ansi-green-fg\">/databricks/spark/python/pyspark/ml/tuning.py</span> in <span class=\"ansi-cyan-fg\">calculate_metrics</span><span class=\"ansi-blue-fg\">()</span>\n",
       "<span class=\"ansi-green-intense-fg ansi-bold\">    703</span>                     <span class=\"ansi-green-fg\">return</span> task<span class=\"ansi-blue-fg\">(</span><span class=\"ansi-blue-fg\">)</span>\n",
       "<span class=\"ansi-green-intense-fg ansi-bold\">    704</span> \n",
       "<span class=\"ansi-green-fg\">--&gt; 705</span><span class=\"ansi-red-fg\">                 </span><span class=\"ansi-green-fg\">for</span> j<span class=\"ansi-blue-fg\">,</span> metric<span class=\"ansi-blue-fg\">,</span> subModel <span class=\"ansi-green-fg\">in</span> pool<span class=\"ansi-blue-fg\">.</span>imap_unordered<span class=\"ansi-blue-fg\">(</span>run_task<span class=\"ansi-blue-fg\">,</span> tasks<span class=\"ansi-blue-fg\">)</span><span class=\"ansi-blue-fg\">:</span>\n",
       "<span class=\"ansi-green-intense-fg ansi-bold\">    706</span>                     metrics<span class=\"ansi-blue-fg\">[</span>j<span class=\"ansi-blue-fg\">]</span> <span class=\"ansi-blue-fg\">+=</span> <span class=\"ansi-blue-fg\">(</span>metric <span class=\"ansi-blue-fg\">/</span> nFolds<span class=\"ansi-blue-fg\">)</span>\n",
       "<span class=\"ansi-green-intense-fg ansi-bold\">    707</span>                     metrics_all<span class=\"ansi-blue-fg\">[</span>i<span class=\"ansi-blue-fg\">]</span><span class=\"ansi-blue-fg\">[</span>j<span class=\"ansi-blue-fg\">]</span> <span class=\"ansi-blue-fg\">=</span> metric\n",
       "\n",
       "<span class=\"ansi-green-fg\">/usr/lib/python3.8/multiprocessing/pool.py</span> in <span class=\"ansi-cyan-fg\">next</span><span class=\"ansi-blue-fg\">(self, timeout)</span>\n",
       "<span class=\"ansi-green-intense-fg ansi-bold\">    866</span>         <span class=\"ansi-green-fg\">if</span> success<span class=\"ansi-blue-fg\">:</span>\n",
       "<span class=\"ansi-green-intense-fg ansi-bold\">    867</span>             <span class=\"ansi-green-fg\">return</span> value\n",
       "<span class=\"ansi-green-fg\">--&gt; 868</span><span class=\"ansi-red-fg\">         </span><span class=\"ansi-green-fg\">raise</span> value\n",
       "<span class=\"ansi-green-intense-fg ansi-bold\">    869</span> \n",
       "<span class=\"ansi-green-intense-fg ansi-bold\">    870</span>     __next__ <span class=\"ansi-blue-fg\">=</span> next                    <span class=\"ansi-red-fg\"># XXX</span>\n",
       "\n",
       "<span class=\"ansi-green-fg\">/usr/lib/python3.8/multiprocessing/pool.py</span> in <span class=\"ansi-cyan-fg\">worker</span><span class=\"ansi-blue-fg\">(inqueue, outqueue, initializer, initargs, maxtasks, wrap_exception)</span>\n",
       "<span class=\"ansi-green-intense-fg ansi-bold\">    123</span>         job<span class=\"ansi-blue-fg\">,</span> i<span class=\"ansi-blue-fg\">,</span> func<span class=\"ansi-blue-fg\">,</span> args<span class=\"ansi-blue-fg\">,</span> kwds <span class=\"ansi-blue-fg\">=</span> task\n",
       "<span class=\"ansi-green-intense-fg ansi-bold\">    124</span>         <span class=\"ansi-green-fg\">try</span><span class=\"ansi-blue-fg\">:</span>\n",
       "<span class=\"ansi-green-fg\">--&gt; 125</span><span class=\"ansi-red-fg\">             </span>result <span class=\"ansi-blue-fg\">=</span> <span class=\"ansi-blue-fg\">(</span><span class=\"ansi-green-fg\">True</span><span class=\"ansi-blue-fg\">,</span> func<span class=\"ansi-blue-fg\">(</span><span class=\"ansi-blue-fg\">*</span>args<span class=\"ansi-blue-fg\">,</span> <span class=\"ansi-blue-fg\">**</span>kwds<span class=\"ansi-blue-fg\">)</span><span class=\"ansi-blue-fg\">)</span>\n",
       "<span class=\"ansi-green-intense-fg ansi-bold\">    126</span>         <span class=\"ansi-green-fg\">except</span> Exception <span class=\"ansi-green-fg\">as</span> e<span class=\"ansi-blue-fg\">:</span>\n",
       "<span class=\"ansi-green-intense-fg ansi-bold\">    127</span>             <span class=\"ansi-green-fg\">if</span> wrap_exception <span class=\"ansi-green-fg\">and</span> func <span class=\"ansi-green-fg\">is</span> <span class=\"ansi-green-fg\">not</span> _helper_reraises_exception<span class=\"ansi-blue-fg\">:</span>\n",
       "\n",
       "<span class=\"ansi-green-fg\">/databricks/spark/python/pyspark/ml/tuning.py</span> in <span class=\"ansi-cyan-fg\">run_task</span><span class=\"ansi-blue-fg\">(task)</span>\n",
       "<span class=\"ansi-green-intense-fg ansi-bold\">    701</span>                     <span class=\"ansi-green-fg\">if</span> sub_task_failed<span class=\"ansi-blue-fg\">[</span><span class=\"ansi-cyan-fg\">0</span><span class=\"ansi-blue-fg\">]</span><span class=\"ansi-blue-fg\">:</span>\n",
       "<span class=\"ansi-green-intense-fg ansi-bold\">    702</span>                         <span class=\"ansi-green-fg\">raise</span> RuntimeError<span class=\"ansi-blue-fg\">(</span><span class=\"ansi-blue-fg\">&#34;Terminate this task because one of other task failed.&#34;</span><span class=\"ansi-blue-fg\">)</span>\n",
       "<span class=\"ansi-green-fg\">--&gt; 703</span><span class=\"ansi-red-fg\">                     </span><span class=\"ansi-green-fg\">return</span> task<span class=\"ansi-blue-fg\">(</span><span class=\"ansi-blue-fg\">)</span>\n",
       "<span class=\"ansi-green-intense-fg ansi-bold\">    704</span> \n",
       "<span class=\"ansi-green-intense-fg ansi-bold\">    705</span>                 <span class=\"ansi-green-fg\">for</span> j<span class=\"ansi-blue-fg\">,</span> metric<span class=\"ansi-blue-fg\">,</span> subModel <span class=\"ansi-green-fg\">in</span> pool<span class=\"ansi-blue-fg\">.</span>imap_unordered<span class=\"ansi-blue-fg\">(</span>run_task<span class=\"ansi-blue-fg\">,</span> tasks<span class=\"ansi-blue-fg\">)</span><span class=\"ansi-blue-fg\">:</span>\n",
       "\n",
       "<span class=\"ansi-green-fg\">/databricks/spark/python/pyspark/ml/tuning.py</span> in <span class=\"ansi-cyan-fg\">singleTask</span><span class=\"ansi-blue-fg\">()</span>\n",
       "<span class=\"ansi-green-intense-fg ansi-bold\">     68</span> \n",
       "<span class=\"ansi-green-intense-fg ansi-bold\">     69</span>     <span class=\"ansi-green-fg\">def</span> singleTask<span class=\"ansi-blue-fg\">(</span><span class=\"ansi-blue-fg\">)</span><span class=\"ansi-blue-fg\">:</span>\n",
       "<span class=\"ansi-green-fg\">---&gt; 70</span><span class=\"ansi-red-fg\">         </span>index<span class=\"ansi-blue-fg\">,</span> model <span class=\"ansi-blue-fg\">=</span> next<span class=\"ansi-blue-fg\">(</span>modelIter<span class=\"ansi-blue-fg\">)</span>\n",
       "<span class=\"ansi-green-intense-fg ansi-bold\">     71</span>         <span class=\"ansi-red-fg\"># TODO: duplicate evaluator to take extra params from input</span>\n",
       "<span class=\"ansi-green-intense-fg ansi-bold\">     72</span>         <span class=\"ansi-red-fg\">#  Note: Supporting tuning params in evaluator need update method</span>\n",
       "\n",
       "<span class=\"ansi-green-fg\">/databricks/spark/python/pyspark/ml/base.py</span> in <span class=\"ansi-cyan-fg\">__next__</span><span class=\"ansi-blue-fg\">(self)</span>\n",
       "<span class=\"ansi-green-intense-fg ansi-bold\">     67</span>                 <span class=\"ansi-green-fg\">raise</span> StopIteration<span class=\"ansi-blue-fg\">(</span><span class=\"ansi-blue-fg\">&#34;No models remaining.&#34;</span><span class=\"ansi-blue-fg\">)</span>\n",
       "<span class=\"ansi-green-intense-fg ansi-bold\">     68</span>             self<span class=\"ansi-blue-fg\">.</span>counter <span class=\"ansi-blue-fg\">+=</span> <span class=\"ansi-cyan-fg\">1</span>\n",
       "<span class=\"ansi-green-fg\">---&gt; 69</span><span class=\"ansi-red-fg\">         </span><span class=\"ansi-green-fg\">return</span> index<span class=\"ansi-blue-fg\">,</span> self<span class=\"ansi-blue-fg\">.</span>fitSingleModel<span class=\"ansi-blue-fg\">(</span>index<span class=\"ansi-blue-fg\">)</span>\n",
       "<span class=\"ansi-green-intense-fg ansi-bold\">     70</span> \n",
       "<span class=\"ansi-green-intense-fg ansi-bold\">     71</span>     <span class=\"ansi-green-fg\">def</span> next<span class=\"ansi-blue-fg\">(</span>self<span class=\"ansi-blue-fg\">)</span><span class=\"ansi-blue-fg\">:</span>\n",
       "\n",
       "<span class=\"ansi-green-fg\">/databricks/spark/python/pyspark/ml/base.py</span> in <span class=\"ansi-cyan-fg\">fitSingleModel</span><span class=\"ansi-blue-fg\">(index)</span>\n",
       "<span class=\"ansi-green-intense-fg ansi-bold\">    124</span> \n",
       "<span class=\"ansi-green-intense-fg ansi-bold\">    125</span>         <span class=\"ansi-green-fg\">def</span> fitSingleModel<span class=\"ansi-blue-fg\">(</span>index<span class=\"ansi-blue-fg\">)</span><span class=\"ansi-blue-fg\">:</span>\n",
       "<span class=\"ansi-green-fg\">--&gt; 126</span><span class=\"ansi-red-fg\">             </span><span class=\"ansi-green-fg\">return</span> estimator<span class=\"ansi-blue-fg\">.</span>fit<span class=\"ansi-blue-fg\">(</span>dataset<span class=\"ansi-blue-fg\">,</span> paramMaps<span class=\"ansi-blue-fg\">[</span>index<span class=\"ansi-blue-fg\">]</span><span class=\"ansi-blue-fg\">)</span>\n",
       "<span class=\"ansi-green-intense-fg ansi-bold\">    127</span> \n",
       "<span class=\"ansi-green-intense-fg ansi-bold\">    128</span>         <span class=\"ansi-green-fg\">return</span> _FitMultipleIterator<span class=\"ansi-blue-fg\">(</span>fitSingleModel<span class=\"ansi-blue-fg\">,</span> len<span class=\"ansi-blue-fg\">(</span>paramMaps<span class=\"ansi-blue-fg\">)</span><span class=\"ansi-blue-fg\">)</span>\n",
       "\n",
       "<span class=\"ansi-green-fg\">/databricks/python_shell/dbruntime/MLWorkloadsInstrumentation/_pyspark.py</span> in <span class=\"ansi-cyan-fg\">patched_method</span><span class=\"ansi-blue-fg\">(self, *args, **kwargs)</span>\n",
       "<span class=\"ansi-green-intense-fg ansi-bold\">     28</span>             call_succeeded <span class=\"ansi-blue-fg\">=</span> <span class=\"ansi-green-fg\">False</span>\n",
       "<span class=\"ansi-green-intense-fg ansi-bold\">     29</span>             <span class=\"ansi-green-fg\">try</span><span class=\"ansi-blue-fg\">:</span>\n",
       "<span class=\"ansi-green-fg\">---&gt; 30</span><span class=\"ansi-red-fg\">                 </span>result <span class=\"ansi-blue-fg\">=</span> original_method<span class=\"ansi-blue-fg\">(</span>self<span class=\"ansi-blue-fg\">,</span> <span class=\"ansi-blue-fg\">*</span>args<span class=\"ansi-blue-fg\">,</span> <span class=\"ansi-blue-fg\">**</span>kwargs<span class=\"ansi-blue-fg\">)</span>\n",
       "<span class=\"ansi-green-intense-fg ansi-bold\">     31</span>                 call_succeeded <span class=\"ansi-blue-fg\">=</span> <span class=\"ansi-green-fg\">True</span>\n",
       "<span class=\"ansi-green-intense-fg ansi-bold\">     32</span>                 <span class=\"ansi-green-fg\">return</span> result\n",
       "\n",
       "<span class=\"ansi-green-fg\">/databricks/spark/python/pyspark/ml/base.py</span> in <span class=\"ansi-cyan-fg\">fit</span><span class=\"ansi-blue-fg\">(self, dataset, params)</span>\n",
       "<span class=\"ansi-green-intense-fg ansi-bold\">    157</span>         <span class=\"ansi-green-fg\">elif</span> isinstance<span class=\"ansi-blue-fg\">(</span>params<span class=\"ansi-blue-fg\">,</span> dict<span class=\"ansi-blue-fg\">)</span><span class=\"ansi-blue-fg\">:</span>\n",
       "<span class=\"ansi-green-intense-fg ansi-bold\">    158</span>             <span class=\"ansi-green-fg\">if</span> params<span class=\"ansi-blue-fg\">:</span>\n",
       "<span class=\"ansi-green-fg\">--&gt; 159</span><span class=\"ansi-red-fg\">                 </span><span class=\"ansi-green-fg\">return</span> self<span class=\"ansi-blue-fg\">.</span>copy<span class=\"ansi-blue-fg\">(</span>params<span class=\"ansi-blue-fg\">)</span><span class=\"ansi-blue-fg\">.</span>_fit<span class=\"ansi-blue-fg\">(</span>dataset<span class=\"ansi-blue-fg\">)</span>\n",
       "<span class=\"ansi-green-intense-fg ansi-bold\">    160</span>             <span class=\"ansi-green-fg\">else</span><span class=\"ansi-blue-fg\">:</span>\n",
       "<span class=\"ansi-green-intense-fg ansi-bold\">    161</span>                 <span class=\"ansi-green-fg\">return</span> self<span class=\"ansi-blue-fg\">.</span>_fit<span class=\"ansi-blue-fg\">(</span>dataset<span class=\"ansi-blue-fg\">)</span>\n",
       "\n",
       "<span class=\"ansi-green-fg\">/databricks/spark/python/pyspark/ml/wrapper.py</span> in <span class=\"ansi-cyan-fg\">_fit</span><span class=\"ansi-blue-fg\">(self, dataset)</span>\n",
       "<span class=\"ansi-green-intense-fg ansi-bold\">    333</span> \n",
       "<span class=\"ansi-green-intense-fg ansi-bold\">    334</span>     <span class=\"ansi-green-fg\">def</span> _fit<span class=\"ansi-blue-fg\">(</span>self<span class=\"ansi-blue-fg\">,</span> dataset<span class=\"ansi-blue-fg\">)</span><span class=\"ansi-blue-fg\">:</span>\n",
       "<span class=\"ansi-green-fg\">--&gt; 335</span><span class=\"ansi-red-fg\">         </span>java_model <span class=\"ansi-blue-fg\">=</span> self<span class=\"ansi-blue-fg\">.</span>_fit_java<span class=\"ansi-blue-fg\">(</span>dataset<span class=\"ansi-blue-fg\">)</span>\n",
       "<span class=\"ansi-green-intense-fg ansi-bold\">    336</span>         model <span class=\"ansi-blue-fg\">=</span> self<span class=\"ansi-blue-fg\">.</span>_create_model<span class=\"ansi-blue-fg\">(</span>java_model<span class=\"ansi-blue-fg\">)</span>\n",
       "<span class=\"ansi-green-intense-fg ansi-bold\">    337</span>         <span class=\"ansi-green-fg\">return</span> self<span class=\"ansi-blue-fg\">.</span>_copyValues<span class=\"ansi-blue-fg\">(</span>model<span class=\"ansi-blue-fg\">)</span>\n",
       "\n",
       "<span class=\"ansi-green-fg\">/databricks/spark/python/pyspark/ml/wrapper.py</span> in <span class=\"ansi-cyan-fg\">_fit_java</span><span class=\"ansi-blue-fg\">(self, dataset)</span>\n",
       "<span class=\"ansi-green-intense-fg ansi-bold\">    330</span>         &#34;&#34;&#34;\n",
       "<span class=\"ansi-green-intense-fg ansi-bold\">    331</span>         self<span class=\"ansi-blue-fg\">.</span>_transfer_params_to_java<span class=\"ansi-blue-fg\">(</span><span class=\"ansi-blue-fg\">)</span>\n",
       "<span class=\"ansi-green-fg\">--&gt; 332</span><span class=\"ansi-red-fg\">         </span><span class=\"ansi-green-fg\">return</span> self<span class=\"ansi-blue-fg\">.</span>_java_obj<span class=\"ansi-blue-fg\">.</span>fit<span class=\"ansi-blue-fg\">(</span>dataset<span class=\"ansi-blue-fg\">.</span>_jdf<span class=\"ansi-blue-fg\">)</span>\n",
       "<span class=\"ansi-green-intense-fg ansi-bold\">    333</span> \n",
       "<span class=\"ansi-green-intense-fg ansi-bold\">    334</span>     <span class=\"ansi-green-fg\">def</span> _fit<span class=\"ansi-blue-fg\">(</span>self<span class=\"ansi-blue-fg\">,</span> dataset<span class=\"ansi-blue-fg\">)</span><span class=\"ansi-blue-fg\">:</span>\n",
       "\n",
       "<span class=\"ansi-green-fg\">/databricks/spark/python/lib/py4j-0.10.9-src.zip/py4j/java_gateway.py</span> in <span class=\"ansi-cyan-fg\">__call__</span><span class=\"ansi-blue-fg\">(self, *args)</span>\n",
       "<span class=\"ansi-green-intense-fg ansi-bold\">   1302</span> \n",
       "<span class=\"ansi-green-intense-fg ansi-bold\">   1303</span>         answer <span class=\"ansi-blue-fg\">=</span> self<span class=\"ansi-blue-fg\">.</span>gateway_client<span class=\"ansi-blue-fg\">.</span>send_command<span class=\"ansi-blue-fg\">(</span>command<span class=\"ansi-blue-fg\">)</span>\n",
       "<span class=\"ansi-green-fg\">-&gt; 1304</span><span class=\"ansi-red-fg\">         return_value = get_return_value(\n",
       "</span><span class=\"ansi-green-intense-fg ansi-bold\">   1305</span>             answer, self.gateway_client, self.target_id, self.name)\n",
       "<span class=\"ansi-green-intense-fg ansi-bold\">   1306</span> \n",
       "\n",
       "<span class=\"ansi-green-fg\">/databricks/spark/python/pyspark/sql/utils.py</span> in <span class=\"ansi-cyan-fg\">deco</span><span class=\"ansi-blue-fg\">(*a, **kw)</span>\n",
       "<span class=\"ansi-green-intense-fg ansi-bold\">    121</span>                 <span class=\"ansi-red-fg\"># Hide where the exception came from that shows a non-Pythonic</span>\n",
       "<span class=\"ansi-green-intense-fg ansi-bold\">    122</span>                 <span class=\"ansi-red-fg\"># JVM exception message.</span>\n",
       "<span class=\"ansi-green-fg\">--&gt; 123</span><span class=\"ansi-red-fg\">                 </span><span class=\"ansi-green-fg\">raise</span> converted <span class=\"ansi-green-fg\">from</span> <span class=\"ansi-green-fg\">None</span>\n",
       "<span class=\"ansi-green-intense-fg ansi-bold\">    124</span>             <span class=\"ansi-green-fg\">else</span><span class=\"ansi-blue-fg\">:</span>\n",
       "<span class=\"ansi-green-intense-fg ansi-bold\">    125</span>                 <span class=\"ansi-green-fg\">raise</span>\n",
       "\n",
       "<span class=\"ansi-red-fg\">IllegalArgumentException</span>: DecisionTree requires size of input RDD &gt; 0, but was given by empty one.</div>"
      ]
     },
     "metadata": {
      "application/vnd.databricks.v1+output": {
       "arguments": {},
       "data": "<div class=\"ansiout\"><span class=\"ansi-red-fg\">---------------------------------------------------------------------------</span>\n<span class=\"ansi-red-fg\">IllegalArgumentException</span>                  Traceback (most recent call last)\n<span class=\"ansi-green-fg\">&lt;command-2297543790306958&gt;</span> in <span class=\"ansi-cyan-fg\">&lt;module&gt;</span>\n<span class=\"ansi-green-intense-fg ansi-bold\">      1</span> <span class=\"ansi-red-fg\"># GBT Parameter Hypertuning - only to be run for parameter hypertuning</span>\n<span class=\"ansi-green-intense-fg ansi-bold\">      2</span> \n<span class=\"ansi-green-fg\">----&gt; 3</span><span class=\"ansi-red-fg\"> </span>gbcvModel <span class=\"ansi-blue-fg\">=</span> gbcv<span class=\"ansi-blue-fg\">.</span>fit<span class=\"ansi-blue-fg\">(</span>model_data_train<span class=\"ansi-blue-fg\">)</span>\n<span class=\"ansi-green-intense-fg ansi-bold\">      4</span> print<span class=\"ansi-blue-fg\">(</span>gbcvModel<span class=\"ansi-blue-fg\">)</span>\n\n<span class=\"ansi-green-fg\">/databricks/python_shell/dbruntime/MLWorkloadsInstrumentation/_pyspark.py</span> in <span class=\"ansi-cyan-fg\">patched_method</span><span class=\"ansi-blue-fg\">(self, *args, **kwargs)</span>\n<span class=\"ansi-green-intense-fg ansi-bold\">     28</span>             call_succeeded <span class=\"ansi-blue-fg\">=</span> <span class=\"ansi-green-fg\">False</span>\n<span class=\"ansi-green-intense-fg ansi-bold\">     29</span>             <span class=\"ansi-green-fg\">try</span><span class=\"ansi-blue-fg\">:</span>\n<span class=\"ansi-green-fg\">---&gt; 30</span><span class=\"ansi-red-fg\">                 </span>result <span class=\"ansi-blue-fg\">=</span> original_method<span class=\"ansi-blue-fg\">(</span>self<span class=\"ansi-blue-fg\">,</span> <span class=\"ansi-blue-fg\">*</span>args<span class=\"ansi-blue-fg\">,</span> <span class=\"ansi-blue-fg\">**</span>kwargs<span class=\"ansi-blue-fg\">)</span>\n<span class=\"ansi-green-intense-fg ansi-bold\">     31</span>                 call_succeeded <span class=\"ansi-blue-fg\">=</span> <span class=\"ansi-green-fg\">True</span>\n<span class=\"ansi-green-intense-fg ansi-bold\">     32</span>                 <span class=\"ansi-green-fg\">return</span> result\n\n<span class=\"ansi-green-fg\">/databricks/spark/python/pyspark/ml/base.py</span> in <span class=\"ansi-cyan-fg\">fit</span><span class=\"ansi-blue-fg\">(self, dataset, params)</span>\n<span class=\"ansi-green-intense-fg ansi-bold\">    159</span>                 <span class=\"ansi-green-fg\">return</span> self<span class=\"ansi-blue-fg\">.</span>copy<span class=\"ansi-blue-fg\">(</span>params<span class=\"ansi-blue-fg\">)</span><span class=\"ansi-blue-fg\">.</span>_fit<span class=\"ansi-blue-fg\">(</span>dataset<span class=\"ansi-blue-fg\">)</span>\n<span class=\"ansi-green-intense-fg ansi-bold\">    160</span>             <span class=\"ansi-green-fg\">else</span><span class=\"ansi-blue-fg\">:</span>\n<span class=\"ansi-green-fg\">--&gt; 161</span><span class=\"ansi-red-fg\">                 </span><span class=\"ansi-green-fg\">return</span> self<span class=\"ansi-blue-fg\">.</span>_fit<span class=\"ansi-blue-fg\">(</span>dataset<span class=\"ansi-blue-fg\">)</span>\n<span class=\"ansi-green-intense-fg ansi-bold\">    162</span>         <span class=\"ansi-green-fg\">else</span><span class=\"ansi-blue-fg\">:</span>\n<span class=\"ansi-green-intense-fg ansi-bold\">    163</span>             raise ValueError(&#34;Params must be either a param map or a list/tuple of param maps, &#34;\n\n<span class=\"ansi-green-fg\">/databricks/spark/python/pyspark/ml/tuning.py</span> in <span class=\"ansi-cyan-fg\">_fit</span><span class=\"ansi-blue-fg\">(self, dataset)</span>\n<span class=\"ansi-green-intense-fg ansi-bold\">    709</span>                         subModels<span class=\"ansi-blue-fg\">[</span>i<span class=\"ansi-blue-fg\">]</span><span class=\"ansi-blue-fg\">[</span>j<span class=\"ansi-blue-fg\">]</span> <span class=\"ansi-blue-fg\">=</span> subModel\n<span class=\"ansi-green-intense-fg ansi-bold\">    710</span> \n<span class=\"ansi-green-fg\">--&gt; 711</span><span class=\"ansi-red-fg\">             </span>_cancel_on_failure<span class=\"ansi-blue-fg\">(</span>dataset<span class=\"ansi-blue-fg\">.</span>_sc<span class=\"ansi-blue-fg\">,</span> self<span class=\"ansi-blue-fg\">.</span>uid<span class=\"ansi-blue-fg\">,</span> sub_task_failed<span class=\"ansi-blue-fg\">,</span> calculate_metrics<span class=\"ansi-blue-fg\">)</span>\n<span class=\"ansi-green-intense-fg ansi-bold\">    712</span>             validation<span class=\"ansi-blue-fg\">.</span>unpersist<span class=\"ansi-blue-fg\">(</span><span class=\"ansi-blue-fg\">)</span>\n<span class=\"ansi-green-intense-fg ansi-bold\">    713</span>             train<span class=\"ansi-blue-fg\">.</span>unpersist<span class=\"ansi-blue-fg\">(</span><span class=\"ansi-blue-fg\">)</span>\n\n<span class=\"ansi-green-fg\">/databricks/spark/python/pyspark/ml/util.py</span> in <span class=\"ansi-cyan-fg\">_cancel_on_failure</span><span class=\"ansi-blue-fg\">(sc, uid, sub_task_failed, f)</span>\n<span class=\"ansi-green-intense-fg ansi-bold\">     88</span>                           <span class=\"ansi-blue-fg\">&#34;issue, you should enable pyspark pinned thread mode.&#34;</span>\n<span class=\"ansi-green-intense-fg ansi-bold\">     89</span>                           .format(uid))\n<span class=\"ansi-green-fg\">---&gt; 90</span><span class=\"ansi-red-fg\">             </span><span class=\"ansi-green-fg\">raise</span> e\n<span class=\"ansi-green-intense-fg ansi-bold\">     91</span> \n<span class=\"ansi-green-intense-fg ansi-bold\">     92</span>     old_job_group <span class=\"ansi-blue-fg\">=</span> sc<span class=\"ansi-blue-fg\">.</span>getLocalProperty<span class=\"ansi-blue-fg\">(</span><span class=\"ansi-blue-fg\">&#34;spark.jobGroup.id&#34;</span><span class=\"ansi-blue-fg\">)</span>\n\n<span class=\"ansi-green-fg\">/databricks/spark/python/pyspark/ml/util.py</span> in <span class=\"ansi-cyan-fg\">_cancel_on_failure</span><span class=\"ansi-blue-fg\">(sc, uid, sub_task_failed, f)</span>\n<span class=\"ansi-green-intense-fg ansi-bold\">     82</span>     <span class=\"ansi-green-fg\">if</span> os<span class=\"ansi-blue-fg\">.</span>environ<span class=\"ansi-blue-fg\">.</span>get<span class=\"ansi-blue-fg\">(</span><span class=\"ansi-blue-fg\">&#34;PYSPARK_PIN_THREAD&#34;</span><span class=\"ansi-blue-fg\">,</span> <span class=\"ansi-blue-fg\">&#34;false&#34;</span><span class=\"ansi-blue-fg\">)</span><span class=\"ansi-blue-fg\">.</span>lower<span class=\"ansi-blue-fg\">(</span><span class=\"ansi-blue-fg\">)</span> <span class=\"ansi-blue-fg\">!=</span> <span class=\"ansi-blue-fg\">&#34;true&#34;</span><span class=\"ansi-blue-fg\">:</span>\n<span class=\"ansi-green-intense-fg ansi-bold\">     83</span>         <span class=\"ansi-green-fg\">try</span><span class=\"ansi-blue-fg\">:</span>\n<span class=\"ansi-green-fg\">---&gt; 84</span><span class=\"ansi-red-fg\">             </span><span class=\"ansi-green-fg\">return</span> f<span class=\"ansi-blue-fg\">(</span><span class=\"ansi-blue-fg\">)</span>\n<span class=\"ansi-green-intense-fg ansi-bold\">     85</span>         <span class=\"ansi-green-fg\">except</span> Exception <span class=\"ansi-green-fg\">as</span> e<span class=\"ansi-blue-fg\">:</span>\n<span class=\"ansi-green-intense-fg ansi-bold\">     86</span>             warnings.warn(&#34;{} fit call failed but some spark jobs &#34;\n\n<span class=\"ansi-green-fg\">/databricks/spark/python/pyspark/ml/tuning.py</span> in <span class=\"ansi-cyan-fg\">calculate_metrics</span><span class=\"ansi-blue-fg\">()</span>\n<span class=\"ansi-green-intense-fg ansi-bold\">    703</span>                     <span class=\"ansi-green-fg\">return</span> task<span class=\"ansi-blue-fg\">(</span><span class=\"ansi-blue-fg\">)</span>\n<span class=\"ansi-green-intense-fg ansi-bold\">    704</span> \n<span class=\"ansi-green-fg\">--&gt; 705</span><span class=\"ansi-red-fg\">                 </span><span class=\"ansi-green-fg\">for</span> j<span class=\"ansi-blue-fg\">,</span> metric<span class=\"ansi-blue-fg\">,</span> subModel <span class=\"ansi-green-fg\">in</span> pool<span class=\"ansi-blue-fg\">.</span>imap_unordered<span class=\"ansi-blue-fg\">(</span>run_task<span class=\"ansi-blue-fg\">,</span> tasks<span class=\"ansi-blue-fg\">)</span><span class=\"ansi-blue-fg\">:</span>\n<span class=\"ansi-green-intense-fg ansi-bold\">    706</span>                     metrics<span class=\"ansi-blue-fg\">[</span>j<span class=\"ansi-blue-fg\">]</span> <span class=\"ansi-blue-fg\">+=</span> <span class=\"ansi-blue-fg\">(</span>metric <span class=\"ansi-blue-fg\">/</span> nFolds<span class=\"ansi-blue-fg\">)</span>\n<span class=\"ansi-green-intense-fg ansi-bold\">    707</span>                     metrics_all<span class=\"ansi-blue-fg\">[</span>i<span class=\"ansi-blue-fg\">]</span><span class=\"ansi-blue-fg\">[</span>j<span class=\"ansi-blue-fg\">]</span> <span class=\"ansi-blue-fg\">=</span> metric\n\n<span class=\"ansi-green-fg\">/usr/lib/python3.8/multiprocessing/pool.py</span> in <span class=\"ansi-cyan-fg\">next</span><span class=\"ansi-blue-fg\">(self, timeout)</span>\n<span class=\"ansi-green-intense-fg ansi-bold\">    866</span>         <span class=\"ansi-green-fg\">if</span> success<span class=\"ansi-blue-fg\">:</span>\n<span class=\"ansi-green-intense-fg ansi-bold\">    867</span>             <span class=\"ansi-green-fg\">return</span> value\n<span class=\"ansi-green-fg\">--&gt; 868</span><span class=\"ansi-red-fg\">         </span><span class=\"ansi-green-fg\">raise</span> value\n<span class=\"ansi-green-intense-fg ansi-bold\">    869</span> \n<span class=\"ansi-green-intense-fg ansi-bold\">    870</span>     __next__ <span class=\"ansi-blue-fg\">=</span> next                    <span class=\"ansi-red-fg\"># XXX</span>\n\n<span class=\"ansi-green-fg\">/usr/lib/python3.8/multiprocessing/pool.py</span> in <span class=\"ansi-cyan-fg\">worker</span><span class=\"ansi-blue-fg\">(inqueue, outqueue, initializer, initargs, maxtasks, wrap_exception)</span>\n<span class=\"ansi-green-intense-fg ansi-bold\">    123</span>         job<span class=\"ansi-blue-fg\">,</span> i<span class=\"ansi-blue-fg\">,</span> func<span class=\"ansi-blue-fg\">,</span> args<span class=\"ansi-blue-fg\">,</span> kwds <span class=\"ansi-blue-fg\">=</span> task\n<span class=\"ansi-green-intense-fg ansi-bold\">    124</span>         <span class=\"ansi-green-fg\">try</span><span class=\"ansi-blue-fg\">:</span>\n<span class=\"ansi-green-fg\">--&gt; 125</span><span class=\"ansi-red-fg\">             </span>result <span class=\"ansi-blue-fg\">=</span> <span class=\"ansi-blue-fg\">(</span><span class=\"ansi-green-fg\">True</span><span class=\"ansi-blue-fg\">,</span> func<span class=\"ansi-blue-fg\">(</span><span class=\"ansi-blue-fg\">*</span>args<span class=\"ansi-blue-fg\">,</span> <span class=\"ansi-blue-fg\">**</span>kwds<span class=\"ansi-blue-fg\">)</span><span class=\"ansi-blue-fg\">)</span>\n<span class=\"ansi-green-intense-fg ansi-bold\">    126</span>         <span class=\"ansi-green-fg\">except</span> Exception <span class=\"ansi-green-fg\">as</span> e<span class=\"ansi-blue-fg\">:</span>\n<span class=\"ansi-green-intense-fg ansi-bold\">    127</span>             <span class=\"ansi-green-fg\">if</span> wrap_exception <span class=\"ansi-green-fg\">and</span> func <span class=\"ansi-green-fg\">is</span> <span class=\"ansi-green-fg\">not</span> _helper_reraises_exception<span class=\"ansi-blue-fg\">:</span>\n\n<span class=\"ansi-green-fg\">/databricks/spark/python/pyspark/ml/tuning.py</span> in <span class=\"ansi-cyan-fg\">run_task</span><span class=\"ansi-blue-fg\">(task)</span>\n<span class=\"ansi-green-intense-fg ansi-bold\">    701</span>                     <span class=\"ansi-green-fg\">if</span> sub_task_failed<span class=\"ansi-blue-fg\">[</span><span class=\"ansi-cyan-fg\">0</span><span class=\"ansi-blue-fg\">]</span><span class=\"ansi-blue-fg\">:</span>\n<span class=\"ansi-green-intense-fg ansi-bold\">    702</span>                         <span class=\"ansi-green-fg\">raise</span> RuntimeError<span class=\"ansi-blue-fg\">(</span><span class=\"ansi-blue-fg\">&#34;Terminate this task because one of other task failed.&#34;</span><span class=\"ansi-blue-fg\">)</span>\n<span class=\"ansi-green-fg\">--&gt; 703</span><span class=\"ansi-red-fg\">                     </span><span class=\"ansi-green-fg\">return</span> task<span class=\"ansi-blue-fg\">(</span><span class=\"ansi-blue-fg\">)</span>\n<span class=\"ansi-green-intense-fg ansi-bold\">    704</span> \n<span class=\"ansi-green-intense-fg ansi-bold\">    705</span>                 <span class=\"ansi-green-fg\">for</span> j<span class=\"ansi-blue-fg\">,</span> metric<span class=\"ansi-blue-fg\">,</span> subModel <span class=\"ansi-green-fg\">in</span> pool<span class=\"ansi-blue-fg\">.</span>imap_unordered<span class=\"ansi-blue-fg\">(</span>run_task<span class=\"ansi-blue-fg\">,</span> tasks<span class=\"ansi-blue-fg\">)</span><span class=\"ansi-blue-fg\">:</span>\n\n<span class=\"ansi-green-fg\">/databricks/spark/python/pyspark/ml/tuning.py</span> in <span class=\"ansi-cyan-fg\">singleTask</span><span class=\"ansi-blue-fg\">()</span>\n<span class=\"ansi-green-intense-fg ansi-bold\">     68</span> \n<span class=\"ansi-green-intense-fg ansi-bold\">     69</span>     <span class=\"ansi-green-fg\">def</span> singleTask<span class=\"ansi-blue-fg\">(</span><span class=\"ansi-blue-fg\">)</span><span class=\"ansi-blue-fg\">:</span>\n<span class=\"ansi-green-fg\">---&gt; 70</span><span class=\"ansi-red-fg\">         </span>index<span class=\"ansi-blue-fg\">,</span> model <span class=\"ansi-blue-fg\">=</span> next<span class=\"ansi-blue-fg\">(</span>modelIter<span class=\"ansi-blue-fg\">)</span>\n<span class=\"ansi-green-intense-fg ansi-bold\">     71</span>         <span class=\"ansi-red-fg\"># TODO: duplicate evaluator to take extra params from input</span>\n<span class=\"ansi-green-intense-fg ansi-bold\">     72</span>         <span class=\"ansi-red-fg\">#  Note: Supporting tuning params in evaluator need update method</span>\n\n<span class=\"ansi-green-fg\">/databricks/spark/python/pyspark/ml/base.py</span> in <span class=\"ansi-cyan-fg\">__next__</span><span class=\"ansi-blue-fg\">(self)</span>\n<span class=\"ansi-green-intense-fg ansi-bold\">     67</span>                 <span class=\"ansi-green-fg\">raise</span> StopIteration<span class=\"ansi-blue-fg\">(</span><span class=\"ansi-blue-fg\">&#34;No models remaining.&#34;</span><span class=\"ansi-blue-fg\">)</span>\n<span class=\"ansi-green-intense-fg ansi-bold\">     68</span>             self<span class=\"ansi-blue-fg\">.</span>counter <span class=\"ansi-blue-fg\">+=</span> <span class=\"ansi-cyan-fg\">1</span>\n<span class=\"ansi-green-fg\">---&gt; 69</span><span class=\"ansi-red-fg\">         </span><span class=\"ansi-green-fg\">return</span> index<span class=\"ansi-blue-fg\">,</span> self<span class=\"ansi-blue-fg\">.</span>fitSingleModel<span class=\"ansi-blue-fg\">(</span>index<span class=\"ansi-blue-fg\">)</span>\n<span class=\"ansi-green-intense-fg ansi-bold\">     70</span> \n<span class=\"ansi-green-intense-fg ansi-bold\">     71</span>     <span class=\"ansi-green-fg\">def</span> next<span class=\"ansi-blue-fg\">(</span>self<span class=\"ansi-blue-fg\">)</span><span class=\"ansi-blue-fg\">:</span>\n\n<span class=\"ansi-green-fg\">/databricks/spark/python/pyspark/ml/base.py</span> in <span class=\"ansi-cyan-fg\">fitSingleModel</span><span class=\"ansi-blue-fg\">(index)</span>\n<span class=\"ansi-green-intense-fg ansi-bold\">    124</span> \n<span class=\"ansi-green-intense-fg ansi-bold\">    125</span>         <span class=\"ansi-green-fg\">def</span> fitSingleModel<span class=\"ansi-blue-fg\">(</span>index<span class=\"ansi-blue-fg\">)</span><span class=\"ansi-blue-fg\">:</span>\n<span class=\"ansi-green-fg\">--&gt; 126</span><span class=\"ansi-red-fg\">             </span><span class=\"ansi-green-fg\">return</span> estimator<span class=\"ansi-blue-fg\">.</span>fit<span class=\"ansi-blue-fg\">(</span>dataset<span class=\"ansi-blue-fg\">,</span> paramMaps<span class=\"ansi-blue-fg\">[</span>index<span class=\"ansi-blue-fg\">]</span><span class=\"ansi-blue-fg\">)</span>\n<span class=\"ansi-green-intense-fg ansi-bold\">    127</span> \n<span class=\"ansi-green-intense-fg ansi-bold\">    128</span>         <span class=\"ansi-green-fg\">return</span> _FitMultipleIterator<span class=\"ansi-blue-fg\">(</span>fitSingleModel<span class=\"ansi-blue-fg\">,</span> len<span class=\"ansi-blue-fg\">(</span>paramMaps<span class=\"ansi-blue-fg\">)</span><span class=\"ansi-blue-fg\">)</span>\n\n<span class=\"ansi-green-fg\">/databricks/python_shell/dbruntime/MLWorkloadsInstrumentation/_pyspark.py</span> in <span class=\"ansi-cyan-fg\">patched_method</span><span class=\"ansi-blue-fg\">(self, *args, **kwargs)</span>\n<span class=\"ansi-green-intense-fg ansi-bold\">     28</span>             call_succeeded <span class=\"ansi-blue-fg\">=</span> <span class=\"ansi-green-fg\">False</span>\n<span class=\"ansi-green-intense-fg ansi-bold\">     29</span>             <span class=\"ansi-green-fg\">try</span><span class=\"ansi-blue-fg\">:</span>\n<span class=\"ansi-green-fg\">---&gt; 30</span><span class=\"ansi-red-fg\">                 </span>result <span class=\"ansi-blue-fg\">=</span> original_method<span class=\"ansi-blue-fg\">(</span>self<span class=\"ansi-blue-fg\">,</span> <span class=\"ansi-blue-fg\">*</span>args<span class=\"ansi-blue-fg\">,</span> <span class=\"ansi-blue-fg\">**</span>kwargs<span class=\"ansi-blue-fg\">)</span>\n<span class=\"ansi-green-intense-fg ansi-bold\">     31</span>                 call_succeeded <span class=\"ansi-blue-fg\">=</span> <span class=\"ansi-green-fg\">True</span>\n<span class=\"ansi-green-intense-fg ansi-bold\">     32</span>                 <span class=\"ansi-green-fg\">return</span> result\n\n<span class=\"ansi-green-fg\">/databricks/spark/python/pyspark/ml/base.py</span> in <span class=\"ansi-cyan-fg\">fit</span><span class=\"ansi-blue-fg\">(self, dataset, params)</span>\n<span class=\"ansi-green-intense-fg ansi-bold\">    157</span>         <span class=\"ansi-green-fg\">elif</span> isinstance<span class=\"ansi-blue-fg\">(</span>params<span class=\"ansi-blue-fg\">,</span> dict<span class=\"ansi-blue-fg\">)</span><span class=\"ansi-blue-fg\">:</span>\n<span class=\"ansi-green-intense-fg ansi-bold\">    158</span>             <span class=\"ansi-green-fg\">if</span> params<span class=\"ansi-blue-fg\">:</span>\n<span class=\"ansi-green-fg\">--&gt; 159</span><span class=\"ansi-red-fg\">                 </span><span class=\"ansi-green-fg\">return</span> self<span class=\"ansi-blue-fg\">.</span>copy<span class=\"ansi-blue-fg\">(</span>params<span class=\"ansi-blue-fg\">)</span><span class=\"ansi-blue-fg\">.</span>_fit<span class=\"ansi-blue-fg\">(</span>dataset<span class=\"ansi-blue-fg\">)</span>\n<span class=\"ansi-green-intense-fg ansi-bold\">    160</span>             <span class=\"ansi-green-fg\">else</span><span class=\"ansi-blue-fg\">:</span>\n<span class=\"ansi-green-intense-fg ansi-bold\">    161</span>                 <span class=\"ansi-green-fg\">return</span> self<span class=\"ansi-blue-fg\">.</span>_fit<span class=\"ansi-blue-fg\">(</span>dataset<span class=\"ansi-blue-fg\">)</span>\n\n<span class=\"ansi-green-fg\">/databricks/spark/python/pyspark/ml/wrapper.py</span> in <span class=\"ansi-cyan-fg\">_fit</span><span class=\"ansi-blue-fg\">(self, dataset)</span>\n<span class=\"ansi-green-intense-fg ansi-bold\">    333</span> \n<span class=\"ansi-green-intense-fg ansi-bold\">    334</span>     <span class=\"ansi-green-fg\">def</span> _fit<span class=\"ansi-blue-fg\">(</span>self<span class=\"ansi-blue-fg\">,</span> dataset<span class=\"ansi-blue-fg\">)</span><span class=\"ansi-blue-fg\">:</span>\n<span class=\"ansi-green-fg\">--&gt; 335</span><span class=\"ansi-red-fg\">         </span>java_model <span class=\"ansi-blue-fg\">=</span> self<span class=\"ansi-blue-fg\">.</span>_fit_java<span class=\"ansi-blue-fg\">(</span>dataset<span class=\"ansi-blue-fg\">)</span>\n<span class=\"ansi-green-intense-fg ansi-bold\">    336</span>         model <span class=\"ansi-blue-fg\">=</span> self<span class=\"ansi-blue-fg\">.</span>_create_model<span class=\"ansi-blue-fg\">(</span>java_model<span class=\"ansi-blue-fg\">)</span>\n<span class=\"ansi-green-intense-fg ansi-bold\">    337</span>         <span class=\"ansi-green-fg\">return</span> self<span class=\"ansi-blue-fg\">.</span>_copyValues<span class=\"ansi-blue-fg\">(</span>model<span class=\"ansi-blue-fg\">)</span>\n\n<span class=\"ansi-green-fg\">/databricks/spark/python/pyspark/ml/wrapper.py</span> in <span class=\"ansi-cyan-fg\">_fit_java</span><span class=\"ansi-blue-fg\">(self, dataset)</span>\n<span class=\"ansi-green-intense-fg ansi-bold\">    330</span>         &#34;&#34;&#34;\n<span class=\"ansi-green-intense-fg ansi-bold\">    331</span>         self<span class=\"ansi-blue-fg\">.</span>_transfer_params_to_java<span class=\"ansi-blue-fg\">(</span><span class=\"ansi-blue-fg\">)</span>\n<span class=\"ansi-green-fg\">--&gt; 332</span><span class=\"ansi-red-fg\">         </span><span class=\"ansi-green-fg\">return</span> self<span class=\"ansi-blue-fg\">.</span>_java_obj<span class=\"ansi-blue-fg\">.</span>fit<span class=\"ansi-blue-fg\">(</span>dataset<span class=\"ansi-blue-fg\">.</span>_jdf<span class=\"ansi-blue-fg\">)</span>\n<span class=\"ansi-green-intense-fg ansi-bold\">    333</span> \n<span class=\"ansi-green-intense-fg ansi-bold\">    334</span>     <span class=\"ansi-green-fg\">def</span> _fit<span class=\"ansi-blue-fg\">(</span>self<span class=\"ansi-blue-fg\">,</span> dataset<span class=\"ansi-blue-fg\">)</span><span class=\"ansi-blue-fg\">:</span>\n\n<span class=\"ansi-green-fg\">/databricks/spark/python/lib/py4j-0.10.9-src.zip/py4j/java_gateway.py</span> in <span class=\"ansi-cyan-fg\">__call__</span><span class=\"ansi-blue-fg\">(self, *args)</span>\n<span class=\"ansi-green-intense-fg ansi-bold\">   1302</span> \n<span class=\"ansi-green-intense-fg ansi-bold\">   1303</span>         answer <span class=\"ansi-blue-fg\">=</span> self<span class=\"ansi-blue-fg\">.</span>gateway_client<span class=\"ansi-blue-fg\">.</span>send_command<span class=\"ansi-blue-fg\">(</span>command<span class=\"ansi-blue-fg\">)</span>\n<span class=\"ansi-green-fg\">-&gt; 1304</span><span class=\"ansi-red-fg\">         return_value = get_return_value(\n</span><span class=\"ansi-green-intense-fg ansi-bold\">   1305</span>             answer, self.gateway_client, self.target_id, self.name)\n<span class=\"ansi-green-intense-fg ansi-bold\">   1306</span> \n\n<span class=\"ansi-green-fg\">/databricks/spark/python/pyspark/sql/utils.py</span> in <span class=\"ansi-cyan-fg\">deco</span><span class=\"ansi-blue-fg\">(*a, **kw)</span>\n<span class=\"ansi-green-intense-fg ansi-bold\">    121</span>                 <span class=\"ansi-red-fg\"># Hide where the exception came from that shows a non-Pythonic</span>\n<span class=\"ansi-green-intense-fg ansi-bold\">    122</span>                 <span class=\"ansi-red-fg\"># JVM exception message.</span>\n<span class=\"ansi-green-fg\">--&gt; 123</span><span class=\"ansi-red-fg\">                 </span><span class=\"ansi-green-fg\">raise</span> converted <span class=\"ansi-green-fg\">from</span> <span class=\"ansi-green-fg\">None</span>\n<span class=\"ansi-green-intense-fg ansi-bold\">    124</span>             <span class=\"ansi-green-fg\">else</span><span class=\"ansi-blue-fg\">:</span>\n<span class=\"ansi-green-intense-fg ansi-bold\">    125</span>                 <span class=\"ansi-green-fg\">raise</span>\n\n<span class=\"ansi-red-fg\">IllegalArgumentException</span>: DecisionTree requires size of input RDD &gt; 0, but was given by empty one.</div>",
       "errorSummary": "<span class=\"ansi-red-fg\">IllegalArgumentException</span>: DecisionTree requires size of input RDD &gt; 0, but was given by empty one.",
       "errorTraceType": "html",
       "metadata": {},
       "type": "ipynbError"
      }
     },
     "output_type": "display_data"
    }
   ],
   "source": [
    "# GBT Parameter Hypertuning - only to be run for parameter hypertuning\n",
    "\n",
    "gbcvModel = gbcv.fit(model_data_train)\n",
    "print(gbcvModel)"
   ]
  },
  {
   "cell_type": "markdown",
   "metadata": {
    "application/vnd.databricks.v1+cell": {
     "inputWidgets": {},
     "nuid": "ae5e98fd-3f76-47c1-9944-2a032d8e0bc6",
     "showTitle": false,
     "title": ""
    }
   },
   "source": [
    "While our attempt to run the cross-validation was not sucessful during our last attempt to optimize the parameters. We had been previosuly able to find the best values for hyperparameters, those were maxDepth=10, maxBins=10, and maxIter=10, which is a combination of hyperparameters that achieved the highest average f1 score during the cross-validation process. These params have been used for running GBT algorithm below."
   ]
  },
  {
   "cell_type": "markdown",
   "metadata": {
    "application/vnd.databricks.v1+cell": {
     "inputWidgets": {},
     "nuid": "ab394286-97ae-44c5-8023-74e5de9d3ebb",
     "showTitle": false,
     "title": ""
    }
   },
   "source": [
    "**GBT Algorithm Testing**"
   ]
  },
  {
   "cell_type": "code",
   "execution_count": 0,
   "metadata": {
    "application/vnd.databricks.v1+cell": {
     "inputWidgets": {},
     "nuid": "3364c129-a859-43de-ae57-279e0c5f2b64",
     "showTitle": false,
     "title": ""
    }
   },
   "outputs": [
    {
     "data": {
      "text/html": [
       "<style scoped>\n",
       "  .ansiout {\n",
       "    display: block;\n",
       "    unicode-bidi: embed;\n",
       "    white-space: pre-wrap;\n",
       "    word-wrap: break-word;\n",
       "    word-break: break-all;\n",
       "    font-family: \"Source Code Pro\", \"Menlo\", monospace;;\n",
       "    font-size: 13px;\n",
       "    color: #555;\n",
       "    margin-left: 4px;\n",
       "    line-height: 19px;\n",
       "  }\n",
       "</style>\n",
       "<div class=\"ansiout\">gbt model completed job in 5821.804710865021 seconds.\n",
       "</div>"
      ]
     },
     "metadata": {
      "application/vnd.databricks.v1+output": {
       "addedWidgets": {},
       "arguments": {},
       "data": "<div class=\"ansiout\">gbt model completed job in 5821.804710865021 seconds.\n</div>",
       "datasetInfos": [],
       "metadata": {},
       "removedWidgets": [],
       "type": "html"
      }
     },
     "output_type": "display_data"
    }
   ],
   "source": [
    "# Reference used for building Gradient Boosted tree model: https://spark.apache.org/docs/latest/api/python/reference/api/pyspark.ml.classification.GBTClassifier.html\n",
    "\n",
    "# Build a gradient boosted tree model\n",
    "\n",
    "start_gbt = time.time()\n",
    "gbt = GBTClassifier(featuresCol='VectorAssembler_features', \n",
    "              labelCol='departure_delay_boolean', \n",
    "              maxBins=10,\n",
    "              maxDepth=10,\n",
    "              minInstancesPerNode=10,\n",
    "              minInfoGain=0.001,\n",
    "              stepSize=0.2,\n",
    "              maxIter=10, \n",
    "              )\n",
    "\n",
    "\n",
    "# Setup pipeline\n",
    "stages_gbtClassifier = [gbt]\n",
    "pipeline_gbt = Pipeline(stages=stages_gbtClassifier)\n",
    "\n",
    "# Train the GBT model\n",
    "gbt_model = pipeline_gbt.fit(model_data_train)\n",
    "\n",
    "gbpredictions = gbt_model.transform(model_data_test)\n",
    "\n",
    "print(f'gbt model completed job in {time.time() - start_gbt} seconds.')\n",
    "gbt_time_model = time.time() - start_gbt"
   ]
  },
  {
   "cell_type": "markdown",
   "metadata": {
    "application/vnd.databricks.v1+cell": {
     "inputWidgets": {},
     "nuid": "06663af4-ed4c-4940-8a4b-3f9ec0ccab81",
     "showTitle": false,
     "title": ""
    }
   },
   "source": [
    "**GBT Model Evaluation**"
   ]
  },
  {
   "cell_type": "code",
   "execution_count": 0,
   "metadata": {
    "application/vnd.databricks.v1+cell": {
     "inputWidgets": {},
     "nuid": "65b9e2b5-62d7-46a7-9d3d-0d9e03c50049",
     "showTitle": false,
     "title": ""
    }
   },
   "outputs": [
    {
     "data": {
      "text/html": [
       "<style scoped>\n",
       "  .ansiout {\n",
       "    display: block;\n",
       "    unicode-bidi: embed;\n",
       "    white-space: pre-wrap;\n",
       "    word-wrap: break-word;\n",
       "    word-break: break-all;\n",
       "    font-family: \"Source Code Pro\", \"Menlo\", monospace;;\n",
       "    font-size: 13px;\n",
       "    color: #555;\n",
       "    margin-left: 4px;\n",
       "    line-height: 19px;\n",
       "  }\n",
       "</style>\n",
       "<div class=\"ansiout\">Sensitivity: 63.08%\n",
       "Specificity: 78.88%\n",
       "False positive rate: 21.12%\n",
       "False negative rate: 36.92%\n",
       "Recall: 63.08%\n",
       "Precision: 42.55%\n",
       "f1: 50.82%\n",
       "########### Confusion Matrix ###########\n",
       "                Predicted-delay  Predicted-on time\n",
       "Actual-delay             815024             476980\n",
       "Actual-on time          1100370            4109622\n",
       "</div>"
      ]
     },
     "metadata": {
      "application/vnd.databricks.v1+output": {
       "addedWidgets": {},
       "arguments": {},
       "data": "<div class=\"ansiout\">Sensitivity: 63.08%\nSpecificity: 78.88%\nFalse positive rate: 21.12%\nFalse negative rate: 36.92%\nRecall: 63.08%\nPrecision: 42.55%\nf1: 50.82%\n########### Confusion Matrix ###########\n                Predicted-delay  Predicted-on time\nActual-delay             815024             476980\nActual-on time          1100370            4109622\n</div>",
       "datasetInfos": [],
       "metadata": {},
       "removedWidgets": [],
       "type": "html"
      }
     },
     "output_type": "display_data"
    }
   ],
   "source": [
    "# print results with helper function\n",
    "\n",
    "print_results(gbpredictions, 'GB', gbt_time_model)"
   ]
  },
  {
   "cell_type": "code",
   "execution_count": 0,
   "metadata": {
    "application/vnd.databricks.v1+cell": {
     "inputWidgets": {},
     "nuid": "5bc06cec-cdd2-4d64-8f3f-86ad79fbd73d",
     "showTitle": false,
     "title": ""
    }
   },
   "outputs": [
    {
     "data": {
      "text/html": [
       "<style scoped>\n",
       "  .ansiout {\n",
       "    display: block;\n",
       "    unicode-bidi: embed;\n",
       "    white-space: pre-wrap;\n",
       "    word-wrap: break-word;\n",
       "    word-break: break-all;\n",
       "    font-family: \"Source Code Pro\", \"Menlo\", monospace;;\n",
       "    font-size: 13px;\n",
       "    color: #555;\n",
       "    margin-left: 4px;\n",
       "    line-height: 19px;\n",
       "  }\n",
       "</style>"
      ]
     },
     "metadata": {
      "application/vnd.databricks.v1+output": {
       "arguments": {},
       "data": "",
       "errorSummary": "",
       "errorTraceType": null,
       "metadata": {},
       "type": "ipynbError"
      }
     },
     "output_type": "display_data"
    }
   ],
   "source": [
    "# Plot Confusion Matrix\n",
    "\n",
    "cm_gbt = confusion_matrix(y_true_gbt, y_pred_gbt)\n",
    "cm_gbt_display = ConfusionMatrixDisplay(cm_gbt, display_labels=['On Time', 'Delay'])\n",
    "cm_gbt_display.plot(cmap='Blues', values_format='d')\n",
    "cm_gbt_display.ax_.set(title='Confusion Matrix-Gradient Boosted Tree')\n",
    "cm_gbt_display.ax_.set(xlabel='Predicted labels', ylabel='True labels')"
   ]
  }
 ],
 "metadata": {
  "application/vnd.databricks.v1+notebook": {
   "dashboards": [],
   "language": "python",
   "notebookMetadata": {
    "pythonIndentUnit": 2
   },
   "notebookName": "W261_FA21_FINAL_PROJECT_TEAM11_NB6_Algorithm_GridSearch",
   "notebookOrigID": 2297543790306893,
   "widgets": {}
  },
  "kernelspec": {
   "display_name": "Python 3",
   "language": "python",
   "name": "python3"
  },
  "language_info": {
   "codemirror_mode": {
    "name": "ipython",
    "version": 3
   },
   "file_extension": ".py",
   "mimetype": "text/x-python",
   "name": "python",
   "nbconvert_exporter": "python",
   "pygments_lexer": "ipython3",
   "version": "3.8.3"
  }
 },
 "nbformat": 4,
 "nbformat_minor": 1
}
