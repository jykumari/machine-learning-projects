{
 "cells": [
  {
   "cell_type": "markdown",
   "id": "37bfbe50",
   "metadata": {},
   "source": [
    "# Forest Cover Type Prediction\n"
   ]
  },
  {
   "cell_type": "markdown",
   "id": "361abbaa",
   "metadata": {},
   "source": [
    "Following classifiers and algorithms have been used for supervised learning. These are listed below in the sequence per week:\n",
    "\n",
    "- k Nearest Neighbors\n",
    "- Naive Bayes \n",
    "- Decision trees, including Random Forests and Adaboost\n",
    "- Logistic regression\n",
    "- Stochastic Gradient Descent\n",
    "- Neural Networks\n",
    "- Support Vector machine\n",
    "- Gaussian Mixture Model\n"
   ]
  },
  {
   "cell_type": "markdown",
   "id": "5bc78313",
   "metadata": {},
   "source": [
    "#### *The accuracy of the best model will be reported on the dev data, since test data does not have labels. The scope of this project does not include outputting results for the kaggle \"test\" data set, since the kaggle competion is no longer open.*\n",
    "\n",
    "- *There will be no loading or processing done on test data in this whole exercise.*"
   ]
  },
  {
   "cell_type": "markdown",
   "id": "d19f75a5",
   "metadata": {},
   "source": [
    "### Import Libraries"
   ]
  },
  {
   "cell_type": "code",
   "execution_count": 2,
   "id": "9c29d7f1",
   "metadata": {
    "execution": {
     "iopub.execute_input": "2021-07-20T22:21:45.037432Z",
     "iopub.status.busy": "2021-07-20T22:21:45.036162Z",
     "iopub.status.idle": "2021-07-20T22:21:52.166540Z",
     "shell.execute_reply": "2021-07-20T22:21:52.165720Z",
     "shell.execute_reply.started": "2021-07-20T21:10:40.967588Z"
    },
    "papermill": {
     "duration": 7.177443,
     "end_time": "2021-07-20T22:21:52.166728",
     "exception": false,
     "start_time": "2021-07-20T22:21:44.989285",
     "status": "completed"
    },
    "tags": []
   },
   "outputs": [
    {
     "name": "stdout",
     "output_type": "stream",
     "text": [
      "OK\n",
      "Tensorflow version 2.5.0\n"
     ]
    }
   ],
   "source": [
    "# General libraries.\n",
    "\n",
    "#If your seaborn plots do not run, uncomment the following, run it and restart your kernel\n",
    "#!pip install -U seaborn\n",
    "\n",
    "\n",
    "import numpy as np\n",
    "import matplotlib.pyplot as plt\n",
    "\n",
    "# SK-learn libraries for learning.\n",
    "from sklearn.pipeline import Pipeline\n",
    "from sklearn.neighbors import KNeighborsClassifier\n",
    "from sklearn.model_selection import GridSearchCV\n",
    "from sklearn.model_selection import RandomizedSearchCV\n",
    "from sklearn.tree import DecisionTreeClassifier\n",
    "from sklearn.naive_bayes import GaussianNB\n",
    "from sklearn.naive_bayes import BernoulliNB\n",
    "from sklearn import ensemble\n",
    "from sklearn.linear_model import LogisticRegression\n",
    "from sklearn.svm import SVC\n",
    "from sklearn.mixture import GaussianMixture\n",
    "from sklearn import linear_model\n",
    "from sklearn.ensemble import AdaBoostClassifier\n",
    "from sklearn.ensemble import RandomForestClassifier\n",
    "\n",
    "# SK-learn libraries for evaluation.\n",
    "from sklearn.metrics import confusion_matrix\n",
    "from sklearn import metrics\n",
    "from sklearn.metrics import classification_report\n",
    "\n",
    "# SK-learn libraries for feature preprocessing.\n",
    "from sklearn import preprocessing\n",
    "\n",
    "# SK-learn libraries for dimensionality reduction.\n",
    "from sklearn.decomposition import PCA\n",
    "\n",
    "# Data analysis and plotting \n",
    "import pandas as pd\n",
    "import seaborn as sns\n",
    "from scipy import stats\n",
    "from sklearn.model_selection import train_test_split\n",
    "import copy\n",
    "import time\n",
    "\n",
    "np.random.seed(0)\n",
    "print (\"OK\")\n",
    "import tensorflow as tf\n",
    "print(\"Tensorflow version\", tf.__version__)\n",
    "\n",
    "%matplotlib inline\n"
   ]
  },
  {
   "cell_type": "markdown",
   "id": "6e21c8a0",
   "metadata": {
    "papermill": {
     "duration": 0.04212,
     "end_time": "2021-07-20T22:21:52.502219",
     "exception": false,
     "start_time": "2021-07-20T22:21:52.460099",
     "status": "completed"
    },
    "tags": []
   },
   "source": [
    "# Part 1: Data Loading, Processing and Exploratory Data Analysis"
   ]
  },
  {
   "cell_type": "markdown",
   "id": "fa03f225",
   "metadata": {},
   "source": [
    "### Dataset Description"
   ]
  },
  {
   "cell_type": "markdown",
   "id": "ad07ffca",
   "metadata": {},
   "source": [
    "\n",
    "**Labels**\n",
    "\n",
    "The study area includes four wilderness areas located in the Roosevelt National Forest of northern Colorado. Each observation is a 30m x 30m patch. You are asked to predict an integer classification for the forest cover type. The seven types are:\n",
    "\n",
    "1 - Spruce/Fir\n",
    "2 - Lodgepole Pine\n",
    "3 - Ponderosa Pine\n",
    "4 - Cottonwood/Willow\n",
    "5 - Aspen\n",
    "6 - Douglas-fir\n",
    "7 - Krummholz\n",
    "\n",
    "The training set (15120 observations) contains both features and the Cover_Type. The test set contains only the features. You must predict the Cover_Type for every row in the test set (565892 observations).\n",
    "\n",
    "**Data Fields**\n",
    "\n",
    "- Elevation - Elevation in meters\n",
    "- Aspect - Aspect in degrees azimuth\n",
    "- Slope - Slope in degrees\n",
    "- Horizontal_Distance_To_Hydrology - Horz Dist to nearest surface water features\n",
    "- Vertical_Distance_To_Hydrology - Vert Dist to nearest surface water features\n",
    "- Horizontal_Distance_To_Roadways - Horz Dist to nearest roadway\n",
    "- Hillshade_9am (0 to 255 index) - Hillshade index at 9am, summer solstice\n",
    "- Hillshade_Noon (0 to 255 index) - Hillshade index at noon, summer solstice\n",
    "- Hillshade_3pm (0 to 255 index) - Hillshade index at 3pm, summer solstice\n",
    "- Horizontal_Distance_To_Fire_Points - Horz Dist to nearest wildfire ignition points\n",
    "- Wilderness_Area (4 binary columns, 0 = absence or 1 = presence) - Wilderness area designation\n",
    "- Soil_Type (40 binary columns, 0 = absence or 1 = presence) - Soil Type designation\n",
    "- Cover_Type (7 types, integers 1 to 7) - Forest Cover Type designation\n",
    "\n",
    "**The wilderness areas are:**\n",
    "\n",
    "- 1 - Rawah Wilderness Area\n",
    "- 2 - Neota Wilderness Area\n",
    "- 3 - Comanche Peak Wilderness Area\n",
    "- 4 - Cache la Poudre Wilderness Area\n",
    "\n",
    "**The soil types are:**\n",
    "\n",
    "- 1 Cathedral family - Rock outcrop complex, extremely stony.\n",
    "- 2 Vanet - Ratake families complex, very stony.\n",
    "- 3 Haploborolis - Rock outcrop complex, rubbly.\n",
    "- 4 Ratake family - Rock outcrop complex, rubbly.\n",
    "- 5 Vanet family - Rock outcrop complex complex, rubbly.\n",
    "- 6 Vanet - Wetmore families - Rock outcrop complex, stony.\n",
    "- 7 Gothic family.\n",
    "- 8 Supervisor - Limber families complex.\n",
    "- 9 Troutville family, very stony.\n",
    "- 10 Bullwark - Catamount families - Rock outcrop complex, rubbly.\n",
    "- 11 Bullwark - Catamount families - Rock land complex, rubbly.\n",
    "- 12 Legault family - Rock land complex, stony.\n",
    "- 13 Catamount family - Rock land - Bullwark family complex, rubbly.\n",
    "- 14 Pachic Argiborolis - Aquolis complex.\n",
    "- 15 unspecified in the USFS Soil and ELU Survey.\n",
    "- 16 Cryaquolis - Cryoborolis complex.\n",
    "- 17 Gateview family - Cryaquolis complex.\n",
    "- 18 Rogert family, very stony.\n",
    "- 19 Typic Cryaquolis - Borohemists complex.\n",
    "- 20 Typic Cryaquepts - Typic Cryaquolls complex.\n",
    "- 21 Typic Cryaquolls - Leighcan family, till substratum complex.\n",
    "- 22 Leighcan family, till substratum, extremely bouldery.\n",
    "- 23 Leighcan family, till substratum - Typic Cryaquolls complex.\n",
    "- 24 Leighcan family, extremely stony.\n",
    "- 25 Leighcan family, warm, extremely stony.\n",
    "- 26 Granile - Catamount families complex, very stony.\n",
    "- 27 Leighcan family, warm - Rock outcrop complex, extremely stony.\n",
    "- 28 Leighcan family - Rock outcrop complex, extremely stony.\n",
    "- 29 Como - Legault families complex, extremely stony.\n",
    "- 30 Como family - Rock land - Legault family complex, extremely stony.\n",
    "- 31 Leighcan - Catamount families complex, extremely stony.\n",
    "- 32 Catamount family - Rock outcrop - Leighcan family complex, extremely stony.\n",
    "- 33 Leighcan - Catamount families - Rock outcrop complex, extremely stony.\n",
    "- 34 Cryorthents - Rock land complex, extremely stony.\n",
    "- 35 Cryumbrepts - Rock outcrop - Cryaquepts complex.\n",
    "- 36 Bross family - Rock land - Cryumbrepts complex, extremely stony.\n",
    "- 37 Rock outcrop - Cryumbrepts - Cryorthents complex, extremely stony.\n",
    "- 38 Leighcan - Moran families - Cryaquolls complex, extremely stony.\n",
    "- 39 Moran family - Cryorthents - Leighcan family complex, extremely stony.\n",
    "- 40 Moran family - Cryorthents - Rock land complex, extremely stony."
   ]
  },
  {
   "cell_type": "markdown",
   "id": "9227e657",
   "metadata": {},
   "source": [
    "## 1.1. Data Loading\n",
    "\n",
    "**Let's load just the training data**"
   ]
  },
  {
   "cell_type": "code",
   "execution_count": 3,
   "id": "e64debac",
   "metadata": {},
   "outputs": [
    {
     "name": "stdout",
     "output_type": "stream",
     "text": [
      "(15120, 56)\n",
      "(15120, 54)\n",
      "(15120,)\n"
     ]
    }
   ],
   "source": [
    "#loading train data\n",
    "train=pd.read_csv('train.csv')\n",
    "\n",
    "train_label = train.Cover_Type #setting the last column `Cover_type` as label for train dataset.\n",
    "\n",
    "# We also discard the 1st variable(ID), which does not provide any information about the forest cover type.\n",
    "train_data = train.drop(['Id', 'Cover_Type'], axis = 1)\n",
    "\n",
    "print(train.shape)\n",
    "print(train_data.shape)\n",
    "print(train_label.shape)\n",
    "\n",
    "#loading test data\n",
    "#test = pd.read_csv('test.csv')\n",
    "#test_data = test.drop(['Id'], axis = 1) # Dropping first column `Id`. There are no labels in the test data\n"
   ]
  },
  {
   "cell_type": "markdown",
   "id": "d03f6d19",
   "metadata": {},
   "source": [
    "**Observations**\n",
    "\n",
    "The original train dataset contains 15120 observations with 56 features.(containing both `Id` and the `Cover_Type`)\n",
    "\n",
    "**Explaining the features:**\n",
    "\n",
    "- All features are either continous or binary. There are no text fields.\n",
    "- Soil_Type fields are binary.\n",
    "- Wilderness Area fields are binary.\n",
    "- Without considering the first column, `ID`, The first 10 features of each observation (`Elevation` to `Horizontal_Distance_To_Fire_Points`) are continuous, with different ranges. All 10 features are numeric variables.\n",
    "- 4 of the remaining 44 binary features correspond to `Wilderness_Area` (i.e., there are 4 possible types), so any observation will have one 1 and three 0's in those columns. \n",
    "- The last 40 features correspond to the `Soil_Type` (i.e., there are 40 possible types), so any observation will have one 1 and thirty-nine 0's in those columns.\n",
    "\n",
    "\n",
    "**Training datset:**\n",
    "\n",
    "There are a total of 15120 observations in the training set, that contains 55 features and the `Cover_Type`.\n",
    "\n",
    "As a part of data processing,\n",
    "\n",
    "  - *The first column has been dropped, since it is not really a feature but more of an observation ID*\n",
    " \n",
    "  - *The last column is the train_label*\n",
    "\n",
    "This finally gives us a train dataset with **15120 observations** and **54 features**.\n"
   ]
  },
  {
   "cell_type": "markdown",
   "id": "8e07df01",
   "metadata": {},
   "source": [
    "### Split training data into training and validation data (develepment data)"
   ]
  },
  {
   "cell_type": "markdown",
   "id": "cd774740",
   "metadata": {},
   "source": [
    "*To evaluate our performance, we'll split the training set in 2 subsets: training data (90%) and development or validation data (10%).*\n",
    "\n",
    "*Test data must not be used to validate the models, because it introduces bias. Test data must be looked at just once in the whole model building process. Looking at test data multiple times introduces bias and we end up learning the error rate on test data beforehand and try to tweak the training parameters, which is not recommended.*"
   ]
  },
  {
   "cell_type": "code",
   "execution_count": 4,
   "id": "f94093a7",
   "metadata": {},
   "outputs": [
    {
     "name": "stdout",
     "output_type": "stream",
     "text": [
      "(13608, 54)\n",
      "(13608,)\n",
      "(1512, 54)\n",
      "(1512,)\n"
     ]
    }
   ],
   "source": [
    "# Shuffle the data, but make sure that the features and accompanying labels stay in sync.\n",
    "\n",
    "np.random.seed(0)\n",
    "shuffle = np.random.permutation(np.arange(train_data.shape[0]))\n",
    "#train_data = train_data.iloc[shuffle,:]\n",
    "train_data, train_label = train_data.iloc[shuffle], train_label.iloc[shuffle]\n",
    "\n",
    "# Split into train (90%) and dev (10%)\n",
    "\n",
    "train_data, dev_data, train_label, dev_label = train_test_split(train_data, train_label, train_size=0.90)\n",
    "\n",
    "print(train_data.shape)\n",
    "print(train_label.shape)\n",
    "print(dev_data.shape)\n",
    "print(dev_label.shape)"
   ]
  },
  {
   "cell_type": "markdown",
   "id": "20576ff3",
   "metadata": {},
   "source": [
    "## 1.2. Exploratory Data Analysis"
   ]
  },
  {
   "cell_type": "markdown",
   "id": "76f8a294",
   "metadata": {},
   "source": [
    "**Step 1: Describe the dataset**"
   ]
  },
  {
   "cell_type": "code",
   "execution_count": 57,
   "id": "90b19f19",
   "metadata": {
    "execution": {
     "iopub.execute_input": "2021-07-20T22:21:56.328557Z",
     "iopub.status.busy": "2021-07-20T22:21:56.327559Z",
     "iopub.status.idle": "2021-07-20T22:21:56.404418Z",
     "shell.execute_reply": "2021-07-20T22:21:56.403815Z",
     "shell.execute_reply.started": "2021-07-20T21:05:33.69494Z"
    },
    "papermill": {
     "duration": 0.12497,
     "end_time": "2021-07-20T22:21:56.404559",
     "exception": false,
     "start_time": "2021-07-20T22:21:56.279589",
     "status": "completed"
    },
    "tags": []
   },
   "outputs": [
    {
     "data": {
      "text/plain": [
       "Index(['Id', 'Elevation', 'Aspect', 'Slope',\n",
       "       'Horizontal_Distance_To_Hydrology', 'Vertical_Distance_To_Hydrology',\n",
       "       'Horizontal_Distance_To_Roadways', 'Hillshade_9am', 'Hillshade_Noon',\n",
       "       'Hillshade_3pm', 'Horizontal_Distance_To_Fire_Points',\n",
       "       'Wilderness_Area1', 'Wilderness_Area2', 'Wilderness_Area3',\n",
       "       'Wilderness_Area4', 'Soil_Type1', 'Soil_Type2', 'Soil_Type3',\n",
       "       'Soil_Type4', 'Soil_Type5', 'Soil_Type6', 'Soil_Type7', 'Soil_Type8',\n",
       "       'Soil_Type9', 'Soil_Type10', 'Soil_Type11', 'Soil_Type12',\n",
       "       'Soil_Type13', 'Soil_Type14', 'Soil_Type15', 'Soil_Type16',\n",
       "       'Soil_Type17', 'Soil_Type18', 'Soil_Type19', 'Soil_Type20',\n",
       "       'Soil_Type21', 'Soil_Type22', 'Soil_Type23', 'Soil_Type24',\n",
       "       'Soil_Type25', 'Soil_Type26', 'Soil_Type27', 'Soil_Type28',\n",
       "       'Soil_Type29', 'Soil_Type30', 'Soil_Type31', 'Soil_Type32',\n",
       "       'Soil_Type33', 'Soil_Type34', 'Soil_Type35', 'Soil_Type36',\n",
       "       'Soil_Type37', 'Soil_Type38', 'Soil_Type39', 'Soil_Type40',\n",
       "       'Cover_Type'],\n",
       "      dtype='object')"
      ]
     },
     "execution_count": 57,
     "metadata": {},
     "output_type": "execute_result"
    }
   ],
   "source": [
    "all_data=pd.read_csv('train.csv')\n",
    "\n",
    "#print(all_data.head())\n",
    "\n",
    "all_data.columns"
   ]
  },
  {
   "cell_type": "markdown",
   "id": "5745d35f",
   "metadata": {},
   "source": [
    "**Step 2: Look for unique values**"
   ]
  },
  {
   "cell_type": "code",
   "execution_count": 5,
   "id": "f14eff79",
   "metadata": {
    "execution": {
     "iopub.execute_input": "2021-07-20T22:21:56.496874Z",
     "iopub.status.busy": "2021-07-20T22:21:56.495785Z",
     "iopub.status.idle": "2021-07-20T22:21:56.529569Z",
     "shell.execute_reply": "2021-07-20T22:21:56.529037Z",
     "shell.execute_reply.started": "2021-07-20T21:05:33.802816Z"
    },
    "papermill": {
     "duration": 0.08133,
     "end_time": "2021-07-20T22:21:56.529725",
     "exception": false,
     "start_time": "2021-07-20T22:21:56.448395",
     "status": "completed"
    },
    "tags": []
   },
   "outputs": [
    {
     "data": {
      "text/plain": [
       "Id                                    15120\n",
       "Elevation                              1665\n",
       "Aspect                                  361\n",
       "Slope                                    52\n",
       "Horizontal_Distance_To_Hydrology        400\n",
       "Vertical_Distance_To_Hydrology          423\n",
       "Horizontal_Distance_To_Roadways        3250\n",
       "Hillshade_9am                           176\n",
       "Hillshade_Noon                          141\n",
       "Hillshade_3pm                           247\n",
       "Horizontal_Distance_To_Fire_Points     2710\n",
       "Wilderness_Area1                          2\n",
       "Wilderness_Area2                          2\n",
       "Wilderness_Area3                          2\n",
       "Wilderness_Area4                          2\n",
       "Soil_Type1                                2\n",
       "Soil_Type2                                2\n",
       "Soil_Type3                                2\n",
       "Soil_Type4                                2\n",
       "Soil_Type5                                2\n",
       "Soil_Type6                                2\n",
       "Soil_Type7                                1\n",
       "Soil_Type8                                2\n",
       "Soil_Type9                                2\n",
       "Soil_Type10                               2\n",
       "Soil_Type11                               2\n",
       "Soil_Type12                               2\n",
       "Soil_Type13                               2\n",
       "Soil_Type14                               2\n",
       "Soil_Type15                               1\n",
       "Soil_Type16                               2\n",
       "Soil_Type17                               2\n",
       "Soil_Type18                               2\n",
       "Soil_Type19                               2\n",
       "Soil_Type20                               2\n",
       "Soil_Type21                               2\n",
       "Soil_Type22                               2\n",
       "Soil_Type23                               2\n",
       "Soil_Type24                               2\n",
       "Soil_Type25                               2\n",
       "Soil_Type26                               2\n",
       "Soil_Type27                               2\n",
       "Soil_Type28                               2\n",
       "Soil_Type29                               2\n",
       "Soil_Type30                               2\n",
       "Soil_Type31                               2\n",
       "Soil_Type32                               2\n",
       "Soil_Type33                               2\n",
       "Soil_Type34                               2\n",
       "Soil_Type35                               2\n",
       "Soil_Type36                               2\n",
       "Soil_Type37                               2\n",
       "Soil_Type38                               2\n",
       "Soil_Type39                               2\n",
       "Soil_Type40                               2\n",
       "Cover_Type                                7\n",
       "dtype: int64"
      ]
     },
     "execution_count": 5,
     "metadata": {},
     "output_type": "execute_result"
    }
   ],
   "source": [
    "#Looking for the total number of unique values by column\n",
    "all_data.nunique()"
   ]
  },
  {
   "cell_type": "markdown",
   "id": "46c41500",
   "metadata": {},
   "source": [
    "**Step 3: Look for NA values**"
   ]
  },
  {
   "cell_type": "code",
   "execution_count": 6,
   "id": "e59dfb68",
   "metadata": {
    "execution": {
     "iopub.execute_input": "2021-07-20T22:21:56.622754Z",
     "iopub.status.busy": "2021-07-20T22:21:56.622073Z",
     "iopub.status.idle": "2021-07-20T22:21:56.629958Z",
     "shell.execute_reply": "2021-07-20T22:21:56.630447Z",
     "shell.execute_reply.started": "2021-07-20T21:05:33.841771Z"
    },
    "papermill": {
     "duration": 0.05729,
     "end_time": "2021-07-20T22:21:56.630633",
     "exception": false,
     "start_time": "2021-07-20T22:21:56.573343",
     "status": "completed"
    },
    "tags": []
   },
   "outputs": [
    {
     "data": {
      "text/plain": [
       "Id                                    0\n",
       "Elevation                             0\n",
       "Aspect                                0\n",
       "Slope                                 0\n",
       "Horizontal_Distance_To_Hydrology      0\n",
       "Vertical_Distance_To_Hydrology        0\n",
       "Horizontal_Distance_To_Roadways       0\n",
       "Hillshade_9am                         0\n",
       "Hillshade_Noon                        0\n",
       "Hillshade_3pm                         0\n",
       "Horizontal_Distance_To_Fire_Points    0\n",
       "Wilderness_Area1                      0\n",
       "Wilderness_Area2                      0\n",
       "Wilderness_Area3                      0\n",
       "Wilderness_Area4                      0\n",
       "Soil_Type1                            0\n",
       "Soil_Type2                            0\n",
       "Soil_Type3                            0\n",
       "Soil_Type4                            0\n",
       "Soil_Type5                            0\n",
       "Soil_Type6                            0\n",
       "Soil_Type7                            0\n",
       "Soil_Type8                            0\n",
       "Soil_Type9                            0\n",
       "Soil_Type10                           0\n",
       "Soil_Type11                           0\n",
       "Soil_Type12                           0\n",
       "Soil_Type13                           0\n",
       "Soil_Type14                           0\n",
       "Soil_Type15                           0\n",
       "Soil_Type16                           0\n",
       "Soil_Type17                           0\n",
       "Soil_Type18                           0\n",
       "Soil_Type19                           0\n",
       "Soil_Type20                           0\n",
       "Soil_Type21                           0\n",
       "Soil_Type22                           0\n",
       "Soil_Type23                           0\n",
       "Soil_Type24                           0\n",
       "Soil_Type25                           0\n",
       "Soil_Type26                           0\n",
       "Soil_Type27                           0\n",
       "Soil_Type28                           0\n",
       "Soil_Type29                           0\n",
       "Soil_Type30                           0\n",
       "Soil_Type31                           0\n",
       "Soil_Type32                           0\n",
       "Soil_Type33                           0\n",
       "Soil_Type34                           0\n",
       "Soil_Type35                           0\n",
       "Soil_Type36                           0\n",
       "Soil_Type37                           0\n",
       "Soil_Type38                           0\n",
       "Soil_Type39                           0\n",
       "Soil_Type40                           0\n",
       "Cover_Type                            0\n",
       "dtype: int64"
      ]
     },
     "execution_count": 6,
     "metadata": {},
     "output_type": "execute_result"
    }
   ],
   "source": [
    "#Checking for any na values\n",
    "all_data.isna().sum()\n",
    "#Result says we have none"
   ]
  },
  {
   "cell_type": "markdown",
   "id": "11366c85",
   "metadata": {},
   "source": [
    "**Observation:**\n",
    "\n",
    "There are no NA values in the data."
   ]
  },
  {
   "cell_type": "markdown",
   "id": "7f2f7ffb",
   "metadata": {},
   "source": [
    "**Step4: looking for outliers or miscoded values**"
   ]
  },
  {
   "cell_type": "code",
   "execution_count": 7,
   "id": "4e63a897",
   "metadata": {
    "execution": {
     "iopub.execute_input": "2021-07-20T22:21:56.730448Z",
     "iopub.status.busy": "2021-07-20T22:21:56.729732Z",
     "iopub.status.idle": "2021-07-20T22:21:56.900461Z",
     "shell.execute_reply": "2021-07-20T22:21:56.899878Z",
     "shell.execute_reply.started": "2021-07-20T21:05:33.855793Z"
    },
    "papermill": {
     "duration": 0.225553,
     "end_time": "2021-07-20T22:21:56.900602",
     "exception": false,
     "start_time": "2021-07-20T22:21:56.675049",
     "status": "completed"
    },
    "tags": []
   },
   "outputs": [
    {
     "data": {
      "text/html": [
       "<div>\n",
       "<style scoped>\n",
       "    .dataframe tbody tr th:only-of-type {\n",
       "        vertical-align: middle;\n",
       "    }\n",
       "\n",
       "    .dataframe tbody tr th {\n",
       "        vertical-align: top;\n",
       "    }\n",
       "\n",
       "    .dataframe thead th {\n",
       "        text-align: right;\n",
       "    }\n",
       "</style>\n",
       "<table border=\"1\" class=\"dataframe\">\n",
       "  <thead>\n",
       "    <tr style=\"text-align: right;\">\n",
       "      <th></th>\n",
       "      <th>Id</th>\n",
       "      <th>Elevation</th>\n",
       "      <th>Aspect</th>\n",
       "      <th>Slope</th>\n",
       "      <th>Horizontal_Distance_To_Hydrology</th>\n",
       "      <th>Vertical_Distance_To_Hydrology</th>\n",
       "      <th>Horizontal_Distance_To_Roadways</th>\n",
       "      <th>Hillshade_9am</th>\n",
       "      <th>Hillshade_Noon</th>\n",
       "      <th>Hillshade_3pm</th>\n",
       "      <th>...</th>\n",
       "      <th>Soil_Type32</th>\n",
       "      <th>Soil_Type33</th>\n",
       "      <th>Soil_Type34</th>\n",
       "      <th>Soil_Type35</th>\n",
       "      <th>Soil_Type36</th>\n",
       "      <th>Soil_Type37</th>\n",
       "      <th>Soil_Type38</th>\n",
       "      <th>Soil_Type39</th>\n",
       "      <th>Soil_Type40</th>\n",
       "      <th>Cover_Type</th>\n",
       "    </tr>\n",
       "  </thead>\n",
       "  <tbody>\n",
       "    <tr>\n",
       "      <th>count</th>\n",
       "      <td>15120.00000</td>\n",
       "      <td>15120.000000</td>\n",
       "      <td>15120.000000</td>\n",
       "      <td>15120.000000</td>\n",
       "      <td>15120.000000</td>\n",
       "      <td>15120.000000</td>\n",
       "      <td>15120.000000</td>\n",
       "      <td>15120.000000</td>\n",
       "      <td>15120.000000</td>\n",
       "      <td>15120.000000</td>\n",
       "      <td>...</td>\n",
       "      <td>15120.000000</td>\n",
       "      <td>15120.000000</td>\n",
       "      <td>15120.000000</td>\n",
       "      <td>15120.000000</td>\n",
       "      <td>15120.000000</td>\n",
       "      <td>15120.000000</td>\n",
       "      <td>15120.000000</td>\n",
       "      <td>15120.000000</td>\n",
       "      <td>15120.000000</td>\n",
       "      <td>15120.000000</td>\n",
       "    </tr>\n",
       "    <tr>\n",
       "      <th>mean</th>\n",
       "      <td>7560.50000</td>\n",
       "      <td>2749.322553</td>\n",
       "      <td>156.676653</td>\n",
       "      <td>16.501587</td>\n",
       "      <td>227.195701</td>\n",
       "      <td>51.076521</td>\n",
       "      <td>1714.023214</td>\n",
       "      <td>212.704299</td>\n",
       "      <td>218.965608</td>\n",
       "      <td>135.091997</td>\n",
       "      <td>...</td>\n",
       "      <td>0.045635</td>\n",
       "      <td>0.040741</td>\n",
       "      <td>0.001455</td>\n",
       "      <td>0.006746</td>\n",
       "      <td>0.000661</td>\n",
       "      <td>0.002249</td>\n",
       "      <td>0.048148</td>\n",
       "      <td>0.043452</td>\n",
       "      <td>0.030357</td>\n",
       "      <td>4.000000</td>\n",
       "    </tr>\n",
       "    <tr>\n",
       "      <th>std</th>\n",
       "      <td>4364.91237</td>\n",
       "      <td>417.678187</td>\n",
       "      <td>110.085801</td>\n",
       "      <td>8.453927</td>\n",
       "      <td>210.075296</td>\n",
       "      <td>61.239406</td>\n",
       "      <td>1325.066358</td>\n",
       "      <td>30.561287</td>\n",
       "      <td>22.801966</td>\n",
       "      <td>45.895189</td>\n",
       "      <td>...</td>\n",
       "      <td>0.208699</td>\n",
       "      <td>0.197696</td>\n",
       "      <td>0.038118</td>\n",
       "      <td>0.081859</td>\n",
       "      <td>0.025710</td>\n",
       "      <td>0.047368</td>\n",
       "      <td>0.214086</td>\n",
       "      <td>0.203880</td>\n",
       "      <td>0.171574</td>\n",
       "      <td>2.000066</td>\n",
       "    </tr>\n",
       "    <tr>\n",
       "      <th>min</th>\n",
       "      <td>1.00000</td>\n",
       "      <td>1863.000000</td>\n",
       "      <td>0.000000</td>\n",
       "      <td>0.000000</td>\n",
       "      <td>0.000000</td>\n",
       "      <td>-146.000000</td>\n",
       "      <td>0.000000</td>\n",
       "      <td>0.000000</td>\n",
       "      <td>99.000000</td>\n",
       "      <td>0.000000</td>\n",
       "      <td>...</td>\n",
       "      <td>0.000000</td>\n",
       "      <td>0.000000</td>\n",
       "      <td>0.000000</td>\n",
       "      <td>0.000000</td>\n",
       "      <td>0.000000</td>\n",
       "      <td>0.000000</td>\n",
       "      <td>0.000000</td>\n",
       "      <td>0.000000</td>\n",
       "      <td>0.000000</td>\n",
       "      <td>1.000000</td>\n",
       "    </tr>\n",
       "    <tr>\n",
       "      <th>25%</th>\n",
       "      <td>3780.75000</td>\n",
       "      <td>2376.000000</td>\n",
       "      <td>65.000000</td>\n",
       "      <td>10.000000</td>\n",
       "      <td>67.000000</td>\n",
       "      <td>5.000000</td>\n",
       "      <td>764.000000</td>\n",
       "      <td>196.000000</td>\n",
       "      <td>207.000000</td>\n",
       "      <td>106.000000</td>\n",
       "      <td>...</td>\n",
       "      <td>0.000000</td>\n",
       "      <td>0.000000</td>\n",
       "      <td>0.000000</td>\n",
       "      <td>0.000000</td>\n",
       "      <td>0.000000</td>\n",
       "      <td>0.000000</td>\n",
       "      <td>0.000000</td>\n",
       "      <td>0.000000</td>\n",
       "      <td>0.000000</td>\n",
       "      <td>2.000000</td>\n",
       "    </tr>\n",
       "    <tr>\n",
       "      <th>50%</th>\n",
       "      <td>7560.50000</td>\n",
       "      <td>2752.000000</td>\n",
       "      <td>126.000000</td>\n",
       "      <td>15.000000</td>\n",
       "      <td>180.000000</td>\n",
       "      <td>32.000000</td>\n",
       "      <td>1316.000000</td>\n",
       "      <td>220.000000</td>\n",
       "      <td>223.000000</td>\n",
       "      <td>138.000000</td>\n",
       "      <td>...</td>\n",
       "      <td>0.000000</td>\n",
       "      <td>0.000000</td>\n",
       "      <td>0.000000</td>\n",
       "      <td>0.000000</td>\n",
       "      <td>0.000000</td>\n",
       "      <td>0.000000</td>\n",
       "      <td>0.000000</td>\n",
       "      <td>0.000000</td>\n",
       "      <td>0.000000</td>\n",
       "      <td>4.000000</td>\n",
       "    </tr>\n",
       "    <tr>\n",
       "      <th>75%</th>\n",
       "      <td>11340.25000</td>\n",
       "      <td>3104.000000</td>\n",
       "      <td>261.000000</td>\n",
       "      <td>22.000000</td>\n",
       "      <td>330.000000</td>\n",
       "      <td>79.000000</td>\n",
       "      <td>2270.000000</td>\n",
       "      <td>235.000000</td>\n",
       "      <td>235.000000</td>\n",
       "      <td>167.000000</td>\n",
       "      <td>...</td>\n",
       "      <td>0.000000</td>\n",
       "      <td>0.000000</td>\n",
       "      <td>0.000000</td>\n",
       "      <td>0.000000</td>\n",
       "      <td>0.000000</td>\n",
       "      <td>0.000000</td>\n",
       "      <td>0.000000</td>\n",
       "      <td>0.000000</td>\n",
       "      <td>0.000000</td>\n",
       "      <td>6.000000</td>\n",
       "    </tr>\n",
       "    <tr>\n",
       "      <th>max</th>\n",
       "      <td>15120.00000</td>\n",
       "      <td>3849.000000</td>\n",
       "      <td>360.000000</td>\n",
       "      <td>52.000000</td>\n",
       "      <td>1343.000000</td>\n",
       "      <td>554.000000</td>\n",
       "      <td>6890.000000</td>\n",
       "      <td>254.000000</td>\n",
       "      <td>254.000000</td>\n",
       "      <td>248.000000</td>\n",
       "      <td>...</td>\n",
       "      <td>1.000000</td>\n",
       "      <td>1.000000</td>\n",
       "      <td>1.000000</td>\n",
       "      <td>1.000000</td>\n",
       "      <td>1.000000</td>\n",
       "      <td>1.000000</td>\n",
       "      <td>1.000000</td>\n",
       "      <td>1.000000</td>\n",
       "      <td>1.000000</td>\n",
       "      <td>7.000000</td>\n",
       "    </tr>\n",
       "  </tbody>\n",
       "</table>\n",
       "<p>8 rows × 56 columns</p>\n",
       "</div>"
      ],
      "text/plain": [
       "                Id     Elevation        Aspect         Slope  \\\n",
       "count  15120.00000  15120.000000  15120.000000  15120.000000   \n",
       "mean    7560.50000   2749.322553    156.676653     16.501587   \n",
       "std     4364.91237    417.678187    110.085801      8.453927   \n",
       "min        1.00000   1863.000000      0.000000      0.000000   \n",
       "25%     3780.75000   2376.000000     65.000000     10.000000   \n",
       "50%     7560.50000   2752.000000    126.000000     15.000000   \n",
       "75%    11340.25000   3104.000000    261.000000     22.000000   \n",
       "max    15120.00000   3849.000000    360.000000     52.000000   \n",
       "\n",
       "       Horizontal_Distance_To_Hydrology  Vertical_Distance_To_Hydrology  \\\n",
       "count                      15120.000000                    15120.000000   \n",
       "mean                         227.195701                       51.076521   \n",
       "std                          210.075296                       61.239406   \n",
       "min                            0.000000                     -146.000000   \n",
       "25%                           67.000000                        5.000000   \n",
       "50%                          180.000000                       32.000000   \n",
       "75%                          330.000000                       79.000000   \n",
       "max                         1343.000000                      554.000000   \n",
       "\n",
       "       Horizontal_Distance_To_Roadways  Hillshade_9am  Hillshade_Noon  \\\n",
       "count                     15120.000000   15120.000000    15120.000000   \n",
       "mean                       1714.023214     212.704299      218.965608   \n",
       "std                        1325.066358      30.561287       22.801966   \n",
       "min                           0.000000       0.000000       99.000000   \n",
       "25%                         764.000000     196.000000      207.000000   \n",
       "50%                        1316.000000     220.000000      223.000000   \n",
       "75%                        2270.000000     235.000000      235.000000   \n",
       "max                        6890.000000     254.000000      254.000000   \n",
       "\n",
       "       Hillshade_3pm  ...   Soil_Type32   Soil_Type33   Soil_Type34  \\\n",
       "count   15120.000000  ...  15120.000000  15120.000000  15120.000000   \n",
       "mean      135.091997  ...      0.045635      0.040741      0.001455   \n",
       "std        45.895189  ...      0.208699      0.197696      0.038118   \n",
       "min         0.000000  ...      0.000000      0.000000      0.000000   \n",
       "25%       106.000000  ...      0.000000      0.000000      0.000000   \n",
       "50%       138.000000  ...      0.000000      0.000000      0.000000   \n",
       "75%       167.000000  ...      0.000000      0.000000      0.000000   \n",
       "max       248.000000  ...      1.000000      1.000000      1.000000   \n",
       "\n",
       "        Soil_Type35   Soil_Type36   Soil_Type37   Soil_Type38   Soil_Type39  \\\n",
       "count  15120.000000  15120.000000  15120.000000  15120.000000  15120.000000   \n",
       "mean       0.006746      0.000661      0.002249      0.048148      0.043452   \n",
       "std        0.081859      0.025710      0.047368      0.214086      0.203880   \n",
       "min        0.000000      0.000000      0.000000      0.000000      0.000000   \n",
       "25%        0.000000      0.000000      0.000000      0.000000      0.000000   \n",
       "50%        0.000000      0.000000      0.000000      0.000000      0.000000   \n",
       "75%        0.000000      0.000000      0.000000      0.000000      0.000000   \n",
       "max        1.000000      1.000000      1.000000      1.000000      1.000000   \n",
       "\n",
       "        Soil_Type40    Cover_Type  \n",
       "count  15120.000000  15120.000000  \n",
       "mean       0.030357      4.000000  \n",
       "std        0.171574      2.000066  \n",
       "min        0.000000      1.000000  \n",
       "25%        0.000000      2.000000  \n",
       "50%        0.000000      4.000000  \n",
       "75%        0.000000      6.000000  \n",
       "max        1.000000      7.000000  \n",
       "\n",
       "[8 rows x 56 columns]"
      ]
     },
     "execution_count": 7,
     "metadata": {},
     "output_type": "execute_result"
    }
   ],
   "source": [
    "#looking for outliers or miscoded values\n",
    "all_data.describe()"
   ]
  },
  {
   "cell_type": "markdown",
   "id": "0f05b813",
   "metadata": {},
   "source": [
    "**Step 5: Let's take a look at the distribution of values, for the continuous variables**"
   ]
  },
  {
   "cell_type": "code",
   "execution_count": 8,
   "id": "c04c281e",
   "metadata": {},
   "outputs": [
    {
     "data": {
      "image/png": "[encoded data removed]",
      "text/plain": [
       "<Figure size 1152x864 with 12 Axes>"
      ]
     },
     "metadata": {
      "needs_background": "light"
     },
     "output_type": "display_data"
    }
   ],
   "source": [
    "train_df = all_data.iloc[:,1:11]\n",
    "train_df.hist(figsize=(16,12),bins=50)\n",
    "plt.show()"
   ]
  },
  {
   "cell_type": "markdown",
   "id": "924f1abe",
   "metadata": {},
   "source": [
    "We noticed that the histogram of `Hillshade_3pm` contains several 0's, in the training set, which might make us think of missing values coded with 0, but according to the dataset description, this feaure can take value as 0, so these entries are valid.\n"
   ]
  },
  {
   "cell_type": "markdown",
   "id": "46cd1ae3",
   "metadata": {},
   "source": [
    "**Step 6: The next thing we should examine is the distribution of our variable of interest, `Cover_Type` in the data set.**"
   ]
  },
  {
   "cell_type": "code",
   "execution_count": 9,
   "id": "a3606010",
   "metadata": {
    "execution": {
     "iopub.execute_input": "2021-07-20T22:21:56.997623Z",
     "iopub.status.busy": "2021-07-20T22:21:56.996951Z",
     "iopub.status.idle": "2021-07-20T22:21:57.376098Z",
     "shell.execute_reply": "2021-07-20T22:21:57.375557Z",
     "shell.execute_reply.started": "2021-07-20T21:05:34.039452Z"
    },
    "papermill": {
     "duration": 0.430587,
     "end_time": "2021-07-20T22:21:57.376256",
     "exception": false,
     "start_time": "2021-07-20T22:21:56.945669",
     "status": "completed"
    },
    "tags": []
   },
   "outputs": [
    {
     "data": {
      "image/png": "[encoded data removed]",
      "text/plain": [
       "<Figure size 432x288 with 1 Axes>"
      ]
     },
     "metadata": {},
     "output_type": "display_data"
    }
   ],
   "source": [
    "sns.set(style=\"darkgrid\")\n",
    "ax = sns.countplot(x=\"Cover_Type\", data=all_data)"
   ]
  },
  {
   "cell_type": "markdown",
   "id": "6280203d",
   "metadata": {},
   "source": [
    "It looks like there is a perfectly even distribution of 'Cover_Type' in our data. This is ideal, as it means we have an equal number of examples for each of our data types, allowing us to avoid a situation where one type in particular is predicted poorly due to a lack of examples.\n"
   ]
  },
  {
   "cell_type": "markdown",
   "id": "7e9ac341",
   "metadata": {},
   "source": [
    "**Step 7: The next thing for us to examine is the distribution of our feature variables across the target variable. This should allow us some insight into which variables might be useful for prediction.**"
   ]
  },
  {
   "cell_type": "code",
   "execution_count": 10,
   "id": "28f5c50c",
   "metadata": {
    "execution": {
     "iopub.execute_input": "2021-07-20T22:21:57.497906Z",
     "iopub.status.busy": "2021-07-20T22:21:57.497279Z",
     "iopub.status.idle": "2021-07-20T22:22:00.293066Z",
     "shell.execute_reply": "2021-07-20T22:22:00.293590Z",
     "shell.execute_reply.started": "2021-07-20T21:05:34.430286Z"
    },
    "papermill": {
     "duration": 2.871457,
     "end_time": "2021-07-20T22:22:00.293762",
     "exception": false,
     "start_time": "2021-07-20T22:21:57.422305",
     "status": "completed"
    },
    "tags": []
   },
   "outputs": [
    {
     "data": {
      "image/png": "[encoded data removed]",
      "text/plain": [
       "<Figure size 1800x2880 with 10 Axes>"
      ]
     },
     "metadata": {},
     "output_type": "display_data"
    }
   ],
   "source": [
    "#Next lets look at the distribution of the numeric variables across cover types.\n",
    "plotcount=10\n",
    "fig, axes = plt.subplots(nrows = 5,ncols = 2,figsize = (25,40))\n",
    "for i in range(0,plotcount):\n",
    "    row = i // 2\n",
    "    col = i % 2\n",
    "    ax1 = axes[row, col]\n",
    "    sns.boxplot(x=\"Cover_Type\", y=all_data.columns[i+1], data=all_data,ax=ax1);"
   ]
  },
  {
   "cell_type": "markdown",
   "id": "c2f8c399",
   "metadata": {},
   "source": [
    "As we can see from the boxplots above, many of our continuous variables have a very similar distribution across cover types. The only one that stands out by eye is \"Elevation\", which appears to vary quite differently by each cover type.\n"
   ]
  },
  {
   "cell_type": "markdown",
   "id": "cbffef89",
   "metadata": {},
   "source": [
    "**Step 8: Another important piece to examine is the correlation of each of the continuous explanatory variables with each other. Too high of a correlation, or even a perfect correlation, between too many features could be problematic for our model.**"
   ]
  },
  {
   "cell_type": "code",
   "execution_count": 11,
   "id": "783abe21",
   "metadata": {
    "execution": {
     "iopub.execute_input": "2021-07-20T22:22:00.401502Z",
     "iopub.status.busy": "2021-07-20T22:22:00.400798Z",
     "iopub.status.idle": "2021-07-20T22:22:00.871106Z",
     "shell.execute_reply": "2021-07-20T22:22:00.871692Z",
     "shell.execute_reply.started": "2021-07-20T21:05:37.27732Z"
    },
    "papermill": {
     "duration": 0.527049,
     "end_time": "2021-07-20T22:22:00.871883",
     "exception": false,
     "start_time": "2021-07-20T22:22:00.344834",
     "status": "completed"
    },
    "tags": []
   },
   "outputs": [
    {
     "data": {
      "image/png": "[encoded data removed]",
      "text/plain": [
       "<Figure size 864x648 with 2 Axes>"
      ]
     },
     "metadata": {},
     "output_type": "display_data"
    }
   ],
   "source": [
    "#let's look at the numeric predictor variables and see which are correlated\n",
    "correlations = all_data.iloc[:,1:11].corr()\n",
    "f, ax = plt.subplots(figsize=(12, 9))\n",
    "sns.heatmap(correlations, vmax=.8, square=True);"
   ]
  },
  {
   "cell_type": "markdown",
   "id": "b14767ce",
   "metadata": {},
   "source": [
    "It looks like there are some variables that are highly correlated. Many of them make intuitive sense. For example, Slope and Hillshade at noon are highly correlated. This makes sense, as the slope of a hill will have a direct impact on the shade when the sun is directly overhead. Likewise, Aspect (also known as the direction the hill is facing) is highly correlated with shade in the morning and evening. When the sun is low in the sky on either side, east or west facing slopes will have very different amounts of shade.\n",
    "\n",
    "Luckily for us it appears that nothing has a perfect correlation, which could adversely affect something like a regression model, but the high correlation between these variables may make them less useful when fitting our classifiers.\n"
   ]
  },
  {
   "cell_type": "markdown",
   "id": "42117872",
   "metadata": {},
   "source": [
    "**Step 9: Finally we need to look at our categorical variables. We will plot each of the 3 groups of categorical variables (Cover Type, Soil Type and Wilderness Area) against each other to look for any patterns.**"
   ]
  },
  {
   "cell_type": "code",
   "execution_count": 12,
   "id": "fd8e917c",
   "metadata": {
    "execution": {
     "iopub.execute_input": "2021-07-20T22:22:00.989337Z",
     "iopub.status.busy": "2021-07-20T22:22:00.988646Z",
     "iopub.status.idle": "2021-07-20T22:22:04.004655Z",
     "shell.execute_reply": "2021-07-20T22:22:04.005161Z",
     "shell.execute_reply.started": "2021-07-20T21:05:37.730818Z"
    },
    "papermill": {
     "duration": 3.079612,
     "end_time": "2021-07-20T22:22:04.005351",
     "exception": false,
     "start_time": "2021-07-20T22:22:00.925739",
     "status": "completed"
    },
    "scrolled": false,
    "tags": []
   },
   "outputs": [
    {
     "name": "stdout",
     "output_type": "stream",
     "text": [
      "0        Soil_Type29\n",
      "1        Soil_Type29\n",
      "2        Soil_Type12\n",
      "3        Soil_Type30\n",
      "4        Soil_Type29\n",
      "            ...     \n",
      "15115     Soil_Type4\n",
      "15116     Soil_Type4\n",
      "15117     Soil_Type4\n",
      "15118     Soil_Type4\n",
      "15119     Soil_Type2\n",
      "Length: 15120, dtype: object\n"
     ]
    },
    {
     "data": {
      "text/plain": [
       "<AxesSubplot:xlabel='soil'>"
      ]
     },
     "execution_count": 12,
     "metadata": {},
     "output_type": "execute_result"
    },
    {
     "data": {
      "image/png": "[encoded data removed]",
      "text/plain": [
       "<Figure size 1800x3240 with 3 Axes>"
      ]
     },
     "metadata": {},
     "output_type": "display_data"
    }
   ],
   "source": [
    "soil_type = all_data.iloc[:,15:55]\n",
    "soil_type = pd.DataFrame(soil_type)\n",
    "soil_col = pd.Series(soil_type.columns[np.where(soil_type == 1)[1]])\n",
    "print(soil_col)\n",
    "\n",
    "wild_type = all_data.iloc[:,11:15]\n",
    "wild_type = pd.DataFrame(wild_type)\n",
    "wild_col = pd.Series(wild_type.columns[np.where(wild_type == 1)[1]])\n",
    "\n",
    "import copy\n",
    "\n",
    "plot_data = copy.deepcopy(all_data)\n",
    "plot_data['soil'] = soil_col\n",
    "plot_data['wilderness'] = wild_col\n",
    "\n",
    "fig, axes = plt.subplots(nrows = 3,ncols = 1,figsize = (25,45))\n",
    "\n",
    "ax1 = axes[0]\n",
    "pd.crosstab(plot_data.soil, plot_data.wilderness).plot.bar(stacked = True, ax = ax1)\n",
    "\n",
    "ax2 = axes[1]\n",
    "pd.crosstab(plot_data.wilderness, plot_data.Cover_Type).plot.bar(stacked = True, ax = ax2)\n",
    "\n",
    "ax3 = axes[2]\n",
    "pd.crosstab(plot_data.soil, plot_data.Cover_Type).plot.bar(stacked = True, ax = ax3)"
   ]
  },
  {
   "cell_type": "markdown",
   "id": "d00f3c20",
   "metadata": {},
   "source": [
    "There are absolutely some striking and promising patterns in this data. Firstly we see that some soil types and wilderness areas are mutually exclusive, with certain soils only appearing in certain areas. Likewise, we see that certain cover types are completely absent from certain soil types or wilderness areas. This should mean that these variables will be strongly indicative of what cover type we can expect."
   ]
  },
  {
   "cell_type": "markdown",
   "id": "900beeac",
   "metadata": {},
   "source": [
    "## 1.3. Data Preprocessing"
   ]
  },
  {
   "cell_type": "markdown",
   "id": "9162ef78",
   "metadata": {},
   "source": [
    "\n",
    "In order to make continuous variable comparable to the binary features, we will be using `preprocessing.MinMaxScaler`, to standardize them by scaling each feature to a given range; [0,1].\n",
    "This can help in `Logistic regression` model and `kNN` model.\n",
    "\n",
    "We also use `preprocessing.StandardScaler`, to standardize 10 continuous feature by moving the mean and scaling to unit variance),\n",
    "\n",
    "With scaled features, there is no surity that the model results will improve, although it is mandatory in this case, since the dataset is a combination of continuous and binary features."
   ]
  },
  {
   "cell_type": "code",
   "execution_count": 7,
   "id": "13db3877",
   "metadata": {},
   "outputs": [
    {
     "name": "stdout",
     "output_type": "stream",
     "text": [
      "(13608, 54)\n"
     ]
    }
   ],
   "source": [
    "# Scale to mean = 0, sd = 1 using StandardScaler\n",
    "from sklearn.preprocessing import MinMaxScaler\n",
    "from sklearn.preprocessing import StandardScaler\n",
    "std_scaler = preprocessing.StandardScaler()\n",
    "\n",
    "train_data_std = copy.deepcopy(train_data)\n",
    "dev_data_std = copy.deepcopy(dev_data)\n",
    "#test_data_std = copy.deepcopy(test_data)\n",
    "\n",
    "# only for the continuous features (first 10 columns in the train_data, dev_data and test_data)\n",
    "train_data_std.iloc[:, :10] = std_scaler.fit_transform(train_data_std.iloc[:, :10])\n",
    "dev_data_std.iloc[:, :10] = std_scaler.transform(dev_data_std.iloc[:, :10])\n",
    "#test_data_std.iloc[:, :10] = std_scaler.transform(test_data_std.iloc[:, :10])\n",
    "\n",
    "# Scale to range [0,1] using MinMaxScaler\n",
    "min_max_scaler = preprocessing.MinMaxScaler()\n",
    "\n",
    "train_data_minmax = copy.deepcopy(train_data)\n",
    "dev_data_minmax = copy.deepcopy(dev_data)\n",
    "#test_data_minmax = copy.deepcopy(test_data)\n",
    "\n",
    "# Only for the continuous features (first 10 columns in the train_data, dev_data and test_data)\n",
    "train_data_minmax.iloc[:, :10] = min_max_scaler.fit_transform(train_data.iloc[:, :10])\n",
    "dev_data_minmax.iloc[:, :10] = min_max_scaler.transform(dev_data.iloc[:, :10])\n",
    "#test_data_minmax.iloc[:, :10] = min_max_scaler.transform(test_data.iloc[:, :10])\n",
    "\n",
    "# Feature Binarization is the process of thresholding numerical features to get boolean values,(first 10 columns in the train_data, dev_data and test_data, since they are non-binary features)\n",
    "# Binarize feature values to either 0 or 1, using binarizer\n",
    "binarizer = preprocessing.Binarizer()\n",
    "\n",
    "train_data_b = copy.deepcopy(train_data)\n",
    "dev_data_b = copy.deepcopy(dev_data)\n",
    "#test_data_b = copy.deepcopy(test_data)\n",
    "\n",
    "# Only for the continuous features (first 10 columns in the train_data, dev_data and test_data)\n",
    "train_data_b.iloc[:, :10] = binarizer.fit_transform(train_data.iloc[:, :10])\n",
    "dev_data_b.iloc[:, :10] = binarizer.transform(dev_data.iloc[:, :10])\n",
    "#test_data_b.iloc[:, :10] = binarizer.transform(test_data.iloc[:, :10])\n",
    "\n",
    "print(train_data_b.shape)\n",
    "#print(train_data_b.head())\n"
   ]
  },
  {
   "cell_type": "markdown",
   "id": "e699d8ff",
   "metadata": {},
   "source": [
    "# Part 2 : Modelling"
   ]
  },
  {
   "cell_type": "markdown",
   "id": "146027f0",
   "metadata": {
    "papermill": {
     "duration": 0.058649,
     "end_time": "2021-07-20T22:22:09.360302",
     "exception": false,
     "start_time": "2021-07-20T22:22:09.301653",
     "status": "completed"
    },
    "tags": []
   },
   "source": [
    "## Model 1:  \n",
    "## k-Nearest Neighbors(kNN)"
   ]
  },
  {
   "cell_type": "markdown",
   "id": "7c3f424b",
   "metadata": {
    "papermill": {
     "duration": 0.057232,
     "end_time": "2021-07-20T22:22:09.475533",
     "exception": false,
     "start_time": "2021-07-20T22:22:09.418301",
     "status": "completed"
    },
    "tags": []
   },
   "source": [
    "Let's run an experiment with Nearest Neighbors classifier, using fit() and predict() methods from the sklearn classifier implementations.\n",
    "\n",
    "Let's start by finding the optimal k"
   ]
  },
  {
   "cell_type": "code",
   "execution_count": 14,
   "id": "8f4a3a25",
   "metadata": {
    "execution": {
     "iopub.execute_input": "2021-07-20T22:22:09.596711Z",
     "iopub.status.busy": "2021-07-20T22:22:09.596009Z",
     "iopub.status.idle": "2021-07-20T22:22:32.275583Z",
     "shell.execute_reply": "2021-07-20T22:22:32.276358Z",
     "shell.execute_reply.started": "2021-07-20T21:05:46.131305Z"
    },
    "papermill": {
     "duration": 22.743675,
     "end_time": "2021-07-20T22:22:32.276587",
     "exception": false,
     "start_time": "2021-07-20T22:22:09.532912",
     "status": "completed"
    },
    "tags": []
   },
   "outputs": [
    {
     "name": "stdout",
     "output_type": "stream",
     "text": [
      "The optimal value for k is 1\n"
     ]
    }
   ],
   "source": [
    "# Estimate by cross-validation of the optimal number of neighbors (k)\n",
    "# Try between 1 and the number of features (54)\n",
    "#k = {'n_neighbors': np.concatenate([np.arange(1, train_data.shape[1]+1)]).tolist()}\n",
    "# The optimal value is low, so let's narrow the search from 1 to 11\n",
    "k = {'n_neighbors': np.concatenate([np.arange(1, 10+1)]).tolist()}\n",
    "best_param_kNN = GridSearchCV(KNeighborsClassifier(), k, scoring='accuracy')\n",
    "best_param_kNN.fit(train_data, train_label)\n",
    "optimal_k = best_param_kNN.best_params_['n_neighbors']\n",
    "print ('The optimal value for k is {0}'.format(optimal_k))"
   ]
  },
  {
   "cell_type": "code",
   "execution_count": 67,
   "id": "7969837a",
   "metadata": {
    "execution": {
     "iopub.execute_input": "2021-07-20T22:22:32.408395Z",
     "iopub.status.busy": "2021-07-20T22:22:32.407326Z",
     "iopub.status.idle": "2021-07-20T22:22:34.777124Z",
     "shell.execute_reply": "2021-07-20T22:22:34.776565Z",
     "shell.execute_reply.started": "2021-07-20T21:06:08.934275Z"
    },
    "papermill": {
     "duration": 2.440172,
     "end_time": "2021-07-20T22:22:34.777273",
     "exception": false,
     "start_time": "2021-07-20T22:22:32.337101",
     "status": "completed"
    },
    "tags": []
   },
   "outputs": [
    {
     "name": "stdout",
     "output_type": "stream",
     "text": [
      "Accuracy using non-scaled data: 0.8452\n",
      "Train time = 0.40\n",
      "\n",
      "Accuracy using standardized data: 0.8075\n",
      "Train time = 0.39\n",
      "\n",
      "Accuracy using scaled-to-range data: 0.8234\n",
      "Train time = 0.37\n"
     ]
    }
   ],
   "source": [
    "# first approach of finding kNN with different data manipulations\n",
    "\n",
    "kNN = KNeighborsClassifier(n_neighbors=optimal_k)\n",
    "\n",
    "start_time = time.time()\n",
    "kNN.fit(train_data, train_label)\n",
    "print ('Accuracy using non-scaled data: {0:.4f}'.format(kNN.score(dev_data, dev_label)))\n",
    "print ('Train time = %.2f' %(time.time() - start_time))\n",
    "\n",
    "start_time = time.time()\n",
    "kNN.fit(train_data_std, train_label)\n",
    "print ('\\nAccuracy using standardized data: {0:.4f}'.format(kNN.score(dev_data_std, dev_label)))\n",
    "print ('Train time = %.2f' %(time.time() - start_time))\n",
    "\n",
    "start_time = time.time()\n",
    "kNN.fit(train_data_minmax, train_label)\n",
    "print ('\\nAccuracy using scaled-to-range data: {0:.4f}'.format(kNN.score(dev_data_minmax, dev_label)))\n",
    "print ('Train time = %.2f' %(time.time() - start_time))"
   ]
  },
  {
   "cell_type": "markdown",
   "id": "03529cea",
   "metadata": {
    "papermill": {
     "duration": 0.057472,
     "end_time": "2021-07-20T22:22:34.893366",
     "exception": false,
     "start_time": "2021-07-20T22:22:34.835894",
     "status": "completed"
    },
    "tags": []
   },
   "source": [
    "As we can see, the model performed better with non-scaled data, although the optimal k was searched above using non-scaled data, if we calculate optimal-k even with standardized or scale_to_range data, it gives the same result.\n"
   ]
  },
  {
   "cell_type": "code",
   "execution_count": 41,
   "id": "bc10e57a",
   "metadata": {
    "execution": {
     "iopub.execute_input": "2021-07-20T22:22:35.019526Z",
     "iopub.status.busy": "2021-07-20T22:22:35.018810Z",
     "iopub.status.idle": "2021-07-20T22:22:36.271291Z",
     "shell.execute_reply": "2021-07-20T22:22:36.270687Z",
     "shell.execute_reply.started": "2021-07-20T21:06:11.374807Z"
    },
    "papermill": {
     "duration": 1.320102,
     "end_time": "2021-07-20T22:22:36.271431",
     "exception": false,
     "start_time": "2021-07-20T22:22:34.951329",
     "status": "completed"
    },
    "tags": []
   },
   "outputs": [
    {
     "name": "stdout",
     "output_type": "stream",
     "text": [
      "For the model with 1 Nearest Neighbors:\n",
      "total: 1512  correct: 1278  accuracy: 0.85\n",
      "\n",
      "For the model with 3 Nearest Neighbors:\n",
      "total: 1512  correct: 1254  accuracy: 0.83\n",
      "\n",
      "For the model with 5 Nearest Neighbors:\n",
      "total: 1512  correct: 1230  accuracy: 0.81\n",
      "\n",
      "For the model with 7 Nearest Neighbors:\n",
      "total: 1512  correct: 1188  accuracy: 0.79\n",
      "\n",
      "For the model with 9 Nearest Neighbors:\n",
      "total: 1512  correct: 1165  accuracy: 0.77\n",
      "\n",
      "Train time = 0.27\n"
     ]
    }
   ],
   "source": [
    "# second approach of finding kNN without finding the optimal value first\n",
    "#Here are our K values to try\n",
    "k_values = [1, 3, 5, 7, 9]\n",
    "\n",
    "start_time = time.time()\n",
    "for i in k_values:\n",
    "    clf = KNeighborsClassifier(n_neighbors = i)\n",
    "    clf.fit(train_data.iloc[:, :10], train_label)\n",
    "    preds = clf.predict(dev_data.iloc[:, :10])\n",
    "\n",
    "    # And calculate the accuracy by comparing it to the labels\n",
    "    correct, total = 0, 0\n",
    "    for pred, label in zip(preds, dev_label):\n",
    "        if pred == label: \n",
    "            correct += 1\n",
    "        total += 1\n",
    "\n",
    "    # Finally we print the outcomes\n",
    "    Outcome = [\"For the model with\", str(i), \"Nearest Neighbors:\"]\n",
    "    print(\" \".join(Outcome))\n",
    "    print ('total: %3d  correct: %3d  accuracy: %3.2f' %(total, correct, 1.0*correct/total))\n",
    "    print()\n",
    "print ('Train time = %.2f' %(time.time() - start_time))"
   ]
  },
  {
   "cell_type": "markdown",
   "id": "31f11c4d",
   "metadata": {},
   "source": [
    "### We will proceed with the accuracy result from kNN as our baseline and will try to meet or improve the baseline using different classifiers below."
   ]
  },
  {
   "cell_type": "markdown",
   "id": "d6602c7d",
   "metadata": {
    "papermill": {
     "duration": 0.05912,
     "end_time": "2021-07-20T22:22:36.390125",
     "exception": false,
     "start_time": "2021-07-20T22:22:36.331005",
     "status": "completed"
    },
    "tags": []
   },
   "source": [
    "## Model 2:\n",
    "## Decision Tree"
   ]
  },
  {
   "cell_type": "markdown",
   "id": "a0aed389",
   "metadata": {
    "papermill": {
     "duration": 0.059481,
     "end_time": "2021-07-20T22:22:36.509059",
     "exception": false,
     "start_time": "2021-07-20T22:22:36.449578",
     "status": "completed"
    },
    "tags": []
   },
   "source": [
    "Decision trees are powerful machine learning algorithms that iteratively split the data based on binary 'Yes/No' decision criterion. This has the advantage of both working well with data that is already highly binary, such as our \"Wilderness Area\" and \"Soil Type\" variables, and being explainable to non-technical audiences. \n",
    "\n",
    "In order to properly utilize the Decision Tree Algorithm, our first task is to binarize all the columsn in the data. For most of our variables, this is fairly easy, as they are already structured as binary indicator variables. For our remaining numeric variables, we need to look at the distribution of our data to see if there are natural breakpoints we can utilize."
   ]
  },
  {
   "cell_type": "code",
   "execution_count": 17,
   "id": "71a122a6",
   "metadata": {
    "execution": {
     "iopub.execute_input": "2021-07-20T22:22:36.691552Z",
     "iopub.status.busy": "2021-07-20T22:22:36.670804Z",
     "iopub.status.idle": "2021-07-20T22:22:39.993949Z",
     "shell.execute_reply": "2021-07-20T22:22:39.994460Z",
     "shell.execute_reply.started": "2021-07-20T21:06:12.641151Z"
    },
    "papermill": {
     "duration": 3.425706,
     "end_time": "2021-07-20T22:22:39.994622",
     "exception": false,
     "start_time": "2021-07-20T22:22:36.568916",
     "status": "completed"
    },
    "tags": []
   },
   "outputs": [
    {
     "data": {
      "image/png": "[encoded data removed]",
      "text/plain": [
       "<Figure size 1800x2880 with 10 Axes>"
      ]
     },
     "metadata": {},
     "output_type": "display_data"
    }
   ],
   "source": [
    "#Creating our plot grid\n",
    "plotcount=10\n",
    "fig, axes = plt.subplots(nrows = 5,ncols = 2,figsize = (25,40))\n",
    "#Plotting our variables\n",
    "for i in range(0,plotcount):\n",
    "    row = i // 2\n",
    "    col = i % 2\n",
    "    ax1 = axes[row, col]\n",
    "    sns.histplot(y=all_data.columns[i+1], data=all_data,ax=ax1);"
   ]
  },
  {
   "cell_type": "markdown",
   "id": "037c4754",
   "metadata": {
    "papermill": {
     "duration": 0.081457,
     "end_time": "2021-07-20T22:22:40.139924",
     "exception": false,
     "start_time": "2021-07-20T22:22:40.058467",
     "status": "completed"
    },
    "tags": []
   },
   "source": [
    "It looks like some of our variables have obvious breakpoints, while others have a fairly smooth distribution.\n",
    "\n",
    "The variables with obvious breakpoints are:\n",
    "* Elevation: Elevation looks to have 3 groups, one from 0 to about 2625, one from 2625 to 3125 and one for 3125 and above\n",
    "* Aspect: Aspect seems to be split into two groups right at 250\n",
    "* Slope: Slope has a gap at 26 degrees. We can try breaking here\n",
    "* Horizontal_Distance_To_Hydrology: This seems to have a large amount of data below 100 feet, and a long tail above that\n",
    "* Vertical_Distance_To_Hydrology: This feature seems to have an overwhelming amount of the data at exactly 0, so we will split it there\n",
    "\n",
    "The other variables: Horizontal_Distance_To_Roadways, the Hillshade variables, and Horizontal_Distance_To_Fire_Points seem to have a fairly smooth distribution. Luckily, since we know the criterion that a decision tree will split on (information gain), we can choose to binarize our continuous variables at those points which maximize this criterion.\n"
   ]
  },
  {
   "cell_type": "code",
   "execution_count": 18,
   "id": "e7222c51",
   "metadata": {
    "execution": {
     "iopub.execute_input": "2021-07-20T22:22:40.281146Z",
     "iopub.status.busy": "2021-07-20T22:22:40.280504Z",
     "iopub.status.idle": "2021-07-20T22:22:40.285434Z",
     "shell.execute_reply": "2021-07-20T22:22:40.284911Z",
     "shell.execute_reply.started": "2021-07-20T21:22:58.6186Z"
    },
    "papermill": {
     "duration": 0.07419,
     "end_time": "2021-07-20T22:22:40.285576",
     "exception": false,
     "start_time": "2021-07-20T22:22:40.211386",
     "status": "completed"
    },
    "tags": []
   },
   "outputs": [],
   "source": [
    "#First we will create a copy of our data that we can modify\n",
    "tree_train_data = copy.deepcopy(train_data)\n",
    "tree_train_labels = copy.deepcopy(train_label)\n",
    "tree_dev_data = copy.deepcopy(dev_data)\n",
    "tree_dev_labels = copy.deepcopy(dev_label)"
   ]
  },
  {
   "cell_type": "code",
   "execution_count": 19,
   "id": "7ae123cd",
   "metadata": {
    "execution": {
     "iopub.execute_input": "2021-07-20T22:22:40.458759Z",
     "iopub.status.busy": "2021-07-20T22:22:40.421421Z",
     "iopub.status.idle": "2021-07-20T22:23:52.153889Z",
     "shell.execute_reply": "2021-07-20T22:23:52.153335Z",
     "shell.execute_reply.started": "2021-07-20T21:20:16.165938Z"
    },
    "papermill": {
     "duration": 71.804693,
     "end_time": "2021-07-20T22:23:52.154068",
     "exception": false,
     "start_time": "2021-07-20T22:22:40.349375",
     "status": "completed"
    },
    "tags": []
   },
   "outputs": [
    {
     "name": "stdout",
     "output_type": "stream",
     "text": [
      "0 2688.861 0.736 Elevation\n",
      "1 267.327 0.034 Aspect\n",
      "2 18.020 0.075 Slope\n",
      "3 39.891 0.092 Horizontal_Distance_To_Hydrology\n",
      "4 6.475 0.040 Vertical_Distance_To_Hydrology\n",
      "5 1569.010 0.270 Horizontal_Distance_To_Roadways\n",
      "6 188.614 0.067 Hillshade_9am\n",
      "7 200.287 0.031 Hillshade_Noon\n",
      "8 88.396 0.052 Hillshade_3pm\n",
      "9 1899.842 0.180 Horizontal_Distance_To_Fire_Points\n"
     ]
    }
   ],
   "source": [
    "\n",
    "###This block of four functions work together to find the point each variable can be split to maximize information gain.\n",
    "\n",
    "def entropy(distribution):\n",
    "    #initialize entropy at zero\n",
    "    h = 0.0\n",
    "    for probability in distribution:\n",
    "        logprob = -100.0  # log(0) = -inf so let's approximate it with -100 to avoid an error\n",
    "        if probability > 0.0: logprob = np.log2(probability)\n",
    "        h -= probability * logprob\n",
    "    return h\n",
    "\n",
    "def get_label_distribution(labels):\n",
    "    # Initialize counters for all labels to zero.\n",
    "    label_probs = np.array([0.0 for i in range(7)])\n",
    "\n",
    "    # Iterate over labels in the training data and update counts.\n",
    "    for label in labels:\n",
    "        label_probs[label-1] += 1.0\n",
    "    \n",
    "    # Normalize to get a distribution.\n",
    "    label_probs /= label_probs.sum()\n",
    "    return label_probs\n",
    "\n",
    "def information_gain(data, labels, feature, threshold=0):\n",
    "    # Get the initial entropy of the label distribution.\n",
    "    initial_entropy = entropy(get_label_distribution(labels))\n",
    "    \n",
    "    # subset0 will contain the labels for which the feature is 0 and\n",
    "    # subset1 will contain the labels for which the feature is 1.\n",
    "    subset0, subset1 = [], []\n",
    "    for datum, label in zip(data, labels):\n",
    "        if datum[feature] > threshold: subset1.append(label)\n",
    "        else: subset0.append(label)\n",
    "    \n",
    "    # Compute the entropy of each subset.\n",
    "    subset0_entropy = entropy(get_label_distribution(subset0))\n",
    "    subset1_entropy = entropy(get_label_distribution(subset1))\n",
    "    \n",
    "    # Compute the final entropy by weighting each subset's entropy according to its size.\n",
    "    subset0_weight = 1.0 * len(subset0) / len(labels)\n",
    "    subset1_weight = 1.0 * len(subset1) / len(labels)\n",
    "    final_entropy = subset0_weight * subset0_entropy + subset1_weight * subset1_entropy\n",
    "    \n",
    "    # Finally, compute information gain as the difference between the initial and final entropy.\n",
    "    return initial_entropy - final_entropy\n",
    "\n",
    "def try_features_and_thresholds(x, y, emptylist = []):\n",
    "    #This function is what actually tries the different threshold values and chooses the best one\n",
    "    data = x.to_numpy()\n",
    "    labels = y.to_numpy()\n",
    "    for feature in range(data.shape[1]):\n",
    "        # Choose a set of thresholds between the min- and max-valued feature, ignoring the min and max themselves.\n",
    "        thresholds = np.linspace(data[:,feature].min(), data[:,feature].max(), 102)[1:-1]\n",
    "\n",
    "        # Try each threshold and keep track of the best one for this feature.\n",
    "        best_threshold = 0\n",
    "        best_ig = 0\n",
    "        for threshold in thresholds:\n",
    "            ig = information_gain(data, labels, feature, threshold)\n",
    "            if ig > best_ig:\n",
    "                best_ig = ig\n",
    "                best_threshold = threshold\n",
    "\n",
    "        # Show the best threshold and information gain for this feature.\n",
    "        print ('%d %.3f %.3f %s' %(feature, best_threshold, best_ig, x.columns[feature]))\n",
    "        emptylist.append(best_threshold)\n",
    "    return emptylist\n",
    "\n",
    "#Now we run it on our model to get the best thresholds to binarize each variable\n",
    "bestcutoffs = try_features_and_thresholds(tree_train_data.iloc[:,0:10], tree_train_labels)"
   ]
  },
  {
   "cell_type": "markdown",
   "id": "9c64d802",
   "metadata": {},
   "source": [
    "Now that we've found the appropriate cutoffs for each of our continuous variables, we can turn them into binary indicators. It's important that we do this precisely and specifically, since we will need to binarize our test data exactly the same way (rather than by recalculating what the best entropy points are for the test data). This keeps us from incorrectly fitting our model."
   ]
  },
  {
   "cell_type": "code",
   "execution_count": 20,
   "id": "10d241d3",
   "metadata": {
    "execution": {
     "iopub.execute_input": "2021-07-20T22:23:52.330701Z",
     "iopub.status.busy": "2021-07-20T22:23:52.329520Z",
     "iopub.status.idle": "2021-07-20T22:23:52.412504Z",
     "shell.execute_reply": "2021-07-20T22:23:52.412960Z",
     "shell.execute_reply.started": "2021-07-20T21:23:02.172051Z"
    },
    "papermill": {
     "duration": 0.179029,
     "end_time": "2021-07-20T22:23:52.413196",
     "exception": false,
     "start_time": "2021-07-20T22:23:52.234167",
     "status": "completed"
    },
    "tags": []
   },
   "outputs": [
    {
     "name": "stdout",
     "output_type": "stream",
     "text": [
      "       Wilderness_Area1  Wilderness_Area2  Wilderness_Area3  Wilderness_Area4  \\\n",
      "4492                  0                 0                 0                 1   \n",
      "12743                 0                 0                 0                 1   \n",
      "423                   1                 0                 0                 0   \n",
      "11191                 0                 0                 1                 0   \n",
      "10354                 0                 0                 1                 0   \n",
      "\n",
      "       Soil_Type1  Soil_Type2  Soil_Type3  Soil_Type4  Soil_Type5  Soil_Type6  \\\n",
      "4492            0           0           1           0           0           0   \n",
      "12743           0           0           0           0           0           0   \n",
      "423             0           0           0           0           0           0   \n",
      "11191           0           0           0           0           0           0   \n",
      "10354           0           0           0           0           0           0   \n",
      "\n",
      "       ...  Elevation_high  Aspect_high  Slope_high  \\\n",
      "4492   ...               0            0           1   \n",
      "12743  ...               0            0           0   \n",
      "423    ...               1            0           0   \n",
      "11191  ...               0            1           1   \n",
      "10354  ...               1            0           1   \n",
      "\n",
      "       Horizon_Dist_Hydrology_high  Vert_Dist_Hydrology_high  \\\n",
      "4492                             1                         1   \n",
      "12743                            0                         0   \n",
      "423                              1                         1   \n",
      "11191                            1                         1   \n",
      "10354                            1                         0   \n",
      "\n",
      "       Horizon_Dist_Road_high  Hillshade_9am_high  Hillshade_Noon_high  \\\n",
      "4492                        0                   1                    1   \n",
      "12743                       0                   1                    1   \n",
      "423                         1                   1                    1   \n",
      "11191                       1                   0                    0   \n",
      "10354                       1                   1                    0   \n",
      "\n",
      "       Hillshade_3pm_high  Horizon_Dist_Fire_high  \n",
      "4492                    0                       0  \n",
      "12743                   1                       0  \n",
      "423                     1                       1  \n",
      "11191                   1                       0  \n",
      "10354                   1                       0  \n",
      "\n",
      "[5 rows x 54 columns]\n",
      "       Wilderness_Area1  Wilderness_Area2  Wilderness_Area3  Wilderness_Area4  \\\n",
      "14139                 0                 0                 1                 0   \n",
      "1851                  1                 0                 0                 0   \n",
      "9467                  0                 0                 1                 0   \n",
      "12125                 0                 0                 0                 1   \n",
      "8801                  0                 0                 1                 0   \n",
      "\n",
      "       Soil_Type1  Soil_Type2  Soil_Type3  Soil_Type4  Soil_Type5  Soil_Type6  \\\n",
      "14139           0           0           0           0           0           0   \n",
      "1851            0           0           0           0           0           0   \n",
      "9467            0           0           0           0           0           0   \n",
      "12125           1           0           0           0           0           0   \n",
      "8801            0           0           0           0           0           0   \n",
      "\n",
      "       ...  Elevation_high  Aspect_high  Slope_high  \\\n",
      "14139  ...               0            0           0   \n",
      "1851   ...               1            1           0   \n",
      "9467   ...               1            0           0   \n",
      "12125  ...               0            0           1   \n",
      "8801   ...               1            1           0   \n",
      "\n",
      "       Horizon_Dist_Hydrology_high  Vert_Dist_Hydrology_high  \\\n",
      "14139                            0                         0   \n",
      "1851                             1                         1   \n",
      "9467                             1                         1   \n",
      "12125                            0                         1   \n",
      "8801                             1                         1   \n",
      "\n",
      "       Horizon_Dist_Road_high  Hillshade_9am_high  Hillshade_Noon_high  \\\n",
      "14139                       0                   1                    1   \n",
      "1851                        1                   0                    1   \n",
      "9467                        1                   1                    1   \n",
      "12125                       0                   1                    0   \n",
      "8801                        1                   0                    1   \n",
      "\n",
      "       Hillshade_3pm_high  Horizon_Dist_Fire_high  \n",
      "14139                   1                       1  \n",
      "1851                    1                       0  \n",
      "9467                    1                       0  \n",
      "12125                   0                       0  \n",
      "8801                    1                       1  \n",
      "\n",
      "[5 rows x 54 columns]\n"
     ]
    }
   ],
   "source": [
    "def binarize_data_for_tree(x):\n",
    "    #Now we will create our elevation features, dividing it up into two sections with two new column\n",
    "    x[\"Elevation_high\"] = np.where(x[\"Elevation\"] > bestcutoffs[0], 1, 0)\n",
    "    x.drop(\"Elevation\", axis = 1, inplace = True)\n",
    "\n",
    "    #Next we create our aspect feature\n",
    "    x[\"Aspect_high\"] = np.where(x[\"Aspect\"] > bestcutoffs[1] , 1, 0)\n",
    "    x.drop(\"Aspect\", axis = 1, inplace = True)\n",
    "\n",
    "    #Our slope feature\n",
    "    x[\"Slope_high\"] = np.where(x[\"Slope\"] > bestcutoffs[2], 1, 0)\n",
    "    x.drop(\"Slope\", axis = 1, inplace = True)\n",
    "\n",
    "    #Our Horizontal distance to hydrology feature\n",
    "    x[\"Horizon_Dist_Hydrology_high\"] = np.where(x[\"Horizontal_Distance_To_Hydrology\"] > bestcutoffs[3], 1, 0)\n",
    "    x.drop(\"Horizontal_Distance_To_Hydrology\", axis = 1, inplace = True)\n",
    "\n",
    "    #Our Vertical distance to hydrology feature\n",
    "    x[\"Vert_Dist_Hydrology_high\"] = np.where(x[\"Vertical_Distance_To_Hydrology\"] > bestcutoffs[4] , 1, 0)\n",
    "    x.drop(\"Vertical_Distance_To_Hydrology\", axis = 1, inplace = True)\n",
    "\n",
    "    #Variables split on the mean\n",
    "    x[\"Horizon_Dist_Road_high\"] = np.where(x[\"Horizontal_Distance_To_Roadways\"] > bestcutoffs[5], 1, 0)\n",
    "    x.drop(\"Horizontal_Distance_To_Roadways\", axis = 1, inplace = True)\n",
    "\n",
    "    x[\"Hillshade_9am_high\"] = np.where(x[\"Hillshade_9am\"] > bestcutoffs[6], 1, 0)\n",
    "    x.drop(\"Hillshade_9am\", axis = 1, inplace = True)\n",
    "\n",
    "    x[\"Hillshade_Noon_high\"] = np.where(x[\"Hillshade_Noon\"] > bestcutoffs[7], 1, 0)\n",
    "    x.drop(\"Hillshade_Noon\", axis = 1, inplace = True)\n",
    "\n",
    "    x[\"Hillshade_3pm_high\"] = np.where(x[\"Hillshade_3pm\"] > bestcutoffs[8], 1, 0)\n",
    "    x.drop(\"Hillshade_3pm\", axis = 1, inplace = True)\n",
    "\n",
    "    x[\"Horizon_Dist_Fire_high\"] = np.where(x[\"Horizontal_Distance_To_Fire_Points\"] > bestcutoffs[9], 1, 0)\n",
    "    x.drop(\"Horizontal_Distance_To_Fire_Points\", axis = 1, inplace = True)\n",
    "    \n",
    "\n",
    "binarize_data_for_tree(tree_train_data)\n",
    "binarize_data_for_tree(tree_dev_data)\n",
    "    \n",
    "#Checking our data\n",
    "print(tree_train_data.head())\n",
    "print(tree_dev_data.head())"
   ]
  },
  {
   "cell_type": "markdown",
   "id": "3262014e",
   "metadata": {
    "papermill": {
     "duration": 0.080419,
     "end_time": "2021-07-20T22:23:52.575775",
     "exception": false,
     "start_time": "2021-07-20T22:23:52.495356",
     "status": "completed"
    },
    "tags": []
   },
   "source": [
    "Once we have succressfully binarized our data, we can attempt to fit a single decision tree classifier to make predictions. The two main hyper parameters to be concerned with in a Decision Tree Classifier are the minimum number of samples we require in order to perform a split and the maximum depth of the tree. As noted in the KNN section, we can use the Grid Search Cross-Validation to choose the best parameters for us."
   ]
  },
  {
   "cell_type": "code",
   "execution_count": 21,
   "id": "e7dcf32c",
   "metadata": {
    "execution": {
     "iopub.execute_input": "2021-07-20T22:23:52.748666Z",
     "iopub.status.busy": "2021-07-20T22:23:52.747562Z",
     "iopub.status.idle": "2021-07-20T22:23:53.233930Z",
     "shell.execute_reply": "2021-07-20T22:23:53.234512Z",
     "shell.execute_reply.started": "2021-07-20T21:24:16.816998Z"
    },
    "papermill": {
     "duration": 0.577783,
     "end_time": "2021-07-20T22:23:53.234696",
     "exception": false,
     "start_time": "2021-07-20T22:23:52.656913",
     "status": "completed"
    },
    "tags": []
   },
   "outputs": [
    {
     "name": "stdout",
     "output_type": "stream",
     "text": [
      "The optimal value for min_samples_split is 2\n",
      "The optimal value for max_depth is 27\n",
      "For the model with a minimum sample split of 2 and a maximum depth of 27\n",
      "total: 1512  correct: 1044  accuracy: 0.690\n",
      "\n",
      "Train time = 0.04\n"
     ]
    }
   ],
   "source": [
    "#Setting up our grid search\n",
    "paramsDT = {'min_samples_split': np.concatenate([np.arange(2, 10+1)]).tolist(),\n",
    "           'max_depth': [int(x) for x in np.linspace(1, 101, num = 20)]}\n",
    "best_param_DT = GridSearchCV(DecisionTreeClassifier(), paramsDT, scoring='accuracy')\n",
    "best_param_DT.fit(tree_train_data, tree_train_labels)\n",
    "DT_optimal_sample_param = best_param_DT.best_params_['min_samples_split']\n",
    "DT_optimal_depth_param = best_param_DT.best_params_['max_depth']\n",
    "#Displaying our best parameter\n",
    "print ('The optimal value for min_samples_split is {0}'.format(DT_optimal_sample_param))\n",
    "print ('The optimal value for max_depth is {0}'.format(DT_optimal_depth_param))\n",
    "\n",
    "#Fitting our classifier with the best parameter\n",
    "clf = DecisionTreeClassifier(criterion='entropy', min_samples_split=DT_optimal_sample_param, \n",
    "                             max_depth = DT_optimal_depth_param)\n",
    "start_time = time.time()\n",
    "clf.fit(tree_train_data, tree_train_labels)\n",
    "\n",
    "# Predict on the dev data\n",
    "preds = clf.predict(tree_dev_data)\n",
    "\n",
    "# And calculate the accuracy by comparing it to the labels\n",
    "correct, total = 0, 0\n",
    "for pred, label in zip(preds, tree_dev_labels):\n",
    "    if pred == label: \n",
    "        correct += 1\n",
    "    total += 1\n",
    "\n",
    "# Finally we print the outcomes\n",
    "Outcome = [\"For the model with a minimum sample split of\", str(DT_optimal_sample_param), \"and a maximum depth of\",\n",
    "          str(DT_optimal_depth_param)]\n",
    "print(\" \".join(Outcome))\n",
    "print ('total: %3d  correct: %3d  accuracy: %3.3f' %(total, correct, 1.0*correct/total))\n",
    "print()\n",
    "print ('Train time = %.2f' %(time.time() - start_time))\n"
   ]
  },
  {
   "cell_type": "markdown",
   "id": "bcf86827",
   "metadata": {},
   "source": [
    "It looks like our best Decision Tree Classifier only achieves an accuracy in the high 60%s. This is not bad, but it fails to best our 1-Neighbor KNN model's score of 84%"
   ]
  },
  {
   "cell_type": "markdown",
   "id": "bfdf6d25",
   "metadata": {
    "papermill": {
     "duration": 0.082815,
     "end_time": "2021-07-20T22:23:53.403623",
     "exception": false,
     "start_time": "2021-07-20T22:23:53.320808",
     "status": "completed"
    },
    "tags": []
   },
   "source": [
    "## Random Forest Classifier"
   ]
  },
  {
   "cell_type": "markdown",
   "id": "1608ab51",
   "metadata": {},
   "source": [
    "A Random Forest is, in it's simplest explanation, just an ensemble (or group) of decision trees. First, it selects a random subset of the total training data, then it fits a decision tree to that subset of the data, creating a \"forest\" of multiple decision trees all trained on slightly different versions of the training data. When it comes time to make predictions, each new data point is run through all of the trees in the forest, with each tree getting a single vote as to it's class. The class with the highest votes is the prediction.\n",
    "\n",
    "There are three different important hyper parameters for us to tune in a Random Forest. Again we need to consider the minimum size sample needed to split and the max depth, but since we tuned that with our Decision Tree, and this is just an ensemble of those trees, we will keep them the same. The other parameter is the number of trees to include in the forest, \"n_estimators\".\n",
    "\n",
    "Because the possible sample space is too computationally intensive to search every possibility, we will use a new search method, RandomizedSearchCV, which searches a set number of random combinations and chooses the best possible parameters. We will look at 100 different possible parameters and search through 15% of them for the best possible option."
   ]
  },
  {
   "cell_type": "code",
   "execution_count": 22,
   "id": "fa1f4a6b",
   "metadata": {
    "execution": {
     "iopub.execute_input": "2021-07-20T22:23:53.581126Z",
     "iopub.status.busy": "2021-07-20T22:23:53.580401Z",
     "iopub.status.idle": "2021-07-20T22:27:59.818728Z",
     "shell.execute_reply": "2021-07-20T22:27:59.819254Z",
     "shell.execute_reply.started": "2021-07-20T21:25:45.757967Z"
    },
    "papermill": {
     "duration": 246.331898,
     "end_time": "2021-07-20T22:27:59.819436",
     "exception": false,
     "start_time": "2021-07-20T22:23:53.487538",
     "status": "completed"
    },
    "tags": []
   },
   "outputs": [
    {
     "name": "stdout",
     "output_type": "stream",
     "text": [
      "Fitting 2 folds for each of 15 candidates, totalling 30 fits\n",
      "[CV 1/2] END ..................n_estimators=289;, score=0.690 total time=   1.9s\n",
      "[CV 2/2] END ..................n_estimators=289;, score=0.682 total time=   1.9s\n",
      "[CV 1/2] END ..................n_estimators=587;, score=0.692 total time=   3.9s\n",
      "[CV 2/2] END ..................n_estimators=587;, score=0.680 total time=   4.0s\n",
      "[CV 1/2] END ..................n_estimators=827;, score=0.690 total time=   6.0s\n",
      "[CV 2/2] END ..................n_estimators=827;, score=0.683 total time=   5.8s\n",
      "[CV 1/2] END ..................n_estimators=692;, score=0.690 total time=   5.2s\n",
      "[CV 2/2] END ..................n_estimators=692;, score=0.682 total time=   4.7s\n",
      "[CV 1/2] END ..................n_estimators=548;, score=0.691 total time=   3.7s\n",
      "[CV 2/2] END ..................n_estimators=548;, score=0.683 total time=   3.9s\n",
      "[CV 1/2] END ..................n_estimators=904;, score=0.691 total time=   6.1s\n",
      "[CV 2/2] END ..................n_estimators=904;, score=0.684 total time=   6.2s\n",
      "[CV 1/2] END ..................n_estimators=731;, score=0.691 total time=   5.0s\n",
      "[CV 2/2] END ..................n_estimators=731;, score=0.682 total time=   4.8s\n",
      "[CV 1/2] END ...................n_estimators=59;, score=0.687 total time=   0.4s\n",
      "[CV 2/2] END ...................n_estimators=59;, score=0.679 total time=   0.4s\n",
      "[CV 1/2] END ..................n_estimators=299;, score=0.690 total time=   2.1s\n",
      "[CV 2/2] END ..................n_estimators=299;, score=0.680 total time=   2.2s\n",
      "[CV 1/2] END ..................n_estimators=836;, score=0.691 total time=   6.3s\n",
      "[CV 2/2] END ..................n_estimators=836;, score=0.683 total time=   6.9s\n",
      "[CV 1/2] END ..................n_estimators=673;, score=0.689 total time=   5.0s\n",
      "[CV 2/2] END ..................n_estimators=673;, score=0.683 total time=   4.8s\n",
      "[CV 1/2] END ..................n_estimators=251;, score=0.689 total time=   2.0s\n",
      "[CV 2/2] END ..................n_estimators=251;, score=0.681 total time=   1.8s\n",
      "[CV 1/2] END ..................n_estimators=980;, score=0.690 total time=   7.2s\n",
      "[CV 2/2] END ..................n_estimators=980;, score=0.683 total time=   6.7s\n",
      "[CV 1/2] END ..................n_estimators=769;, score=0.693 total time=   5.2s\n",
      "[CV 2/2] END ..................n_estimators=769;, score=0.682 total time=   5.5s\n",
      "[CV 1/2] END ...................n_estimators=97;, score=0.690 total time=   0.6s\n",
      "[CV 2/2] END ...................n_estimators=97;, score=0.679 total time=   0.7s\n",
      "The optimal value for n_estimators is 904\n",
      "For the model with 904 estimators \n",
      " a minimum sample split of 2 and a max depth of 27\n",
      "total: 1512  correct: 1056  accuracy: 0.698\n",
      "\n",
      "Train time = 9.54\n"
     ]
    }
   ],
   "source": [
    "#Now we search for the best\n",
    "paramsRF = {'n_estimators': [int(x) for x in np.linspace(start = 50, stop = 1000, num = 100)]}\n",
    "best_param_RF = RandomizedSearchCV(RandomForestClassifier(min_samples_split = DT_optimal_sample_param, \n",
    "                             max_depth = DT_optimal_depth_param), param_distributions = paramsRF, \n",
    "                             scoring='accuracy', n_iter = 15, cv = 2, verbose = 3)\n",
    "\n",
    "best_param_RF.fit(tree_train_data, tree_train_labels)\n",
    "RF_optimal_est_param = best_param_RF.best_params_['n_estimators']\n",
    "\n",
    "print ('The optimal value for n_estimators is {0}'.format(RF_optimal_est_param))\n",
    "            \n",
    "clf = RandomForestClassifier(n_estimators = RF_optimal_est_param, min_samples_split = DT_optimal_sample_param, \n",
    "                             max_depth = DT_optimal_depth_param, criterion='entropy')\n",
    "\n",
    "start_time = time.time()\n",
    "clf.fit(tree_train_data, tree_train_labels)\n",
    "# Predict on the dev data\n",
    "preds = clf.predict(tree_dev_data)\n",
    "\n",
    "# And calculate the accuracy by comparing it to the labels\n",
    "correct, total = 0, 0\n",
    "for pred, label in zip(preds, tree_dev_labels):\n",
    "    if pred == label: \n",
    "        correct += 1\n",
    "    total += 1\n",
    "\n",
    "# Finally we print the outcomes\n",
    "Outcome = [\"For the model with\", str(RF_optimal_est_param), \"estimators\",\n",
    "          \"\\n a minimum sample split of\", str(DT_optimal_sample_param), \"and a max depth of\", str(DT_optimal_depth_param)]\n",
    "print(\" \".join(Outcome))\n",
    "print ('total: %3d  correct: %3d  accuracy: %3.3f' %(total, correct, 1.0*correct/total))\n",
    "print()\n",
    "print ('Train time = %.2f' %(time.time() - start_time))"
   ]
  },
  {
   "cell_type": "markdown",
   "id": "704c3921",
   "metadata": {
    "papermill": {
     "duration": 0.088187,
     "end_time": "2021-07-20T22:27:59.996603",
     "exception": false,
     "start_time": "2021-07-20T22:27:59.908416",
     "status": "completed"
    },
    "tags": []
   },
   "source": [
    "Though we did manage to beat the results of our single decision tree, we still have not managed to do better than our baseline. Next we will attempt a slightly more complicated ensemble method."
   ]
  },
  {
   "cell_type": "markdown",
   "id": "a91e69fa",
   "metadata": {
    "papermill": {
     "duration": 0.088997,
     "end_time": "2021-07-20T22:28:00.175117",
     "exception": false,
     "start_time": "2021-07-20T22:28:00.086120",
     "status": "completed"
    },
    "tags": []
   },
   "source": [
    "## Adaboost"
   ]
  },
  {
   "cell_type": "markdown",
   "id": "877dc0fa",
   "metadata": {},
   "source": [
    "Adaboost is an ensemble method similar to the Random Forest Algorithm. It fits a number of, in this case decision trees, which get to vote on predictions as before. The difference in this case is how the trees are fit. Adaboost attempts to train each new tree by teaching it to be better at the examples that the previous tree got wrong. It does this by fitting weights to each example. The weights for each example go up when a tree gets them wrong, and go down when a tree gets them right. The objective function for each new tree respects these weights, and puts more emphasis on fitting these difficult examples correctly.\n",
    "\n",
    "Adaboost with Decision Trees requires all the same parameters as our Random Forest, with one new one that must be optimized: the \"learning rate\". The learning rate determines how much the weights change between each iteration. We will fit Adaboost with all the optimal parameters determined before, but use Randomized Search CV to determine the optimal learning rate."
   ]
  },
  {
   "cell_type": "code",
   "execution_count": 23,
   "id": "c1496034",
   "metadata": {
    "execution": {
     "iopub.execute_input": "2021-07-20T22:28:00.361321Z",
     "iopub.status.busy": "2021-07-20T22:28:00.360183Z",
     "iopub.status.idle": "2021-07-20T22:30:41.780855Z",
     "shell.execute_reply": "2021-07-20T22:30:41.780239Z",
     "shell.execute_reply.started": "2021-07-20T16:17:23.645618Z"
    },
    "papermill": {
     "duration": 161.517904,
     "end_time": "2021-07-20T22:30:41.781125",
     "exception": false,
     "start_time": "2021-07-20T22:28:00.263221",
     "status": "completed"
    },
    "tags": []
   },
   "outputs": [
    {
     "name": "stdout",
     "output_type": "stream",
     "text": [
      "Fitting 2 folds for each of 15 candidates, totalling 30 fits\n",
      "[CV 1/2] END .learning_rate=0.40483838383838383;, score=0.605 total time=  17.0s\n",
      "[CV 2/2] END .learning_rate=0.40483838383838383;, score=0.571 total time=  16.1s\n",
      "[CV 1/2] END ..learning_rate=0.2231111111111111;, score=0.578 total time=  17.1s\n",
      "[CV 2/2] END ..learning_rate=0.2231111111111111;, score=0.598 total time=  20.3s\n",
      "[CV 1/2] END ..learning_rate=0.5865656565656565;, score=0.526 total time=  17.7s\n",
      "[CV 2/2] END ..learning_rate=0.5865656565656565;, score=0.636 total time=  18.2s\n",
      "[CV 1/2] END ..learning_rate=0.8692525252525253;, score=0.548 total time=  16.3s\n",
      "[CV 2/2] END ..learning_rate=0.8692525252525253;, score=0.527 total time=  15.8s\n",
      "[CV 1/2] END ..learning_rate=0.6673333333333333;, score=0.567 total time=  16.0s\n",
      "[CV 2/2] END ..learning_rate=0.6673333333333333;, score=0.624 total time=  15.5s\n",
      "[CV 1/2] END ..learning_rate=1.8586565656565655;, score=0.557 total time=  17.2s\n",
      "[CV 2/2] END ..learning_rate=1.8586565656565655;, score=0.564 total time=  17.3s\n",
      "[CV 1/2] END ..learning_rate=1.1519393939393938;, score=0.589 total time=  15.6s\n",
      "[CV 2/2] END ..learning_rate=1.1519393939393938;, score=0.622 total time=  15.3s\n",
      "[CV 1/2] END .learning_rate=0.10195959595959596;, score=0.552 total time=  15.5s\n",
      "[CV 2/2] END .learning_rate=0.10195959595959596;, score=0.628 total time=  15.8s\n",
      "[CV 1/2] END ..learning_rate=1.9394242424242423;, score=0.555 total time=  16.4s\n",
      "[CV 2/2] END ..learning_rate=1.9394242424242423;, score=0.524 total time=  16.1s\n",
      "[CV 1/2] END .learning_rate=0.14234343434343433;, score=0.604 total time=  16.1s\n",
      "[CV 2/2] END .learning_rate=0.14234343434343433;, score=0.573 total time=  17.1s\n",
      "[CV 1/2] END ..learning_rate=1.3134747474747472;, score=0.573 total time=  16.4s\n",
      "[CV 2/2] END ..learning_rate=1.3134747474747472;, score=0.577 total time=  15.5s\n",
      "[CV 1/2] END ..learning_rate=0.3644545454545455;, score=0.598 total time=  17.3s\n",
      "[CV 2/2] END ..learning_rate=0.3644545454545455;, score=0.591 total time=  18.9s\n",
      "[CV 1/2] END ..learning_rate=1.6365454545454543;, score=0.596 total time=  18.1s\n",
      "[CV 2/2] END ..learning_rate=1.6365454545454543;, score=0.592 total time=  16.1s\n",
      "[CV 1/2] END .learning_rate=0.30387878787878786;, score=0.610 total time=  17.0s\n",
      "[CV 2/2] END .learning_rate=0.30387878787878786;, score=0.581 total time=  15.1s\n",
      "[CV 1/2] END ..learning_rate=1.6163535353535352;, score=0.585 total time=  16.9s\n",
      "[CV 2/2] END ..learning_rate=1.6163535353535352;, score=0.481 total time=  15.8s\n",
      "The optimal value for learning rate is 1.1519393939393938\n",
      "For the model with 904 estimators \n",
      " a minimum sample split of 2 a max depth of 27 \n",
      " and a learning rate of 1.1519393939393938\n",
      "total: 1512  correct: 790  accuracy: 0.522\n",
      "\n",
      "Train time = 555.67\n"
     ]
    }
   ],
   "source": [
    "#Turning it into a form Adaboost likes\n",
    "tree_train_data = tree_train_data * 2 -1\n",
    "tree_dev_data = tree_dev_data * 2 -1\n",
    "\n",
    "#Now we search for the best learning rate\n",
    "paramsAD = {'learning_rate': [x for x in np.linspace(start = .001, stop = 2, num = 100)]}\n",
    "best_param_AD = RandomizedSearchCV(AdaBoostClassifier(base_estimator=DecisionTreeClassifier(\n",
    "    min_samples_split = DT_optimal_sample_param, max_depth = DT_optimal_depth_param), n_estimators=RF_optimal_est_param), \n",
    "                                   param_distributions = paramsAD, \n",
    "                             scoring='accuracy', n_iter = 15, cv = 2, verbose = 3)\n",
    "\n",
    "start_time = time.time()\n",
    "best_param_AD.fit(tree_train_data, tree_train_labels)\n",
    "AD_optimal_learn_param = best_param_AD.best_params_['learning_rate']\n",
    "\n",
    "print ('The optimal value for learning rate is {0}'.format(AD_optimal_learn_param))\n",
    "        \n",
    "\n",
    "#Now we fit our classifier           \n",
    "clf = AdaBoostClassifier(base_estimator=DecisionTreeClassifier(min_samples_split = DT_optimal_sample_param, \n",
    "                                                               max_depth = DT_optimal_depth_param), \n",
    "                         n_estimators=RF_optimal_est_param, learning_rate=AD_optimal_learn_param)\n",
    "clf.fit(tree_train_data, tree_train_labels)\n",
    "# Predict on the dev data\n",
    "preds = clf.predict(tree_dev_data)\n",
    "\n",
    "# And calculate the accuracy by comparing it to the labels\n",
    "correct, total = 0, 0\n",
    "for pred, label in zip(preds, tree_dev_labels):\n",
    "    if pred == label: \n",
    "        correct += 1\n",
    "    total += 1\n",
    "\n",
    "# Finally we print the outcomes\n",
    "Outcome = [\"For the model with\", str(RF_optimal_est_param), \"estimators\",\n",
    "          \"\\n a minimum sample split of\", str(DT_optimal_sample_param), \"a max depth of\", str(DT_optimal_depth_param),\n",
    "          \"\\n and a learning rate of\", str(AD_optimal_learn_param)]\n",
    "print(\" \".join(Outcome))\n",
    "print ('total: %3d  correct: %3d  accuracy: %3.3f' %(total, correct, 1.0*correct/total))\n",
    "print()\n",
    "print ('Train time = %.2f' %(time.time() - start_time))"
   ]
  },
  {
   "cell_type": "markdown",
   "id": "1a049812",
   "metadata": {
    "papermill": {
     "duration": 0.102886,
     "end_time": "2021-07-20T22:30:41.991300",
     "exception": false,
     "start_time": "2021-07-20T22:30:41.888414",
     "status": "completed"
    },
    "tags": []
   },
   "source": [
    "## Model 3:\n",
    "## **Naive Bayes**"
   ]
  },
  {
   "cell_type": "markdown",
   "id": "39ba7f32",
   "metadata": {},
   "source": [
    "Naive Bayes is a supervised learning algorithm based on Bayes' Theorem used for solving classification problems. This algorithm assumes that training instances are independent and identically distributed (i.i.d), this means that there is independence among predictors (features are independent, conditional on the label). NB tends to be overconfident due to the fact that we can treat correlated features as if they are actually independent.\n",
    "\n",
    "Naive Bayes models are typically fast and simple to implement - widely used for these reasons. The Maximum likelihood allow us to estimate the parameters from training data efficiently.\n",
    "\n",
    "Let's run an experiment with Naive Bayes classifier, using Bernoulli Naive Bayes and Gaussian Naive Bayes methods."
   ]
  },
  {
   "cell_type": "markdown",
   "id": "23323b80",
   "metadata": {},
   "source": [
    "### Bernoulli Naive Bayes"
   ]
  },
  {
   "cell_type": "markdown",
   "id": "98af5f81",
   "metadata": {},
   "source": [
    "First, we will be using a Bernoulli Naive Bayes. This is used for discrete data and it works on Bernoulli distribution. The main feature of Bernoulli Naive Bayes is that it accepts features only as binary values. For this reason, the non-binary columns in our dataset were binarized using the binarize_data_for tree function used in the decision tree model."
   ]
  },
  {
   "cell_type": "code",
   "execution_count": 44,
   "id": "b346bc7a",
   "metadata": {
    "execution": {
     "iopub.execute_input": "2021-07-20T22:30:42.407564Z",
     "iopub.status.busy": "2021-07-20T22:30:42.406222Z",
     "iopub.status.idle": "2021-07-20T22:30:42.411511Z",
     "shell.execute_reply": "2021-07-20T22:30:42.412030Z",
     "shell.execute_reply.started": "2021-07-20T16:18:57.980453Z"
    },
    "papermill": {
     "duration": 0.114243,
     "end_time": "2021-07-20T22:30:42.412217",
     "exception": false,
     "start_time": "2021-07-20T22:30:42.297974",
     "status": "completed"
    },
    "tags": []
   },
   "outputs": [],
   "source": [
    "#First we will create a copy of our data that we can modify\n",
    "NB_train_data = copy.deepcopy(train_data)\n",
    "NB_train_labels = copy.deepcopy(train_label)\n",
    "NB_dev_data = copy.deepcopy(dev_data)\n",
    "NB_dev_labels = copy.deepcopy(dev_label)"
   ]
  },
  {
   "cell_type": "code",
   "execution_count": 45,
   "id": "140e5b57",
   "metadata": {
    "execution": {
     "iopub.execute_input": "2021-07-20T22:30:42.622407Z",
     "iopub.status.busy": "2021-07-20T22:30:42.620854Z",
     "iopub.status.idle": "2021-07-20T22:30:42.687663Z",
     "shell.execute_reply": "2021-07-20T22:30:42.687071Z",
     "shell.execute_reply.started": "2021-07-20T16:18:58.011911Z"
    },
    "papermill": {
     "duration": 0.173847,
     "end_time": "2021-07-20T22:30:42.687806",
     "exception": false,
     "start_time": "2021-07-20T22:30:42.513959",
     "status": "completed"
    },
    "tags": []
   },
   "outputs": [],
   "source": [
    "#Binarize our data\n",
    "binarize_data_for_tree(NB_train_data)\n",
    "binarize_data_for_tree(NB_dev_data)"
   ]
  },
  {
   "cell_type": "code",
   "execution_count": 69,
   "id": "7e7fbd57",
   "metadata": {
    "execution": {
     "iopub.execute_input": "2021-07-20T22:30:43.128980Z",
     "iopub.status.busy": "2021-07-20T22:30:43.128342Z",
     "iopub.status.idle": "2021-07-20T22:30:43.492133Z",
     "shell.execute_reply": "2021-07-20T22:30:43.491422Z",
     "shell.execute_reply.started": "2021-07-20T16:18:58.12122Z"
    },
    "papermill": {
     "duration": 0.476768,
     "end_time": "2021-07-20T22:30:43.492453",
     "exception": true,
     "start_time": "2021-07-20T22:30:43.015685",
     "status": "failed"
    },
    "tags": []
   },
   "outputs": [
    {
     "name": "stdout",
     "output_type": "stream",
     "text": [
      "Accuracy of Bernoulli Naive Bayes is: 0.61\n",
      "Train time = 0.05\n"
     ]
    }
   ],
   "source": [
    "clf = BernoulliNB(alpha = 1.0)\n",
    "start_time = time.time()\n",
    "clf.fit(NB_train_data, NB_train_labels)\n",
    "clf.predict(NB_train_data)\n",
    "print('Accuracy of Bernoulli Naive Bayes is: {0:.2f}'.format(clf.score(NB_dev_data,NB_dev_labels)))\n",
    "print ('Train time = %.2f' %(time.time() - start_time))\n"
   ]
  },
  {
   "cell_type": "markdown",
   "id": "bff8c627",
   "metadata": {
    "papermill": {
     "duration": null,
     "end_time": null,
     "exception": null,
     "start_time": null,
     "status": "pending"
    },
    "tags": []
   },
   "source": [
    "### Gaussian Naive Bayes"
   ]
  },
  {
   "cell_type": "markdown",
   "id": "bcc5c16b",
   "metadata": {},
   "source": [
    "Gaussian Naive Bayes is a variant of Naive Bayes that supports continuous valued features and models each as conforming to a Gaussian (normal) distribution.\n",
    "\n",
    "We decided to run the Gaussian Naive Bayes classifier"
   ]
  },
  {
   "cell_type": "code",
   "execution_count": 70,
   "id": "3e6729de",
   "metadata": {
    "execution": {
     "iopub.execute_input": "2021-07-20T16:18:58.173286Z",
     "iopub.status.busy": "2021-07-20T16:18:58.172905Z",
     "iopub.status.idle": "2021-07-20T16:18:58.197583Z",
     "shell.execute_reply": "2021-07-20T16:18:58.196687Z",
     "shell.execute_reply.started": "2021-07-20T16:18:58.173238Z"
    },
    "papermill": {
     "duration": null,
     "end_time": null,
     "exception": null,
     "start_time": null,
     "status": "pending"
    },
    "tags": []
   },
   "outputs": [],
   "source": [
    "#Only continous features\n",
    "NBG_train_data = copy.deepcopy(train_data.iloc[:,0:10])\n",
    "NBG_train_labels = copy.deepcopy(train_label)\n",
    "NBG_dev_data = copy.deepcopy(dev_data.iloc[:,0:10])\n",
    "NBG_dev_labels = copy.deepcopy(dev_label)"
   ]
  },
  {
   "cell_type": "code",
   "execution_count": 71,
   "id": "5dd77a62",
   "metadata": {
    "execution": {
     "iopub.execute_input": "2021-07-20T16:18:58.228151Z",
     "iopub.status.busy": "2021-07-20T16:18:58.225255Z",
     "iopub.status.idle": "2021-07-20T16:18:58.259005Z",
     "shell.execute_reply": "2021-07-20T16:18:58.258193Z",
     "shell.execute_reply.started": "2021-07-20T16:18:58.228095Z"
    },
    "papermill": {
     "duration": null,
     "end_time": null,
     "exception": null,
     "start_time": null,
     "status": "pending"
    },
    "tags": []
   },
   "outputs": [
    {
     "name": "stdout",
     "output_type": "stream",
     "text": [
      "Accuracy of Gaussian Naive Bayes is: 0.59\n",
      "Train time = 0.02\n"
     ]
    }
   ],
   "source": [
    "clf = GaussianNB()\n",
    "start_time = time.time()\n",
    "clf.fit(NBG_train_data, NBG_train_labels)\n",
    "clf.predict(NBG_train_data)\n",
    "print('Accuracy of Gaussian Naive Bayes is: {0:.2f}'.format(clf.score(NBG_dev_data,NBG_dev_labels)))\n",
    "print ('Train time = %.2f' %(time.time() - start_time))\n"
   ]
  },
  {
   "cell_type": "markdown",
   "id": "2a0b665c",
   "metadata": {},
   "source": [
    "Bernoulli Naive Bayes accuracy of 0.61 was higher compared to the Gaussian Naive Bayes accuracy of 0.59. The lower accuracy value on the GNB model can be related to the fact that not all continuous features are normally distributed. \n",
    "\n",
    "The Naive Bayes model in general did not manage to beat the results of our single decision tree and our baseline (k-Nearest Neighbors(kNN)). "
   ]
  },
  {
   "cell_type": "markdown",
   "id": "3ae79244",
   "metadata": {
    "papermill": {
     "duration": null,
     "end_time": null,
     "exception": null,
     "start_time": null,
     "status": "pending"
    },
    "tags": []
   },
   "source": [
    "## Model 4:\n",
    "## **Logistic Regression**\n",
    "\n",
    "\n",
    "- One of the most common tools in supervised learning\n",
    "- A foundational tool in classification\n",
    "- A way to model the linear relationship between one or more arbitrary independent variables and binary dependent variables\n",
    "- Transforms the continuous infinite scale into a scale between 0 and 1.\n",
    "- uses maximum likelihood estimation instead of finding alpha or beta.\n",
    "- produces binary outcome variable in case of bonomial.\n",
    "- Related methods are:\n",
    "    - Multinomial logistic regression: when the outcome variable can take one of a set of categorical values whose size is greater than two\n",
    "    - Ordered logistic regression: used when the outcome variable is categorical with rank order (e.g., socioeconomic status)"
   ]
  },
  {
   "cell_type": "code",
   "execution_count": 72,
   "id": "ad8ec211",
   "metadata": {
    "execution": {
     "iopub.execute_input": "2021-07-20T18:52:44.104693Z",
     "iopub.status.busy": "2021-07-20T18:52:44.1043Z",
     "iopub.status.idle": "2021-07-20T18:52:56.127566Z",
     "shell.execute_reply": "2021-07-20T18:52:56.126473Z",
     "shell.execute_reply.started": "2021-07-20T18:52:44.104634Z"
    },
    "papermill": {
     "duration": null,
     "end_time": null,
     "exception": null,
     "start_time": null,
     "status": "pending"
    },
    "tags": []
   },
   "outputs": [
    {
     "name": "stdout",
     "output_type": "stream",
     "text": [
      "### Using training data scaled to 0 -> 1 ###\n",
      "\n",
      "\n",
      "Optimal C for Logistic Regression is {'classifier__C': 1000}\n",
      "Logistic Regression f1 Score is 0.68\n",
      "Train time = 12.98\n"
     ]
    }
   ],
   "source": [
    "# Using training data scaled to range [0,1]\n",
    "\n",
    "lr_pipe = Pipeline(steps = [\n",
    "        ('scaler', MinMaxScaler()),\n",
    "        ('classifier', LogisticRegression(penalty = 'l2', solver='liblinear'))\n",
    "    ]\n",
    ")\n",
    "\n",
    "lr_param_grid = {\n",
    "    'classifier__C': [1, 10, 100,1000],\n",
    "}\n",
    "\n",
    "\n",
    "#np.random.seed(1)\n",
    "grid_search = GridSearchCV(lr_pipe, lr_param_grid, cv=5, refit='True')\n",
    "start_time = time.time()\n",
    "grid_search.fit(train_data, train_label)\n",
    "\n",
    "print (\"### Using training data scaled to 0 -> 1 ###\\n\")\n",
    "print ('\\nOptimal C for Logistic Regression is {0}'.format(grid_search.best_params_))\n",
    "print ('Logistic Regression f1 Score is {0:.2f}'.format(grid_search.best_score_))\n",
    "print ('Train time = %.2f' %(time.time() - start_time))\n"
   ]
  },
  {
   "cell_type": "markdown",
   "id": "5788190f",
   "metadata": {
    "papermill": {
     "duration": null,
     "end_time": null,
     "exception": null,
     "start_time": null,
     "status": "pending"
    },
    "tags": []
   },
   "source": [
    "## Model 5:\n",
    "## **Stochastic Gradient Descent (SGD)**\n",
    "\n",
    "Gradient descent is an iterative algorithm, that starts from a random point on a function and travels down its slope in steps until it reaches the lowest point of that function.\n",
    "\n",
    "Stochastic Gradient Descent(SGD) helps in inducing randomness in the gradient descent algorithm and hence decreasing the computation overhead.\n",
    "\n",
    "SGD is induced while selecting data points at each step to calculate the derivatives. \n",
    "SGD randomly picks one data point from the whole data set at each iteration to reduce the computations enormously.\n"
   ]
  },
  {
   "cell_type": "code",
   "execution_count": 75,
   "id": "90b063f7",
   "metadata": {
    "execution": {
     "iopub.execute_input": "2021-07-20T18:59:50.343539Z",
     "iopub.status.busy": "2021-07-20T18:59:50.343163Z",
     "iopub.status.idle": "2021-07-20T18:59:50.540624Z",
     "shell.execute_reply": "2021-07-20T18:59:50.538798Z",
     "shell.execute_reply.started": "2021-07-20T18:59:50.343508Z"
    },
    "papermill": {
     "duration": null,
     "end_time": null,
     "exception": null,
     "start_time": null,
     "status": "pending"
    },
    "tags": []
   },
   "outputs": [
    {
     "name": "stdout",
     "output_type": "stream",
     "text": [
      "              precision    recall  f1-score   support\n",
      "\n",
      "           1       0.59      0.66      0.63       220\n",
      "           2       0.58      0.39      0.47       214\n",
      "           3       0.62      0.48      0.54       213\n",
      "           4       0.80      0.87      0.84       218\n",
      "           5       0.60      0.72      0.65       214\n",
      "           6       0.53      0.64      0.58       218\n",
      "           7       0.89      0.82      0.86       215\n",
      "\n",
      "    accuracy                           0.66      1512\n",
      "   macro avg       0.66      0.66      0.65      1512\n",
      "weighted avg       0.66      0.66      0.65      1512\n",
      "\n",
      " Accuracy score with SGD is 0.66\n",
      "\n",
      "Confusion metric [[146  30   1   0  20   3  20]\n",
      " [ 59  83   4   0  47  19   2]\n",
      " [  0   1 102  26   8  76   0]\n",
      " [  0   0  12 190   0  16   0]\n",
      " [  7  26  16   0 154  11   0]\n",
      " [  1   2  30  21  24 140   0]\n",
      " [ 34   0   0   0   4   0 177]]\n",
      "Train time = 0.23\n"
     ]
    }
   ],
   "source": [
    "sgd_clf = linear_model.SGDClassifier(alpha=0.001)\n",
    "start_time = time.time()\n",
    "sgd_clf.fit(train_data_minmax, train_label)\n",
    "pred_sgd= sgd_clf.predict(dev_data_minmax)\n",
    "print (metrics.classification_report(dev_label, pred_sgd))\n",
    "print (\" Accuracy score with SGD is {0:.2f}\".format(metrics.accuracy_score(dev_label, pred_sgd)))\n",
    "print(\"\\nConfusion metric\", metrics.confusion_matrix(dev_label, pred_sgd))\n",
    "print ('Train time = %.2f' %(time.time() - start_time))\n"
   ]
  },
  {
   "cell_type": "markdown",
   "id": "65ad3800",
   "metadata": {
    "papermill": {
     "duration": null,
     "end_time": null,
     "exception": null,
     "start_time": null,
     "status": "pending"
    },
    "tags": []
   },
   "source": [
    "***Accuracy score with SGD is 0.66***"
   ]
  },
  {
   "cell_type": "markdown",
   "id": "fc58a1f1",
   "metadata": {
    "papermill": {
     "duration": null,
     "end_time": null,
     "exception": null,
     "start_time": null,
     "status": "pending"
    },
    "tags": []
   },
   "source": [
    "## Model 6:\n",
    "## **Support Vector Machine**\n",
    "\n",
    "The objective of the support vector machine algorithm is to find a hyperplane in an N-dimensional space(N — the number of features) that distinctly classifies the data points.\n",
    "\n",
    "SVM performs well when the training data is less. \n",
    "\n",
    "Let's find the accuracy without scaling data."
   ]
  },
  {
   "cell_type": "code",
   "execution_count": 5,
   "id": "e5a0c6cc",
   "metadata": {},
   "outputs": [
    {
     "name": "stdout",
     "output_type": "stream",
     "text": [
      "{'C': 10, 'gamma': 0.01, 'kernel': 'rbf'}\n",
      "Acuracy score of support vector machine is:0.16\n",
      "              precision    recall  f1-score   support\n",
      "\n",
      "           1       1.00      0.00      0.01       220\n",
      "           2       1.00      0.00      0.01       214\n",
      "           3       0.14      1.00      0.25       213\n",
      "           4       1.00      0.03      0.05       218\n",
      "           5       0.95      0.08      0.15       214\n",
      "           6       1.00      0.01      0.02       218\n",
      "           7       1.00      0.00      0.01       215\n",
      "\n",
      "    accuracy                           0.16      1512\n",
      "   macro avg       0.87      0.16      0.07      1512\n",
      "weighted avg       0.87      0.16      0.07      1512\n",
      "\n",
      "Train time = 1225.74\n"
     ]
    }
   ],
   "source": [
    "# finding the best parameters and running with no scaling at all.\n",
    "param_grid = {'C': [1, 10, 100, 1000], \n",
    "              'gamma': [1, 0.5, 0.1, 0.01], \n",
    "              'kernel': ['rbf']}\n",
    "best_svm = GridSearchCV(SVC(), param_grid, scoring='accuracy')\n",
    "start_time = time.time()\n",
    "best_svm.fit(train_data, train_label)\n",
    "best_svm.score(dev_data, dev_label)\n",
    "print (best_svm.best_params_)\n",
    "\n",
    "svm = SVC(kernel = best_svm.best_params_['kernel'], C=best_svm.best_params_['C'],\n",
    "          gamma=best_svm.best_params_['gamma'])\n",
    "svm.fit(train_data, train_label)\n",
    "svm_preds = svm.predict(dev_data)\n",
    "print ('Acuracy score of support vector machine is:{0:.2f}'.format(metrics.accuracy_score(dev_label, svm_preds)))\n",
    "print (classification_report(dev_label, svm_preds))\n",
    "print ('Train time = %.2f' %(time.time() - start_time))\n"
   ]
  },
  {
   "cell_type": "markdown",
   "id": "054f22db",
   "metadata": {},
   "source": [
    "***As we can clearly see from the SVM results. SVM performs the worst with just 16% accuarcy, when run with no scaled data***\n",
    "\n",
    "Let's try SVM with scaled data now."
   ]
  },
  {
   "cell_type": "code",
   "execution_count": 77,
   "id": "39cb804e",
   "metadata": {
    "execution": {
     "iopub.execute_input": "2021-07-20T18:53:40.481569Z",
     "iopub.status.busy": "2021-07-20T18:53:40.481186Z",
     "iopub.status.idle": "2021-07-20T18:59:03.012975Z",
     "shell.execute_reply": "2021-07-20T18:59:03.011934Z",
     "shell.execute_reply.started": "2021-07-20T18:53:40.481513Z"
    },
    "papermill": {
     "duration": null,
     "end_time": null,
     "exception": null,
     "start_time": null,
     "status": "pending"
    },
    "tags": []
   },
   "outputs": [
    {
     "name": "stdout",
     "output_type": "stream",
     "text": [
      "{'C': 1000, 'gamma': 1, 'kernel': 'rbf'}\n",
      "Acuracy score of support vector machine is:0.85\n",
      "              precision    recall  f1-score   support\n",
      "\n",
      "           1       0.76      0.76      0.76       220\n",
      "           2       0.73      0.66      0.69       214\n",
      "           3       0.84      0.84      0.84       213\n",
      "           4       0.95      0.98      0.96       218\n",
      "           5       0.87      0.93      0.90       214\n",
      "           6       0.85      0.81      0.83       218\n",
      "           7       0.93      0.97      0.95       215\n",
      "\n",
      "    accuracy                           0.85      1512\n",
      "   macro avg       0.85      0.85      0.85      1512\n",
      "weighted avg       0.85      0.85      0.85      1512\n",
      "\n",
      "Train time = 658.90\n"
     ]
    }
   ],
   "source": [
    "# finding the best parameters with scaled data\n",
    "param_grid = {'C': [1, 10, 100, 1000], \n",
    "              'gamma': [1, 0.5, 0.1, 0.01], \n",
    "              'kernel': ['rbf']}\n",
    "best_svm = GridSearchCV(SVC(), param_grid, scoring='accuracy')\n",
    "start_time = time.time()\n",
    "best_svm.fit(train_data_minmax, train_label)\n",
    "best_svm.score(dev_data_minmax, dev_label)\n",
    "print (best_svm.best_params_)\n",
    "\n",
    "svm = SVC(kernel = best_svm.best_params_['kernel'], C=best_svm.best_params_['C'],\n",
    "          gamma=best_svm.best_params_['gamma'])\n",
    "svm.fit(train_data_minmax, train_label)\n",
    "svm_preds = svm.predict(dev_data_minmax)\n",
    "print ('Acuracy score of support vector machine is:{0:.2f}'.format(metrics.accuracy_score(dev_label, svm_preds)))\n",
    "print (classification_report(dev_label, svm_preds))\n",
    "print ('Train time = %.2f' %(time.time() - start_time))\n"
   ]
  },
  {
   "cell_type": "markdown",
   "id": "8fae06a6",
   "metadata": {},
   "source": [
    "***Accuracy score for SVM with scaled data is 0.85***"
   ]
  },
  {
   "cell_type": "markdown",
   "id": "7a503c6b",
   "metadata": {},
   "source": [
    "Running SVM with the best parameter identified above and with scaled data"
   ]
  },
  {
   "cell_type": "code",
   "execution_count": 8,
   "id": "e2bd9adb",
   "metadata": {
    "execution": {
     "iopub.execute_input": "2021-07-20T18:59:32.425418Z",
     "iopub.status.busy": "2021-07-20T18:59:32.425052Z",
     "iopub.status.idle": "2021-07-20T18:59:40.630586Z",
     "shell.execute_reply": "2021-07-20T18:59:40.628642Z",
     "shell.execute_reply.started": "2021-07-20T18:59:32.425386Z"
    },
    "papermill": {
     "duration": null,
     "end_time": null,
     "exception": null,
     "start_time": null,
     "status": "pending"
    },
    "tags": []
   },
   "outputs": [
    {
     "name": "stdout",
     "output_type": "stream",
     "text": [
      "Acuracy score with support vector machine is: 0.85\n",
      "[[167  34   0   0   4   0  15]\n",
      " [ 42 141   3   0  20   7   1]\n",
      " [  0   6 179   5   3  20   0]\n",
      " [  0   0   3 213   0   2   0]\n",
      " [  3   7   3   0 200   1   0]\n",
      " [  2   4  26   7   3 176   0]\n",
      " [  6   1   0   0   0   0 208]]\n",
      "Train time = 8.73\n"
     ]
    }
   ],
   "source": [
    "# Running SVM with the best parameter identified above and with scaled data\n",
    "SVM = SVC(kernel='rbf', C=1000, gamma=1)\n",
    "start_time = time.time()\n",
    "SVM.fit(train_data_minmax, train_label)\n",
    "pred_y_dev_SVM = SVM.predict(dev_data_minmax)\n",
    "acc_SVM = metrics.accuracy_score(dev_label, pred_y_dev_SVM)\n",
    "print ('Acuracy score with support vector machine is: {0:.2f}'.format(acc_SVM))\n",
    "CM = (metrics.confusion_matrix(dev_label, pred_y_dev_SVM))\n",
    "print (CM)\n",
    "print ('Train time = %.2f' %(time.time() - start_time))"
   ]
  },
  {
   "cell_type": "markdown",
   "id": "91c87206",
   "metadata": {},
   "source": [
    "Although SVM model managed to beat the results of Random forest classifier model, we will still not consider SVM as our final model because of its many disadvantages.\n",
    "\n",
    "- `SVM` needs scaled data, else it gives the worst performace as can be seen from above.\n",
    "- `SVM` requires more computation time for achieving almost the same accuracy as with other classifiers such as Random forest.\n",
    "- `SVM` does not perform well when the training data is less. \n",
    "- `SVM` is not suited for multiclass problems. Here we have 7 classes, hence SVM won't be the right choice, unless data preprocessing(minmax) is done.\n"
   ]
  },
  {
   "cell_type": "markdown",
   "id": "6152c03e",
   "metadata": {},
   "source": [
    "## Model 7:\n",
    "\n",
    "## Neural Networks"
   ]
  },
  {
   "cell_type": "markdown",
   "id": "37c60aee",
   "metadata": {},
   "source": [
    "Looking ahead to working with neural networks, let's prepare one additional variation of the label data. Let's make these labels, rather than each being an integer value from 1-7, be a set of 7 binary values, one for each class. This is sometimes called a 1-of-n encoding, and it makes working with Neural Networks easier, as there will be one output node for each class."
   ]
  },
  {
   "cell_type": "code",
   "execution_count": 35,
   "id": "85cbae78",
   "metadata": {},
   "outputs": [
    {
     "name": "stdout",
     "output_type": "stream",
     "text": [
      "(13608, 7)\n",
      "Classes = 7\n"
     ]
    }
   ],
   "source": [
    "def binarizeY(data):\n",
    "    binarized_data = np.zeros((data.size, 7))\n",
    "    for j in range(0, data.size):\n",
    "        feature = data[j:j+1]\n",
    "        i = feature.astype(np.int64) \n",
    "        binarized_data[j, i-1] = 1\n",
    "    return binarized_data\n",
    "train_label_b = binarizeY(train_label)\n",
    "dev_label_b = binarizeY(dev_label)\n",
    "numClasses = train_label_b[1].size\n",
    "print(train_label_b.shape)\n",
    "print ('Classes = %d' %(numClasses))"
   ]
  },
  {
   "cell_type": "markdown",
   "id": "a712bef0",
   "metadata": {},
   "source": [
    "***We have 7 classes. We can use the softmax activation, which is essentially a multi-class version of sigmoid. We'll use Keras's built-in implementation of softmax.***\n",
    "\n",
    "***The objective is to minimize the cost, and to do that we'll use a mini-batch gradient descent.***"
   ]
  },
  {
   "cell_type": "code",
   "execution_count": 42,
   "id": "fd20abcb",
   "metadata": {},
   "outputs": [
    {
     "name": "stderr",
     "output_type": "stream",
     "text": [
      "/Users/jkumari/opt/anaconda3/lib/python3.8/site-packages/tensorflow/python/keras/optimizer_v2/optimizer_v2.py:374: UserWarning: The `lr` argument is deprecated, use `learning_rate` instead.\n",
      "  warnings.warn(\n"
     ]
    },
    {
     "name": "stdout",
     "output_type": "stream",
     "text": [
      "Train time = 1240.51\n",
      "Dev score: 11888.65234375\n",
      "Dev accuracy: 0.5178571343421936\n"
     ]
    }
   ],
   "source": [
    "## Model\n",
    "import time\n",
    "from tensorflow.keras.models import Sequential \n",
    "from tensorflow.keras.layers import Dense, Activation, Dropout, Flatten\n",
    "from tensorflow.keras import optimizers\n",
    "from tensorflow.keras.layers import Conv2D\n",
    "from tensorflow.keras.layers import MaxPooling2D\n",
    "\n",
    "numTrainExamples = train_data.shape[0]\n",
    "\n",
    "## Model\n",
    "model = Sequential() \n",
    "model.add(Dense(7, input_dim=54, activation='softmax')) \n",
    "\n",
    "## Cost function & Objective (and solver)\n",
    "sgd = optimizers.SGD(lr=0.01)\n",
    "model.compile(optimizer=sgd, loss='categorical_crossentropy', metrics=['accuracy'])\n",
    "start_time = time.time()\n",
    "history = model.fit(train_data, train_label_b, shuffle=False, batch_size=10, verbose=0, epochs=1500) \n",
    "print ('Train time = %.2f' %(time.time() - start_time))\n",
    "score = model.evaluate(dev_data, dev_label_b, verbose=0) \n",
    "print('Dev score:', score[0]) \n",
    "print('Dev accuracy:', score[1])"
   ]
  },
  {
   "cell_type": "markdown",
   "id": "ba4a551e",
   "metadata": {},
   "source": [
    "***What happens if we convert mini gradient descent to stochastic gradient descent?***"
   ]
  },
  {
   "cell_type": "code",
   "execution_count": 37,
   "id": "19fa778a",
   "metadata": {
    "scrolled": false
   },
   "outputs": [
    {
     "name": "stderr",
     "output_type": "stream",
     "text": [
      "/Users/jkumari/opt/anaconda3/lib/python3.8/site-packages/tensorflow/python/keras/optimizer_v2/optimizer_v2.py:374: UserWarning: The `lr` argument is deprecated, use `learning_rate` instead.\n",
      "  warnings.warn(\n"
     ]
    },
    {
     "name": "stdout",
     "output_type": "stream",
     "text": [
      "Train time = 6681.48\n",
      "Dev score: 63130.5625\n",
      "Dev accuracy: 0.523809552192688\n"
     ]
    }
   ],
   "source": [
    "## Model\n",
    "import time\n",
    "from tensorflow.keras.models import Sequential \n",
    "from tensorflow.keras.layers import Dense, Activation, Dropout, Flatten\n",
    "from tensorflow.keras import optimizers\n",
    "from tensorflow.keras.layers import Conv2D\n",
    "from tensorflow.keras.layers import MaxPooling2D\n",
    "\n",
    "numTrainExamples = train_data.shape[0]\n",
    "\n",
    "## Model\n",
    "model = Sequential() \n",
    "model.add(Dense(7, input_dim=54, activation='softmax')) \n",
    "\n",
    "## Cost function & Objective (and solver)\n",
    "sgd = optimizers.SGD(lr=0.01)\n",
    "model.compile(optimizer=sgd, loss='categorical_crossentropy', metrics=['accuracy'])\n",
    "start_time = time.time()\n",
    "history = model.fit(train_data, train_label_b, shuffle=False, batch_size=1, verbose=0, epochs=1500) \n",
    "print ('Train time = %.2f' %(time.time() - start_time))\n",
    "score = model.evaluate(dev_data, dev_label_b, verbose=0) \n",
    "print('Dev score:', score[0]) \n",
    "print('Dev accuracy:', score[1])"
   ]
  },
  {
   "cell_type": "markdown",
   "id": "0b0c1bb4",
   "metadata": {},
   "source": [
    "We can see some improvement in accuracy after changing from mini gradient descent to stochastic gradient descent from 51 to 52%."
   ]
  },
  {
   "cell_type": "markdown",
   "id": "d321b732",
   "metadata": {},
   "source": [
    "***Now, let's try by changing the learning rate to 0.001 and use Adam optimizer.***"
   ]
  },
  {
   "cell_type": "code",
   "execution_count": 54,
   "id": "8e54ce33",
   "metadata": {},
   "outputs": [
    {
     "name": "stdout",
     "output_type": "stream",
     "text": [
      "Train time = 2362.66\n",
      "Dev score: 3.439383029937744\n",
      "Dev accuracy: 0.591269850730896\n"
     ]
    }
   ],
   "source": [
    "## Model\n",
    "import time\n",
    "from tensorflow.keras.models import Sequential \n",
    "from tensorflow.keras.layers import Dense, Activation, Dropout, Flatten\n",
    "from tensorflow.keras import optimizers\n",
    "from tensorflow.keras.layers import Conv2D\n",
    "from tensorflow.keras.layers import MaxPooling2D\n",
    "\n",
    "numTrainExamples = train_data.shape[0]\n",
    "\n",
    "## Model\n",
    "model = Sequential() \n",
    "model.add(Dense(7, input_dim=54, activation='softmax')) \n",
    "\n",
    "## Cost function & Objective (and solver)\n",
    "adam = optimizers.Adam(learning_rate=0.001)\n",
    "model.compile(optimizer=adam, loss='categorical_crossentropy', metrics=['accuracy'])\n",
    "start_time = time.time()\n",
    "history = model.fit(train_data, train_label_b, shuffle=False, batch_size=10, verbose=0, epochs=1500) \n",
    "print ('Train time = %.2f' %(time.time() - start_time))\n",
    "score = model.evaluate(dev_data, dev_label_b, verbose=0) \n",
    "print('Dev score:', score[0]) \n",
    "print('Dev accuracy:', score[1])"
   ]
  },
  {
   "cell_type": "markdown",
   "id": "6564546e",
   "metadata": {},
   "source": [
    "***Using Adam optimizer and changing learning rate to 0.001 improved the accuracy from 51% to 59%***"
   ]
  },
  {
   "cell_type": "code",
   "execution_count": 38,
   "id": "713f8c53",
   "metadata": {},
   "outputs": [
    {
     "name": "stdout",
     "output_type": "stream",
     "text": [
      "Model: \"sequential_1\"\n",
      "_________________________________________________________________\n",
      "Layer (type)                 Output Shape              Param #   \n",
      "=================================================================\n",
      "dense_1 (Dense)              (None, 7)                 385       \n",
      "=================================================================\n",
      "Total params: 385\n",
      "Trainable params: 385\n",
      "Non-trainable params: 0\n",
      "_________________________________________________________________\n"
     ]
    }
   ],
   "source": [
    "model.summary()"
   ]
  },
  {
   "cell_type": "markdown",
   "id": "2e014f9b",
   "metadata": {},
   "source": [
    "#### Multi-layer Neural Networks"
   ]
  },
  {
   "cell_type": "markdown",
   "id": "c3097375",
   "metadata": {},
   "source": [
    "Let's take our implementation of single layer neural network (which recall is in fact a logistic regression), and add a hidden layer, making it a two layer neural network. Because we have a hidden layer, we will now train the model using backpropagation.\n",
    "\n",
    "***Along with adding a second hidden layer. Let's also try adding rectifier activation and dropout noise and adam optimizer***"
   ]
  },
  {
   "cell_type": "code",
   "execution_count": 56,
   "id": "dc492a21",
   "metadata": {},
   "outputs": [
    {
     "name": "stdout",
     "output_type": "stream",
     "text": [
      "Epoch 1/500\n",
      "1361/1361 - 2s - loss: 44.4726 - accuracy: 0.1470\n",
      "Epoch 2/500\n",
      "1361/1361 - 2s - loss: 1.9949 - accuracy: 0.1404\n",
      "Epoch 3/500\n",
      "1361/1361 - 2s - loss: 1.9499 - accuracy: 0.1382\n",
      "Epoch 4/500\n",
      "1361/1361 - 2s - loss: 1.9461 - accuracy: 0.1379\n",
      "Epoch 5/500\n",
      "1361/1361 - 2s - loss: 1.9460 - accuracy: 0.1368\n",
      "Epoch 6/500\n",
      "1361/1361 - 2s - loss: 1.9461 - accuracy: 0.1379\n",
      "Epoch 7/500\n",
      "1361/1361 - 2s - loss: 1.9460 - accuracy: 0.1373\n",
      "Epoch 8/500\n",
      "1361/1361 - 2s - loss: 1.9460 - accuracy: 0.1385\n",
      "Epoch 9/500\n",
      "1361/1361 - 2s - loss: 1.9461 - accuracy: 0.1386\n",
      "Epoch 10/500\n",
      "1361/1361 - 2s - loss: 1.9461 - accuracy: 0.1388\n",
      "Epoch 11/500\n",
      "1361/1361 - 2s - loss: 1.9461 - accuracy: 0.1387\n",
      "Epoch 12/500\n",
      "1361/1361 - 2s - loss: 1.9462 - accuracy: 0.1387\n",
      "Epoch 13/500\n",
      "1361/1361 - 2s - loss: 1.9462 - accuracy: 0.1387\n",
      "Epoch 14/500\n",
      "1361/1361 - 2s - loss: 1.9462 - accuracy: 0.1387\n",
      "Epoch 15/500\n",
      "1361/1361 - 2s - loss: 1.9462 - accuracy: 0.1387\n",
      "Epoch 16/500\n",
      "1361/1361 - 2s - loss: 1.9462 - accuracy: 0.1387\n",
      "Epoch 17/500\n",
      "1361/1361 - 2s - loss: 1.9462 - accuracy: 0.1387\n",
      "Epoch 18/500\n",
      "1361/1361 - 3s - loss: 1.9462 - accuracy: 0.1387\n",
      "Epoch 19/500\n",
      "1361/1361 - 3s - loss: 1.9462 - accuracy: 0.1387\n",
      "Epoch 20/500\n",
      "1361/1361 - 3s - loss: 1.9462 - accuracy: 0.1387\n",
      "Epoch 21/500\n",
      "1361/1361 - 3s - loss: 1.9462 - accuracy: 0.1387\n",
      "Epoch 22/500\n",
      "1361/1361 - 3s - loss: 1.9462 - accuracy: 0.1387\n",
      "Epoch 23/500\n",
      "1361/1361 - 2s - loss: 1.9462 - accuracy: 0.1387\n",
      "Epoch 24/500\n",
      "1361/1361 - 2s - loss: 1.9462 - accuracy: 0.1387\n",
      "Epoch 25/500\n",
      "1361/1361 - 2s - loss: 1.9462 - accuracy: 0.1387\n",
      "Epoch 26/500\n",
      "1361/1361 - 2s - loss: 1.9462 - accuracy: 0.1387\n",
      "Epoch 27/500\n",
      "1361/1361 - 2s - loss: 1.9462 - accuracy: 0.1387\n",
      "Epoch 28/500\n",
      "1361/1361 - 2s - loss: 1.9462 - accuracy: 0.1387\n",
      "Epoch 29/500\n",
      "1361/1361 - 2s - loss: 1.9462 - accuracy: 0.1387\n",
      "Epoch 30/500\n",
      "1361/1361 - 2s - loss: 1.9462 - accuracy: 0.1387\n",
      "Epoch 31/500\n",
      "1361/1361 - 2s - loss: 1.9462 - accuracy: 0.1387\n",
      "Epoch 32/500\n",
      "1361/1361 - 3s - loss: 1.9462 - accuracy: 0.1387\n",
      "Epoch 33/500\n",
      "1361/1361 - 3s - loss: 1.9462 - accuracy: 0.1387\n",
      "Epoch 34/500\n",
      "1361/1361 - 3s - loss: 1.9462 - accuracy: 0.1387\n",
      "Epoch 35/500\n",
      "1361/1361 - 3s - loss: 1.9462 - accuracy: 0.1387\n",
      "Epoch 36/500\n",
      "1361/1361 - 2s - loss: 1.9462 - accuracy: 0.1387\n",
      "Epoch 37/500\n",
      "1361/1361 - 3s - loss: 1.9462 - accuracy: 0.1387\n",
      "Epoch 38/500\n",
      "1361/1361 - 2s - loss: 1.9462 - accuracy: 0.1387\n",
      "Epoch 39/500\n",
      "1361/1361 - 2s - loss: 1.9462 - accuracy: 0.1387\n",
      "Epoch 40/500\n",
      "1361/1361 - 2s - loss: 1.9462 - accuracy: 0.1387\n",
      "Epoch 41/500\n",
      "1361/1361 - 2s - loss: 1.9462 - accuracy: 0.1387\n",
      "Epoch 42/500\n",
      "1361/1361 - 2s - loss: 1.9462 - accuracy: 0.1387\n",
      "Epoch 43/500\n",
      "1361/1361 - 2s - loss: 1.9462 - accuracy: 0.1387\n",
      "Epoch 44/500\n",
      "1361/1361 - 2s - loss: 1.9462 - accuracy: 0.1387\n",
      "Epoch 45/500\n",
      "1361/1361 - 2s - loss: 1.9462 - accuracy: 0.1387\n",
      "Epoch 46/500\n",
      "1361/1361 - 2s - loss: 1.9462 - accuracy: 0.1387\n",
      "Epoch 47/500\n",
      "1361/1361 - 2s - loss: 1.9462 - accuracy: 0.1387\n",
      "Epoch 48/500\n",
      "1361/1361 - 2s - loss: 1.9462 - accuracy: 0.1387\n",
      "Epoch 49/500\n",
      "1361/1361 - 2s - loss: 1.9462 - accuracy: 0.1387\n",
      "Epoch 50/500\n",
      "1361/1361 - 2s - loss: 1.9462 - accuracy: 0.1387\n",
      "Epoch 51/500\n",
      "1361/1361 - 2s - loss: 1.9462 - accuracy: 0.1387\n",
      "Epoch 52/500\n",
      "1361/1361 - 2s - loss: 1.9462 - accuracy: 0.1387\n",
      "Epoch 53/500\n",
      "1361/1361 - 2s - loss: 1.9462 - accuracy: 0.1387\n",
      "Epoch 54/500\n",
      "1361/1361 - 2s - loss: 1.9462 - accuracy: 0.1387\n",
      "Epoch 55/500\n",
      "1361/1361 - 2s - loss: 1.9462 - accuracy: 0.1387\n",
      "Epoch 56/500\n",
      "1361/1361 - 2s - loss: 1.9462 - accuracy: 0.1387\n",
      "Epoch 57/500\n",
      "1361/1361 - 2s - loss: 1.9462 - accuracy: 0.1387\n",
      "Epoch 58/500\n",
      "1361/1361 - 2s - loss: 1.9462 - accuracy: 0.1387\n",
      "Epoch 59/500\n",
      "1361/1361 - 2s - loss: 1.9462 - accuracy: 0.1387\n",
      "Epoch 60/500\n",
      "1361/1361 - 2s - loss: 1.9462 - accuracy: 0.1387\n",
      "Epoch 61/500\n",
      "1361/1361 - 2s - loss: 1.9462 - accuracy: 0.1387\n",
      "Epoch 62/500\n",
      "1361/1361 - 2s - loss: 1.9462 - accuracy: 0.1387\n",
      "Epoch 63/500\n",
      "1361/1361 - 2s - loss: 1.9462 - accuracy: 0.1387\n",
      "Epoch 64/500\n",
      "1361/1361 - 2s - loss: 1.9462 - accuracy: 0.1387\n",
      "Epoch 65/500\n",
      "1361/1361 - 2s - loss: 1.9462 - accuracy: 0.1387\n",
      "Epoch 66/500\n",
      "1361/1361 - 2s - loss: 1.9462 - accuracy: 0.1387\n",
      "Epoch 67/500\n",
      "1361/1361 - 2s - loss: 1.9462 - accuracy: 0.1387\n",
      "Epoch 68/500\n",
      "1361/1361 - 2s - loss: 1.9462 - accuracy: 0.1387\n",
      "Epoch 69/500\n",
      "1361/1361 - 2s - loss: 1.9462 - accuracy: 0.1387\n",
      "Epoch 70/500\n",
      "1361/1361 - 2s - loss: 1.9462 - accuracy: 0.1387\n",
      "Epoch 71/500\n",
      "1361/1361 - 2s - loss: 1.9462 - accuracy: 0.1387\n",
      "Epoch 72/500\n",
      "1361/1361 - 2s - loss: 1.9462 - accuracy: 0.1387\n",
      "Epoch 73/500\n",
      "1361/1361 - 2s - loss: 1.9462 - accuracy: 0.1387\n",
      "Epoch 74/500\n",
      "1361/1361 - 2s - loss: 1.9462 - accuracy: 0.1387\n",
      "Epoch 75/500\n",
      "1361/1361 - 2s - loss: 1.9462 - accuracy: 0.1387\n",
      "Epoch 76/500\n",
      "1361/1361 - 2s - loss: 1.9462 - accuracy: 0.1387\n",
      "Epoch 77/500\n",
      "1361/1361 - 2s - loss: 1.9462 - accuracy: 0.1387\n",
      "Epoch 78/500\n",
      "1361/1361 - 2s - loss: 1.9462 - accuracy: 0.1387\n",
      "Epoch 79/500\n",
      "1361/1361 - 2s - loss: 1.9462 - accuracy: 0.1387\n",
      "Epoch 80/500\n",
      "1361/1361 - 2s - loss: 1.9462 - accuracy: 0.1387\n",
      "Epoch 81/500\n",
      "1361/1361 - 2s - loss: 1.9462 - accuracy: 0.1387\n",
      "Epoch 82/500\n",
      "1361/1361 - 2s - loss: 1.9462 - accuracy: 0.1387\n",
      "Epoch 83/500\n",
      "1361/1361 - 2s - loss: 1.9462 - accuracy: 0.1387\n",
      "Epoch 84/500\n",
      "1361/1361 - 2s - loss: 1.9462 - accuracy: 0.1387\n",
      "Epoch 85/500\n",
      "1361/1361 - 2s - loss: 1.9462 - accuracy: 0.1387\n",
      "Epoch 86/500\n",
      "1361/1361 - 2s - loss: 1.9462 - accuracy: 0.1387\n",
      "Epoch 87/500\n",
      "1361/1361 - 2s - loss: 1.9462 - accuracy: 0.1387\n",
      "Epoch 88/500\n",
      "1361/1361 - 2s - loss: 1.9462 - accuracy: 0.1387\n",
      "Epoch 89/500\n",
      "1361/1361 - 2s - loss: 1.9462 - accuracy: 0.1387\n",
      "Epoch 90/500\n",
      "1361/1361 - 2s - loss: 1.9462 - accuracy: 0.1387\n",
      "Epoch 91/500\n",
      "1361/1361 - 2s - loss: 1.9462 - accuracy: 0.1387\n",
      "Epoch 92/500\n",
      "1361/1361 - 2s - loss: 1.9462 - accuracy: 0.1387\n",
      "Epoch 93/500\n",
      "1361/1361 - 2s - loss: 1.9462 - accuracy: 0.1387\n",
      "Epoch 94/500\n",
      "1361/1361 - 2s - loss: 1.9462 - accuracy: 0.1387\n",
      "Epoch 95/500\n",
      "1361/1361 - 2s - loss: 1.9462 - accuracy: 0.1387\n",
      "Epoch 96/500\n",
      "1361/1361 - 2s - loss: 1.9462 - accuracy: 0.1387\n",
      "Epoch 97/500\n",
      "1361/1361 - 2s - loss: 1.9462 - accuracy: 0.1387\n",
      "Epoch 98/500\n",
      "1361/1361 - 2s - loss: 1.9462 - accuracy: 0.1387\n",
      "Epoch 99/500\n",
      "1361/1361 - 2s - loss: 1.9462 - accuracy: 0.1387\n",
      "Epoch 100/500\n",
      "1361/1361 - 3s - loss: 1.9462 - accuracy: 0.1387\n",
      "Epoch 101/500\n",
      "1361/1361 - 2s - loss: 1.9462 - accuracy: 0.1387\n",
      "Epoch 102/500\n",
      "1361/1361 - 2s - loss: 1.9462 - accuracy: 0.1387\n",
      "Epoch 103/500\n",
      "1361/1361 - 2s - loss: 1.9462 - accuracy: 0.1387\n",
      "Epoch 104/500\n",
      "1361/1361 - 3s - loss: 1.9462 - accuracy: 0.1387\n",
      "Epoch 105/500\n",
      "1361/1361 - 2s - loss: 1.9462 - accuracy: 0.1387\n",
      "Epoch 106/500\n",
      "1361/1361 - 3s - loss: 1.9462 - accuracy: 0.1387\n",
      "Epoch 107/500\n",
      "1361/1361 - 3s - loss: 1.9462 - accuracy: 0.1387\n",
      "Epoch 108/500\n",
      "1361/1361 - 2s - loss: 1.9462 - accuracy: 0.1387\n",
      "Epoch 109/500\n",
      "1361/1361 - 2s - loss: 1.9462 - accuracy: 0.1387\n",
      "Epoch 110/500\n",
      "1361/1361 - 3s - loss: 1.9462 - accuracy: 0.1387\n",
      "Epoch 111/500\n",
      "1361/1361 - 3s - loss: 1.9462 - accuracy: 0.1387\n",
      "Epoch 112/500\n",
      "1361/1361 - 3s - loss: 1.9462 - accuracy: 0.1387\n",
      "Epoch 113/500\n",
      "1361/1361 - 3s - loss: 1.9462 - accuracy: 0.1387\n",
      "Epoch 114/500\n",
      "1361/1361 - 3s - loss: 1.9462 - accuracy: 0.1387\n",
      "Epoch 115/500\n",
      "1361/1361 - 3s - loss: 1.9462 - accuracy: 0.1387\n",
      "Epoch 116/500\n",
      "1361/1361 - 2s - loss: 1.9462 - accuracy: 0.1387\n",
      "Epoch 117/500\n",
      "1361/1361 - 2s - loss: 1.9462 - accuracy: 0.1387\n",
      "Epoch 118/500\n",
      "1361/1361 - 3s - loss: 1.9462 - accuracy: 0.1387\n",
      "Epoch 119/500\n",
      "1361/1361 - 3s - loss: 1.9462 - accuracy: 0.1387\n",
      "Epoch 120/500\n",
      "1361/1361 - 2s - loss: 1.9462 - accuracy: 0.1387\n",
      "Epoch 121/500\n",
      "1361/1361 - 3s - loss: 1.9462 - accuracy: 0.1387\n",
      "Epoch 122/500\n",
      "1361/1361 - 2s - loss: 1.9462 - accuracy: 0.1387\n",
      "Epoch 123/500\n",
      "1361/1361 - 2s - loss: 1.9462 - accuracy: 0.1387\n",
      "Epoch 124/500\n",
      "1361/1361 - 3s - loss: 1.9462 - accuracy: 0.1387\n",
      "Epoch 125/500\n",
      "1361/1361 - 3s - loss: 1.9462 - accuracy: 0.1387\n",
      "Epoch 126/500\n",
      "1361/1361 - 3s - loss: 1.9462 - accuracy: 0.1387\n",
      "Epoch 127/500\n",
      "1361/1361 - 3s - loss: 1.9462 - accuracy: 0.1387\n",
      "Epoch 128/500\n",
      "1361/1361 - 3s - loss: 1.9462 - accuracy: 0.1387\n",
      "Epoch 129/500\n",
      "1361/1361 - 2s - loss: 1.9462 - accuracy: 0.1387\n",
      "Epoch 130/500\n",
      "1361/1361 - 3s - loss: 1.9462 - accuracy: 0.1387\n",
      "Epoch 131/500\n",
      "1361/1361 - 3s - loss: 1.9462 - accuracy: 0.1387\n",
      "Epoch 132/500\n",
      "1361/1361 - 3s - loss: 1.9462 - accuracy: 0.1387\n"
     ]
    },
    {
     "name": "stdout",
     "output_type": "stream",
     "text": [
      "Epoch 133/500\n",
      "1361/1361 - 3s - loss: 1.9462 - accuracy: 0.1387\n",
      "Epoch 134/500\n",
      "1361/1361 - 3s - loss: 1.9462 - accuracy: 0.1387\n",
      "Epoch 135/500\n",
      "1361/1361 - 3s - loss: 1.9462 - accuracy: 0.1387\n",
      "Epoch 136/500\n",
      "1361/1361 - 3s - loss: 1.9462 - accuracy: 0.1387\n",
      "Epoch 137/500\n",
      "1361/1361 - 3s - loss: 1.9462 - accuracy: 0.1387\n",
      "Epoch 138/500\n",
      "1361/1361 - 2s - loss: 1.9462 - accuracy: 0.1387\n",
      "Epoch 139/500\n",
      "1361/1361 - 3s - loss: 1.9462 - accuracy: 0.1387\n",
      "Epoch 140/500\n",
      "1361/1361 - 2s - loss: 1.9462 - accuracy: 0.1387\n",
      "Epoch 141/500\n",
      "1361/1361 - 2s - loss: 1.9462 - accuracy: 0.1387\n",
      "Epoch 142/500\n",
      "1361/1361 - 2s - loss: 1.9462 - accuracy: 0.1387\n",
      "Epoch 143/500\n",
      "1361/1361 - 2s - loss: 1.9462 - accuracy: 0.1387\n",
      "Epoch 144/500\n",
      "1361/1361 - 2s - loss: 1.9462 - accuracy: 0.1387\n",
      "Epoch 145/500\n",
      "1361/1361 - 2s - loss: 1.9462 - accuracy: 0.1387\n",
      "Epoch 146/500\n",
      "1361/1361 - 2s - loss: 1.9462 - accuracy: 0.1387\n",
      "Epoch 147/500\n",
      "1361/1361 - 2s - loss: 1.9462 - accuracy: 0.1387\n",
      "Epoch 148/500\n",
      "1361/1361 - 2s - loss: 1.9462 - accuracy: 0.1387\n",
      "Epoch 149/500\n",
      "1361/1361 - 2s - loss: 1.9462 - accuracy: 0.1387\n",
      "Epoch 150/500\n",
      "1361/1361 - 2s - loss: 1.9462 - accuracy: 0.1387\n",
      "Epoch 151/500\n",
      "1361/1361 - 2s - loss: 1.9462 - accuracy: 0.1387\n",
      "Epoch 152/500\n",
      "1361/1361 - 2s - loss: 1.9462 - accuracy: 0.1387\n",
      "Epoch 153/500\n",
      "1361/1361 - 2s - loss: 1.9462 - accuracy: 0.1387\n",
      "Epoch 154/500\n",
      "1361/1361 - 2s - loss: 1.9462 - accuracy: 0.1387\n",
      "Epoch 155/500\n",
      "1361/1361 - 2s - loss: 1.9462 - accuracy: 0.1387\n",
      "Epoch 156/500\n",
      "1361/1361 - 2s - loss: 1.9462 - accuracy: 0.1387\n",
      "Epoch 157/500\n",
      "1361/1361 - 2s - loss: 1.9462 - accuracy: 0.1387\n",
      "Epoch 158/500\n",
      "1361/1361 - 2s - loss: 1.9462 - accuracy: 0.1387\n",
      "Epoch 159/500\n",
      "1361/1361 - 2s - loss: 1.9462 - accuracy: 0.1387\n",
      "Epoch 160/500\n",
      "1361/1361 - 2s - loss: 1.9462 - accuracy: 0.1387\n",
      "Epoch 161/500\n",
      "1361/1361 - 2s - loss: 1.9462 - accuracy: 0.1387\n",
      "Epoch 162/500\n",
      "1361/1361 - 2s - loss: 1.9462 - accuracy: 0.1387\n",
      "Epoch 163/500\n",
      "1361/1361 - 2s - loss: 1.9462 - accuracy: 0.1387\n",
      "Epoch 164/500\n",
      "1361/1361 - 2s - loss: 1.9462 - accuracy: 0.1387\n",
      "Epoch 165/500\n",
      "1361/1361 - 2s - loss: 1.9462 - accuracy: 0.1387\n",
      "Epoch 166/500\n",
      "1361/1361 - 2s - loss: 1.9462 - accuracy: 0.1387\n",
      "Epoch 167/500\n",
      "1361/1361 - 2s - loss: 1.9462 - accuracy: 0.1387\n",
      "Epoch 168/500\n",
      "1361/1361 - 2s - loss: 1.9462 - accuracy: 0.1387\n",
      "Epoch 169/500\n",
      "1361/1361 - 2s - loss: 1.9462 - accuracy: 0.1387\n",
      "Epoch 170/500\n",
      "1361/1361 - 2s - loss: 1.9462 - accuracy: 0.1387\n",
      "Epoch 171/500\n",
      "1361/1361 - 2s - loss: 1.9462 - accuracy: 0.1387\n",
      "Epoch 172/500\n",
      "1361/1361 - 2s - loss: 1.9462 - accuracy: 0.1387\n",
      "Epoch 173/500\n",
      "1361/1361 - 2s - loss: 1.9462 - accuracy: 0.1387\n",
      "Epoch 174/500\n",
      "1361/1361 - 2s - loss: 1.9462 - accuracy: 0.1387\n",
      "Epoch 175/500\n",
      "1361/1361 - 2s - loss: 1.9462 - accuracy: 0.1387\n",
      "Epoch 176/500\n",
      "1361/1361 - 2s - loss: 1.9462 - accuracy: 0.1387\n",
      "Epoch 177/500\n",
      "1361/1361 - 2s - loss: 1.9462 - accuracy: 0.1387\n",
      "Epoch 178/500\n",
      "1361/1361 - 2s - loss: 1.9462 - accuracy: 0.1387\n",
      "Epoch 179/500\n",
      "1361/1361 - 2s - loss: 1.9462 - accuracy: 0.1387\n",
      "Epoch 180/500\n",
      "1361/1361 - 2s - loss: 1.9462 - accuracy: 0.1387\n",
      "Epoch 181/500\n",
      "1361/1361 - 2s - loss: 1.9462 - accuracy: 0.1387\n",
      "Epoch 182/500\n",
      "1361/1361 - 2s - loss: 1.9462 - accuracy: 0.1387\n",
      "Epoch 183/500\n",
      "1361/1361 - 2s - loss: 1.9462 - accuracy: 0.1387\n",
      "Epoch 184/500\n",
      "1361/1361 - 2s - loss: 1.9462 - accuracy: 0.1387\n",
      "Epoch 185/500\n",
      "1361/1361 - 3s - loss: 1.9462 - accuracy: 0.1387\n",
      "Epoch 186/500\n",
      "1361/1361 - 2s - loss: 1.9462 - accuracy: 0.1387\n",
      "Epoch 187/500\n",
      "1361/1361 - 3s - loss: 1.9462 - accuracy: 0.1387\n",
      "Epoch 188/500\n",
      "1361/1361 - 2s - loss: 1.9462 - accuracy: 0.1387\n",
      "Epoch 189/500\n",
      "1361/1361 - 3s - loss: 1.9462 - accuracy: 0.1387\n",
      "Epoch 190/500\n",
      "1361/1361 - 3s - loss: 1.9462 - accuracy: 0.1387\n",
      "Epoch 191/500\n",
      "1361/1361 - 3s - loss: 1.9462 - accuracy: 0.1387\n",
      "Epoch 192/500\n",
      "1361/1361 - 2s - loss: 1.9462 - accuracy: 0.1387\n",
      "Epoch 193/500\n",
      "1361/1361 - 3s - loss: 1.9462 - accuracy: 0.1387\n",
      "Epoch 194/500\n",
      "1361/1361 - 2s - loss: 1.9462 - accuracy: 0.1387\n",
      "Epoch 195/500\n",
      "1361/1361 - 3s - loss: 1.9462 - accuracy: 0.1387\n",
      "Epoch 196/500\n",
      "1361/1361 - 3s - loss: 1.9462 - accuracy: 0.1387\n",
      "Epoch 197/500\n",
      "1361/1361 - 3s - loss: 1.9462 - accuracy: 0.1387\n",
      "Epoch 198/500\n",
      "1361/1361 - 3s - loss: 1.9462 - accuracy: 0.1387\n",
      "Epoch 199/500\n",
      "1361/1361 - 2s - loss: 1.9462 - accuracy: 0.1387\n",
      "Epoch 200/500\n",
      "1361/1361 - 3s - loss: 1.9462 - accuracy: 0.1387\n",
      "Epoch 201/500\n",
      "1361/1361 - 3s - loss: 1.9462 - accuracy: 0.1387\n",
      "Epoch 202/500\n",
      "1361/1361 - 3s - loss: 1.9462 - accuracy: 0.1387\n",
      "Epoch 203/500\n",
      "1361/1361 - 3s - loss: 1.9462 - accuracy: 0.1387\n",
      "Epoch 204/500\n",
      "1361/1361 - 3s - loss: 1.9462 - accuracy: 0.1387\n",
      "Epoch 205/500\n",
      "1361/1361 - 3s - loss: 1.9462 - accuracy: 0.1387\n",
      "Epoch 206/500\n",
      "1361/1361 - 3s - loss: 1.9462 - accuracy: 0.1387\n",
      "Epoch 207/500\n",
      "1361/1361 - 3s - loss: 1.9462 - accuracy: 0.1387\n",
      "Epoch 208/500\n",
      "1361/1361 - 3s - loss: 1.9462 - accuracy: 0.1387\n",
      "Epoch 209/500\n",
      "1361/1361 - 3s - loss: 1.9462 - accuracy: 0.1387\n",
      "Epoch 210/500\n",
      "1361/1361 - 3s - loss: 1.9462 - accuracy: 0.1387\n",
      "Epoch 211/500\n",
      "1361/1361 - 3s - loss: 1.9462 - accuracy: 0.1387\n",
      "Epoch 212/500\n",
      "1361/1361 - 2s - loss: 1.9462 - accuracy: 0.1387\n",
      "Epoch 213/500\n",
      "1361/1361 - 2s - loss: 1.9462 - accuracy: 0.1387\n",
      "Epoch 214/500\n",
      "1361/1361 - 2s - loss: 1.9462 - accuracy: 0.1387\n",
      "Epoch 215/500\n",
      "1361/1361 - 2s - loss: 1.9462 - accuracy: 0.1387\n",
      "Epoch 216/500\n",
      "1361/1361 - 2s - loss: 1.9462 - accuracy: 0.1387\n",
      "Epoch 217/500\n",
      "1361/1361 - 2s - loss: 1.9462 - accuracy: 0.1387\n",
      "Epoch 218/500\n",
      "1361/1361 - 2s - loss: 1.9462 - accuracy: 0.1387\n",
      "Epoch 219/500\n",
      "1361/1361 - 2s - loss: 1.9462 - accuracy: 0.1387\n",
      "Epoch 220/500\n",
      "1361/1361 - 2s - loss: 1.9462 - accuracy: 0.1387\n",
      "Epoch 221/500\n",
      "1361/1361 - 2s - loss: 1.9462 - accuracy: 0.1387\n",
      "Epoch 222/500\n",
      "1361/1361 - 2s - loss: 1.9462 - accuracy: 0.1387\n",
      "Epoch 223/500\n",
      "1361/1361 - 2s - loss: 1.9462 - accuracy: 0.1387\n",
      "Epoch 224/500\n",
      "1361/1361 - 2s - loss: 1.9462 - accuracy: 0.1387\n",
      "Epoch 225/500\n",
      "1361/1361 - 2s - loss: 1.9462 - accuracy: 0.1387\n",
      "Epoch 226/500\n",
      "1361/1361 - 2s - loss: 1.9462 - accuracy: 0.1387\n",
      "Epoch 227/500\n",
      "1361/1361 - 2s - loss: 1.9462 - accuracy: 0.1387\n",
      "Epoch 228/500\n",
      "1361/1361 - 2s - loss: 1.9462 - accuracy: 0.1387\n",
      "Epoch 229/500\n",
      "1361/1361 - 2s - loss: 1.9462 - accuracy: 0.1387\n",
      "Epoch 230/500\n",
      "1361/1361 - 3s - loss: 1.9462 - accuracy: 0.1387\n",
      "Epoch 231/500\n",
      "1361/1361 - 3s - loss: 1.9462 - accuracy: 0.1387\n",
      "Epoch 232/500\n",
      "1361/1361 - 2s - loss: 1.9462 - accuracy: 0.1387\n",
      "Epoch 233/500\n",
      "1361/1361 - 2s - loss: 1.9462 - accuracy: 0.1387\n",
      "Epoch 234/500\n",
      "1361/1361 - 2s - loss: 1.9462 - accuracy: 0.1387\n",
      "Epoch 235/500\n",
      "1361/1361 - 2s - loss: 1.9462 - accuracy: 0.1387\n",
      "Epoch 236/500\n",
      "1361/1361 - 2s - loss: 1.9462 - accuracy: 0.1387\n",
      "Epoch 237/500\n",
      "1361/1361 - 2s - loss: 1.9462 - accuracy: 0.1387\n",
      "Epoch 238/500\n",
      "1361/1361 - 2s - loss: 1.9462 - accuracy: 0.1387\n",
      "Epoch 239/500\n",
      "1361/1361 - 1s - loss: 1.9462 - accuracy: 0.1387\n",
      "Epoch 240/500\n",
      "1361/1361 - 1s - loss: 1.9462 - accuracy: 0.1387\n",
      "Epoch 241/500\n",
      "1361/1361 - 1s - loss: 1.9462 - accuracy: 0.1387\n",
      "Epoch 242/500\n",
      "1361/1361 - 2s - loss: 1.9462 - accuracy: 0.1387\n",
      "Epoch 243/500\n",
      "1361/1361 - 2s - loss: 1.9462 - accuracy: 0.1387\n",
      "Epoch 244/500\n",
      "1361/1361 - 2s - loss: 1.9462 - accuracy: 0.1387\n",
      "Epoch 245/500\n",
      "1361/1361 - 2s - loss: 1.9462 - accuracy: 0.1387\n",
      "Epoch 246/500\n",
      "1361/1361 - 2s - loss: 1.9462 - accuracy: 0.1387\n",
      "Epoch 247/500\n",
      "1361/1361 - 1s - loss: 1.9462 - accuracy: 0.1387\n",
      "Epoch 248/500\n",
      "1361/1361 - 1s - loss: 1.9462 - accuracy: 0.1387\n",
      "Epoch 249/500\n",
      "1361/1361 - 1s - loss: 1.9462 - accuracy: 0.1387\n",
      "Epoch 250/500\n",
      "1361/1361 - 1s - loss: 1.9462 - accuracy: 0.1387\n",
      "Epoch 251/500\n",
      "1361/1361 - 1s - loss: 1.9462 - accuracy: 0.1387\n",
      "Epoch 252/500\n",
      "1361/1361 - 1s - loss: 1.9462 - accuracy: 0.1387\n",
      "Epoch 253/500\n",
      "1361/1361 - 1s - loss: 1.9462 - accuracy: 0.1387\n",
      "Epoch 254/500\n",
      "1361/1361 - 1s - loss: 1.9462 - accuracy: 0.1387\n",
      "Epoch 255/500\n",
      "1361/1361 - 1s - loss: 1.9462 - accuracy: 0.1387\n",
      "Epoch 256/500\n",
      "1361/1361 - 1s - loss: 1.9462 - accuracy: 0.1387\n",
      "Epoch 257/500\n",
      "1361/1361 - 1s - loss: 1.9462 - accuracy: 0.1387\n",
      "Epoch 258/500\n",
      "1361/1361 - 1s - loss: 1.9462 - accuracy: 0.1387\n",
      "Epoch 259/500\n",
      "1361/1361 - 1s - loss: 1.9462 - accuracy: 0.1387\n",
      "Epoch 260/500\n",
      "1361/1361 - 1s - loss: 1.9462 - accuracy: 0.1387\n",
      "Epoch 261/500\n",
      "1361/1361 - 2s - loss: 1.9462 - accuracy: 0.1387\n",
      "Epoch 262/500\n",
      "1361/1361 - 2s - loss: 1.9462 - accuracy: 0.1387\n",
      "Epoch 263/500\n"
     ]
    },
    {
     "name": "stdout",
     "output_type": "stream",
     "text": [
      "1361/1361 - 1s - loss: 1.9462 - accuracy: 0.1387\n",
      "Epoch 264/500\n",
      "1361/1361 - 1s - loss: 1.9462 - accuracy: 0.1387\n",
      "Epoch 265/500\n",
      "1361/1361 - 1s - loss: 1.9462 - accuracy: 0.1387\n",
      "Epoch 266/500\n",
      "1361/1361 - 2s - loss: 1.9462 - accuracy: 0.1387\n",
      "Epoch 267/500\n",
      "1361/1361 - 2s - loss: 1.9462 - accuracy: 0.1387\n",
      "Epoch 268/500\n",
      "1361/1361 - 1s - loss: 1.9462 - accuracy: 0.1387\n",
      "Epoch 269/500\n",
      "1361/1361 - 2s - loss: 1.9462 - accuracy: 0.1387\n",
      "Epoch 270/500\n",
      "1361/1361 - 2s - loss: 1.9462 - accuracy: 0.1387\n",
      "Epoch 271/500\n",
      "1361/1361 - 2s - loss: 1.9462 - accuracy: 0.1387\n",
      "Epoch 272/500\n",
      "1361/1361 - 1s - loss: 1.9462 - accuracy: 0.1387\n",
      "Epoch 273/500\n",
      "1361/1361 - 2s - loss: 1.9462 - accuracy: 0.1387\n",
      "Epoch 274/500\n",
      "1361/1361 - 1s - loss: 1.9462 - accuracy: 0.1387\n",
      "Epoch 275/500\n",
      "1361/1361 - 2s - loss: 1.9462 - accuracy: 0.1387\n",
      "Epoch 276/500\n",
      "1361/1361 - 2s - loss: 1.9462 - accuracy: 0.1387\n",
      "Epoch 277/500\n",
      "1361/1361 - 1s - loss: 1.9462 - accuracy: 0.1387\n",
      "Epoch 278/500\n",
      "1361/1361 - 2s - loss: 1.9462 - accuracy: 0.1387\n",
      "Epoch 279/500\n",
      "1361/1361 - 1s - loss: 1.9462 - accuracy: 0.1387\n",
      "Epoch 280/500\n",
      "1361/1361 - 2s - loss: 1.9462 - accuracy: 0.1387\n",
      "Epoch 281/500\n",
      "1361/1361 - 1s - loss: 1.9462 - accuracy: 0.1387\n",
      "Epoch 282/500\n",
      "1361/1361 - 1s - loss: 1.9462 - accuracy: 0.1387\n",
      "Epoch 283/500\n",
      "1361/1361 - 1s - loss: 1.9462 - accuracy: 0.1387\n",
      "Epoch 284/500\n",
      "1361/1361 - 1s - loss: 1.9462 - accuracy: 0.1387\n",
      "Epoch 285/500\n",
      "1361/1361 - 1s - loss: 1.9462 - accuracy: 0.1387\n",
      "Epoch 286/500\n",
      "1361/1361 - 1s - loss: 1.9462 - accuracy: 0.1387\n",
      "Epoch 287/500\n",
      "1361/1361 - 1s - loss: 1.9462 - accuracy: 0.1387\n",
      "Epoch 288/500\n",
      "1361/1361 - 1s - loss: 1.9462 - accuracy: 0.1387\n",
      "Epoch 289/500\n",
      "1361/1361 - 1s - loss: 1.9462 - accuracy: 0.1387\n",
      "Epoch 290/500\n",
      "1361/1361 - 1s - loss: 1.9462 - accuracy: 0.1387\n",
      "Epoch 291/500\n",
      "1361/1361 - 2s - loss: 1.9462 - accuracy: 0.1387\n",
      "Epoch 292/500\n",
      "1361/1361 - 1s - loss: 1.9462 - accuracy: 0.1387\n",
      "Epoch 293/500\n",
      "1361/1361 - 1s - loss: 1.9462 - accuracy: 0.1387\n",
      "Epoch 294/500\n",
      "1361/1361 - 1s - loss: 1.9462 - accuracy: 0.1387\n",
      "Epoch 295/500\n",
      "1361/1361 - 1s - loss: 1.9462 - accuracy: 0.1387\n",
      "Epoch 296/500\n",
      "1361/1361 - 1s - loss: 1.9462 - accuracy: 0.1387\n",
      "Epoch 297/500\n",
      "1361/1361 - 1s - loss: 1.9462 - accuracy: 0.1387\n",
      "Epoch 298/500\n",
      "1361/1361 - 1s - loss: 1.9462 - accuracy: 0.1387\n",
      "Epoch 299/500\n",
      "1361/1361 - 1s - loss: 1.9462 - accuracy: 0.1387\n",
      "Epoch 300/500\n",
      "1361/1361 - 1s - loss: 1.9462 - accuracy: 0.1387\n",
      "Epoch 301/500\n",
      "1361/1361 - 2s - loss: 1.9462 - accuracy: 0.1387\n",
      "Epoch 302/500\n",
      "1361/1361 - 2s - loss: 1.9462 - accuracy: 0.1387\n",
      "Epoch 303/500\n",
      "1361/1361 - 1s - loss: 1.9462 - accuracy: 0.1387\n",
      "Epoch 304/500\n",
      "1361/1361 - 1s - loss: 1.9462 - accuracy: 0.1387\n",
      "Epoch 305/500\n",
      "1361/1361 - 2s - loss: 1.9462 - accuracy: 0.1387\n",
      "Epoch 306/500\n",
      "1361/1361 - 1s - loss: 1.9462 - accuracy: 0.1387\n",
      "Epoch 307/500\n",
      "1361/1361 - 1s - loss: 1.9462 - accuracy: 0.1387\n",
      "Epoch 308/500\n",
      "1361/1361 - 2s - loss: 1.9462 - accuracy: 0.1387\n",
      "Epoch 309/500\n",
      "1361/1361 - 2s - loss: 1.9462 - accuracy: 0.1387\n",
      "Epoch 310/500\n",
      "1361/1361 - 1s - loss: 1.9462 - accuracy: 0.1387\n",
      "Epoch 311/500\n",
      "1361/1361 - 1s - loss: 1.9462 - accuracy: 0.1387\n",
      "Epoch 312/500\n",
      "1361/1361 - 1s - loss: 1.9462 - accuracy: 0.1387\n",
      "Epoch 313/500\n",
      "1361/1361 - 1s - loss: 1.9462 - accuracy: 0.1387\n",
      "Epoch 314/500\n",
      "1361/1361 - 1s - loss: 1.9462 - accuracy: 0.1387\n",
      "Epoch 315/500\n",
      "1361/1361 - 1s - loss: 1.9462 - accuracy: 0.1387\n",
      "Epoch 316/500\n",
      "1361/1361 - 1s - loss: 1.9462 - accuracy: 0.1387\n",
      "Epoch 317/500\n",
      "1361/1361 - 2s - loss: 1.9462 - accuracy: 0.1387\n",
      "Epoch 318/500\n",
      "1361/1361 - 1s - loss: 1.9462 - accuracy: 0.1387\n",
      "Epoch 319/500\n",
      "1361/1361 - 2s - loss: 1.9462 - accuracy: 0.1387\n",
      "Epoch 320/500\n",
      "1361/1361 - 2s - loss: 1.9462 - accuracy: 0.1387\n",
      "Epoch 321/500\n",
      "1361/1361 - 2s - loss: 1.9462 - accuracy: 0.1387\n",
      "Epoch 322/500\n",
      "1361/1361 - 1s - loss: 1.9462 - accuracy: 0.1387\n",
      "Epoch 323/500\n",
      "1361/1361 - 2s - loss: 1.9462 - accuracy: 0.1387\n",
      "Epoch 324/500\n",
      "1361/1361 - 2s - loss: 1.9462 - accuracy: 0.1387\n",
      "Epoch 325/500\n",
      "1361/1361 - 2s - loss: 1.9462 - accuracy: 0.1387\n",
      "Epoch 326/500\n",
      "1361/1361 - 2s - loss: 1.9462 - accuracy: 0.1387\n",
      "Epoch 327/500\n",
      "1361/1361 - 2s - loss: 1.9462 - accuracy: 0.1387\n",
      "Epoch 328/500\n",
      "1361/1361 - 2s - loss: 1.9462 - accuracy: 0.1387\n",
      "Epoch 329/500\n",
      "1361/1361 - 1s - loss: 1.9462 - accuracy: 0.1387\n",
      "Epoch 330/500\n",
      "1361/1361 - 2s - loss: 1.9462 - accuracy: 0.1387\n",
      "Epoch 331/500\n",
      "1361/1361 - 2s - loss: 1.9462 - accuracy: 0.1387\n",
      "Epoch 332/500\n",
      "1361/1361 - 1s - loss: 1.9462 - accuracy: 0.1387\n",
      "Epoch 333/500\n",
      "1361/1361 - 1s - loss: 1.9462 - accuracy: 0.1387\n",
      "Epoch 334/500\n",
      "1361/1361 - 1s - loss: 1.9462 - accuracy: 0.1387\n",
      "Epoch 335/500\n",
      "1361/1361 - 1s - loss: 1.9462 - accuracy: 0.1387\n",
      "Epoch 336/500\n",
      "1361/1361 - 1s - loss: 1.9462 - accuracy: 0.1387\n",
      "Epoch 337/500\n",
      "1361/1361 - 1s - loss: 1.9462 - accuracy: 0.1387\n",
      "Epoch 338/500\n",
      "1361/1361 - 1s - loss: 1.9462 - accuracy: 0.1387\n",
      "Epoch 339/500\n",
      "1361/1361 - 2s - loss: 1.9462 - accuracy: 0.1387\n",
      "Epoch 340/500\n",
      "1361/1361 - 2s - loss: 1.9462 - accuracy: 0.1387\n",
      "Epoch 341/500\n",
      "1361/1361 - 2s - loss: 1.9462 - accuracy: 0.1387\n",
      "Epoch 342/500\n",
      "1361/1361 - 2s - loss: 1.9462 - accuracy: 0.1387\n",
      "Epoch 343/500\n",
      "1361/1361 - 1s - loss: 1.9462 - accuracy: 0.1387\n",
      "Epoch 344/500\n",
      "1361/1361 - 2s - loss: 1.9462 - accuracy: 0.1387\n",
      "Epoch 345/500\n",
      "1361/1361 - 2s - loss: 1.9462 - accuracy: 0.1387\n",
      "Epoch 346/500\n",
      "1361/1361 - 2s - loss: 1.9462 - accuracy: 0.1387\n",
      "Epoch 347/500\n",
      "1361/1361 - 2s - loss: 1.9462 - accuracy: 0.1387\n",
      "Epoch 348/500\n",
      "1361/1361 - 2s - loss: 1.9462 - accuracy: 0.1387\n",
      "Epoch 349/500\n",
      "1361/1361 - 1s - loss: 1.9462 - accuracy: 0.1387\n",
      "Epoch 350/500\n",
      "1361/1361 - 1s - loss: 1.9462 - accuracy: 0.1387\n",
      "Epoch 351/500\n",
      "1361/1361 - 1s - loss: 1.9462 - accuracy: 0.1387\n",
      "Epoch 352/500\n",
      "1361/1361 - 1s - loss: 1.9462 - accuracy: 0.1387\n",
      "Epoch 353/500\n",
      "1361/1361 - 1s - loss: 1.9462 - accuracy: 0.1387\n",
      "Epoch 354/500\n",
      "1361/1361 - 1s - loss: 1.9462 - accuracy: 0.1387\n",
      "Epoch 355/500\n",
      "1361/1361 - 1s - loss: 1.9462 - accuracy: 0.1387\n",
      "Epoch 356/500\n",
      "1361/1361 - 1s - loss: 1.9462 - accuracy: 0.1387\n",
      "Epoch 357/500\n",
      "1361/1361 - 1s - loss: 1.9462 - accuracy: 0.1387\n",
      "Epoch 358/500\n",
      "1361/1361 - 1s - loss: 1.9462 - accuracy: 0.1387\n",
      "Epoch 359/500\n",
      "1361/1361 - 2s - loss: 1.9462 - accuracy: 0.1387\n",
      "Epoch 360/500\n",
      "1361/1361 - 1s - loss: 1.9462 - accuracy: 0.1387\n",
      "Epoch 361/500\n",
      "1361/1361 - 1s - loss: 1.9462 - accuracy: 0.1387\n",
      "Epoch 362/500\n",
      "1361/1361 - 1s - loss: 1.9462 - accuracy: 0.1387\n",
      "Epoch 363/500\n",
      "1361/1361 - 1s - loss: 1.9462 - accuracy: 0.1387\n",
      "Epoch 364/500\n",
      "1361/1361 - 1s - loss: 1.9462 - accuracy: 0.1387\n",
      "Epoch 365/500\n",
      "1361/1361 - 1s - loss: 1.9462 - accuracy: 0.1387\n",
      "Epoch 366/500\n",
      "1361/1361 - 1s - loss: 1.9462 - accuracy: 0.1387\n",
      "Epoch 367/500\n",
      "1361/1361 - 1s - loss: 1.9462 - accuracy: 0.1387\n",
      "Epoch 368/500\n",
      "1361/1361 - 1s - loss: 1.9462 - accuracy: 0.1387\n",
      "Epoch 369/500\n",
      "1361/1361 - 1s - loss: 1.9462 - accuracy: 0.1387\n",
      "Epoch 370/500\n",
      "1361/1361 - 2s - loss: 1.9462 - accuracy: 0.1387\n",
      "Epoch 371/500\n",
      "1361/1361 - 2s - loss: 1.9462 - accuracy: 0.1387\n",
      "Epoch 372/500\n",
      "1361/1361 - 2s - loss: 1.9462 - accuracy: 0.1387\n",
      "Epoch 373/500\n",
      "1361/1361 - 2s - loss: 1.9462 - accuracy: 0.1387\n",
      "Epoch 374/500\n",
      "1361/1361 - 2s - loss: 1.9462 - accuracy: 0.1387\n",
      "Epoch 375/500\n",
      "1361/1361 - 2s - loss: 1.9462 - accuracy: 0.1387\n",
      "Epoch 376/500\n",
      "1361/1361 - 2s - loss: 1.9462 - accuracy: 0.1387\n",
      "Epoch 377/500\n",
      "1361/1361 - 1s - loss: 1.9462 - accuracy: 0.1387\n",
      "Epoch 378/500\n",
      "1361/1361 - 2s - loss: 1.9462 - accuracy: 0.1387\n",
      "Epoch 379/500\n",
      "1361/1361 - 1s - loss: 1.9462 - accuracy: 0.1387\n",
      "Epoch 380/500\n",
      "1361/1361 - 1s - loss: 1.9462 - accuracy: 0.1387\n",
      "Epoch 381/500\n",
      "1361/1361 - 2s - loss: 1.9462 - accuracy: 0.1387\n",
      "Epoch 382/500\n",
      "1361/1361 - 1s - loss: 1.9462 - accuracy: 0.1387\n",
      "Epoch 383/500\n",
      "1361/1361 - 2s - loss: 1.9462 - accuracy: 0.1387\n",
      "Epoch 384/500\n",
      "1361/1361 - 2s - loss: 1.9462 - accuracy: 0.1387\n",
      "Epoch 385/500\n",
      "1361/1361 - 2s - loss: 1.9462 - accuracy: 0.1387\n",
      "Epoch 386/500\n",
      "1361/1361 - 2s - loss: 1.9462 - accuracy: 0.1387\n",
      "Epoch 387/500\n",
      "1361/1361 - 2s - loss: 1.9462 - accuracy: 0.1387\n",
      "Epoch 388/500\n",
      "1361/1361 - 1s - loss: 1.9462 - accuracy: 0.1387\n",
      "Epoch 389/500\n",
      "1361/1361 - 2s - loss: 1.9462 - accuracy: 0.1387\n",
      "Epoch 390/500\n",
      "1361/1361 - 1s - loss: 1.9462 - accuracy: 0.1387\n",
      "Epoch 391/500\n",
      "1361/1361 - 1s - loss: 1.9462 - accuracy: 0.1387\n",
      "Epoch 392/500\n",
      "1361/1361 - 1s - loss: 1.9462 - accuracy: 0.1387\n",
      "Epoch 393/500\n",
      "1361/1361 - 2s - loss: 1.9462 - accuracy: 0.1387\n"
     ]
    },
    {
     "name": "stdout",
     "output_type": "stream",
     "text": [
      "Epoch 394/500\n",
      "1361/1361 - 2s - loss: 1.9462 - accuracy: 0.1387\n",
      "Epoch 395/500\n",
      "1361/1361 - 2s - loss: 1.9462 - accuracy: 0.1387\n",
      "Epoch 396/500\n",
      "1361/1361 - 2s - loss: 1.9462 - accuracy: 0.1387\n",
      "Epoch 397/500\n",
      "1361/1361 - 2s - loss: 1.9462 - accuracy: 0.1387\n",
      "Epoch 398/500\n",
      "1361/1361 - 2s - loss: 1.9462 - accuracy: 0.1387\n",
      "Epoch 399/500\n",
      "1361/1361 - 2s - loss: 1.9462 - accuracy: 0.1387\n",
      "Epoch 400/500\n",
      "1361/1361 - 1s - loss: 1.9462 - accuracy: 0.1387\n",
      "Epoch 401/500\n",
      "1361/1361 - 1s - loss: 1.9462 - accuracy: 0.1387\n",
      "Epoch 402/500\n",
      "1361/1361 - 1s - loss: 1.9462 - accuracy: 0.1387\n",
      "Epoch 403/500\n",
      "1361/1361 - 1s - loss: 1.9462 - accuracy: 0.1387\n",
      "Epoch 404/500\n",
      "1361/1361 - 1s - loss: 1.9462 - accuracy: 0.1387\n",
      "Epoch 405/500\n",
      "1361/1361 - 1s - loss: 1.9462 - accuracy: 0.1387\n",
      "Epoch 406/500\n",
      "1361/1361 - 1s - loss: 1.9462 - accuracy: 0.1387\n",
      "Epoch 407/500\n",
      "1361/1361 - 1s - loss: 1.9462 - accuracy: 0.1387\n",
      "Epoch 408/500\n",
      "1361/1361 - 1s - loss: 1.9462 - accuracy: 0.1387\n",
      "Epoch 409/500\n",
      "1361/1361 - 1s - loss: 1.9462 - accuracy: 0.1387\n",
      "Epoch 410/500\n",
      "1361/1361 - 1s - loss: 1.9462 - accuracy: 0.1387\n",
      "Epoch 411/500\n",
      "1361/1361 - 1s - loss: 1.9462 - accuracy: 0.1387\n",
      "Epoch 412/500\n",
      "1361/1361 - 1s - loss: 1.9462 - accuracy: 0.1387\n",
      "Epoch 413/500\n",
      "1361/1361 - 1s - loss: 1.9462 - accuracy: 0.1387\n",
      "Epoch 414/500\n",
      "1361/1361 - 1s - loss: 1.9462 - accuracy: 0.1387\n",
      "Epoch 415/500\n",
      "1361/1361 - 2s - loss: 1.9462 - accuracy: 0.1387\n",
      "Epoch 416/500\n",
      "1361/1361 - 1s - loss: 1.9462 - accuracy: 0.1387\n",
      "Epoch 417/500\n",
      "1361/1361 - 1s - loss: 1.9462 - accuracy: 0.1387\n",
      "Epoch 418/500\n",
      "1361/1361 - 1s - loss: 1.9462 - accuracy: 0.1387\n",
      "Epoch 419/500\n",
      "1361/1361 - 1s - loss: 1.9462 - accuracy: 0.1387\n",
      "Epoch 420/500\n",
      "1361/1361 - 1s - loss: 1.9462 - accuracy: 0.1387\n",
      "Epoch 421/500\n",
      "1361/1361 - 1s - loss: 1.9462 - accuracy: 0.1387\n",
      "Epoch 422/500\n",
      "1361/1361 - 1s - loss: 1.9462 - accuracy: 0.1387\n",
      "Epoch 423/500\n",
      "1361/1361 - 1s - loss: 1.9462 - accuracy: 0.1387\n",
      "Epoch 424/500\n",
      "1361/1361 - 1s - loss: 1.9462 - accuracy: 0.1387\n",
      "Epoch 425/500\n",
      "1361/1361 - 1s - loss: 1.9462 - accuracy: 0.1387\n",
      "Epoch 426/500\n",
      "1361/1361 - 1s - loss: 1.9462 - accuracy: 0.1387\n",
      "Epoch 427/500\n",
      "1361/1361 - 1s - loss: 1.9462 - accuracy: 0.1387\n",
      "Epoch 428/500\n",
      "1361/1361 - 1s - loss: 1.9462 - accuracy: 0.1387\n",
      "Epoch 429/500\n",
      "1361/1361 - 1s - loss: 1.9462 - accuracy: 0.1387\n",
      "Epoch 430/500\n",
      "1361/1361 - 1s - loss: 1.9462 - accuracy: 0.1387\n",
      "Epoch 431/500\n",
      "1361/1361 - 1s - loss: 1.9462 - accuracy: 0.1387\n",
      "Epoch 432/500\n",
      "1361/1361 - 1s - loss: 1.9462 - accuracy: 0.1387\n",
      "Epoch 433/500\n",
      "1361/1361 - 1s - loss: 1.9462 - accuracy: 0.1387\n",
      "Epoch 434/500\n",
      "1361/1361 - 1s - loss: 1.9462 - accuracy: 0.1387\n",
      "Epoch 435/500\n",
      "1361/1361 - 1s - loss: 1.9462 - accuracy: 0.1387\n",
      "Epoch 436/500\n",
      "1361/1361 - 1s - loss: 1.9462 - accuracy: 0.1387\n",
      "Epoch 437/500\n",
      "1361/1361 - 2s - loss: 1.9462 - accuracy: 0.1387\n",
      "Epoch 438/500\n",
      "1361/1361 - 2s - loss: 1.9462 - accuracy: 0.1387\n",
      "Epoch 439/500\n",
      "1361/1361 - 2s - loss: 1.9462 - accuracy: 0.1387\n",
      "Epoch 440/500\n",
      "1361/1361 - 1s - loss: 1.9462 - accuracy: 0.1387\n",
      "Epoch 441/500\n",
      "1361/1361 - 1s - loss: 1.9462 - accuracy: 0.1387\n",
      "Epoch 442/500\n",
      "1361/1361 - 1s - loss: 1.9462 - accuracy: 0.1387\n",
      "Epoch 443/500\n",
      "1361/1361 - 1s - loss: 1.9462 - accuracy: 0.1387\n",
      "Epoch 444/500\n",
      "1361/1361 - 1s - loss: 1.9462 - accuracy: 0.1387\n",
      "Epoch 445/500\n",
      "1361/1361 - 1s - loss: 1.9462 - accuracy: 0.1387\n",
      "Epoch 446/500\n",
      "1361/1361 - 1s - loss: 1.9462 - accuracy: 0.1387\n",
      "Epoch 447/500\n",
      "1361/1361 - 1s - loss: 1.9462 - accuracy: 0.1387\n",
      "Epoch 448/500\n",
      "1361/1361 - 1s - loss: 1.9462 - accuracy: 0.1387\n",
      "Epoch 449/500\n",
      "1361/1361 - 1s - loss: 1.9462 - accuracy: 0.1387\n",
      "Epoch 450/500\n",
      "1361/1361 - 2s - loss: 1.9462 - accuracy: 0.1387\n",
      "Epoch 451/500\n",
      "1361/1361 - 2s - loss: 1.9462 - accuracy: 0.1387\n",
      "Epoch 452/500\n",
      "1361/1361 - 2s - loss: 1.9462 - accuracy: 0.1387\n",
      "Epoch 453/500\n",
      "1361/1361 - 1s - loss: 1.9462 - accuracy: 0.1387\n",
      "Epoch 454/500\n",
      "1361/1361 - 1s - loss: 1.9462 - accuracy: 0.1387\n",
      "Epoch 455/500\n",
      "1361/1361 - 1s - loss: 1.9462 - accuracy: 0.1387\n",
      "Epoch 456/500\n",
      "1361/1361 - 1s - loss: 1.9462 - accuracy: 0.1387\n",
      "Epoch 457/500\n",
      "1361/1361 - 1s - loss: 1.9462 - accuracy: 0.1387\n",
      "Epoch 458/500\n",
      "1361/1361 - 1s - loss: 1.9462 - accuracy: 0.1387\n",
      "Epoch 459/500\n",
      "1361/1361 - 1s - loss: 1.9462 - accuracy: 0.1387\n",
      "Epoch 460/500\n",
      "1361/1361 - 1s - loss: 1.9462 - accuracy: 0.1387\n",
      "Epoch 461/500\n",
      "1361/1361 - 1s - loss: 1.9462 - accuracy: 0.1387\n",
      "Epoch 462/500\n",
      "1361/1361 - 1s - loss: 1.9462 - accuracy: 0.1387\n",
      "Epoch 463/500\n",
      "1361/1361 - 1s - loss: 1.9462 - accuracy: 0.1387\n",
      "Epoch 464/500\n",
      "1361/1361 - 2s - loss: 1.9462 - accuracy: 0.1387\n",
      "Epoch 465/500\n",
      "1361/1361 - 1s - loss: 1.9462 - accuracy: 0.1387\n",
      "Epoch 466/500\n",
      "1361/1361 - 1s - loss: 1.9462 - accuracy: 0.1387\n",
      "Epoch 467/500\n",
      "1361/1361 - 1s - loss: 1.9462 - accuracy: 0.1387\n",
      "Epoch 468/500\n",
      "1361/1361 - 1s - loss: 1.9462 - accuracy: 0.1387\n",
      "Epoch 469/500\n",
      "1361/1361 - 1s - loss: 1.9462 - accuracy: 0.1387\n",
      "Epoch 470/500\n",
      "1361/1361 - 1s - loss: 1.9462 - accuracy: 0.1387\n",
      "Epoch 471/500\n",
      "1361/1361 - 1s - loss: 1.9462 - accuracy: 0.1387\n",
      "Epoch 472/500\n",
      "1361/1361 - 1s - loss: 1.9462 - accuracy: 0.1387\n",
      "Epoch 473/500\n",
      "1361/1361 - 1s - loss: 1.9462 - accuracy: 0.1387\n",
      "Epoch 474/500\n",
      "1361/1361 - 1s - loss: 1.9462 - accuracy: 0.1387\n",
      "Epoch 475/500\n",
      "1361/1361 - 1s - loss: 1.9462 - accuracy: 0.1387\n",
      "Epoch 476/500\n",
      "1361/1361 - 1s - loss: 1.9462 - accuracy: 0.1387\n",
      "Epoch 477/500\n",
      "1361/1361 - 1s - loss: 1.9462 - accuracy: 0.1387\n",
      "Epoch 478/500\n",
      "1361/1361 - 1s - loss: 1.9462 - accuracy: 0.1387\n",
      "Epoch 479/500\n",
      "1361/1361 - 2s - loss: 1.9462 - accuracy: 0.1387\n",
      "Epoch 480/500\n",
      "1361/1361 - 1s - loss: 1.9462 - accuracy: 0.1387\n",
      "Epoch 481/500\n",
      "1361/1361 - 1s - loss: 1.9462 - accuracy: 0.1387\n",
      "Epoch 482/500\n",
      "1361/1361 - 1s - loss: 1.9462 - accuracy: 0.1387\n",
      "Epoch 483/500\n",
      "1361/1361 - 1s - loss: 1.9462 - accuracy: 0.1387\n",
      "Epoch 484/500\n",
      "1361/1361 - 1s - loss: 1.9462 - accuracy: 0.1387\n",
      "Epoch 485/500\n",
      "1361/1361 - 2s - loss: 1.9462 - accuracy: 0.1387\n",
      "Epoch 486/500\n",
      "1361/1361 - 2s - loss: 1.9462 - accuracy: 0.1387\n",
      "Epoch 487/500\n",
      "1361/1361 - 1s - loss: 1.9462 - accuracy: 0.1387\n",
      "Epoch 488/500\n",
      "1361/1361 - 1s - loss: 1.9462 - accuracy: 0.1387\n",
      "Epoch 489/500\n",
      "1361/1361 - 1s - loss: 1.9462 - accuracy: 0.1387\n",
      "Epoch 490/500\n",
      "1361/1361 - 1s - loss: 1.9462 - accuracy: 0.1387\n",
      "Epoch 491/500\n",
      "1361/1361 - 1s - loss: 1.9462 - accuracy: 0.1387\n",
      "Epoch 492/500\n",
      "1361/1361 - 1s - loss: 1.9462 - accuracy: 0.1387\n",
      "Epoch 493/500\n",
      "1361/1361 - 1s - loss: 1.9462 - accuracy: 0.1387\n",
      "Epoch 494/500\n",
      "1361/1361 - 1s - loss: 1.9462 - accuracy: 0.1387\n",
      "Epoch 495/500\n",
      "1361/1361 - 1s - loss: 1.9462 - accuracy: 0.1387\n",
      "Epoch 496/500\n",
      "1361/1361 - 1s - loss: 1.9462 - accuracy: 0.1387\n",
      "Epoch 497/500\n",
      "1361/1361 - 2s - loss: 1.9462 - accuracy: 0.1387\n",
      "Epoch 498/500\n",
      "1361/1361 - 2s - loss: 1.9462 - accuracy: 0.1387\n",
      "Epoch 499/500\n",
      "1361/1361 - 2s - loss: 1.9462 - accuracy: 0.1387\n",
      "Epoch 500/500\n",
      "1361/1361 - 1s - loss: 1.9462 - accuracy: 0.1387\n",
      "Dev score: 1.9460192918777466\n",
      "Dev accuracy: 0.14153438806533813\n",
      "Train time = 938.84\n"
     ]
    }
   ],
   "source": [
    "## Model\n",
    "model = Sequential() \n",
    "model.add(Dense(units=8, input_dim=54, activation='relu'))\n",
    "model.add(Dropout(0.5))\n",
    "model.add(Dense(units=7, input_dim=8, activation='softmax')) \n",
    "\n",
    "## Cost function & Objective (and solver)\n",
    "adam = optimizers.Adam(learning_rate=0.001)\n",
    "model.compile(optimizer=adam, loss='categorical_crossentropy', metrics=['accuracy'])\n",
    "start_time = time.time()\n",
    "history = model.fit(train_data, train_label_b, shuffle=False, batch_size=10,verbose=2, epochs=500) \n",
    "score = model.evaluate(dev_data, dev_label_b, verbose=0) \n",
    "print('Dev score:', score[0]) \n",
    "print('Dev accuracy:', score[1])\n",
    "print ('Train time = %.2f' %(time.time() - start_time))\n"
   ]
  },
  {
   "cell_type": "markdown",
   "id": "3b082a51",
   "metadata": {},
   "source": [
    "***As it can be seen from above, we tried using the multi-layer neuralnet model over 500 epochs, but it's just not converging. It may be because there are just 54 features.***"
   ]
  },
  {
   "cell_type": "markdown",
   "id": "fe1b76d2",
   "metadata": {},
   "source": [
    "### Model 8: Additional Approach"
   ]
  },
  {
   "cell_type": "markdown",
   "id": "1e258d50",
   "metadata": {},
   "source": [
    "### Gaussian Mixture Model"
   ]
  },
  {
   "cell_type": "markdown",
   "id": "fb010356",
   "metadata": {},
   "source": [
    "Unsupervised learning approach - GMM with PCA\n",
    "We also tried an unsupervised learning approach, where we loop through a combination of Gaussian Mixture models and dimensionality reduction via Principal Component Analysis in order to try and predict labels. \n",
    "\n",
    "Utilizing this approach yields a dev accuracy of 70% in the best scenario."
   ]
  },
  {
   "cell_type": "code",
   "execution_count": 40,
   "id": "cc8c27a8",
   "metadata": {},
   "outputs": [
    {
     "name": "stdout",
     "output_type": "stream",
     "text": [
      "******Finding the best combination of PCA Components, Mixture Components, Covariance Matrix Type******\n"
     ]
    },
    {
     "data": {
      "text/html": [
       "<div>\n",
       "<style scoped>\n",
       "    .dataframe tbody tr th:only-of-type {\n",
       "        vertical-align: middle;\n",
       "    }\n",
       "\n",
       "    .dataframe tbody tr th {\n",
       "        vertical-align: top;\n",
       "    }\n",
       "\n",
       "    .dataframe thead th {\n",
       "        text-align: right;\n",
       "    }\n",
       "</style>\n",
       "<table border=\"1\" class=\"dataframe\">\n",
       "  <thead>\n",
       "    <tr style=\"text-align: right;\">\n",
       "      <th></th>\n",
       "      <th>PCA_Components</th>\n",
       "      <th>GMM_Mixture_Components</th>\n",
       "      <th>Covariance_Matrix_type</th>\n",
       "      <th>N_Components</th>\n",
       "      <th>Accuracy</th>\n",
       "    </tr>\n",
       "  </thead>\n",
       "  <tbody>\n",
       "    <tr>\n",
       "      <th>259</th>\n",
       "      <td>8</td>\n",
       "      <td>3</td>\n",
       "      <td>full</td>\n",
       "      <td>96</td>\n",
       "      <td>0.706349</td>\n",
       "    </tr>\n",
       "    <tr>\n",
       "      <th>291</th>\n",
       "      <td>12</td>\n",
       "      <td>2</td>\n",
       "      <td>full</td>\n",
       "      <td>96</td>\n",
       "      <td>0.687831</td>\n",
       "    </tr>\n",
       "    <tr>\n",
       "      <th>294</th>\n",
       "      <td>13</td>\n",
       "      <td>1</td>\n",
       "      <td>tied</td>\n",
       "      <td>52</td>\n",
       "      <td>0.677249</td>\n",
       "    </tr>\n",
       "    <tr>\n",
       "      <th>295</th>\n",
       "      <td>13</td>\n",
       "      <td>1</td>\n",
       "      <td>full</td>\n",
       "      <td>52</td>\n",
       "      <td>0.676587</td>\n",
       "    </tr>\n",
       "    <tr>\n",
       "      <th>274</th>\n",
       "      <td>10</td>\n",
       "      <td>2</td>\n",
       "      <td>tied</td>\n",
       "      <td>80</td>\n",
       "      <td>0.671958</td>\n",
       "    </tr>\n",
       "    <tr>\n",
       "      <th>...</th>\n",
       "      <td>...</td>\n",
       "      <td>...</td>\n",
       "      <td>...</td>\n",
       "      <td>...</td>\n",
       "      <td>...</td>\n",
       "    </tr>\n",
       "    <tr>\n",
       "      <th>252</th>\n",
       "      <td>8</td>\n",
       "      <td>2</td>\n",
       "      <td>spherical</td>\n",
       "      <td>64</td>\n",
       "      <td>0.214947</td>\n",
       "    </tr>\n",
       "    <tr>\n",
       "      <th>204</th>\n",
       "      <td>5</td>\n",
       "      <td>2</td>\n",
       "      <td>spherical</td>\n",
       "      <td>40</td>\n",
       "      <td>0.213624</td>\n",
       "    </tr>\n",
       "    <tr>\n",
       "      <th>240</th>\n",
       "      <td>7</td>\n",
       "      <td>2</td>\n",
       "      <td>spherical</td>\n",
       "      <td>56</td>\n",
       "      <td>0.211640</td>\n",
       "    </tr>\n",
       "    <tr>\n",
       "      <th>280</th>\n",
       "      <td>11</td>\n",
       "      <td>2</td>\n",
       "      <td>spherical</td>\n",
       "      <td>88</td>\n",
       "      <td>0.208333</td>\n",
       "    </tr>\n",
       "    <tr>\n",
       "      <th>264</th>\n",
       "      <td>9</td>\n",
       "      <td>2</td>\n",
       "      <td>spherical</td>\n",
       "      <td>72</td>\n",
       "      <td>0.208333</td>\n",
       "    </tr>\n",
       "  </tbody>\n",
       "</table>\n",
       "<p>340 rows × 5 columns</p>\n",
       "</div>"
      ],
      "text/plain": [
       "     PCA_Components  GMM_Mixture_Components Covariance_Matrix_type  \\\n",
       "259               8                       3                   full   \n",
       "291              12                       2                   full   \n",
       "294              13                       1                   tied   \n",
       "295              13                       1                   full   \n",
       "274              10                       2                   tied   \n",
       "..              ...                     ...                    ...   \n",
       "252               8                       2              spherical   \n",
       "204               5                       2              spherical   \n",
       "240               7                       2              spherical   \n",
       "280              11                       2              spherical   \n",
       "264               9                       2              spherical   \n",
       "\n",
       "     N_Components  Accuracy  \n",
       "259            96  0.706349  \n",
       "291            96  0.687831  \n",
       "294            52  0.677249  \n",
       "295            52  0.676587  \n",
       "274            80  0.671958  \n",
       "..            ...       ...  \n",
       "252            64  0.214947  \n",
       "204            40  0.213624  \n",
       "240            56  0.211640  \n",
       "280            88  0.208333  \n",
       "264            72  0.208333  \n",
       "\n",
       "[340 rows x 5 columns]"
      ]
     },
     "metadata": {},
     "output_type": "display_data"
    },
    {
     "name": "stdout",
     "output_type": "stream",
     "text": [
      "The combination of parameters that resulted in the best accuracy was:\n",
      "Optimum number of PCA components: 8\n",
      "Optimum number of GMM components: 3\n",
      "Covariance Type: full\n",
      "Max accuracy: 0.7063492063492064\n",
      "Train time = 98.72\n"
     ]
    }
   ],
   "source": [
    "## Gaussian Mixture Models\n",
    "\n",
    "#The following code will instantiate 7 instances of Gaussian Mixture Models (1 for each label)\n",
    "#It will then loop through various combinations of principal components until it finds a combination\n",
    "#of GMMs/PCA components that will best predict the dev labels.\n",
    "\n",
    "def gaussian_mixture_model(train_data, train_label, dev_data, dev_label):\n",
    "    def GMM_PCA_test(pca_components, mixture_components, covariance_type):\n",
    "        pca = PCA(n_components=pca_components)\n",
    "        principal_components_train = pca.fit_transform(train_data) #Fit the model and apply the dimensionality reduction.\n",
    "\n",
    "        #Initialize Gaussian Mixture Models (1 for each label)\n",
    "        gmm1 = GaussianMixture(n_components = mixture_components, covariance_type = covariance_type) #first gmm for positive examples\n",
    "        gmm2 = GaussianMixture(n_components = mixture_components, covariance_type = covariance_type) #second gmm for negative examples\n",
    "        gmm3 = GaussianMixture(n_components = mixture_components, covariance_type = covariance_type) #third gmm for negative examples\n",
    "        gmm4 = GaussianMixture(n_components = mixture_components, covariance_type = covariance_type) #fourth gmm for negative examples\n",
    "        gmm5 = GaussianMixture(n_components = mixture_components, covariance_type = covariance_type) #fifth gmm for negative examples\n",
    "        gmm6 = GaussianMixture(n_components = mixture_components, covariance_type = covariance_type) #sixth gmm for negative examples\n",
    "        gmm7 = GaussianMixture(n_components = mixture_components, covariance_type = covariance_type) #seventh gmm for negative examples\n",
    "\n",
    "        #Boolean mask depending on value of train_label\n",
    "        train_array_1 = (train_label == 1) #boolean masking array if train_label = 1\n",
    "        train_array_2 = (train_label == 2) #boolean masking array if train_label = 2\n",
    "        train_array_3 = (train_label == 3) #boolean masking array if train_label = 3\n",
    "        train_array_4 = (train_label == 4) #boolean masking array if train_label = 4\n",
    "        train_array_5 = (train_label == 5) #boolean masking array if train_label = 5\n",
    "        train_array_6 = (train_label == 6) #boolean masking array if train_label = 6\n",
    "        train_array_7 = (train_label == 7) #boolean masking array if train_label = 7\n",
    "\n",
    "        #split principal components transformed array into 7 (by categories of covertype/label)\n",
    "        pc_train_1 = principal_components_train[train_array_1]\n",
    "        pc_train_2 = principal_components_train[train_array_2]\n",
    "        pc_train_3 = principal_components_train[train_array_3]\n",
    "        pc_train_4 = principal_components_train[train_array_4]\n",
    "        pc_train_5 = principal_components_train[train_array_5]\n",
    "        pc_train_6 = principal_components_train[train_array_6]\n",
    "        pc_train_7 = principal_components_train[train_array_7]\n",
    "\n",
    "        #Fit split Principal Component data to respective Gaussian Mixture Model\n",
    "        gmm1.fit(pc_train_1)\n",
    "        gmm2.fit(pc_train_2)\n",
    "        gmm3.fit(pc_train_3)\n",
    "        gmm4.fit(pc_train_4)\n",
    "        gmm5.fit(pc_train_5)\n",
    "        gmm6.fit(pc_train_6)\n",
    "        gmm7.fit(pc_train_7)\n",
    "\n",
    "        pca_dim_red_dev = pca.transform(dev_data) #Apply dimensionality reduction to dev_data\n",
    "\n",
    "        #Fit PCA reduced dev data to the Gaussian Mixture Model\n",
    "        gmm_dev1 = np.exp(gmm1.score_samples(pca_dim_red_dev))\n",
    "        gmm_dev2 = np.exp(gmm2.score_samples(pca_dim_red_dev)) \n",
    "        gmm_dev3 = np.exp(gmm3.score_samples(pca_dim_red_dev)) \n",
    "        gmm_dev4 = np.exp(gmm4.score_samples(pca_dim_red_dev)) \n",
    "        gmm_dev5 = np.exp(gmm5.score_samples(pca_dim_red_dev))\n",
    "        gmm_dev6 = np.exp(gmm6.score_samples(pca_dim_red_dev))\n",
    "        gmm_dev7 = np.exp(gmm7.score_samples(pca_dim_red_dev))\n",
    "\n",
    "        stacked_gmms = np.stack((gmm_dev1, gmm_dev2, gmm_dev3, gmm_dev4, gmm_dev5, gmm_dev6, gmm_dev7))\n",
    "\n",
    "        predicted_results = np.argmax(stacked_gmms, axis=0) + 1 #return maximum value of stacked array and return array position + 1 (since array position starts at 0 and labels start at 1)\n",
    "\n",
    "        comp_array = (predicted_results == dev_label) * 1 #compare our predicted results against our dev labels\n",
    "\n",
    "        accuracy_numerator = np.sum(comp_array) #how many matches we got    \n",
    "\n",
    "        accuracy_denominator = dev_label.shape[0] #length of array\n",
    "\n",
    "        accuracy = accuracy_numerator/accuracy_denominator #calculate accuracy\n",
    "\n",
    "        return (accuracy, predicted_results)\n",
    "\n",
    "    #initialize covariance matrix type vars to loop through\n",
    "\n",
    "    cov_matrix_type = ['spherical', 'diag', 'tied', 'full'] \n",
    "\n",
    "    #initialize vars\n",
    "    optimum_pca_components = 0\n",
    "    optimum_mixture_components = 0\n",
    "    optimum_cov_matrix_type = 0\n",
    "    max_accuracy = 0\n",
    "    best_labels = np.array([0])\n",
    "\n",
    "    #lists to append to for the Pandas table/output\n",
    "    n_components_array = []\n",
    "    pca_components_array = []\n",
    "    mixture_components_array =  []\n",
    "    cov_matrix_type_array = []\n",
    "    cur_accuracy_array = []\n",
    "\n",
    "    start_time = time.time()\n",
    "    for i in range(1,25): #num of PCA components \n",
    "        for j in range(1,25): #num of GMM mixture components \n",
    "            for k in cov_matrix_type: #loop through covariance matrix types\n",
    "                if ((i+i) * j * 2) <= 100: #try combination of parameters  if there would be 100 or fewer parameters\n",
    "                    model = GMM_PCA_test(i, j, k)\n",
    "                    cur_accuracy = model[0]\n",
    "                    pca_components_array.append(i)\n",
    "                    mixture_components_array.append(j)\n",
    "                    cov_matrix_type_array.append(k)\n",
    "                    cur_accuracy_array.append(cur_accuracy)\n",
    "                    n_components_array.append((i+i) * j * 2)\n",
    "                    if cur_accuracy > max_accuracy:\n",
    "                        max_accuracy = cur_accuracy\n",
    "                        optimum_pca_components = i\n",
    "                        optimum_mixture_components = j\n",
    "                        optimum_cov_matrix_type = k\n",
    "                        best_labels = model[1]\n",
    "                    else:\n",
    "                        continue\n",
    "                else:\n",
    "                    continue\n",
    "        \n",
    "    df = pd.DataFrame({\"PCA_Components\": pca_components_array, \n",
    "                         \"GMM_Mixture_Components\":mixture_components_array,\n",
    "                         \"Covariance_Matrix_type\": cov_matrix_type_array, \n",
    "                         \"N_Components\": n_components_array,\n",
    "                         \"Accuracy\":cur_accuracy_array,\n",
    "                     })\n",
    "\n",
    "\n",
    "    print(\"******Finding the best combination of PCA Components, Mixture Components, Covariance Matrix Type******\")\n",
    "    display(df.sort_values(by=['Accuracy'], ascending = False)) #display pd table sorted by highest accuracy value\n",
    "\n",
    "    print(\"The combination of parameters that resulted in the best accuracy was:\")\n",
    "    print(\"Optimum number of PCA components: \" + str(optimum_pca_components))\n",
    "    print(\"Optimum number of GMM components: \" + str(optimum_mixture_components))\n",
    "    print(\"Covariance Type: \" + str(optimum_cov_matrix_type))\n",
    "    print(\"Max accuracy: \" + str(max_accuracy))\n",
    "    print ('Train time = %.2f' %(time.time() - start_time))\n",
    "\n",
    "\n",
    "\n",
    "#Fit_all_data_scalers will scale the data according to the type of data passed in.\n",
    "\n",
    "def fit_all_data_scalers( scaler_type, train_data, dev_data ):\n",
    "    column_list = ['Elevation', 'Aspect', 'Slope','Horizontal_Distance_To_Hydrology','Vertical_Distance_To_Hydrology', 'Horizontal_Distance_To_Roadways',\n",
    "       'Hillshade_9am', 'Hillshade_Noon', 'Hillshade_3pm','Horizontal_Distance_To_Fire_Points']\n",
    "    for column_name in column_list:\n",
    "        if scaler_type == 'MinMax' :\n",
    "            scaler = MinMaxScaler(feature_range=(0, 1))\n",
    "        if scaler_type == 'Robust':\n",
    "            scaler = RobustScaler()\n",
    "        else:\n",
    "            scaler = StandardScaler()\n",
    "        column_index = train_df.columns.get_loc(column_name) - 1\n",
    "        train_data[:,column_index] = scaler.fit_transform(train_data[:,column_index].reshape(-1,1)).reshape(-1)\n",
    "        dev_data[:,column_index] =  (scaler.transform(dev_data[:,column_index].reshape(-1,1)).reshape(-1))\n",
    "    return train_data, dev_data \n",
    "\n",
    "\n",
    "scaler_type = 'MinMax'\n",
    "train_data_trans, dev_data_trans = fit_all_data_scalers(scaler_type,  np.copy(np.float32(train_data)), np.copy(np.float32(dev_data)))\n",
    "\n",
    "\n",
    "#Run Gaussian Mixture Model/PCA approach with scaled data\n",
    "gaussian_mixture_model(train_data_trans, train_label, dev_data_trans, dev_label)"
   ]
  },
  {
   "cell_type": "markdown",
   "id": "a602ee00",
   "metadata": {},
   "source": [
    "## Conclusions"
   ]
  },
  {
   "cell_type": "markdown",
   "id": "a9971f96",
   "metadata": {},
   "source": [
    "A total of 8 models and some model variations were ran to predict the Cover_Type in our development data. Below is a summary of the accuracies obtained:\n",
    "\n",
    "- **Model 1:** k Nearest Neighbors (accuracy: 85%)\n",
    "- **Model 2:** Decision trees (accuracy: 69%), including Random Forests Classifier (accuracy: 69.8%) and Adaboost (accuracy: 52.2%)\n",
    "- **Model 3:** Naive Bayes: Bernoulli Naive Bayes (accuracy: 61%) and Gaussian Naive Bayes (accuracy: 59%)\n",
    "- **Model 4:** Logistic regression (accuracy: 68%)\n",
    "- **Model 5:** Stochastic Gradient Descent (accuracy: 66%)\n",
    "- **Model 6:** Support Vector machine (accuracy: 85%)\n",
    "- **Model 7:** Neural Networks: Neural Netoworks with mini gradient descent (accuracy: 51.7%), Neural Netoworks with stochastic gradient descent (accuracy: 52.3%), NN with Adam optimizer and learning rate of 0.001 (accuracy: 59.1%), Multi-layer Neural Networks (not converging)\n",
    "- **Model 8:** Gaussian Mixture Model (accuracy: 70.6%)"
   ]
  },
  {
   "cell_type": "markdown",
   "id": "7af518f9",
   "metadata": {},
   "source": [
    "The highest accuracy was obtained with Model 1 - K Nearest Neighbors and Model 6 - Support Vector Machine both with an accuracy of 85%. \n",
    "\n",
    "***Note: when tried with non-scaled data, SVM performs the worst with an accuracy of just 16%)***"
   ]
  },
  {
   "cell_type": "markdown",
   "id": "2b1fc86b",
   "metadata": {},
   "source": [
    "Although Support Vector Machine(SVM) has a higher accuracy than Random Forest, we would still be going ahead and submitting `Random Forest Classifier` with an accuracy of ~ 70% as our best model because of the below advantages of Random Forest over SVM:\n",
    "\n",
    "- `Random Forest` is intrinsically suited for multiclass problems, while SVM is intrinsically two-class. For multiclass problem, while using SVM, it is needed to reduce it into multiple binary classification problems.\n",
    "\n",
    "- `Random Forest` works well with a mixture of numerical and categorical features, even when features are on the various scales. Basically, with `Random Forest` we can use data as they are. SVM maximizes the \"margin\" and thus relies on the concept of \"distance\" between different points. In that case it falls on us to decide if \"distance\" is meaningful. As a consequence, in SVM, one-hot encoding for categorical features is a must-do. Further, min-max or other scaling is highly recommended at preprocessing step for SVM.\n",
    "\n",
    "- For a classification problem, `Random Forest` gives the probability of belonging to class whereas SVM gives the distance to the boundary, Hence, for those problems, where SVM applies, it generally performs better than `Random Forest`. But the caveat here is that, for SVM, we still need to convert it to probability somehow if we need probability. "
   ]
  },
  {
   "cell_type": "code",
   "execution_count": null,
   "id": "8168dfe2",
   "metadata": {},
   "outputs": [],
   "source": []
  }
 ],
 "metadata": {
  "editable": true,
  "kernelspec": {
   "display_name": "Python 3",
   "language": "python",
   "name": "python3"
  },
  "language_info": {
   "codemirror_mode": {
    "name": "ipython",
    "version": 3
   },
   "file_extension": ".py",
   "mimetype": "text/x-python",
   "name": "python",
   "nbconvert_exporter": "python",
   "pygments_lexer": "ipython3",
   "version": "3.8.3"
  },
  "papermill": {
   "default_parameters": {},
   "duration": 549.117555,
   "end_time": "2021-07-20T22:30:45.872509",
   "environment_variables": {},
   "exception": false,
   "input_path": "__notebook__.ipynb",
   "output_path": "__notebook__.ipynb",
   "parameters": {},
   "start_time": "2021-07-20T22:21:36.754954",
   "status": "completed",
   "version": "2.3.3"
  }
 },
 "nbformat": 4,
 "nbformat_minor": 5
}
